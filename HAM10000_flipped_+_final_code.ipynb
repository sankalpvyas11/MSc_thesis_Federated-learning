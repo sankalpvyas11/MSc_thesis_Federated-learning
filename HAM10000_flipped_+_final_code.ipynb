{
  "cells": [
    {
      "cell_type": "code",
      "execution_count": null,
      "metadata": {
        "id": "BX4Ggtmk0zVq"
      },
      "outputs": [],
      "source": [
        "# Importing all the necessary libraries\n",
        "import seaborn as sns\n",
        "import matplotlib.pyplot as plt\n",
        "import numpy as np\n",
        "import pandas as pd\n",
        "import random\n",
        "import os, cv2\n",
        "import tensorflow as tf\n",
        "\n",
        "from sklearn.preprocessing import LabelBinarizer\n",
        "from sklearn.utils import shuffle\n",
        "from sklearn.model_selection import train_test_split\n",
        "from sklearn.metrics import classification_report\n",
        "from sklearn.metrics import confusion_matrix\n",
        "from sklearn.metrics import accuracy_score\n",
        "from tensorflow.keras.models import Sequential\n",
        "from tensorflow.keras.layers import Activation\n",
        "from tensorflow.keras.optimizers import SGD\n",
        "from tensorflow.keras import backend as K\n",
        "from tensorflow.keras.layers import Conv2D, Flatten, Dense, MaxPool2D"
      ]
    },
    {
      "cell_type": "code",
      "execution_count": null,
      "metadata": {
        "colab": {
          "base_uri": "https://localhost:8080/"
        },
        "id": "M8tSAtZvB91Q",
        "outputId": "38cf1c45-1283-4ad6-983a-e34e8a178409"
      },
      "outputs": [
        {
          "output_type": "stream",
          "name": "stdout",
          "text": [
            "Mounted at /content/drive\n"
          ]
        }
      ],
      "source": [
        "from google.colab import drive\n",
        "drive.mount('/content/drive')"
      ]
    },
    {
      "cell_type": "code",
      "execution_count": null,
      "metadata": {
        "id": "aN-8892fCEkN"
      },
      "outputs": [],
      "source": [
        "# Importing the data\n",
        "\n",
        "data = pd.read_csv('/content/drive/MyDrive/ham_10000/HAM10000_28.28_L.csv')"
      ]
    },
    {
      "cell_type": "markdown",
      "metadata": {
        "id": "yK8v-CAXMle0"
      },
      "source": [
        "Visualising Dataset"
      ]
    },
    {
      "cell_type": "code",
      "execution_count": null,
      "metadata": {
        "colab": {
          "base_uri": "https://localhost:8080/",
          "height": 487
        },
        "id": "W_RXzcCIMZkp",
        "outputId": "ce3c45ce-d907-45ef-d3c7-b7e014550f8e"
      },
      "outputs": [
        {
          "output_type": "execute_result",
          "data": {
            "text/plain": [
              "       pixel0000  pixel0001  pixel0002  pixel0003  pixel0004  pixel0005  \\\n",
              "0            169        171        170        177        181        182   \n",
              "1             19         57        105        140        149        148   \n",
              "2            155        163        161        167        167        172   \n",
              "3             25         71        116        139        136        153   \n",
              "4            129        162        181        196        205        208   \n",
              "...          ...        ...        ...        ...        ...        ...   \n",
              "10010        172        171        173        175        164        187   \n",
              "10011          2         34        108        116        114        119   \n",
              "10012        122        154        162        170        179        197   \n",
              "10013        137        143        141        139        147        152   \n",
              "10014        149        157        157        152        151        152   \n",
              "\n",
              "       pixel0006  pixel0007  pixel0008  pixel0009  ...  pixel0775  pixel0776  \\\n",
              "0            181        185        194        192  ...        184        186   \n",
              "1            144        155        170        170  ...        172        175   \n",
              "2            155        152        165        175  ...        163        178   \n",
              "3            148        161        172        162  ...        125        135   \n",
              "4            205        213        225        224  ...        210        197   \n",
              "...          ...        ...        ...        ...  ...        ...        ...   \n",
              "10010        207        210        208        206  ...        210        217   \n",
              "10011        131        139        139        145  ...        173        169   \n",
              "10012        200        195        202        199  ...        221        215   \n",
              "10013        155        152        155        159  ...        172        171   \n",
              "10014        154        163        149        145  ...        159        154   \n",
              "\n",
              "       pixel0777  pixel0778  pixel0779  pixel0780  pixel0781  pixel0782  \\\n",
              "0            185        180        157        140        140        159   \n",
              "1            160        144        114         89         47         18   \n",
              "2            157        166        167        148        141        136   \n",
              "3            138        137        111         71         32         16   \n",
              "4            172        190        195        193        181        147   \n",
              "...          ...        ...        ...        ...        ...        ...   \n",
              "10010        221        209        185        187        192        192   \n",
              "10011        168        168        143        138         83         23   \n",
              "10012        205        187        209        198        187        164   \n",
              "10013        175        183        177        170        169        166   \n",
              "10014        145        106         67         62        103        146   \n",
              "\n",
              "       pixel0783  label  \n",
              "0            165      2  \n",
              "1             18      2  \n",
              "2            115      2  \n",
              "3             16      2  \n",
              "4             88      2  \n",
              "...          ...    ...  \n",
              "10010        192      0  \n",
              "10011          3      0  \n",
              "10012        156      0  \n",
              "10013        170      0  \n",
              "10014        148      6  \n",
              "\n",
              "[10015 rows x 785 columns]"
            ],
            "text/html": [
              "\n",
              "  <div id=\"df-883cc099-8fa6-4d55-b523-361276a6219f\">\n",
              "    <div class=\"colab-df-container\">\n",
              "      <div>\n",
              "<style scoped>\n",
              "    .dataframe tbody tr th:only-of-type {\n",
              "        vertical-align: middle;\n",
              "    }\n",
              "\n",
              "    .dataframe tbody tr th {\n",
              "        vertical-align: top;\n",
              "    }\n",
              "\n",
              "    .dataframe thead th {\n",
              "        text-align: right;\n",
              "    }\n",
              "</style>\n",
              "<table border=\"1\" class=\"dataframe\">\n",
              "  <thead>\n",
              "    <tr style=\"text-align: right;\">\n",
              "      <th></th>\n",
              "      <th>pixel0000</th>\n",
              "      <th>pixel0001</th>\n",
              "      <th>pixel0002</th>\n",
              "      <th>pixel0003</th>\n",
              "      <th>pixel0004</th>\n",
              "      <th>pixel0005</th>\n",
              "      <th>pixel0006</th>\n",
              "      <th>pixel0007</th>\n",
              "      <th>pixel0008</th>\n",
              "      <th>pixel0009</th>\n",
              "      <th>...</th>\n",
              "      <th>pixel0775</th>\n",
              "      <th>pixel0776</th>\n",
              "      <th>pixel0777</th>\n",
              "      <th>pixel0778</th>\n",
              "      <th>pixel0779</th>\n",
              "      <th>pixel0780</th>\n",
              "      <th>pixel0781</th>\n",
              "      <th>pixel0782</th>\n",
              "      <th>pixel0783</th>\n",
              "      <th>label</th>\n",
              "    </tr>\n",
              "  </thead>\n",
              "  <tbody>\n",
              "    <tr>\n",
              "      <th>0</th>\n",
              "      <td>169</td>\n",
              "      <td>171</td>\n",
              "      <td>170</td>\n",
              "      <td>177</td>\n",
              "      <td>181</td>\n",
              "      <td>182</td>\n",
              "      <td>181</td>\n",
              "      <td>185</td>\n",
              "      <td>194</td>\n",
              "      <td>192</td>\n",
              "      <td>...</td>\n",
              "      <td>184</td>\n",
              "      <td>186</td>\n",
              "      <td>185</td>\n",
              "      <td>180</td>\n",
              "      <td>157</td>\n",
              "      <td>140</td>\n",
              "      <td>140</td>\n",
              "      <td>159</td>\n",
              "      <td>165</td>\n",
              "      <td>2</td>\n",
              "    </tr>\n",
              "    <tr>\n",
              "      <th>1</th>\n",
              "      <td>19</td>\n",
              "      <td>57</td>\n",
              "      <td>105</td>\n",
              "      <td>140</td>\n",
              "      <td>149</td>\n",
              "      <td>148</td>\n",
              "      <td>144</td>\n",
              "      <td>155</td>\n",
              "      <td>170</td>\n",
              "      <td>170</td>\n",
              "      <td>...</td>\n",
              "      <td>172</td>\n",
              "      <td>175</td>\n",
              "      <td>160</td>\n",
              "      <td>144</td>\n",
              "      <td>114</td>\n",
              "      <td>89</td>\n",
              "      <td>47</td>\n",
              "      <td>18</td>\n",
              "      <td>18</td>\n",
              "      <td>2</td>\n",
              "    </tr>\n",
              "    <tr>\n",
              "      <th>2</th>\n",
              "      <td>155</td>\n",
              "      <td>163</td>\n",
              "      <td>161</td>\n",
              "      <td>167</td>\n",
              "      <td>167</td>\n",
              "      <td>172</td>\n",
              "      <td>155</td>\n",
              "      <td>152</td>\n",
              "      <td>165</td>\n",
              "      <td>175</td>\n",
              "      <td>...</td>\n",
              "      <td>163</td>\n",
              "      <td>178</td>\n",
              "      <td>157</td>\n",
              "      <td>166</td>\n",
              "      <td>167</td>\n",
              "      <td>148</td>\n",
              "      <td>141</td>\n",
              "      <td>136</td>\n",
              "      <td>115</td>\n",
              "      <td>2</td>\n",
              "    </tr>\n",
              "    <tr>\n",
              "      <th>3</th>\n",
              "      <td>25</td>\n",
              "      <td>71</td>\n",
              "      <td>116</td>\n",
              "      <td>139</td>\n",
              "      <td>136</td>\n",
              "      <td>153</td>\n",
              "      <td>148</td>\n",
              "      <td>161</td>\n",
              "      <td>172</td>\n",
              "      <td>162</td>\n",
              "      <td>...</td>\n",
              "      <td>125</td>\n",
              "      <td>135</td>\n",
              "      <td>138</td>\n",
              "      <td>137</td>\n",
              "      <td>111</td>\n",
              "      <td>71</td>\n",
              "      <td>32</td>\n",
              "      <td>16</td>\n",
              "      <td>16</td>\n",
              "      <td>2</td>\n",
              "    </tr>\n",
              "    <tr>\n",
              "      <th>4</th>\n",
              "      <td>129</td>\n",
              "      <td>162</td>\n",
              "      <td>181</td>\n",
              "      <td>196</td>\n",
              "      <td>205</td>\n",
              "      <td>208</td>\n",
              "      <td>205</td>\n",
              "      <td>213</td>\n",
              "      <td>225</td>\n",
              "      <td>224</td>\n",
              "      <td>...</td>\n",
              "      <td>210</td>\n",
              "      <td>197</td>\n",
              "      <td>172</td>\n",
              "      <td>190</td>\n",
              "      <td>195</td>\n",
              "      <td>193</td>\n",
              "      <td>181</td>\n",
              "      <td>147</td>\n",
              "      <td>88</td>\n",
              "      <td>2</td>\n",
              "    </tr>\n",
              "    <tr>\n",
              "      <th>...</th>\n",
              "      <td>...</td>\n",
              "      <td>...</td>\n",
              "      <td>...</td>\n",
              "      <td>...</td>\n",
              "      <td>...</td>\n",
              "      <td>...</td>\n",
              "      <td>...</td>\n",
              "      <td>...</td>\n",
              "      <td>...</td>\n",
              "      <td>...</td>\n",
              "      <td>...</td>\n",
              "      <td>...</td>\n",
              "      <td>...</td>\n",
              "      <td>...</td>\n",
              "      <td>...</td>\n",
              "      <td>...</td>\n",
              "      <td>...</td>\n",
              "      <td>...</td>\n",
              "      <td>...</td>\n",
              "      <td>...</td>\n",
              "      <td>...</td>\n",
              "    </tr>\n",
              "    <tr>\n",
              "      <th>10010</th>\n",
              "      <td>172</td>\n",
              "      <td>171</td>\n",
              "      <td>173</td>\n",
              "      <td>175</td>\n",
              "      <td>164</td>\n",
              "      <td>187</td>\n",
              "      <td>207</td>\n",
              "      <td>210</td>\n",
              "      <td>208</td>\n",
              "      <td>206</td>\n",
              "      <td>...</td>\n",
              "      <td>210</td>\n",
              "      <td>217</td>\n",
              "      <td>221</td>\n",
              "      <td>209</td>\n",
              "      <td>185</td>\n",
              "      <td>187</td>\n",
              "      <td>192</td>\n",
              "      <td>192</td>\n",
              "      <td>192</td>\n",
              "      <td>0</td>\n",
              "    </tr>\n",
              "    <tr>\n",
              "      <th>10011</th>\n",
              "      <td>2</td>\n",
              "      <td>34</td>\n",
              "      <td>108</td>\n",
              "      <td>116</td>\n",
              "      <td>114</td>\n",
              "      <td>119</td>\n",
              "      <td>131</td>\n",
              "      <td>139</td>\n",
              "      <td>139</td>\n",
              "      <td>145</td>\n",
              "      <td>...</td>\n",
              "      <td>173</td>\n",
              "      <td>169</td>\n",
              "      <td>168</td>\n",
              "      <td>168</td>\n",
              "      <td>143</td>\n",
              "      <td>138</td>\n",
              "      <td>83</td>\n",
              "      <td>23</td>\n",
              "      <td>3</td>\n",
              "      <td>0</td>\n",
              "    </tr>\n",
              "    <tr>\n",
              "      <th>10012</th>\n",
              "      <td>122</td>\n",
              "      <td>154</td>\n",
              "      <td>162</td>\n",
              "      <td>170</td>\n",
              "      <td>179</td>\n",
              "      <td>197</td>\n",
              "      <td>200</td>\n",
              "      <td>195</td>\n",
              "      <td>202</td>\n",
              "      <td>199</td>\n",
              "      <td>...</td>\n",
              "      <td>221</td>\n",
              "      <td>215</td>\n",
              "      <td>205</td>\n",
              "      <td>187</td>\n",
              "      <td>209</td>\n",
              "      <td>198</td>\n",
              "      <td>187</td>\n",
              "      <td>164</td>\n",
              "      <td>156</td>\n",
              "      <td>0</td>\n",
              "    </tr>\n",
              "    <tr>\n",
              "      <th>10013</th>\n",
              "      <td>137</td>\n",
              "      <td>143</td>\n",
              "      <td>141</td>\n",
              "      <td>139</td>\n",
              "      <td>147</td>\n",
              "      <td>152</td>\n",
              "      <td>155</td>\n",
              "      <td>152</td>\n",
              "      <td>155</td>\n",
              "      <td>159</td>\n",
              "      <td>...</td>\n",
              "      <td>172</td>\n",
              "      <td>171</td>\n",
              "      <td>175</td>\n",
              "      <td>183</td>\n",
              "      <td>177</td>\n",
              "      <td>170</td>\n",
              "      <td>169</td>\n",
              "      <td>166</td>\n",
              "      <td>170</td>\n",
              "      <td>0</td>\n",
              "    </tr>\n",
              "    <tr>\n",
              "      <th>10014</th>\n",
              "      <td>149</td>\n",
              "      <td>157</td>\n",
              "      <td>157</td>\n",
              "      <td>152</td>\n",
              "      <td>151</td>\n",
              "      <td>152</td>\n",
              "      <td>154</td>\n",
              "      <td>163</td>\n",
              "      <td>149</td>\n",
              "      <td>145</td>\n",
              "      <td>...</td>\n",
              "      <td>159</td>\n",
              "      <td>154</td>\n",
              "      <td>145</td>\n",
              "      <td>106</td>\n",
              "      <td>67</td>\n",
              "      <td>62</td>\n",
              "      <td>103</td>\n",
              "      <td>146</td>\n",
              "      <td>148</td>\n",
              "      <td>6</td>\n",
              "    </tr>\n",
              "  </tbody>\n",
              "</table>\n",
              "<p>10015 rows × 785 columns</p>\n",
              "</div>\n",
              "      <button class=\"colab-df-convert\" onclick=\"convertToInteractive('df-883cc099-8fa6-4d55-b523-361276a6219f')\"\n",
              "              title=\"Convert this dataframe to an interactive table.\"\n",
              "              style=\"display:none;\">\n",
              "        \n",
              "  <svg xmlns=\"http://www.w3.org/2000/svg\" height=\"24px\"viewBox=\"0 0 24 24\"\n",
              "       width=\"24px\">\n",
              "    <path d=\"M0 0h24v24H0V0z\" fill=\"none\"/>\n",
              "    <path d=\"M18.56 5.44l.94 2.06.94-2.06 2.06-.94-2.06-.94-.94-2.06-.94 2.06-2.06.94zm-11 1L8.5 8.5l.94-2.06 2.06-.94-2.06-.94L8.5 2.5l-.94 2.06-2.06.94zm10 10l.94 2.06.94-2.06 2.06-.94-2.06-.94-.94-2.06-.94 2.06-2.06.94z\"/><path d=\"M17.41 7.96l-1.37-1.37c-.4-.4-.92-.59-1.43-.59-.52 0-1.04.2-1.43.59L10.3 9.45l-7.72 7.72c-.78.78-.78 2.05 0 2.83L4 21.41c.39.39.9.59 1.41.59.51 0 1.02-.2 1.41-.59l7.78-7.78 2.81-2.81c.8-.78.8-2.07 0-2.86zM5.41 20L4 18.59l7.72-7.72 1.47 1.35L5.41 20z\"/>\n",
              "  </svg>\n",
              "      </button>\n",
              "      \n",
              "  <style>\n",
              "    .colab-df-container {\n",
              "      display:flex;\n",
              "      flex-wrap:wrap;\n",
              "      gap: 12px;\n",
              "    }\n",
              "\n",
              "    .colab-df-convert {\n",
              "      background-color: #E8F0FE;\n",
              "      border: none;\n",
              "      border-radius: 50%;\n",
              "      cursor: pointer;\n",
              "      display: none;\n",
              "      fill: #1967D2;\n",
              "      height: 32px;\n",
              "      padding: 0 0 0 0;\n",
              "      width: 32px;\n",
              "    }\n",
              "\n",
              "    .colab-df-convert:hover {\n",
              "      background-color: #E2EBFA;\n",
              "      box-shadow: 0px 1px 2px rgba(60, 64, 67, 0.3), 0px 1px 3px 1px rgba(60, 64, 67, 0.15);\n",
              "      fill: #174EA6;\n",
              "    }\n",
              "\n",
              "    [theme=dark] .colab-df-convert {\n",
              "      background-color: #3B4455;\n",
              "      fill: #D2E3FC;\n",
              "    }\n",
              "\n",
              "    [theme=dark] .colab-df-convert:hover {\n",
              "      background-color: #434B5C;\n",
              "      box-shadow: 0px 1px 3px 1px rgba(0, 0, 0, 0.15);\n",
              "      filter: drop-shadow(0px 1px 2px rgba(0, 0, 0, 0.3));\n",
              "      fill: #FFFFFF;\n",
              "    }\n",
              "  </style>\n",
              "\n",
              "      <script>\n",
              "        const buttonEl =\n",
              "          document.querySelector('#df-883cc099-8fa6-4d55-b523-361276a6219f button.colab-df-convert');\n",
              "        buttonEl.style.display =\n",
              "          google.colab.kernel.accessAllowed ? 'block' : 'none';\n",
              "\n",
              "        async function convertToInteractive(key) {\n",
              "          const element = document.querySelector('#df-883cc099-8fa6-4d55-b523-361276a6219f');\n",
              "          const dataTable =\n",
              "            await google.colab.kernel.invokeFunction('convertToInteractive',\n",
              "                                                     [key], {});\n",
              "          if (!dataTable) return;\n",
              "\n",
              "          const docLinkHtml = 'Like what you see? Visit the ' +\n",
              "            '<a target=\"_blank\" href=https://colab.research.google.com/notebooks/data_table.ipynb>data table notebook</a>'\n",
              "            + ' to learn more about interactive tables.';\n",
              "          element.innerHTML = '';\n",
              "          dataTable['output_type'] = 'display_data';\n",
              "          await google.colab.output.renderOutput(dataTable, element);\n",
              "          const docLink = document.createElement('div');\n",
              "          docLink.innerHTML = docLinkHtml;\n",
              "          element.appendChild(docLink);\n",
              "        }\n",
              "      </script>\n",
              "    </div>\n",
              "  </div>\n",
              "  "
            ]
          },
          "metadata": {},
          "execution_count": 4
        }
      ],
      "source": [
        "data"
      ]
    },
    {
      "cell_type": "markdown",
      "metadata": {
        "id": "EPO3BaSkRUXg"
      },
      "source": [
        "# Preprocessing dataset"
      ]
    },
    {
      "cell_type": "code",
      "execution_count": null,
      "metadata": {
        "colab": {
          "base_uri": "https://localhost:8080/"
        },
        "id": "afVORmXiRTw6",
        "outputId": "c4e5fa66-0132-49cb-8893-25c25a288db3"
      },
      "outputs": [
        {
          "output_type": "execute_result",
          "data": {
            "text/plain": [
              "0"
            ]
          },
          "metadata": {},
          "execution_count": 5
        }
      ],
      "source": [
        "data.isna().sum().sum()"
      ]
    },
    {
      "cell_type": "code",
      "execution_count": null,
      "metadata": {
        "id": "47l062NvRZw1"
      },
      "outputs": [],
      "source": [
        "y = data['label'].copy()\n",
        "X = data.drop('label', axis=1).copy()"
      ]
    },
    {
      "cell_type": "markdown",
      "metadata": {
        "id": "e-4T9PfWRchB"
      },
      "source": [
        "There are 7 possible labels.\n",
        "\n",
        "From the dataset provider:\n",
        "\n",
        "0: nv - Melanocytic nevi\n",
        "1: mel - Melanoma\n",
        "2: bkl - Benign keratosis-like lesions\n",
        "3: bcc - Basal cell carcinoma\n",
        "4: akiec - Actinic keratoses and intraepithelial carcinoma / Bowen's disease\n",
        "5: vasc - Vascular lesions\n",
        "6: df - Dermatofibroma"
      ]
    },
    {
      "cell_type": "code",
      "execution_count": null,
      "metadata": {
        "colab": {
          "base_uri": "https://localhost:8080/"
        },
        "id": "c1GVdL4ERZuY",
        "outputId": "7c3c3ec4-2b6c-4b09-f5fb-cefc59eacc70"
      },
      "outputs": [
        {
          "output_type": "execute_result",
          "data": {
            "text/plain": [
              "4    6705\n",
              "6    1113\n",
              "2    1099\n",
              "1     514\n",
              "0     327\n",
              "5     142\n",
              "3     115\n",
              "Name: label, dtype: int64"
            ]
          },
          "metadata": {},
          "execution_count": 7
        }
      ],
      "source": [
        "y.value_counts()"
      ]
    },
    {
      "cell_type": "code",
      "execution_count": null,
      "metadata": {
        "id": "jsebaeCERgEX"
      },
      "outputs": [],
      "source": [
        "label_mapping = {\n",
        "    0: 'nv',\n",
        "    1: 'mel',\n",
        "    2: 'bkl',\n",
        "    3: 'bcc',\n",
        "    4: 'akiec',\n",
        "    5: 'vasc',\n",
        "    6: 'df'\n",
        "}"
      ]
    },
    {
      "cell_type": "markdown",
      "metadata": {
        "id": "8rWYg6V1Rj2g"
      },
      "source": [
        "Rescaling"
      ]
    },
    {
      "cell_type": "code",
      "execution_count": null,
      "metadata": {
        "colab": {
          "base_uri": "https://localhost:8080/",
          "height": 487
        },
        "id": "JzdsoTJ2RZrH",
        "outputId": "e85491dd-52ab-4ade-c2d6-c369583415b4"
      },
      "outputs": [
        {
          "output_type": "execute_result",
          "data": {
            "text/plain": [
              "       pixel0000  pixel0001  pixel0002  pixel0003  pixel0004  pixel0005  \\\n",
              "0       0.662745   0.670588   0.666667   0.694118   0.709804   0.713725   \n",
              "1       0.074510   0.223529   0.411765   0.549020   0.584314   0.580392   \n",
              "2       0.607843   0.639216   0.631373   0.654902   0.654902   0.674510   \n",
              "3       0.098039   0.278431   0.454902   0.545098   0.533333   0.600000   \n",
              "4       0.505882   0.635294   0.709804   0.768627   0.803922   0.815686   \n",
              "...          ...        ...        ...        ...        ...        ...   \n",
              "10010   0.674510   0.670588   0.678431   0.686275   0.643137   0.733333   \n",
              "10011   0.007843   0.133333   0.423529   0.454902   0.447059   0.466667   \n",
              "10012   0.478431   0.603922   0.635294   0.666667   0.701961   0.772549   \n",
              "10013   0.537255   0.560784   0.552941   0.545098   0.576471   0.596078   \n",
              "10014   0.584314   0.615686   0.615686   0.596078   0.592157   0.596078   \n",
              "\n",
              "       pixel0006  pixel0007  pixel0008  pixel0009  ...  pixel0774  pixel0775  \\\n",
              "0       0.709804   0.725490   0.760784   0.752941  ...   0.690196   0.721569   \n",
              "1       0.564706   0.607843   0.666667   0.666667  ...   0.709804   0.674510   \n",
              "2       0.607843   0.596078   0.647059   0.686275  ...   0.635294   0.639216   \n",
              "3       0.580392   0.631373   0.674510   0.635294  ...   0.556863   0.490196   \n",
              "4       0.803922   0.835294   0.882353   0.878431  ...   0.827451   0.823529   \n",
              "...          ...        ...        ...        ...  ...        ...        ...   \n",
              "10010   0.811765   0.823529   0.815686   0.807843  ...   0.823529   0.823529   \n",
              "10011   0.513725   0.545098   0.545098   0.568627  ...   0.721569   0.678431   \n",
              "10012   0.784314   0.764706   0.792157   0.780392  ...   0.874510   0.866667   \n",
              "10013   0.607843   0.596078   0.607843   0.623529  ...   0.698039   0.674510   \n",
              "10014   0.603922   0.639216   0.584314   0.568627  ...   0.650980   0.623529   \n",
              "\n",
              "       pixel0776  pixel0777  pixel0778  pixel0779  pixel0780  pixel0781  \\\n",
              "0       0.729412   0.725490   0.705882   0.615686   0.549020   0.549020   \n",
              "1       0.686275   0.627451   0.564706   0.447059   0.349020   0.184314   \n",
              "2       0.698039   0.615686   0.650980   0.654902   0.580392   0.552941   \n",
              "3       0.529412   0.541176   0.537255   0.435294   0.278431   0.125490   \n",
              "4       0.772549   0.674510   0.745098   0.764706   0.756863   0.709804   \n",
              "...          ...        ...        ...        ...        ...        ...   \n",
              "10010   0.850980   0.866667   0.819608   0.725490   0.733333   0.752941   \n",
              "10011   0.662745   0.658824   0.658824   0.560784   0.541176   0.325490   \n",
              "10012   0.843137   0.803922   0.733333   0.819608   0.776471   0.733333   \n",
              "10013   0.670588   0.686275   0.717647   0.694118   0.666667   0.662745   \n",
              "10014   0.603922   0.568627   0.415686   0.262745   0.243137   0.403922   \n",
              "\n",
              "       pixel0782  pixel0783  \n",
              "0       0.623529   0.647059  \n",
              "1       0.070588   0.070588  \n",
              "2       0.533333   0.450980  \n",
              "3       0.062745   0.062745  \n",
              "4       0.576471   0.345098  \n",
              "...          ...        ...  \n",
              "10010   0.752941   0.752941  \n",
              "10011   0.090196   0.011765  \n",
              "10012   0.643137   0.611765  \n",
              "10013   0.650980   0.666667  \n",
              "10014   0.572549   0.580392  \n",
              "\n",
              "[10015 rows x 784 columns]"
            ],
            "text/html": [
              "\n",
              "  <div id=\"df-f168262c-a586-4024-9bf5-e28272c3c145\">\n",
              "    <div class=\"colab-df-container\">\n",
              "      <div>\n",
              "<style scoped>\n",
              "    .dataframe tbody tr th:only-of-type {\n",
              "        vertical-align: middle;\n",
              "    }\n",
              "\n",
              "    .dataframe tbody tr th {\n",
              "        vertical-align: top;\n",
              "    }\n",
              "\n",
              "    .dataframe thead th {\n",
              "        text-align: right;\n",
              "    }\n",
              "</style>\n",
              "<table border=\"1\" class=\"dataframe\">\n",
              "  <thead>\n",
              "    <tr style=\"text-align: right;\">\n",
              "      <th></th>\n",
              "      <th>pixel0000</th>\n",
              "      <th>pixel0001</th>\n",
              "      <th>pixel0002</th>\n",
              "      <th>pixel0003</th>\n",
              "      <th>pixel0004</th>\n",
              "      <th>pixel0005</th>\n",
              "      <th>pixel0006</th>\n",
              "      <th>pixel0007</th>\n",
              "      <th>pixel0008</th>\n",
              "      <th>pixel0009</th>\n",
              "      <th>...</th>\n",
              "      <th>pixel0774</th>\n",
              "      <th>pixel0775</th>\n",
              "      <th>pixel0776</th>\n",
              "      <th>pixel0777</th>\n",
              "      <th>pixel0778</th>\n",
              "      <th>pixel0779</th>\n",
              "      <th>pixel0780</th>\n",
              "      <th>pixel0781</th>\n",
              "      <th>pixel0782</th>\n",
              "      <th>pixel0783</th>\n",
              "    </tr>\n",
              "  </thead>\n",
              "  <tbody>\n",
              "    <tr>\n",
              "      <th>0</th>\n",
              "      <td>0.662745</td>\n",
              "      <td>0.670588</td>\n",
              "      <td>0.666667</td>\n",
              "      <td>0.694118</td>\n",
              "      <td>0.709804</td>\n",
              "      <td>0.713725</td>\n",
              "      <td>0.709804</td>\n",
              "      <td>0.725490</td>\n",
              "      <td>0.760784</td>\n",
              "      <td>0.752941</td>\n",
              "      <td>...</td>\n",
              "      <td>0.690196</td>\n",
              "      <td>0.721569</td>\n",
              "      <td>0.729412</td>\n",
              "      <td>0.725490</td>\n",
              "      <td>0.705882</td>\n",
              "      <td>0.615686</td>\n",
              "      <td>0.549020</td>\n",
              "      <td>0.549020</td>\n",
              "      <td>0.623529</td>\n",
              "      <td>0.647059</td>\n",
              "    </tr>\n",
              "    <tr>\n",
              "      <th>1</th>\n",
              "      <td>0.074510</td>\n",
              "      <td>0.223529</td>\n",
              "      <td>0.411765</td>\n",
              "      <td>0.549020</td>\n",
              "      <td>0.584314</td>\n",
              "      <td>0.580392</td>\n",
              "      <td>0.564706</td>\n",
              "      <td>0.607843</td>\n",
              "      <td>0.666667</td>\n",
              "      <td>0.666667</td>\n",
              "      <td>...</td>\n",
              "      <td>0.709804</td>\n",
              "      <td>0.674510</td>\n",
              "      <td>0.686275</td>\n",
              "      <td>0.627451</td>\n",
              "      <td>0.564706</td>\n",
              "      <td>0.447059</td>\n",
              "      <td>0.349020</td>\n",
              "      <td>0.184314</td>\n",
              "      <td>0.070588</td>\n",
              "      <td>0.070588</td>\n",
              "    </tr>\n",
              "    <tr>\n",
              "      <th>2</th>\n",
              "      <td>0.607843</td>\n",
              "      <td>0.639216</td>\n",
              "      <td>0.631373</td>\n",
              "      <td>0.654902</td>\n",
              "      <td>0.654902</td>\n",
              "      <td>0.674510</td>\n",
              "      <td>0.607843</td>\n",
              "      <td>0.596078</td>\n",
              "      <td>0.647059</td>\n",
              "      <td>0.686275</td>\n",
              "      <td>...</td>\n",
              "      <td>0.635294</td>\n",
              "      <td>0.639216</td>\n",
              "      <td>0.698039</td>\n",
              "      <td>0.615686</td>\n",
              "      <td>0.650980</td>\n",
              "      <td>0.654902</td>\n",
              "      <td>0.580392</td>\n",
              "      <td>0.552941</td>\n",
              "      <td>0.533333</td>\n",
              "      <td>0.450980</td>\n",
              "    </tr>\n",
              "    <tr>\n",
              "      <th>3</th>\n",
              "      <td>0.098039</td>\n",
              "      <td>0.278431</td>\n",
              "      <td>0.454902</td>\n",
              "      <td>0.545098</td>\n",
              "      <td>0.533333</td>\n",
              "      <td>0.600000</td>\n",
              "      <td>0.580392</td>\n",
              "      <td>0.631373</td>\n",
              "      <td>0.674510</td>\n",
              "      <td>0.635294</td>\n",
              "      <td>...</td>\n",
              "      <td>0.556863</td>\n",
              "      <td>0.490196</td>\n",
              "      <td>0.529412</td>\n",
              "      <td>0.541176</td>\n",
              "      <td>0.537255</td>\n",
              "      <td>0.435294</td>\n",
              "      <td>0.278431</td>\n",
              "      <td>0.125490</td>\n",
              "      <td>0.062745</td>\n",
              "      <td>0.062745</td>\n",
              "    </tr>\n",
              "    <tr>\n",
              "      <th>4</th>\n",
              "      <td>0.505882</td>\n",
              "      <td>0.635294</td>\n",
              "      <td>0.709804</td>\n",
              "      <td>0.768627</td>\n",
              "      <td>0.803922</td>\n",
              "      <td>0.815686</td>\n",
              "      <td>0.803922</td>\n",
              "      <td>0.835294</td>\n",
              "      <td>0.882353</td>\n",
              "      <td>0.878431</td>\n",
              "      <td>...</td>\n",
              "      <td>0.827451</td>\n",
              "      <td>0.823529</td>\n",
              "      <td>0.772549</td>\n",
              "      <td>0.674510</td>\n",
              "      <td>0.745098</td>\n",
              "      <td>0.764706</td>\n",
              "      <td>0.756863</td>\n",
              "      <td>0.709804</td>\n",
              "      <td>0.576471</td>\n",
              "      <td>0.345098</td>\n",
              "    </tr>\n",
              "    <tr>\n",
              "      <th>...</th>\n",
              "      <td>...</td>\n",
              "      <td>...</td>\n",
              "      <td>...</td>\n",
              "      <td>...</td>\n",
              "      <td>...</td>\n",
              "      <td>...</td>\n",
              "      <td>...</td>\n",
              "      <td>...</td>\n",
              "      <td>...</td>\n",
              "      <td>...</td>\n",
              "      <td>...</td>\n",
              "      <td>...</td>\n",
              "      <td>...</td>\n",
              "      <td>...</td>\n",
              "      <td>...</td>\n",
              "      <td>...</td>\n",
              "      <td>...</td>\n",
              "      <td>...</td>\n",
              "      <td>...</td>\n",
              "      <td>...</td>\n",
              "      <td>...</td>\n",
              "    </tr>\n",
              "    <tr>\n",
              "      <th>10010</th>\n",
              "      <td>0.674510</td>\n",
              "      <td>0.670588</td>\n",
              "      <td>0.678431</td>\n",
              "      <td>0.686275</td>\n",
              "      <td>0.643137</td>\n",
              "      <td>0.733333</td>\n",
              "      <td>0.811765</td>\n",
              "      <td>0.823529</td>\n",
              "      <td>0.815686</td>\n",
              "      <td>0.807843</td>\n",
              "      <td>...</td>\n",
              "      <td>0.823529</td>\n",
              "      <td>0.823529</td>\n",
              "      <td>0.850980</td>\n",
              "      <td>0.866667</td>\n",
              "      <td>0.819608</td>\n",
              "      <td>0.725490</td>\n",
              "      <td>0.733333</td>\n",
              "      <td>0.752941</td>\n",
              "      <td>0.752941</td>\n",
              "      <td>0.752941</td>\n",
              "    </tr>\n",
              "    <tr>\n",
              "      <th>10011</th>\n",
              "      <td>0.007843</td>\n",
              "      <td>0.133333</td>\n",
              "      <td>0.423529</td>\n",
              "      <td>0.454902</td>\n",
              "      <td>0.447059</td>\n",
              "      <td>0.466667</td>\n",
              "      <td>0.513725</td>\n",
              "      <td>0.545098</td>\n",
              "      <td>0.545098</td>\n",
              "      <td>0.568627</td>\n",
              "      <td>...</td>\n",
              "      <td>0.721569</td>\n",
              "      <td>0.678431</td>\n",
              "      <td>0.662745</td>\n",
              "      <td>0.658824</td>\n",
              "      <td>0.658824</td>\n",
              "      <td>0.560784</td>\n",
              "      <td>0.541176</td>\n",
              "      <td>0.325490</td>\n",
              "      <td>0.090196</td>\n",
              "      <td>0.011765</td>\n",
              "    </tr>\n",
              "    <tr>\n",
              "      <th>10012</th>\n",
              "      <td>0.478431</td>\n",
              "      <td>0.603922</td>\n",
              "      <td>0.635294</td>\n",
              "      <td>0.666667</td>\n",
              "      <td>0.701961</td>\n",
              "      <td>0.772549</td>\n",
              "      <td>0.784314</td>\n",
              "      <td>0.764706</td>\n",
              "      <td>0.792157</td>\n",
              "      <td>0.780392</td>\n",
              "      <td>...</td>\n",
              "      <td>0.874510</td>\n",
              "      <td>0.866667</td>\n",
              "      <td>0.843137</td>\n",
              "      <td>0.803922</td>\n",
              "      <td>0.733333</td>\n",
              "      <td>0.819608</td>\n",
              "      <td>0.776471</td>\n",
              "      <td>0.733333</td>\n",
              "      <td>0.643137</td>\n",
              "      <td>0.611765</td>\n",
              "    </tr>\n",
              "    <tr>\n",
              "      <th>10013</th>\n",
              "      <td>0.537255</td>\n",
              "      <td>0.560784</td>\n",
              "      <td>0.552941</td>\n",
              "      <td>0.545098</td>\n",
              "      <td>0.576471</td>\n",
              "      <td>0.596078</td>\n",
              "      <td>0.607843</td>\n",
              "      <td>0.596078</td>\n",
              "      <td>0.607843</td>\n",
              "      <td>0.623529</td>\n",
              "      <td>...</td>\n",
              "      <td>0.698039</td>\n",
              "      <td>0.674510</td>\n",
              "      <td>0.670588</td>\n",
              "      <td>0.686275</td>\n",
              "      <td>0.717647</td>\n",
              "      <td>0.694118</td>\n",
              "      <td>0.666667</td>\n",
              "      <td>0.662745</td>\n",
              "      <td>0.650980</td>\n",
              "      <td>0.666667</td>\n",
              "    </tr>\n",
              "    <tr>\n",
              "      <th>10014</th>\n",
              "      <td>0.584314</td>\n",
              "      <td>0.615686</td>\n",
              "      <td>0.615686</td>\n",
              "      <td>0.596078</td>\n",
              "      <td>0.592157</td>\n",
              "      <td>0.596078</td>\n",
              "      <td>0.603922</td>\n",
              "      <td>0.639216</td>\n",
              "      <td>0.584314</td>\n",
              "      <td>0.568627</td>\n",
              "      <td>...</td>\n",
              "      <td>0.650980</td>\n",
              "      <td>0.623529</td>\n",
              "      <td>0.603922</td>\n",
              "      <td>0.568627</td>\n",
              "      <td>0.415686</td>\n",
              "      <td>0.262745</td>\n",
              "      <td>0.243137</td>\n",
              "      <td>0.403922</td>\n",
              "      <td>0.572549</td>\n",
              "      <td>0.580392</td>\n",
              "    </tr>\n",
              "  </tbody>\n",
              "</table>\n",
              "<p>10015 rows × 784 columns</p>\n",
              "</div>\n",
              "      <button class=\"colab-df-convert\" onclick=\"convertToInteractive('df-f168262c-a586-4024-9bf5-e28272c3c145')\"\n",
              "              title=\"Convert this dataframe to an interactive table.\"\n",
              "              style=\"display:none;\">\n",
              "        \n",
              "  <svg xmlns=\"http://www.w3.org/2000/svg\" height=\"24px\"viewBox=\"0 0 24 24\"\n",
              "       width=\"24px\">\n",
              "    <path d=\"M0 0h24v24H0V0z\" fill=\"none\"/>\n",
              "    <path d=\"M18.56 5.44l.94 2.06.94-2.06 2.06-.94-2.06-.94-.94-2.06-.94 2.06-2.06.94zm-11 1L8.5 8.5l.94-2.06 2.06-.94-2.06-.94L8.5 2.5l-.94 2.06-2.06.94zm10 10l.94 2.06.94-2.06 2.06-.94-2.06-.94-.94-2.06-.94 2.06-2.06.94z\"/><path d=\"M17.41 7.96l-1.37-1.37c-.4-.4-.92-.59-1.43-.59-.52 0-1.04.2-1.43.59L10.3 9.45l-7.72 7.72c-.78.78-.78 2.05 0 2.83L4 21.41c.39.39.9.59 1.41.59.51 0 1.02-.2 1.41-.59l7.78-7.78 2.81-2.81c.8-.78.8-2.07 0-2.86zM5.41 20L4 18.59l7.72-7.72 1.47 1.35L5.41 20z\"/>\n",
              "  </svg>\n",
              "      </button>\n",
              "      \n",
              "  <style>\n",
              "    .colab-df-container {\n",
              "      display:flex;\n",
              "      flex-wrap:wrap;\n",
              "      gap: 12px;\n",
              "    }\n",
              "\n",
              "    .colab-df-convert {\n",
              "      background-color: #E8F0FE;\n",
              "      border: none;\n",
              "      border-radius: 50%;\n",
              "      cursor: pointer;\n",
              "      display: none;\n",
              "      fill: #1967D2;\n",
              "      height: 32px;\n",
              "      padding: 0 0 0 0;\n",
              "      width: 32px;\n",
              "    }\n",
              "\n",
              "    .colab-df-convert:hover {\n",
              "      background-color: #E2EBFA;\n",
              "      box-shadow: 0px 1px 2px rgba(60, 64, 67, 0.3), 0px 1px 3px 1px rgba(60, 64, 67, 0.15);\n",
              "      fill: #174EA6;\n",
              "    }\n",
              "\n",
              "    [theme=dark] .colab-df-convert {\n",
              "      background-color: #3B4455;\n",
              "      fill: #D2E3FC;\n",
              "    }\n",
              "\n",
              "    [theme=dark] .colab-df-convert:hover {\n",
              "      background-color: #434B5C;\n",
              "      box-shadow: 0px 1px 3px 1px rgba(0, 0, 0, 0.15);\n",
              "      filter: drop-shadow(0px 1px 2px rgba(0, 0, 0, 0.3));\n",
              "      fill: #FFFFFF;\n",
              "    }\n",
              "  </style>\n",
              "\n",
              "      <script>\n",
              "        const buttonEl =\n",
              "          document.querySelector('#df-f168262c-a586-4024-9bf5-e28272c3c145 button.colab-df-convert');\n",
              "        buttonEl.style.display =\n",
              "          google.colab.kernel.accessAllowed ? 'block' : 'none';\n",
              "\n",
              "        async function convertToInteractive(key) {\n",
              "          const element = document.querySelector('#df-f168262c-a586-4024-9bf5-e28272c3c145');\n",
              "          const dataTable =\n",
              "            await google.colab.kernel.invokeFunction('convertToInteractive',\n",
              "                                                     [key], {});\n",
              "          if (!dataTable) return;\n",
              "\n",
              "          const docLinkHtml = 'Like what you see? Visit the ' +\n",
              "            '<a target=\"_blank\" href=https://colab.research.google.com/notebooks/data_table.ipynb>data table notebook</a>'\n",
              "            + ' to learn more about interactive tables.';\n",
              "          element.innerHTML = '';\n",
              "          dataTable['output_type'] = 'display_data';\n",
              "          await google.colab.output.renderOutput(dataTable, element);\n",
              "          const docLink = document.createElement('div');\n",
              "          docLink.innerHTML = docLinkHtml;\n",
              "          element.appendChild(docLink);\n",
              "        }\n",
              "      </script>\n",
              "    </div>\n",
              "  </div>\n",
              "  "
            ]
          },
          "metadata": {},
          "execution_count": 9
        }
      ],
      "source": [
        "X = X / 255\n",
        "\n",
        "X"
      ]
    },
    {
      "cell_type": "code",
      "execution_count": null,
      "metadata": {
        "id": "YYhx37O8RtxG"
      },
      "outputs": [],
      "source": [
        "X = np.array(X)"
      ]
    },
    {
      "cell_type": "markdown",
      "metadata": {
        "id": "DPD3IWx3kP0b"
      },
      "source": [
        "Binarizing the labels to 1-hot-encode the labels"
      ]
    },
    {
      "cell_type": "code",
      "execution_count": null,
      "metadata": {
        "id": "LtX01z-fkSgU"
      },
      "outputs": [],
      "source": [
        "#binarize the labels\n",
        "lb = LabelBinarizer()\n",
        "y = lb.fit_transform(y)"
      ]
    },
    {
      "cell_type": "code",
      "source": [
        "y"
      ],
      "metadata": {
        "colab": {
          "base_uri": "https://localhost:8080/"
        },
        "id": "L-RhGb8rnRxE",
        "outputId": "777e1c1b-b8b5-41f6-e990-cdc3ff88788b"
      },
      "execution_count": null,
      "outputs": [
        {
          "output_type": "execute_result",
          "data": {
            "text/plain": [
              "array([[0, 0, 1, ..., 0, 0, 0],\n",
              "       [0, 0, 1, ..., 0, 0, 0],\n",
              "       [0, 0, 1, ..., 0, 0, 0],\n",
              "       ...,\n",
              "       [1, 0, 0, ..., 0, 0, 0],\n",
              "       [1, 0, 0, ..., 0, 0, 0],\n",
              "       [0, 0, 0, ..., 0, 0, 1]])"
            ]
          },
          "metadata": {},
          "execution_count": 12
        }
      ]
    },
    {
      "cell_type": "code",
      "execution_count": null,
      "metadata": {
        "colab": {
          "base_uri": "https://localhost:8080/"
        },
        "id": "jXJwV4VlkZge",
        "outputId": "13d2892d-9c73-4f15-f2f0-6621adc46455"
      },
      "outputs": [
        {
          "output_type": "stream",
          "name": "stdout",
          "text": [
            "(10015, 784)\n",
            "(10015, 7)\n"
          ]
        }
      ],
      "source": [
        "print(X.shape)\n",
        "print(y.shape)"
      ]
    },
    {
      "cell_type": "markdown",
      "metadata": {
        "id": "PXU1p61Ikbij"
      },
      "source": [
        "Splitting into train and test"
      ]
    },
    {
      "cell_type": "code",
      "execution_count": null,
      "metadata": {
        "id": "bPwg3ZfE0y_x"
      },
      "outputs": [],
      "source": [
        "X_train, X_test, Y_train, Y_test = train_test_split(X,y, test_size=0.2, random_state=1)"
      ]
    },
    {
      "cell_type": "code",
      "execution_count": null,
      "metadata": {
        "id": "-rq0AZuo0y9J"
      },
      "outputs": [],
      "source": [
        "def create_clients(X_train, Y_train, num_clients=10, initial='clients'):\n",
        "    #create a list of client names\n",
        "    client_names = ['{}_{}'.format(initial, i+1) for i in range(num_clients)]\n",
        "\n",
        "    #randomize the data\n",
        "    data = list(zip(X_train, Y_train))\n",
        "    random.shuffle(data)\n",
        "\n",
        "    #shard data and place at each client\n",
        "    size = len(data)//num_clients\n",
        "    shards = [data[i:i + size] for i in range(0, size*num_clients, size)]\n",
        "\n",
        "    #number of clients must equal number of shards\n",
        "    assert(len(shards) == len(client_names))\n",
        "\n",
        "    return {client_names[i] : shards[i] for i in range(len(client_names))} "
      ]
    },
    {
      "cell_type": "code",
      "execution_count": null,
      "metadata": {
        "id": "QSc_LPHp0y6f"
      },
      "outputs": [],
      "source": [
        "#create clients\n",
        "clients = create_clients(X_train, Y_train, num_clients=10, initial='client')"
      ]
    },
    {
      "cell_type": "code",
      "execution_count": null,
      "metadata": {
        "id": "cUG1EYGq0y4H"
      },
      "outputs": [],
      "source": [
        "def batch_data(data_shard, bs=32):\n",
        "    #seperate shard into data and labels lists\n",
        "    data, label = zip(*data_shard)\n",
        "    dataset = tf.data.Dataset.from_tensor_slices((list(data), list(label)))\n",
        "    return dataset.shuffle(len(label)).batch(bs)"
      ]
    },
    {
      "cell_type": "code",
      "execution_count": null,
      "metadata": {
        "id": "YUMKizYf0y1a"
      },
      "outputs": [],
      "source": [
        "#process and batch the training data for each client\n",
        "clients_batched = dict()\n",
        "for (client_name, data) in clients.items():\n",
        "    clients_batched[client_name] = batch_data(data)\n",
        "    \n",
        "#process and batch the test set  \n",
        "test_batched = tf.data.Dataset.from_tensor_slices((X_test, Y_test)).batch(len(Y_test))"
      ]
    },
    {
      "cell_type": "code",
      "execution_count": null,
      "metadata": {
        "id": "M37rwPCu0yy_"
      },
      "outputs": [],
      "source": [
        "class SimpleMLP:\n",
        "    @staticmethod\n",
        "    def build(shape, classes):\n",
        "        model = Sequential()\n",
        "        model.add(Dense(200, input_shape=(784,)))\n",
        "        model.add(Activation(\"relu\"))\n",
        "        model.add(Dense(200))\n",
        "        model.add(Activation(\"relu\"))\n",
        "        model.add(Dense(7))\n",
        "        model.add(Activation(\"softmax\"))\n",
        "        return model"
      ]
    },
    {
      "cell_type": "code",
      "execution_count": null,
      "metadata": {
        "id": "EtAOAkrp0ywx"
      },
      "outputs": [],
      "source": [
        "learning_rate = 0.01 \n",
        "comms_round = 100\n",
        "loss='categorical_crossentropy'\n",
        "metrics = ['accuracy']\n",
        "optimizer = SGD(learning_rate=learning_rate, \n",
        "                decay=learning_rate/ comms_round, \n",
        "                momentum=0.9\n",
        "               )                      "
      ]
    },
    {
      "cell_type": "code",
      "execution_count": null,
      "metadata": {
        "id": "hVcHDHoh0yuJ"
      },
      "outputs": [],
      "source": [
        "def weight_scalling_factor(clients_trn_data, client_name):\n",
        "    client_names = list(clients_trn_data.keys())\n",
        "    #get the bs\n",
        "    bs = list(clients_trn_data[client_name])[0][0].shape[0]\n",
        "    #first calculate the total training data points across clinets\n",
        "    global_count = sum([tf.data.experimental.cardinality(clients_trn_data[client_name]).numpy() for client_name in client_names])*bs\n",
        "    # get the total number of data points held by a client\n",
        "    local_count = tf.data.experimental.cardinality(clients_trn_data[client_name]).numpy()*bs\n",
        "    return local_count/global_count\n",
        "\n",
        "\n",
        "def scale_model_weights(weight, scalar):\n",
        "    '''function for scaling a models weights'''\n",
        "    weight_final = []\n",
        "    steps = len(weight)\n",
        "    for i in range(steps):\n",
        "        weight_final.append(scalar * weight[i])\n",
        "    return weight_final"
      ]
    },
    {
      "cell_type": "code",
      "execution_count": null,
      "metadata": {
        "id": "rKe7RSYh0yqJ"
      },
      "outputs": [],
      "source": [
        "def sum_scaled_weights(scaled_weight_list):\n",
        "    '''Return the sum of the listed scaled weights. The is equivalent to scaled avg of the weights'''\n",
        "    avg_grad = list()\n",
        "    #get the average grad accross all client gradients\n",
        "    for grad_list_tuple in zip(*scaled_weight_list):\n",
        "        layer_mean = tf.math.reduce_sum(grad_list_tuple, axis=0)\n",
        "        avg_grad.append(layer_mean)\n",
        "        \n",
        "    return avg_grad\n",
        "\n",
        "\n",
        "def test_model(X_test, Y_test,  model, comm_round):\n",
        "    cce = tf.keras.losses.CategoricalCrossentropy(from_logits=True)\n",
        "    #logits = model.predict(X_test, batch_size=100)\n",
        "    logits = model.predict(X_test)\n",
        "    loss = cce(Y_test, logits)\n",
        "    acc = accuracy_score(tf.argmax(logits, axis=1), tf.argmax(Y_test, axis=1))\n",
        "    print('comm_round: {} | global_acc: {:.3%} | global_loss: {}'.format(comm_round, acc, loss))\n",
        "    return acc, loss"
      ]
    },
    {
      "cell_type": "code",
      "execution_count": null,
      "metadata": {
        "id": "ajlxd4Lw0yn9"
      },
      "outputs": [],
      "source": [
        "def fl_model(clients_batched, test_batched, comms_round, loss, optimizer, metrics):\n",
        "    #initialize global model\n",
        "    smlp_global = SimpleMLP()\n",
        "    global_model = smlp_global.build(784,7)\n",
        "\n",
        "    #commence global training loop\n",
        "    for comm_round in range(comms_round):\n",
        "            \n",
        "        # get the global model's weights - will serve as the initial weights for all local models\n",
        "        global_weights = global_model.get_weights()\n",
        "    \n",
        "        #initial list to collect local model weights after scalling\n",
        "        scaled_local_weight_list = list()\n",
        "\n",
        "        #randomize client data - using keys\n",
        "        client_names= list(clients_batched.keys())\n",
        "        random.shuffle(client_names)\n",
        "    \n",
        "        #loop through each client and create new local model\n",
        "        for client in client_names:\n",
        "            smlp_local = SimpleMLP()\n",
        "            local_model = smlp_local.build(784, 7)\n",
        "            local_model.compile(loss=loss, \n",
        "                          optimizer=optimizer, \n",
        "                          metrics=metrics)\n",
        "        \n",
        "            #set local model weight to the weight of the global model\n",
        "            local_model.set_weights(global_weights)\n",
        "        \n",
        "            #fit local model with client's data\n",
        "            local_model.fit(clients_batched[client], epochs=1, verbose=0)\n",
        "        \n",
        "            #scale the model weights and add to list\n",
        "            scaling_factor = weight_scalling_factor(clients_batched, client)\n",
        "            scaled_weights = scale_model_weights(local_model.get_weights(), scaling_factor)\n",
        "            scaled_local_weight_list.append(scaled_weights)\n",
        "        \n",
        "            #clear session to free memory after each communication round\n",
        "            K.clear_session()\n",
        "        \n",
        "        #to get the average over all the local model, we simply take the sum of the scaled weights\n",
        "        average_weights = sum_scaled_weights(scaled_local_weight_list)\n",
        "    \n",
        "        #update global model \n",
        "        global_model.set_weights(average_weights)\n",
        "\n",
        "        #test global model and print out metrics after each communications round\n",
        "        for(X_test, Y_test) in test_batched:\n",
        "            global_acc, global_loss = test_model(X_test, Y_test, global_model, comm_round)\n",
        "            \n",
        "            # Make predictions on the test set\n",
        "            y_pred = global_model.predict(X_test)\n",
        "            y_pred = np.argmax(y_pred, axis=1)\n",
        "            \n",
        "            # Get the true classes\n",
        "            true_classes = np.argmax(Y_test, axis = 1)\n",
        "      \n",
        "             # Print the classification report\n",
        "            report = classification_report(true_classes, y_pred)\n",
        "            from sklearn.metrics import confusion_matrix\n",
        "            confusion_matrix = confusion_matrix(true_classes, y_pred)\n",
        "            if comm_round == 99:\n",
        "              print(confusion_matrix)\n",
        "              plt.show()\n",
        "              print(report)"
      ]
    },
    {
      "cell_type": "code",
      "execution_count": null,
      "metadata": {
        "colab": {
          "base_uri": "https://localhost:8080/"
        },
        "id": "2jyHxjgzF3dU",
        "outputId": "51072a79-e54f-4786-fe06-cffc139aa1e2"
      },
      "outputs": [
        {
          "output_type": "stream",
          "name": "stdout",
          "text": [
            "63/63 [==============================] - 0s 2ms/step\n",
            "comm_round: 0 | global_acc: 66.251% | global_loss: 1.6503382921218872\n",
            "63/63 [==============================] - 0s 2ms/step\n"
          ]
        },
        {
          "output_type": "stream",
          "name": "stderr",
          "text": [
            "/usr/local/lib/python3.8/dist-packages/sklearn/metrics/_classification.py:1318: UndefinedMetricWarning: Precision and F-score are ill-defined and being set to 0.0 in labels with no predicted samples. Use `zero_division` parameter to control this behavior.\n",
            "  _warn_prf(average, modifier, msg_start, len(result))\n",
            "/usr/local/lib/python3.8/dist-packages/sklearn/metrics/_classification.py:1318: UndefinedMetricWarning: Precision and F-score are ill-defined and being set to 0.0 in labels with no predicted samples. Use `zero_division` parameter to control this behavior.\n",
            "  _warn_prf(average, modifier, msg_start, len(result))\n",
            "/usr/local/lib/python3.8/dist-packages/sklearn/metrics/_classification.py:1318: UndefinedMetricWarning: Precision and F-score are ill-defined and being set to 0.0 in labels with no predicted samples. Use `zero_division` parameter to control this behavior.\n",
            "  _warn_prf(average, modifier, msg_start, len(result))\n"
          ]
        },
        {
          "output_type": "stream",
          "name": "stdout",
          "text": [
            "63/63 [==============================] - 0s 5ms/step\n",
            "comm_round: 1 | global_acc: 66.251% | global_loss: 1.6510295867919922\n",
            "63/63 [==============================] - 0s 3ms/step\n"
          ]
        },
        {
          "output_type": "stream",
          "name": "stderr",
          "text": [
            "/usr/local/lib/python3.8/dist-packages/sklearn/metrics/_classification.py:1318: UndefinedMetricWarning: Precision and F-score are ill-defined and being set to 0.0 in labels with no predicted samples. Use `zero_division` parameter to control this behavior.\n",
            "  _warn_prf(average, modifier, msg_start, len(result))\n",
            "/usr/local/lib/python3.8/dist-packages/sklearn/metrics/_classification.py:1318: UndefinedMetricWarning: Precision and F-score are ill-defined and being set to 0.0 in labels with no predicted samples. Use `zero_division` parameter to control this behavior.\n",
            "  _warn_prf(average, modifier, msg_start, len(result))\n",
            "/usr/local/lib/python3.8/dist-packages/sklearn/metrics/_classification.py:1318: UndefinedMetricWarning: Precision and F-score are ill-defined and being set to 0.0 in labels with no predicted samples. Use `zero_division` parameter to control this behavior.\n",
            "  _warn_prf(average, modifier, msg_start, len(result))\n"
          ]
        },
        {
          "output_type": "stream",
          "name": "stdout",
          "text": [
            "63/63 [==============================] - 0s 2ms/step\n",
            "comm_round: 2 | global_acc: 66.251% | global_loss: 1.6228222846984863\n",
            "63/63 [==============================] - 0s 2ms/step\n"
          ]
        },
        {
          "output_type": "stream",
          "name": "stderr",
          "text": [
            "/usr/local/lib/python3.8/dist-packages/sklearn/metrics/_classification.py:1318: UndefinedMetricWarning: Precision and F-score are ill-defined and being set to 0.0 in labels with no predicted samples. Use `zero_division` parameter to control this behavior.\n",
            "  _warn_prf(average, modifier, msg_start, len(result))\n",
            "/usr/local/lib/python3.8/dist-packages/sklearn/metrics/_classification.py:1318: UndefinedMetricWarning: Precision and F-score are ill-defined and being set to 0.0 in labels with no predicted samples. Use `zero_division` parameter to control this behavior.\n",
            "  _warn_prf(average, modifier, msg_start, len(result))\n",
            "/usr/local/lib/python3.8/dist-packages/sklearn/metrics/_classification.py:1318: UndefinedMetricWarning: Precision and F-score are ill-defined and being set to 0.0 in labels with no predicted samples. Use `zero_division` parameter to control this behavior.\n",
            "  _warn_prf(average, modifier, msg_start, len(result))\n"
          ]
        },
        {
          "output_type": "stream",
          "name": "stdout",
          "text": [
            "63/63 [==============================] - 0s 3ms/step\n",
            "comm_round: 3 | global_acc: 66.151% | global_loss: 1.6392771005630493\n",
            "63/63 [==============================] - 0s 2ms/step\n"
          ]
        },
        {
          "output_type": "stream",
          "name": "stderr",
          "text": [
            "/usr/local/lib/python3.8/dist-packages/sklearn/metrics/_classification.py:1318: UndefinedMetricWarning: Precision and F-score are ill-defined and being set to 0.0 in labels with no predicted samples. Use `zero_division` parameter to control this behavior.\n",
            "  _warn_prf(average, modifier, msg_start, len(result))\n",
            "/usr/local/lib/python3.8/dist-packages/sklearn/metrics/_classification.py:1318: UndefinedMetricWarning: Precision and F-score are ill-defined and being set to 0.0 in labels with no predicted samples. Use `zero_division` parameter to control this behavior.\n",
            "  _warn_prf(average, modifier, msg_start, len(result))\n",
            "/usr/local/lib/python3.8/dist-packages/sklearn/metrics/_classification.py:1318: UndefinedMetricWarning: Precision and F-score are ill-defined and being set to 0.0 in labels with no predicted samples. Use `zero_division` parameter to control this behavior.\n",
            "  _warn_prf(average, modifier, msg_start, len(result))\n"
          ]
        },
        {
          "output_type": "stream",
          "name": "stdout",
          "text": [
            "63/63 [==============================] - 0s 2ms/step\n",
            "comm_round: 4 | global_acc: 66.151% | global_loss: 1.6379889249801636\n",
            "63/63 [==============================] - 0s 2ms/step\n"
          ]
        },
        {
          "output_type": "stream",
          "name": "stderr",
          "text": [
            "/usr/local/lib/python3.8/dist-packages/sklearn/metrics/_classification.py:1318: UndefinedMetricWarning: Precision and F-score are ill-defined and being set to 0.0 in labels with no predicted samples. Use `zero_division` parameter to control this behavior.\n",
            "  _warn_prf(average, modifier, msg_start, len(result))\n",
            "/usr/local/lib/python3.8/dist-packages/sklearn/metrics/_classification.py:1318: UndefinedMetricWarning: Precision and F-score are ill-defined and being set to 0.0 in labels with no predicted samples. Use `zero_division` parameter to control this behavior.\n",
            "  _warn_prf(average, modifier, msg_start, len(result))\n",
            "/usr/local/lib/python3.8/dist-packages/sklearn/metrics/_classification.py:1318: UndefinedMetricWarning: Precision and F-score are ill-defined and being set to 0.0 in labels with no predicted samples. Use `zero_division` parameter to control this behavior.\n",
            "  _warn_prf(average, modifier, msg_start, len(result))\n"
          ]
        },
        {
          "output_type": "stream",
          "name": "stdout",
          "text": [
            "63/63 [==============================] - 0s 2ms/step\n",
            "comm_round: 5 | global_acc: 66.151% | global_loss: 1.628819465637207\n",
            "63/63 [==============================] - 0s 2ms/step\n"
          ]
        },
        {
          "output_type": "stream",
          "name": "stderr",
          "text": [
            "/usr/local/lib/python3.8/dist-packages/sklearn/metrics/_classification.py:1318: UndefinedMetricWarning: Precision and F-score are ill-defined and being set to 0.0 in labels with no predicted samples. Use `zero_division` parameter to control this behavior.\n",
            "  _warn_prf(average, modifier, msg_start, len(result))\n",
            "/usr/local/lib/python3.8/dist-packages/sklearn/metrics/_classification.py:1318: UndefinedMetricWarning: Precision and F-score are ill-defined and being set to 0.0 in labels with no predicted samples. Use `zero_division` parameter to control this behavior.\n",
            "  _warn_prf(average, modifier, msg_start, len(result))\n",
            "/usr/local/lib/python3.8/dist-packages/sklearn/metrics/_classification.py:1318: UndefinedMetricWarning: Precision and F-score are ill-defined and being set to 0.0 in labels with no predicted samples. Use `zero_division` parameter to control this behavior.\n",
            "  _warn_prf(average, modifier, msg_start, len(result))\n"
          ]
        },
        {
          "output_type": "stream",
          "name": "stdout",
          "text": [
            "63/63 [==============================] - 0s 2ms/step\n",
            "comm_round: 6 | global_acc: 66.151% | global_loss: 1.6079626083374023\n",
            "63/63 [==============================] - 0s 2ms/step\n"
          ]
        },
        {
          "output_type": "stream",
          "name": "stderr",
          "text": [
            "/usr/local/lib/python3.8/dist-packages/sklearn/metrics/_classification.py:1318: UndefinedMetricWarning: Precision and F-score are ill-defined and being set to 0.0 in labels with no predicted samples. Use `zero_division` parameter to control this behavior.\n",
            "  _warn_prf(average, modifier, msg_start, len(result))\n",
            "/usr/local/lib/python3.8/dist-packages/sklearn/metrics/_classification.py:1318: UndefinedMetricWarning: Precision and F-score are ill-defined and being set to 0.0 in labels with no predicted samples. Use `zero_division` parameter to control this behavior.\n",
            "  _warn_prf(average, modifier, msg_start, len(result))\n",
            "/usr/local/lib/python3.8/dist-packages/sklearn/metrics/_classification.py:1318: UndefinedMetricWarning: Precision and F-score are ill-defined and being set to 0.0 in labels with no predicted samples. Use `zero_division` parameter to control this behavior.\n",
            "  _warn_prf(average, modifier, msg_start, len(result))\n"
          ]
        },
        {
          "output_type": "stream",
          "name": "stdout",
          "text": [
            "63/63 [==============================] - 0s 2ms/step\n",
            "comm_round: 7 | global_acc: 66.151% | global_loss: 1.604748010635376\n",
            "63/63 [==============================] - 0s 2ms/step\n"
          ]
        },
        {
          "output_type": "stream",
          "name": "stderr",
          "text": [
            "/usr/local/lib/python3.8/dist-packages/sklearn/metrics/_classification.py:1318: UndefinedMetricWarning: Precision and F-score are ill-defined and being set to 0.0 in labels with no predicted samples. Use `zero_division` parameter to control this behavior.\n",
            "  _warn_prf(average, modifier, msg_start, len(result))\n",
            "/usr/local/lib/python3.8/dist-packages/sklearn/metrics/_classification.py:1318: UndefinedMetricWarning: Precision and F-score are ill-defined and being set to 0.0 in labels with no predicted samples. Use `zero_division` parameter to control this behavior.\n",
            "  _warn_prf(average, modifier, msg_start, len(result))\n",
            "/usr/local/lib/python3.8/dist-packages/sklearn/metrics/_classification.py:1318: UndefinedMetricWarning: Precision and F-score are ill-defined and being set to 0.0 in labels with no predicted samples. Use `zero_division` parameter to control this behavior.\n",
            "  _warn_prf(average, modifier, msg_start, len(result))\n"
          ]
        },
        {
          "output_type": "stream",
          "name": "stdout",
          "text": [
            "63/63 [==============================] - 0s 2ms/step\n",
            "comm_round: 8 | global_acc: 66.151% | global_loss: 1.620723009109497\n",
            "63/63 [==============================] - 0s 2ms/step\n"
          ]
        },
        {
          "output_type": "stream",
          "name": "stderr",
          "text": [
            "/usr/local/lib/python3.8/dist-packages/sklearn/metrics/_classification.py:1318: UndefinedMetricWarning: Precision and F-score are ill-defined and being set to 0.0 in labels with no predicted samples. Use `zero_division` parameter to control this behavior.\n",
            "  _warn_prf(average, modifier, msg_start, len(result))\n",
            "/usr/local/lib/python3.8/dist-packages/sklearn/metrics/_classification.py:1318: UndefinedMetricWarning: Precision and F-score are ill-defined and being set to 0.0 in labels with no predicted samples. Use `zero_division` parameter to control this behavior.\n",
            "  _warn_prf(average, modifier, msg_start, len(result))\n",
            "/usr/local/lib/python3.8/dist-packages/sklearn/metrics/_classification.py:1318: UndefinedMetricWarning: Precision and F-score are ill-defined and being set to 0.0 in labels with no predicted samples. Use `zero_division` parameter to control this behavior.\n",
            "  _warn_prf(average, modifier, msg_start, len(result))\n"
          ]
        },
        {
          "output_type": "stream",
          "name": "stdout",
          "text": [
            "63/63 [==============================] - 0s 2ms/step\n",
            "comm_round: 9 | global_acc: 66.151% | global_loss: 1.6512597799301147\n",
            "63/63 [==============================] - 0s 2ms/step\n"
          ]
        },
        {
          "output_type": "stream",
          "name": "stderr",
          "text": [
            "/usr/local/lib/python3.8/dist-packages/sklearn/metrics/_classification.py:1318: UndefinedMetricWarning: Precision and F-score are ill-defined and being set to 0.0 in labels with no predicted samples. Use `zero_division` parameter to control this behavior.\n",
            "  _warn_prf(average, modifier, msg_start, len(result))\n",
            "/usr/local/lib/python3.8/dist-packages/sklearn/metrics/_classification.py:1318: UndefinedMetricWarning: Precision and F-score are ill-defined and being set to 0.0 in labels with no predicted samples. Use `zero_division` parameter to control this behavior.\n",
            "  _warn_prf(average, modifier, msg_start, len(result))\n",
            "/usr/local/lib/python3.8/dist-packages/sklearn/metrics/_classification.py:1318: UndefinedMetricWarning: Precision and F-score are ill-defined and being set to 0.0 in labels with no predicted samples. Use `zero_division` parameter to control this behavior.\n",
            "  _warn_prf(average, modifier, msg_start, len(result))\n"
          ]
        },
        {
          "output_type": "stream",
          "name": "stdout",
          "text": [
            "63/63 [==============================] - 0s 2ms/step\n",
            "comm_round: 10 | global_acc: 66.151% | global_loss: 1.5875557661056519\n",
            "63/63 [==============================] - 0s 2ms/step\n"
          ]
        },
        {
          "output_type": "stream",
          "name": "stderr",
          "text": [
            "/usr/local/lib/python3.8/dist-packages/sklearn/metrics/_classification.py:1318: UndefinedMetricWarning: Precision and F-score are ill-defined and being set to 0.0 in labels with no predicted samples. Use `zero_division` parameter to control this behavior.\n",
            "  _warn_prf(average, modifier, msg_start, len(result))\n",
            "/usr/local/lib/python3.8/dist-packages/sklearn/metrics/_classification.py:1318: UndefinedMetricWarning: Precision and F-score are ill-defined and being set to 0.0 in labels with no predicted samples. Use `zero_division` parameter to control this behavior.\n",
            "  _warn_prf(average, modifier, msg_start, len(result))\n",
            "/usr/local/lib/python3.8/dist-packages/sklearn/metrics/_classification.py:1318: UndefinedMetricWarning: Precision and F-score are ill-defined and being set to 0.0 in labels with no predicted samples. Use `zero_division` parameter to control this behavior.\n",
            "  _warn_prf(average, modifier, msg_start, len(result))\n"
          ]
        },
        {
          "output_type": "stream",
          "name": "stdout",
          "text": [
            "63/63 [==============================] - 0s 2ms/step\n",
            "comm_round: 11 | global_acc: 66.151% | global_loss: 1.6174336671829224\n",
            "63/63 [==============================] - 0s 2ms/step\n"
          ]
        },
        {
          "output_type": "stream",
          "name": "stderr",
          "text": [
            "/usr/local/lib/python3.8/dist-packages/sklearn/metrics/_classification.py:1318: UndefinedMetricWarning: Precision and F-score are ill-defined and being set to 0.0 in labels with no predicted samples. Use `zero_division` parameter to control this behavior.\n",
            "  _warn_prf(average, modifier, msg_start, len(result))\n",
            "/usr/local/lib/python3.8/dist-packages/sklearn/metrics/_classification.py:1318: UndefinedMetricWarning: Precision and F-score are ill-defined and being set to 0.0 in labels with no predicted samples. Use `zero_division` parameter to control this behavior.\n",
            "  _warn_prf(average, modifier, msg_start, len(result))\n",
            "/usr/local/lib/python3.8/dist-packages/sklearn/metrics/_classification.py:1318: UndefinedMetricWarning: Precision and F-score are ill-defined and being set to 0.0 in labels with no predicted samples. Use `zero_division` parameter to control this behavior.\n",
            "  _warn_prf(average, modifier, msg_start, len(result))\n"
          ]
        },
        {
          "output_type": "stream",
          "name": "stdout",
          "text": [
            "63/63 [==============================] - 0s 2ms/step\n",
            "comm_round: 12 | global_acc: 66.201% | global_loss: 1.6386327743530273\n",
            "63/63 [==============================] - 0s 2ms/step\n"
          ]
        },
        {
          "output_type": "stream",
          "name": "stderr",
          "text": [
            "/usr/local/lib/python3.8/dist-packages/sklearn/metrics/_classification.py:1318: UndefinedMetricWarning: Precision and F-score are ill-defined and being set to 0.0 in labels with no predicted samples. Use `zero_division` parameter to control this behavior.\n",
            "  _warn_prf(average, modifier, msg_start, len(result))\n",
            "/usr/local/lib/python3.8/dist-packages/sklearn/metrics/_classification.py:1318: UndefinedMetricWarning: Precision and F-score are ill-defined and being set to 0.0 in labels with no predicted samples. Use `zero_division` parameter to control this behavior.\n",
            "  _warn_prf(average, modifier, msg_start, len(result))\n",
            "/usr/local/lib/python3.8/dist-packages/sklearn/metrics/_classification.py:1318: UndefinedMetricWarning: Precision and F-score are ill-defined and being set to 0.0 in labels with no predicted samples. Use `zero_division` parameter to control this behavior.\n",
            "  _warn_prf(average, modifier, msg_start, len(result))\n"
          ]
        },
        {
          "output_type": "stream",
          "name": "stdout",
          "text": [
            "63/63 [==============================] - 0s 2ms/step\n",
            "comm_round: 13 | global_acc: 66.201% | global_loss: 1.6042187213897705\n",
            "63/63 [==============================] - 0s 2ms/step\n"
          ]
        },
        {
          "output_type": "stream",
          "name": "stderr",
          "text": [
            "/usr/local/lib/python3.8/dist-packages/sklearn/metrics/_classification.py:1318: UndefinedMetricWarning: Precision and F-score are ill-defined and being set to 0.0 in labels with no predicted samples. Use `zero_division` parameter to control this behavior.\n",
            "  _warn_prf(average, modifier, msg_start, len(result))\n",
            "/usr/local/lib/python3.8/dist-packages/sklearn/metrics/_classification.py:1318: UndefinedMetricWarning: Precision and F-score are ill-defined and being set to 0.0 in labels with no predicted samples. Use `zero_division` parameter to control this behavior.\n",
            "  _warn_prf(average, modifier, msg_start, len(result))\n",
            "/usr/local/lib/python3.8/dist-packages/sklearn/metrics/_classification.py:1318: UndefinedMetricWarning: Precision and F-score are ill-defined and being set to 0.0 in labels with no predicted samples. Use `zero_division` parameter to control this behavior.\n",
            "  _warn_prf(average, modifier, msg_start, len(result))\n"
          ]
        },
        {
          "output_type": "stream",
          "name": "stdout",
          "text": [
            "63/63 [==============================] - 0s 2ms/step\n",
            "comm_round: 14 | global_acc: 66.301% | global_loss: 1.6107243299484253\n",
            "63/63 [==============================] - 0s 2ms/step\n"
          ]
        },
        {
          "output_type": "stream",
          "name": "stderr",
          "text": [
            "/usr/local/lib/python3.8/dist-packages/sklearn/metrics/_classification.py:1318: UndefinedMetricWarning: Precision and F-score are ill-defined and being set to 0.0 in labels with no predicted samples. Use `zero_division` parameter to control this behavior.\n",
            "  _warn_prf(average, modifier, msg_start, len(result))\n",
            "/usr/local/lib/python3.8/dist-packages/sklearn/metrics/_classification.py:1318: UndefinedMetricWarning: Precision and F-score are ill-defined and being set to 0.0 in labels with no predicted samples. Use `zero_division` parameter to control this behavior.\n",
            "  _warn_prf(average, modifier, msg_start, len(result))\n",
            "/usr/local/lib/python3.8/dist-packages/sklearn/metrics/_classification.py:1318: UndefinedMetricWarning: Precision and F-score are ill-defined and being set to 0.0 in labels with no predicted samples. Use `zero_division` parameter to control this behavior.\n",
            "  _warn_prf(average, modifier, msg_start, len(result))\n"
          ]
        },
        {
          "output_type": "stream",
          "name": "stdout",
          "text": [
            "63/63 [==============================] - 0s 2ms/step\n",
            "comm_round: 15 | global_acc: 66.301% | global_loss: 1.5971627235412598\n",
            "63/63 [==============================] - 0s 2ms/step\n"
          ]
        },
        {
          "output_type": "stream",
          "name": "stderr",
          "text": [
            "/usr/local/lib/python3.8/dist-packages/sklearn/metrics/_classification.py:1318: UndefinedMetricWarning: Precision and F-score are ill-defined and being set to 0.0 in labels with no predicted samples. Use `zero_division` parameter to control this behavior.\n",
            "  _warn_prf(average, modifier, msg_start, len(result))\n",
            "/usr/local/lib/python3.8/dist-packages/sklearn/metrics/_classification.py:1318: UndefinedMetricWarning: Precision and F-score are ill-defined and being set to 0.0 in labels with no predicted samples. Use `zero_division` parameter to control this behavior.\n",
            "  _warn_prf(average, modifier, msg_start, len(result))\n",
            "/usr/local/lib/python3.8/dist-packages/sklearn/metrics/_classification.py:1318: UndefinedMetricWarning: Precision and F-score are ill-defined and being set to 0.0 in labels with no predicted samples. Use `zero_division` parameter to control this behavior.\n",
            "  _warn_prf(average, modifier, msg_start, len(result))\n"
          ]
        },
        {
          "output_type": "stream",
          "name": "stdout",
          "text": [
            "63/63 [==============================] - 0s 2ms/step\n",
            "comm_round: 16 | global_acc: 66.251% | global_loss: 1.611230731010437\n",
            "63/63 [==============================] - 0s 2ms/step\n"
          ]
        },
        {
          "output_type": "stream",
          "name": "stderr",
          "text": [
            "/usr/local/lib/python3.8/dist-packages/sklearn/metrics/_classification.py:1318: UndefinedMetricWarning: Precision and F-score are ill-defined and being set to 0.0 in labels with no predicted samples. Use `zero_division` parameter to control this behavior.\n",
            "  _warn_prf(average, modifier, msg_start, len(result))\n",
            "/usr/local/lib/python3.8/dist-packages/sklearn/metrics/_classification.py:1318: UndefinedMetricWarning: Precision and F-score are ill-defined and being set to 0.0 in labels with no predicted samples. Use `zero_division` parameter to control this behavior.\n",
            "  _warn_prf(average, modifier, msg_start, len(result))\n",
            "/usr/local/lib/python3.8/dist-packages/sklearn/metrics/_classification.py:1318: UndefinedMetricWarning: Precision and F-score are ill-defined and being set to 0.0 in labels with no predicted samples. Use `zero_division` parameter to control this behavior.\n",
            "  _warn_prf(average, modifier, msg_start, len(result))\n"
          ]
        },
        {
          "output_type": "stream",
          "name": "stdout",
          "text": [
            "63/63 [==============================] - 0s 2ms/step\n",
            "comm_round: 17 | global_acc: 66.251% | global_loss: 1.6039305925369263\n",
            "63/63 [==============================] - 0s 2ms/step\n"
          ]
        },
        {
          "output_type": "stream",
          "name": "stderr",
          "text": [
            "/usr/local/lib/python3.8/dist-packages/sklearn/metrics/_classification.py:1318: UndefinedMetricWarning: Precision and F-score are ill-defined and being set to 0.0 in labels with no predicted samples. Use `zero_division` parameter to control this behavior.\n",
            "  _warn_prf(average, modifier, msg_start, len(result))\n",
            "/usr/local/lib/python3.8/dist-packages/sklearn/metrics/_classification.py:1318: UndefinedMetricWarning: Precision and F-score are ill-defined and being set to 0.0 in labels with no predicted samples. Use `zero_division` parameter to control this behavior.\n",
            "  _warn_prf(average, modifier, msg_start, len(result))\n",
            "/usr/local/lib/python3.8/dist-packages/sklearn/metrics/_classification.py:1318: UndefinedMetricWarning: Precision and F-score are ill-defined and being set to 0.0 in labels with no predicted samples. Use `zero_division` parameter to control this behavior.\n",
            "  _warn_prf(average, modifier, msg_start, len(result))\n"
          ]
        },
        {
          "output_type": "stream",
          "name": "stdout",
          "text": [
            "63/63 [==============================] - 0s 2ms/step\n",
            "comm_round: 18 | global_acc: 66.201% | global_loss: 1.6027973890304565\n",
            "63/63 [==============================] - 0s 2ms/step\n"
          ]
        },
        {
          "output_type": "stream",
          "name": "stderr",
          "text": [
            "/usr/local/lib/python3.8/dist-packages/sklearn/metrics/_classification.py:1318: UndefinedMetricWarning: Precision and F-score are ill-defined and being set to 0.0 in labels with no predicted samples. Use `zero_division` parameter to control this behavior.\n",
            "  _warn_prf(average, modifier, msg_start, len(result))\n",
            "/usr/local/lib/python3.8/dist-packages/sklearn/metrics/_classification.py:1318: UndefinedMetricWarning: Precision and F-score are ill-defined and being set to 0.0 in labels with no predicted samples. Use `zero_division` parameter to control this behavior.\n",
            "  _warn_prf(average, modifier, msg_start, len(result))\n",
            "/usr/local/lib/python3.8/dist-packages/sklearn/metrics/_classification.py:1318: UndefinedMetricWarning: Precision and F-score are ill-defined and being set to 0.0 in labels with no predicted samples. Use `zero_division` parameter to control this behavior.\n",
            "  _warn_prf(average, modifier, msg_start, len(result))\n"
          ]
        },
        {
          "output_type": "stream",
          "name": "stdout",
          "text": [
            "63/63 [==============================] - 0s 2ms/step\n",
            "comm_round: 19 | global_acc: 66.251% | global_loss: 1.62092924118042\n",
            "63/63 [==============================] - 0s 2ms/step\n"
          ]
        },
        {
          "output_type": "stream",
          "name": "stderr",
          "text": [
            "/usr/local/lib/python3.8/dist-packages/sklearn/metrics/_classification.py:1318: UndefinedMetricWarning: Precision and F-score are ill-defined and being set to 0.0 in labels with no predicted samples. Use `zero_division` parameter to control this behavior.\n",
            "  _warn_prf(average, modifier, msg_start, len(result))\n",
            "/usr/local/lib/python3.8/dist-packages/sklearn/metrics/_classification.py:1318: UndefinedMetricWarning: Precision and F-score are ill-defined and being set to 0.0 in labels with no predicted samples. Use `zero_division` parameter to control this behavior.\n",
            "  _warn_prf(average, modifier, msg_start, len(result))\n",
            "/usr/local/lib/python3.8/dist-packages/sklearn/metrics/_classification.py:1318: UndefinedMetricWarning: Precision and F-score are ill-defined and being set to 0.0 in labels with no predicted samples. Use `zero_division` parameter to control this behavior.\n",
            "  _warn_prf(average, modifier, msg_start, len(result))\n"
          ]
        },
        {
          "output_type": "stream",
          "name": "stdout",
          "text": [
            "63/63 [==============================] - 0s 2ms/step\n",
            "comm_round: 20 | global_acc: 66.251% | global_loss: 1.5995558500289917\n",
            "63/63 [==============================] - 0s 2ms/step\n"
          ]
        },
        {
          "output_type": "stream",
          "name": "stderr",
          "text": [
            "/usr/local/lib/python3.8/dist-packages/sklearn/metrics/_classification.py:1318: UndefinedMetricWarning: Precision and F-score are ill-defined and being set to 0.0 in labels with no predicted samples. Use `zero_division` parameter to control this behavior.\n",
            "  _warn_prf(average, modifier, msg_start, len(result))\n",
            "/usr/local/lib/python3.8/dist-packages/sklearn/metrics/_classification.py:1318: UndefinedMetricWarning: Precision and F-score are ill-defined and being set to 0.0 in labels with no predicted samples. Use `zero_division` parameter to control this behavior.\n",
            "  _warn_prf(average, modifier, msg_start, len(result))\n",
            "/usr/local/lib/python3.8/dist-packages/sklearn/metrics/_classification.py:1318: UndefinedMetricWarning: Precision and F-score are ill-defined and being set to 0.0 in labels with no predicted samples. Use `zero_division` parameter to control this behavior.\n",
            "  _warn_prf(average, modifier, msg_start, len(result))\n"
          ]
        },
        {
          "output_type": "stream",
          "name": "stdout",
          "text": [
            "63/63 [==============================] - 0s 2ms/step\n",
            "comm_round: 21 | global_acc: 66.201% | global_loss: 1.595375418663025\n",
            "63/63 [==============================] - 0s 2ms/step\n"
          ]
        },
        {
          "output_type": "stream",
          "name": "stderr",
          "text": [
            "/usr/local/lib/python3.8/dist-packages/sklearn/metrics/_classification.py:1318: UndefinedMetricWarning: Precision and F-score are ill-defined and being set to 0.0 in labels with no predicted samples. Use `zero_division` parameter to control this behavior.\n",
            "  _warn_prf(average, modifier, msg_start, len(result))\n",
            "/usr/local/lib/python3.8/dist-packages/sklearn/metrics/_classification.py:1318: UndefinedMetricWarning: Precision and F-score are ill-defined and being set to 0.0 in labels with no predicted samples. Use `zero_division` parameter to control this behavior.\n",
            "  _warn_prf(average, modifier, msg_start, len(result))\n",
            "/usr/local/lib/python3.8/dist-packages/sklearn/metrics/_classification.py:1318: UndefinedMetricWarning: Precision and F-score are ill-defined and being set to 0.0 in labels with no predicted samples. Use `zero_division` parameter to control this behavior.\n",
            "  _warn_prf(average, modifier, msg_start, len(result))\n"
          ]
        },
        {
          "output_type": "stream",
          "name": "stdout",
          "text": [
            "63/63 [==============================] - 0s 2ms/step\n",
            "comm_round: 22 | global_acc: 66.251% | global_loss: 1.6118409633636475\n",
            "63/63 [==============================] - 0s 2ms/step\n"
          ]
        },
        {
          "output_type": "stream",
          "name": "stderr",
          "text": [
            "/usr/local/lib/python3.8/dist-packages/sklearn/metrics/_classification.py:1318: UndefinedMetricWarning: Precision and F-score are ill-defined and being set to 0.0 in labels with no predicted samples. Use `zero_division` parameter to control this behavior.\n",
            "  _warn_prf(average, modifier, msg_start, len(result))\n",
            "/usr/local/lib/python3.8/dist-packages/sklearn/metrics/_classification.py:1318: UndefinedMetricWarning: Precision and F-score are ill-defined and being set to 0.0 in labels with no predicted samples. Use `zero_division` parameter to control this behavior.\n",
            "  _warn_prf(average, modifier, msg_start, len(result))\n",
            "/usr/local/lib/python3.8/dist-packages/sklearn/metrics/_classification.py:1318: UndefinedMetricWarning: Precision and F-score are ill-defined and being set to 0.0 in labels with no predicted samples. Use `zero_division` parameter to control this behavior.\n",
            "  _warn_prf(average, modifier, msg_start, len(result))\n"
          ]
        },
        {
          "output_type": "stream",
          "name": "stdout",
          "text": [
            "63/63 [==============================] - 0s 2ms/step\n",
            "comm_round: 23 | global_acc: 66.301% | global_loss: 1.5955439805984497\n",
            "63/63 [==============================] - 0s 2ms/step\n"
          ]
        },
        {
          "output_type": "stream",
          "name": "stderr",
          "text": [
            "/usr/local/lib/python3.8/dist-packages/sklearn/metrics/_classification.py:1318: UndefinedMetricWarning: Precision and F-score are ill-defined and being set to 0.0 in labels with no predicted samples. Use `zero_division` parameter to control this behavior.\n",
            "  _warn_prf(average, modifier, msg_start, len(result))\n",
            "/usr/local/lib/python3.8/dist-packages/sklearn/metrics/_classification.py:1318: UndefinedMetricWarning: Precision and F-score are ill-defined and being set to 0.0 in labels with no predicted samples. Use `zero_division` parameter to control this behavior.\n",
            "  _warn_prf(average, modifier, msg_start, len(result))\n",
            "/usr/local/lib/python3.8/dist-packages/sklearn/metrics/_classification.py:1318: UndefinedMetricWarning: Precision and F-score are ill-defined and being set to 0.0 in labels with no predicted samples. Use `zero_division` parameter to control this behavior.\n",
            "  _warn_prf(average, modifier, msg_start, len(result))\n"
          ]
        },
        {
          "output_type": "stream",
          "name": "stdout",
          "text": [
            "63/63 [==============================] - 0s 2ms/step\n",
            "comm_round: 24 | global_acc: 66.450% | global_loss: 1.6183533668518066\n",
            "63/63 [==============================] - 0s 2ms/step\n"
          ]
        },
        {
          "output_type": "stream",
          "name": "stderr",
          "text": [
            "/usr/local/lib/python3.8/dist-packages/sklearn/metrics/_classification.py:1318: UndefinedMetricWarning: Precision and F-score are ill-defined and being set to 0.0 in labels with no predicted samples. Use `zero_division` parameter to control this behavior.\n",
            "  _warn_prf(average, modifier, msg_start, len(result))\n",
            "/usr/local/lib/python3.8/dist-packages/sklearn/metrics/_classification.py:1318: UndefinedMetricWarning: Precision and F-score are ill-defined and being set to 0.0 in labels with no predicted samples. Use `zero_division` parameter to control this behavior.\n",
            "  _warn_prf(average, modifier, msg_start, len(result))\n",
            "/usr/local/lib/python3.8/dist-packages/sklearn/metrics/_classification.py:1318: UndefinedMetricWarning: Precision and F-score are ill-defined and being set to 0.0 in labels with no predicted samples. Use `zero_division` parameter to control this behavior.\n",
            "  _warn_prf(average, modifier, msg_start, len(result))\n"
          ]
        },
        {
          "output_type": "stream",
          "name": "stdout",
          "text": [
            "63/63 [==============================] - 0s 2ms/step\n",
            "comm_round: 25 | global_acc: 66.400% | global_loss: 1.6100306510925293\n",
            "63/63 [==============================] - 0s 2ms/step\n"
          ]
        },
        {
          "output_type": "stream",
          "name": "stderr",
          "text": [
            "/usr/local/lib/python3.8/dist-packages/sklearn/metrics/_classification.py:1318: UndefinedMetricWarning: Precision and F-score are ill-defined and being set to 0.0 in labels with no predicted samples. Use `zero_division` parameter to control this behavior.\n",
            "  _warn_prf(average, modifier, msg_start, len(result))\n",
            "/usr/local/lib/python3.8/dist-packages/sklearn/metrics/_classification.py:1318: UndefinedMetricWarning: Precision and F-score are ill-defined and being set to 0.0 in labels with no predicted samples. Use `zero_division` parameter to control this behavior.\n",
            "  _warn_prf(average, modifier, msg_start, len(result))\n",
            "/usr/local/lib/python3.8/dist-packages/sklearn/metrics/_classification.py:1318: UndefinedMetricWarning: Precision and F-score are ill-defined and being set to 0.0 in labels with no predicted samples. Use `zero_division` parameter to control this behavior.\n",
            "  _warn_prf(average, modifier, msg_start, len(result))\n"
          ]
        },
        {
          "output_type": "stream",
          "name": "stdout",
          "text": [
            "63/63 [==============================] - 0s 2ms/step\n",
            "comm_round: 26 | global_acc: 66.750% | global_loss: 1.6276602745056152\n",
            "63/63 [==============================] - 0s 2ms/step\n"
          ]
        },
        {
          "output_type": "stream",
          "name": "stderr",
          "text": [
            "/usr/local/lib/python3.8/dist-packages/sklearn/metrics/_classification.py:1318: UndefinedMetricWarning: Precision and F-score are ill-defined and being set to 0.0 in labels with no predicted samples. Use `zero_division` parameter to control this behavior.\n",
            "  _warn_prf(average, modifier, msg_start, len(result))\n",
            "/usr/local/lib/python3.8/dist-packages/sklearn/metrics/_classification.py:1318: UndefinedMetricWarning: Precision and F-score are ill-defined and being set to 0.0 in labels with no predicted samples. Use `zero_division` parameter to control this behavior.\n",
            "  _warn_prf(average, modifier, msg_start, len(result))\n",
            "/usr/local/lib/python3.8/dist-packages/sklearn/metrics/_classification.py:1318: UndefinedMetricWarning: Precision and F-score are ill-defined and being set to 0.0 in labels with no predicted samples. Use `zero_division` parameter to control this behavior.\n",
            "  _warn_prf(average, modifier, msg_start, len(result))\n"
          ]
        },
        {
          "output_type": "stream",
          "name": "stdout",
          "text": [
            "63/63 [==============================] - 0s 2ms/step\n",
            "comm_round: 27 | global_acc: 66.550% | global_loss: 1.6182169914245605\n",
            "63/63 [==============================] - 0s 2ms/step\n"
          ]
        },
        {
          "output_type": "stream",
          "name": "stderr",
          "text": [
            "/usr/local/lib/python3.8/dist-packages/sklearn/metrics/_classification.py:1318: UndefinedMetricWarning: Precision and F-score are ill-defined and being set to 0.0 in labels with no predicted samples. Use `zero_division` parameter to control this behavior.\n",
            "  _warn_prf(average, modifier, msg_start, len(result))\n",
            "/usr/local/lib/python3.8/dist-packages/sklearn/metrics/_classification.py:1318: UndefinedMetricWarning: Precision and F-score are ill-defined and being set to 0.0 in labels with no predicted samples. Use `zero_division` parameter to control this behavior.\n",
            "  _warn_prf(average, modifier, msg_start, len(result))\n",
            "/usr/local/lib/python3.8/dist-packages/sklearn/metrics/_classification.py:1318: UndefinedMetricWarning: Precision and F-score are ill-defined and being set to 0.0 in labels with no predicted samples. Use `zero_division` parameter to control this behavior.\n",
            "  _warn_prf(average, modifier, msg_start, len(result))\n"
          ]
        },
        {
          "output_type": "stream",
          "name": "stdout",
          "text": [
            "63/63 [==============================] - 0s 2ms/step\n",
            "comm_round: 28 | global_acc: 66.550% | global_loss: 1.59121835231781\n",
            "63/63 [==============================] - 0s 2ms/step\n"
          ]
        },
        {
          "output_type": "stream",
          "name": "stderr",
          "text": [
            "/usr/local/lib/python3.8/dist-packages/sklearn/metrics/_classification.py:1318: UndefinedMetricWarning: Precision and F-score are ill-defined and being set to 0.0 in labels with no predicted samples. Use `zero_division` parameter to control this behavior.\n",
            "  _warn_prf(average, modifier, msg_start, len(result))\n",
            "/usr/local/lib/python3.8/dist-packages/sklearn/metrics/_classification.py:1318: UndefinedMetricWarning: Precision and F-score are ill-defined and being set to 0.0 in labels with no predicted samples. Use `zero_division` parameter to control this behavior.\n",
            "  _warn_prf(average, modifier, msg_start, len(result))\n",
            "/usr/local/lib/python3.8/dist-packages/sklearn/metrics/_classification.py:1318: UndefinedMetricWarning: Precision and F-score are ill-defined and being set to 0.0 in labels with no predicted samples. Use `zero_division` parameter to control this behavior.\n",
            "  _warn_prf(average, modifier, msg_start, len(result))\n"
          ]
        },
        {
          "output_type": "stream",
          "name": "stdout",
          "text": [
            "63/63 [==============================] - 0s 2ms/step\n",
            "comm_round: 29 | global_acc: 66.400% | global_loss: 1.6097217798233032\n",
            "63/63 [==============================] - 0s 2ms/step\n"
          ]
        },
        {
          "output_type": "stream",
          "name": "stderr",
          "text": [
            "/usr/local/lib/python3.8/dist-packages/sklearn/metrics/_classification.py:1318: UndefinedMetricWarning: Precision and F-score are ill-defined and being set to 0.0 in labels with no predicted samples. Use `zero_division` parameter to control this behavior.\n",
            "  _warn_prf(average, modifier, msg_start, len(result))\n",
            "/usr/local/lib/python3.8/dist-packages/sklearn/metrics/_classification.py:1318: UndefinedMetricWarning: Precision and F-score are ill-defined and being set to 0.0 in labels with no predicted samples. Use `zero_division` parameter to control this behavior.\n",
            "  _warn_prf(average, modifier, msg_start, len(result))\n",
            "/usr/local/lib/python3.8/dist-packages/sklearn/metrics/_classification.py:1318: UndefinedMetricWarning: Precision and F-score are ill-defined and being set to 0.0 in labels with no predicted samples. Use `zero_division` parameter to control this behavior.\n",
            "  _warn_prf(average, modifier, msg_start, len(result))\n"
          ]
        },
        {
          "output_type": "stream",
          "name": "stdout",
          "text": [
            "63/63 [==============================] - 0s 2ms/step\n",
            "comm_round: 30 | global_acc: 66.650% | global_loss: 1.6123669147491455\n",
            "63/63 [==============================] - 0s 2ms/step\n"
          ]
        },
        {
          "output_type": "stream",
          "name": "stderr",
          "text": [
            "/usr/local/lib/python3.8/dist-packages/sklearn/metrics/_classification.py:1318: UndefinedMetricWarning: Precision and F-score are ill-defined and being set to 0.0 in labels with no predicted samples. Use `zero_division` parameter to control this behavior.\n",
            "  _warn_prf(average, modifier, msg_start, len(result))\n",
            "/usr/local/lib/python3.8/dist-packages/sklearn/metrics/_classification.py:1318: UndefinedMetricWarning: Precision and F-score are ill-defined and being set to 0.0 in labels with no predicted samples. Use `zero_division` parameter to control this behavior.\n",
            "  _warn_prf(average, modifier, msg_start, len(result))\n",
            "/usr/local/lib/python3.8/dist-packages/sklearn/metrics/_classification.py:1318: UndefinedMetricWarning: Precision and F-score are ill-defined and being set to 0.0 in labels with no predicted samples. Use `zero_division` parameter to control this behavior.\n",
            "  _warn_prf(average, modifier, msg_start, len(result))\n"
          ]
        },
        {
          "output_type": "stream",
          "name": "stdout",
          "text": [
            "63/63 [==============================] - 0s 2ms/step\n",
            "comm_round: 31 | global_acc: 66.800% | global_loss: 1.666329264640808\n",
            "63/63 [==============================] - 0s 2ms/step\n"
          ]
        },
        {
          "output_type": "stream",
          "name": "stderr",
          "text": [
            "/usr/local/lib/python3.8/dist-packages/sklearn/metrics/_classification.py:1318: UndefinedMetricWarning: Precision and F-score are ill-defined and being set to 0.0 in labels with no predicted samples. Use `zero_division` parameter to control this behavior.\n",
            "  _warn_prf(average, modifier, msg_start, len(result))\n",
            "/usr/local/lib/python3.8/dist-packages/sklearn/metrics/_classification.py:1318: UndefinedMetricWarning: Precision and F-score are ill-defined and being set to 0.0 in labels with no predicted samples. Use `zero_division` parameter to control this behavior.\n",
            "  _warn_prf(average, modifier, msg_start, len(result))\n",
            "/usr/local/lib/python3.8/dist-packages/sklearn/metrics/_classification.py:1318: UndefinedMetricWarning: Precision and F-score are ill-defined and being set to 0.0 in labels with no predicted samples. Use `zero_division` parameter to control this behavior.\n",
            "  _warn_prf(average, modifier, msg_start, len(result))\n"
          ]
        },
        {
          "output_type": "stream",
          "name": "stdout",
          "text": [
            "63/63 [==============================] - 0s 2ms/step\n",
            "comm_round: 32 | global_acc: 66.500% | global_loss: 1.6274524927139282\n",
            "63/63 [==============================] - 0s 2ms/step\n"
          ]
        },
        {
          "output_type": "stream",
          "name": "stderr",
          "text": [
            "/usr/local/lib/python3.8/dist-packages/sklearn/metrics/_classification.py:1318: UndefinedMetricWarning: Precision and F-score are ill-defined and being set to 0.0 in labels with no predicted samples. Use `zero_division` parameter to control this behavior.\n",
            "  _warn_prf(average, modifier, msg_start, len(result))\n",
            "/usr/local/lib/python3.8/dist-packages/sklearn/metrics/_classification.py:1318: UndefinedMetricWarning: Precision and F-score are ill-defined and being set to 0.0 in labels with no predicted samples. Use `zero_division` parameter to control this behavior.\n",
            "  _warn_prf(average, modifier, msg_start, len(result))\n",
            "/usr/local/lib/python3.8/dist-packages/sklearn/metrics/_classification.py:1318: UndefinedMetricWarning: Precision and F-score are ill-defined and being set to 0.0 in labels with no predicted samples. Use `zero_division` parameter to control this behavior.\n",
            "  _warn_prf(average, modifier, msg_start, len(result))\n"
          ]
        },
        {
          "output_type": "stream",
          "name": "stdout",
          "text": [
            "63/63 [==============================] - 0s 2ms/step\n",
            "comm_round: 33 | global_acc: 66.400% | global_loss: 1.5707502365112305\n",
            "63/63 [==============================] - 0s 2ms/step\n"
          ]
        },
        {
          "output_type": "stream",
          "name": "stderr",
          "text": [
            "/usr/local/lib/python3.8/dist-packages/sklearn/metrics/_classification.py:1318: UndefinedMetricWarning: Precision and F-score are ill-defined and being set to 0.0 in labels with no predicted samples. Use `zero_division` parameter to control this behavior.\n",
            "  _warn_prf(average, modifier, msg_start, len(result))\n",
            "/usr/local/lib/python3.8/dist-packages/sklearn/metrics/_classification.py:1318: UndefinedMetricWarning: Precision and F-score are ill-defined and being set to 0.0 in labels with no predicted samples. Use `zero_division` parameter to control this behavior.\n",
            "  _warn_prf(average, modifier, msg_start, len(result))\n",
            "/usr/local/lib/python3.8/dist-packages/sklearn/metrics/_classification.py:1318: UndefinedMetricWarning: Precision and F-score are ill-defined and being set to 0.0 in labels with no predicted samples. Use `zero_division` parameter to control this behavior.\n",
            "  _warn_prf(average, modifier, msg_start, len(result))\n"
          ]
        },
        {
          "output_type": "stream",
          "name": "stdout",
          "text": [
            "63/63 [==============================] - 0s 2ms/step\n",
            "comm_round: 34 | global_acc: 66.400% | global_loss: 1.571716547012329\n",
            "63/63 [==============================] - 0s 2ms/step\n"
          ]
        },
        {
          "output_type": "stream",
          "name": "stderr",
          "text": [
            "/usr/local/lib/python3.8/dist-packages/sklearn/metrics/_classification.py:1318: UndefinedMetricWarning: Precision and F-score are ill-defined and being set to 0.0 in labels with no predicted samples. Use `zero_division` parameter to control this behavior.\n",
            "  _warn_prf(average, modifier, msg_start, len(result))\n",
            "/usr/local/lib/python3.8/dist-packages/sklearn/metrics/_classification.py:1318: UndefinedMetricWarning: Precision and F-score are ill-defined and being set to 0.0 in labels with no predicted samples. Use `zero_division` parameter to control this behavior.\n",
            "  _warn_prf(average, modifier, msg_start, len(result))\n",
            "/usr/local/lib/python3.8/dist-packages/sklearn/metrics/_classification.py:1318: UndefinedMetricWarning: Precision and F-score are ill-defined and being set to 0.0 in labels with no predicted samples. Use `zero_division` parameter to control this behavior.\n",
            "  _warn_prf(average, modifier, msg_start, len(result))\n"
          ]
        },
        {
          "output_type": "stream",
          "name": "stdout",
          "text": [
            "63/63 [==============================] - 0s 2ms/step\n",
            "comm_round: 35 | global_acc: 66.650% | global_loss: 1.6077755689620972\n",
            "63/63 [==============================] - 0s 2ms/step\n"
          ]
        },
        {
          "output_type": "stream",
          "name": "stderr",
          "text": [
            "/usr/local/lib/python3.8/dist-packages/sklearn/metrics/_classification.py:1318: UndefinedMetricWarning: Precision and F-score are ill-defined and being set to 0.0 in labels with no predicted samples. Use `zero_division` parameter to control this behavior.\n",
            "  _warn_prf(average, modifier, msg_start, len(result))\n",
            "/usr/local/lib/python3.8/dist-packages/sklearn/metrics/_classification.py:1318: UndefinedMetricWarning: Precision and F-score are ill-defined and being set to 0.0 in labels with no predicted samples. Use `zero_division` parameter to control this behavior.\n",
            "  _warn_prf(average, modifier, msg_start, len(result))\n",
            "/usr/local/lib/python3.8/dist-packages/sklearn/metrics/_classification.py:1318: UndefinedMetricWarning: Precision and F-score are ill-defined and being set to 0.0 in labels with no predicted samples. Use `zero_division` parameter to control this behavior.\n",
            "  _warn_prf(average, modifier, msg_start, len(result))\n"
          ]
        },
        {
          "output_type": "stream",
          "name": "stdout",
          "text": [
            "63/63 [==============================] - 0s 2ms/step\n",
            "comm_round: 36 | global_acc: 66.400% | global_loss: 1.5711044073104858\n",
            "63/63 [==============================] - 0s 2ms/step\n"
          ]
        },
        {
          "output_type": "stream",
          "name": "stderr",
          "text": [
            "/usr/local/lib/python3.8/dist-packages/sklearn/metrics/_classification.py:1318: UndefinedMetricWarning: Precision and F-score are ill-defined and being set to 0.0 in labels with no predicted samples. Use `zero_division` parameter to control this behavior.\n",
            "  _warn_prf(average, modifier, msg_start, len(result))\n",
            "/usr/local/lib/python3.8/dist-packages/sklearn/metrics/_classification.py:1318: UndefinedMetricWarning: Precision and F-score are ill-defined and being set to 0.0 in labels with no predicted samples. Use `zero_division` parameter to control this behavior.\n",
            "  _warn_prf(average, modifier, msg_start, len(result))\n",
            "/usr/local/lib/python3.8/dist-packages/sklearn/metrics/_classification.py:1318: UndefinedMetricWarning: Precision and F-score are ill-defined and being set to 0.0 in labels with no predicted samples. Use `zero_division` parameter to control this behavior.\n",
            "  _warn_prf(average, modifier, msg_start, len(result))\n"
          ]
        },
        {
          "output_type": "stream",
          "name": "stdout",
          "text": [
            "63/63 [==============================] - 0s 2ms/step\n",
            "comm_round: 37 | global_acc: 66.500% | global_loss: 1.571199655532837\n",
            "63/63 [==============================] - 0s 2ms/step\n"
          ]
        },
        {
          "output_type": "stream",
          "name": "stderr",
          "text": [
            "/usr/local/lib/python3.8/dist-packages/sklearn/metrics/_classification.py:1318: UndefinedMetricWarning: Precision and F-score are ill-defined and being set to 0.0 in labels with no predicted samples. Use `zero_division` parameter to control this behavior.\n",
            "  _warn_prf(average, modifier, msg_start, len(result))\n",
            "/usr/local/lib/python3.8/dist-packages/sklearn/metrics/_classification.py:1318: UndefinedMetricWarning: Precision and F-score are ill-defined and being set to 0.0 in labels with no predicted samples. Use `zero_division` parameter to control this behavior.\n",
            "  _warn_prf(average, modifier, msg_start, len(result))\n",
            "/usr/local/lib/python3.8/dist-packages/sklearn/metrics/_classification.py:1318: UndefinedMetricWarning: Precision and F-score are ill-defined and being set to 0.0 in labels with no predicted samples. Use `zero_division` parameter to control this behavior.\n",
            "  _warn_prf(average, modifier, msg_start, len(result))\n"
          ]
        },
        {
          "output_type": "stream",
          "name": "stdout",
          "text": [
            "63/63 [==============================] - 0s 2ms/step\n",
            "comm_round: 38 | global_acc: 66.700% | global_loss: 1.597794532775879\n",
            "63/63 [==============================] - 0s 2ms/step\n"
          ]
        },
        {
          "output_type": "stream",
          "name": "stderr",
          "text": [
            "/usr/local/lib/python3.8/dist-packages/sklearn/metrics/_classification.py:1318: UndefinedMetricWarning: Precision and F-score are ill-defined and being set to 0.0 in labels with no predicted samples. Use `zero_division` parameter to control this behavior.\n",
            "  _warn_prf(average, modifier, msg_start, len(result))\n",
            "/usr/local/lib/python3.8/dist-packages/sklearn/metrics/_classification.py:1318: UndefinedMetricWarning: Precision and F-score are ill-defined and being set to 0.0 in labels with no predicted samples. Use `zero_division` parameter to control this behavior.\n",
            "  _warn_prf(average, modifier, msg_start, len(result))\n",
            "/usr/local/lib/python3.8/dist-packages/sklearn/metrics/_classification.py:1318: UndefinedMetricWarning: Precision and F-score are ill-defined and being set to 0.0 in labels with no predicted samples. Use `zero_division` parameter to control this behavior.\n",
            "  _warn_prf(average, modifier, msg_start, len(result))\n"
          ]
        },
        {
          "output_type": "stream",
          "name": "stdout",
          "text": [
            "63/63 [==============================] - 0s 2ms/step\n",
            "comm_round: 39 | global_acc: 66.700% | global_loss: 1.587345838546753\n",
            "63/63 [==============================] - 0s 2ms/step\n"
          ]
        },
        {
          "output_type": "stream",
          "name": "stderr",
          "text": [
            "/usr/local/lib/python3.8/dist-packages/sklearn/metrics/_classification.py:1318: UndefinedMetricWarning: Precision and F-score are ill-defined and being set to 0.0 in labels with no predicted samples. Use `zero_division` parameter to control this behavior.\n",
            "  _warn_prf(average, modifier, msg_start, len(result))\n",
            "/usr/local/lib/python3.8/dist-packages/sklearn/metrics/_classification.py:1318: UndefinedMetricWarning: Precision and F-score are ill-defined and being set to 0.0 in labels with no predicted samples. Use `zero_division` parameter to control this behavior.\n",
            "  _warn_prf(average, modifier, msg_start, len(result))\n",
            "/usr/local/lib/python3.8/dist-packages/sklearn/metrics/_classification.py:1318: UndefinedMetricWarning: Precision and F-score are ill-defined and being set to 0.0 in labels with no predicted samples. Use `zero_division` parameter to control this behavior.\n",
            "  _warn_prf(average, modifier, msg_start, len(result))\n"
          ]
        },
        {
          "output_type": "stream",
          "name": "stdout",
          "text": [
            "63/63 [==============================] - 0s 2ms/step\n",
            "comm_round: 40 | global_acc: 66.450% | global_loss: 1.5677292346954346\n",
            "63/63 [==============================] - 0s 2ms/step\n"
          ]
        },
        {
          "output_type": "stream",
          "name": "stderr",
          "text": [
            "/usr/local/lib/python3.8/dist-packages/sklearn/metrics/_classification.py:1318: UndefinedMetricWarning: Precision and F-score are ill-defined and being set to 0.0 in labels with no predicted samples. Use `zero_division` parameter to control this behavior.\n",
            "  _warn_prf(average, modifier, msg_start, len(result))\n",
            "/usr/local/lib/python3.8/dist-packages/sklearn/metrics/_classification.py:1318: UndefinedMetricWarning: Precision and F-score are ill-defined and being set to 0.0 in labels with no predicted samples. Use `zero_division` parameter to control this behavior.\n",
            "  _warn_prf(average, modifier, msg_start, len(result))\n",
            "/usr/local/lib/python3.8/dist-packages/sklearn/metrics/_classification.py:1318: UndefinedMetricWarning: Precision and F-score are ill-defined and being set to 0.0 in labels with no predicted samples. Use `zero_division` parameter to control this behavior.\n",
            "  _warn_prf(average, modifier, msg_start, len(result))\n"
          ]
        },
        {
          "output_type": "stream",
          "name": "stdout",
          "text": [
            "63/63 [==============================] - 0s 2ms/step\n",
            "comm_round: 41 | global_acc: 66.650% | global_loss: 1.6060558557510376\n",
            "63/63 [==============================] - 0s 2ms/step\n"
          ]
        },
        {
          "output_type": "stream",
          "name": "stderr",
          "text": [
            "/usr/local/lib/python3.8/dist-packages/sklearn/metrics/_classification.py:1318: UndefinedMetricWarning: Precision and F-score are ill-defined and being set to 0.0 in labels with no predicted samples. Use `zero_division` parameter to control this behavior.\n",
            "  _warn_prf(average, modifier, msg_start, len(result))\n",
            "/usr/local/lib/python3.8/dist-packages/sklearn/metrics/_classification.py:1318: UndefinedMetricWarning: Precision and F-score are ill-defined and being set to 0.0 in labels with no predicted samples. Use `zero_division` parameter to control this behavior.\n",
            "  _warn_prf(average, modifier, msg_start, len(result))\n",
            "/usr/local/lib/python3.8/dist-packages/sklearn/metrics/_classification.py:1318: UndefinedMetricWarning: Precision and F-score are ill-defined and being set to 0.0 in labels with no predicted samples. Use `zero_division` parameter to control this behavior.\n",
            "  _warn_prf(average, modifier, msg_start, len(result))\n"
          ]
        },
        {
          "output_type": "stream",
          "name": "stdout",
          "text": [
            "63/63 [==============================] - 0s 2ms/step\n",
            "comm_round: 42 | global_acc: 67.049% | global_loss: 1.6309257745742798\n",
            "63/63 [==============================] - 0s 2ms/step\n"
          ]
        },
        {
          "output_type": "stream",
          "name": "stderr",
          "text": [
            "/usr/local/lib/python3.8/dist-packages/sklearn/metrics/_classification.py:1318: UndefinedMetricWarning: Precision and F-score are ill-defined and being set to 0.0 in labels with no predicted samples. Use `zero_division` parameter to control this behavior.\n",
            "  _warn_prf(average, modifier, msg_start, len(result))\n",
            "/usr/local/lib/python3.8/dist-packages/sklearn/metrics/_classification.py:1318: UndefinedMetricWarning: Precision and F-score are ill-defined and being set to 0.0 in labels with no predicted samples. Use `zero_division` parameter to control this behavior.\n",
            "  _warn_prf(average, modifier, msg_start, len(result))\n",
            "/usr/local/lib/python3.8/dist-packages/sklearn/metrics/_classification.py:1318: UndefinedMetricWarning: Precision and F-score are ill-defined and being set to 0.0 in labels with no predicted samples. Use `zero_division` parameter to control this behavior.\n",
            "  _warn_prf(average, modifier, msg_start, len(result))\n"
          ]
        },
        {
          "output_type": "stream",
          "name": "stdout",
          "text": [
            "63/63 [==============================] - 0s 2ms/step\n",
            "comm_round: 43 | global_acc: 66.700% | global_loss: 1.605690836906433\n",
            "63/63 [==============================] - 0s 2ms/step\n"
          ]
        },
        {
          "output_type": "stream",
          "name": "stderr",
          "text": [
            "/usr/local/lib/python3.8/dist-packages/sklearn/metrics/_classification.py:1318: UndefinedMetricWarning: Precision and F-score are ill-defined and being set to 0.0 in labels with no predicted samples. Use `zero_division` parameter to control this behavior.\n",
            "  _warn_prf(average, modifier, msg_start, len(result))\n",
            "/usr/local/lib/python3.8/dist-packages/sklearn/metrics/_classification.py:1318: UndefinedMetricWarning: Precision and F-score are ill-defined and being set to 0.0 in labels with no predicted samples. Use `zero_division` parameter to control this behavior.\n",
            "  _warn_prf(average, modifier, msg_start, len(result))\n",
            "/usr/local/lib/python3.8/dist-packages/sklearn/metrics/_classification.py:1318: UndefinedMetricWarning: Precision and F-score are ill-defined and being set to 0.0 in labels with no predicted samples. Use `zero_division` parameter to control this behavior.\n",
            "  _warn_prf(average, modifier, msg_start, len(result))\n"
          ]
        },
        {
          "output_type": "stream",
          "name": "stdout",
          "text": [
            "63/63 [==============================] - 0s 2ms/step\n",
            "comm_round: 44 | global_acc: 66.650% | global_loss: 1.6000574827194214\n",
            "63/63 [==============================] - 0s 2ms/step\n"
          ]
        },
        {
          "output_type": "stream",
          "name": "stderr",
          "text": [
            "/usr/local/lib/python3.8/dist-packages/sklearn/metrics/_classification.py:1318: UndefinedMetricWarning: Precision and F-score are ill-defined and being set to 0.0 in labels with no predicted samples. Use `zero_division` parameter to control this behavior.\n",
            "  _warn_prf(average, modifier, msg_start, len(result))\n",
            "/usr/local/lib/python3.8/dist-packages/sklearn/metrics/_classification.py:1318: UndefinedMetricWarning: Precision and F-score are ill-defined and being set to 0.0 in labels with no predicted samples. Use `zero_division` parameter to control this behavior.\n",
            "  _warn_prf(average, modifier, msg_start, len(result))\n",
            "/usr/local/lib/python3.8/dist-packages/sklearn/metrics/_classification.py:1318: UndefinedMetricWarning: Precision and F-score are ill-defined and being set to 0.0 in labels with no predicted samples. Use `zero_division` parameter to control this behavior.\n",
            "  _warn_prf(average, modifier, msg_start, len(result))\n"
          ]
        },
        {
          "output_type": "stream",
          "name": "stdout",
          "text": [
            "63/63 [==============================] - 0s 2ms/step\n",
            "comm_round: 45 | global_acc: 66.550% | global_loss: 1.5938482284545898\n",
            "63/63 [==============================] - 0s 2ms/step\n"
          ]
        },
        {
          "output_type": "stream",
          "name": "stderr",
          "text": [
            "/usr/local/lib/python3.8/dist-packages/sklearn/metrics/_classification.py:1318: UndefinedMetricWarning: Precision and F-score are ill-defined and being set to 0.0 in labels with no predicted samples. Use `zero_division` parameter to control this behavior.\n",
            "  _warn_prf(average, modifier, msg_start, len(result))\n",
            "/usr/local/lib/python3.8/dist-packages/sklearn/metrics/_classification.py:1318: UndefinedMetricWarning: Precision and F-score are ill-defined and being set to 0.0 in labels with no predicted samples. Use `zero_division` parameter to control this behavior.\n",
            "  _warn_prf(average, modifier, msg_start, len(result))\n",
            "/usr/local/lib/python3.8/dist-packages/sklearn/metrics/_classification.py:1318: UndefinedMetricWarning: Precision and F-score are ill-defined and being set to 0.0 in labels with no predicted samples. Use `zero_division` parameter to control this behavior.\n",
            "  _warn_prf(average, modifier, msg_start, len(result))\n"
          ]
        },
        {
          "output_type": "stream",
          "name": "stdout",
          "text": [
            "63/63 [==============================] - 0s 2ms/step\n",
            "comm_round: 46 | global_acc: 66.800% | global_loss: 1.5912338495254517\n",
            "63/63 [==============================] - 0s 2ms/step\n"
          ]
        },
        {
          "output_type": "stream",
          "name": "stderr",
          "text": [
            "/usr/local/lib/python3.8/dist-packages/sklearn/metrics/_classification.py:1318: UndefinedMetricWarning: Precision and F-score are ill-defined and being set to 0.0 in labels with no predicted samples. Use `zero_division` parameter to control this behavior.\n",
            "  _warn_prf(average, modifier, msg_start, len(result))\n",
            "/usr/local/lib/python3.8/dist-packages/sklearn/metrics/_classification.py:1318: UndefinedMetricWarning: Precision and F-score are ill-defined and being set to 0.0 in labels with no predicted samples. Use `zero_division` parameter to control this behavior.\n",
            "  _warn_prf(average, modifier, msg_start, len(result))\n",
            "/usr/local/lib/python3.8/dist-packages/sklearn/metrics/_classification.py:1318: UndefinedMetricWarning: Precision and F-score are ill-defined and being set to 0.0 in labels with no predicted samples. Use `zero_division` parameter to control this behavior.\n",
            "  _warn_prf(average, modifier, msg_start, len(result))\n"
          ]
        },
        {
          "output_type": "stream",
          "name": "stdout",
          "text": [
            "63/63 [==============================] - 0s 2ms/step\n",
            "comm_round: 47 | global_acc: 66.600% | global_loss: 1.5730359554290771\n",
            "63/63 [==============================] - 0s 2ms/step\n"
          ]
        },
        {
          "output_type": "stream",
          "name": "stderr",
          "text": [
            "/usr/local/lib/python3.8/dist-packages/sklearn/metrics/_classification.py:1318: UndefinedMetricWarning: Precision and F-score are ill-defined and being set to 0.0 in labels with no predicted samples. Use `zero_division` parameter to control this behavior.\n",
            "  _warn_prf(average, modifier, msg_start, len(result))\n",
            "/usr/local/lib/python3.8/dist-packages/sklearn/metrics/_classification.py:1318: UndefinedMetricWarning: Precision and F-score are ill-defined and being set to 0.0 in labels with no predicted samples. Use `zero_division` parameter to control this behavior.\n",
            "  _warn_prf(average, modifier, msg_start, len(result))\n",
            "/usr/local/lib/python3.8/dist-packages/sklearn/metrics/_classification.py:1318: UndefinedMetricWarning: Precision and F-score are ill-defined and being set to 0.0 in labels with no predicted samples. Use `zero_division` parameter to control this behavior.\n",
            "  _warn_prf(average, modifier, msg_start, len(result))\n"
          ]
        },
        {
          "output_type": "stream",
          "name": "stdout",
          "text": [
            "63/63 [==============================] - 0s 2ms/step\n",
            "comm_round: 48 | global_acc: 66.750% | global_loss: 1.601218581199646\n",
            "63/63 [==============================] - 0s 2ms/step\n"
          ]
        },
        {
          "output_type": "stream",
          "name": "stderr",
          "text": [
            "/usr/local/lib/python3.8/dist-packages/sklearn/metrics/_classification.py:1318: UndefinedMetricWarning: Precision and F-score are ill-defined and being set to 0.0 in labels with no predicted samples. Use `zero_division` parameter to control this behavior.\n",
            "  _warn_prf(average, modifier, msg_start, len(result))\n",
            "/usr/local/lib/python3.8/dist-packages/sklearn/metrics/_classification.py:1318: UndefinedMetricWarning: Precision and F-score are ill-defined and being set to 0.0 in labels with no predicted samples. Use `zero_division` parameter to control this behavior.\n",
            "  _warn_prf(average, modifier, msg_start, len(result))\n",
            "/usr/local/lib/python3.8/dist-packages/sklearn/metrics/_classification.py:1318: UndefinedMetricWarning: Precision and F-score are ill-defined and being set to 0.0 in labels with no predicted samples. Use `zero_division` parameter to control this behavior.\n",
            "  _warn_prf(average, modifier, msg_start, len(result))\n"
          ]
        },
        {
          "output_type": "stream",
          "name": "stdout",
          "text": [
            "63/63 [==============================] - 0s 3ms/step\n",
            "comm_round: 49 | global_acc: 66.750% | global_loss: 1.5926952362060547\n",
            "63/63 [==============================] - 0s 3ms/step\n"
          ]
        },
        {
          "output_type": "stream",
          "name": "stderr",
          "text": [
            "/usr/local/lib/python3.8/dist-packages/sklearn/metrics/_classification.py:1318: UndefinedMetricWarning: Precision and F-score are ill-defined and being set to 0.0 in labels with no predicted samples. Use `zero_division` parameter to control this behavior.\n",
            "  _warn_prf(average, modifier, msg_start, len(result))\n",
            "/usr/local/lib/python3.8/dist-packages/sklearn/metrics/_classification.py:1318: UndefinedMetricWarning: Precision and F-score are ill-defined and being set to 0.0 in labels with no predicted samples. Use `zero_division` parameter to control this behavior.\n",
            "  _warn_prf(average, modifier, msg_start, len(result))\n",
            "/usr/local/lib/python3.8/dist-packages/sklearn/metrics/_classification.py:1318: UndefinedMetricWarning: Precision and F-score are ill-defined and being set to 0.0 in labels with no predicted samples. Use `zero_division` parameter to control this behavior.\n",
            "  _warn_prf(average, modifier, msg_start, len(result))\n"
          ]
        },
        {
          "output_type": "stream",
          "name": "stdout",
          "text": [
            "63/63 [==============================] - 0s 2ms/step\n",
            "comm_round: 50 | global_acc: 66.650% | global_loss: 1.5787019729614258\n",
            "63/63 [==============================] - 0s 2ms/step\n"
          ]
        },
        {
          "output_type": "stream",
          "name": "stderr",
          "text": [
            "/usr/local/lib/python3.8/dist-packages/sklearn/metrics/_classification.py:1318: UndefinedMetricWarning: Precision and F-score are ill-defined and being set to 0.0 in labels with no predicted samples. Use `zero_division` parameter to control this behavior.\n",
            "  _warn_prf(average, modifier, msg_start, len(result))\n",
            "/usr/local/lib/python3.8/dist-packages/sklearn/metrics/_classification.py:1318: UndefinedMetricWarning: Precision and F-score are ill-defined and being set to 0.0 in labels with no predicted samples. Use `zero_division` parameter to control this behavior.\n",
            "  _warn_prf(average, modifier, msg_start, len(result))\n",
            "/usr/local/lib/python3.8/dist-packages/sklearn/metrics/_classification.py:1318: UndefinedMetricWarning: Precision and F-score are ill-defined and being set to 0.0 in labels with no predicted samples. Use `zero_division` parameter to control this behavior.\n",
            "  _warn_prf(average, modifier, msg_start, len(result))\n"
          ]
        },
        {
          "output_type": "stream",
          "name": "stdout",
          "text": [
            "63/63 [==============================] - 0s 2ms/step\n",
            "comm_round: 51 | global_acc: 67.000% | global_loss: 1.6115362644195557\n",
            "63/63 [==============================] - 0s 2ms/step\n"
          ]
        },
        {
          "output_type": "stream",
          "name": "stderr",
          "text": [
            "/usr/local/lib/python3.8/dist-packages/sklearn/metrics/_classification.py:1318: UndefinedMetricWarning: Precision and F-score are ill-defined and being set to 0.0 in labels with no predicted samples. Use `zero_division` parameter to control this behavior.\n",
            "  _warn_prf(average, modifier, msg_start, len(result))\n",
            "/usr/local/lib/python3.8/dist-packages/sklearn/metrics/_classification.py:1318: UndefinedMetricWarning: Precision and F-score are ill-defined and being set to 0.0 in labels with no predicted samples. Use `zero_division` parameter to control this behavior.\n",
            "  _warn_prf(average, modifier, msg_start, len(result))\n",
            "/usr/local/lib/python3.8/dist-packages/sklearn/metrics/_classification.py:1318: UndefinedMetricWarning: Precision and F-score are ill-defined and being set to 0.0 in labels with no predicted samples. Use `zero_division` parameter to control this behavior.\n",
            "  _warn_prf(average, modifier, msg_start, len(result))\n"
          ]
        },
        {
          "output_type": "stream",
          "name": "stdout",
          "text": [
            "63/63 [==============================] - 0s 2ms/step\n",
            "comm_round: 52 | global_acc: 66.900% | global_loss: 1.5985995531082153\n",
            "63/63 [==============================] - 0s 2ms/step\n"
          ]
        },
        {
          "output_type": "stream",
          "name": "stderr",
          "text": [
            "/usr/local/lib/python3.8/dist-packages/sklearn/metrics/_classification.py:1318: UndefinedMetricWarning: Precision and F-score are ill-defined and being set to 0.0 in labels with no predicted samples. Use `zero_division` parameter to control this behavior.\n",
            "  _warn_prf(average, modifier, msg_start, len(result))\n",
            "/usr/local/lib/python3.8/dist-packages/sklearn/metrics/_classification.py:1318: UndefinedMetricWarning: Precision and F-score are ill-defined and being set to 0.0 in labels with no predicted samples. Use `zero_division` parameter to control this behavior.\n",
            "  _warn_prf(average, modifier, msg_start, len(result))\n",
            "/usr/local/lib/python3.8/dist-packages/sklearn/metrics/_classification.py:1318: UndefinedMetricWarning: Precision and F-score are ill-defined and being set to 0.0 in labels with no predicted samples. Use `zero_division` parameter to control this behavior.\n",
            "  _warn_prf(average, modifier, msg_start, len(result))\n"
          ]
        },
        {
          "output_type": "stream",
          "name": "stdout",
          "text": [
            "63/63 [==============================] - 0s 2ms/step\n",
            "comm_round: 53 | global_acc: 66.600% | global_loss: 1.5748372077941895\n",
            "63/63 [==============================] - 0s 2ms/step\n"
          ]
        },
        {
          "output_type": "stream",
          "name": "stderr",
          "text": [
            "/usr/local/lib/python3.8/dist-packages/sklearn/metrics/_classification.py:1318: UndefinedMetricWarning: Precision and F-score are ill-defined and being set to 0.0 in labels with no predicted samples. Use `zero_division` parameter to control this behavior.\n",
            "  _warn_prf(average, modifier, msg_start, len(result))\n",
            "/usr/local/lib/python3.8/dist-packages/sklearn/metrics/_classification.py:1318: UndefinedMetricWarning: Precision and F-score are ill-defined and being set to 0.0 in labels with no predicted samples. Use `zero_division` parameter to control this behavior.\n",
            "  _warn_prf(average, modifier, msg_start, len(result))\n",
            "/usr/local/lib/python3.8/dist-packages/sklearn/metrics/_classification.py:1318: UndefinedMetricWarning: Precision and F-score are ill-defined and being set to 0.0 in labels with no predicted samples. Use `zero_division` parameter to control this behavior.\n",
            "  _warn_prf(average, modifier, msg_start, len(result))\n"
          ]
        },
        {
          "output_type": "stream",
          "name": "stdout",
          "text": [
            "63/63 [==============================] - 0s 2ms/step\n",
            "comm_round: 54 | global_acc: 66.650% | global_loss: 1.5642030239105225\n",
            "63/63 [==============================] - 0s 2ms/step\n"
          ]
        },
        {
          "output_type": "stream",
          "name": "stderr",
          "text": [
            "/usr/local/lib/python3.8/dist-packages/sklearn/metrics/_classification.py:1318: UndefinedMetricWarning: Precision and F-score are ill-defined and being set to 0.0 in labels with no predicted samples. Use `zero_division` parameter to control this behavior.\n",
            "  _warn_prf(average, modifier, msg_start, len(result))\n",
            "/usr/local/lib/python3.8/dist-packages/sklearn/metrics/_classification.py:1318: UndefinedMetricWarning: Precision and F-score are ill-defined and being set to 0.0 in labels with no predicted samples. Use `zero_division` parameter to control this behavior.\n",
            "  _warn_prf(average, modifier, msg_start, len(result))\n",
            "/usr/local/lib/python3.8/dist-packages/sklearn/metrics/_classification.py:1318: UndefinedMetricWarning: Precision and F-score are ill-defined and being set to 0.0 in labels with no predicted samples. Use `zero_division` parameter to control this behavior.\n",
            "  _warn_prf(average, modifier, msg_start, len(result))\n"
          ]
        },
        {
          "output_type": "stream",
          "name": "stdout",
          "text": [
            "63/63 [==============================] - 0s 2ms/step\n",
            "comm_round: 55 | global_acc: 66.750% | global_loss: 1.5879238843917847\n",
            "63/63 [==============================] - 0s 2ms/step\n"
          ]
        },
        {
          "output_type": "stream",
          "name": "stderr",
          "text": [
            "/usr/local/lib/python3.8/dist-packages/sklearn/metrics/_classification.py:1318: UndefinedMetricWarning: Precision and F-score are ill-defined and being set to 0.0 in labels with no predicted samples. Use `zero_division` parameter to control this behavior.\n",
            "  _warn_prf(average, modifier, msg_start, len(result))\n",
            "/usr/local/lib/python3.8/dist-packages/sklearn/metrics/_classification.py:1318: UndefinedMetricWarning: Precision and F-score are ill-defined and being set to 0.0 in labels with no predicted samples. Use `zero_division` parameter to control this behavior.\n",
            "  _warn_prf(average, modifier, msg_start, len(result))\n",
            "/usr/local/lib/python3.8/dist-packages/sklearn/metrics/_classification.py:1318: UndefinedMetricWarning: Precision and F-score are ill-defined and being set to 0.0 in labels with no predicted samples. Use `zero_division` parameter to control this behavior.\n",
            "  _warn_prf(average, modifier, msg_start, len(result))\n"
          ]
        },
        {
          "output_type": "stream",
          "name": "stdout",
          "text": [
            "63/63 [==============================] - 0s 2ms/step\n",
            "comm_round: 56 | global_acc: 67.199% | global_loss: 1.617919921875\n",
            "63/63 [==============================] - 0s 2ms/step\n"
          ]
        },
        {
          "output_type": "stream",
          "name": "stderr",
          "text": [
            "/usr/local/lib/python3.8/dist-packages/sklearn/metrics/_classification.py:1318: UndefinedMetricWarning: Precision and F-score are ill-defined and being set to 0.0 in labels with no predicted samples. Use `zero_division` parameter to control this behavior.\n",
            "  _warn_prf(average, modifier, msg_start, len(result))\n",
            "/usr/local/lib/python3.8/dist-packages/sklearn/metrics/_classification.py:1318: UndefinedMetricWarning: Precision and F-score are ill-defined and being set to 0.0 in labels with no predicted samples. Use `zero_division` parameter to control this behavior.\n",
            "  _warn_prf(average, modifier, msg_start, len(result))\n",
            "/usr/local/lib/python3.8/dist-packages/sklearn/metrics/_classification.py:1318: UndefinedMetricWarning: Precision and F-score are ill-defined and being set to 0.0 in labels with no predicted samples. Use `zero_division` parameter to control this behavior.\n",
            "  _warn_prf(average, modifier, msg_start, len(result))\n"
          ]
        },
        {
          "output_type": "stream",
          "name": "stdout",
          "text": [
            "63/63 [==============================] - 0s 2ms/step\n",
            "comm_round: 57 | global_acc: 67.099% | global_loss: 1.5992043018341064\n",
            "63/63 [==============================] - 0s 2ms/step\n"
          ]
        },
        {
          "output_type": "stream",
          "name": "stderr",
          "text": [
            "/usr/local/lib/python3.8/dist-packages/sklearn/metrics/_classification.py:1318: UndefinedMetricWarning: Precision and F-score are ill-defined and being set to 0.0 in labels with no predicted samples. Use `zero_division` parameter to control this behavior.\n",
            "  _warn_prf(average, modifier, msg_start, len(result))\n",
            "/usr/local/lib/python3.8/dist-packages/sklearn/metrics/_classification.py:1318: UndefinedMetricWarning: Precision and F-score are ill-defined and being set to 0.0 in labels with no predicted samples. Use `zero_division` parameter to control this behavior.\n",
            "  _warn_prf(average, modifier, msg_start, len(result))\n",
            "/usr/local/lib/python3.8/dist-packages/sklearn/metrics/_classification.py:1318: UndefinedMetricWarning: Precision and F-score are ill-defined and being set to 0.0 in labels with no predicted samples. Use `zero_division` parameter to control this behavior.\n",
            "  _warn_prf(average, modifier, msg_start, len(result))\n"
          ]
        },
        {
          "output_type": "stream",
          "name": "stdout",
          "text": [
            "63/63 [==============================] - 0s 2ms/step\n",
            "comm_round: 58 | global_acc: 66.700% | global_loss: 1.5806244611740112\n",
            "63/63 [==============================] - 0s 2ms/step\n"
          ]
        },
        {
          "output_type": "stream",
          "name": "stderr",
          "text": [
            "/usr/local/lib/python3.8/dist-packages/sklearn/metrics/_classification.py:1318: UndefinedMetricWarning: Precision and F-score are ill-defined and being set to 0.0 in labels with no predicted samples. Use `zero_division` parameter to control this behavior.\n",
            "  _warn_prf(average, modifier, msg_start, len(result))\n",
            "/usr/local/lib/python3.8/dist-packages/sklearn/metrics/_classification.py:1318: UndefinedMetricWarning: Precision and F-score are ill-defined and being set to 0.0 in labels with no predicted samples. Use `zero_division` parameter to control this behavior.\n",
            "  _warn_prf(average, modifier, msg_start, len(result))\n",
            "/usr/local/lib/python3.8/dist-packages/sklearn/metrics/_classification.py:1318: UndefinedMetricWarning: Precision and F-score are ill-defined and being set to 0.0 in labels with no predicted samples. Use `zero_division` parameter to control this behavior.\n",
            "  _warn_prf(average, modifier, msg_start, len(result))\n"
          ]
        },
        {
          "output_type": "stream",
          "name": "stdout",
          "text": [
            "63/63 [==============================] - 0s 2ms/step\n",
            "comm_round: 59 | global_acc: 67.049% | global_loss: 1.599320650100708\n",
            "63/63 [==============================] - 0s 2ms/step\n"
          ]
        },
        {
          "output_type": "stream",
          "name": "stderr",
          "text": [
            "/usr/local/lib/python3.8/dist-packages/sklearn/metrics/_classification.py:1318: UndefinedMetricWarning: Precision and F-score are ill-defined and being set to 0.0 in labels with no predicted samples. Use `zero_division` parameter to control this behavior.\n",
            "  _warn_prf(average, modifier, msg_start, len(result))\n",
            "/usr/local/lib/python3.8/dist-packages/sklearn/metrics/_classification.py:1318: UndefinedMetricWarning: Precision and F-score are ill-defined and being set to 0.0 in labels with no predicted samples. Use `zero_division` parameter to control this behavior.\n",
            "  _warn_prf(average, modifier, msg_start, len(result))\n",
            "/usr/local/lib/python3.8/dist-packages/sklearn/metrics/_classification.py:1318: UndefinedMetricWarning: Precision and F-score are ill-defined and being set to 0.0 in labels with no predicted samples. Use `zero_division` parameter to control this behavior.\n",
            "  _warn_prf(average, modifier, msg_start, len(result))\n"
          ]
        },
        {
          "output_type": "stream",
          "name": "stdout",
          "text": [
            "63/63 [==============================] - 0s 2ms/step\n",
            "comm_round: 60 | global_acc: 66.750% | global_loss: 1.591705083847046\n",
            "63/63 [==============================] - 0s 2ms/step\n"
          ]
        },
        {
          "output_type": "stream",
          "name": "stderr",
          "text": [
            "/usr/local/lib/python3.8/dist-packages/sklearn/metrics/_classification.py:1318: UndefinedMetricWarning: Precision and F-score are ill-defined and being set to 0.0 in labels with no predicted samples. Use `zero_division` parameter to control this behavior.\n",
            "  _warn_prf(average, modifier, msg_start, len(result))\n",
            "/usr/local/lib/python3.8/dist-packages/sklearn/metrics/_classification.py:1318: UndefinedMetricWarning: Precision and F-score are ill-defined and being set to 0.0 in labels with no predicted samples. Use `zero_division` parameter to control this behavior.\n",
            "  _warn_prf(average, modifier, msg_start, len(result))\n",
            "/usr/local/lib/python3.8/dist-packages/sklearn/metrics/_classification.py:1318: UndefinedMetricWarning: Precision and F-score are ill-defined and being set to 0.0 in labels with no predicted samples. Use `zero_division` parameter to control this behavior.\n",
            "  _warn_prf(average, modifier, msg_start, len(result))\n"
          ]
        },
        {
          "output_type": "stream",
          "name": "stdout",
          "text": [
            "63/63 [==============================] - 0s 2ms/step\n",
            "comm_round: 61 | global_acc: 67.049% | global_loss: 1.6224967241287231\n",
            "63/63 [==============================] - 0s 2ms/step\n"
          ]
        },
        {
          "output_type": "stream",
          "name": "stderr",
          "text": [
            "/usr/local/lib/python3.8/dist-packages/sklearn/metrics/_classification.py:1318: UndefinedMetricWarning: Precision and F-score are ill-defined and being set to 0.0 in labels with no predicted samples. Use `zero_division` parameter to control this behavior.\n",
            "  _warn_prf(average, modifier, msg_start, len(result))\n",
            "/usr/local/lib/python3.8/dist-packages/sklearn/metrics/_classification.py:1318: UndefinedMetricWarning: Precision and F-score are ill-defined and being set to 0.0 in labels with no predicted samples. Use `zero_division` parameter to control this behavior.\n",
            "  _warn_prf(average, modifier, msg_start, len(result))\n",
            "/usr/local/lib/python3.8/dist-packages/sklearn/metrics/_classification.py:1318: UndefinedMetricWarning: Precision and F-score are ill-defined and being set to 0.0 in labels with no predicted samples. Use `zero_division` parameter to control this behavior.\n",
            "  _warn_prf(average, modifier, msg_start, len(result))\n"
          ]
        },
        {
          "output_type": "stream",
          "name": "stdout",
          "text": [
            "63/63 [==============================] - 0s 2ms/step\n",
            "comm_round: 62 | global_acc: 67.000% | global_loss: 1.5956628322601318\n",
            "63/63 [==============================] - 0s 2ms/step\n"
          ]
        },
        {
          "output_type": "stream",
          "name": "stderr",
          "text": [
            "/usr/local/lib/python3.8/dist-packages/sklearn/metrics/_classification.py:1318: UndefinedMetricWarning: Precision and F-score are ill-defined and being set to 0.0 in labels with no predicted samples. Use `zero_division` parameter to control this behavior.\n",
            "  _warn_prf(average, modifier, msg_start, len(result))\n",
            "/usr/local/lib/python3.8/dist-packages/sklearn/metrics/_classification.py:1318: UndefinedMetricWarning: Precision and F-score are ill-defined and being set to 0.0 in labels with no predicted samples. Use `zero_division` parameter to control this behavior.\n",
            "  _warn_prf(average, modifier, msg_start, len(result))\n",
            "/usr/local/lib/python3.8/dist-packages/sklearn/metrics/_classification.py:1318: UndefinedMetricWarning: Precision and F-score are ill-defined and being set to 0.0 in labels with no predicted samples. Use `zero_division` parameter to control this behavior.\n",
            "  _warn_prf(average, modifier, msg_start, len(result))\n"
          ]
        },
        {
          "output_type": "stream",
          "name": "stdout",
          "text": [
            "63/63 [==============================] - 0s 2ms/step\n",
            "comm_round: 63 | global_acc: 67.099% | global_loss: 1.6023776531219482\n",
            "63/63 [==============================] - 0s 2ms/step\n"
          ]
        },
        {
          "output_type": "stream",
          "name": "stderr",
          "text": [
            "/usr/local/lib/python3.8/dist-packages/sklearn/metrics/_classification.py:1318: UndefinedMetricWarning: Precision and F-score are ill-defined and being set to 0.0 in labels with no predicted samples. Use `zero_division` parameter to control this behavior.\n",
            "  _warn_prf(average, modifier, msg_start, len(result))\n",
            "/usr/local/lib/python3.8/dist-packages/sklearn/metrics/_classification.py:1318: UndefinedMetricWarning: Precision and F-score are ill-defined and being set to 0.0 in labels with no predicted samples. Use `zero_division` parameter to control this behavior.\n",
            "  _warn_prf(average, modifier, msg_start, len(result))\n",
            "/usr/local/lib/python3.8/dist-packages/sklearn/metrics/_classification.py:1318: UndefinedMetricWarning: Precision and F-score are ill-defined and being set to 0.0 in labels with no predicted samples. Use `zero_division` parameter to control this behavior.\n",
            "  _warn_prf(average, modifier, msg_start, len(result))\n"
          ]
        },
        {
          "output_type": "stream",
          "name": "stdout",
          "text": [
            "63/63 [==============================] - 0s 2ms/step\n",
            "comm_round: 64 | global_acc: 67.149% | global_loss: 1.6079528331756592\n",
            "63/63 [==============================] - 0s 2ms/step\n"
          ]
        },
        {
          "output_type": "stream",
          "name": "stderr",
          "text": [
            "/usr/local/lib/python3.8/dist-packages/sklearn/metrics/_classification.py:1318: UndefinedMetricWarning: Precision and F-score are ill-defined and being set to 0.0 in labels with no predicted samples. Use `zero_division` parameter to control this behavior.\n",
            "  _warn_prf(average, modifier, msg_start, len(result))\n",
            "/usr/local/lib/python3.8/dist-packages/sklearn/metrics/_classification.py:1318: UndefinedMetricWarning: Precision and F-score are ill-defined and being set to 0.0 in labels with no predicted samples. Use `zero_division` parameter to control this behavior.\n",
            "  _warn_prf(average, modifier, msg_start, len(result))\n",
            "/usr/local/lib/python3.8/dist-packages/sklearn/metrics/_classification.py:1318: UndefinedMetricWarning: Precision and F-score are ill-defined and being set to 0.0 in labels with no predicted samples. Use `zero_division` parameter to control this behavior.\n",
            "  _warn_prf(average, modifier, msg_start, len(result))\n"
          ]
        },
        {
          "output_type": "stream",
          "name": "stdout",
          "text": [
            "63/63 [==============================] - 0s 2ms/step\n",
            "comm_round: 65 | global_acc: 66.950% | global_loss: 1.5985876321792603\n",
            "63/63 [==============================] - 0s 2ms/step\n"
          ]
        },
        {
          "output_type": "stream",
          "name": "stderr",
          "text": [
            "/usr/local/lib/python3.8/dist-packages/sklearn/metrics/_classification.py:1318: UndefinedMetricWarning: Precision and F-score are ill-defined and being set to 0.0 in labels with no predicted samples. Use `zero_division` parameter to control this behavior.\n",
            "  _warn_prf(average, modifier, msg_start, len(result))\n",
            "/usr/local/lib/python3.8/dist-packages/sklearn/metrics/_classification.py:1318: UndefinedMetricWarning: Precision and F-score are ill-defined and being set to 0.0 in labels with no predicted samples. Use `zero_division` parameter to control this behavior.\n",
            "  _warn_prf(average, modifier, msg_start, len(result))\n",
            "/usr/local/lib/python3.8/dist-packages/sklearn/metrics/_classification.py:1318: UndefinedMetricWarning: Precision and F-score are ill-defined and being set to 0.0 in labels with no predicted samples. Use `zero_division` parameter to control this behavior.\n",
            "  _warn_prf(average, modifier, msg_start, len(result))\n"
          ]
        },
        {
          "output_type": "stream",
          "name": "stdout",
          "text": [
            "63/63 [==============================] - 0s 2ms/step\n",
            "comm_round: 66 | global_acc: 66.800% | global_loss: 1.585093379020691\n",
            "63/63 [==============================] - 0s 2ms/step\n"
          ]
        },
        {
          "output_type": "stream",
          "name": "stderr",
          "text": [
            "/usr/local/lib/python3.8/dist-packages/sklearn/metrics/_classification.py:1318: UndefinedMetricWarning: Precision and F-score are ill-defined and being set to 0.0 in labels with no predicted samples. Use `zero_division` parameter to control this behavior.\n",
            "  _warn_prf(average, modifier, msg_start, len(result))\n",
            "/usr/local/lib/python3.8/dist-packages/sklearn/metrics/_classification.py:1318: UndefinedMetricWarning: Precision and F-score are ill-defined and being set to 0.0 in labels with no predicted samples. Use `zero_division` parameter to control this behavior.\n",
            "  _warn_prf(average, modifier, msg_start, len(result))\n",
            "/usr/local/lib/python3.8/dist-packages/sklearn/metrics/_classification.py:1318: UndefinedMetricWarning: Precision and F-score are ill-defined and being set to 0.0 in labels with no predicted samples. Use `zero_division` parameter to control this behavior.\n",
            "  _warn_prf(average, modifier, msg_start, len(result))\n"
          ]
        },
        {
          "output_type": "stream",
          "name": "stdout",
          "text": [
            "63/63 [==============================] - 0s 2ms/step\n",
            "comm_round: 67 | global_acc: 66.700% | global_loss: 1.5717345476150513\n",
            "63/63 [==============================] - 0s 2ms/step\n"
          ]
        },
        {
          "output_type": "stream",
          "name": "stderr",
          "text": [
            "/usr/local/lib/python3.8/dist-packages/sklearn/metrics/_classification.py:1318: UndefinedMetricWarning: Precision and F-score are ill-defined and being set to 0.0 in labels with no predicted samples. Use `zero_division` parameter to control this behavior.\n",
            "  _warn_prf(average, modifier, msg_start, len(result))\n",
            "/usr/local/lib/python3.8/dist-packages/sklearn/metrics/_classification.py:1318: UndefinedMetricWarning: Precision and F-score are ill-defined and being set to 0.0 in labels with no predicted samples. Use `zero_division` parameter to control this behavior.\n",
            "  _warn_prf(average, modifier, msg_start, len(result))\n",
            "/usr/local/lib/python3.8/dist-packages/sklearn/metrics/_classification.py:1318: UndefinedMetricWarning: Precision and F-score are ill-defined and being set to 0.0 in labels with no predicted samples. Use `zero_division` parameter to control this behavior.\n",
            "  _warn_prf(average, modifier, msg_start, len(result))\n"
          ]
        },
        {
          "output_type": "stream",
          "name": "stdout",
          "text": [
            "63/63 [==============================] - 0s 2ms/step\n",
            "comm_round: 68 | global_acc: 67.000% | global_loss: 1.6092394590377808\n",
            "63/63 [==============================] - 0s 2ms/step\n"
          ]
        },
        {
          "output_type": "stream",
          "name": "stderr",
          "text": [
            "/usr/local/lib/python3.8/dist-packages/sklearn/metrics/_classification.py:1318: UndefinedMetricWarning: Precision and F-score are ill-defined and being set to 0.0 in labels with no predicted samples. Use `zero_division` parameter to control this behavior.\n",
            "  _warn_prf(average, modifier, msg_start, len(result))\n",
            "/usr/local/lib/python3.8/dist-packages/sklearn/metrics/_classification.py:1318: UndefinedMetricWarning: Precision and F-score are ill-defined and being set to 0.0 in labels with no predicted samples. Use `zero_division` parameter to control this behavior.\n",
            "  _warn_prf(average, modifier, msg_start, len(result))\n",
            "/usr/local/lib/python3.8/dist-packages/sklearn/metrics/_classification.py:1318: UndefinedMetricWarning: Precision and F-score are ill-defined and being set to 0.0 in labels with no predicted samples. Use `zero_division` parameter to control this behavior.\n",
            "  _warn_prf(average, modifier, msg_start, len(result))\n"
          ]
        },
        {
          "output_type": "stream",
          "name": "stdout",
          "text": [
            "63/63 [==============================] - 0s 2ms/step\n",
            "comm_round: 69 | global_acc: 66.750% | global_loss: 1.5800577402114868\n",
            "63/63 [==============================] - 0s 2ms/step\n"
          ]
        },
        {
          "output_type": "stream",
          "name": "stderr",
          "text": [
            "/usr/local/lib/python3.8/dist-packages/sklearn/metrics/_classification.py:1318: UndefinedMetricWarning: Precision and F-score are ill-defined and being set to 0.0 in labels with no predicted samples. Use `zero_division` parameter to control this behavior.\n",
            "  _warn_prf(average, modifier, msg_start, len(result))\n",
            "/usr/local/lib/python3.8/dist-packages/sklearn/metrics/_classification.py:1318: UndefinedMetricWarning: Precision and F-score are ill-defined and being set to 0.0 in labels with no predicted samples. Use `zero_division` parameter to control this behavior.\n",
            "  _warn_prf(average, modifier, msg_start, len(result))\n",
            "/usr/local/lib/python3.8/dist-packages/sklearn/metrics/_classification.py:1318: UndefinedMetricWarning: Precision and F-score are ill-defined and being set to 0.0 in labels with no predicted samples. Use `zero_division` parameter to control this behavior.\n",
            "  _warn_prf(average, modifier, msg_start, len(result))\n"
          ]
        },
        {
          "output_type": "stream",
          "name": "stdout",
          "text": [
            "63/63 [==============================] - 0s 2ms/step\n",
            "comm_round: 70 | global_acc: 67.149% | global_loss: 1.583211898803711\n",
            "63/63 [==============================] - 0s 2ms/step\n"
          ]
        },
        {
          "output_type": "stream",
          "name": "stderr",
          "text": [
            "/usr/local/lib/python3.8/dist-packages/sklearn/metrics/_classification.py:1318: UndefinedMetricWarning: Precision and F-score are ill-defined and being set to 0.0 in labels with no predicted samples. Use `zero_division` parameter to control this behavior.\n",
            "  _warn_prf(average, modifier, msg_start, len(result))\n",
            "/usr/local/lib/python3.8/dist-packages/sklearn/metrics/_classification.py:1318: UndefinedMetricWarning: Precision and F-score are ill-defined and being set to 0.0 in labels with no predicted samples. Use `zero_division` parameter to control this behavior.\n",
            "  _warn_prf(average, modifier, msg_start, len(result))\n",
            "/usr/local/lib/python3.8/dist-packages/sklearn/metrics/_classification.py:1318: UndefinedMetricWarning: Precision and F-score are ill-defined and being set to 0.0 in labels with no predicted samples. Use `zero_division` parameter to control this behavior.\n",
            "  _warn_prf(average, modifier, msg_start, len(result))\n"
          ]
        },
        {
          "output_type": "stream",
          "name": "stdout",
          "text": [
            "63/63 [==============================] - 0s 2ms/step\n",
            "comm_round: 71 | global_acc: 67.049% | global_loss: 1.5988764762878418\n",
            "63/63 [==============================] - 0s 2ms/step\n"
          ]
        },
        {
          "output_type": "stream",
          "name": "stderr",
          "text": [
            "/usr/local/lib/python3.8/dist-packages/sklearn/metrics/_classification.py:1318: UndefinedMetricWarning: Precision and F-score are ill-defined and being set to 0.0 in labels with no predicted samples. Use `zero_division` parameter to control this behavior.\n",
            "  _warn_prf(average, modifier, msg_start, len(result))\n",
            "/usr/local/lib/python3.8/dist-packages/sklearn/metrics/_classification.py:1318: UndefinedMetricWarning: Precision and F-score are ill-defined and being set to 0.0 in labels with no predicted samples. Use `zero_division` parameter to control this behavior.\n",
            "  _warn_prf(average, modifier, msg_start, len(result))\n",
            "/usr/local/lib/python3.8/dist-packages/sklearn/metrics/_classification.py:1318: UndefinedMetricWarning: Precision and F-score are ill-defined and being set to 0.0 in labels with no predicted samples. Use `zero_division` parameter to control this behavior.\n",
            "  _warn_prf(average, modifier, msg_start, len(result))\n"
          ]
        },
        {
          "output_type": "stream",
          "name": "stdout",
          "text": [
            "63/63 [==============================] - 0s 4ms/step\n",
            "comm_round: 72 | global_acc: 67.199% | global_loss: 1.5828468799591064\n",
            "63/63 [==============================] - 0s 4ms/step\n"
          ]
        },
        {
          "output_type": "stream",
          "name": "stderr",
          "text": [
            "/usr/local/lib/python3.8/dist-packages/sklearn/metrics/_classification.py:1318: UndefinedMetricWarning: Precision and F-score are ill-defined and being set to 0.0 in labels with no predicted samples. Use `zero_division` parameter to control this behavior.\n",
            "  _warn_prf(average, modifier, msg_start, len(result))\n",
            "/usr/local/lib/python3.8/dist-packages/sklearn/metrics/_classification.py:1318: UndefinedMetricWarning: Precision and F-score are ill-defined and being set to 0.0 in labels with no predicted samples. Use `zero_division` parameter to control this behavior.\n",
            "  _warn_prf(average, modifier, msg_start, len(result))\n",
            "/usr/local/lib/python3.8/dist-packages/sklearn/metrics/_classification.py:1318: UndefinedMetricWarning: Precision and F-score are ill-defined and being set to 0.0 in labels with no predicted samples. Use `zero_division` parameter to control this behavior.\n",
            "  _warn_prf(average, modifier, msg_start, len(result))\n"
          ]
        },
        {
          "output_type": "stream",
          "name": "stdout",
          "text": [
            "63/63 [==============================] - 0s 2ms/step\n",
            "comm_round: 73 | global_acc: 66.650% | global_loss: 1.5664774179458618\n",
            "63/63 [==============================] - 0s 2ms/step\n"
          ]
        },
        {
          "output_type": "stream",
          "name": "stderr",
          "text": [
            "/usr/local/lib/python3.8/dist-packages/sklearn/metrics/_classification.py:1318: UndefinedMetricWarning: Precision and F-score are ill-defined and being set to 0.0 in labels with no predicted samples. Use `zero_division` parameter to control this behavior.\n",
            "  _warn_prf(average, modifier, msg_start, len(result))\n",
            "/usr/local/lib/python3.8/dist-packages/sklearn/metrics/_classification.py:1318: UndefinedMetricWarning: Precision and F-score are ill-defined and being set to 0.0 in labels with no predicted samples. Use `zero_division` parameter to control this behavior.\n",
            "  _warn_prf(average, modifier, msg_start, len(result))\n",
            "/usr/local/lib/python3.8/dist-packages/sklearn/metrics/_classification.py:1318: UndefinedMetricWarning: Precision and F-score are ill-defined and being set to 0.0 in labels with no predicted samples. Use `zero_division` parameter to control this behavior.\n",
            "  _warn_prf(average, modifier, msg_start, len(result))\n"
          ]
        },
        {
          "output_type": "stream",
          "name": "stdout",
          "text": [
            "63/63 [==============================] - 0s 2ms/step\n",
            "comm_round: 74 | global_acc: 66.700% | global_loss: 1.5707708597183228\n",
            "63/63 [==============================] - 0s 2ms/step\n"
          ]
        },
        {
          "output_type": "stream",
          "name": "stderr",
          "text": [
            "/usr/local/lib/python3.8/dist-packages/sklearn/metrics/_classification.py:1318: UndefinedMetricWarning: Precision and F-score are ill-defined and being set to 0.0 in labels with no predicted samples. Use `zero_division` parameter to control this behavior.\n",
            "  _warn_prf(average, modifier, msg_start, len(result))\n",
            "/usr/local/lib/python3.8/dist-packages/sklearn/metrics/_classification.py:1318: UndefinedMetricWarning: Precision and F-score are ill-defined and being set to 0.0 in labels with no predicted samples. Use `zero_division` parameter to control this behavior.\n",
            "  _warn_prf(average, modifier, msg_start, len(result))\n",
            "/usr/local/lib/python3.8/dist-packages/sklearn/metrics/_classification.py:1318: UndefinedMetricWarning: Precision and F-score are ill-defined and being set to 0.0 in labels with no predicted samples. Use `zero_division` parameter to control this behavior.\n",
            "  _warn_prf(average, modifier, msg_start, len(result))\n"
          ]
        },
        {
          "output_type": "stream",
          "name": "stdout",
          "text": [
            "63/63 [==============================] - 0s 2ms/step\n",
            "comm_round: 75 | global_acc: 66.900% | global_loss: 1.5797122716903687\n",
            "63/63 [==============================] - 0s 2ms/step\n"
          ]
        },
        {
          "output_type": "stream",
          "name": "stderr",
          "text": [
            "/usr/local/lib/python3.8/dist-packages/sklearn/metrics/_classification.py:1318: UndefinedMetricWarning: Precision and F-score are ill-defined and being set to 0.0 in labels with no predicted samples. Use `zero_division` parameter to control this behavior.\n",
            "  _warn_prf(average, modifier, msg_start, len(result))\n",
            "/usr/local/lib/python3.8/dist-packages/sklearn/metrics/_classification.py:1318: UndefinedMetricWarning: Precision and F-score are ill-defined and being set to 0.0 in labels with no predicted samples. Use `zero_division` parameter to control this behavior.\n",
            "  _warn_prf(average, modifier, msg_start, len(result))\n",
            "/usr/local/lib/python3.8/dist-packages/sklearn/metrics/_classification.py:1318: UndefinedMetricWarning: Precision and F-score are ill-defined and being set to 0.0 in labels with no predicted samples. Use `zero_division` parameter to control this behavior.\n",
            "  _warn_prf(average, modifier, msg_start, len(result))\n"
          ]
        },
        {
          "output_type": "stream",
          "name": "stdout",
          "text": [
            "63/63 [==============================] - 0s 2ms/step\n",
            "comm_round: 76 | global_acc: 67.449% | global_loss: 1.6089500188827515\n",
            "63/63 [==============================] - 0s 2ms/step\n"
          ]
        },
        {
          "output_type": "stream",
          "name": "stderr",
          "text": [
            "/usr/local/lib/python3.8/dist-packages/sklearn/metrics/_classification.py:1318: UndefinedMetricWarning: Precision and F-score are ill-defined and being set to 0.0 in labels with no predicted samples. Use `zero_division` parameter to control this behavior.\n",
            "  _warn_prf(average, modifier, msg_start, len(result))\n",
            "/usr/local/lib/python3.8/dist-packages/sklearn/metrics/_classification.py:1318: UndefinedMetricWarning: Precision and F-score are ill-defined and being set to 0.0 in labels with no predicted samples. Use `zero_division` parameter to control this behavior.\n",
            "  _warn_prf(average, modifier, msg_start, len(result))\n",
            "/usr/local/lib/python3.8/dist-packages/sklearn/metrics/_classification.py:1318: UndefinedMetricWarning: Precision and F-score are ill-defined and being set to 0.0 in labels with no predicted samples. Use `zero_division` parameter to control this behavior.\n",
            "  _warn_prf(average, modifier, msg_start, len(result))\n"
          ]
        },
        {
          "output_type": "stream",
          "name": "stdout",
          "text": [
            "63/63 [==============================] - 0s 2ms/step\n",
            "comm_round: 77 | global_acc: 66.900% | global_loss: 1.5734789371490479\n",
            "63/63 [==============================] - 0s 2ms/step\n"
          ]
        },
        {
          "output_type": "stream",
          "name": "stderr",
          "text": [
            "/usr/local/lib/python3.8/dist-packages/sklearn/metrics/_classification.py:1318: UndefinedMetricWarning: Precision and F-score are ill-defined and being set to 0.0 in labels with no predicted samples. Use `zero_division` parameter to control this behavior.\n",
            "  _warn_prf(average, modifier, msg_start, len(result))\n",
            "/usr/local/lib/python3.8/dist-packages/sklearn/metrics/_classification.py:1318: UndefinedMetricWarning: Precision and F-score are ill-defined and being set to 0.0 in labels with no predicted samples. Use `zero_division` parameter to control this behavior.\n",
            "  _warn_prf(average, modifier, msg_start, len(result))\n",
            "/usr/local/lib/python3.8/dist-packages/sklearn/metrics/_classification.py:1318: UndefinedMetricWarning: Precision and F-score are ill-defined and being set to 0.0 in labels with no predicted samples. Use `zero_division` parameter to control this behavior.\n",
            "  _warn_prf(average, modifier, msg_start, len(result))\n"
          ]
        },
        {
          "output_type": "stream",
          "name": "stdout",
          "text": [
            "63/63 [==============================] - 0s 4ms/step\n",
            "comm_round: 78 | global_acc: 67.249% | global_loss: 1.5952469110488892\n",
            "63/63 [==============================] - 0s 4ms/step\n"
          ]
        },
        {
          "output_type": "stream",
          "name": "stderr",
          "text": [
            "/usr/local/lib/python3.8/dist-packages/sklearn/metrics/_classification.py:1318: UndefinedMetricWarning: Precision and F-score are ill-defined and being set to 0.0 in labels with no predicted samples. Use `zero_division` parameter to control this behavior.\n",
            "  _warn_prf(average, modifier, msg_start, len(result))\n",
            "/usr/local/lib/python3.8/dist-packages/sklearn/metrics/_classification.py:1318: UndefinedMetricWarning: Precision and F-score are ill-defined and being set to 0.0 in labels with no predicted samples. Use `zero_division` parameter to control this behavior.\n",
            "  _warn_prf(average, modifier, msg_start, len(result))\n",
            "/usr/local/lib/python3.8/dist-packages/sklearn/metrics/_classification.py:1318: UndefinedMetricWarning: Precision and F-score are ill-defined and being set to 0.0 in labels with no predicted samples. Use `zero_division` parameter to control this behavior.\n",
            "  _warn_prf(average, modifier, msg_start, len(result))\n"
          ]
        },
        {
          "output_type": "stream",
          "name": "stdout",
          "text": [
            "63/63 [==============================] - 0s 2ms/step\n",
            "comm_round: 79 | global_acc: 66.850% | global_loss: 1.575049638748169\n",
            "63/63 [==============================] - 0s 2ms/step\n"
          ]
        },
        {
          "output_type": "stream",
          "name": "stderr",
          "text": [
            "/usr/local/lib/python3.8/dist-packages/sklearn/metrics/_classification.py:1318: UndefinedMetricWarning: Precision and F-score are ill-defined and being set to 0.0 in labels with no predicted samples. Use `zero_division` parameter to control this behavior.\n",
            "  _warn_prf(average, modifier, msg_start, len(result))\n",
            "/usr/local/lib/python3.8/dist-packages/sklearn/metrics/_classification.py:1318: UndefinedMetricWarning: Precision and F-score are ill-defined and being set to 0.0 in labels with no predicted samples. Use `zero_division` parameter to control this behavior.\n",
            "  _warn_prf(average, modifier, msg_start, len(result))\n",
            "/usr/local/lib/python3.8/dist-packages/sklearn/metrics/_classification.py:1318: UndefinedMetricWarning: Precision and F-score are ill-defined and being set to 0.0 in labels with no predicted samples. Use `zero_division` parameter to control this behavior.\n",
            "  _warn_prf(average, modifier, msg_start, len(result))\n"
          ]
        },
        {
          "output_type": "stream",
          "name": "stdout",
          "text": [
            "63/63 [==============================] - 0s 2ms/step\n",
            "comm_round: 80 | global_acc: 66.850% | global_loss: 1.5665160417556763\n",
            "63/63 [==============================] - 0s 2ms/step\n"
          ]
        },
        {
          "output_type": "stream",
          "name": "stderr",
          "text": [
            "/usr/local/lib/python3.8/dist-packages/sklearn/metrics/_classification.py:1318: UndefinedMetricWarning: Precision and F-score are ill-defined and being set to 0.0 in labels with no predicted samples. Use `zero_division` parameter to control this behavior.\n",
            "  _warn_prf(average, modifier, msg_start, len(result))\n",
            "/usr/local/lib/python3.8/dist-packages/sklearn/metrics/_classification.py:1318: UndefinedMetricWarning: Precision and F-score are ill-defined and being set to 0.0 in labels with no predicted samples. Use `zero_division` parameter to control this behavior.\n",
            "  _warn_prf(average, modifier, msg_start, len(result))\n",
            "/usr/local/lib/python3.8/dist-packages/sklearn/metrics/_classification.py:1318: UndefinedMetricWarning: Precision and F-score are ill-defined and being set to 0.0 in labels with no predicted samples. Use `zero_division` parameter to control this behavior.\n",
            "  _warn_prf(average, modifier, msg_start, len(result))\n"
          ]
        },
        {
          "output_type": "stream",
          "name": "stdout",
          "text": [
            "63/63 [==============================] - 0s 2ms/step\n",
            "comm_round: 81 | global_acc: 67.449% | global_loss: 1.6055033206939697\n",
            "63/63 [==============================] - 0s 2ms/step\n"
          ]
        },
        {
          "output_type": "stream",
          "name": "stderr",
          "text": [
            "/usr/local/lib/python3.8/dist-packages/sklearn/metrics/_classification.py:1318: UndefinedMetricWarning: Precision and F-score are ill-defined and being set to 0.0 in labels with no predicted samples. Use `zero_division` parameter to control this behavior.\n",
            "  _warn_prf(average, modifier, msg_start, len(result))\n",
            "/usr/local/lib/python3.8/dist-packages/sklearn/metrics/_classification.py:1318: UndefinedMetricWarning: Precision and F-score are ill-defined and being set to 0.0 in labels with no predicted samples. Use `zero_division` parameter to control this behavior.\n",
            "  _warn_prf(average, modifier, msg_start, len(result))\n",
            "/usr/local/lib/python3.8/dist-packages/sklearn/metrics/_classification.py:1318: UndefinedMetricWarning: Precision and F-score are ill-defined and being set to 0.0 in labels with no predicted samples. Use `zero_division` parameter to control this behavior.\n",
            "  _warn_prf(average, modifier, msg_start, len(result))\n"
          ]
        },
        {
          "output_type": "stream",
          "name": "stdout",
          "text": [
            "63/63 [==============================] - 0s 2ms/step\n",
            "comm_round: 82 | global_acc: 67.049% | global_loss: 1.5853245258331299\n",
            "63/63 [==============================] - 0s 2ms/step\n"
          ]
        },
        {
          "output_type": "stream",
          "name": "stderr",
          "text": [
            "/usr/local/lib/python3.8/dist-packages/sklearn/metrics/_classification.py:1318: UndefinedMetricWarning: Precision and F-score are ill-defined and being set to 0.0 in labels with no predicted samples. Use `zero_division` parameter to control this behavior.\n",
            "  _warn_prf(average, modifier, msg_start, len(result))\n",
            "/usr/local/lib/python3.8/dist-packages/sklearn/metrics/_classification.py:1318: UndefinedMetricWarning: Precision and F-score are ill-defined and being set to 0.0 in labels with no predicted samples. Use `zero_division` parameter to control this behavior.\n",
            "  _warn_prf(average, modifier, msg_start, len(result))\n",
            "/usr/local/lib/python3.8/dist-packages/sklearn/metrics/_classification.py:1318: UndefinedMetricWarning: Precision and F-score are ill-defined and being set to 0.0 in labels with no predicted samples. Use `zero_division` parameter to control this behavior.\n",
            "  _warn_prf(average, modifier, msg_start, len(result))\n"
          ]
        },
        {
          "output_type": "stream",
          "name": "stdout",
          "text": [
            "63/63 [==============================] - 0s 2ms/step\n",
            "comm_round: 83 | global_acc: 66.800% | global_loss: 1.552903413772583\n",
            "63/63 [==============================] - 0s 2ms/step\n"
          ]
        },
        {
          "output_type": "stream",
          "name": "stderr",
          "text": [
            "/usr/local/lib/python3.8/dist-packages/sklearn/metrics/_classification.py:1318: UndefinedMetricWarning: Precision and F-score are ill-defined and being set to 0.0 in labels with no predicted samples. Use `zero_division` parameter to control this behavior.\n",
            "  _warn_prf(average, modifier, msg_start, len(result))\n",
            "/usr/local/lib/python3.8/dist-packages/sklearn/metrics/_classification.py:1318: UndefinedMetricWarning: Precision and F-score are ill-defined and being set to 0.0 in labels with no predicted samples. Use `zero_division` parameter to control this behavior.\n",
            "  _warn_prf(average, modifier, msg_start, len(result))\n",
            "/usr/local/lib/python3.8/dist-packages/sklearn/metrics/_classification.py:1318: UndefinedMetricWarning: Precision and F-score are ill-defined and being set to 0.0 in labels with no predicted samples. Use `zero_division` parameter to control this behavior.\n",
            "  _warn_prf(average, modifier, msg_start, len(result))\n"
          ]
        },
        {
          "output_type": "stream",
          "name": "stdout",
          "text": [
            "63/63 [==============================] - 0s 2ms/step\n",
            "comm_round: 84 | global_acc: 66.800% | global_loss: 1.593362808227539\n",
            "63/63 [==============================] - 0s 2ms/step\n"
          ]
        },
        {
          "output_type": "stream",
          "name": "stderr",
          "text": [
            "/usr/local/lib/python3.8/dist-packages/sklearn/metrics/_classification.py:1318: UndefinedMetricWarning: Precision and F-score are ill-defined and being set to 0.0 in labels with no predicted samples. Use `zero_division` parameter to control this behavior.\n",
            "  _warn_prf(average, modifier, msg_start, len(result))\n",
            "/usr/local/lib/python3.8/dist-packages/sklearn/metrics/_classification.py:1318: UndefinedMetricWarning: Precision and F-score are ill-defined and being set to 0.0 in labels with no predicted samples. Use `zero_division` parameter to control this behavior.\n",
            "  _warn_prf(average, modifier, msg_start, len(result))\n",
            "/usr/local/lib/python3.8/dist-packages/sklearn/metrics/_classification.py:1318: UndefinedMetricWarning: Precision and F-score are ill-defined and being set to 0.0 in labels with no predicted samples. Use `zero_division` parameter to control this behavior.\n",
            "  _warn_prf(average, modifier, msg_start, len(result))\n"
          ]
        },
        {
          "output_type": "stream",
          "name": "stdout",
          "text": [
            "63/63 [==============================] - 0s 2ms/step\n",
            "comm_round: 85 | global_acc: 67.399% | global_loss: 1.6219671964645386\n",
            "63/63 [==============================] - 0s 2ms/step\n"
          ]
        },
        {
          "output_type": "stream",
          "name": "stderr",
          "text": [
            "/usr/local/lib/python3.8/dist-packages/sklearn/metrics/_classification.py:1318: UndefinedMetricWarning: Precision and F-score are ill-defined and being set to 0.0 in labels with no predicted samples. Use `zero_division` parameter to control this behavior.\n",
            "  _warn_prf(average, modifier, msg_start, len(result))\n",
            "/usr/local/lib/python3.8/dist-packages/sklearn/metrics/_classification.py:1318: UndefinedMetricWarning: Precision and F-score are ill-defined and being set to 0.0 in labels with no predicted samples. Use `zero_division` parameter to control this behavior.\n",
            "  _warn_prf(average, modifier, msg_start, len(result))\n",
            "/usr/local/lib/python3.8/dist-packages/sklearn/metrics/_classification.py:1318: UndefinedMetricWarning: Precision and F-score are ill-defined and being set to 0.0 in labels with no predicted samples. Use `zero_division` parameter to control this behavior.\n",
            "  _warn_prf(average, modifier, msg_start, len(result))\n"
          ]
        },
        {
          "output_type": "stream",
          "name": "stdout",
          "text": [
            "63/63 [==============================] - 0s 2ms/step\n",
            "comm_round: 86 | global_acc: 67.249% | global_loss: 1.6193095445632935\n",
            "63/63 [==============================] - 0s 2ms/step\n"
          ]
        },
        {
          "output_type": "stream",
          "name": "stderr",
          "text": [
            "/usr/local/lib/python3.8/dist-packages/sklearn/metrics/_classification.py:1318: UndefinedMetricWarning: Precision and F-score are ill-defined and being set to 0.0 in labels with no predicted samples. Use `zero_division` parameter to control this behavior.\n",
            "  _warn_prf(average, modifier, msg_start, len(result))\n",
            "/usr/local/lib/python3.8/dist-packages/sklearn/metrics/_classification.py:1318: UndefinedMetricWarning: Precision and F-score are ill-defined and being set to 0.0 in labels with no predicted samples. Use `zero_division` parameter to control this behavior.\n",
            "  _warn_prf(average, modifier, msg_start, len(result))\n",
            "/usr/local/lib/python3.8/dist-packages/sklearn/metrics/_classification.py:1318: UndefinedMetricWarning: Precision and F-score are ill-defined and being set to 0.0 in labels with no predicted samples. Use `zero_division` parameter to control this behavior.\n",
            "  _warn_prf(average, modifier, msg_start, len(result))\n"
          ]
        },
        {
          "output_type": "stream",
          "name": "stdout",
          "text": [
            "63/63 [==============================] - 0s 2ms/step\n",
            "comm_round: 87 | global_acc: 67.149% | global_loss: 1.5927932262420654\n",
            "63/63 [==============================] - 0s 2ms/step\n"
          ]
        },
        {
          "output_type": "stream",
          "name": "stderr",
          "text": [
            "/usr/local/lib/python3.8/dist-packages/sklearn/metrics/_classification.py:1318: UndefinedMetricWarning: Precision and F-score are ill-defined and being set to 0.0 in labels with no predicted samples. Use `zero_division` parameter to control this behavior.\n",
            "  _warn_prf(average, modifier, msg_start, len(result))\n",
            "/usr/local/lib/python3.8/dist-packages/sklearn/metrics/_classification.py:1318: UndefinedMetricWarning: Precision and F-score are ill-defined and being set to 0.0 in labels with no predicted samples. Use `zero_division` parameter to control this behavior.\n",
            "  _warn_prf(average, modifier, msg_start, len(result))\n",
            "/usr/local/lib/python3.8/dist-packages/sklearn/metrics/_classification.py:1318: UndefinedMetricWarning: Precision and F-score are ill-defined and being set to 0.0 in labels with no predicted samples. Use `zero_division` parameter to control this behavior.\n",
            "  _warn_prf(average, modifier, msg_start, len(result))\n"
          ]
        },
        {
          "output_type": "stream",
          "name": "stdout",
          "text": [
            "63/63 [==============================] - 0s 2ms/step\n",
            "comm_round: 88 | global_acc: 67.399% | global_loss: 1.5941725969314575\n",
            "63/63 [==============================] - 0s 2ms/step\n"
          ]
        },
        {
          "output_type": "stream",
          "name": "stderr",
          "text": [
            "/usr/local/lib/python3.8/dist-packages/sklearn/metrics/_classification.py:1318: UndefinedMetricWarning: Precision and F-score are ill-defined and being set to 0.0 in labels with no predicted samples. Use `zero_division` parameter to control this behavior.\n",
            "  _warn_prf(average, modifier, msg_start, len(result))\n",
            "/usr/local/lib/python3.8/dist-packages/sklearn/metrics/_classification.py:1318: UndefinedMetricWarning: Precision and F-score are ill-defined and being set to 0.0 in labels with no predicted samples. Use `zero_division` parameter to control this behavior.\n",
            "  _warn_prf(average, modifier, msg_start, len(result))\n",
            "/usr/local/lib/python3.8/dist-packages/sklearn/metrics/_classification.py:1318: UndefinedMetricWarning: Precision and F-score are ill-defined and being set to 0.0 in labels with no predicted samples. Use `zero_division` parameter to control this behavior.\n",
            "  _warn_prf(average, modifier, msg_start, len(result))\n"
          ]
        },
        {
          "output_type": "stream",
          "name": "stdout",
          "text": [
            "63/63 [==============================] - 0s 2ms/step\n",
            "comm_round: 89 | global_acc: 67.149% | global_loss: 1.6017471551895142\n",
            "63/63 [==============================] - 0s 2ms/step\n"
          ]
        },
        {
          "output_type": "stream",
          "name": "stderr",
          "text": [
            "/usr/local/lib/python3.8/dist-packages/sklearn/metrics/_classification.py:1318: UndefinedMetricWarning: Precision and F-score are ill-defined and being set to 0.0 in labels with no predicted samples. Use `zero_division` parameter to control this behavior.\n",
            "  _warn_prf(average, modifier, msg_start, len(result))\n",
            "/usr/local/lib/python3.8/dist-packages/sklearn/metrics/_classification.py:1318: UndefinedMetricWarning: Precision and F-score are ill-defined and being set to 0.0 in labels with no predicted samples. Use `zero_division` parameter to control this behavior.\n",
            "  _warn_prf(average, modifier, msg_start, len(result))\n",
            "/usr/local/lib/python3.8/dist-packages/sklearn/metrics/_classification.py:1318: UndefinedMetricWarning: Precision and F-score are ill-defined and being set to 0.0 in labels with no predicted samples. Use `zero_division` parameter to control this behavior.\n",
            "  _warn_prf(average, modifier, msg_start, len(result))\n"
          ]
        },
        {
          "output_type": "stream",
          "name": "stdout",
          "text": [
            "63/63 [==============================] - 0s 2ms/step\n",
            "comm_round: 90 | global_acc: 66.900% | global_loss: 1.5708636045455933\n",
            "63/63 [==============================] - 0s 2ms/step\n"
          ]
        },
        {
          "output_type": "stream",
          "name": "stderr",
          "text": [
            "/usr/local/lib/python3.8/dist-packages/sklearn/metrics/_classification.py:1318: UndefinedMetricWarning: Precision and F-score are ill-defined and being set to 0.0 in labels with no predicted samples. Use `zero_division` parameter to control this behavior.\n",
            "  _warn_prf(average, modifier, msg_start, len(result))\n",
            "/usr/local/lib/python3.8/dist-packages/sklearn/metrics/_classification.py:1318: UndefinedMetricWarning: Precision and F-score are ill-defined and being set to 0.0 in labels with no predicted samples. Use `zero_division` parameter to control this behavior.\n",
            "  _warn_prf(average, modifier, msg_start, len(result))\n",
            "/usr/local/lib/python3.8/dist-packages/sklearn/metrics/_classification.py:1318: UndefinedMetricWarning: Precision and F-score are ill-defined and being set to 0.0 in labels with no predicted samples. Use `zero_division` parameter to control this behavior.\n",
            "  _warn_prf(average, modifier, msg_start, len(result))\n"
          ]
        },
        {
          "output_type": "stream",
          "name": "stdout",
          "text": [
            "63/63 [==============================] - 0s 2ms/step\n",
            "comm_round: 91 | global_acc: 67.249% | global_loss: 1.5834718942642212\n",
            "63/63 [==============================] - 0s 2ms/step\n"
          ]
        },
        {
          "output_type": "stream",
          "name": "stderr",
          "text": [
            "/usr/local/lib/python3.8/dist-packages/sklearn/metrics/_classification.py:1318: UndefinedMetricWarning: Precision and F-score are ill-defined and being set to 0.0 in labels with no predicted samples. Use `zero_division` parameter to control this behavior.\n",
            "  _warn_prf(average, modifier, msg_start, len(result))\n",
            "/usr/local/lib/python3.8/dist-packages/sklearn/metrics/_classification.py:1318: UndefinedMetricWarning: Precision and F-score are ill-defined and being set to 0.0 in labels with no predicted samples. Use `zero_division` parameter to control this behavior.\n",
            "  _warn_prf(average, modifier, msg_start, len(result))\n",
            "/usr/local/lib/python3.8/dist-packages/sklearn/metrics/_classification.py:1318: UndefinedMetricWarning: Precision and F-score are ill-defined and being set to 0.0 in labels with no predicted samples. Use `zero_division` parameter to control this behavior.\n",
            "  _warn_prf(average, modifier, msg_start, len(result))\n"
          ]
        },
        {
          "output_type": "stream",
          "name": "stdout",
          "text": [
            "63/63 [==============================] - 0s 2ms/step\n",
            "comm_round: 92 | global_acc: 67.000% | global_loss: 1.5768953561782837\n",
            "63/63 [==============================] - 0s 2ms/step\n"
          ]
        },
        {
          "output_type": "stream",
          "name": "stderr",
          "text": [
            "/usr/local/lib/python3.8/dist-packages/sklearn/metrics/_classification.py:1318: UndefinedMetricWarning: Precision and F-score are ill-defined and being set to 0.0 in labels with no predicted samples. Use `zero_division` parameter to control this behavior.\n",
            "  _warn_prf(average, modifier, msg_start, len(result))\n",
            "/usr/local/lib/python3.8/dist-packages/sklearn/metrics/_classification.py:1318: UndefinedMetricWarning: Precision and F-score are ill-defined and being set to 0.0 in labels with no predicted samples. Use `zero_division` parameter to control this behavior.\n",
            "  _warn_prf(average, modifier, msg_start, len(result))\n",
            "/usr/local/lib/python3.8/dist-packages/sklearn/metrics/_classification.py:1318: UndefinedMetricWarning: Precision and F-score are ill-defined and being set to 0.0 in labels with no predicted samples. Use `zero_division` parameter to control this behavior.\n",
            "  _warn_prf(average, modifier, msg_start, len(result))\n"
          ]
        },
        {
          "output_type": "stream",
          "name": "stdout",
          "text": [
            "63/63 [==============================] - 0s 2ms/step\n",
            "comm_round: 93 | global_acc: 66.950% | global_loss: 1.5748543739318848\n",
            "63/63 [==============================] - 0s 2ms/step\n"
          ]
        },
        {
          "output_type": "stream",
          "name": "stderr",
          "text": [
            "/usr/local/lib/python3.8/dist-packages/sklearn/metrics/_classification.py:1318: UndefinedMetricWarning: Precision and F-score are ill-defined and being set to 0.0 in labels with no predicted samples. Use `zero_division` parameter to control this behavior.\n",
            "  _warn_prf(average, modifier, msg_start, len(result))\n",
            "/usr/local/lib/python3.8/dist-packages/sklearn/metrics/_classification.py:1318: UndefinedMetricWarning: Precision and F-score are ill-defined and being set to 0.0 in labels with no predicted samples. Use `zero_division` parameter to control this behavior.\n",
            "  _warn_prf(average, modifier, msg_start, len(result))\n",
            "/usr/local/lib/python3.8/dist-packages/sklearn/metrics/_classification.py:1318: UndefinedMetricWarning: Precision and F-score are ill-defined and being set to 0.0 in labels with no predicted samples. Use `zero_division` parameter to control this behavior.\n",
            "  _warn_prf(average, modifier, msg_start, len(result))\n"
          ]
        },
        {
          "output_type": "stream",
          "name": "stdout",
          "text": [
            "63/63 [==============================] - 0s 2ms/step\n",
            "comm_round: 94 | global_acc: 67.249% | global_loss: 1.578571081161499\n",
            "63/63 [==============================] - 0s 2ms/step\n"
          ]
        },
        {
          "output_type": "stream",
          "name": "stderr",
          "text": [
            "/usr/local/lib/python3.8/dist-packages/sklearn/metrics/_classification.py:1318: UndefinedMetricWarning: Precision and F-score are ill-defined and being set to 0.0 in labels with no predicted samples. Use `zero_division` parameter to control this behavior.\n",
            "  _warn_prf(average, modifier, msg_start, len(result))\n",
            "/usr/local/lib/python3.8/dist-packages/sklearn/metrics/_classification.py:1318: UndefinedMetricWarning: Precision and F-score are ill-defined and being set to 0.0 in labels with no predicted samples. Use `zero_division` parameter to control this behavior.\n",
            "  _warn_prf(average, modifier, msg_start, len(result))\n",
            "/usr/local/lib/python3.8/dist-packages/sklearn/metrics/_classification.py:1318: UndefinedMetricWarning: Precision and F-score are ill-defined and being set to 0.0 in labels with no predicted samples. Use `zero_division` parameter to control this behavior.\n",
            "  _warn_prf(average, modifier, msg_start, len(result))\n"
          ]
        },
        {
          "output_type": "stream",
          "name": "stdout",
          "text": [
            "63/63 [==============================] - 0s 2ms/step\n",
            "comm_round: 95 | global_acc: 66.900% | global_loss: 1.569765567779541\n",
            "63/63 [==============================] - 0s 2ms/step\n"
          ]
        },
        {
          "output_type": "stream",
          "name": "stderr",
          "text": [
            "/usr/local/lib/python3.8/dist-packages/sklearn/metrics/_classification.py:1318: UndefinedMetricWarning: Precision and F-score are ill-defined and being set to 0.0 in labels with no predicted samples. Use `zero_division` parameter to control this behavior.\n",
            "  _warn_prf(average, modifier, msg_start, len(result))\n",
            "/usr/local/lib/python3.8/dist-packages/sklearn/metrics/_classification.py:1318: UndefinedMetricWarning: Precision and F-score are ill-defined and being set to 0.0 in labels with no predicted samples. Use `zero_division` parameter to control this behavior.\n",
            "  _warn_prf(average, modifier, msg_start, len(result))\n",
            "/usr/local/lib/python3.8/dist-packages/sklearn/metrics/_classification.py:1318: UndefinedMetricWarning: Precision and F-score are ill-defined and being set to 0.0 in labels with no predicted samples. Use `zero_division` parameter to control this behavior.\n",
            "  _warn_prf(average, modifier, msg_start, len(result))\n"
          ]
        },
        {
          "output_type": "stream",
          "name": "stdout",
          "text": [
            "63/63 [==============================] - 0s 2ms/step\n",
            "comm_round: 96 | global_acc: 67.149% | global_loss: 1.5851374864578247\n",
            "63/63 [==============================] - 0s 2ms/step\n"
          ]
        },
        {
          "output_type": "stream",
          "name": "stderr",
          "text": [
            "/usr/local/lib/python3.8/dist-packages/sklearn/metrics/_classification.py:1318: UndefinedMetricWarning: Precision and F-score are ill-defined and being set to 0.0 in labels with no predicted samples. Use `zero_division` parameter to control this behavior.\n",
            "  _warn_prf(average, modifier, msg_start, len(result))\n",
            "/usr/local/lib/python3.8/dist-packages/sklearn/metrics/_classification.py:1318: UndefinedMetricWarning: Precision and F-score are ill-defined and being set to 0.0 in labels with no predicted samples. Use `zero_division` parameter to control this behavior.\n",
            "  _warn_prf(average, modifier, msg_start, len(result))\n",
            "/usr/local/lib/python3.8/dist-packages/sklearn/metrics/_classification.py:1318: UndefinedMetricWarning: Precision and F-score are ill-defined and being set to 0.0 in labels with no predicted samples. Use `zero_division` parameter to control this behavior.\n",
            "  _warn_prf(average, modifier, msg_start, len(result))\n"
          ]
        },
        {
          "output_type": "stream",
          "name": "stdout",
          "text": [
            "63/63 [==============================] - 0s 2ms/step\n",
            "comm_round: 97 | global_acc: 67.149% | global_loss: 1.596619725227356\n",
            "63/63 [==============================] - 0s 2ms/step\n"
          ]
        },
        {
          "output_type": "stream",
          "name": "stderr",
          "text": [
            "/usr/local/lib/python3.8/dist-packages/sklearn/metrics/_classification.py:1318: UndefinedMetricWarning: Precision and F-score are ill-defined and being set to 0.0 in labels with no predicted samples. Use `zero_division` parameter to control this behavior.\n",
            "  _warn_prf(average, modifier, msg_start, len(result))\n",
            "/usr/local/lib/python3.8/dist-packages/sklearn/metrics/_classification.py:1318: UndefinedMetricWarning: Precision and F-score are ill-defined and being set to 0.0 in labels with no predicted samples. Use `zero_division` parameter to control this behavior.\n",
            "  _warn_prf(average, modifier, msg_start, len(result))\n",
            "/usr/local/lib/python3.8/dist-packages/sklearn/metrics/_classification.py:1318: UndefinedMetricWarning: Precision and F-score are ill-defined and being set to 0.0 in labels with no predicted samples. Use `zero_division` parameter to control this behavior.\n",
            "  _warn_prf(average, modifier, msg_start, len(result))\n"
          ]
        },
        {
          "output_type": "stream",
          "name": "stdout",
          "text": [
            "63/63 [==============================] - 0s 2ms/step\n",
            "comm_round: 98 | global_acc: 67.549% | global_loss: 1.6161102056503296\n",
            "63/63 [==============================] - 0s 2ms/step\n"
          ]
        },
        {
          "output_type": "stream",
          "name": "stderr",
          "text": [
            "/usr/local/lib/python3.8/dist-packages/sklearn/metrics/_classification.py:1318: UndefinedMetricWarning: Precision and F-score are ill-defined and being set to 0.0 in labels with no predicted samples. Use `zero_division` parameter to control this behavior.\n",
            "  _warn_prf(average, modifier, msg_start, len(result))\n",
            "/usr/local/lib/python3.8/dist-packages/sklearn/metrics/_classification.py:1318: UndefinedMetricWarning: Precision and F-score are ill-defined and being set to 0.0 in labels with no predicted samples. Use `zero_division` parameter to control this behavior.\n",
            "  _warn_prf(average, modifier, msg_start, len(result))\n",
            "/usr/local/lib/python3.8/dist-packages/sklearn/metrics/_classification.py:1318: UndefinedMetricWarning: Precision and F-score are ill-defined and being set to 0.0 in labels with no predicted samples. Use `zero_division` parameter to control this behavior.\n",
            "  _warn_prf(average, modifier, msg_start, len(result))\n"
          ]
        },
        {
          "output_type": "stream",
          "name": "stdout",
          "text": [
            "63/63 [==============================] - 0s 2ms/step\n",
            "comm_round: 99 | global_acc: 67.299% | global_loss: 1.5771993398666382\n",
            "63/63 [==============================] - 0s 2ms/step\n",
            "[[   0    1   10    0   50    0    0]\n",
            " [   0    0    1    0   94    0    1]\n",
            " [   0    0   17    0  208    0    3]\n",
            " [   0    0    8    0   29    0    0]\n",
            " [   0    0    8    0 1312    0    7]\n",
            " [   0    0    1    0   29    0    2]\n",
            " [   0    0    7    0  196    0   19]]\n",
            "              precision    recall  f1-score   support\n",
            "\n",
            "           0       0.00      0.00      0.00        61\n",
            "           1       0.00      0.00      0.00        96\n",
            "           2       0.33      0.07      0.12       228\n",
            "           3       0.00      0.00      0.00        37\n",
            "           4       0.68      0.99      0.81      1327\n",
            "           5       0.00      0.00      0.00        32\n",
            "           6       0.59      0.09      0.15       222\n",
            "\n",
            "    accuracy                           0.67      2003\n",
            "   macro avg       0.23      0.16      0.15      2003\n",
            "weighted avg       0.56      0.67      0.57      2003\n",
            "\n"
          ]
        },
        {
          "output_type": "stream",
          "name": "stderr",
          "text": [
            "/usr/local/lib/python3.8/dist-packages/sklearn/metrics/_classification.py:1318: UndefinedMetricWarning: Precision and F-score are ill-defined and being set to 0.0 in labels with no predicted samples. Use `zero_division` parameter to control this behavior.\n",
            "  _warn_prf(average, modifier, msg_start, len(result))\n",
            "/usr/local/lib/python3.8/dist-packages/sklearn/metrics/_classification.py:1318: UndefinedMetricWarning: Precision and F-score are ill-defined and being set to 0.0 in labels with no predicted samples. Use `zero_division` parameter to control this behavior.\n",
            "  _warn_prf(average, modifier, msg_start, len(result))\n",
            "/usr/local/lib/python3.8/dist-packages/sklearn/metrics/_classification.py:1318: UndefinedMetricWarning: Precision and F-score are ill-defined and being set to 0.0 in labels with no predicted samples. Use `zero_division` parameter to control this behavior.\n",
            "  _warn_prf(average, modifier, msg_start, len(result))\n"
          ]
        }
      ],
      "source": [
        "fl_model(clients_batched, test_batched, comms_round, loss, optimizer, metrics)"
      ]
    },
    {
      "cell_type": "code",
      "execution_count": null,
      "metadata": {
        "id": "HmvwpnpT0ylW"
      },
      "outputs": [],
      "source": [
        "def test_model(X_test, Y_test,  model, comm_round):\n",
        "    cce = tf.keras.losses.CategoricalCrossentropy(from_logits=True)\n",
        "    #logits = model.predict(X_test, batch_size=100)\n",
        "    logits = model.predict(X_test)\n",
        "    loss = cce(Y_test, logits)\n",
        "    acc = accuracy_score(tf.argmax(logits, axis=1), tf.argmax(Y_test, axis=1))\n",
        "    print('comm_round: {} | global_acc: {:.3%} | global_loss: {}'.format(comm_round, acc, loss))\n",
        "    return acc, loss"
      ]
    },
    {
      "cell_type": "code",
      "execution_count": null,
      "metadata": {
        "colab": {
          "base_uri": "https://localhost:8080/"
        },
        "id": "uWUWCTfp4Ib-",
        "outputId": "60a065fe-2f21-424a-ee89-3c7cda7ee4ac"
      },
      "outputs": [
        {
          "output_type": "stream",
          "name": "stdout",
          "text": [
            "63/63 [==============================] - 0s 2ms/step\n",
            "comm_round: 1 | global_acc: 67.099% | global_loss: 1.556148648262024\n",
            "63/63 [==============================] - 0s 2ms/step\n",
            "[[   0    2    7    0   52    0    0]\n",
            " [   0    1    1    0   93    0    1]\n",
            " [   0    1   13    0  209    0    5]\n",
            " [   0    1    6    0   30    0    0]\n",
            " [   0    0    7    0 1312    0    8]\n",
            " [   0    0    1    0   29    0    2]\n",
            " [   0    0    6    0  198    0   18]]\n",
            "              precision    recall  f1-score   support\n",
            "\n",
            "           0       0.00      0.00      0.00        61\n",
            "           1       0.20      0.01      0.02        96\n",
            "           2       0.32      0.06      0.10       228\n",
            "           3       0.00      0.00      0.00        37\n",
            "           4       0.68      0.99      0.81      1327\n",
            "           5       0.00      0.00      0.00        32\n",
            "           6       0.53      0.08      0.14       222\n",
            "\n",
            "    accuracy                           0.67      2003\n",
            "   macro avg       0.25      0.16      0.15      2003\n",
            "weighted avg       0.56      0.67      0.56      2003\n",
            "\n"
          ]
        },
        {
          "output_type": "stream",
          "name": "stderr",
          "text": [
            "/usr/local/lib/python3.8/dist-packages/sklearn/metrics/_classification.py:1318: UndefinedMetricWarning: Precision and F-score are ill-defined and being set to 0.0 in labels with no predicted samples. Use `zero_division` parameter to control this behavior.\n",
            "  _warn_prf(average, modifier, msg_start, len(result))\n",
            "/usr/local/lib/python3.8/dist-packages/sklearn/metrics/_classification.py:1318: UndefinedMetricWarning: Precision and F-score are ill-defined and being set to 0.0 in labels with no predicted samples. Use `zero_division` parameter to control this behavior.\n",
            "  _warn_prf(average, modifier, msg_start, len(result))\n",
            "/usr/local/lib/python3.8/dist-packages/sklearn/metrics/_classification.py:1318: UndefinedMetricWarning: Precision and F-score are ill-defined and being set to 0.0 in labels with no predicted samples. Use `zero_division` parameter to control this behavior.\n",
            "  _warn_prf(average, modifier, msg_start, len(result))\n"
          ]
        }
      ],
      "source": [
        "SGD_dataset = tf.data.Dataset.from_tensor_slices((X_train, Y_train)).shuffle(len(Y_train)).batch(320)\n",
        "smlp_SGD = SimpleMLP()\n",
        "SGD_model = smlp_SGD.build(784, 7) \n",
        "\n",
        "SGD_model.compile(loss=loss, \n",
        "              optimizer=optimizer, \n",
        "              metrics=metrics)\n",
        "\n",
        "# fit the SGD training data to model\n",
        "_ = SGD_model.fit(SGD_dataset, epochs=100, verbose=0)\n",
        "\n",
        "#test the SGD global model and print out metrics\n",
        "for(X_test, Y_test) in test_batched:\n",
        "        SGD_acc, SGD_loss = test_model(X_test, Y_test, SGD_model, 1)\n",
        "# Make predictions on the test set\n",
        "y_pred = SGD_model.predict(X_test)\n",
        "y_pred = np.argmax(y_pred, axis=1)\n",
        "            \n",
        "# Get the true classes\n",
        "true_classes = np.argmax(Y_test, axis = 1)\n",
        "      \n",
        "# Print the classification report and the confusion matrix\n",
        "report = classification_report(true_classes, y_pred)\n",
        "from sklearn.metrics import confusion_matrix\n",
        "confusion_matrix = confusion_matrix(true_classes, y_pred)\n",
        "print(confusion_matrix)\n",
        "plt.show()\n",
        "print(report)"
      ]
    },
    {
      "cell_type": "markdown",
      "metadata": {
        "id": "eAgQ3B1A5Amz"
      },
      "source": [
        "# Label-flipping"
      ]
    },
    {
      "cell_type": "code",
      "execution_count": null,
      "metadata": {
        "id": "sKeRqZqNR4dc"
      },
      "outputs": [],
      "source": [
        "## Pseudocode for flipping percent p of labels.\n",
        "\n",
        "# Store all possible labels in list all_labels.\n",
        "# k =  (total samples of client * p)/100     \n",
        "\n",
        "# For one particular client dataset- do following.\n",
        "# Get k random indexes of dataset and store in a list all_indexes (list contains k random numbers from 0 - number of samples for that client).\n",
        "# For each value in the all_indexes list obtained above - do following\n",
        "# Replace label with some random label from list all_labels"
      ]
    },
    {
      "cell_type": "code",
      "execution_count": null,
      "metadata": {
        "id": "_GS-8nPm5C6Z"
      },
      "outputs": [],
      "source": [
        "client_1,label_1=zip(*clients['client_1'])"
      ]
    },
    {
      "cell_type": "code",
      "execution_count": null,
      "metadata": {
        "colab": {
          "base_uri": "https://localhost:8080/"
        },
        "id": "nIAbsbMK5Nz5",
        "outputId": "7fc18ac5-6c53-4eaf-a567-d42b7eab8f97"
      },
      "outputs": [
        {
          "output_type": "stream",
          "name": "stdout",
          "text": [
            "0 [0 0 0 0 1 0 0]\n",
            "1 [0 0 0 0 1 0 0]\n",
            "2 [0 0 0 0 1 0 0]\n",
            "3 [0 0 1 0 0 0 0]\n",
            "4 [0 0 0 0 1 0 0]\n",
            "5 [0 0 0 0 0 0 1]\n",
            "6 [0 0 0 0 1 0 0]\n",
            "7 [0 0 0 0 0 1 0]\n",
            "8 [0 0 1 0 0 0 0]\n",
            "9 [0 0 0 0 1 0 0]\n",
            "10 [0 0 0 0 1 0 0]\n",
            "11 [0 0 0 0 0 1 0]\n",
            "12 [0 0 0 0 0 0 1]\n",
            "13 [0 0 0 0 1 0 0]\n",
            "14 [0 0 0 0 1 0 0]\n",
            "15 [0 0 0 0 1 0 0]\n",
            "16 [0 1 0 0 0 0 0]\n",
            "17 [0 0 1 0 0 0 0]\n",
            "18 [0 0 0 0 0 0 1]\n",
            "19 [0 0 0 0 1 0 0]\n",
            "20 [0 0 0 0 0 0 1]\n",
            "21 [1 0 0 0 0 0 0]\n",
            "22 [0 0 0 0 1 0 0]\n",
            "23 [0 0 0 0 1 0 0]\n",
            "24 [0 0 0 0 1 0 0]\n",
            "25 [0 1 0 0 0 0 0]\n",
            "26 [0 0 0 0 1 0 0]\n",
            "27 [0 0 0 0 1 0 0]\n",
            "28 [0 0 0 0 0 0 1]\n",
            "29 [0 0 0 0 0 0 1]\n",
            "30 [0 0 0 0 1 0 0]\n",
            "31 [0 0 0 0 1 0 0]\n",
            "32 [0 0 0 0 1 0 0]\n",
            "33 [0 0 0 0 1 0 0]\n",
            "34 [0 0 0 0 1 0 0]\n",
            "35 [0 1 0 0 0 0 0]\n",
            "36 [0 0 0 0 1 0 0]\n",
            "37 [0 0 1 0 0 0 0]\n",
            "38 [0 0 0 0 1 0 0]\n",
            "39 [0 0 0 0 1 0 0]\n",
            "40 [0 0 1 0 0 0 0]\n",
            "41 [0 0 0 0 0 0 1]\n",
            "42 [0 0 0 0 1 0 0]\n",
            "43 [0 0 0 0 1 0 0]\n",
            "44 [0 0 0 0 0 0 1]\n",
            "45 [0 0 0 0 1 0 0]\n",
            "46 [0 0 0 0 1 0 0]\n",
            "47 [0 0 0 0 1 0 0]\n",
            "48 [0 0 0 0 1 0 0]\n",
            "49 [0 0 0 0 0 0 1]\n",
            "50 [0 0 0 0 1 0 0]\n",
            "51 [0 1 0 0 0 0 0]\n",
            "52 [0 0 0 0 1 0 0]\n",
            "53 [0 0 0 0 1 0 0]\n",
            "54 [0 0 0 0 1 0 0]\n",
            "55 [0 0 0 0 1 0 0]\n",
            "56 [0 0 0 0 0 0 1]\n",
            "57 [0 0 0 0 0 0 1]\n",
            "58 [0 0 0 0 1 0 0]\n",
            "59 [0 0 0 0 1 0 0]\n",
            "60 [0 0 0 0 1 0 0]\n",
            "61 [0 0 0 0 1 0 0]\n",
            "62 [0 0 0 0 1 0 0]\n",
            "63 [0 0 1 0 0 0 0]\n",
            "64 [0 0 0 0 1 0 0]\n",
            "65 [0 1 0 0 0 0 0]\n",
            "66 [1 0 0 0 0 0 0]\n",
            "67 [0 0 0 1 0 0 0]\n",
            "68 [0 0 0 0 1 0 0]\n",
            "69 [0 1 0 0 0 0 0]\n",
            "70 [0 0 0 0 1 0 0]\n",
            "71 [0 0 0 0 1 0 0]\n",
            "72 [0 0 1 0 0 0 0]\n",
            "73 [0 0 0 0 1 0 0]\n",
            "74 [0 0 0 0 1 0 0]\n",
            "75 [0 0 0 0 1 0 0]\n",
            "76 [0 0 0 0 1 0 0]\n",
            "77 [0 0 1 0 0 0 0]\n",
            "78 [0 1 0 0 0 0 0]\n",
            "79 [0 0 0 0 1 0 0]\n",
            "80 [0 0 0 0 1 0 0]\n",
            "81 [0 0 0 1 0 0 0]\n",
            "82 [0 1 0 0 0 0 0]\n",
            "83 [0 0 1 0 0 0 0]\n",
            "84 [0 0 1 0 0 0 0]\n",
            "85 [0 0 1 0 0 0 0]\n",
            "86 [0 0 0 0 0 0 1]\n",
            "87 [0 1 0 0 0 0 0]\n",
            "88 [0 0 0 0 1 0 0]\n",
            "89 [0 0 0 0 1 0 0]\n",
            "90 [0 1 0 0 0 0 0]\n",
            "91 [0 0 0 0 1 0 0]\n",
            "92 [0 0 0 0 1 0 0]\n",
            "93 [0 0 0 0 0 0 1]\n",
            "94 [0 0 0 0 1 0 0]\n",
            "95 [0 0 0 0 1 0 0]\n",
            "96 [0 0 1 0 0 0 0]\n",
            "97 [0 0 1 0 0 0 0]\n",
            "98 [0 0 0 0 1 0 0]\n",
            "99 [0 0 0 0 1 0 0]\n",
            "100 [0 0 0 0 0 0 1]\n",
            "101 [0 0 0 0 1 0 0]\n",
            "102 [0 0 0 0 1 0 0]\n",
            "103 [0 0 1 0 0 0 0]\n",
            "104 [0 0 0 0 1 0 0]\n",
            "105 [0 0 0 0 1 0 0]\n",
            "106 [0 0 0 0 1 0 0]\n",
            "107 [0 0 0 0 1 0 0]\n",
            "108 [0 0 0 0 0 0 1]\n",
            "109 [0 0 0 0 1 0 0]\n",
            "110 [0 0 1 0 0 0 0]\n",
            "111 [0 0 0 0 1 0 0]\n",
            "112 [0 0 0 0 1 0 0]\n",
            "113 [0 0 0 0 0 0 1]\n",
            "114 [0 0 0 0 1 0 0]\n",
            "115 [0 0 0 0 1 0 0]\n",
            "116 [0 0 0 0 1 0 0]\n",
            "117 [0 0 0 0 1 0 0]\n",
            "118 [0 0 0 0 0 0 1]\n",
            "119 [0 0 0 0 0 0 1]\n",
            "120 [0 0 0 0 0 0 1]\n",
            "121 [0 0 0 0 1 0 0]\n",
            "122 [0 0 0 0 1 0 0]\n",
            "123 [0 0 0 0 0 0 1]\n",
            "124 [0 0 0 0 1 0 0]\n",
            "125 [0 0 0 0 1 0 0]\n",
            "126 [0 0 0 0 1 0 0]\n",
            "127 [1 0 0 0 0 0 0]\n",
            "128 [0 0 0 0 1 0 0]\n",
            "129 [0 0 0 0 0 0 1]\n",
            "130 [0 0 0 0 1 0 0]\n",
            "131 [0 0 1 0 0 0 0]\n",
            "132 [0 0 0 0 0 0 1]\n",
            "133 [0 1 0 0 0 0 0]\n",
            "134 [0 0 0 0 1 0 0]\n",
            "135 [0 0 0 0 1 0 0]\n",
            "136 [0 1 0 0 0 0 0]\n",
            "137 [0 0 0 0 1 0 0]\n",
            "138 [0 0 1 0 0 0 0]\n",
            "139 [0 0 0 0 1 0 0]\n",
            "140 [0 0 0 0 1 0 0]\n",
            "141 [0 0 0 0 1 0 0]\n",
            "142 [0 0 1 0 0 0 0]\n",
            "143 [0 0 0 0 1 0 0]\n",
            "144 [0 0 0 0 1 0 0]\n",
            "145 [0 0 0 0 1 0 0]\n",
            "146 [0 0 0 0 1 0 0]\n",
            "147 [0 1 0 0 0 0 0]\n",
            "148 [0 0 0 0 1 0 0]\n",
            "149 [0 0 0 0 1 0 0]\n",
            "150 [0 0 0 0 1 0 0]\n",
            "151 [0 0 0 0 0 0 1]\n",
            "152 [0 0 0 0 1 0 0]\n",
            "153 [0 0 0 0 1 0 0]\n",
            "154 [0 0 1 0 0 0 0]\n",
            "155 [0 0 0 0 1 0 0]\n",
            "156 [0 0 0 0 0 0 1]\n",
            "157 [1 0 0 0 0 0 0]\n",
            "158 [0 0 0 0 1 0 0]\n",
            "159 [0 0 0 0 1 0 0]\n",
            "160 [0 0 0 0 1 0 0]\n",
            "161 [0 1 0 0 0 0 0]\n",
            "162 [0 0 0 0 1 0 0]\n",
            "163 [0 1 0 0 0 0 0]\n",
            "164 [0 0 0 0 1 0 0]\n",
            "165 [0 0 0 0 1 0 0]\n",
            "166 [0 0 0 0 0 1 0]\n",
            "167 [0 0 0 0 1 0 0]\n",
            "168 [0 0 0 0 1 0 0]\n",
            "169 [0 0 0 0 0 0 1]\n",
            "170 [0 0 1 0 0 0 0]\n",
            "171 [0 0 0 0 1 0 0]\n",
            "172 [0 0 0 0 1 0 0]\n",
            "173 [0 0 0 0 1 0 0]\n",
            "174 [0 0 0 0 1 0 0]\n",
            "175 [0 0 0 0 0 0 1]\n",
            "176 [0 0 0 0 1 0 0]\n",
            "177 [0 0 0 0 1 0 0]\n",
            "178 [0 0 0 0 1 0 0]\n",
            "179 [0 0 0 0 1 0 0]\n",
            "180 [1 0 0 0 0 0 0]\n",
            "181 [0 0 0 0 1 0 0]\n",
            "182 [0 0 0 0 1 0 0]\n",
            "183 [0 0 0 0 1 0 0]\n",
            "184 [0 1 0 0 0 0 0]\n",
            "185 [0 0 0 0 1 0 0]\n",
            "186 [1 0 0 0 0 0 0]\n",
            "187 [0 0 0 0 1 0 0]\n",
            "188 [0 0 0 0 1 0 0]\n",
            "189 [0 0 0 0 0 0 1]\n",
            "190 [0 0 0 0 1 0 0]\n",
            "191 [0 0 1 0 0 0 0]\n",
            "192 [0 0 0 0 1 0 0]\n",
            "193 [0 0 0 0 0 0 1]\n",
            "194 [0 0 0 0 1 0 0]\n",
            "195 [0 0 1 0 0 0 0]\n",
            "196 [0 0 0 0 1 0 0]\n",
            "197 [0 0 0 0 1 0 0]\n",
            "198 [0 0 0 0 1 0 0]\n",
            "199 [1 0 0 0 0 0 0]\n",
            "200 [0 0 0 0 1 0 0]\n",
            "201 [0 0 0 0 1 0 0]\n",
            "202 [0 0 0 0 1 0 0]\n",
            "203 [0 0 1 0 0 0 0]\n",
            "204 [0 0 0 0 1 0 0]\n",
            "205 [0 0 0 0 1 0 0]\n",
            "206 [0 0 0 0 1 0 0]\n",
            "207 [0 0 0 0 1 0 0]\n",
            "208 [0 1 0 0 0 0 0]\n",
            "209 [0 0 0 0 1 0 0]\n",
            "210 [0 0 0 1 0 0 0]\n",
            "211 [0 0 0 0 1 0 0]\n",
            "212 [0 0 0 0 1 0 0]\n",
            "213 [0 0 0 0 1 0 0]\n",
            "214 [0 0 0 0 1 0 0]\n",
            "215 [0 0 0 0 1 0 0]\n",
            "216 [0 0 0 0 1 0 0]\n",
            "217 [0 0 0 0 1 0 0]\n",
            "218 [0 0 0 0 1 0 0]\n",
            "219 [0 0 0 0 1 0 0]\n",
            "220 [0 1 0 0 0 0 0]\n",
            "221 [0 0 1 0 0 0 0]\n",
            "222 [1 0 0 0 0 0 0]\n",
            "223 [0 0 0 0 1 0 0]\n",
            "224 [0 0 0 0 1 0 0]\n",
            "225 [0 0 0 0 0 0 1]\n",
            "226 [0 0 1 0 0 0 0]\n",
            "227 [0 0 0 0 1 0 0]\n",
            "228 [0 0 1 0 0 0 0]\n",
            "229 [0 0 0 0 1 0 0]\n",
            "230 [0 0 0 0 1 0 0]\n",
            "231 [0 0 0 0 1 0 0]\n",
            "232 [0 0 0 0 1 0 0]\n",
            "233 [0 1 0 0 0 0 0]\n",
            "234 [0 0 1 0 0 0 0]\n",
            "235 [0 0 0 0 1 0 0]\n",
            "236 [0 0 0 0 1 0 0]\n",
            "237 [0 0 0 0 1 0 0]\n",
            "238 [0 0 0 0 0 0 1]\n",
            "239 [0 0 0 0 1 0 0]\n",
            "240 [0 0 0 0 1 0 0]\n",
            "241 [0 0 0 0 1 0 0]\n",
            "242 [0 0 0 1 0 0 0]\n",
            "243 [0 0 0 0 1 0 0]\n",
            "244 [0 0 0 0 0 1 0]\n",
            "245 [0 0 0 0 1 0 0]\n",
            "246 [0 0 0 0 0 1 0]\n",
            "247 [0 1 0 0 0 0 0]\n",
            "248 [0 0 0 0 1 0 0]\n",
            "249 [0 0 0 0 1 0 0]\n",
            "250 [0 0 0 0 1 0 0]\n",
            "251 [0 0 0 0 1 0 0]\n",
            "252 [0 0 1 0 0 0 0]\n",
            "253 [1 0 0 0 0 0 0]\n",
            "254 [0 0 0 0 0 0 1]\n",
            "255 [0 0 0 0 1 0 0]\n",
            "256 [0 0 0 0 1 0 0]\n",
            "257 [0 0 0 0 1 0 0]\n",
            "258 [0 0 1 0 0 0 0]\n",
            "259 [0 0 0 0 1 0 0]\n",
            "260 [0 0 0 0 0 1 0]\n",
            "261 [0 0 0 0 1 0 0]\n",
            "262 [0 0 0 0 0 1 0]\n",
            "263 [0 0 1 0 0 0 0]\n",
            "264 [0 0 0 0 1 0 0]\n",
            "265 [0 0 0 0 1 0 0]\n",
            "266 [0 0 0 0 1 0 0]\n",
            "267 [0 0 0 0 0 0 1]\n",
            "268 [0 0 0 0 1 0 0]\n",
            "269 [0 0 0 0 1 0 0]\n",
            "270 [0 0 0 0 1 0 0]\n",
            "271 [0 0 0 0 1 0 0]\n",
            "272 [0 0 0 0 1 0 0]\n",
            "273 [0 0 0 0 0 0 1]\n",
            "274 [0 0 1 0 0 0 0]\n",
            "275 [0 0 0 0 0 0 1]\n",
            "276 [0 0 1 0 0 0 0]\n",
            "277 [0 0 1 0 0 0 0]\n",
            "278 [0 0 0 0 1 0 0]\n",
            "279 [0 0 0 0 1 0 0]\n",
            "280 [0 0 0 0 1 0 0]\n",
            "281 [0 0 0 1 0 0 0]\n",
            "282 [0 0 0 0 1 0 0]\n",
            "283 [0 0 0 0 1 0 0]\n",
            "284 [0 0 0 0 1 0 0]\n",
            "285 [0 0 0 0 1 0 0]\n",
            "286 [0 0 0 0 1 0 0]\n",
            "287 [0 0 0 0 1 0 0]\n",
            "288 [0 0 0 0 1 0 0]\n",
            "289 [0 1 0 0 0 0 0]\n",
            "290 [0 0 0 0 1 0 0]\n",
            "291 [0 0 0 0 1 0 0]\n",
            "292 [0 0 0 0 1 0 0]\n",
            "293 [0 0 0 0 1 0 0]\n",
            "294 [0 0 0 0 1 0 0]\n",
            "295 [1 0 0 0 0 0 0]\n",
            "296 [0 0 0 0 1 0 0]\n",
            "297 [0 0 1 0 0 0 0]\n",
            "298 [0 0 0 0 1 0 0]\n",
            "299 [0 0 0 0 1 0 0]\n",
            "300 [0 0 0 0 1 0 0]\n",
            "301 [0 0 0 0 1 0 0]\n",
            "302 [1 0 0 0 0 0 0]\n",
            "303 [0 0 0 0 1 0 0]\n",
            "304 [0 0 0 0 0 0 1]\n",
            "305 [1 0 0 0 0 0 0]\n",
            "306 [0 0 0 0 1 0 0]\n",
            "307 [0 0 0 0 0 1 0]\n",
            "308 [0 0 1 0 0 0 0]\n",
            "309 [0 0 0 0 1 0 0]\n",
            "310 [0 0 0 0 1 0 0]\n",
            "311 [0 0 0 0 1 0 0]\n",
            "312 [0 0 0 0 1 0 0]\n",
            "313 [0 0 0 0 1 0 0]\n",
            "314 [0 0 0 0 1 0 0]\n",
            "315 [0 0 0 0 1 0 0]\n",
            "316 [0 0 0 0 0 1 0]\n",
            "317 [0 0 0 0 1 0 0]\n",
            "318 [0 0 0 0 1 0 0]\n",
            "319 [0 0 0 0 1 0 0]\n",
            "320 [0 0 0 0 1 0 0]\n",
            "321 [0 1 0 0 0 0 0]\n",
            "322 [0 0 0 0 1 0 0]\n",
            "323 [0 0 0 0 1 0 0]\n",
            "324 [0 0 0 0 1 0 0]\n",
            "325 [0 0 0 0 0 0 1]\n",
            "326 [0 0 0 0 1 0 0]\n",
            "327 [0 0 0 0 1 0 0]\n",
            "328 [0 0 1 0 0 0 0]\n",
            "329 [0 0 0 0 1 0 0]\n",
            "330 [0 0 0 0 1 0 0]\n",
            "331 [0 0 0 0 1 0 0]\n",
            "332 [0 0 1 0 0 0 0]\n",
            "333 [0 0 0 0 1 0 0]\n",
            "334 [0 0 0 0 1 0 0]\n",
            "335 [0 0 0 0 1 0 0]\n",
            "336 [0 0 0 0 1 0 0]\n",
            "337 [1 0 0 0 0 0 0]\n",
            "338 [0 0 0 0 1 0 0]\n",
            "339 [0 0 0 0 1 0 0]\n",
            "340 [0 0 0 0 1 0 0]\n",
            "341 [0 0 1 0 0 0 0]\n",
            "342 [0 0 0 0 1 0 0]\n",
            "343 [0 0 0 0 1 0 0]\n",
            "344 [0 0 0 0 0 0 1]\n",
            "345 [0 0 0 0 1 0 0]\n",
            "346 [0 0 0 0 1 0 0]\n",
            "347 [0 0 0 0 1 0 0]\n",
            "348 [0 0 0 0 1 0 0]\n",
            "349 [0 0 0 0 0 0 1]\n",
            "350 [0 0 0 0 1 0 0]\n",
            "351 [0 0 0 0 0 0 1]\n",
            "352 [0 0 0 0 1 0 0]\n",
            "353 [0 0 0 0 1 0 0]\n",
            "354 [0 0 0 0 1 0 0]\n",
            "355 [0 0 0 0 1 0 0]\n",
            "356 [0 0 0 0 1 0 0]\n",
            "357 [0 0 0 0 1 0 0]\n",
            "358 [0 0 1 0 0 0 0]\n",
            "359 [0 0 0 0 1 0 0]\n",
            "360 [0 0 0 0 1 0 0]\n",
            "361 [0 0 0 0 1 0 0]\n",
            "362 [0 0 1 0 0 0 0]\n",
            "363 [0 0 0 0 1 0 0]\n",
            "364 [0 1 0 0 0 0 0]\n",
            "365 [0 0 0 0 1 0 0]\n",
            "366 [0 0 0 0 1 0 0]\n",
            "367 [0 0 0 0 0 0 1]\n",
            "368 [0 0 0 0 1 0 0]\n",
            "369 [0 0 1 0 0 0 0]\n",
            "370 [0 0 1 0 0 0 0]\n",
            "371 [0 0 0 0 1 0 0]\n",
            "372 [0 0 1 0 0 0 0]\n",
            "373 [0 0 0 0 1 0 0]\n",
            "374 [0 0 0 0 1 0 0]\n",
            "375 [0 1 0 0 0 0 0]\n",
            "376 [0 0 0 0 1 0 0]\n",
            "377 [0 0 0 0 1 0 0]\n",
            "378 [0 0 0 0 1 0 0]\n",
            "379 [0 0 0 0 1 0 0]\n",
            "380 [0 0 1 0 0 0 0]\n",
            "381 [0 0 0 0 0 0 1]\n",
            "382 [0 0 0 0 1 0 0]\n",
            "383 [0 0 0 0 1 0 0]\n",
            "384 [0 0 0 0 1 0 0]\n",
            "385 [0 0 0 0 0 1 0]\n",
            "386 [0 0 0 0 1 0 0]\n",
            "387 [0 0 0 0 0 0 1]\n",
            "388 [0 0 0 0 0 0 1]\n",
            "389 [0 0 0 0 1 0 0]\n",
            "390 [0 0 0 0 1 0 0]\n",
            "391 [0 0 0 0 1 0 0]\n",
            "392 [0 0 0 0 1 0 0]\n",
            "393 [1 0 0 0 0 0 0]\n",
            "394 [0 0 0 0 1 0 0]\n",
            "395 [0 0 0 0 1 0 0]\n",
            "396 [0 0 0 0 1 0 0]\n",
            "397 [0 0 0 0 1 0 0]\n",
            "398 [0 0 0 0 1 0 0]\n",
            "399 [0 0 1 0 0 0 0]\n",
            "400 [0 0 0 0 1 0 0]\n",
            "401 [0 0 0 0 1 0 0]\n",
            "402 [0 0 0 0 1 0 0]\n",
            "403 [0 0 0 0 1 0 0]\n",
            "404 [0 0 0 0 0 0 1]\n",
            "405 [0 0 0 0 1 0 0]\n",
            "406 [0 0 0 0 1 0 0]\n",
            "407 [0 0 0 0 1 0 0]\n",
            "408 [0 0 0 0 1 0 0]\n",
            "409 [0 0 0 0 1 0 0]\n",
            "410 [0 0 0 0 1 0 0]\n",
            "411 [0 0 0 0 0 0 1]\n",
            "412 [0 0 1 0 0 0 0]\n",
            "413 [0 0 0 0 1 0 0]\n",
            "414 [0 0 0 0 0 0 1]\n",
            "415 [0 0 0 0 1 0 0]\n",
            "416 [0 0 0 0 1 0 0]\n",
            "417 [0 0 0 0 1 0 0]\n",
            "418 [0 0 0 0 1 0 0]\n",
            "419 [0 0 0 0 0 0 1]\n",
            "420 [0 0 0 0 1 0 0]\n",
            "421 [0 0 0 0 1 0 0]\n",
            "422 [0 0 1 0 0 0 0]\n",
            "423 [0 0 0 0 1 0 0]\n",
            "424 [0 0 0 0 0 0 1]\n",
            "425 [0 0 0 0 1 0 0]\n",
            "426 [1 0 0 0 0 0 0]\n",
            "427 [0 0 1 0 0 0 0]\n",
            "428 [0 0 0 0 0 1 0]\n",
            "429 [0 0 0 0 0 1 0]\n",
            "430 [0 0 0 0 1 0 0]\n",
            "431 [0 0 0 0 1 0 0]\n",
            "432 [0 0 0 0 1 0 0]\n",
            "433 [0 0 0 0 1 0 0]\n",
            "434 [0 0 0 0 1 0 0]\n",
            "435 [0 0 0 0 1 0 0]\n",
            "436 [0 0 0 0 1 0 0]\n",
            "437 [0 0 0 0 1 0 0]\n",
            "438 [0 0 0 0 1 0 0]\n",
            "439 [0 0 0 0 1 0 0]\n",
            "440 [0 0 1 0 0 0 0]\n",
            "441 [0 0 0 0 1 0 0]\n",
            "442 [0 0 0 0 1 0 0]\n",
            "443 [0 0 0 0 1 0 0]\n",
            "444 [0 0 0 0 1 0 0]\n",
            "445 [0 0 0 0 1 0 0]\n",
            "446 [0 0 0 0 1 0 0]\n",
            "447 [0 0 0 0 1 0 0]\n",
            "448 [0 0 0 0 1 0 0]\n",
            "449 [0 0 0 0 1 0 0]\n",
            "450 [0 0 0 0 1 0 0]\n",
            "451 [0 0 0 0 0 0 1]\n",
            "452 [0 0 0 0 1 0 0]\n",
            "453 [0 0 0 0 1 0 0]\n",
            "454 [0 0 0 0 1 0 0]\n",
            "455 [0 0 0 0 0 0 1]\n",
            "456 [0 1 0 0 0 0 0]\n",
            "457 [0 0 0 0 1 0 0]\n",
            "458 [0 0 0 0 1 0 0]\n",
            "459 [0 0 0 0 1 0 0]\n",
            "460 [0 0 0 0 0 0 1]\n",
            "461 [0 0 0 0 1 0 0]\n",
            "462 [0 0 0 0 1 0 0]\n",
            "463 [0 0 0 0 1 0 0]\n",
            "464 [0 1 0 0 0 0 0]\n",
            "465 [0 0 0 0 1 0 0]\n",
            "466 [0 0 0 0 0 0 1]\n",
            "467 [0 0 0 0 1 0 0]\n",
            "468 [0 0 0 0 1 0 0]\n",
            "469 [0 0 0 0 1 0 0]\n",
            "470 [0 0 0 0 1 0 0]\n",
            "471 [0 0 0 0 1 0 0]\n",
            "472 [0 0 0 0 1 0 0]\n",
            "473 [0 0 0 0 0 0 1]\n",
            "474 [0 0 1 0 0 0 0]\n",
            "475 [0 0 1 0 0 0 0]\n",
            "476 [0 0 0 0 1 0 0]\n",
            "477 [0 0 0 0 1 0 0]\n",
            "478 [0 0 0 0 1 0 0]\n",
            "479 [0 0 0 0 1 0 0]\n",
            "480 [0 0 1 0 0 0 0]\n",
            "481 [0 0 0 0 0 0 1]\n",
            "482 [0 0 0 0 1 0 0]\n",
            "483 [0 0 0 0 1 0 0]\n",
            "484 [0 0 0 0 0 0 1]\n",
            "485 [0 0 0 0 1 0 0]\n",
            "486 [0 0 0 0 1 0 0]\n",
            "487 [0 0 0 0 1 0 0]\n",
            "488 [0 0 1 0 0 0 0]\n",
            "489 [0 0 0 0 1 0 0]\n",
            "490 [0 0 0 0 1 0 0]\n",
            "491 [0 1 0 0 0 0 0]\n",
            "492 [0 0 0 0 1 0 0]\n",
            "493 [0 0 0 0 1 0 0]\n",
            "494 [0 0 0 0 0 0 1]\n",
            "495 [0 0 0 0 1 0 0]\n",
            "496 [0 0 0 0 0 0 1]\n",
            "497 [0 0 0 0 0 0 1]\n",
            "498 [0 0 0 0 1 0 0]\n",
            "499 [0 0 0 0 1 0 0]\n",
            "500 [0 0 1 0 0 0 0]\n",
            "501 [0 0 0 0 0 0 1]\n",
            "502 [0 0 0 0 1 0 0]\n",
            "503 [0 0 0 0 0 0 1]\n",
            "504 [0 0 1 0 0 0 0]\n",
            "505 [0 0 0 0 1 0 0]\n",
            "506 [0 0 0 0 1 0 0]\n",
            "507 [0 0 0 0 1 0 0]\n",
            "508 [0 0 0 0 1 0 0]\n",
            "509 [0 0 0 0 1 0 0]\n",
            "510 [0 0 1 0 0 0 0]\n",
            "511 [0 0 0 0 1 0 0]\n",
            "512 [0 0 0 0 0 0 1]\n",
            "513 [0 0 1 0 0 0 0]\n",
            "514 [0 0 0 0 0 0 1]\n",
            "515 [0 0 0 0 1 0 0]\n",
            "516 [1 0 0 0 0 0 0]\n",
            "517 [0 0 0 0 1 0 0]\n",
            "518 [0 0 0 0 1 0 0]\n",
            "519 [0 1 0 0 0 0 0]\n",
            "520 [0 0 0 0 1 0 0]\n",
            "521 [0 0 0 0 0 0 1]\n",
            "522 [0 0 0 0 1 0 0]\n",
            "523 [0 0 0 0 1 0 0]\n",
            "524 [0 0 0 0 1 0 0]\n",
            "525 [0 0 0 0 0 0 1]\n",
            "526 [0 0 0 0 1 0 0]\n",
            "527 [0 0 0 0 1 0 0]\n",
            "528 [0 0 0 0 1 0 0]\n",
            "529 [0 0 0 0 1 0 0]\n",
            "530 [0 0 0 0 1 0 0]\n",
            "531 [0 0 0 0 1 0 0]\n",
            "532 [0 1 0 0 0 0 0]\n",
            "533 [0 0 0 0 1 0 0]\n",
            "534 [0 0 0 0 1 0 0]\n",
            "535 [1 0 0 0 0 0 0]\n",
            "536 [0 1 0 0 0 0 0]\n",
            "537 [0 0 0 0 1 0 0]\n",
            "538 [0 0 0 0 1 0 0]\n",
            "539 [0 0 0 0 1 0 0]\n",
            "540 [0 0 0 0 1 0 0]\n",
            "541 [0 0 1 0 0 0 0]\n",
            "542 [0 0 0 0 1 0 0]\n",
            "543 [0 0 0 0 1 0 0]\n",
            "544 [0 0 0 0 1 0 0]\n",
            "545 [0 0 0 0 1 0 0]\n",
            "546 [0 0 0 0 0 1 0]\n",
            "547 [0 0 0 0 1 0 0]\n",
            "548 [0 0 0 0 0 0 1]\n",
            "549 [0 1 0 0 0 0 0]\n",
            "550 [0 0 0 0 0 0 1]\n",
            "551 [0 0 0 0 1 0 0]\n",
            "552 [0 0 1 0 0 0 0]\n",
            "553 [0 0 0 0 1 0 0]\n",
            "554 [0 0 0 0 1 0 0]\n",
            "555 [0 0 1 0 0 0 0]\n",
            "556 [0 0 0 0 1 0 0]\n",
            "557 [0 0 0 0 1 0 0]\n",
            "558 [1 0 0 0 0 0 0]\n",
            "559 [0 0 0 0 1 0 0]\n",
            "560 [0 0 0 0 1 0 0]\n",
            "561 [0 1 0 0 0 0 0]\n",
            "562 [0 0 0 0 1 0 0]\n",
            "563 [0 0 0 0 1 0 0]\n",
            "564 [0 0 1 0 0 0 0]\n",
            "565 [0 0 1 0 0 0 0]\n",
            "566 [0 0 0 0 1 0 0]\n",
            "567 [0 0 0 0 1 0 0]\n",
            "568 [0 0 0 0 1 0 0]\n",
            "569 [0 0 1 0 0 0 0]\n",
            "570 [0 1 0 0 0 0 0]\n",
            "571 [0 0 0 0 1 0 0]\n",
            "572 [0 0 0 0 1 0 0]\n",
            "573 [0 0 0 0 1 0 0]\n",
            "574 [0 0 0 0 1 0 0]\n",
            "575 [0 1 0 0 0 0 0]\n",
            "576 [0 0 1 0 0 0 0]\n",
            "577 [0 0 1 0 0 0 0]\n",
            "578 [0 0 0 0 1 0 0]\n",
            "579 [0 0 1 0 0 0 0]\n",
            "580 [0 0 1 0 0 0 0]\n",
            "581 [0 0 0 0 1 0 0]\n",
            "582 [0 0 0 0 1 0 0]\n",
            "583 [0 0 0 0 1 0 0]\n",
            "584 [0 0 0 0 0 0 1]\n",
            "585 [0 0 0 0 1 0 0]\n",
            "586 [0 0 1 0 0 0 0]\n",
            "587 [0 0 0 0 1 0 0]\n",
            "588 [0 1 0 0 0 0 0]\n",
            "589 [0 0 0 0 0 1 0]\n",
            "590 [0 0 0 0 1 0 0]\n",
            "591 [0 0 0 0 1 0 0]\n",
            "592 [0 0 1 0 0 0 0]\n",
            "593 [0 0 0 1 0 0 0]\n",
            "594 [0 0 0 0 1 0 0]\n",
            "595 [0 0 1 0 0 0 0]\n",
            "596 [0 0 0 0 1 0 0]\n",
            "597 [0 0 0 0 0 0 1]\n",
            "598 [0 0 0 0 1 0 0]\n",
            "599 [0 0 0 0 1 0 0]\n",
            "600 [0 0 0 0 1 0 0]\n",
            "601 [0 0 0 0 1 0 0]\n",
            "602 [0 0 0 0 1 0 0]\n",
            "603 [0 0 0 0 1 0 0]\n",
            "604 [0 0 0 0 0 0 1]\n",
            "605 [0 0 1 0 0 0 0]\n",
            "606 [0 0 0 0 1 0 0]\n",
            "607 [0 0 0 0 1 0 0]\n",
            "608 [0 0 0 0 1 0 0]\n",
            "609 [0 0 0 0 1 0 0]\n",
            "610 [0 0 0 0 0 0 1]\n",
            "611 [0 0 0 0 1 0 0]\n",
            "612 [0 0 0 0 1 0 0]\n",
            "613 [1 0 0 0 0 0 0]\n",
            "614 [0 0 0 0 1 0 0]\n",
            "615 [0 0 0 0 1 0 0]\n",
            "616 [0 0 0 0 1 0 0]\n",
            "617 [0 0 0 0 1 0 0]\n",
            "618 [0 0 0 0 1 0 0]\n",
            "619 [0 0 0 0 1 0 0]\n",
            "620 [0 0 0 0 1 0 0]\n",
            "621 [0 0 0 0 1 0 0]\n",
            "622 [0 0 0 0 1 0 0]\n",
            "623 [0 0 0 0 1 0 0]\n",
            "624 [0 0 0 0 1 0 0]\n",
            "625 [0 0 0 0 1 0 0]\n",
            "626 [0 0 0 0 1 0 0]\n",
            "627 [0 0 0 0 0 0 1]\n",
            "628 [0 0 0 0 1 0 0]\n",
            "629 [0 0 0 0 1 0 0]\n",
            "630 [0 0 0 0 1 0 0]\n",
            "631 [0 1 0 0 0 0 0]\n",
            "632 [0 0 0 0 1 0 0]\n",
            "633 [1 0 0 0 0 0 0]\n",
            "634 [1 0 0 0 0 0 0]\n",
            "635 [0 0 1 0 0 0 0]\n",
            "636 [0 1 0 0 0 0 0]\n",
            "637 [0 0 0 0 1 0 0]\n",
            "638 [0 0 0 0 1 0 0]\n",
            "639 [0 0 0 0 1 0 0]\n",
            "640 [0 0 1 0 0 0 0]\n",
            "641 [0 0 0 0 1 0 0]\n",
            "642 [0 0 0 0 1 0 0]\n",
            "643 [0 0 1 0 0 0 0]\n",
            "644 [0 0 0 0 0 0 1]\n",
            "645 [1 0 0 0 0 0 0]\n",
            "646 [0 0 0 0 1 0 0]\n",
            "647 [1 0 0 0 0 0 0]\n",
            "648 [0 0 0 0 0 0 1]\n",
            "649 [0 0 0 0 1 0 0]\n",
            "650 [0 0 0 0 1 0 0]\n",
            "651 [0 0 0 0 1 0 0]\n",
            "652 [0 0 0 0 1 0 0]\n",
            "653 [0 0 0 0 1 0 0]\n",
            "654 [0 0 0 0 1 0 0]\n",
            "655 [0 0 0 0 1 0 0]\n",
            "656 [0 0 0 0 1 0 0]\n",
            "657 [0 0 0 0 0 0 1]\n",
            "658 [0 0 1 0 0 0 0]\n",
            "659 [0 0 0 0 1 0 0]\n",
            "660 [0 0 0 0 1 0 0]\n",
            "661 [0 0 0 0 1 0 0]\n",
            "662 [0 0 0 0 1 0 0]\n",
            "663 [0 0 0 0 0 0 1]\n",
            "664 [0 0 0 0 1 0 0]\n",
            "665 [1 0 0 0 0 0 0]\n",
            "666 [0 0 0 0 1 0 0]\n",
            "667 [0 0 0 0 1 0 0]\n",
            "668 [0 0 0 0 1 0 0]\n",
            "669 [0 0 1 0 0 0 0]\n",
            "670 [0 0 0 0 1 0 0]\n",
            "671 [0 0 0 0 1 0 0]\n",
            "672 [0 0 0 0 1 0 0]\n",
            "673 [0 0 0 0 1 0 0]\n",
            "674 [1 0 0 0 0 0 0]\n",
            "675 [0 0 0 0 1 0 0]\n",
            "676 [0 0 0 0 1 0 0]\n",
            "677 [0 0 0 0 1 0 0]\n",
            "678 [0 0 1 0 0 0 0]\n",
            "679 [0 0 0 0 1 0 0]\n",
            "680 [0 0 0 0 0 0 1]\n",
            "681 [0 0 0 0 0 0 1]\n",
            "682 [0 0 0 0 1 0 0]\n",
            "683 [0 0 0 0 1 0 0]\n",
            "684 [0 0 1 0 0 0 0]\n",
            "685 [0 0 0 0 1 0 0]\n",
            "686 [0 0 0 0 1 0 0]\n",
            "687 [0 1 0 0 0 0 0]\n",
            "688 [0 0 0 0 1 0 0]\n",
            "689 [0 0 0 0 1 0 0]\n",
            "690 [0 0 0 0 1 0 0]\n",
            "691 [0 0 0 0 1 0 0]\n",
            "692 [0 0 0 0 0 0 1]\n",
            "693 [0 0 0 0 1 0 0]\n",
            "694 [1 0 0 0 0 0 0]\n",
            "695 [0 0 0 0 1 0 0]\n",
            "696 [0 0 0 0 1 0 0]\n",
            "697 [0 0 0 0 1 0 0]\n",
            "698 [0 0 0 0 1 0 0]\n",
            "699 [0 0 1 0 0 0 0]\n",
            "700 [0 0 1 0 0 0 0]\n",
            "701 [0 1 0 0 0 0 0]\n",
            "702 [0 0 0 0 1 0 0]\n",
            "703 [0 0 0 0 1 0 0]\n",
            "704 [0 0 0 0 1 0 0]\n",
            "705 [0 0 0 0 1 0 0]\n",
            "706 [0 0 0 0 1 0 0]\n",
            "707 [0 0 0 0 1 0 0]\n",
            "708 [0 0 0 0 1 0 0]\n",
            "709 [0 0 0 0 1 0 0]\n",
            "710 [0 0 0 0 1 0 0]\n",
            "711 [0 0 0 0 1 0 0]\n",
            "712 [0 0 1 0 0 0 0]\n",
            "713 [0 0 0 0 1 0 0]\n",
            "714 [0 0 1 0 0 0 0]\n",
            "715 [0 0 0 0 1 0 0]\n",
            "716 [0 0 0 0 1 0 0]\n",
            "717 [0 0 0 0 0 0 1]\n",
            "718 [0 0 0 0 1 0 0]\n",
            "719 [0 0 0 0 0 0 1]\n",
            "720 [0 0 0 0 0 0 1]\n",
            "721 [0 0 0 0 0 0 1]\n",
            "722 [0 0 0 0 1 0 0]\n",
            "723 [0 0 0 0 1 0 0]\n",
            "724 [0 0 1 0 0 0 0]\n",
            "725 [0 1 0 0 0 0 0]\n",
            "726 [0 0 0 0 1 0 0]\n",
            "727 [0 0 1 0 0 0 0]\n",
            "728 [0 0 1 0 0 0 0]\n",
            "729 [0 0 0 0 1 0 0]\n",
            "730 [0 0 0 0 1 0 0]\n",
            "731 [1 0 0 0 0 0 0]\n",
            "732 [0 0 0 0 1 0 0]\n",
            "733 [0 0 0 0 0 0 1]\n",
            "734 [0 0 1 0 0 0 0]\n",
            "735 [0 0 0 0 1 0 0]\n",
            "736 [0 0 0 0 1 0 0]\n",
            "737 [0 0 0 0 1 0 0]\n",
            "738 [0 0 0 0 1 0 0]\n",
            "739 [0 0 0 0 0 0 1]\n",
            "740 [0 0 0 0 0 1 0]\n",
            "741 [0 0 1 0 0 0 0]\n",
            "742 [0 0 0 0 1 0 0]\n",
            "743 [0 0 0 0 1 0 0]\n",
            "744 [0 0 0 0 1 0 0]\n",
            "745 [0 0 0 0 1 0 0]\n",
            "746 [0 0 0 0 1 0 0]\n",
            "747 [0 0 0 0 1 0 0]\n",
            "748 [0 0 0 0 1 0 0]\n",
            "749 [0 0 0 0 0 0 1]\n",
            "750 [0 0 0 0 0 1 0]\n",
            "751 [0 0 0 0 0 0 1]\n",
            "752 [0 0 0 0 1 0 0]\n",
            "753 [0 0 0 0 1 0 0]\n",
            "754 [0 0 0 0 1 0 0]\n",
            "755 [0 0 1 0 0 0 0]\n",
            "756 [0 0 0 0 1 0 0]\n",
            "757 [0 1 0 0 0 0 0]\n",
            "758 [0 0 0 0 1 0 0]\n",
            "759 [0 0 0 0 1 0 0]\n",
            "760 [0 0 0 0 1 0 0]\n",
            "761 [0 0 0 0 0 0 1]\n",
            "762 [0 0 0 0 1 0 0]\n",
            "763 [0 0 0 0 1 0 0]\n",
            "764 [0 0 0 0 1 0 0]\n",
            "765 [0 0 0 0 1 0 0]\n",
            "766 [0 0 0 0 1 0 0]\n",
            "767 [0 0 0 0 1 0 0]\n",
            "768 [0 0 0 0 1 0 0]\n",
            "769 [0 0 0 0 0 0 1]\n",
            "770 [0 0 1 0 0 0 0]\n",
            "771 [0 0 1 0 0 0 0]\n",
            "772 [0 0 0 0 1 0 0]\n",
            "773 [0 0 0 0 1 0 0]\n",
            "774 [0 0 0 0 1 0 0]\n",
            "775 [0 0 0 0 1 0 0]\n",
            "776 [0 0 0 0 1 0 0]\n",
            "777 [0 0 0 0 1 0 0]\n",
            "778 [0 0 0 0 1 0 0]\n",
            "779 [0 0 0 0 1 0 0]\n",
            "780 [0 0 1 0 0 0 0]\n",
            "781 [0 0 0 0 0 0 1]\n",
            "782 [0 0 0 0 1 0 0]\n",
            "783 [0 1 0 0 0 0 0]\n",
            "784 [0 0 0 0 0 0 1]\n",
            "785 [0 0 0 0 1 0 0]\n",
            "786 [0 0 0 0 1 0 0]\n",
            "787 [0 0 0 0 1 0 0]\n",
            "788 [0 0 0 0 1 0 0]\n",
            "789 [0 0 0 0 1 0 0]\n",
            "790 [1 0 0 0 0 0 0]\n",
            "791 [0 0 0 0 1 0 0]\n",
            "792 [0 0 0 0 1 0 0]\n",
            "793 [0 0 0 0 1 0 0]\n",
            "794 [0 0 0 0 1 0 0]\n",
            "795 [0 0 0 0 1 0 0]\n",
            "796 [0 0 0 0 1 0 0]\n",
            "797 [0 0 0 0 0 0 1]\n",
            "798 [0 0 0 0 1 0 0]\n",
            "799 [0 0 0 1 0 0 0]\n",
            "800 [0 0 0 0 1 0 0]\n"
          ]
        }
      ],
      "source": [
        "# before replacing labels for label_1\n",
        "for i, label in enumerate(label_1):\n",
        "    print(i, label)"
      ]
    },
    {
      "cell_type": "code",
      "execution_count": null,
      "metadata": {
        "colab": {
          "base_uri": "https://localhost:8080/"
        },
        "id": "rzLRgW5j5PgT",
        "outputId": "9de98f0c-82c1-4aa6-96e8-793597a8cc35"
      },
      "outputs": [
        {
          "output_type": "stream",
          "name": "stdout",
          "text": [
            "[array([0, 0, 0, 0, 1, 0, 0]), array([0, 0, 0, 0, 1, 0, 0]), array([0, 0, 0, 0, 1, 0, 0]), array([0, 0, 1, 0, 0, 0, 0]), array([0, 0, 0, 0, 1, 0, 0]), array([0, 0, 0, 0, 0, 0, 1]), array([0, 0, 0, 0, 1, 0, 0]), array([0, 0, 0, 0, 0, 1, 0]), array([0, 0, 1, 0, 0, 0, 0]), array([0, 0, 0, 0, 1, 0, 0]), array([0, 0, 0, 0, 1, 0, 0]), array([0, 0, 0, 0, 0, 1, 0]), array([0, 0, 0, 0, 0, 0, 1]), array([0, 0, 0, 0, 1, 0, 0]), array([0, 0, 0, 0, 1, 0, 0]), array([0, 0, 0, 0, 1, 0, 0]), array([0, 1, 0, 0, 0, 0, 0]), array([0, 0, 1, 0, 0, 0, 0]), array([0, 0, 0, 0, 0, 0, 1]), array([0, 0, 0, 0, 1, 0, 0]), array([0, 0, 0, 0, 0, 0, 1]), array([1, 0, 0, 0, 0, 0, 0]), array([0, 0, 0, 0, 1, 0, 0]), array([0, 0, 0, 0, 1, 0, 0]), array([0, 0, 0, 0, 1, 0, 0]), array([0, 1, 0, 0, 0, 0, 0]), array([0, 0, 0, 0, 1, 0, 0]), array([0, 0, 0, 0, 1, 0, 0]), array([0, 0, 0, 0, 0, 0, 1]), array([0, 0, 0, 0, 0, 0, 1]), array([0, 0, 0, 0, 1, 0, 0]), array([0, 0, 0, 0, 1, 0, 0]), array([0, 0, 0, 0, 1, 0, 0]), array([0, 0, 0, 0, 1, 0, 0]), array([0, 0, 0, 0, 1, 0, 0]), array([0, 1, 0, 0, 0, 0, 0]), array([0, 0, 0, 0, 1, 0, 0]), array([0, 0, 1, 0, 0, 0, 0]), array([0, 0, 0, 0, 1, 0, 0]), array([0, 0, 0, 0, 1, 0, 0]), array([0, 0, 1, 0, 0, 0, 0]), array([0, 0, 0, 0, 0, 0, 1]), array([0, 0, 0, 0, 1, 0, 0]), array([0, 0, 0, 0, 1, 0, 0]), array([0, 0, 0, 0, 0, 0, 1]), array([0, 0, 0, 0, 1, 0, 0]), array([0, 0, 0, 0, 1, 0, 0]), array([0, 0, 0, 0, 1, 0, 0]), array([0, 0, 0, 0, 1, 0, 0]), array([0, 0, 0, 0, 0, 0, 1]), array([0, 0, 0, 0, 1, 0, 0]), array([0, 1, 0, 0, 0, 0, 0]), array([0, 0, 0, 0, 1, 0, 0]), array([0, 0, 0, 0, 1, 0, 0]), array([0, 0, 0, 0, 1, 0, 0]), array([0, 0, 0, 0, 1, 0, 0]), array([0, 0, 0, 0, 0, 0, 1]), array([0, 0, 0, 0, 0, 0, 1]), array([0, 0, 0, 0, 1, 0, 0]), array([0, 0, 0, 0, 1, 0, 0]), array([0, 0, 0, 0, 1, 0, 0]), array([0, 0, 0, 0, 1, 0, 0]), array([0, 0, 0, 0, 1, 0, 0]), array([0, 0, 1, 0, 0, 0, 0]), array([0, 0, 0, 0, 1, 0, 0]), array([0, 1, 0, 0, 0, 0, 0]), array([1, 0, 0, 0, 0, 0, 0]), array([0, 0, 0, 1, 0, 0, 0]), array([0, 0, 0, 0, 1, 0, 0]), array([0, 1, 0, 0, 0, 0, 0]), array([0, 0, 0, 0, 1, 0, 0]), array([0, 0, 0, 0, 1, 0, 0]), array([0, 0, 1, 0, 0, 0, 0]), array([0, 0, 0, 0, 1, 0, 0]), array([0, 0, 0, 0, 1, 0, 0]), array([0, 0, 0, 0, 1, 0, 0]), array([0, 0, 0, 0, 1, 0, 0]), array([0, 0, 1, 0, 0, 0, 0]), array([0, 1, 0, 0, 0, 0, 0]), array([0, 0, 0, 0, 1, 0, 0]), array([0, 0, 0, 0, 1, 0, 0]), array([0, 0, 0, 1, 0, 0, 0]), array([0, 1, 0, 0, 0, 0, 0]), array([0, 0, 1, 0, 0, 0, 0]), array([0, 0, 1, 0, 0, 0, 0]), array([0, 0, 1, 0, 0, 0, 0]), array([0, 0, 0, 0, 0, 0, 1]), array([0, 1, 0, 0, 0, 0, 0]), array([0, 0, 0, 0, 1, 0, 0]), array([0, 0, 0, 0, 1, 0, 0]), array([0, 1, 0, 0, 0, 0, 0]), array([0, 0, 0, 0, 1, 0, 0]), array([0, 0, 0, 0, 1, 0, 0]), array([0, 0, 0, 0, 0, 0, 1]), array([0, 0, 0, 0, 1, 0, 0]), array([0, 0, 0, 0, 1, 0, 0]), array([0, 0, 1, 0, 0, 0, 0]), array([0, 0, 1, 0, 0, 0, 0]), array([0, 0, 0, 0, 1, 0, 0]), array([0, 0, 0, 0, 1, 0, 0]), array([0, 0, 0, 0, 0, 0, 1]), array([0, 0, 0, 0, 1, 0, 0]), array([0, 0, 0, 0, 1, 0, 0]), array([0, 0, 1, 0, 0, 0, 0]), array([0, 0, 0, 0, 1, 0, 0]), array([0, 0, 0, 0, 1, 0, 0]), array([0, 0, 0, 0, 1, 0, 0]), array([0, 0, 0, 0, 1, 0, 0]), array([0, 0, 0, 0, 0, 0, 1]), array([0, 0, 0, 0, 1, 0, 0]), array([0, 0, 1, 0, 0, 0, 0]), array([0, 0, 0, 0, 1, 0, 0]), array([0, 0, 0, 0, 1, 0, 0]), array([0, 0, 0, 0, 0, 0, 1]), array([0, 0, 0, 0, 1, 0, 0]), array([0, 0, 0, 0, 1, 0, 0]), array([0, 0, 0, 0, 1, 0, 0]), array([0, 0, 0, 0, 1, 0, 0]), array([0, 0, 0, 0, 0, 0, 1]), array([0, 0, 0, 0, 0, 0, 1]), array([0, 0, 0, 0, 0, 0, 1]), array([0, 0, 0, 0, 1, 0, 0]), array([0, 0, 0, 0, 1, 0, 0]), array([0, 0, 0, 0, 0, 0, 1]), array([0, 0, 0, 0, 1, 0, 0]), array([0, 0, 0, 0, 1, 0, 0]), array([0, 0, 0, 0, 1, 0, 0]), array([1, 0, 0, 0, 0, 0, 0]), array([0, 0, 0, 0, 1, 0, 0]), array([0, 0, 0, 0, 0, 0, 1]), array([0, 0, 0, 0, 1, 0, 0]), array([0, 0, 1, 0, 0, 0, 0]), array([0, 0, 0, 0, 0, 0, 1]), array([0, 1, 0, 0, 0, 0, 0]), array([0, 0, 0, 0, 1, 0, 0]), array([0, 0, 0, 0, 1, 0, 0]), array([0, 1, 0, 0, 0, 0, 0]), array([0, 0, 0, 0, 1, 0, 0]), array([0, 0, 1, 0, 0, 0, 0]), array([0, 0, 0, 0, 1, 0, 0]), array([0, 0, 0, 0, 1, 0, 0]), array([0, 0, 0, 0, 1, 0, 0]), array([0, 0, 1, 0, 0, 0, 0]), array([0, 0, 0, 0, 1, 0, 0]), array([0, 0, 0, 0, 1, 0, 0]), array([0, 0, 0, 0, 1, 0, 0]), array([0, 0, 0, 0, 1, 0, 0]), array([0, 1, 0, 0, 0, 0, 0]), array([0, 0, 0, 0, 1, 0, 0]), array([0, 0, 0, 0, 1, 0, 0]), array([0, 0, 0, 0, 1, 0, 0]), array([0, 0, 0, 0, 0, 0, 1]), array([0, 0, 0, 0, 1, 0, 0]), array([0, 0, 0, 0, 1, 0, 0]), array([0, 0, 1, 0, 0, 0, 0]), array([0, 0, 0, 0, 1, 0, 0]), array([0, 0, 0, 0, 0, 0, 1]), array([1, 0, 0, 0, 0, 0, 0]), array([0, 0, 0, 0, 1, 0, 0]), array([0, 0, 0, 0, 1, 0, 0]), array([0, 0, 0, 0, 1, 0, 0]), array([0, 1, 0, 0, 0, 0, 0]), array([0, 0, 0, 0, 1, 0, 0]), array([0, 1, 0, 0, 0, 0, 0]), array([0, 0, 0, 0, 1, 0, 0]), array([0, 0, 0, 0, 1, 0, 0]), array([0, 0, 0, 0, 0, 1, 0]), array([0, 0, 0, 0, 1, 0, 0]), array([0, 0, 0, 0, 1, 0, 0]), array([0, 0, 0, 0, 0, 0, 1]), array([0, 0, 1, 0, 0, 0, 0]), array([0, 0, 0, 0, 1, 0, 0]), array([0, 0, 0, 0, 1, 0, 0]), array([0, 0, 0, 0, 1, 0, 0]), array([0, 0, 0, 0, 1, 0, 0]), array([0, 0, 0, 0, 0, 0, 1]), array([0, 0, 0, 0, 1, 0, 0]), array([0, 0, 0, 0, 1, 0, 0]), array([0, 0, 0, 0, 1, 0, 0]), array([0, 0, 0, 0, 1, 0, 0]), array([1, 0, 0, 0, 0, 0, 0]), array([0, 0, 0, 0, 1, 0, 0]), array([0, 0, 0, 0, 1, 0, 0]), array([0, 0, 0, 0, 1, 0, 0]), array([0, 1, 0, 0, 0, 0, 0]), array([0, 0, 0, 0, 1, 0, 0]), array([1, 0, 0, 0, 0, 0, 0]), array([0, 0, 0, 0, 1, 0, 0]), array([0, 0, 0, 0, 1, 0, 0]), array([0, 0, 0, 0, 0, 0, 1]), array([0, 0, 0, 0, 1, 0, 0]), array([0, 0, 1, 0, 0, 0, 0]), array([0, 0, 0, 0, 1, 0, 0]), array([0, 0, 0, 0, 0, 0, 1]), array([0, 0, 0, 0, 1, 0, 0]), array([0, 0, 1, 0, 0, 0, 0]), array([0, 0, 0, 0, 1, 0, 0]), array([0, 0, 0, 0, 1, 0, 0]), array([0, 0, 0, 0, 1, 0, 0]), array([1, 0, 0, 0, 0, 0, 0]), array([0, 0, 0, 0, 1, 0, 0]), array([0, 0, 0, 0, 1, 0, 0]), array([0, 0, 0, 0, 1, 0, 0]), array([0, 0, 1, 0, 0, 0, 0]), array([0, 0, 0, 0, 1, 0, 0]), array([0, 0, 0, 0, 1, 0, 0]), array([0, 0, 0, 0, 1, 0, 0]), array([0, 0, 0, 0, 1, 0, 0]), array([0, 1, 0, 0, 0, 0, 0]), array([0, 0, 0, 0, 1, 0, 0]), array([0, 0, 0, 1, 0, 0, 0]), array([0, 0, 0, 0, 1, 0, 0]), array([0, 0, 0, 0, 1, 0, 0]), array([0, 0, 0, 0, 1, 0, 0]), array([0, 0, 0, 0, 1, 0, 0]), array([0, 0, 0, 0, 1, 0, 0]), array([0, 0, 0, 0, 1, 0, 0]), array([0, 0, 0, 0, 1, 0, 0]), array([0, 0, 0, 0, 1, 0, 0]), array([0, 0, 0, 0, 1, 0, 0]), array([0, 1, 0, 0, 0, 0, 0]), array([0, 0, 1, 0, 0, 0, 0]), array([1, 0, 0, 0, 0, 0, 0]), array([0, 0, 0, 0, 1, 0, 0]), array([0, 0, 0, 0, 1, 0, 0]), array([0, 0, 0, 0, 0, 0, 1]), array([0, 0, 1, 0, 0, 0, 0]), array([0, 0, 0, 0, 1, 0, 0]), array([0, 0, 1, 0, 0, 0, 0]), array([0, 0, 0, 0, 1, 0, 0]), array([0, 0, 0, 0, 1, 0, 0]), array([0, 0, 0, 0, 1, 0, 0]), array([0, 0, 0, 0, 1, 0, 0]), array([0, 1, 0, 0, 0, 0, 0]), array([0, 0, 1, 0, 0, 0, 0]), array([0, 0, 0, 0, 1, 0, 0]), array([0, 0, 0, 0, 1, 0, 0]), array([0, 0, 0, 0, 1, 0, 0]), array([0, 0, 0, 0, 0, 0, 1]), array([0, 0, 0, 0, 1, 0, 0]), array([0, 0, 0, 0, 1, 0, 0]), array([0, 0, 0, 0, 1, 0, 0]), array([0, 0, 0, 1, 0, 0, 0]), array([0, 0, 0, 0, 1, 0, 0]), array([0, 0, 0, 0, 0, 1, 0]), array([0, 0, 0, 0, 1, 0, 0]), array([0, 0, 0, 0, 0, 1, 0]), array([0, 1, 0, 0, 0, 0, 0]), array([0, 0, 0, 0, 1, 0, 0]), array([0, 0, 0, 0, 1, 0, 0]), array([0, 0, 0, 0, 1, 0, 0]), array([0, 0, 0, 0, 1, 0, 0]), array([0, 0, 1, 0, 0, 0, 0]), array([1, 0, 0, 0, 0, 0, 0]), array([0, 0, 0, 0, 0, 0, 1]), array([0, 0, 0, 0, 1, 0, 0]), array([0, 0, 0, 0, 1, 0, 0]), array([0, 0, 0, 0, 1, 0, 0]), array([0, 0, 1, 0, 0, 0, 0]), array([0, 0, 0, 0, 1, 0, 0]), array([0, 0, 0, 0, 0, 1, 0]), array([0, 0, 0, 0, 1, 0, 0]), array([0, 0, 0, 0, 0, 1, 0]), array([0, 0, 1, 0, 0, 0, 0]), array([0, 0, 0, 0, 1, 0, 0]), array([0, 0, 0, 0, 1, 0, 0]), array([0, 0, 0, 0, 1, 0, 0]), array([0, 0, 0, 0, 0, 0, 1]), array([0, 0, 0, 0, 1, 0, 0]), array([0, 0, 0, 0, 1, 0, 0]), array([0, 0, 0, 0, 1, 0, 0]), array([0, 0, 0, 0, 1, 0, 0]), array([0, 0, 0, 0, 1, 0, 0]), array([0, 0, 0, 0, 0, 0, 1]), array([0, 0, 1, 0, 0, 0, 0]), array([0, 0, 0, 0, 0, 0, 1]), array([0, 0, 1, 0, 0, 0, 0]), array([0, 0, 1, 0, 0, 0, 0]), array([0, 0, 0, 0, 1, 0, 0]), array([0, 0, 0, 0, 1, 0, 0]), array([0, 0, 0, 0, 1, 0, 0]), array([0, 0, 0, 1, 0, 0, 0]), array([0, 0, 0, 0, 1, 0, 0]), array([0, 0, 0, 0, 1, 0, 0]), array([0, 0, 0, 0, 1, 0, 0]), array([0, 0, 0, 0, 1, 0, 0]), array([0, 0, 0, 0, 1, 0, 0]), array([0, 0, 0, 0, 1, 0, 0]), array([0, 0, 0, 0, 1, 0, 0]), array([0, 1, 0, 0, 0, 0, 0]), array([0, 0, 0, 0, 1, 0, 0]), array([0, 0, 0, 0, 1, 0, 0]), array([0, 0, 0, 0, 1, 0, 0]), array([0, 0, 0, 0, 1, 0, 0]), array([0, 0, 0, 0, 1, 0, 0]), array([1, 0, 0, 0, 0, 0, 0]), array([0, 0, 0, 0, 1, 0, 0]), array([0, 0, 1, 0, 0, 0, 0]), array([0, 0, 0, 0, 1, 0, 0]), array([0, 0, 0, 0, 1, 0, 0]), array([0, 0, 0, 0, 1, 0, 0]), array([0, 0, 0, 0, 1, 0, 0]), array([1, 0, 0, 0, 0, 0, 0]), array([0, 0, 0, 0, 1, 0, 0]), array([0, 0, 0, 0, 0, 0, 1]), array([1, 0, 0, 0, 0, 0, 0]), array([0, 0, 0, 0, 1, 0, 0]), array([0, 0, 0, 0, 0, 1, 0]), array([0, 0, 1, 0, 0, 0, 0]), array([0, 0, 0, 0, 1, 0, 0]), array([0, 0, 0, 0, 1, 0, 0]), array([0, 0, 0, 0, 1, 0, 0]), array([0, 0, 0, 0, 1, 0, 0]), array([0, 0, 0, 0, 1, 0, 0]), array([0, 0, 0, 0, 1, 0, 0]), array([0, 0, 0, 0, 1, 0, 0]), array([0, 0, 0, 0, 0, 1, 0]), array([0, 0, 0, 0, 1, 0, 0]), array([0, 0, 0, 0, 1, 0, 0]), array([0, 0, 0, 0, 1, 0, 0]), array([0, 0, 0, 0, 1, 0, 0]), array([0, 1, 0, 0, 0, 0, 0]), array([0, 0, 0, 0, 1, 0, 0]), array([0, 0, 0, 0, 1, 0, 0]), array([0, 0, 0, 0, 1, 0, 0]), array([0, 0, 0, 0, 0, 0, 1]), array([0, 0, 0, 0, 1, 0, 0]), array([0, 0, 0, 0, 1, 0, 0]), array([0, 0, 1, 0, 0, 0, 0]), array([0, 0, 0, 0, 1, 0, 0]), array([0, 0, 0, 0, 1, 0, 0]), array([0, 0, 0, 0, 1, 0, 0]), array([0, 0, 1, 0, 0, 0, 0]), array([0, 0, 0, 0, 1, 0, 0]), array([0, 0, 0, 0, 1, 0, 0]), array([0, 0, 0, 0, 1, 0, 0]), array([0, 0, 0, 0, 1, 0, 0]), array([1, 0, 0, 0, 0, 0, 0]), array([0, 0, 0, 0, 1, 0, 0]), array([0, 0, 0, 0, 1, 0, 0]), array([0, 0, 0, 0, 1, 0, 0]), array([0, 0, 1, 0, 0, 0, 0]), array([0, 0, 0, 0, 1, 0, 0]), array([0, 0, 0, 0, 1, 0, 0]), array([0, 0, 0, 0, 0, 0, 1]), array([0, 0, 0, 0, 1, 0, 0]), array([0, 0, 0, 0, 1, 0, 0]), array([0, 0, 0, 0, 1, 0, 0]), array([0, 0, 0, 0, 1, 0, 0]), array([0, 0, 0, 0, 0, 0, 1]), array([0, 0, 0, 0, 1, 0, 0]), array([0, 0, 0, 0, 0, 0, 1]), array([0, 0, 0, 0, 1, 0, 0]), array([0, 0, 0, 0, 1, 0, 0]), array([0, 0, 0, 0, 1, 0, 0]), array([0, 0, 0, 0, 1, 0, 0]), array([0, 0, 0, 0, 1, 0, 0]), array([0, 0, 0, 0, 1, 0, 0]), array([0, 0, 1, 0, 0, 0, 0]), array([0, 0, 0, 0, 1, 0, 0]), array([0, 0, 0, 0, 1, 0, 0]), array([0, 0, 0, 0, 1, 0, 0]), array([0, 0, 1, 0, 0, 0, 0]), array([0, 0, 0, 0, 1, 0, 0]), array([0, 1, 0, 0, 0, 0, 0]), array([0, 0, 0, 0, 1, 0, 0]), array([0, 0, 0, 0, 1, 0, 0]), array([0, 0, 0, 0, 0, 0, 1]), array([0, 0, 0, 0, 1, 0, 0]), array([0, 0, 1, 0, 0, 0, 0]), array([0, 0, 1, 0, 0, 0, 0]), array([0, 0, 0, 0, 1, 0, 0]), array([0, 0, 1, 0, 0, 0, 0]), array([0, 0, 0, 0, 1, 0, 0]), array([0, 0, 0, 0, 1, 0, 0]), array([0, 1, 0, 0, 0, 0, 0]), array([0, 0, 0, 0, 1, 0, 0]), array([0, 0, 0, 0, 1, 0, 0]), array([0, 0, 0, 0, 1, 0, 0]), array([0, 0, 0, 0, 1, 0, 0]), array([0, 0, 1, 0, 0, 0, 0]), array([0, 0, 0, 0, 0, 0, 1]), array([0, 0, 0, 0, 1, 0, 0]), array([0, 0, 0, 0, 1, 0, 0]), array([0, 0, 0, 0, 1, 0, 0]), array([0, 0, 0, 0, 0, 1, 0]), array([0, 0, 0, 0, 1, 0, 0]), array([0, 0, 0, 0, 0, 0, 1]), array([0, 0, 0, 0, 0, 0, 1]), array([0, 0, 0, 0, 1, 0, 0]), array([0, 0, 0, 0, 1, 0, 0]), array([0, 0, 0, 0, 1, 0, 0]), array([0, 0, 0, 0, 1, 0, 0]), array([1, 0, 0, 0, 0, 0, 0]), array([0, 0, 0, 0, 1, 0, 0]), array([0, 0, 0, 0, 1, 0, 0]), array([0, 0, 0, 0, 1, 0, 0]), array([0, 0, 0, 0, 1, 0, 0]), array([0, 0, 0, 0, 1, 0, 0]), array([0, 0, 1, 0, 0, 0, 0]), array([0, 0, 0, 0, 1, 0, 0]), array([0, 0, 0, 0, 1, 0, 0]), array([0, 0, 0, 0, 1, 0, 0]), array([0, 0, 0, 0, 1, 0, 0]), array([0, 0, 0, 0, 0, 0, 1]), array([0, 0, 0, 0, 1, 0, 0]), array([0, 0, 0, 0, 1, 0, 0]), array([0, 0, 0, 0, 1, 0, 0]), array([0, 0, 0, 0, 1, 0, 0]), array([0, 0, 0, 0, 1, 0, 0]), array([0, 0, 0, 0, 1, 0, 0]), array([0, 0, 0, 0, 0, 0, 1]), array([0, 0, 1, 0, 0, 0, 0]), array([0, 0, 0, 0, 1, 0, 0]), array([0, 0, 0, 0, 0, 0, 1]), array([0, 0, 0, 0, 1, 0, 0]), array([0, 0, 0, 0, 1, 0, 0]), array([0, 0, 0, 0, 1, 0, 0]), array([0, 0, 0, 0, 1, 0, 0]), array([0, 0, 0, 0, 0, 0, 1]), array([0, 0, 0, 0, 1, 0, 0]), array([0, 0, 0, 0, 1, 0, 0]), array([0, 0, 1, 0, 0, 0, 0]), array([0, 0, 0, 0, 1, 0, 0]), array([0, 0, 0, 0, 0, 0, 1]), array([0, 0, 0, 0, 1, 0, 0]), array([1, 0, 0, 0, 0, 0, 0]), array([0, 0, 1, 0, 0, 0, 0]), array([0, 0, 0, 0, 0, 1, 0]), array([0, 0, 0, 0, 0, 1, 0]), array([0, 0, 0, 0, 1, 0, 0]), array([0, 0, 0, 0, 1, 0, 0]), array([0, 0, 0, 0, 1, 0, 0]), array([0, 0, 0, 0, 1, 0, 0]), array([0, 0, 0, 0, 1, 0, 0]), array([0, 0, 0, 0, 1, 0, 0]), array([0, 0, 0, 0, 1, 0, 0]), array([0, 0, 0, 0, 1, 0, 0]), array([0, 0, 0, 0, 1, 0, 0]), array([0, 0, 0, 0, 1, 0, 0]), array([0, 0, 1, 0, 0, 0, 0]), array([0, 0, 0, 0, 1, 0, 0]), array([0, 0, 0, 0, 1, 0, 0]), array([0, 0, 0, 0, 1, 0, 0]), array([0, 0, 0, 0, 1, 0, 0]), array([0, 0, 0, 0, 1, 0, 0]), array([0, 0, 0, 0, 1, 0, 0]), array([0, 0, 0, 0, 1, 0, 0]), array([0, 0, 0, 0, 1, 0, 0]), array([0, 0, 0, 0, 1, 0, 0]), array([0, 0, 0, 0, 1, 0, 0]), array([0, 0, 0, 0, 0, 0, 1]), array([0, 0, 0, 0, 1, 0, 0]), array([0, 0, 0, 0, 1, 0, 0]), array([0, 0, 0, 0, 1, 0, 0]), array([0, 0, 0, 0, 0, 0, 1]), array([0, 1, 0, 0, 0, 0, 0]), array([0, 0, 0, 0, 1, 0, 0]), array([0, 0, 0, 0, 1, 0, 0]), array([0, 0, 0, 0, 1, 0, 0]), array([0, 0, 0, 0, 0, 0, 1]), array([0, 0, 0, 0, 1, 0, 0]), array([0, 0, 0, 0, 1, 0, 0]), array([0, 0, 0, 0, 1, 0, 0]), array([0, 1, 0, 0, 0, 0, 0]), array([0, 0, 0, 0, 1, 0, 0]), array([0, 0, 0, 0, 0, 0, 1]), array([0, 0, 0, 0, 1, 0, 0]), array([0, 0, 0, 0, 1, 0, 0]), array([0, 0, 0, 0, 1, 0, 0]), array([0, 0, 0, 0, 1, 0, 0]), array([0, 0, 0, 0, 1, 0, 0]), array([0, 0, 0, 0, 1, 0, 0]), array([0, 0, 0, 0, 0, 0, 1]), array([0, 0, 1, 0, 0, 0, 0]), array([0, 0, 1, 0, 0, 0, 0]), array([0, 0, 0, 0, 1, 0, 0]), array([0, 0, 0, 0, 1, 0, 0]), array([0, 0, 0, 0, 1, 0, 0]), array([0, 0, 0, 0, 1, 0, 0]), array([0, 0, 1, 0, 0, 0, 0]), array([0, 0, 0, 0, 0, 0, 1]), array([0, 0, 0, 0, 1, 0, 0]), array([0, 0, 0, 0, 1, 0, 0]), array([0, 0, 0, 0, 0, 0, 1]), array([0, 0, 0, 0, 1, 0, 0]), array([0, 0, 0, 0, 1, 0, 0]), array([0, 0, 0, 0, 1, 0, 0]), array([0, 0, 1, 0, 0, 0, 0]), array([0, 0, 0, 0, 1, 0, 0]), array([0, 0, 0, 0, 1, 0, 0]), array([0, 1, 0, 0, 0, 0, 0]), array([0, 0, 0, 0, 1, 0, 0]), array([0, 0, 0, 0, 1, 0, 0]), array([0, 0, 0, 0, 0, 0, 1]), array([0, 0, 0, 0, 1, 0, 0]), array([0, 0, 0, 0, 0, 0, 1]), array([0, 0, 0, 0, 0, 0, 1]), array([0, 0, 0, 0, 1, 0, 0]), array([0, 0, 0, 0, 1, 0, 0]), array([0, 0, 1, 0, 0, 0, 0]), array([0, 0, 0, 0, 0, 0, 1]), array([0, 0, 0, 0, 1, 0, 0]), array([0, 0, 0, 0, 0, 0, 1]), array([0, 0, 1, 0, 0, 0, 0]), array([0, 0, 0, 0, 1, 0, 0]), array([0, 0, 0, 0, 1, 0, 0]), array([0, 0, 0, 0, 1, 0, 0]), array([0, 0, 0, 0, 1, 0, 0]), array([0, 0, 0, 0, 1, 0, 0]), array([0, 0, 1, 0, 0, 0, 0]), array([0, 0, 0, 0, 1, 0, 0]), array([0, 0, 0, 0, 0, 0, 1]), array([0, 0, 1, 0, 0, 0, 0]), array([0, 0, 0, 0, 0, 0, 1]), array([0, 0, 0, 0, 1, 0, 0]), array([1, 0, 0, 0, 0, 0, 0]), array([0, 0, 0, 0, 1, 0, 0]), array([0, 0, 0, 0, 1, 0, 0]), array([0, 1, 0, 0, 0, 0, 0]), array([0, 0, 0, 0, 1, 0, 0]), array([0, 0, 0, 0, 0, 0, 1]), array([0, 0, 0, 0, 1, 0, 0]), array([0, 0, 0, 0, 1, 0, 0]), array([0, 0, 0, 0, 1, 0, 0]), array([0, 0, 0, 0, 0, 0, 1]), array([0, 0, 0, 0, 1, 0, 0]), array([0, 0, 0, 0, 1, 0, 0]), array([0, 0, 0, 0, 1, 0, 0]), array([0, 0, 0, 0, 1, 0, 0]), array([0, 0, 0, 0, 1, 0, 0]), array([0, 0, 0, 0, 1, 0, 0]), array([0, 1, 0, 0, 0, 0, 0]), array([0, 0, 0, 0, 1, 0, 0]), array([0, 0, 0, 0, 1, 0, 0]), array([1, 0, 0, 0, 0, 0, 0]), array([0, 1, 0, 0, 0, 0, 0]), array([0, 0, 0, 0, 1, 0, 0]), array([0, 0, 0, 0, 1, 0, 0]), array([0, 0, 0, 0, 1, 0, 0]), array([0, 0, 0, 0, 1, 0, 0]), array([0, 0, 1, 0, 0, 0, 0]), array([0, 0, 0, 0, 1, 0, 0]), array([0, 0, 0, 0, 1, 0, 0]), array([0, 0, 0, 0, 1, 0, 0]), array([0, 0, 0, 0, 1, 0, 0]), array([0, 0, 0, 0, 0, 1, 0]), array([0, 0, 0, 0, 1, 0, 0]), array([0, 0, 0, 0, 0, 0, 1]), array([0, 1, 0, 0, 0, 0, 0]), array([0, 0, 0, 0, 0, 0, 1]), array([0, 0, 0, 0, 1, 0, 0]), array([0, 0, 1, 0, 0, 0, 0]), array([0, 0, 0, 0, 1, 0, 0]), array([0, 0, 0, 0, 1, 0, 0]), array([0, 0, 1, 0, 0, 0, 0]), array([0, 0, 0, 0, 1, 0, 0]), array([0, 0, 0, 0, 1, 0, 0]), array([1, 0, 0, 0, 0, 0, 0]), array([0, 0, 0, 0, 1, 0, 0]), array([0, 0, 0, 0, 1, 0, 0]), array([0, 1, 0, 0, 0, 0, 0]), array([0, 0, 0, 0, 1, 0, 0]), array([0, 0, 0, 0, 1, 0, 0]), array([0, 0, 1, 0, 0, 0, 0]), array([0, 0, 1, 0, 0, 0, 0]), array([0, 0, 0, 0, 1, 0, 0]), array([0, 0, 0, 0, 1, 0, 0]), array([0, 0, 0, 0, 1, 0, 0]), array([0, 0, 1, 0, 0, 0, 0]), array([0, 1, 0, 0, 0, 0, 0]), array([0, 0, 0, 0, 1, 0, 0]), array([0, 0, 0, 0, 1, 0, 0]), array([0, 0, 0, 0, 1, 0, 0]), array([0, 0, 0, 0, 1, 0, 0]), array([0, 1, 0, 0, 0, 0, 0]), array([0, 0, 1, 0, 0, 0, 0]), array([0, 0, 1, 0, 0, 0, 0]), array([0, 0, 0, 0, 1, 0, 0]), array([0, 0, 1, 0, 0, 0, 0]), array([0, 0, 1, 0, 0, 0, 0]), array([0, 0, 0, 0, 1, 0, 0]), array([0, 0, 0, 0, 1, 0, 0]), array([0, 0, 0, 0, 1, 0, 0]), array([0, 0, 0, 0, 0, 0, 1]), array([0, 0, 0, 0, 1, 0, 0]), array([0, 0, 1, 0, 0, 0, 0]), array([0, 0, 0, 0, 1, 0, 0]), array([0, 1, 0, 0, 0, 0, 0]), array([0, 0, 0, 0, 0, 1, 0]), array([0, 0, 0, 0, 1, 0, 0]), array([0, 0, 0, 0, 1, 0, 0]), array([0, 0, 1, 0, 0, 0, 0]), array([0, 0, 0, 1, 0, 0, 0]), array([0, 0, 0, 0, 1, 0, 0]), array([0, 0, 1, 0, 0, 0, 0]), array([0, 0, 0, 0, 1, 0, 0]), array([0, 0, 0, 0, 0, 0, 1]), array([0, 0, 0, 0, 1, 0, 0]), array([0, 0, 0, 0, 1, 0, 0]), array([0, 0, 0, 0, 1, 0, 0]), array([0, 0, 0, 0, 1, 0, 0]), array([0, 0, 0, 0, 1, 0, 0]), array([0, 0, 0, 0, 1, 0, 0]), array([0, 0, 0, 0, 0, 0, 1]), array([0, 0, 1, 0, 0, 0, 0]), array([0, 0, 0, 0, 1, 0, 0]), array([0, 0, 0, 0, 1, 0, 0]), array([0, 0, 0, 0, 1, 0, 0]), array([0, 0, 0, 0, 1, 0, 0]), array([0, 0, 0, 0, 0, 0, 1]), array([0, 0, 0, 0, 1, 0, 0]), array([0, 0, 0, 0, 1, 0, 0]), array([1, 0, 0, 0, 0, 0, 0]), array([0, 0, 0, 0, 1, 0, 0]), array([0, 0, 0, 0, 1, 0, 0]), array([0, 0, 0, 0, 1, 0, 0]), array([0, 0, 0, 0, 1, 0, 0]), array([0, 0, 0, 0, 1, 0, 0]), array([0, 0, 0, 0, 1, 0, 0]), array([0, 0, 0, 0, 1, 0, 0]), array([0, 0, 0, 0, 1, 0, 0]), array([0, 0, 0, 0, 1, 0, 0]), array([0, 0, 0, 0, 1, 0, 0]), array([0, 0, 0, 0, 1, 0, 0]), array([0, 0, 0, 0, 1, 0, 0]), array([0, 0, 0, 0, 1, 0, 0]), array([0, 0, 0, 0, 0, 0, 1]), array([0, 0, 0, 0, 1, 0, 0]), array([0, 0, 0, 0, 1, 0, 0]), array([0, 0, 0, 0, 1, 0, 0]), array([0, 1, 0, 0, 0, 0, 0]), array([0, 0, 0, 0, 1, 0, 0]), array([1, 0, 0, 0, 0, 0, 0]), array([1, 0, 0, 0, 0, 0, 0]), array([0, 0, 1, 0, 0, 0, 0]), array([0, 1, 0, 0, 0, 0, 0]), array([0, 0, 0, 0, 1, 0, 0]), array([0, 0, 0, 0, 1, 0, 0]), array([0, 0, 0, 0, 1, 0, 0]), array([0, 0, 1, 0, 0, 0, 0]), array([0, 0, 0, 0, 1, 0, 0]), array([0, 0, 0, 0, 1, 0, 0]), array([0, 0, 1, 0, 0, 0, 0]), array([0, 0, 0, 0, 0, 0, 1]), array([1, 0, 0, 0, 0, 0, 0]), array([0, 0, 0, 0, 1, 0, 0]), array([1, 0, 0, 0, 0, 0, 0]), array([0, 0, 0, 0, 0, 0, 1]), array([0, 0, 0, 0, 1, 0, 0]), array([0, 0, 0, 0, 1, 0, 0]), array([0, 0, 0, 0, 1, 0, 0]), array([0, 0, 0, 0, 1, 0, 0]), array([0, 0, 0, 0, 1, 0, 0]), array([0, 0, 0, 0, 1, 0, 0]), array([0, 0, 0, 0, 1, 0, 0]), array([0, 0, 0, 0, 1, 0, 0]), array([0, 0, 0, 0, 0, 0, 1]), array([0, 0, 1, 0, 0, 0, 0]), array([0, 0, 0, 0, 1, 0, 0]), array([0, 0, 0, 0, 1, 0, 0]), array([0, 0, 0, 0, 1, 0, 0]), array([0, 0, 0, 0, 1, 0, 0]), array([0, 0, 0, 0, 0, 0, 1]), array([0, 0, 0, 0, 1, 0, 0]), array([1, 0, 0, 0, 0, 0, 0]), array([0, 0, 0, 0, 1, 0, 0]), array([0, 0, 0, 0, 1, 0, 0]), array([0, 0, 0, 0, 1, 0, 0]), array([0, 0, 1, 0, 0, 0, 0]), array([0, 0, 0, 0, 1, 0, 0]), array([0, 0, 0, 0, 1, 0, 0]), array([0, 0, 0, 0, 1, 0, 0]), array([0, 0, 0, 0, 1, 0, 0]), array([1, 0, 0, 0, 0, 0, 0]), array([0, 0, 0, 0, 1, 0, 0]), array([0, 0, 0, 0, 1, 0, 0]), array([0, 0, 0, 0, 1, 0, 0]), array([0, 0, 1, 0, 0, 0, 0]), array([0, 0, 0, 0, 1, 0, 0]), array([0, 0, 0, 0, 0, 0, 1]), array([0, 0, 0, 0, 0, 0, 1]), array([0, 0, 0, 0, 1, 0, 0]), array([0, 0, 0, 0, 1, 0, 0]), array([0, 0, 1, 0, 0, 0, 0]), array([0, 0, 0, 0, 1, 0, 0]), array([0, 0, 0, 0, 1, 0, 0]), array([0, 1, 0, 0, 0, 0, 0]), array([0, 0, 0, 0, 1, 0, 0]), array([0, 0, 0, 0, 1, 0, 0]), array([0, 0, 0, 0, 1, 0, 0]), array([0, 0, 0, 0, 1, 0, 0]), array([0, 0, 0, 0, 0, 0, 1]), array([0, 0, 0, 0, 1, 0, 0]), array([1, 0, 0, 0, 0, 0, 0]), array([0, 0, 0, 0, 1, 0, 0]), array([0, 0, 0, 0, 1, 0, 0]), array([0, 0, 0, 0, 1, 0, 0]), array([0, 0, 0, 0, 1, 0, 0]), array([0, 0, 1, 0, 0, 0, 0]), array([0, 0, 1, 0, 0, 0, 0]), array([0, 1, 0, 0, 0, 0, 0]), array([0, 0, 0, 0, 1, 0, 0]), array([0, 0, 0, 0, 1, 0, 0]), array([0, 0, 0, 0, 1, 0, 0]), array([0, 0, 0, 0, 1, 0, 0]), array([0, 0, 0, 0, 1, 0, 0]), array([0, 0, 0, 0, 1, 0, 0]), array([0, 0, 0, 0, 1, 0, 0]), array([0, 0, 0, 0, 1, 0, 0]), array([0, 0, 0, 0, 1, 0, 0]), array([0, 0, 0, 0, 1, 0, 0]), array([0, 0, 1, 0, 0, 0, 0]), array([0, 0, 0, 0, 1, 0, 0]), array([0, 0, 1, 0, 0, 0, 0]), array([0, 0, 0, 0, 1, 0, 0]), array([0, 0, 0, 0, 1, 0, 0]), array([0, 0, 0, 0, 0, 0, 1]), array([0, 0, 0, 0, 1, 0, 0]), array([0, 0, 0, 0, 0, 0, 1]), array([0, 0, 0, 0, 0, 0, 1]), array([0, 0, 0, 0, 0, 0, 1]), array([0, 0, 0, 0, 1, 0, 0]), array([0, 0, 0, 0, 1, 0, 0]), array([0, 0, 1, 0, 0, 0, 0]), array([0, 1, 0, 0, 0, 0, 0]), array([0, 0, 0, 0, 1, 0, 0]), array([0, 0, 1, 0, 0, 0, 0]), array([0, 0, 1, 0, 0, 0, 0]), array([0, 0, 0, 0, 1, 0, 0]), array([0, 0, 0, 0, 1, 0, 0]), array([1, 0, 0, 0, 0, 0, 0]), array([0, 0, 0, 0, 1, 0, 0]), array([0, 0, 0, 0, 0, 0, 1]), array([0, 0, 1, 0, 0, 0, 0]), array([0, 0, 0, 0, 1, 0, 0]), array([0, 0, 0, 0, 1, 0, 0]), array([0, 0, 0, 0, 1, 0, 0]), array([0, 0, 0, 0, 1, 0, 0]), array([0, 0, 0, 0, 0, 0, 1]), array([0, 0, 0, 0, 0, 1, 0]), array([0, 0, 1, 0, 0, 0, 0]), array([0, 0, 0, 0, 1, 0, 0]), array([0, 0, 0, 0, 1, 0, 0]), array([0, 0, 0, 0, 1, 0, 0]), array([0, 0, 0, 0, 1, 0, 0]), array([0, 0, 0, 0, 1, 0, 0]), array([0, 0, 0, 0, 1, 0, 0]), array([0, 0, 0, 0, 1, 0, 0]), array([0, 0, 0, 0, 0, 0, 1]), array([0, 0, 0, 0, 0, 1, 0]), array([0, 0, 0, 0, 0, 0, 1]), array([0, 0, 0, 0, 1, 0, 0]), array([0, 0, 0, 0, 1, 0, 0]), array([0, 0, 0, 0, 1, 0, 0]), array([0, 0, 1, 0, 0, 0, 0]), array([0, 0, 0, 0, 1, 0, 0]), array([0, 1, 0, 0, 0, 0, 0]), array([0, 0, 0, 0, 1, 0, 0]), array([0, 0, 0, 0, 1, 0, 0]), array([0, 0, 0, 0, 1, 0, 0]), array([0, 0, 0, 0, 0, 0, 1]), array([0, 0, 0, 0, 1, 0, 0]), array([0, 0, 0, 0, 1, 0, 0]), array([0, 0, 0, 0, 1, 0, 0]), array([0, 0, 0, 0, 1, 0, 0]), array([0, 0, 0, 0, 1, 0, 0]), array([0, 0, 0, 0, 1, 0, 0]), array([0, 0, 0, 0, 1, 0, 0]), array([0, 0, 0, 0, 0, 0, 1]), array([0, 0, 1, 0, 0, 0, 0]), array([0, 0, 1, 0, 0, 0, 0]), array([0, 0, 0, 0, 1, 0, 0]), array([0, 0, 0, 0, 1, 0, 0]), array([0, 0, 0, 0, 1, 0, 0]), array([0, 0, 0, 0, 1, 0, 0]), array([0, 0, 0, 0, 1, 0, 0]), array([0, 0, 0, 0, 1, 0, 0]), array([0, 0, 0, 0, 1, 0, 0]), array([0, 0, 0, 0, 1, 0, 0]), array([0, 0, 1, 0, 0, 0, 0]), array([0, 0, 0, 0, 0, 0, 1]), array([0, 0, 0, 0, 1, 0, 0]), array([0, 1, 0, 0, 0, 0, 0]), array([0, 0, 0, 0, 0, 0, 1]), array([0, 0, 0, 0, 1, 0, 0]), array([0, 0, 0, 0, 1, 0, 0]), array([0, 0, 0, 0, 1, 0, 0]), array([0, 0, 0, 0, 1, 0, 0]), array([0, 0, 0, 0, 1, 0, 0]), array([1, 0, 0, 0, 0, 0, 0]), array([0, 0, 0, 0, 1, 0, 0]), array([0, 0, 0, 0, 1, 0, 0]), array([0, 0, 0, 0, 1, 0, 0]), array([0, 0, 0, 0, 1, 0, 0]), array([0, 0, 0, 0, 1, 0, 0]), array([0, 0, 0, 0, 1, 0, 0]), array([0, 0, 0, 0, 0, 0, 1]), array([0, 0, 0, 0, 1, 0, 0]), array([0, 0, 0, 1, 0, 0, 0]), array([0, 0, 0, 0, 1, 0, 0]), array([0, 0, 0, 0, 1, 0, 0]), array([0, 0, 0, 0, 1, 0, 0]), array([0, 0, 0, 0, 1, 0, 0]), array([0, 0, 1, 0, 0, 0, 0]), array([0, 0, 0, 0, 1, 0, 0]), array([0, 0, 0, 0, 1, 0, 0]), array([0, 0, 0, 0, 1, 0, 0]), array([0, 0, 0, 0, 1, 0, 0]), array([0, 0, 0, 0, 1, 0, 0]), array([0, 0, 0, 0, 1, 0, 0]), array([0, 0, 0, 0, 0, 0, 1]), array([0, 0, 1, 0, 0, 0, 0]), array([0, 0, 0, 0, 0, 0, 1]), array([0, 0, 0, 0, 1, 0, 0]), array([1, 0, 0, 0, 0, 0, 0]), array([0, 0, 0, 1, 0, 0, 0]), array([0, 0, 0, 0, 1, 0, 0]), array([0, 0, 0, 0, 1, 0, 0]), array([0, 0, 0, 0, 1, 0, 0]), array([0, 0, 0, 0, 1, 0, 0]), array([0, 0, 0, 0, 1, 0, 0]), array([0, 0, 0, 0, 1, 0, 0]), array([0, 0, 0, 0, 1, 0, 0]), array([0, 0, 0, 0, 1, 0, 0]), array([0, 0, 0, 0, 1, 0, 0]), array([0, 0, 0, 0, 1, 0, 0]), array([0, 0, 0, 0, 1, 0, 0]), array([0, 0, 0, 0, 1, 0, 0]), array([0, 0, 0, 0, 1, 0, 0]), array([0, 0, 0, 0, 0, 0, 1]), array([0, 0, 1, 0, 0, 0, 0]), array([0, 0, 0, 0, 1, 0, 0]), array([0, 0, 0, 0, 1, 0, 0]), array([0, 0, 0, 0, 0, 1, 0]), array([0, 0, 0, 0, 1, 0, 0]), array([0, 0, 0, 0, 1, 0, 0]), array([0, 0, 0, 0, 1, 0, 0]), array([0, 1, 0, 0, 0, 0, 0]), array([0, 0, 0, 0, 1, 0, 0]), array([1, 0, 0, 0, 0, 0, 0]), array([0, 0, 0, 0, 1, 0, 0]), array([0, 0, 0, 0, 1, 0, 0]), array([0, 0, 0, 0, 0, 0, 1]), array([0, 0, 0, 0, 1, 0, 0]), array([0, 0, 0, 0, 1, 0, 0]), array([0, 0, 0, 0, 1, 0, 0]), array([0, 0, 0, 0, 1, 0, 0]), array([0, 0, 0, 0, 1, 0, 0]), array([0, 0, 0, 0, 1, 0, 0]), array([0, 0, 0, 0, 1, 0, 0]), array([0, 0, 0, 0, 1, 0, 0]), array([0, 0, 0, 1, 0, 0, 0]), array([0, 0, 1, 0, 0, 0, 0]), array([0, 1, 0, 0, 0, 0, 0]), array([0, 0, 0, 0, 1, 0, 0]), array([0, 0, 0, 0, 1, 0, 0]), array([0, 0, 0, 0, 1, 0, 0]), array([1, 0, 0, 0, 0, 0, 0]), array([0, 0, 0, 0, 0, 0, 1]), array([0, 0, 0, 0, 1, 0, 0]), array([0, 0, 0, 0, 1, 0, 0]), array([0, 1, 0, 0, 0, 0, 0]), array([0, 0, 0, 0, 1, 0, 0]), array([0, 0, 0, 0, 1, 0, 0]), array([0, 0, 0, 0, 1, 0, 0]), array([0, 0, 0, 0, 1, 0, 0]), array([0, 0, 0, 0, 1, 0, 0]), array([0, 0, 0, 0, 1, 0, 0]), array([0, 0, 1, 0, 0, 0, 0]), array([1, 0, 0, 0, 0, 0, 0]), array([0, 0, 0, 0, 1, 0, 0]), array([0, 0, 0, 0, 1, 0, 0]), array([0, 0, 0, 0, 1, 0, 0]), array([0, 0, 0, 0, 1, 0, 0]), array([0, 0, 0, 0, 1, 0, 0]), array([0, 0, 0, 0, 1, 0, 0]), array([0, 0, 0, 0, 0, 0, 1]), array([0, 0, 0, 0, 1, 0, 0]), array([0, 0, 0, 0, 1, 0, 0]), array([0, 0, 1, 0, 0, 0, 0]), array([0, 0, 0, 0, 1, 0, 0]), array([0, 0, 0, 0, 1, 0, 0]), array([0, 0, 0, 0, 1, 0, 0]), array([0, 0, 0, 0, 1, 0, 0]), array([0, 0, 0, 0, 1, 0, 0]), array([0, 0, 0, 0, 0, 0, 1]), array([0, 0, 1, 0, 0, 0, 0]), array([0, 0, 1, 0, 0, 0, 0]), array([0, 1, 0, 0, 0, 0, 0]), array([0, 0, 0, 0, 1, 0, 0]), array([0, 0, 0, 0, 1, 0, 0]), array([0, 0, 0, 1, 0, 0, 0]), array([0, 0, 0, 0, 0, 1, 0]), array([0, 0, 0, 0, 1, 0, 0]), array([0, 0, 0, 0, 1, 0, 0]), array([0, 0, 0, 0, 1, 0, 0]), array([0, 0, 0, 0, 1, 0, 0]), array([0, 0, 0, 0, 1, 0, 0]), array([0, 1, 0, 0, 0, 0, 0]), array([0, 0, 0, 0, 1, 0, 0]), array([0, 0, 0, 0, 1, 0, 0]), array([0, 0, 0, 0, 1, 0, 0]), array([0, 0, 0, 0, 1, 0, 0]), array([0, 0, 0, 0, 0, 0, 1]), array([0, 0, 0, 0, 1, 0, 0]), array([0, 0, 1, 0, 0, 0, 0]), array([0, 0, 0, 0, 0, 0, 1]), array([0, 0, 0, 0, 1, 0, 0]), array([0, 0, 1, 0, 0, 0, 0]), array([0, 0, 1, 0, 0, 0, 0]), array([0, 0, 1, 0, 0, 0, 0]), array([0, 0, 0, 0, 1, 0, 0]), array([0, 0, 0, 0, 0, 0, 1]), array([0, 0, 1, 0, 0, 0, 0]), array([0, 0, 0, 0, 0, 0, 1]), array([0, 0, 0, 0, 1, 0, 0]), array([0, 0, 1, 0, 0, 0, 0]), array([0, 0, 0, 0, 0, 1, 0]), array([0, 0, 0, 0, 0, 0, 1]), array([0, 0, 0, 0, 1, 0, 0]), array([0, 0, 0, 0, 0, 0, 1]), array([0, 0, 0, 0, 1, 0, 0]), array([0, 0, 0, 0, 1, 0, 0]), array([0, 0, 0, 0, 1, 0, 0]), array([0, 0, 0, 0, 0, 0, 1]), array([0, 1, 0, 0, 0, 0, 0]), array([1, 0, 0, 0, 0, 0, 0]), array([0, 0, 0, 0, 1, 0, 0]), array([0, 0, 0, 0, 1, 0, 0]), array([0, 0, 0, 0, 1, 0, 0]), array([0, 0, 0, 0, 1, 0, 0]), array([0, 0, 0, 0, 1, 0, 0]), array([0, 0, 0, 0, 1, 0, 0]), array([0, 0, 0, 0, 1, 0, 0]), array([0, 0, 1, 0, 0, 0, 0]), array([0, 0, 0, 0, 1, 0, 0]), array([0, 0, 1, 0, 0, 0, 0]), array([0, 0, 1, 0, 0, 0, 0]), array([0, 0, 0, 0, 1, 0, 0]), array([0, 0, 0, 0, 1, 0, 0]), array([0, 0, 0, 0, 1, 0, 0]), array([0, 0, 0, 0, 1, 0, 0]), array([0, 0, 1, 0, 0, 0, 0]), array([0, 0, 0, 0, 1, 0, 0]), array([0, 0, 0, 0, 1, 0, 0]), array([0, 0, 0, 0, 1, 0, 0]), array([0, 0, 0, 0, 1, 0, 0]), array([0, 0, 0, 0, 1, 0, 0]), array([0, 0, 0, 0, 1, 0, 0]), array([0, 0, 0, 0, 1, 0, 0]), array([0, 0, 0, 0, 0, 0, 1]), array([0, 0, 0, 0, 1, 0, 0]), array([0, 0, 0, 0, 1, 0, 0]), array([0, 0, 0, 0, 1, 0, 0]), array([0, 0, 0, 0, 1, 0, 0]), array([0, 0, 0, 0, 1, 0, 0]), array([0, 0, 0, 0, 1, 0, 0]), array([0, 0, 0, 0, 1, 0, 0]), array([0, 0, 0, 0, 1, 0, 0]), array([1, 0, 0, 0, 0, 0, 0]), array([0, 0, 0, 0, 1, 0, 0]), array([0, 0, 0, 0, 0, 0, 1]), array([0, 0, 0, 0, 1, 0, 0]), array([0, 0, 0, 0, 1, 0, 0]), array([0, 0, 0, 0, 1, 0, 0]), array([0, 0, 0, 0, 1, 0, 0]), array([0, 0, 0, 0, 1, 0, 0]), array([0, 0, 0, 0, 1, 0, 0]), array([0, 0, 0, 0, 1, 0, 0]), array([0, 0, 0, 0, 1, 0, 0]), array([0, 0, 0, 0, 1, 0, 0]), array([0, 0, 0, 0, 1, 0, 0]), array([0, 0, 0, 0, 1, 0, 0]), array([0, 0, 0, 0, 1, 0, 0]), array([0, 0, 0, 0, 0, 0, 1]), array([1, 0, 0, 0, 0, 0, 0]), array([0, 0, 0, 0, 1, 0, 0]), array([0, 0, 0, 0, 1, 0, 0]), array([0, 0, 1, 0, 0, 0, 0]), array([0, 0, 1, 0, 0, 0, 0]), array([0, 1, 0, 0, 0, 0, 0]), array([0, 0, 0, 0, 1, 0, 0]), array([0, 0, 0, 0, 0, 1, 0]), array([0, 0, 1, 0, 0, 0, 0]), array([0, 0, 0, 0, 0, 0, 1]), array([0, 0, 0, 0, 1, 0, 0]), array([0, 0, 0, 0, 1, 0, 0]), array([0, 0, 0, 0, 0, 1, 0]), array([0, 0, 0, 0, 0, 0, 1]), array([0, 0, 0, 0, 1, 0, 0]), array([0, 0, 0, 0, 1, 0, 0]), array([0, 0, 0, 0, 1, 0, 0]), array([0, 0, 0, 0, 1, 0, 0]), array([0, 0, 0, 0, 1, 0, 0]), array([0, 0, 1, 0, 0, 0, 0]), array([0, 0, 0, 0, 1, 0, 0]), array([0, 0, 0, 0, 1, 0, 0]), array([0, 0, 0, 0, 1, 0, 0]), array([0, 0, 1, 0, 0, 0, 0]), array([0, 0, 0, 0, 1, 0, 0]), array([0, 0, 0, 0, 1, 0, 0]), array([0, 0, 0, 1, 0, 0, 0]), array([0, 0, 0, 0, 1, 0, 0]), array([0, 0, 0, 0, 1, 0, 0]), array([0, 0, 0, 0, 1, 0, 0]), array([0, 0, 0, 0, 1, 0, 0]), array([0, 0, 0, 0, 1, 0, 0]), array([0, 0, 1, 0, 0, 0, 0]), array([0, 0, 0, 0, 1, 0, 0]), array([0, 0, 0, 0, 1, 0, 0]), array([0, 0, 0, 0, 1, 0, 0]), array([0, 0, 1, 0, 0, 0, 0]), array([0, 0, 0, 0, 1, 0, 0]), array([0, 0, 0, 0, 1, 0, 0]), array([0, 0, 0, 0, 1, 0, 0]), array([0, 0, 0, 0, 1, 0, 0]), array([1, 0, 0, 0, 0, 0, 0]), array([0, 0, 0, 0, 1, 0, 0]), array([0, 0, 0, 0, 1, 0, 0]), array([0, 1, 0, 0, 0, 0, 0]), array([0, 0, 0, 0, 1, 0, 0]), array([0, 0, 0, 0, 1, 0, 0]), array([1, 0, 0, 0, 0, 0, 0]), array([0, 0, 0, 0, 1, 0, 0]), array([0, 0, 0, 0, 1, 0, 0]), array([0, 0, 1, 0, 0, 0, 0]), array([0, 0, 0, 0, 1, 0, 0]), array([0, 0, 0, 0, 1, 0, 0]), array([0, 0, 0, 0, 1, 0, 0]), array([0, 0, 0, 0, 1, 0, 0]), array([0, 0, 0, 0, 1, 0, 0]), array([0, 0, 1, 0, 0, 0, 0]), array([0, 0, 0, 0, 1, 0, 0]), array([0, 0, 0, 0, 1, 0, 0]), array([0, 0, 0, 0, 1, 0, 0]), array([0, 0, 0, 0, 1, 0, 0]), array([0, 0, 1, 0, 0, 0, 0]), array([0, 0, 0, 0, 1, 0, 0]), array([0, 0, 0, 0, 1, 0, 0]), array([0, 0, 1, 0, 0, 0, 0]), array([0, 0, 0, 0, 1, 0, 0]), array([0, 0, 0, 0, 1, 0, 0]), array([0, 0, 0, 0, 0, 0, 1]), array([0, 0, 0, 0, 0, 0, 1]), array([0, 1, 0, 0, 0, 0, 0]), array([0, 0, 0, 0, 1, 0, 0]), array([0, 0, 0, 1, 0, 0, 0]), array([1, 0, 0, 0, 0, 0, 0]), array([0, 0, 0, 0, 1, 0, 0]), array([1, 0, 0, 0, 0, 0, 0]), array([0, 0, 0, 0, 1, 0, 0]), array([0, 0, 0, 0, 1, 0, 0]), array([0, 0, 0, 0, 1, 0, 0]), array([0, 0, 0, 0, 1, 0, 0]), array([0, 0, 0, 0, 1, 0, 0]), array([0, 0, 0, 0, 1, 0, 0]), array([0, 0, 0, 0, 1, 0, 0]), array([0, 0, 0, 0, 1, 0, 0]), array([1, 0, 0, 0, 0, 0, 0]), array([0, 0, 0, 0, 1, 0, 0]), array([0, 0, 0, 0, 0, 0, 1]), array([0, 0, 0, 0, 1, 0, 0]), array([0, 0, 0, 0, 1, 0, 0]), array([0, 0, 0, 0, 1, 0, 0]), array([0, 0, 0, 0, 0, 0, 1]), array([0, 0, 0, 0, 1, 0, 0]), array([0, 0, 0, 0, 1, 0, 0]), array([0, 0, 0, 0, 1, 0, 0]), array([1, 0, 0, 0, 0, 0, 0]), array([0, 0, 1, 0, 0, 0, 0]), array([0, 0, 0, 0, 1, 0, 0]), array([0, 0, 0, 0, 1, 0, 0]), array([0, 0, 0, 0, 1, 0, 0]), array([0, 0, 0, 0, 0, 0, 1]), array([0, 0, 0, 0, 1, 0, 0]), array([0, 0, 0, 0, 1, 0, 0]), array([1, 0, 0, 0, 0, 0, 0]), array([0, 0, 0, 0, 1, 0, 0]), array([1, 0, 0, 0, 0, 0, 0]), array([0, 0, 0, 0, 1, 0, 0]), array([0, 0, 0, 0, 1, 0, 0]), array([0, 0, 1, 0, 0, 0, 0]), array([0, 0, 0, 0, 1, 0, 0]), array([0, 0, 0, 0, 1, 0, 0]), array([0, 0, 0, 0, 1, 0, 0]), array([0, 0, 0, 0, 1, 0, 0]), array([0, 0, 1, 0, 0, 0, 0]), array([0, 0, 0, 0, 1, 0, 0]), array([0, 0, 0, 0, 1, 0, 0]), array([0, 0, 0, 0, 0, 0, 1]), array([0, 0, 0, 0, 1, 0, 0]), array([0, 0, 0, 0, 0, 0, 1]), array([0, 0, 0, 0, 1, 0, 0]), array([0, 0, 1, 0, 0, 0, 0]), array([0, 0, 0, 1, 0, 0, 0]), array([0, 0, 1, 0, 0, 0, 0]), array([0, 1, 0, 0, 0, 0, 0]), array([0, 0, 0, 0, 1, 0, 0]), array([0, 0, 0, 0, 0, 0, 1]), array([0, 0, 0, 0, 1, 0, 0]), array([0, 0, 0, 0, 0, 0, 1]), array([0, 0, 0, 0, 1, 0, 0]), array([0, 0, 0, 0, 1, 0, 0]), array([0, 0, 0, 0, 1, 0, 0]), array([0, 0, 0, 0, 1, 0, 0]), array([0, 0, 0, 0, 1, 0, 0]), array([0, 0, 0, 0, 1, 0, 0]), array([0, 0, 0, 0, 0, 0, 1]), array([0, 0, 0, 0, 1, 0, 0]), array([0, 0, 0, 0, 1, 0, 0]), array([0, 0, 0, 0, 1, 0, 0]), array([0, 0, 0, 0, 1, 0, 0]), array([0, 0, 0, 0, 1, 0, 0]), array([0, 0, 0, 0, 1, 0, 0]), array([0, 0, 0, 0, 1, 0, 0]), array([0, 0, 0, 0, 1, 0, 0]), array([0, 0, 0, 1, 0, 0, 0]), array([0, 0, 0, 0, 1, 0, 0]), array([0, 0, 0, 0, 1, 0, 0]), array([0, 0, 0, 0, 1, 0, 0]), array([0, 0, 0, 0, 0, 0, 1]), array([0, 0, 1, 0, 0, 0, 0]), array([0, 0, 0, 0, 1, 0, 0]), array([0, 0, 0, 0, 1, 0, 0]), array([0, 0, 0, 0, 1, 0, 0]), array([0, 0, 0, 0, 1, 0, 0]), array([0, 0, 1, 0, 0, 0, 0]), array([0, 0, 0, 0, 1, 0, 0]), array([0, 0, 0, 0, 0, 0, 1]), array([0, 0, 0, 0, 0, 0, 1]), array([0, 1, 0, 0, 0, 0, 0]), array([0, 0, 0, 0, 1, 0, 0]), array([1, 0, 0, 0, 0, 0, 0]), array([0, 0, 0, 0, 1, 0, 0]), array([0, 0, 0, 0, 0, 0, 1]), array([0, 0, 0, 0, 0, 1, 0]), array([0, 0, 0, 0, 1, 0, 0]), array([0, 0, 0, 0, 1, 0, 0]), array([0, 0, 0, 0, 1, 0, 0]), array([0, 0, 0, 0, 1, 0, 0]), array([0, 0, 0, 0, 1, 0, 0]), array([0, 0, 0, 0, 0, 0, 1]), array([0, 0, 0, 0, 1, 0, 0]), array([0, 0, 0, 0, 1, 0, 0]), array([0, 0, 0, 0, 1, 0, 0]), array([0, 0, 0, 0, 0, 0, 1]), array([0, 0, 0, 0, 1, 0, 0]), array([0, 0, 0, 0, 1, 0, 0]), array([0, 1, 0, 0, 0, 0, 0]), array([0, 1, 0, 0, 0, 0, 0]), array([0, 0, 0, 0, 1, 0, 0]), array([0, 0, 0, 0, 0, 0, 1]), array([0, 0, 0, 0, 1, 0, 0]), array([0, 0, 0, 0, 0, 0, 1]), array([0, 0, 0, 0, 1, 0, 0]), array([0, 0, 0, 0, 1, 0, 0]), array([1, 0, 0, 0, 0, 0, 0]), array([0, 0, 0, 0, 1, 0, 0]), array([0, 1, 0, 0, 0, 0, 0]), array([0, 0, 0, 0, 1, 0, 0]), array([0, 0, 0, 0, 1, 0, 0]), array([0, 0, 1, 0, 0, 0, 0]), array([0, 0, 0, 0, 1, 0, 0]), array([0, 0, 0, 0, 1, 0, 0]), array([0, 0, 0, 0, 1, 0, 0]), array([0, 0, 0, 0, 1, 0, 0]), array([0, 0, 1, 0, 0, 0, 0]), array([0, 0, 0, 0, 1, 0, 0]), array([0, 0, 0, 0, 0, 0, 1]), array([0, 0, 0, 0, 1, 0, 0]), array([0, 0, 0, 0, 1, 0, 0]), array([0, 0, 0, 0, 1, 0, 0]), array([0, 0, 0, 0, 1, 0, 0]), array([0, 0, 0, 0, 1, 0, 0]), array([0, 0, 0, 0, 1, 0, 0]), array([0, 0, 0, 0, 1, 0, 0]), array([0, 0, 0, 0, 1, 0, 0]), array([0, 0, 0, 0, 1, 0, 0]), array([0, 0, 0, 0, 0, 0, 1]), array([0, 0, 0, 0, 1, 0, 0]), array([0, 0, 0, 0, 1, 0, 0]), array([0, 0, 0, 0, 1, 0, 0]), array([0, 0, 1, 0, 0, 0, 0]), array([0, 0, 1, 0, 0, 0, 0]), array([0, 0, 0, 0, 0, 0, 1]), array([0, 0, 0, 0, 0, 0, 1]), array([1, 0, 0, 0, 0, 0, 0]), array([0, 0, 0, 0, 1, 0, 0]), array([0, 0, 0, 0, 1, 0, 0]), array([0, 0, 0, 0, 1, 0, 0]), array([0, 0, 0, 0, 0, 0, 1]), array([0, 0, 0, 0, 1, 0, 0]), array([0, 0, 0, 0, 1, 0, 0]), array([0, 0, 0, 1, 0, 0, 0]), array([0, 0, 0, 0, 0, 0, 1]), array([0, 0, 0, 0, 1, 0, 0]), array([0, 1, 0, 0, 0, 0, 0]), array([0, 0, 0, 0, 1, 0, 0]), array([0, 0, 1, 0, 0, 0, 0]), array([0, 0, 0, 0, 1, 0, 0]), array([0, 0, 1, 0, 0, 0, 0]), array([0, 0, 0, 0, 1, 0, 0]), array([0, 0, 0, 0, 1, 0, 0]), array([0, 0, 0, 0, 1, 0, 0]), array([0, 0, 0, 0, 1, 0, 0]), array([0, 0, 1, 0, 0, 0, 0]), array([0, 0, 1, 0, 0, 0, 0]), array([0, 0, 0, 0, 1, 0, 0]), array([0, 0, 0, 0, 1, 0, 0]), array([0, 0, 0, 0, 1, 0, 0]), array([0, 0, 0, 0, 1, 0, 0]), array([0, 0, 0, 0, 1, 0, 0]), array([0, 0, 0, 0, 1, 0, 0]), array([0, 0, 0, 0, 1, 0, 0]), array([0, 0, 0, 0, 1, 0, 0]), array([0, 0, 0, 0, 1, 0, 0]), array([0, 0, 0, 0, 0, 0, 1]), array([0, 0, 0, 0, 1, 0, 0]), array([0, 0, 0, 0, 1, 0, 0]), array([1, 0, 0, 0, 0, 0, 0]), array([0, 0, 0, 0, 1, 0, 0]), array([0, 0, 0, 0, 1, 0, 0]), array([0, 0, 0, 0, 1, 0, 0]), array([0, 0, 0, 0, 1, 0, 0]), array([1, 0, 0, 0, 0, 0, 0]), array([0, 0, 0, 0, 0, 0, 1]), array([0, 0, 0, 0, 0, 0, 1]), array([0, 0, 0, 0, 1, 0, 0]), array([0, 0, 1, 0, 0, 0, 0]), array([0, 0, 0, 0, 1, 0, 0]), array([0, 0, 0, 0, 1, 0, 0]), array([0, 1, 0, 0, 0, 0, 0]), array([0, 0, 0, 0, 1, 0, 0]), array([0, 0, 0, 0, 1, 0, 0]), array([0, 0, 0, 0, 1, 0, 0]), array([0, 0, 0, 0, 1, 0, 0]), array([0, 0, 0, 0, 1, 0, 0]), array([0, 0, 0, 0, 1, 0, 0]), array([0, 0, 1, 0, 0, 0, 0]), array([0, 0, 0, 0, 1, 0, 0]), array([0, 0, 0, 0, 0, 0, 1]), array([0, 0, 0, 0, 1, 0, 0]), array([0, 1, 0, 0, 0, 0, 0]), array([0, 0, 0, 0, 1, 0, 0]), array([0, 1, 0, 0, 0, 0, 0]), array([0, 0, 0, 0, 1, 0, 0]), array([0, 0, 0, 0, 1, 0, 0]), array([0, 0, 0, 0, 1, 0, 0]), array([0, 0, 0, 0, 1, 0, 0]), array([0, 0, 0, 0, 1, 0, 0]), array([0, 0, 0, 0, 1, 0, 0]), array([0, 0, 0, 0, 1, 0, 0]), array([0, 0, 0, 0, 0, 0, 1]), array([0, 1, 0, 0, 0, 0, 0]), array([0, 0, 0, 0, 1, 0, 0]), array([0, 0, 0, 0, 0, 0, 1]), array([0, 0, 0, 0, 1, 0, 0]), array([0, 0, 0, 0, 1, 0, 0]), array([0, 0, 0, 0, 1, 0, 0]), array([1, 0, 0, 0, 0, 0, 0]), array([0, 0, 0, 0, 1, 0, 0]), array([0, 0, 1, 0, 0, 0, 0]), array([0, 0, 1, 0, 0, 0, 0]), array([0, 0, 0, 0, 0, 0, 1]), array([0, 0, 1, 0, 0, 0, 0]), array([0, 0, 0, 0, 1, 0, 0]), array([0, 0, 0, 0, 1, 0, 0]), array([0, 0, 1, 0, 0, 0, 0]), array([0, 0, 0, 0, 1, 0, 0]), array([0, 0, 0, 0, 1, 0, 0]), array([0, 0, 0, 0, 1, 0, 0]), array([0, 0, 0, 0, 0, 0, 1]), array([0, 0, 1, 0, 0, 0, 0]), array([0, 0, 0, 0, 1, 0, 0]), array([0, 0, 0, 0, 1, 0, 0]), array([0, 0, 0, 0, 1, 0, 0]), array([0, 0, 0, 0, 0, 0, 1]), array([0, 0, 0, 0, 1, 0, 0]), array([0, 0, 0, 0, 0, 0, 1]), array([0, 0, 0, 0, 1, 0, 0]), array([0, 0, 1, 0, 0, 0, 0]), array([0, 0, 0, 0, 1, 0, 0]), array([0, 0, 0, 0, 1, 0, 0]), array([0, 0, 1, 0, 0, 0, 0]), array([0, 0, 0, 0, 0, 0, 1]), array([0, 0, 0, 0, 1, 0, 0]), array([0, 0, 0, 0, 1, 0, 0]), array([0, 0, 0, 0, 1, 0, 0]), array([0, 0, 0, 0, 0, 0, 1]), array([0, 0, 0, 0, 1, 0, 0]), array([0, 0, 0, 0, 1, 0, 0]), array([1, 0, 0, 0, 0, 0, 0]), array([0, 0, 0, 0, 1, 0, 0]), array([0, 0, 0, 0, 1, 0, 0]), array([0, 0, 0, 0, 1, 0, 0]), array([0, 0, 0, 0, 1, 0, 0]), array([0, 0, 0, 0, 1, 0, 0]), array([0, 0, 0, 0, 1, 0, 0]), array([0, 0, 0, 0, 0, 0, 1]), array([0, 0, 0, 0, 1, 0, 0]), array([0, 1, 0, 0, 0, 0, 0]), array([0, 0, 0, 0, 1, 0, 0]), array([0, 0, 0, 0, 1, 0, 0]), array([0, 0, 0, 0, 1, 0, 0]), array([0, 0, 0, 0, 1, 0, 0]), array([0, 0, 0, 0, 1, 0, 0]), array([0, 0, 0, 0, 1, 0, 0]), array([0, 0, 0, 0, 1, 0, 0]), array([0, 0, 0, 0, 1, 0, 0]), array([0, 0, 1, 0, 0, 0, 0]), array([0, 0, 0, 0, 1, 0, 0]), array([0, 0, 0, 0, 0, 0, 1]), array([0, 0, 0, 0, 1, 0, 0]), array([0, 0, 0, 0, 0, 0, 1]), array([0, 0, 0, 0, 1, 0, 0]), array([0, 0, 0, 0, 1, 0, 0]), array([0, 0, 0, 0, 1, 0, 0]), array([0, 0, 0, 0, 1, 0, 0]), array([0, 0, 0, 0, 1, 0, 0]), array([0, 0, 0, 0, 1, 0, 0]), array([0, 0, 0, 0, 1, 0, 0]), array([0, 0, 0, 0, 1, 0, 0]), array([0, 0, 0, 0, 1, 0, 0]), array([0, 0, 0, 0, 1, 0, 0]), array([0, 0, 0, 0, 1, 0, 0]), array([0, 0, 0, 0, 0, 0, 1]), array([0, 0, 0, 0, 1, 0, 0]), array([0, 1, 0, 0, 0, 0, 0]), array([0, 0, 0, 0, 1, 0, 0]), array([0, 0, 0, 0, 1, 0, 0]), array([0, 0, 0, 0, 1, 0, 0]), array([0, 0, 0, 0, 1, 0, 0]), array([0, 0, 0, 0, 1, 0, 0]), array([0, 0, 0, 0, 1, 0, 0]), array([0, 0, 0, 0, 0, 0, 1]), array([0, 0, 0, 0, 1, 0, 0]), array([0, 0, 0, 0, 0, 0, 1]), array([0, 0, 0, 0, 1, 0, 0]), array([0, 0, 0, 0, 1, 0, 0]), array([0, 0, 0, 0, 1, 0, 0]), array([0, 0, 0, 0, 1, 0, 0]), array([0, 0, 0, 0, 1, 0, 0]), array([0, 0, 1, 0, 0, 0, 0]), array([0, 1, 0, 0, 0, 0, 0]), array([0, 0, 1, 0, 0, 0, 0]), array([0, 0, 0, 0, 1, 0, 0]), array([0, 0, 0, 0, 1, 0, 0]), array([0, 0, 0, 0, 1, 0, 0]), array([0, 0, 0, 0, 1, 0, 0]), array([0, 0, 1, 0, 0, 0, 0]), array([0, 0, 0, 0, 1, 0, 0]), array([0, 0, 0, 0, 1, 0, 0]), array([0, 0, 0, 0, 1, 0, 0]), array([0, 0, 0, 0, 1, 0, 0]), array([0, 0, 0, 0, 0, 0, 1]), array([0, 0, 0, 0, 1, 0, 0]), array([0, 0, 0, 0, 0, 0, 1]), array([0, 0, 0, 0, 1, 0, 0]), array([0, 0, 0, 0, 1, 0, 0]), array([0, 0, 1, 0, 0, 0, 0]), array([0, 0, 0, 0, 1, 0, 0]), array([0, 0, 0, 0, 1, 0, 0]), array([0, 0, 0, 0, 1, 0, 0]), array([0, 0, 0, 0, 1, 0, 0]), array([0, 0, 0, 0, 1, 0, 0]), array([0, 0, 0, 0, 1, 0, 0]), array([0, 0, 0, 0, 1, 0, 0]), array([0, 0, 0, 0, 1, 0, 0]), array([0, 0, 0, 0, 0, 1, 0]), array([0, 0, 0, 0, 1, 0, 0]), array([0, 0, 0, 0, 0, 0, 1]), array([0, 1, 0, 0, 0, 0, 0]), array([0, 0, 0, 0, 1, 0, 0]), array([0, 0, 1, 0, 0, 0, 0]), array([0, 0, 0, 0, 1, 0, 0]), array([0, 0, 0, 0, 1, 0, 0]), array([0, 0, 0, 0, 1, 0, 0]), array([0, 1, 0, 0, 0, 0, 0]), array([0, 1, 0, 0, 0, 0, 0]), array([0, 0, 0, 0, 1, 0, 0]), array([0, 0, 0, 0, 1, 0, 0]), array([0, 0, 0, 0, 1, 0, 0]), array([0, 0, 0, 0, 0, 0, 1]), array([0, 0, 1, 0, 0, 0, 0]), array([0, 0, 1, 0, 0, 0, 0]), array([0, 0, 0, 0, 1, 0, 0]), array([0, 0, 0, 0, 1, 0, 0]), array([0, 0, 0, 0, 1, 0, 0]), array([0, 0, 0, 0, 1, 0, 0]), array([0, 0, 1, 0, 0, 0, 0]), array([0, 0, 0, 0, 1, 0, 0]), array([0, 0, 0, 0, 0, 1, 0]), array([0, 0, 0, 0, 1, 0, 0]), array([0, 0, 0, 0, 1, 0, 0]), array([0, 0, 0, 0, 1, 0, 0]), array([0, 0, 0, 0, 1, 0, 0]), array([0, 0, 0, 0, 0, 0, 1]), array([0, 0, 0, 0, 1, 0, 0]), array([0, 0, 0, 0, 1, 0, 0]), array([1, 0, 0, 0, 0, 0, 0]), array([0, 0, 0, 0, 1, 0, 0]), array([0, 0, 0, 0, 1, 0, 0]), array([0, 0, 0, 0, 1, 0, 0]), array([0, 0, 0, 0, 1, 0, 0]), array([0, 0, 0, 0, 0, 0, 1]), array([0, 0, 0, 0, 1, 0, 0]), array([0, 0, 0, 0, 1, 0, 0]), array([0, 0, 0, 0, 1, 0, 0]), array([0, 0, 0, 0, 1, 0, 0]), array([0, 0, 0, 0, 1, 0, 0]), array([0, 0, 0, 0, 1, 0, 0]), array([0, 0, 0, 1, 0, 0, 0]), array([0, 0, 0, 0, 1, 0, 0]), array([0, 0, 0, 0, 0, 0, 1]), array([0, 0, 0, 0, 0, 0, 1]), array([0, 0, 0, 0, 1, 0, 0]), array([0, 0, 1, 0, 0, 0, 0]), array([0, 0, 0, 0, 1, 0, 0]), array([0, 0, 0, 0, 1, 0, 0]), array([0, 0, 0, 0, 1, 0, 0]), array([0, 0, 0, 0, 1, 0, 0]), array([0, 0, 0, 0, 1, 0, 0]), array([0, 0, 0, 0, 1, 0, 0]), array([0, 0, 0, 0, 1, 0, 0]), array([0, 0, 0, 0, 1, 0, 0]), array([0, 0, 0, 1, 0, 0, 0]), array([0, 0, 0, 0, 1, 0, 0]), array([0, 0, 0, 0, 1, 0, 0]), array([0, 0, 0, 0, 1, 0, 0]), array([0, 0, 0, 0, 1, 0, 0]), array([0, 0, 1, 0, 0, 0, 0]), array([0, 0, 0, 0, 0, 0, 1]), array([0, 0, 0, 0, 1, 0, 0]), array([0, 0, 0, 0, 1, 0, 0]), array([0, 0, 0, 0, 1, 0, 0]), array([0, 0, 0, 0, 1, 0, 0]), array([0, 1, 0, 0, 0, 0, 0]), array([0, 0, 1, 0, 0, 0, 0]), array([0, 0, 1, 0, 0, 0, 0]), array([0, 0, 0, 0, 1, 0, 0]), array([0, 0, 0, 0, 0, 0, 1]), array([0, 0, 0, 0, 1, 0, 0]), array([0, 0, 0, 0, 1, 0, 0]), array([0, 0, 1, 0, 0, 0, 0]), array([0, 0, 0, 0, 1, 0, 0]), array([0, 0, 0, 0, 1, 0, 0]), array([0, 0, 0, 0, 1, 0, 0]), array([0, 0, 0, 0, 1, 0, 0]), array([0, 0, 0, 0, 1, 0, 0]), array([0, 0, 0, 0, 1, 0, 0]), array([0, 0, 0, 0, 1, 0, 0]), array([0, 0, 0, 0, 1, 0, 0]), array([0, 0, 0, 0, 1, 0, 0]), array([0, 0, 0, 0, 1, 0, 0]), array([0, 0, 0, 0, 1, 0, 0]), array([0, 0, 0, 0, 1, 0, 0]), array([0, 0, 0, 0, 1, 0, 0]), array([0, 0, 0, 0, 1, 0, 0]), array([0, 0, 0, 0, 1, 0, 0]), array([0, 0, 1, 0, 0, 0, 0]), array([0, 0, 0, 0, 1, 0, 0]), array([0, 0, 0, 0, 1, 0, 0]), array([0, 0, 1, 0, 0, 0, 0]), array([0, 0, 0, 0, 1, 0, 0]), array([0, 0, 1, 0, 0, 0, 0]), array([0, 0, 0, 0, 1, 0, 0]), array([0, 0, 1, 0, 0, 0, 0]), array([0, 0, 0, 0, 1, 0, 0]), array([0, 0, 0, 0, 1, 0, 0]), array([0, 0, 1, 0, 0, 0, 0]), array([0, 1, 0, 0, 0, 0, 0]), array([0, 0, 0, 0, 0, 0, 1]), array([0, 0, 0, 0, 1, 0, 0]), array([0, 1, 0, 0, 0, 0, 0]), array([0, 0, 0, 0, 1, 0, 0]), array([0, 0, 0, 0, 1, 0, 0]), array([0, 0, 0, 0, 1, 0, 0]), array([0, 0, 0, 0, 1, 0, 0]), array([0, 1, 0, 0, 0, 0, 0]), array([0, 0, 0, 0, 1, 0, 0]), array([0, 0, 0, 0, 1, 0, 0]), array([0, 0, 0, 0, 1, 0, 0]), array([0, 0, 0, 0, 1, 0, 0]), array([0, 0, 1, 0, 0, 0, 0]), array([0, 0, 1, 0, 0, 0, 0]), array([0, 0, 1, 0, 0, 0, 0]), array([0, 0, 1, 0, 0, 0, 0]), array([0, 0, 0, 0, 1, 0, 0]), array([0, 0, 0, 0, 1, 0, 0]), array([0, 0, 0, 0, 1, 0, 0]), array([0, 0, 0, 0, 1, 0, 0]), array([0, 0, 0, 0, 1, 0, 0]), array([0, 0, 0, 0, 1, 0, 0]), array([0, 0, 0, 0, 1, 0, 0]), array([0, 0, 0, 0, 1, 0, 0]), array([0, 0, 0, 0, 1, 0, 0]), array([0, 0, 0, 0, 1, 0, 0]), array([0, 0, 0, 0, 1, 0, 0]), array([0, 0, 1, 0, 0, 0, 0]), array([0, 0, 0, 0, 1, 0, 0]), array([0, 0, 0, 0, 1, 0, 0]), array([0, 0, 1, 0, 0, 0, 0]), array([0, 1, 0, 0, 0, 0, 0]), array([0, 0, 0, 0, 1, 0, 0]), array([0, 0, 0, 0, 1, 0, 0]), array([0, 0, 0, 0, 1, 0, 0]), array([0, 0, 0, 0, 1, 0, 0]), array([0, 0, 0, 0, 1, 0, 0]), array([0, 0, 0, 0, 1, 0, 0]), array([0, 0, 0, 0, 1, 0, 0]), array([0, 0, 0, 0, 1, 0, 0]), array([0, 0, 0, 0, 1, 0, 0]), array([0, 0, 0, 0, 1, 0, 0]), array([0, 0, 0, 0, 1, 0, 0]), array([0, 0, 0, 0, 1, 0, 0]), array([0, 0, 0, 0, 1, 0, 0]), array([0, 0, 0, 0, 1, 0, 0]), array([0, 0, 0, 0, 0, 0, 1]), array([0, 0, 0, 0, 1, 0, 0]), array([0, 0, 0, 0, 1, 0, 0]), array([0, 0, 0, 0, 1, 0, 0]), array([1, 0, 0, 0, 0, 0, 0]), array([0, 0, 0, 0, 1, 0, 0]), array([0, 0, 0, 0, 1, 0, 0]), array([0, 0, 0, 0, 1, 0, 0]), array([0, 1, 0, 0, 0, 0, 0]), array([0, 0, 0, 0, 1, 0, 0]), array([0, 0, 1, 0, 0, 0, 0]), array([0, 0, 0, 0, 1, 0, 0]), array([0, 0, 0, 0, 1, 0, 0]), array([0, 0, 0, 0, 1, 0, 0]), array([0, 0, 0, 0, 1, 0, 0]), array([0, 0, 0, 0, 1, 0, 0]), array([0, 0, 0, 0, 1, 0, 0]), array([0, 0, 1, 0, 0, 0, 0]), array([0, 1, 0, 0, 0, 0, 0]), array([0, 0, 1, 0, 0, 0, 0]), array([0, 0, 0, 0, 1, 0, 0]), array([0, 0, 0, 0, 1, 0, 0]), array([0, 0, 0, 0, 1, 0, 0]), array([0, 0, 0, 0, 1, 0, 0]), array([0, 0, 0, 0, 1, 0, 0]), array([0, 0, 0, 0, 1, 0, 0]), array([0, 0, 0, 0, 1, 0, 0]), array([0, 0, 0, 0, 1, 0, 0]), array([0, 0, 0, 0, 1, 0, 0]), array([0, 0, 0, 0, 1, 0, 0]), array([0, 0, 0, 0, 0, 0, 1]), array([0, 0, 0, 0, 1, 0, 0]), array([0, 0, 0, 0, 1, 0, 0]), array([0, 0, 0, 0, 1, 0, 0]), array([0, 0, 0, 0, 1, 0, 0]), array([0, 0, 0, 0, 1, 0, 0]), array([0, 0, 0, 0, 1, 0, 0]), array([0, 0, 1, 0, 0, 0, 0]), array([0, 1, 0, 0, 0, 0, 0]), array([0, 0, 0, 0, 1, 0, 0]), array([0, 0, 0, 0, 0, 0, 1]), array([0, 0, 0, 0, 1, 0, 0]), array([0, 0, 0, 0, 1, 0, 0]), array([0, 0, 0, 0, 1, 0, 0]), array([0, 0, 0, 0, 1, 0, 0]), array([0, 0, 0, 0, 1, 0, 0]), array([0, 0, 0, 0, 1, 0, 0]), array([0, 0, 1, 0, 0, 0, 0]), array([0, 0, 0, 0, 1, 0, 0]), array([0, 0, 0, 0, 1, 0, 0]), array([0, 1, 0, 0, 0, 0, 0]), array([0, 0, 0, 0, 1, 0, 0]), array([0, 0, 1, 0, 0, 0, 0]), array([0, 0, 0, 0, 0, 1, 0]), array([0, 0, 0, 0, 1, 0, 0]), array([0, 0, 0, 0, 1, 0, 0]), array([0, 0, 0, 0, 1, 0, 0]), array([0, 0, 0, 0, 1, 0, 0]), array([0, 1, 0, 0, 0, 0, 0]), array([0, 0, 0, 0, 0, 0, 1]), array([0, 0, 0, 0, 0, 0, 1]), array([0, 0, 0, 0, 1, 0, 0]), array([0, 0, 0, 0, 1, 0, 0]), array([0, 0, 1, 0, 0, 0, 0]), array([0, 0, 0, 0, 1, 0, 0]), array([0, 0, 0, 0, 1, 0, 0]), array([0, 0, 0, 0, 0, 0, 1]), array([0, 0, 0, 0, 0, 0, 1]), array([0, 0, 0, 0, 1, 0, 0]), array([0, 0, 0, 0, 0, 0, 1]), array([0, 0, 0, 0, 1, 0, 0]), array([0, 0, 0, 0, 1, 0, 0]), array([0, 0, 0, 0, 1, 0, 0]), array([0, 0, 0, 0, 0, 0, 1]), array([0, 0, 0, 0, 0, 1, 0]), array([0, 0, 0, 0, 0, 0, 1]), array([0, 0, 0, 0, 1, 0, 0]), array([0, 0, 0, 0, 1, 0, 0]), array([0, 0, 0, 0, 1, 0, 0]), array([0, 1, 0, 0, 0, 0, 0]), array([0, 0, 0, 0, 0, 0, 1]), array([0, 0, 0, 0, 1, 0, 0]), array([0, 0, 0, 0, 1, 0, 0]), array([0, 0, 0, 0, 1, 0, 0]), array([0, 0, 0, 0, 1, 0, 0]), array([0, 0, 0, 0, 0, 0, 1]), array([0, 0, 0, 0, 1, 0, 0]), array([0, 0, 0, 0, 1, 0, 0]), array([0, 0, 0, 0, 1, 0, 0]), array([0, 0, 0, 0, 0, 0, 1]), array([1, 0, 0, 0, 0, 0, 0]), array([0, 0, 0, 0, 1, 0, 0]), array([0, 0, 0, 0, 1, 0, 0]), array([0, 0, 0, 0, 0, 0, 1]), array([0, 0, 0, 0, 0, 0, 1]), array([0, 0, 0, 0, 1, 0, 0]), array([0, 0, 0, 0, 1, 0, 0]), array([0, 0, 1, 0, 0, 0, 0]), array([0, 0, 0, 0, 1, 0, 0]), array([0, 0, 0, 0, 1, 0, 0]), array([0, 0, 0, 0, 1, 0, 0]), array([0, 0, 0, 0, 0, 0, 1]), array([1, 0, 0, 0, 0, 0, 0]), array([0, 0, 0, 0, 1, 0, 0]), array([0, 0, 0, 0, 1, 0, 0]), array([0, 0, 0, 0, 1, 0, 0]), array([0, 0, 0, 0, 1, 0, 0]), array([0, 0, 0, 1, 0, 0, 0]), array([0, 0, 0, 0, 0, 1, 0]), array([0, 1, 0, 0, 0, 0, 0]), array([0, 0, 0, 0, 0, 0, 1]), array([0, 0, 0, 0, 1, 0, 0]), array([0, 0, 0, 0, 1, 0, 0]), array([0, 0, 0, 0, 0, 0, 1]), array([0, 0, 1, 0, 0, 0, 0]), array([0, 0, 0, 0, 1, 0, 0]), array([0, 0, 0, 0, 1, 0, 0]), array([0, 0, 0, 0, 1, 0, 0]), array([0, 1, 0, 0, 0, 0, 0]), array([0, 0, 1, 0, 0, 0, 0]), array([0, 0, 0, 0, 1, 0, 0]), array([0, 0, 0, 0, 1, 0, 0]), array([0, 0, 0, 0, 1, 0, 0]), array([0, 0, 0, 0, 1, 0, 0]), array([0, 0, 0, 0, 1, 0, 0]), array([0, 0, 0, 0, 1, 0, 0]), array([0, 0, 1, 0, 0, 0, 0]), array([0, 0, 0, 0, 1, 0, 0]), array([0, 0, 0, 0, 0, 0, 1]), array([0, 0, 0, 0, 0, 0, 1]), array([0, 0, 0, 1, 0, 0, 0]), array([0, 0, 0, 1, 0, 0, 0]), array([1, 0, 0, 0, 0, 0, 0]), array([0, 0, 0, 0, 1, 0, 0]), array([0, 0, 0, 0, 1, 0, 0]), array([0, 0, 0, 0, 1, 0, 0]), array([0, 0, 0, 0, 1, 0, 0]), array([0, 0, 0, 0, 1, 0, 0]), array([0, 0, 0, 0, 0, 1, 0]), array([0, 0, 0, 0, 1, 0, 0]), array([0, 0, 0, 0, 1, 0, 0]), array([0, 0, 1, 0, 0, 0, 0]), array([0, 0, 0, 0, 1, 0, 0]), array([0, 0, 0, 0, 1, 0, 0]), array([0, 0, 0, 0, 1, 0, 0]), array([0, 0, 0, 0, 1, 0, 0]), array([0, 0, 0, 0, 0, 0, 1]), array([0, 0, 0, 0, 0, 0, 1]), array([0, 0, 1, 0, 0, 0, 0]), array([0, 0, 0, 0, 1, 0, 0]), array([0, 0, 1, 0, 0, 0, 0]), array([0, 0, 0, 0, 0, 0, 1]), array([0, 0, 0, 0, 1, 0, 0]), array([0, 0, 0, 0, 1, 0, 0]), array([0, 0, 0, 0, 0, 0, 1]), array([0, 0, 0, 0, 1, 0, 0]), array([0, 0, 0, 0, 1, 0, 0]), array([0, 0, 0, 0, 1, 0, 0]), array([0, 0, 0, 0, 0, 0, 1]), array([0, 0, 0, 0, 1, 0, 0]), array([0, 0, 0, 0, 1, 0, 0]), array([0, 0, 0, 0, 1, 0, 0]), array([0, 0, 0, 0, 0, 0, 1]), array([0, 0, 0, 0, 1, 0, 0]), array([0, 0, 0, 0, 0, 1, 0]), array([1, 0, 0, 0, 0, 0, 0]), array([0, 0, 0, 0, 1, 0, 0]), array([0, 0, 0, 0, 1, 0, 0]), array([0, 0, 0, 0, 1, 0, 0]), array([0, 0, 0, 0, 1, 0, 0]), array([0, 0, 0, 0, 1, 0, 0]), array([0, 0, 0, 0, 1, 0, 0]), array([0, 1, 0, 0, 0, 0, 0]), array([0, 1, 0, 0, 0, 0, 0]), array([0, 0, 1, 0, 0, 0, 0]), array([0, 0, 0, 0, 1, 0, 0]), array([0, 0, 0, 0, 1, 0, 0]), array([0, 0, 0, 0, 0, 0, 1]), array([0, 0, 0, 0, 1, 0, 0]), array([0, 0, 0, 0, 0, 0, 1]), array([0, 0, 0, 0, 1, 0, 0]), array([0, 0, 0, 0, 1, 0, 0]), array([0, 0, 0, 0, 1, 0, 0]), array([0, 0, 0, 0, 1, 0, 0]), array([0, 0, 0, 0, 0, 0, 1]), array([1, 0, 0, 0, 0, 0, 0]), array([0, 0, 0, 0, 1, 0, 0]), array([0, 0, 0, 0, 0, 0, 1]), array([0, 0, 0, 0, 1, 0, 0]), array([0, 1, 0, 0, 0, 0, 0]), array([0, 0, 0, 0, 1, 0, 0]), array([0, 0, 0, 0, 1, 0, 0]), array([0, 1, 0, 0, 0, 0, 0]), array([0, 0, 0, 0, 1, 0, 0]), array([0, 0, 0, 0, 1, 0, 0]), array([0, 0, 0, 0, 1, 0, 0]), array([0, 0, 0, 0, 1, 0, 0]), array([0, 0, 0, 0, 0, 0, 1]), array([0, 0, 1, 0, 0, 0, 0]), array([0, 0, 0, 0, 1, 0, 0]), array([0, 0, 1, 0, 0, 0, 0]), array([0, 0, 1, 0, 0, 0, 0]), array([0, 0, 0, 0, 1, 0, 0]), array([1, 0, 0, 0, 0, 0, 0]), array([0, 1, 0, 0, 0, 0, 0]), array([0, 0, 0, 0, 1, 0, 0]), array([0, 0, 1, 0, 0, 0, 0]), array([0, 0, 0, 0, 1, 0, 0]), array([0, 0, 0, 0, 0, 0, 1]), array([0, 1, 0, 0, 0, 0, 0]), array([0, 0, 0, 0, 1, 0, 0]), array([0, 0, 1, 0, 0, 0, 0]), array([0, 1, 0, 0, 0, 0, 0]), array([0, 0, 1, 0, 0, 0, 0]), array([0, 0, 0, 0, 0, 0, 1]), array([0, 0, 0, 0, 0, 0, 1]), array([0, 0, 0, 0, 0, 0, 1]), array([1, 0, 0, 0, 0, 0, 0]), array([0, 0, 0, 0, 0, 1, 0]), array([0, 0, 0, 0, 1, 0, 0]), array([0, 0, 0, 0, 1, 0, 0]), array([0, 0, 0, 0, 1, 0, 0]), array([0, 0, 0, 0, 1, 0, 0]), array([1, 0, 0, 0, 0, 0, 0]), array([0, 0, 0, 0, 1, 0, 0]), array([0, 1, 0, 0, 0, 0, 0]), array([0, 0, 0, 0, 1, 0, 0]), array([0, 0, 0, 0, 1, 0, 0]), array([0, 0, 0, 0, 1, 0, 0]), array([1, 0, 0, 0, 0, 0, 0]), array([0, 1, 0, 0, 0, 0, 0]), array([0, 0, 0, 0, 1, 0, 0]), array([0, 0, 0, 0, 1, 0, 0]), array([0, 0, 0, 0, 1, 0, 0]), array([0, 0, 0, 0, 1, 0, 0]), array([0, 0, 1, 0, 0, 0, 0]), array([0, 0, 0, 0, 1, 0, 0]), array([0, 0, 1, 0, 0, 0, 0]), array([0, 0, 0, 0, 1, 0, 0]), array([0, 0, 1, 0, 0, 0, 0]), array([0, 0, 1, 0, 0, 0, 0]), array([0, 0, 0, 0, 1, 0, 0]), array([0, 0, 0, 0, 1, 0, 0]), array([0, 1, 0, 0, 0, 0, 0]), array([0, 0, 1, 0, 0, 0, 0]), array([0, 0, 0, 0, 1, 0, 0]), array([0, 0, 1, 0, 0, 0, 0]), array([0, 1, 0, 0, 0, 0, 0]), array([0, 0, 0, 0, 1, 0, 0]), array([0, 0, 0, 0, 1, 0, 0]), array([0, 0, 0, 0, 1, 0, 0]), array([0, 0, 0, 0, 1, 0, 0]), array([0, 0, 0, 0, 1, 0, 0]), array([0, 0, 0, 0, 1, 0, 0]), array([0, 0, 0, 0, 1, 0, 0]), array([0, 0, 0, 0, 1, 0, 0]), array([0, 0, 1, 0, 0, 0, 0]), array([0, 0, 1, 0, 0, 0, 0]), array([0, 0, 0, 0, 1, 0, 0]), array([0, 0, 0, 0, 1, 0, 0]), array([0, 0, 1, 0, 0, 0, 0]), array([0, 0, 0, 0, 1, 0, 0]), array([0, 0, 0, 0, 1, 0, 0]), array([0, 0, 0, 0, 1, 0, 0]), array([0, 0, 0, 1, 0, 0, 0]), array([0, 0, 0, 0, 0, 0, 1]), array([0, 0, 0, 0, 0, 0, 1]), array([0, 0, 0, 0, 0, 0, 1]), array([0, 0, 0, 0, 1, 0, 0]), array([0, 0, 0, 0, 1, 0, 0]), array([0, 1, 0, 0, 0, 0, 0]), array([0, 0, 1, 0, 0, 0, 0]), array([0, 0, 0, 0, 0, 0, 1]), array([0, 0, 0, 1, 0, 0, 0]), array([0, 0, 1, 0, 0, 0, 0]), array([0, 0, 0, 0, 0, 0, 1]), array([0, 0, 0, 0, 1, 0, 0]), array([0, 0, 0, 0, 1, 0, 0]), array([0, 0, 0, 0, 1, 0, 0]), array([0, 0, 0, 0, 1, 0, 0]), array([0, 0, 0, 0, 1, 0, 0]), array([0, 0, 0, 0, 1, 0, 0]), array([0, 0, 1, 0, 0, 0, 0]), array([0, 0, 0, 0, 1, 0, 0]), array([0, 0, 0, 0, 0, 0, 1]), array([0, 0, 0, 0, 1, 0, 0]), array([0, 0, 0, 0, 1, 0, 0]), array([0, 0, 0, 0, 1, 0, 0]), array([0, 0, 0, 0, 1, 0, 0]), array([0, 0, 0, 0, 0, 0, 1]), array([0, 0, 1, 0, 0, 0, 0]), array([0, 0, 0, 0, 1, 0, 0]), array([0, 0, 0, 0, 1, 0, 0]), array([0, 0, 0, 0, 1, 0, 0]), array([0, 0, 0, 0, 1, 0, 0]), array([0, 1, 0, 0, 0, 0, 0]), array([0, 0, 0, 0, 1, 0, 0]), array([0, 0, 0, 0, 1, 0, 0]), array([0, 0, 0, 0, 1, 0, 0]), array([0, 0, 0, 0, 0, 0, 1]), array([0, 0, 0, 0, 1, 0, 0]), array([0, 0, 1, 0, 0, 0, 0]), array([0, 0, 1, 0, 0, 0, 0]), array([0, 0, 0, 0, 1, 0, 0]), array([0, 0, 0, 0, 0, 0, 1]), array([0, 0, 0, 0, 1, 0, 0]), array([0, 0, 0, 0, 1, 0, 0]), array([0, 1, 0, 0, 0, 0, 0]), array([0, 1, 0, 0, 0, 0, 0]), array([0, 0, 0, 0, 1, 0, 0]), array([0, 0, 1, 0, 0, 0, 0]), array([0, 0, 0, 0, 1, 0, 0]), array([0, 0, 0, 0, 1, 0, 0]), array([0, 0, 0, 0, 1, 0, 0]), array([0, 0, 0, 0, 1, 0, 0]), array([0, 0, 0, 0, 1, 0, 0]), array([0, 0, 0, 0, 1, 0, 0]), array([0, 0, 0, 0, 1, 0, 0]), array([0, 0, 0, 0, 1, 0, 0]), array([0, 0, 0, 0, 1, 0, 0]), array([0, 0, 0, 0, 1, 0, 0]), array([0, 0, 0, 0, 1, 0, 0]), array([0, 0, 0, 0, 1, 0, 0]), array([0, 0, 0, 0, 1, 0, 0]), array([0, 0, 0, 0, 1, 0, 0]), array([0, 0, 0, 0, 0, 0, 1]), array([0, 0, 0, 0, 0, 0, 1]), array([0, 0, 1, 0, 0, 0, 0]), array([0, 0, 0, 0, 1, 0, 0]), array([0, 0, 1, 0, 0, 0, 0]), array([0, 0, 0, 0, 1, 0, 0]), array([0, 0, 0, 0, 1, 0, 0]), array([0, 0, 0, 0, 1, 0, 0]), array([0, 0, 0, 0, 0, 0, 1]), array([1, 0, 0, 0, 0, 0, 0]), array([0, 0, 0, 0, 1, 0, 0]), array([0, 0, 0, 0, 0, 0, 1]), array([0, 0, 0, 0, 1, 0, 0]), array([0, 0, 0, 0, 1, 0, 0]), array([0, 0, 0, 0, 1, 0, 0]), array([0, 0, 0, 0, 1, 0, 0]), array([0, 0, 0, 0, 1, 0, 0]), array([0, 0, 0, 0, 1, 0, 0]), array([0, 0, 1, 0, 0, 0, 0]), array([0, 0, 1, 0, 0, 0, 0]), array([0, 0, 0, 0, 1, 0, 0]), array([0, 0, 0, 0, 1, 0, 0]), array([0, 0, 1, 0, 0, 0, 0]), array([0, 0, 0, 0, 1, 0, 0]), array([0, 0, 0, 0, 1, 0, 0]), array([0, 0, 0, 0, 1, 0, 0]), array([0, 0, 0, 0, 1, 0, 0]), array([0, 0, 0, 0, 1, 0, 0]), array([0, 0, 0, 0, 1, 0, 0]), array([0, 0, 1, 0, 0, 0, 0]), array([0, 0, 0, 0, 0, 1, 0]), array([0, 0, 0, 0, 1, 0, 0]), array([0, 0, 0, 0, 1, 0, 0]), array([0, 0, 0, 0, 0, 0, 1]), array([0, 0, 0, 0, 1, 0, 0]), array([0, 0, 0, 0, 1, 0, 0]), array([0, 0, 0, 0, 0, 0, 1]), array([0, 0, 0, 0, 1, 0, 0]), array([0, 0, 0, 0, 1, 0, 0]), array([0, 0, 0, 0, 1, 0, 0]), array([0, 0, 0, 0, 1, 0, 0]), array([0, 0, 0, 0, 1, 0, 0]), array([0, 0, 0, 0, 1, 0, 0]), array([0, 0, 0, 0, 1, 0, 0]), array([0, 0, 1, 0, 0, 0, 0]), array([0, 0, 0, 0, 1, 0, 0]), array([0, 0, 0, 0, 1, 0, 0]), array([0, 0, 0, 0, 1, 0, 0]), array([0, 0, 0, 0, 1, 0, 0]), array([0, 0, 0, 0, 1, 0, 0]), array([0, 0, 0, 0, 1, 0, 0]), array([0, 0, 0, 0, 1, 0, 0]), array([0, 0, 1, 0, 0, 0, 0]), array([0, 0, 0, 0, 1, 0, 0]), array([0, 0, 0, 0, 0, 0, 1]), array([0, 0, 1, 0, 0, 0, 0]), array([0, 0, 0, 0, 1, 0, 0]), array([0, 0, 0, 0, 1, 0, 0]), array([0, 0, 0, 0, 1, 0, 0]), array([0, 0, 0, 0, 0, 0, 1]), array([0, 0, 0, 0, 1, 0, 0]), array([0, 0, 0, 0, 1, 0, 0]), array([0, 0, 0, 0, 1, 0, 0]), array([0, 0, 0, 0, 1, 0, 0]), array([0, 0, 1, 0, 0, 0, 0]), array([0, 0, 0, 0, 0, 0, 1]), array([0, 0, 0, 0, 1, 0, 0]), array([0, 0, 0, 0, 1, 0, 0]), array([0, 0, 1, 0, 0, 0, 0]), array([0, 1, 0, 0, 0, 0, 0]), array([0, 0, 0, 0, 1, 0, 0]), array([0, 0, 0, 0, 0, 0, 1]), array([0, 0, 0, 0, 1, 0, 0]), array([0, 0, 0, 0, 1, 0, 0]), array([0, 0, 0, 0, 0, 0, 1]), array([0, 0, 0, 0, 1, 0, 0]), array([0, 0, 1, 0, 0, 0, 0]), array([0, 0, 0, 0, 1, 0, 0]), array([0, 0, 0, 0, 1, 0, 0]), array([1, 0, 0, 0, 0, 0, 0]), array([0, 0, 0, 0, 0, 0, 1]), array([0, 0, 0, 0, 1, 0, 0]), array([0, 0, 0, 0, 1, 0, 0]), array([0, 0, 0, 0, 1, 0, 0]), array([0, 0, 0, 0, 1, 0, 0]), array([0, 0, 0, 0, 1, 0, 0]), array([0, 0, 0, 0, 1, 0, 0]), array([0, 0, 0, 0, 1, 0, 0]), array([0, 0, 0, 0, 1, 0, 0]), array([0, 0, 0, 0, 1, 0, 0]), array([0, 0, 0, 0, 1, 0, 0]), array([0, 0, 0, 0, 1, 0, 0]), array([0, 0, 0, 0, 1, 0, 0]), array([1, 0, 0, 0, 0, 0, 0]), array([0, 0, 0, 0, 1, 0, 0]), array([0, 0, 0, 0, 0, 0, 1]), array([0, 0, 0, 0, 1, 0, 0]), array([0, 1, 0, 0, 0, 0, 0]), array([0, 0, 0, 0, 0, 0, 1]), array([0, 0, 1, 0, 0, 0, 0]), array([0, 0, 0, 0, 1, 0, 0]), array([0, 0, 0, 0, 1, 0, 0]), array([0, 0, 0, 0, 1, 0, 0]), array([0, 0, 0, 0, 0, 0, 1]), array([0, 0, 0, 0, 1, 0, 0]), array([0, 0, 0, 0, 1, 0, 0]), array([0, 0, 1, 0, 0, 0, 0]), array([0, 0, 0, 0, 1, 0, 0]), array([0, 0, 1, 0, 0, 0, 0]), array([0, 0, 0, 0, 1, 0, 0]), array([0, 0, 0, 0, 1, 0, 0]), array([0, 0, 0, 0, 1, 0, 0]), array([0, 0, 0, 0, 0, 0, 1]), array([0, 0, 0, 0, 1, 0, 0]), array([0, 0, 0, 0, 1, 0, 0]), array([0, 0, 0, 0, 1, 0, 0]), array([0, 0, 0, 0, 1, 0, 0]), array([0, 0, 0, 0, 1, 0, 0]), array([0, 0, 0, 0, 1, 0, 0]), array([0, 0, 0, 0, 1, 0, 0]), array([0, 0, 0, 0, 1, 0, 0]), array([0, 0, 0, 0, 1, 0, 0]), array([0, 0, 0, 0, 1, 0, 0]), array([0, 0, 0, 0, 1, 0, 0]), array([0, 1, 0, 0, 0, 0, 0]), array([0, 0, 0, 0, 1, 0, 0]), array([0, 1, 0, 0, 0, 0, 0]), array([0, 0, 0, 0, 1, 0, 0]), array([0, 0, 0, 0, 1, 0, 0]), array([0, 0, 0, 0, 0, 0, 1]), array([0, 0, 0, 0, 1, 0, 0]), array([0, 0, 0, 0, 1, 0, 0]), array([0, 0, 0, 0, 1, 0, 0]), array([0, 0, 0, 0, 1, 0, 0]), array([0, 0, 0, 0, 1, 0, 0]), array([0, 0, 0, 0, 1, 0, 0]), array([0, 0, 0, 0, 1, 0, 0]), array([0, 0, 0, 0, 1, 0, 0]), array([0, 0, 1, 0, 0, 0, 0]), array([0, 0, 0, 0, 1, 0, 0]), array([0, 0, 0, 0, 1, 0, 0]), array([0, 0, 0, 0, 0, 0, 1]), array([0, 0, 1, 0, 0, 0, 0]), array([0, 0, 0, 0, 1, 0, 0]), array([0, 0, 1, 0, 0, 0, 0]), array([0, 1, 0, 0, 0, 0, 0]), array([0, 0, 0, 0, 1, 0, 0]), array([0, 0, 0, 0, 0, 0, 1]), array([0, 0, 0, 0, 1, 0, 0]), array([0, 0, 0, 0, 1, 0, 0]), array([0, 0, 0, 0, 1, 0, 0]), array([0, 0, 0, 0, 0, 0, 1]), array([0, 0, 0, 0, 1, 0, 0]), array([0, 0, 1, 0, 0, 0, 0]), array([0, 0, 0, 0, 0, 0, 1]), array([0, 0, 0, 0, 1, 0, 0]), array([0, 0, 0, 0, 1, 0, 0]), array([0, 0, 0, 0, 1, 0, 0]), array([0, 0, 1, 0, 0, 0, 0]), array([0, 0, 0, 0, 1, 0, 0]), array([0, 0, 1, 0, 0, 0, 0]), array([0, 0, 0, 0, 1, 0, 0]), array([0, 0, 0, 0, 0, 0, 1]), array([0, 0, 0, 0, 1, 0, 0]), array([0, 0, 0, 0, 1, 0, 0]), array([0, 0, 0, 0, 1, 0, 0]), array([0, 0, 0, 0, 1, 0, 0]), array([0, 0, 0, 0, 1, 0, 0]), array([0, 0, 0, 0, 1, 0, 0]), array([0, 0, 0, 0, 1, 0, 0]), array([0, 0, 1, 0, 0, 0, 0]), array([0, 0, 0, 0, 1, 0, 0]), array([0, 0, 0, 0, 1, 0, 0]), array([0, 0, 0, 0, 0, 0, 1]), array([0, 0, 0, 0, 1, 0, 0]), array([0, 0, 0, 1, 0, 0, 0]), array([0, 0, 0, 1, 0, 0, 0]), array([0, 0, 1, 0, 0, 0, 0]), array([0, 0, 0, 0, 1, 0, 0]), array([0, 0, 0, 0, 0, 0, 1]), array([0, 0, 0, 0, 1, 0, 0]), array([0, 0, 0, 0, 0, 0, 1]), array([0, 0, 0, 0, 1, 0, 0]), array([0, 0, 0, 0, 1, 0, 0]), array([0, 0, 0, 0, 1, 0, 0]), array([0, 0, 0, 0, 1, 0, 0]), array([0, 0, 0, 0, 1, 0, 0]), array([0, 0, 0, 0, 1, 0, 0]), array([0, 0, 0, 0, 1, 0, 0]), array([0, 0, 0, 0, 1, 0, 0]), array([0, 0, 0, 0, 1, 0, 0]), array([0, 0, 1, 0, 0, 0, 0]), array([0, 0, 0, 0, 1, 0, 0]), array([0, 0, 0, 0, 1, 0, 0]), array([0, 0, 0, 0, 1, 0, 0]), array([0, 0, 0, 0, 1, 0, 0]), array([0, 0, 0, 0, 1, 0, 0]), array([0, 0, 0, 1, 0, 0, 0]), array([0, 0, 0, 0, 1, 0, 0]), array([0, 0, 0, 0, 1, 0, 0]), array([0, 0, 0, 0, 1, 0, 0]), array([0, 0, 0, 0, 1, 0, 0]), array([0, 0, 0, 0, 0, 0, 1]), array([0, 0, 0, 0, 1, 0, 0]), array([0, 0, 0, 0, 0, 0, 1]), array([0, 0, 0, 0, 1, 0, 0]), array([0, 0, 0, 1, 0, 0, 0]), array([0, 0, 0, 0, 1, 0, 0]), array([0, 0, 0, 0, 1, 0, 0]), array([0, 0, 0, 0, 1, 0, 0]), array([0, 0, 0, 0, 1, 0, 0]), array([0, 0, 0, 0, 1, 0, 0]), array([0, 0, 0, 0, 1, 0, 0]), array([0, 0, 0, 0, 1, 0, 0]), array([0, 0, 0, 0, 1, 0, 0]), array([0, 0, 1, 0, 0, 0, 0]), array([0, 0, 0, 0, 1, 0, 0]), array([0, 0, 0, 0, 1, 0, 0]), array([0, 0, 0, 0, 1, 0, 0]), array([0, 0, 1, 0, 0, 0, 0]), array([0, 0, 0, 0, 1, 0, 0]), array([0, 1, 0, 0, 0, 0, 0]), array([0, 0, 0, 0, 1, 0, 0]), array([0, 0, 0, 0, 1, 0, 0]), array([0, 0, 0, 0, 1, 0, 0]), array([0, 0, 0, 0, 1, 0, 0]), array([1, 0, 0, 0, 0, 0, 0]), array([0, 0, 0, 0, 1, 0, 0]), array([0, 0, 0, 0, 1, 0, 0]), array([0, 0, 0, 0, 1, 0, 0]), array([0, 0, 0, 0, 1, 0, 0]), array([0, 0, 0, 0, 1, 0, 0]), array([0, 1, 0, 0, 0, 0, 0]), array([0, 0, 1, 0, 0, 0, 0]), array([0, 0, 0, 0, 1, 0, 0]), array([0, 0, 0, 0, 0, 1, 0]), array([0, 0, 0, 0, 0, 0, 1]), array([0, 0, 0, 0, 0, 0, 1]), array([0, 0, 0, 0, 1, 0, 0]), array([0, 1, 0, 0, 0, 0, 0]), array([0, 0, 0, 0, 0, 0, 1]), array([0, 1, 0, 0, 0, 0, 0]), array([0, 0, 1, 0, 0, 0, 0]), array([0, 0, 0, 0, 1, 0, 0]), array([0, 0, 0, 0, 1, 0, 0]), array([0, 0, 0, 0, 1, 0, 0]), array([0, 0, 1, 0, 0, 0, 0]), array([0, 0, 0, 0, 1, 0, 0]), array([0, 0, 0, 0, 1, 0, 0]), array([0, 0, 0, 0, 1, 0, 0]), array([0, 1, 0, 0, 0, 0, 0]), array([0, 0, 0, 0, 1, 0, 0]), array([0, 0, 0, 0, 0, 0, 1]), array([0, 0, 1, 0, 0, 0, 0]), array([0, 0, 0, 0, 1, 0, 0]), array([0, 0, 0, 0, 0, 1, 0]), array([0, 0, 0, 0, 1, 0, 0]), array([0, 0, 0, 0, 1, 0, 0]), array([0, 0, 0, 0, 1, 0, 0]), array([0, 0, 0, 0, 1, 0, 0]), array([0, 0, 0, 0, 1, 0, 0]), array([0, 0, 0, 0, 1, 0, 0]), array([0, 0, 0, 0, 0, 0, 1]), array([0, 0, 1, 0, 0, 0, 0]), array([0, 0, 0, 0, 1, 0, 0]), array([0, 0, 1, 0, 0, 0, 0]), array([0, 0, 1, 0, 0, 0, 0]), array([0, 0, 0, 0, 1, 0, 0]), array([0, 0, 0, 0, 1, 0, 0]), array([0, 0, 0, 0, 1, 0, 0]), array([0, 0, 0, 0, 1, 0, 0]), array([0, 0, 0, 0, 1, 0, 0]), array([0, 0, 0, 0, 1, 0, 0]), array([0, 0, 0, 0, 1, 0, 0]), array([0, 0, 0, 0, 1, 0, 0]), array([0, 0, 0, 0, 1, 0, 0]), array([0, 0, 0, 0, 1, 0, 0]), array([0, 0, 1, 0, 0, 0, 0]), array([0, 0, 0, 0, 1, 0, 0]), array([0, 0, 0, 0, 1, 0, 0]), array([0, 0, 0, 0, 1, 0, 0]), array([0, 0, 0, 0, 1, 0, 0]), array([0, 0, 0, 0, 1, 0, 0]), array([0, 0, 0, 0, 1, 0, 0]), array([0, 0, 0, 0, 1, 0, 0]), array([0, 0, 0, 0, 1, 0, 0]), array([0, 0, 0, 0, 1, 0, 0]), array([0, 0, 0, 0, 1, 0, 0]), array([0, 0, 1, 0, 0, 0, 0]), array([0, 0, 1, 0, 0, 0, 0]), array([0, 0, 0, 0, 0, 0, 1]), array([0, 0, 0, 0, 0, 0, 1]), array([0, 0, 0, 0, 0, 0, 1]), array([0, 0, 0, 0, 1, 0, 0]), array([0, 0, 0, 0, 0, 0, 1]), array([0, 0, 0, 0, 1, 0, 0]), array([0, 0, 0, 0, 1, 0, 0]), array([0, 0, 0, 0, 0, 0, 1]), array([0, 0, 0, 0, 1, 0, 0]), array([0, 0, 0, 0, 1, 0, 0]), array([0, 0, 0, 0, 0, 0, 1]), array([0, 0, 0, 0, 1, 0, 0]), array([0, 0, 0, 0, 1, 0, 0]), array([1, 0, 0, 0, 0, 0, 0]), array([0, 0, 1, 0, 0, 0, 0]), array([0, 0, 0, 0, 1, 0, 0]), array([0, 0, 0, 0, 1, 0, 0]), array([0, 0, 0, 0, 1, 0, 0]), array([0, 0, 0, 0, 1, 0, 0]), array([0, 0, 0, 0, 1, 0, 0]), array([0, 0, 0, 0, 1, 0, 0]), array([0, 0, 0, 0, 1, 0, 0]), array([0, 0, 0, 0, 0, 0, 1]), array([0, 0, 0, 0, 1, 0, 0]), array([0, 0, 0, 0, 1, 0, 0]), array([0, 0, 0, 0, 0, 0, 1]), array([0, 0, 0, 0, 1, 0, 0]), array([0, 0, 0, 0, 1, 0, 0]), array([0, 0, 0, 0, 1, 0, 0]), array([0, 0, 0, 0, 1, 0, 0]), array([1, 0, 0, 0, 0, 0, 0]), array([0, 0, 0, 0, 1, 0, 0]), array([0, 1, 0, 0, 0, 0, 0]), array([0, 1, 0, 0, 0, 0, 0]), array([0, 0, 0, 0, 1, 0, 0]), array([0, 0, 0, 0, 1, 0, 0]), array([0, 0, 0, 0, 1, 0, 0]), array([0, 0, 0, 0, 1, 0, 0]), array([0, 0, 0, 0, 1, 0, 0]), array([0, 0, 0, 0, 1, 0, 0]), array([0, 0, 0, 0, 1, 0, 0]), array([0, 0, 0, 0, 0, 0, 1]), array([0, 0, 0, 0, 1, 0, 0]), array([0, 0, 0, 0, 1, 0, 0]), array([0, 0, 0, 0, 1, 0, 0]), array([0, 0, 0, 0, 1, 0, 0]), array([0, 0, 1, 0, 0, 0, 0]), array([0, 0, 0, 0, 1, 0, 0]), array([0, 0, 0, 0, 1, 0, 0]), array([0, 0, 0, 0, 1, 0, 0]), array([0, 0, 0, 0, 0, 0, 1]), array([0, 0, 0, 0, 1, 0, 0]), array([0, 0, 1, 0, 0, 0, 0]), array([1, 0, 0, 0, 0, 0, 0]), array([0, 0, 0, 0, 1, 0, 0]), array([0, 0, 0, 0, 1, 0, 0]), array([0, 0, 0, 0, 1, 0, 0]), array([0, 0, 0, 0, 1, 0, 0]), array([0, 0, 0, 0, 1, 0, 0]), array([0, 0, 0, 0, 1, 0, 0]), array([0, 0, 0, 0, 1, 0, 0]), array([0, 0, 0, 0, 1, 0, 0]), array([0, 0, 0, 0, 1, 0, 0]), array([0, 0, 0, 0, 1, 0, 0]), array([0, 0, 0, 0, 0, 0, 1]), array([1, 0, 0, 0, 0, 0, 0]), array([0, 0, 0, 0, 1, 0, 0]), array([0, 0, 0, 0, 1, 0, 0]), array([0, 0, 1, 0, 0, 0, 0]), array([0, 0, 0, 0, 1, 0, 0]), array([0, 0, 1, 0, 0, 0, 0]), array([0, 0, 0, 0, 1, 0, 0]), array([0, 0, 0, 0, 1, 0, 0]), array([0, 0, 0, 0, 1, 0, 0]), array([0, 0, 1, 0, 0, 0, 0]), array([0, 0, 1, 0, 0, 0, 0]), array([0, 0, 0, 0, 1, 0, 0]), array([0, 0, 1, 0, 0, 0, 0]), array([0, 0, 0, 0, 1, 0, 0]), array([0, 0, 0, 0, 1, 0, 0]), array([0, 0, 0, 0, 1, 0, 0]), array([0, 0, 0, 0, 1, 0, 0]), array([0, 0, 0, 0, 1, 0, 0]), array([0, 0, 0, 0, 1, 0, 0]), array([0, 0, 0, 0, 1, 0, 0]), array([0, 0, 0, 0, 1, 0, 0]), array([0, 0, 0, 0, 1, 0, 0]), array([0, 1, 0, 0, 0, 0, 0]), array([0, 0, 0, 0, 1, 0, 0]), array([0, 0, 0, 0, 1, 0, 0]), array([0, 0, 1, 0, 0, 0, 0]), array([0, 0, 0, 0, 1, 0, 0]), array([0, 0, 1, 0, 0, 0, 0]), array([0, 0, 0, 0, 0, 0, 1]), array([0, 0, 0, 0, 0, 0, 1]), array([0, 0, 0, 0, 1, 0, 0]), array([0, 0, 0, 0, 1, 0, 0]), array([0, 0, 0, 0, 1, 0, 0]), array([0, 0, 0, 0, 1, 0, 0]), array([0, 0, 0, 0, 0, 0, 1]), array([0, 1, 0, 0, 0, 0, 0]), array([0, 0, 0, 0, 0, 0, 1]), array([0, 0, 0, 0, 1, 0, 0]), array([0, 0, 0, 0, 1, 0, 0]), array([0, 0, 0, 0, 1, 0, 0]), array([0, 0, 0, 0, 1, 0, 0]), array([0, 0, 0, 0, 1, 0, 0]), array([0, 0, 0, 0, 1, 0, 0]), array([0, 0, 0, 0, 1, 0, 0]), array([0, 0, 0, 0, 1, 0, 0]), array([0, 0, 0, 0, 1, 0, 0]), array([0, 0, 0, 0, 1, 0, 0]), array([0, 0, 1, 0, 0, 0, 0]), array([0, 0, 0, 0, 1, 0, 0]), array([0, 0, 0, 0, 0, 0, 1]), array([0, 0, 0, 0, 1, 0, 0]), array([0, 0, 0, 0, 1, 0, 0]), array([0, 0, 0, 0, 1, 0, 0]), array([0, 0, 0, 0, 1, 0, 0]), array([0, 0, 0, 0, 1, 0, 0]), array([0, 0, 0, 0, 1, 0, 0]), array([0, 0, 0, 0, 1, 0, 0]), array([0, 0, 0, 0, 0, 0, 1]), array([0, 0, 0, 0, 1, 0, 0]), array([0, 0, 0, 0, 1, 0, 0]), array([0, 0, 0, 0, 0, 0, 1]), array([0, 0, 0, 0, 1, 0, 0]), array([1, 0, 0, 0, 0, 0, 0]), array([0, 0, 1, 0, 0, 0, 0]), array([0, 0, 0, 0, 1, 0, 0]), array([0, 0, 0, 0, 1, 0, 0]), array([0, 0, 0, 0, 1, 0, 0]), array([0, 0, 0, 0, 1, 0, 0]), array([0, 0, 0, 0, 1, 0, 0]), array([0, 0, 0, 0, 1, 0, 0]), array([0, 0, 0, 0, 1, 0, 0]), array([0, 0, 0, 0, 1, 0, 0]), array([0, 0, 0, 0, 1, 0, 0]), array([0, 0, 0, 0, 1, 0, 0]), array([0, 0, 0, 0, 1, 0, 0]), array([0, 0, 1, 0, 0, 0, 0]), array([0, 0, 0, 0, 1, 0, 0]), array([0, 0, 0, 0, 1, 0, 0]), array([0, 0, 0, 0, 1, 0, 0]), array([0, 0, 0, 0, 1, 0, 0]), array([0, 0, 0, 0, 1, 0, 0]), array([0, 0, 0, 0, 1, 0, 0]), array([0, 0, 0, 0, 1, 0, 0]), array([0, 0, 0, 0, 1, 0, 0]), array([0, 0, 1, 0, 0, 0, 0]), array([0, 0, 0, 0, 1, 0, 0]), array([0, 0, 0, 0, 1, 0, 0]), array([1, 0, 0, 0, 0, 0, 0]), array([0, 0, 1, 0, 0, 0, 0]), array([0, 0, 0, 0, 1, 0, 0]), array([0, 0, 0, 0, 1, 0, 0]), array([1, 0, 0, 0, 0, 0, 0]), array([0, 0, 0, 0, 1, 0, 0]), array([0, 0, 0, 0, 0, 0, 1]), array([0, 0, 0, 0, 1, 0, 0]), array([0, 0, 0, 0, 1, 0, 0]), array([0, 0, 0, 0, 0, 1, 0]), array([0, 0, 0, 0, 1, 0, 0]), array([0, 0, 0, 0, 1, 0, 0]), array([0, 0, 1, 0, 0, 0, 0]), array([0, 0, 0, 0, 1, 0, 0]), array([0, 0, 0, 0, 1, 0, 0]), array([0, 0, 1, 0, 0, 0, 0]), array([0, 0, 0, 0, 1, 0, 0]), array([0, 0, 0, 0, 1, 0, 0]), array([0, 0, 0, 0, 1, 0, 0]), array([0, 0, 1, 0, 0, 0, 0]), array([0, 0, 0, 0, 1, 0, 0]), array([0, 0, 0, 0, 1, 0, 0]), array([0, 0, 1, 0, 0, 0, 0]), array([0, 0, 0, 0, 1, 0, 0]), array([0, 1, 0, 0, 0, 0, 0]), array([0, 0, 0, 0, 1, 0, 0]), array([0, 0, 0, 0, 1, 0, 0]), array([0, 0, 0, 0, 1, 0, 0]), array([0, 0, 0, 0, 1, 0, 0]), array([0, 0, 0, 0, 1, 0, 0]), array([0, 0, 0, 0, 1, 0, 0]), array([0, 0, 0, 0, 1, 0, 0]), array([0, 0, 0, 0, 1, 0, 0]), array([0, 0, 0, 0, 1, 0, 0]), array([0, 0, 0, 0, 1, 0, 0]), array([0, 0, 0, 0, 1, 0, 0]), array([0, 0, 0, 0, 1, 0, 0]), array([0, 0, 0, 0, 1, 0, 0]), array([0, 0, 0, 0, 0, 0, 1]), array([0, 0, 0, 0, 1, 0, 0]), array([0, 0, 0, 0, 1, 0, 0]), array([0, 0, 0, 0, 0, 0, 1]), array([0, 0, 0, 0, 1, 0, 0]), array([0, 0, 0, 0, 1, 0, 0]), array([0, 0, 0, 0, 0, 0, 1]), array([0, 0, 0, 0, 1, 0, 0]), array([0, 0, 0, 0, 1, 0, 0]), array([0, 0, 0, 0, 1, 0, 0]), array([0, 0, 0, 0, 1, 0, 0]), array([0, 0, 0, 0, 1, 0, 0]), array([0, 0, 0, 0, 1, 0, 0]), array([0, 0, 0, 0, 1, 0, 0]), array([0, 0, 0, 0, 1, 0, 0]), array([0, 0, 0, 0, 1, 0, 0]), array([0, 0, 0, 0, 1, 0, 0]), array([0, 1, 0, 0, 0, 0, 0]), array([0, 0, 0, 1, 0, 0, 0]), array([0, 0, 0, 0, 1, 0, 0]), array([0, 0, 0, 0, 1, 0, 0]), array([0, 0, 0, 0, 1, 0, 0]), array([0, 0, 0, 0, 1, 0, 0]), array([0, 0, 0, 0, 1, 0, 0]), array([0, 1, 0, 0, 0, 0, 0]), array([0, 0, 1, 0, 0, 0, 0]), array([0, 0, 0, 0, 1, 0, 0]), array([0, 0, 0, 0, 1, 0, 0]), array([0, 0, 0, 0, 0, 0, 1]), array([0, 0, 0, 0, 1, 0, 0]), array([1, 0, 0, 0, 0, 0, 0]), array([0, 0, 0, 0, 0, 0, 1]), array([0, 0, 1, 0, 0, 0, 0]), array([0, 0, 1, 0, 0, 0, 0]), array([0, 0, 0, 0, 0, 0, 1]), array([0, 0, 0, 0, 1, 0, 0]), array([0, 0, 0, 0, 1, 0, 0]), array([0, 0, 0, 0, 0, 0, 1]), array([0, 0, 0, 0, 0, 0, 1]), array([0, 1, 0, 0, 0, 0, 0]), array([0, 0, 0, 0, 1, 0, 0]), array([0, 0, 0, 0, 1, 0, 0]), array([0, 0, 0, 0, 0, 0, 1]), array([0, 0, 0, 0, 1, 0, 0]), array([0, 0, 0, 0, 1, 0, 0]), array([0, 0, 1, 0, 0, 0, 0]), array([0, 0, 0, 0, 1, 0, 0]), array([0, 0, 0, 0, 1, 0, 0]), array([0, 0, 0, 0, 1, 0, 0]), array([0, 0, 0, 0, 1, 0, 0]), array([0, 0, 0, 0, 1, 0, 0]), array([0, 0, 0, 0, 1, 0, 0]), array([0, 0, 0, 0, 0, 0, 1]), array([0, 0, 0, 0, 1, 0, 0]), array([0, 0, 0, 0, 0, 0, 1]), array([0, 0, 0, 0, 1, 0, 0]), array([0, 0, 0, 0, 1, 0, 0]), array([1, 0, 0, 0, 0, 0, 0]), array([0, 0, 0, 0, 1, 0, 0]), array([0, 0, 0, 0, 1, 0, 0]), array([0, 0, 1, 0, 0, 0, 0]), array([0, 0, 0, 0, 1, 0, 0]), array([0, 0, 0, 0, 1, 0, 0]), array([0, 0, 0, 0, 1, 0, 0]), array([0, 0, 1, 0, 0, 0, 0]), array([0, 0, 0, 0, 1, 0, 0]), array([0, 0, 0, 0, 1, 0, 0]), array([0, 0, 0, 0, 1, 0, 0]), array([0, 0, 1, 0, 0, 0, 0]), array([0, 0, 1, 0, 0, 0, 0]), array([0, 0, 0, 0, 1, 0, 0]), array([0, 0, 1, 0, 0, 0, 0]), array([0, 0, 0, 0, 1, 0, 0]), array([0, 0, 0, 0, 1, 0, 0]), array([0, 0, 1, 0, 0, 0, 0]), array([0, 0, 0, 0, 1, 0, 0]), array([0, 0, 0, 0, 1, 0, 0]), array([0, 0, 0, 0, 1, 0, 0]), array([0, 0, 0, 0, 1, 0, 0]), array([0, 0, 0, 0, 0, 0, 1]), array([0, 0, 0, 0, 1, 0, 0]), array([0, 0, 0, 0, 1, 0, 0]), array([0, 1, 0, 0, 0, 0, 0]), array([0, 0, 0, 0, 1, 0, 0]), array([0, 0, 0, 0, 1, 0, 0]), array([0, 0, 0, 0, 0, 0, 1]), array([0, 1, 0, 0, 0, 0, 0]), array([0, 0, 0, 0, 1, 0, 0]), array([0, 0, 0, 0, 1, 0, 0]), array([0, 0, 0, 0, 0, 0, 1]), array([0, 0, 0, 0, 1, 0, 0]), array([0, 0, 0, 0, 1, 0, 0]), array([0, 0, 0, 0, 1, 0, 0]), array([0, 1, 0, 0, 0, 0, 0]), array([0, 0, 1, 0, 0, 0, 0]), array([0, 0, 0, 0, 0, 0, 1]), array([0, 0, 0, 0, 1, 0, 0]), array([0, 0, 0, 0, 1, 0, 0]), array([0, 0, 1, 0, 0, 0, 0]), array([0, 0, 0, 0, 1, 0, 0]), array([0, 0, 0, 0, 1, 0, 0]), array([0, 0, 0, 0, 1, 0, 0]), array([0, 0, 0, 0, 1, 0, 0]), array([0, 1, 0, 0, 0, 0, 0]), array([0, 0, 0, 0, 1, 0, 0]), array([0, 0, 0, 0, 1, 0, 0]), array([0, 0, 0, 0, 1, 0, 0]), array([0, 0, 0, 0, 1, 0, 0]), array([0, 0, 0, 0, 1, 0, 0]), array([0, 0, 0, 0, 1, 0, 0]), array([0, 0, 0, 0, 1, 0, 0]), array([1, 0, 0, 0, 0, 0, 0]), array([0, 0, 0, 0, 1, 0, 0]), array([0, 0, 0, 0, 1, 0, 0]), array([0, 0, 0, 0, 1, 0, 0]), array([0, 0, 0, 0, 1, 0, 0]), array([0, 0, 0, 0, 1, 0, 0]), array([0, 0, 0, 0, 0, 0, 1]), array([0, 0, 0, 0, 1, 0, 0]), array([0, 1, 0, 0, 0, 0, 0]), array([0, 0, 0, 0, 1, 0, 0]), array([0, 0, 0, 0, 1, 0, 0]), array([0, 0, 0, 0, 1, 0, 0]), array([0, 0, 0, 0, 0, 0, 1]), array([0, 0, 0, 0, 1, 0, 0]), array([0, 0, 0, 0, 1, 0, 0]), array([0, 0, 0, 0, 1, 0, 0]), array([1, 0, 0, 0, 0, 0, 0]), array([0, 0, 0, 0, 1, 0, 0]), array([0, 0, 1, 0, 0, 0, 0]), array([0, 0, 1, 0, 0, 0, 0]), array([0, 0, 0, 0, 1, 0, 0]), array([0, 0, 0, 0, 1, 0, 0]), array([0, 0, 0, 0, 0, 1, 0]), array([0, 0, 0, 1, 0, 0, 0]), array([0, 0, 0, 0, 1, 0, 0]), array([0, 0, 0, 0, 0, 0, 1]), array([0, 0, 1, 0, 0, 0, 0]), array([0, 0, 0, 0, 1, 0, 0]), array([0, 0, 0, 0, 1, 0, 0]), array([0, 0, 0, 0, 0, 0, 1]), array([0, 0, 0, 0, 1, 0, 0]), array([0, 0, 0, 0, 1, 0, 0]), array([0, 0, 0, 0, 1, 0, 0]), array([0, 0, 0, 0, 1, 0, 0]), array([0, 0, 0, 0, 1, 0, 0]), array([0, 0, 0, 0, 1, 0, 0]), array([0, 0, 0, 0, 1, 0, 0]), array([0, 0, 0, 0, 1, 0, 0]), array([0, 0, 0, 0, 1, 0, 0]), array([0, 0, 0, 0, 1, 0, 0]), array([0, 0, 1, 0, 0, 0, 0]), array([0, 1, 0, 0, 0, 0, 0]), array([0, 0, 0, 0, 1, 0, 0]), array([0, 0, 0, 0, 1, 0, 0]), array([0, 0, 0, 0, 0, 0, 1]), array([1, 0, 0, 0, 0, 0, 0]), array([0, 0, 0, 0, 1, 0, 0]), array([0, 0, 0, 0, 0, 0, 1]), array([0, 0, 0, 0, 0, 1, 0]), array([0, 0, 0, 0, 0, 1, 0]), array([0, 0, 0, 0, 1, 0, 0]), array([0, 0, 1, 0, 0, 0, 0]), array([0, 0, 1, 0, 0, 0, 0]), array([0, 0, 0, 0, 1, 0, 0]), array([0, 0, 1, 0, 0, 0, 0]), array([0, 0, 0, 0, 0, 0, 1]), array([0, 0, 0, 0, 1, 0, 0]), array([0, 0, 0, 0, 0, 0, 1]), array([0, 0, 0, 0, 0, 0, 1]), array([1, 0, 0, 0, 0, 0, 0]), array([0, 0, 0, 0, 1, 0, 0]), array([0, 0, 0, 0, 1, 0, 0]), array([0, 0, 0, 0, 1, 0, 0]), array([0, 0, 0, 0, 1, 0, 0]), array([0, 0, 0, 0, 1, 0, 0]), array([0, 0, 0, 0, 1, 0, 0]), array([0, 0, 0, 0, 1, 0, 0]), array([0, 0, 0, 0, 0, 0, 1]), array([0, 0, 0, 0, 1, 0, 0]), array([0, 0, 0, 0, 1, 0, 0]), array([0, 1, 0, 0, 0, 0, 0]), array([0, 0, 0, 0, 1, 0, 0]), array([0, 0, 0, 0, 1, 0, 0]), array([0, 0, 1, 0, 0, 0, 0]), array([0, 0, 0, 0, 1, 0, 0]), array([0, 0, 0, 0, 1, 0, 0]), array([0, 0, 0, 0, 1, 0, 0]), array([0, 0, 0, 0, 1, 0, 0]), array([0, 0, 0, 0, 0, 0, 1]), array([0, 0, 0, 0, 1, 0, 0]), array([0, 0, 0, 0, 1, 0, 0]), array([0, 0, 0, 0, 1, 0, 0]), array([0, 0, 0, 0, 1, 0, 0]), array([0, 0, 0, 0, 1, 0, 0]), array([0, 0, 0, 0, 1, 0, 0]), array([0, 0, 0, 0, 1, 0, 0]), array([0, 0, 0, 0, 1, 0, 0]), array([0, 0, 0, 0, 1, 0, 0]), array([0, 0, 0, 0, 1, 0, 0]), array([0, 0, 0, 0, 1, 0, 0]), array([0, 0, 0, 0, 1, 0, 0]), array([0, 0, 0, 0, 1, 0, 0]), array([0, 0, 0, 0, 1, 0, 0]), array([0, 0, 0, 0, 1, 0, 0]), array([0, 0, 0, 0, 1, 0, 0]), array([0, 0, 0, 0, 1, 0, 0]), array([0, 0, 0, 0, 1, 0, 0]), array([0, 0, 0, 0, 1, 0, 0]), array([0, 0, 0, 0, 1, 0, 0]), array([0, 0, 0, 0, 1, 0, 0]), array([0, 0, 0, 0, 1, 0, 0]), array([0, 0, 0, 0, 1, 0, 0]), array([0, 0, 0, 0, 1, 0, 0]), array([0, 0, 0, 0, 0, 0, 1]), array([0, 0, 0, 0, 1, 0, 0]), array([0, 0, 0, 0, 1, 0, 0]), array([0, 0, 0, 0, 1, 0, 0]), array([0, 0, 0, 0, 1, 0, 0]), array([0, 0, 1, 0, 0, 0, 0]), array([0, 0, 0, 0, 1, 0, 0]), array([0, 0, 0, 0, 1, 0, 0]), array([1, 0, 0, 0, 0, 0, 0]), array([0, 0, 0, 0, 1, 0, 0]), array([0, 0, 0, 0, 1, 0, 0]), array([0, 0, 0, 0, 0, 0, 1]), array([0, 0, 0, 0, 1, 0, 0]), array([1, 0, 0, 0, 0, 0, 0]), array([0, 0, 0, 0, 0, 0, 1]), array([0, 0, 0, 0, 1, 0, 0]), array([0, 0, 0, 0, 1, 0, 0]), array([0, 0, 0, 0, 0, 0, 1]), array([0, 1, 0, 0, 0, 0, 0]), array([0, 0, 0, 0, 1, 0, 0]), array([0, 1, 0, 0, 0, 0, 0]), array([0, 0, 0, 0, 1, 0, 0]), array([0, 0, 0, 0, 1, 0, 0]), array([0, 0, 0, 0, 1, 0, 0]), array([0, 0, 0, 0, 1, 0, 0]), array([0, 0, 0, 0, 1, 0, 0]), array([0, 0, 0, 0, 1, 0, 0]), array([0, 0, 0, 0, 1, 0, 0]), array([0, 0, 1, 0, 0, 0, 0]), array([1, 0, 0, 0, 0, 0, 0]), array([0, 0, 0, 0, 1, 0, 0]), array([0, 0, 0, 0, 1, 0, 0]), array([0, 0, 0, 0, 1, 0, 0]), array([0, 0, 0, 0, 1, 0, 0]), array([0, 0, 0, 0, 1, 0, 0]), array([0, 0, 0, 0, 1, 0, 0]), array([0, 0, 0, 0, 1, 0, 0]), array([0, 0, 0, 0, 1, 0, 0]), array([0, 0, 0, 0, 1, 0, 0]), array([0, 0, 0, 0, 1, 0, 0]), array([0, 0, 0, 0, 1, 0, 0]), array([0, 0, 0, 0, 1, 0, 0]), array([0, 0, 0, 0, 0, 0, 1]), array([0, 0, 0, 0, 1, 0, 0]), array([0, 0, 0, 0, 1, 0, 0]), array([0, 0, 0, 0, 1, 0, 0]), array([1, 0, 0, 0, 0, 0, 0]), array([0, 0, 0, 0, 1, 0, 0]), array([0, 0, 0, 0, 1, 0, 0]), array([0, 0, 1, 0, 0, 0, 0]), array([0, 0, 0, 0, 1, 0, 0]), array([0, 0, 0, 0, 1, 0, 0]), array([0, 0, 0, 0, 1, 0, 0]), array([0, 0, 0, 1, 0, 0, 0]), array([0, 0, 0, 0, 1, 0, 0]), array([0, 0, 0, 0, 1, 0, 0]), array([0, 0, 0, 0, 1, 0, 0]), array([1, 0, 0, 0, 0, 0, 0]), array([0, 0, 0, 0, 1, 0, 0]), array([0, 0, 0, 0, 1, 0, 0]), array([0, 0, 0, 0, 1, 0, 0]), array([0, 0, 0, 0, 1, 0, 0]), array([0, 0, 0, 0, 1, 0, 0]), array([0, 0, 0, 0, 1, 0, 0]), array([0, 0, 0, 0, 1, 0, 0]), array([0, 0, 0, 0, 1, 0, 0]), array([0, 0, 0, 0, 1, 0, 0]), array([0, 0, 0, 0, 1, 0, 0]), array([0, 0, 0, 0, 1, 0, 0]), array([0, 0, 0, 0, 1, 0, 0]), array([0, 0, 0, 0, 1, 0, 0]), array([0, 0, 0, 0, 0, 0, 1]), array([0, 0, 0, 0, 1, 0, 0]), array([0, 0, 0, 0, 1, 0, 0]), array([0, 0, 0, 0, 1, 0, 0]), array([0, 0, 0, 0, 1, 0, 0]), array([0, 0, 0, 0, 1, 0, 0]), array([0, 0, 0, 0, 1, 0, 0]), array([0, 0, 0, 0, 1, 0, 0]), array([0, 0, 0, 0, 1, 0, 0]), array([0, 0, 1, 0, 0, 0, 0]), array([0, 0, 0, 0, 1, 0, 0]), array([0, 0, 0, 0, 1, 0, 0]), array([0, 0, 0, 0, 1, 0, 0]), array([0, 0, 0, 0, 1, 0, 0]), array([0, 0, 0, 0, 1, 0, 0]), array([0, 0, 0, 0, 1, 0, 0]), array([0, 1, 0, 0, 0, 0, 0]), array([0, 0, 0, 0, 1, 0, 0]), array([0, 0, 0, 0, 0, 0, 1]), array([0, 0, 0, 0, 1, 0, 0]), array([0, 0, 0, 0, 1, 0, 0]), array([1, 0, 0, 0, 0, 0, 0]), array([0, 0, 0, 0, 0, 0, 1]), array([0, 0, 0, 0, 1, 0, 0]), array([0, 0, 0, 0, 0, 0, 1]), array([0, 0, 1, 0, 0, 0, 0]), array([0, 0, 0, 0, 1, 0, 0]), array([0, 0, 0, 0, 0, 0, 1]), array([0, 0, 0, 0, 1, 0, 0]), array([0, 0, 0, 0, 1, 0, 0]), array([0, 0, 0, 0, 1, 0, 0]), array([0, 0, 0, 0, 1, 0, 0]), array([0, 0, 0, 0, 0, 0, 1]), array([0, 0, 0, 0, 1, 0, 0]), array([0, 0, 0, 0, 0, 0, 1]), array([0, 0, 0, 0, 1, 0, 0]), array([0, 0, 1, 0, 0, 0, 0]), array([0, 0, 1, 0, 0, 0, 0]), array([0, 0, 0, 0, 1, 0, 0]), array([0, 0, 0, 0, 1, 0, 0]), array([0, 0, 0, 0, 0, 0, 1]), array([0, 1, 0, 0, 0, 0, 0]), array([0, 0, 0, 0, 1, 0, 0]), array([0, 0, 0, 0, 1, 0, 0]), array([0, 0, 0, 0, 1, 0, 0]), array([0, 0, 0, 0, 1, 0, 0]), array([0, 0, 1, 0, 0, 0, 0]), array([0, 0, 0, 0, 1, 0, 0]), array([0, 0, 0, 0, 1, 0, 0]), array([0, 0, 1, 0, 0, 0, 0]), array([0, 0, 0, 0, 1, 0, 0]), array([0, 0, 0, 0, 1, 0, 0]), array([1, 0, 0, 0, 0, 0, 0]), array([0, 0, 0, 0, 1, 0, 0]), array([0, 0, 0, 0, 1, 0, 0]), array([0, 0, 1, 0, 0, 0, 0]), array([0, 0, 0, 0, 1, 0, 0]), array([0, 0, 0, 0, 1, 0, 0]), array([0, 0, 0, 0, 1, 0, 0]), array([0, 0, 0, 0, 1, 0, 0]), array([0, 0, 0, 0, 1, 0, 0]), array([0, 0, 0, 0, 1, 0, 0]), array([0, 0, 0, 0, 1, 0, 0]), array([0, 0, 0, 0, 0, 1, 0]), array([0, 0, 0, 0, 1, 0, 0]), array([0, 0, 0, 0, 1, 0, 0]), array([0, 0, 0, 0, 1, 0, 0]), array([0, 0, 0, 0, 1, 0, 0]), array([0, 0, 0, 0, 1, 0, 0]), array([0, 0, 0, 0, 1, 0, 0]), array([0, 0, 0, 0, 0, 0, 1]), array([0, 0, 0, 0, 1, 0, 0]), array([0, 0, 0, 0, 1, 0, 0]), array([0, 0, 1, 0, 0, 0, 0]), array([0, 0, 0, 0, 0, 0, 1]), array([0, 0, 0, 0, 1, 0, 0]), array([0, 0, 1, 0, 0, 0, 0]), array([0, 0, 1, 0, 0, 0, 0]), array([0, 0, 0, 0, 0, 0, 1]), array([1, 0, 0, 0, 0, 0, 0]), array([0, 0, 0, 0, 1, 0, 0]), array([0, 0, 0, 0, 1, 0, 0]), array([0, 0, 0, 0, 1, 0, 0]), array([0, 0, 0, 0, 1, 0, 0]), array([0, 0, 0, 0, 1, 0, 0]), array([0, 0, 0, 0, 1, 0, 0]), array([0, 0, 0, 0, 1, 0, 0]), array([0, 0, 0, 0, 1, 0, 0]), array([0, 0, 0, 0, 1, 0, 0]), array([1, 0, 0, 0, 0, 0, 0]), array([0, 0, 0, 0, 1, 0, 0]), array([0, 0, 0, 0, 1, 0, 0]), array([0, 0, 1, 0, 0, 0, 0]), array([0, 0, 1, 0, 0, 0, 0]), array([0, 0, 0, 0, 1, 0, 0]), array([0, 0, 0, 0, 0, 0, 1]), array([0, 0, 0, 0, 1, 0, 0]), array([0, 0, 0, 1, 0, 0, 0]), array([0, 0, 1, 0, 0, 0, 0]), array([0, 1, 0, 0, 0, 0, 0]), array([0, 0, 0, 0, 0, 0, 1]), array([0, 0, 0, 0, 0, 0, 1]), array([0, 0, 0, 0, 0, 0, 1]), array([0, 0, 0, 0, 0, 0, 1]), array([0, 0, 0, 0, 1, 0, 0]), array([0, 0, 0, 0, 1, 0, 0]), array([0, 1, 0, 0, 0, 0, 0]), array([0, 0, 0, 0, 1, 0, 0]), array([0, 0, 0, 0, 1, 0, 0]), array([0, 0, 0, 0, 1, 0, 0]), array([0, 0, 0, 0, 1, 0, 0]), array([0, 0, 0, 0, 1, 0, 0]), array([0, 0, 0, 0, 1, 0, 0]), array([0, 0, 1, 0, 0, 0, 0]), array([0, 0, 0, 0, 1, 0, 0]), array([0, 0, 1, 0, 0, 0, 0]), array([0, 0, 0, 0, 0, 0, 1]), array([0, 0, 0, 0, 1, 0, 0]), array([0, 0, 0, 0, 1, 0, 0]), array([0, 0, 1, 0, 0, 0, 0]), array([0, 0, 0, 0, 0, 0, 1]), array([0, 0, 0, 0, 1, 0, 0]), array([0, 0, 0, 0, 1, 0, 0]), array([0, 0, 0, 0, 1, 0, 0]), array([0, 0, 0, 0, 1, 0, 0]), array([0, 0, 0, 0, 1, 0, 0]), array([0, 0, 0, 0, 1, 0, 0]), array([0, 0, 0, 0, 0, 0, 1]), array([0, 0, 0, 0, 0, 1, 0]), array([0, 0, 0, 0, 1, 0, 0]), array([0, 0, 0, 0, 1, 0, 0]), array([0, 0, 0, 0, 1, 0, 0]), array([0, 0, 0, 0, 1, 0, 0]), array([0, 0, 0, 0, 1, 0, 0]), array([0, 0, 0, 0, 1, 0, 0]), array([0, 0, 0, 0, 1, 0, 0]), array([0, 0, 0, 0, 1, 0, 0]), array([0, 0, 0, 0, 1, 0, 0]), array([0, 0, 1, 0, 0, 0, 0]), array([0, 0, 0, 0, 1, 0, 0]), array([0, 0, 0, 0, 1, 0, 0]), array([0, 0, 0, 0, 1, 0, 0]), array([0, 0, 0, 0, 1, 0, 0]), array([0, 0, 0, 0, 1, 0, 0]), array([0, 0, 0, 0, 1, 0, 0]), array([0, 1, 0, 0, 0, 0, 0]), array([0, 0, 0, 0, 1, 0, 0]), array([0, 0, 0, 0, 1, 0, 0]), array([0, 0, 0, 0, 1, 0, 0]), array([0, 0, 0, 0, 1, 0, 0]), array([0, 0, 1, 0, 0, 0, 0]), array([0, 0, 0, 0, 0, 1, 0]), array([0, 0, 0, 0, 1, 0, 0]), array([0, 0, 0, 0, 1, 0, 0]), array([0, 0, 0, 0, 1, 0, 0]), array([0, 0, 0, 0, 0, 0, 1]), array([0, 0, 0, 0, 0, 0, 1]), array([0, 0, 0, 0, 0, 0, 1]), array([0, 0, 0, 0, 1, 0, 0]), array([0, 0, 0, 0, 0, 0, 1]), array([0, 0, 0, 0, 1, 0, 0]), array([0, 0, 0, 0, 1, 0, 0]), array([0, 0, 0, 0, 1, 0, 0]), array([0, 0, 0, 0, 1, 0, 0]), array([0, 0, 0, 0, 1, 0, 0]), array([1, 0, 0, 0, 0, 0, 0]), array([0, 0, 1, 0, 0, 0, 0]), array([0, 0, 0, 0, 1, 0, 0]), array([0, 0, 0, 0, 0, 0, 1]), array([0, 0, 0, 0, 1, 0, 0]), array([0, 1, 0, 0, 0, 0, 0]), array([0, 0, 0, 0, 0, 0, 1]), array([0, 0, 0, 0, 1, 0, 0]), array([0, 0, 0, 0, 1, 0, 0]), array([0, 0, 1, 0, 0, 0, 0]), array([0, 0, 0, 0, 1, 0, 0]), array([0, 0, 1, 0, 0, 0, 0]), array([0, 0, 0, 0, 1, 0, 0]), array([0, 0, 0, 0, 1, 0, 0]), array([0, 0, 0, 0, 1, 0, 0]), array([0, 0, 0, 0, 1, 0, 0]), array([0, 0, 0, 0, 1, 0, 0]), array([0, 0, 0, 0, 1, 0, 0]), array([0, 0, 0, 0, 0, 1, 0]), array([0, 1, 0, 0, 0, 0, 0]), array([0, 0, 0, 0, 1, 0, 0]), array([0, 0, 0, 0, 0, 0, 1]), array([0, 0, 1, 0, 0, 0, 0]), array([0, 0, 1, 0, 0, 0, 0]), array([0, 0, 0, 0, 1, 0, 0]), array([0, 0, 1, 0, 0, 0, 0]), array([0, 0, 0, 0, 1, 0, 0]), array([0, 0, 0, 0, 1, 0, 0]), array([0, 0, 0, 0, 1, 0, 0]), array([1, 0, 0, 0, 0, 0, 0]), array([0, 0, 0, 0, 1, 0, 0]), array([0, 0, 1, 0, 0, 0, 0]), array([0, 0, 0, 0, 1, 0, 0]), array([0, 0, 0, 0, 0, 0, 1]), array([0, 0, 0, 0, 0, 0, 1]), array([0, 0, 0, 0, 0, 1, 0]), array([0, 0, 0, 0, 1, 0, 0]), array([0, 0, 0, 0, 0, 0, 1]), array([0, 0, 0, 0, 1, 0, 0]), array([0, 0, 0, 0, 1, 0, 0]), array([0, 0, 0, 0, 0, 0, 1]), array([0, 0, 0, 0, 1, 0, 0]), array([0, 0, 0, 0, 1, 0, 0]), array([0, 0, 1, 0, 0, 0, 0]), array([0, 0, 1, 0, 0, 0, 0]), array([0, 0, 0, 0, 1, 0, 0]), array([0, 0, 1, 0, 0, 0, 0]), array([0, 0, 0, 0, 1, 0, 0]), array([0, 0, 1, 0, 0, 0, 0]), array([0, 0, 0, 0, 1, 0, 0]), array([0, 0, 0, 1, 0, 0, 0]), array([0, 0, 0, 0, 1, 0, 0]), array([0, 0, 0, 0, 1, 0, 0]), array([0, 0, 0, 0, 1, 0, 0]), array([0, 0, 1, 0, 0, 0, 0]), array([0, 0, 0, 0, 1, 0, 0]), array([0, 0, 0, 0, 1, 0, 0]), array([0, 0, 0, 0, 1, 0, 0]), array([0, 0, 0, 0, 1, 0, 0]), array([0, 0, 0, 0, 0, 0, 1]), array([0, 0, 0, 0, 1, 0, 0]), array([0, 0, 0, 0, 0, 0, 1]), array([0, 0, 0, 0, 1, 0, 0]), array([0, 0, 0, 0, 1, 0, 0]), array([0, 0, 0, 0, 1, 0, 0]), array([0, 1, 0, 0, 0, 0, 0]), array([0, 0, 1, 0, 0, 0, 0]), array([0, 0, 0, 0, 1, 0, 0]), array([0, 1, 0, 0, 0, 0, 0]), array([0, 0, 0, 0, 0, 0, 1]), array([0, 0, 0, 0, 1, 0, 0]), array([0, 1, 0, 0, 0, 0, 0]), array([0, 0, 0, 0, 1, 0, 0]), array([0, 0, 0, 0, 1, 0, 0]), array([0, 0, 0, 0, 1, 0, 0]), array([0, 0, 0, 0, 1, 0, 0]), array([0, 0, 0, 0, 0, 0, 1]), array([0, 0, 0, 0, 1, 0, 0]), array([0, 0, 0, 0, 1, 0, 0]), array([0, 1, 0, 0, 0, 0, 0]), array([0, 0, 0, 0, 1, 0, 0]), array([0, 0, 0, 0, 0, 0, 1]), array([0, 0, 0, 0, 1, 0, 0]), array([0, 0, 0, 0, 1, 0, 0]), array([0, 0, 0, 1, 0, 0, 0]), array([0, 0, 0, 0, 1, 0, 0]), array([0, 0, 1, 0, 0, 0, 0]), array([0, 0, 0, 0, 0, 0, 1]), array([0, 0, 0, 0, 1, 0, 0]), array([1, 0, 0, 0, 0, 0, 0]), array([0, 0, 0, 0, 0, 0, 1]), array([0, 0, 1, 0, 0, 0, 0]), array([0, 0, 0, 0, 1, 0, 0]), array([0, 0, 0, 0, 1, 0, 0]), array([0, 0, 0, 0, 1, 0, 0]), array([0, 0, 0, 0, 0, 0, 1]), array([0, 0, 0, 0, 1, 0, 0]), array([0, 0, 0, 0, 1, 0, 0]), array([0, 0, 0, 0, 1, 0, 0]), array([0, 0, 0, 0, 1, 0, 0]), array([0, 0, 0, 0, 1, 0, 0]), array([0, 0, 0, 0, 0, 0, 1]), array([0, 0, 0, 0, 1, 0, 0]), array([0, 0, 0, 0, 1, 0, 0]), array([0, 0, 0, 0, 1, 0, 0]), array([0, 0, 0, 0, 0, 0, 1]), array([0, 0, 0, 0, 0, 0, 1]), array([0, 0, 0, 0, 1, 0, 0]), array([0, 0, 0, 0, 1, 0, 0]), array([0, 0, 0, 0, 1, 0, 0]), array([1, 0, 0, 0, 0, 0, 0]), array([0, 0, 1, 0, 0, 0, 0]), array([0, 0, 0, 1, 0, 0, 0]), array([0, 0, 0, 0, 1, 0, 0]), array([0, 1, 0, 0, 0, 0, 0]), array([0, 0, 0, 0, 1, 0, 0]), array([0, 0, 1, 0, 0, 0, 0]), array([0, 0, 0, 0, 1, 0, 0]), array([1, 0, 0, 0, 0, 0, 0]), array([0, 0, 0, 0, 1, 0, 0]), array([0, 1, 0, 0, 0, 0, 0]), array([0, 0, 0, 0, 1, 0, 0]), array([0, 0, 0, 0, 1, 0, 0]), array([0, 0, 0, 0, 1, 0, 0]), array([0, 0, 0, 0, 1, 0, 0]), array([0, 0, 0, 0, 1, 0, 0]), array([0, 0, 0, 0, 1, 0, 0]), array([0, 0, 0, 0, 1, 0, 0]), array([0, 0, 1, 0, 0, 0, 0]), array([0, 0, 0, 0, 1, 0, 0]), array([0, 0, 0, 0, 1, 0, 0]), array([0, 0, 0, 0, 1, 0, 0]), array([0, 0, 1, 0, 0, 0, 0]), array([0, 0, 0, 0, 1, 0, 0]), array([0, 0, 1, 0, 0, 0, 0]), array([0, 0, 0, 0, 0, 0, 1]), array([0, 0, 0, 0, 1, 0, 0]), array([0, 0, 0, 0, 1, 0, 0]), array([1, 0, 0, 0, 0, 0, 0]), array([0, 0, 0, 0, 1, 0, 0]), array([0, 0, 0, 0, 1, 0, 0]), array([0, 0, 0, 0, 0, 0, 1]), array([0, 0, 0, 0, 1, 0, 0]), array([0, 0, 0, 0, 0, 0, 1]), array([0, 0, 0, 0, 1, 0, 0]), array([0, 0, 0, 0, 1, 0, 0]), array([0, 0, 0, 0, 1, 0, 0]), array([0, 0, 0, 0, 1, 0, 0]), array([0, 0, 0, 0, 1, 0, 0]), array([0, 0, 1, 0, 0, 0, 0]), array([0, 0, 0, 0, 0, 0, 1]), array([0, 0, 0, 0, 0, 0, 1]), array([0, 0, 0, 0, 0, 0, 1]), array([0, 0, 0, 0, 1, 0, 0]), array([0, 0, 0, 0, 1, 0, 0]), array([0, 0, 0, 0, 0, 0, 1]), array([0, 0, 0, 0, 1, 0, 0]), array([0, 0, 0, 0, 0, 0, 1]), array([0, 0, 0, 0, 1, 0, 0]), array([0, 0, 0, 0, 1, 0, 0]), array([0, 0, 0, 0, 0, 0, 1]), array([0, 0, 0, 0, 1, 0, 0]), array([0, 0, 0, 0, 1, 0, 0]), array([0, 0, 0, 0, 1, 0, 0]), array([0, 0, 0, 0, 1, 0, 0]), array([0, 0, 0, 0, 1, 0, 0]), array([0, 0, 1, 0, 0, 0, 0]), array([0, 0, 0, 0, 0, 0, 1]), array([0, 0, 0, 0, 1, 0, 0]), array([0, 0, 0, 0, 1, 0, 0]), array([0, 0, 1, 0, 0, 0, 0]), array([0, 0, 0, 0, 1, 0, 0]), array([0, 0, 0, 0, 0, 0, 1]), array([0, 1, 0, 0, 0, 0, 0]), array([0, 0, 0, 0, 1, 0, 0]), array([0, 0, 0, 0, 1, 0, 0]), array([0, 0, 1, 0, 0, 0, 0]), array([0, 0, 0, 0, 1, 0, 0]), array([0, 0, 1, 0, 0, 0, 0]), array([0, 0, 1, 0, 0, 0, 0]), array([0, 0, 0, 0, 1, 0, 0]), array([0, 0, 0, 0, 1, 0, 0]), array([0, 0, 0, 0, 0, 0, 1]), array([0, 0, 0, 0, 0, 0, 1]), array([0, 0, 0, 0, 0, 0, 1]), array([0, 0, 0, 0, 1, 0, 0]), array([0, 0, 0, 0, 1, 0, 0]), array([0, 0, 0, 0, 1, 0, 0]), array([0, 0, 1, 0, 0, 0, 0]), array([0, 0, 0, 0, 1, 0, 0]), array([0, 0, 1, 0, 0, 0, 0]), array([0, 0, 0, 0, 1, 0, 0]), array([0, 0, 0, 0, 1, 0, 0]), array([0, 0, 0, 0, 1, 0, 0]), array([0, 0, 0, 0, 1, 0, 0]), array([0, 0, 0, 0, 1, 0, 0]), array([1, 0, 0, 0, 0, 0, 0]), array([0, 0, 1, 0, 0, 0, 0]), array([0, 0, 0, 0, 0, 0, 1]), array([0, 0, 0, 0, 1, 0, 0]), array([0, 0, 0, 0, 1, 0, 0]), array([0, 0, 0, 0, 1, 0, 0]), array([0, 0, 0, 0, 1, 0, 0]), array([0, 0, 1, 0, 0, 0, 0]), array([0, 0, 0, 0, 1, 0, 0]), array([0, 0, 0, 0, 1, 0, 0]), array([0, 0, 0, 0, 1, 0, 0]), array([0, 0, 1, 0, 0, 0, 0]), array([0, 0, 0, 0, 0, 0, 1]), array([0, 0, 0, 0, 1, 0, 0]), array([0, 0, 1, 0, 0, 0, 0]), array([0, 0, 0, 0, 1, 0, 0]), array([0, 0, 1, 0, 0, 0, 0]), array([0, 0, 0, 0, 1, 0, 0]), array([0, 0, 0, 0, 0, 1, 0]), array([0, 0, 0, 0, 1, 0, 0]), array([0, 0, 0, 0, 0, 0, 1]), array([0, 0, 0, 0, 1, 0, 0]), array([0, 1, 0, 0, 0, 0, 0]), array([0, 0, 0, 0, 1, 0, 0]), array([0, 0, 0, 0, 1, 0, 0]), array([1, 0, 0, 0, 0, 0, 0]), array([0, 0, 0, 0, 0, 0, 1]), array([0, 0, 0, 0, 1, 0, 0]), array([0, 0, 0, 0, 1, 0, 0]), array([0, 0, 0, 0, 1, 0, 0]), array([0, 0, 0, 0, 1, 0, 0]), array([0, 0, 0, 0, 0, 0, 1]), array([0, 0, 0, 0, 0, 0, 1]), array([0, 0, 0, 0, 1, 0, 0]), array([1, 0, 0, 0, 0, 0, 0]), array([0, 0, 0, 0, 1, 0, 0]), array([0, 0, 0, 0, 1, 0, 0]), array([0, 0, 0, 0, 1, 0, 0]), array([0, 0, 0, 0, 0, 0, 1]), array([0, 0, 0, 0, 1, 0, 0]), array([0, 0, 0, 0, 1, 0, 0]), array([0, 0, 0, 0, 1, 0, 0]), array([0, 0, 0, 0, 1, 0, 0]), array([0, 0, 0, 0, 1, 0, 0]), array([0, 0, 0, 0, 1, 0, 0]), array([0, 0, 1, 0, 0, 0, 0]), array([0, 0, 0, 0, 1, 0, 0]), array([0, 0, 0, 0, 1, 0, 0]), array([0, 0, 0, 0, 1, 0, 0]), array([0, 0, 0, 0, 1, 0, 0]), array([0, 0, 0, 0, 1, 0, 0]), array([0, 0, 0, 0, 1, 0, 0]), array([0, 0, 0, 0, 1, 0, 0]), array([0, 0, 0, 0, 1, 0, 0]), array([0, 0, 0, 0, 1, 0, 0]), array([0, 0, 0, 0, 1, 0, 0]), array([0, 0, 1, 0, 0, 0, 0]), array([0, 0, 0, 0, 1, 0, 0]), array([0, 0, 0, 0, 1, 0, 0]), array([0, 0, 0, 1, 0, 0, 0]), array([0, 0, 0, 0, 1, 0, 0]), array([0, 1, 0, 0, 0, 0, 0]), array([0, 0, 0, 0, 1, 0, 0]), array([0, 0, 0, 0, 1, 0, 0]), array([0, 0, 0, 0, 1, 0, 0]), array([0, 0, 0, 0, 1, 0, 0]), array([0, 0, 0, 0, 1, 0, 0]), array([0, 0, 0, 0, 1, 0, 0]), array([0, 0, 0, 0, 1, 0, 0]), array([0, 0, 0, 0, 0, 0, 1]), array([0, 0, 0, 0, 1, 0, 0]), array([0, 0, 0, 0, 1, 0, 0]), array([0, 0, 0, 0, 1, 0, 0]), array([1, 0, 0, 0, 0, 0, 0]), array([0, 0, 0, 0, 1, 0, 0]), array([0, 0, 0, 0, 1, 0, 0]), array([0, 0, 0, 0, 1, 0, 0]), array([0, 0, 1, 0, 0, 0, 0]), array([0, 0, 0, 0, 1, 0, 0]), array([1, 0, 0, 0, 0, 0, 0]), array([0, 0, 0, 0, 1, 0, 0]), array([0, 0, 0, 0, 1, 0, 0]), array([0, 0, 0, 0, 0, 1, 0]), array([0, 0, 0, 0, 1, 0, 0]), array([0, 0, 0, 0, 1, 0, 0]), array([0, 0, 0, 0, 1, 0, 0]), array([0, 0, 0, 0, 1, 0, 0]), array([0, 0, 0, 0, 1, 0, 0]), array([0, 0, 0, 0, 1, 0, 0]), array([0, 0, 0, 0, 0, 0, 1]), array([0, 0, 1, 0, 0, 0, 0]), array([0, 0, 0, 0, 1, 0, 0]), array([0, 0, 0, 0, 1, 0, 0]), array([0, 0, 0, 0, 1, 0, 0]), array([0, 0, 0, 0, 1, 0, 0]), array([0, 0, 0, 0, 1, 0, 0]), array([0, 0, 0, 0, 1, 0, 0]), array([0, 0, 0, 0, 0, 0, 1]), array([0, 0, 0, 0, 1, 0, 0]), array([1, 0, 0, 0, 0, 0, 0]), array([0, 0, 0, 0, 1, 0, 0]), array([0, 0, 0, 0, 1, 0, 0]), array([0, 0, 0, 0, 1, 0, 0]), array([0, 0, 0, 0, 1, 0, 0]), array([0, 0, 0, 0, 1, 0, 0]), array([0, 0, 0, 0, 1, 0, 0]), array([0, 0, 0, 0, 1, 0, 0]), array([0, 0, 0, 0, 1, 0, 0]), array([0, 0, 0, 0, 1, 0, 0]), array([0, 0, 0, 0, 1, 0, 0]), array([0, 0, 0, 0, 1, 0, 0]), array([0, 0, 0, 0, 1, 0, 0]), array([0, 0, 1, 0, 0, 0, 0]), array([0, 0, 0, 0, 1, 0, 0]), array([0, 0, 0, 0, 1, 0, 0]), array([0, 0, 1, 0, 0, 0, 0]), array([0, 0, 0, 0, 1, 0, 0]), array([0, 0, 0, 0, 1, 0, 0]), array([0, 0, 0, 0, 1, 0, 0]), array([0, 0, 0, 0, 0, 0, 1]), array([1, 0, 0, 0, 0, 0, 0]), array([0, 0, 1, 0, 0, 0, 0]), array([0, 0, 0, 0, 0, 0, 1]), array([0, 0, 0, 0, 0, 0, 1]), array([0, 0, 0, 0, 1, 0, 0]), array([0, 0, 0, 0, 1, 0, 0]), array([0, 0, 0, 0, 1, 0, 0]), array([0, 0, 0, 0, 1, 0, 0]), array([0, 0, 0, 0, 1, 0, 0]), array([0, 0, 1, 0, 0, 0, 0]), array([0, 0, 0, 0, 1, 0, 0]), array([0, 0, 0, 0, 1, 0, 0]), array([0, 0, 0, 0, 1, 0, 0]), array([0, 0, 0, 0, 1, 0, 0]), array([0, 0, 0, 0, 1, 0, 0]), array([0, 0, 0, 0, 1, 0, 0]), array([0, 0, 1, 0, 0, 0, 0]), array([0, 0, 0, 0, 1, 0, 0]), array([0, 1, 0, 0, 0, 0, 0]), array([0, 0, 0, 0, 1, 0, 0]), array([0, 0, 0, 0, 1, 0, 0]), array([0, 0, 0, 0, 1, 0, 0]), array([0, 0, 0, 0, 0, 0, 1]), array([0, 0, 1, 0, 0, 0, 0]), array([0, 0, 0, 0, 1, 0, 0]), array([0, 0, 1, 0, 0, 0, 0]), array([0, 0, 0, 0, 1, 0, 0]), array([0, 0, 0, 0, 1, 0, 0]), array([0, 0, 0, 0, 1, 0, 0]), array([0, 0, 0, 0, 1, 0, 0]), array([0, 0, 0, 0, 1, 0, 0]), array([0, 0, 0, 0, 1, 0, 0]), array([0, 0, 0, 0, 1, 0, 0]), array([0, 0, 0, 0, 1, 0, 0]), array([0, 0, 0, 0, 1, 0, 0]), array([0, 0, 0, 0, 1, 0, 0]), array([0, 0, 0, 0, 1, 0, 0]), array([0, 0, 0, 0, 1, 0, 0]), array([0, 0, 0, 0, 1, 0, 0]), array([0, 0, 0, 0, 0, 0, 1]), array([0, 0, 0, 0, 1, 0, 0]), array([0, 0, 0, 0, 1, 0, 0]), array([0, 0, 0, 0, 1, 0, 0]), array([0, 0, 0, 0, 1, 0, 0]), array([0, 0, 1, 0, 0, 0, 0]), array([0, 0, 0, 0, 1, 0, 0]), array([0, 0, 0, 0, 1, 0, 0]), array([0, 0, 0, 0, 1, 0, 0]), array([0, 0, 0, 0, 1, 0, 0]), array([0, 0, 0, 0, 0, 0, 1]), array([0, 0, 1, 0, 0, 0, 0]), array([0, 0, 0, 0, 0, 0, 1]), array([0, 0, 0, 0, 1, 0, 0]), array([0, 0, 0, 0, 0, 0, 1]), array([0, 0, 0, 0, 1, 0, 0]), array([0, 0, 0, 1, 0, 0, 0]), array([0, 0, 0, 0, 1, 0, 0]), array([1, 0, 0, 0, 0, 0, 0]), array([0, 0, 0, 0, 0, 0, 1]), array([0, 0, 0, 0, 1, 0, 0]), array([0, 1, 0, 0, 0, 0, 0]), array([0, 0, 0, 0, 1, 0, 0]), array([0, 0, 0, 0, 1, 0, 0]), array([0, 0, 0, 0, 1, 0, 0]), array([0, 0, 0, 0, 1, 0, 0]), array([0, 0, 0, 0, 1, 0, 0]), array([1, 0, 0, 0, 0, 0, 0]), array([0, 0, 0, 0, 1, 0, 0]), array([1, 0, 0, 0, 0, 0, 0]), array([0, 0, 1, 0, 0, 0, 0]), array([0, 0, 0, 0, 1, 0, 0]), array([0, 0, 0, 0, 1, 0, 0]), array([0, 0, 0, 0, 1, 0, 0]), array([0, 0, 1, 0, 0, 0, 0]), array([0, 0, 0, 0, 1, 0, 0]), array([0, 0, 0, 0, 1, 0, 0]), array([0, 0, 1, 0, 0, 0, 0]), array([0, 0, 0, 0, 1, 0, 0]), array([0, 0, 0, 0, 1, 0, 0]), array([0, 0, 0, 0, 1, 0, 0]), array([0, 0, 0, 0, 1, 0, 0]), array([0, 0, 1, 0, 0, 0, 0]), array([0, 0, 1, 0, 0, 0, 0]), array([0, 1, 0, 0, 0, 0, 0]), array([0, 0, 0, 0, 1, 0, 0]), array([0, 0, 1, 0, 0, 0, 0]), array([0, 0, 0, 0, 1, 0, 0]), array([0, 0, 0, 0, 0, 0, 1]), array([0, 1, 0, 0, 0, 0, 0]), array([0, 0, 0, 0, 1, 0, 0]), array([0, 0, 0, 0, 1, 0, 0]), array([0, 0, 0, 0, 1, 0, 0]), array([0, 0, 0, 0, 0, 0, 1]), array([0, 0, 0, 0, 1, 0, 0]), array([0, 0, 0, 0, 0, 0, 1]), array([0, 0, 1, 0, 0, 0, 0]), array([0, 0, 0, 0, 0, 0, 1]), array([0, 0, 0, 0, 1, 0, 0]), array([0, 0, 0, 0, 1, 0, 0]), array([0, 0, 0, 0, 1, 0, 0]), array([0, 0, 0, 0, 1, 0, 0]), array([0, 0, 0, 0, 1, 0, 0]), array([0, 0, 0, 0, 1, 0, 0]), array([0, 0, 1, 0, 0, 0, 0]), array([0, 0, 1, 0, 0, 0, 0]), array([1, 0, 0, 0, 0, 0, 0]), array([0, 0, 0, 0, 0, 1, 0]), array([0, 1, 0, 0, 0, 0, 0]), array([0, 0, 0, 0, 1, 0, 0]), array([0, 1, 0, 0, 0, 0, 0]), array([0, 0, 0, 0, 1, 0, 0]), array([0, 0, 1, 0, 0, 0, 0]), array([0, 0, 0, 0, 1, 0, 0]), array([0, 0, 0, 0, 1, 0, 0]), array([1, 0, 0, 0, 0, 0, 0]), array([0, 0, 0, 0, 1, 0, 0]), array([0, 0, 0, 0, 0, 0, 1]), array([0, 0, 0, 0, 1, 0, 0]), array([0, 0, 0, 0, 1, 0, 0]), array([0, 0, 0, 0, 1, 0, 0]), array([0, 0, 0, 0, 1, 0, 0]), array([0, 0, 0, 0, 1, 0, 0]), array([0, 0, 0, 0, 1, 0, 0]), array([0, 0, 0, 0, 0, 0, 1]), array([0, 0, 0, 0, 1, 0, 0]), array([0, 0, 0, 0, 1, 0, 0]), array([0, 0, 0, 0, 0, 0, 1]), array([0, 0, 0, 0, 1, 0, 0]), array([0, 0, 0, 0, 0, 1, 0]), array([0, 0, 0, 0, 0, 0, 1]), array([0, 0, 0, 0, 1, 0, 0]), array([0, 0, 0, 0, 0, 0, 1]), array([0, 0, 0, 0, 1, 0, 0]), array([0, 0, 0, 0, 0, 0, 1]), array([0, 0, 0, 0, 1, 0, 0]), array([0, 0, 0, 0, 1, 0, 0]), array([0, 1, 0, 0, 0, 0, 0]), array([0, 0, 1, 0, 0, 0, 0]), array([0, 0, 0, 0, 1, 0, 0]), array([0, 0, 0, 0, 0, 0, 1]), array([0, 0, 0, 0, 1, 0, 0]), array([0, 0, 0, 0, 1, 0, 0]), array([0, 0, 0, 0, 1, 0, 0]), array([0, 1, 0, 0, 0, 0, 0]), array([1, 0, 0, 0, 0, 0, 0]), array([0, 0, 0, 0, 1, 0, 0]), array([0, 0, 0, 0, 0, 0, 1]), array([0, 0, 1, 0, 0, 0, 0]), array([0, 0, 0, 0, 0, 0, 1]), array([0, 0, 0, 0, 1, 0, 0]), array([0, 0, 0, 0, 0, 0, 1]), array([0, 0, 1, 0, 0, 0, 0]), array([0, 0, 0, 0, 1, 0, 0]), array([0, 0, 0, 0, 1, 0, 0]), array([0, 0, 1, 0, 0, 0, 0]), array([0, 0, 1, 0, 0, 0, 0]), array([0, 0, 0, 0, 1, 0, 0]), array([0, 0, 0, 0, 1, 0, 0]), array([0, 0, 0, 0, 0, 0, 1]), array([1, 0, 0, 0, 0, 0, 0]), array([0, 0, 0, 0, 1, 0, 0]), array([0, 1, 0, 0, 0, 0, 0]), array([0, 0, 0, 0, 1, 0, 0]), array([0, 0, 0, 0, 0, 0, 1]), array([0, 0, 0, 0, 1, 0, 0]), array([0, 0, 0, 0, 1, 0, 0]), array([0, 0, 0, 0, 0, 0, 1]), array([0, 0, 0, 0, 1, 0, 0]), array([0, 0, 0, 0, 0, 0, 1]), array([0, 0, 0, 0, 1, 0, 0]), array([0, 0, 1, 0, 0, 0, 0]), array([0, 0, 1, 0, 0, 0, 0]), array([1, 0, 0, 0, 0, 0, 0]), array([0, 0, 0, 0, 0, 0, 1]), array([0, 0, 0, 0, 1, 0, 0]), array([0, 0, 0, 0, 1, 0, 0]), array([0, 0, 0, 0, 1, 0, 0]), array([0, 0, 0, 0, 1, 0, 0]), array([0, 0, 0, 0, 1, 0, 0]), array([0, 0, 0, 0, 0, 0, 1]), array([0, 0, 0, 0, 1, 0, 0]), array([0, 0, 0, 0, 1, 0, 0]), array([0, 0, 0, 0, 1, 0, 0]), array([0, 0, 0, 0, 1, 0, 0]), array([0, 0, 0, 0, 1, 0, 0]), array([0, 0, 0, 0, 1, 0, 0]), array([0, 0, 0, 0, 0, 0, 1]), array([0, 0, 0, 0, 0, 1, 0]), array([0, 0, 0, 0, 1, 0, 0]), array([0, 0, 0, 0, 1, 0, 0]), array([0, 0, 0, 0, 1, 0, 0]), array([0, 0, 1, 0, 0, 0, 0]), array([0, 0, 0, 0, 1, 0, 0]), array([0, 0, 0, 0, 1, 0, 0]), array([0, 0, 0, 0, 1, 0, 0]), array([0, 0, 0, 0, 1, 0, 0]), array([0, 0, 0, 0, 1, 0, 0]), array([0, 0, 0, 0, 1, 0, 0]), array([0, 0, 0, 0, 1, 0, 0]), array([0, 0, 0, 0, 0, 0, 1]), array([0, 0, 1, 0, 0, 0, 0]), array([0, 0, 0, 0, 1, 0, 0]), array([0, 0, 0, 0, 1, 0, 0]), array([0, 0, 0, 0, 0, 0, 1]), array([0, 0, 0, 0, 1, 0, 0]), array([0, 0, 0, 0, 1, 0, 0]), array([0, 0, 0, 0, 1, 0, 0]), array([0, 0, 0, 0, 0, 0, 1]), array([0, 0, 0, 0, 1, 0, 0]), array([0, 0, 0, 1, 0, 0, 0]), array([0, 0, 0, 0, 1, 0, 0]), array([0, 0, 0, 0, 1, 0, 0]), array([0, 0, 1, 0, 0, 0, 0]), array([0, 0, 0, 0, 1, 0, 0]), array([0, 1, 0, 0, 0, 0, 0]), array([0, 0, 0, 0, 1, 0, 0]), array([0, 0, 1, 0, 0, 0, 0]), array([0, 0, 0, 0, 0, 0, 1]), array([0, 0, 0, 0, 1, 0, 0]), array([0, 0, 1, 0, 0, 0, 0]), array([0, 0, 0, 0, 0, 0, 1]), array([0, 0, 0, 0, 1, 0, 0]), array([0, 1, 0, 0, 0, 0, 0]), array([0, 0, 0, 0, 1, 0, 0]), array([0, 0, 0, 0, 1, 0, 0]), array([0, 0, 0, 0, 1, 0, 0]), array([0, 0, 0, 0, 1, 0, 0]), array([0, 0, 1, 0, 0, 0, 0]), array([0, 0, 0, 0, 1, 0, 0]), array([0, 0, 1, 0, 0, 0, 0]), array([0, 0, 0, 0, 1, 0, 0]), array([0, 0, 0, 0, 1, 0, 0]), array([0, 0, 1, 0, 0, 0, 0]), array([0, 0, 0, 0, 1, 0, 0]), array([0, 0, 0, 0, 1, 0, 0]), array([0, 0, 0, 0, 1, 0, 0]), array([0, 0, 0, 0, 1, 0, 0]), array([0, 0, 0, 0, 1, 0, 0]), array([0, 0, 0, 0, 1, 0, 0]), array([0, 0, 0, 0, 1, 0, 0]), array([0, 0, 0, 0, 1, 0, 0]), array([0, 1, 0, 0, 0, 0, 0]), array([0, 0, 0, 0, 0, 0, 1]), array([0, 1, 0, 0, 0, 0, 0]), array([0, 0, 0, 0, 1, 0, 0]), array([0, 0, 0, 0, 1, 0, 0]), array([0, 0, 0, 0, 1, 0, 0]), array([0, 0, 1, 0, 0, 0, 0]), array([0, 0, 0, 0, 1, 0, 0]), array([0, 0, 0, 0, 1, 0, 0]), array([0, 0, 0, 0, 1, 0, 0]), array([0, 0, 0, 0, 1, 0, 0]), array([0, 0, 0, 0, 1, 0, 0]), array([0, 0, 1, 0, 0, 0, 0]), array([0, 0, 0, 0, 1, 0, 0]), array([0, 0, 0, 0, 1, 0, 0]), array([0, 0, 0, 0, 1, 0, 0]), array([0, 0, 1, 0, 0, 0, 0]), array([0, 0, 0, 0, 1, 0, 0]), array([0, 0, 0, 0, 1, 0, 0]), array([0, 0, 0, 0, 1, 0, 0]), array([0, 0, 0, 0, 1, 0, 0]), array([0, 0, 0, 0, 1, 0, 0]), array([0, 0, 0, 0, 0, 0, 1]), array([0, 0, 0, 0, 1, 0, 0]), array([0, 0, 0, 0, 1, 0, 0]), array([0, 0, 0, 0, 1, 0, 0]), array([0, 0, 0, 0, 1, 0, 0]), array([0, 0, 0, 0, 0, 0, 1]), array([0, 0, 0, 0, 1, 0, 0]), array([0, 0, 0, 0, 1, 0, 0]), array([0, 0, 0, 0, 1, 0, 0]), array([0, 0, 0, 0, 1, 0, 0]), array([0, 0, 0, 0, 1, 0, 0]), array([0, 0, 0, 0, 0, 0, 1]), array([0, 0, 0, 0, 1, 0, 0]), array([0, 0, 0, 0, 1, 0, 0]), array([0, 1, 0, 0, 0, 0, 0]), array([0, 0, 0, 0, 1, 0, 0]), array([0, 0, 1, 0, 0, 0, 0]), array([0, 0, 0, 0, 1, 0, 0]), array([0, 0, 0, 0, 1, 0, 0]), array([0, 0, 1, 0, 0, 0, 0]), array([0, 0, 0, 0, 1, 0, 0]), array([0, 0, 0, 0, 1, 0, 0]), array([0, 0, 0, 0, 1, 0, 0]), array([0, 0, 1, 0, 0, 0, 0]), array([0, 0, 0, 0, 1, 0, 0]), array([1, 0, 0, 0, 0, 0, 0]), array([1, 0, 0, 0, 0, 0, 0]), array([0, 0, 0, 0, 1, 0, 0]), array([0, 0, 0, 0, 0, 0, 1]), array([0, 0, 0, 0, 1, 0, 0]), array([0, 0, 0, 0, 1, 0, 0]), array([0, 0, 0, 0, 1, 0, 0]), array([0, 1, 0, 0, 0, 0, 0]), array([0, 0, 0, 0, 1, 0, 0]), array([1, 0, 0, 0, 0, 0, 0]), array([0, 0, 1, 0, 0, 0, 0]), array([0, 0, 0, 0, 1, 0, 0]), array([0, 0, 0, 0, 0, 0, 1]), array([0, 0, 0, 0, 1, 0, 0]), array([0, 0, 0, 0, 1, 0, 0]), array([0, 0, 0, 0, 0, 0, 1]), array([0, 0, 1, 0, 0, 0, 0]), array([0, 0, 0, 0, 1, 0, 0]), array([0, 0, 1, 0, 0, 0, 0]), array([0, 0, 0, 0, 1, 0, 0]), array([0, 0, 0, 0, 1, 0, 0]), array([0, 0, 0, 0, 1, 0, 0]), array([0, 0, 1, 0, 0, 0, 0]), array([0, 0, 0, 0, 0, 0, 1]), array([0, 0, 0, 0, 1, 0, 0]), array([0, 0, 0, 0, 1, 0, 0]), array([0, 0, 0, 0, 1, 0, 0]), array([0, 0, 0, 0, 1, 0, 0]), array([0, 1, 0, 0, 0, 0, 0]), array([0, 0, 0, 0, 0, 0, 1]), array([0, 0, 0, 0, 0, 1, 0]), array([0, 0, 0, 0, 1, 0, 0]), array([0, 0, 0, 0, 1, 0, 0]), array([0, 0, 0, 0, 1, 0, 0]), array([0, 0, 0, 0, 1, 0, 0]), array([0, 0, 0, 0, 1, 0, 0]), array([0, 0, 0, 0, 1, 0, 0]), array([0, 0, 1, 0, 0, 0, 0]), array([0, 0, 0, 0, 1, 0, 0]), array([0, 1, 0, 0, 0, 0, 0]), array([0, 1, 0, 0, 0, 0, 0]), array([0, 1, 0, 0, 0, 0, 0]), array([0, 0, 0, 0, 1, 0, 0]), array([0, 0, 0, 0, 1, 0, 0]), array([0, 0, 1, 0, 0, 0, 0]), array([0, 0, 0, 0, 1, 0, 0]), array([0, 0, 1, 0, 0, 0, 0]), array([0, 0, 0, 0, 1, 0, 0]), array([0, 0, 1, 0, 0, 0, 0]), array([0, 0, 0, 0, 1, 0, 0]), array([0, 0, 0, 0, 1, 0, 0]), array([0, 0, 0, 0, 0, 0, 1]), array([0, 0, 0, 0, 1, 0, 0]), array([0, 0, 0, 0, 1, 0, 0]), array([0, 0, 0, 0, 0, 0, 1]), array([0, 0, 0, 0, 1, 0, 0]), array([0, 0, 0, 0, 1, 0, 0]), array([0, 0, 0, 0, 1, 0, 0]), array([0, 0, 0, 0, 1, 0, 0]), array([0, 0, 0, 0, 1, 0, 0]), array([0, 0, 0, 0, 1, 0, 0]), array([0, 0, 0, 0, 1, 0, 0]), array([0, 0, 0, 0, 1, 0, 0]), array([0, 0, 0, 0, 1, 0, 0]), array([0, 0, 0, 0, 1, 0, 0]), array([0, 0, 0, 0, 1, 0, 0]), array([0, 0, 0, 0, 1, 0, 0]), array([0, 1, 0, 0, 0, 0, 0]), array([0, 0, 0, 0, 0, 0, 1]), array([0, 0, 1, 0, 0, 0, 0]), array([0, 0, 0, 0, 0, 0, 1]), array([0, 0, 0, 0, 1, 0, 0]), array([0, 0, 0, 0, 1, 0, 0]), array([0, 0, 0, 0, 1, 0, 0]), array([0, 0, 1, 0, 0, 0, 0]), array([0, 0, 0, 0, 1, 0, 0]), array([0, 0, 0, 0, 0, 0, 1]), array([0, 0, 1, 0, 0, 0, 0]), array([0, 0, 0, 0, 1, 0, 0]), array([0, 0, 0, 0, 1, 0, 0]), array([0, 0, 0, 0, 1, 0, 0]), array([0, 0, 0, 0, 1, 0, 0]), array([0, 0, 0, 0, 1, 0, 0]), array([0, 0, 0, 0, 1, 0, 0]), array([0, 0, 1, 0, 0, 0, 0]), array([0, 0, 0, 0, 1, 0, 0]), array([0, 0, 0, 0, 0, 0, 1]), array([0, 1, 0, 0, 0, 0, 0]), array([0, 0, 0, 0, 1, 0, 0]), array([0, 0, 0, 0, 1, 0, 0]), array([0, 1, 0, 0, 0, 0, 0]), array([0, 1, 0, 0, 0, 0, 0]), array([0, 0, 0, 0, 1, 0, 0]), array([0, 0, 0, 0, 1, 0, 0]), array([0, 0, 0, 0, 1, 0, 0]), array([0, 0, 0, 0, 1, 0, 0]), array([0, 0, 0, 0, 1, 0, 0]), array([0, 0, 0, 0, 1, 0, 0]), array([0, 0, 0, 0, 1, 0, 0]), array([0, 0, 0, 0, 0, 0, 1]), array([0, 0, 0, 0, 1, 0, 0]), array([0, 0, 0, 0, 1, 0, 0]), array([0, 0, 0, 0, 1, 0, 0]), array([0, 0, 0, 0, 1, 0, 0]), array([0, 0, 0, 0, 1, 0, 0]), array([0, 0, 0, 0, 1, 0, 0]), array([0, 0, 0, 0, 1, 0, 0]), array([0, 0, 0, 0, 1, 0, 0]), array([0, 0, 0, 0, 0, 0, 1]), array([0, 0, 0, 0, 1, 0, 0]), array([0, 0, 0, 0, 1, 0, 0]), array([0, 0, 0, 0, 0, 1, 0]), array([0, 0, 0, 0, 1, 0, 0]), array([0, 0, 0, 0, 1, 0, 0]), array([0, 0, 0, 0, 1, 0, 0]), array([0, 0, 1, 0, 0, 0, 0]), array([0, 0, 0, 0, 1, 0, 0]), array([0, 1, 0, 0, 0, 0, 0]), array([0, 0, 0, 0, 1, 0, 0]), array([0, 0, 0, 0, 1, 0, 0]), array([0, 0, 0, 0, 1, 0, 0]), array([0, 1, 0, 0, 0, 0, 0]), array([0, 0, 0, 0, 1, 0, 0]), array([0, 0, 0, 0, 0, 0, 1]), array([0, 0, 0, 0, 0, 0, 1]), array([0, 1, 0, 0, 0, 0, 0]), array([0, 0, 0, 0, 0, 0, 1]), array([0, 0, 0, 0, 1, 0, 0]), array([0, 0, 0, 0, 1, 0, 0]), array([0, 0, 0, 0, 1, 0, 0]), array([0, 0, 0, 0, 0, 0, 1]), array([0, 0, 0, 0, 1, 0, 0]), array([0, 0, 0, 0, 1, 0, 0]), array([1, 0, 0, 0, 0, 0, 0]), array([0, 0, 1, 0, 0, 0, 0]), array([0, 0, 0, 0, 1, 0, 0]), array([0, 0, 0, 0, 0, 0, 1]), array([0, 0, 1, 0, 0, 0, 0]), array([0, 0, 0, 0, 1, 0, 0]), array([1, 0, 0, 0, 0, 0, 0]), array([0, 0, 0, 0, 1, 0, 0]), array([0, 0, 0, 0, 1, 0, 0]), array([0, 0, 0, 0, 1, 0, 0]), array([0, 1, 0, 0, 0, 0, 0]), array([0, 0, 0, 0, 1, 0, 0]), array([0, 0, 0, 0, 0, 1, 0]), array([0, 0, 0, 0, 1, 0, 0]), array([0, 0, 1, 0, 0, 0, 0]), array([0, 1, 0, 0, 0, 0, 0]), array([1, 0, 0, 0, 0, 0, 0]), array([0, 1, 0, 0, 0, 0, 0]), array([0, 0, 0, 0, 0, 0, 1]), array([0, 0, 0, 0, 1, 0, 0]), array([0, 0, 0, 0, 1, 0, 0]), array([0, 0, 0, 0, 0, 0, 1]), array([0, 1, 0, 0, 0, 0, 0]), array([0, 0, 0, 0, 1, 0, 0]), array([0, 0, 1, 0, 0, 0, 0]), array([0, 0, 0, 0, 1, 0, 0]), array([0, 0, 0, 0, 1, 0, 0]), array([0, 0, 0, 0, 1, 0, 0]), array([0, 0, 0, 0, 0, 0, 1]), array([0, 0, 0, 0, 1, 0, 0]), array([0, 0, 0, 0, 1, 0, 0]), array([0, 0, 1, 0, 0, 0, 0]), array([0, 0, 0, 0, 0, 0, 1]), array([1, 0, 0, 0, 0, 0, 0]), array([0, 0, 0, 0, 0, 0, 1]), array([0, 0, 0, 0, 1, 0, 0]), array([0, 1, 0, 0, 0, 0, 0]), array([0, 0, 0, 0, 1, 0, 0]), array([0, 0, 0, 0, 1, 0, 0]), array([0, 1, 0, 0, 0, 0, 0]), array([0, 0, 0, 0, 1, 0, 0]), array([0, 0, 0, 0, 1, 0, 0]), array([0, 0, 0, 0, 1, 0, 0]), array([0, 0, 1, 0, 0, 0, 0]), array([0, 0, 0, 0, 0, 0, 1]), array([0, 0, 0, 0, 1, 0, 0]), array([0, 0, 0, 0, 1, 0, 0]), array([0, 0, 0, 0, 1, 0, 0]), array([0, 0, 0, 0, 1, 0, 0]), array([0, 1, 0, 0, 0, 0, 0]), array([0, 0, 0, 0, 1, 0, 0]), array([0, 0, 0, 0, 1, 0, 0]), array([0, 0, 0, 0, 1, 0, 0]), array([0, 0, 0, 0, 1, 0, 0]), array([0, 0, 0, 0, 1, 0, 0]), array([0, 0, 0, 0, 1, 0, 0]), array([0, 0, 0, 0, 1, 0, 0]), array([0, 0, 0, 0, 1, 0, 0]), array([0, 0, 1, 0, 0, 0, 0]), array([0, 1, 0, 0, 0, 0, 0]), array([0, 0, 1, 0, 0, 0, 0]), array([0, 0, 0, 0, 1, 0, 0]), array([0, 0, 0, 0, 1, 0, 0]), array([0, 0, 1, 0, 0, 0, 0]), array([0, 1, 0, 0, 0, 0, 0]), array([0, 0, 0, 0, 1, 0, 0]), array([0, 1, 0, 0, 0, 0, 0]), array([0, 0, 0, 0, 1, 0, 0]), array([0, 0, 0, 0, 1, 0, 0]), array([0, 0, 0, 0, 1, 0, 0]), array([0, 0, 0, 0, 1, 0, 0]), array([0, 0, 0, 0, 1, 0, 0]), array([0, 0, 0, 0, 1, 0, 0]), array([0, 0, 0, 0, 1, 0, 0]), array([0, 0, 0, 0, 1, 0, 0]), array([0, 1, 0, 0, 0, 0, 0]), array([1, 0, 0, 0, 0, 0, 0]), array([0, 0, 0, 0, 1, 0, 0]), array([0, 0, 0, 0, 1, 0, 0]), array([0, 0, 0, 0, 0, 0, 1]), array([0, 0, 0, 0, 1, 0, 0]), array([0, 0, 0, 0, 1, 0, 0]), array([0, 0, 0, 0, 1, 0, 0]), array([0, 1, 0, 0, 0, 0, 0]), array([0, 0, 0, 0, 1, 0, 0]), array([1, 0, 0, 0, 0, 0, 0]), array([0, 0, 0, 0, 1, 0, 0]), array([0, 0, 1, 0, 0, 0, 0]), array([0, 0, 0, 0, 1, 0, 0]), array([0, 0, 0, 0, 1, 0, 0]), array([0, 0, 0, 0, 1, 0, 0]), array([0, 0, 0, 0, 1, 0, 0]), array([1, 0, 0, 0, 0, 0, 0]), array([1, 0, 0, 0, 0, 0, 0]), array([0, 0, 0, 0, 1, 0, 0]), array([0, 0, 0, 0, 1, 0, 0]), array([0, 0, 0, 0, 1, 0, 0]), array([0, 0, 0, 0, 1, 0, 0]), array([0, 1, 0, 0, 0, 0, 0]), array([0, 0, 0, 0, 0, 0, 1]), array([0, 0, 0, 0, 1, 0, 0]), array([0, 0, 0, 0, 1, 0, 0]), array([0, 0, 0, 0, 1, 0, 0]), array([0, 1, 0, 0, 0, 0, 0]), array([0, 0, 1, 0, 0, 0, 0]), array([0, 0, 1, 0, 0, 0, 0]), array([0, 0, 0, 0, 1, 0, 0]), array([0, 0, 0, 0, 0, 0, 1]), array([0, 0, 0, 0, 1, 0, 0]), array([0, 0, 0, 0, 1, 0, 0]), array([0, 0, 1, 0, 0, 0, 0]), array([0, 0, 0, 0, 1, 0, 0]), array([0, 0, 0, 0, 1, 0, 0]), array([0, 0, 0, 0, 1, 0, 0]), array([0, 0, 0, 0, 1, 0, 0]), array([0, 0, 0, 0, 1, 0, 0]), array([0, 0, 0, 0, 1, 0, 0]), array([0, 0, 0, 0, 1, 0, 0]), array([0, 0, 0, 0, 1, 0, 0]), array([0, 1, 0, 0, 0, 0, 0]), array([0, 0, 1, 0, 0, 0, 0]), array([0, 1, 0, 0, 0, 0, 0]), array([0, 0, 0, 0, 0, 0, 1]), array([0, 0, 0, 0, 1, 0, 0]), array([0, 0, 0, 0, 1, 0, 0]), array([0, 0, 0, 0, 1, 0, 0]), array([0, 0, 0, 0, 0, 0, 1]), array([1, 0, 0, 0, 0, 0, 0]), array([0, 0, 0, 0, 1, 0, 0]), array([0, 0, 0, 0, 1, 0, 0]), array([0, 0, 0, 0, 0, 1, 0]), array([0, 0, 0, 0, 1, 0, 0]), array([0, 0, 0, 0, 1, 0, 0]), array([0, 0, 0, 0, 1, 0, 0]), array([0, 1, 0, 0, 0, 0, 0]), array([0, 0, 1, 0, 0, 0, 0]), array([0, 0, 1, 0, 0, 0, 0]), array([0, 0, 0, 0, 1, 0, 0]), array([0, 0, 0, 0, 1, 0, 0]), array([0, 0, 0, 0, 1, 0, 0]), array([0, 0, 0, 0, 1, 0, 0]), array([0, 0, 0, 0, 0, 0, 1]), array([0, 0, 0, 0, 1, 0, 0]), array([0, 0, 0, 0, 1, 0, 0]), array([0, 0, 0, 0, 1, 0, 0]), array([0, 0, 0, 0, 1, 0, 0]), array([0, 0, 0, 0, 1, 0, 0]), array([0, 1, 0, 0, 0, 0, 0]), array([0, 0, 0, 0, 1, 0, 0]), array([0, 1, 0, 0, 0, 0, 0]), array([0, 0, 0, 0, 1, 0, 0]), array([0, 0, 0, 0, 1, 0, 0]), array([0, 0, 1, 0, 0, 0, 0]), array([0, 0, 0, 0, 1, 0, 0]), array([0, 0, 0, 0, 1, 0, 0]), array([0, 0, 0, 0, 1, 0, 0]), array([0, 0, 0, 0, 1, 0, 0]), array([0, 0, 0, 0, 1, 0, 0]), array([0, 0, 0, 0, 1, 0, 0]), array([0, 0, 0, 0, 1, 0, 0]), array([0, 0, 0, 0, 1, 0, 0]), array([0, 0, 0, 0, 1, 0, 0]), array([0, 0, 0, 0, 1, 0, 0]), array([0, 0, 0, 0, 1, 0, 0]), array([0, 0, 1, 0, 0, 0, 0]), array([0, 0, 0, 0, 1, 0, 0]), array([1, 0, 0, 0, 0, 0, 0]), array([0, 0, 0, 0, 1, 0, 0]), array([0, 0, 0, 0, 1, 0, 0]), array([0, 1, 0, 0, 0, 0, 0]), array([0, 0, 0, 0, 1, 0, 0]), array([0, 0, 0, 0, 1, 0, 0]), array([0, 0, 0, 0, 1, 0, 0]), array([0, 0, 0, 0, 1, 0, 0]), array([0, 0, 0, 0, 0, 0, 1]), array([0, 0, 0, 0, 1, 0, 0]), array([0, 0, 0, 0, 1, 0, 0]), array([0, 0, 1, 0, 0, 0, 0]), array([0, 0, 0, 0, 1, 0, 0]), array([0, 0, 0, 0, 1, 0, 0]), array([0, 0, 0, 0, 1, 0, 0]), array([0, 0, 0, 0, 0, 0, 1]), array([0, 0, 0, 0, 0, 1, 0]), array([0, 0, 0, 0, 1, 0, 0]), array([0, 1, 0, 0, 0, 0, 0]), array([0, 0, 0, 0, 1, 0, 0]), array([0, 0, 0, 0, 1, 0, 0]), array([0, 0, 0, 0, 1, 0, 0]), array([0, 0, 0, 0, 1, 0, 0]), array([0, 0, 0, 0, 1, 0, 0]), array([0, 0, 0, 0, 0, 0, 1]), array([0, 0, 1, 0, 0, 0, 0]), array([0, 0, 0, 0, 1, 0, 0]), array([0, 0, 0, 0, 1, 0, 0]), array([0, 0, 1, 0, 0, 0, 0]), array([0, 0, 0, 0, 1, 0, 0]), array([0, 0, 0, 0, 1, 0, 0]), array([0, 0, 0, 0, 1, 0, 0]), array([0, 0, 0, 0, 1, 0, 0]), array([0, 0, 0, 0, 1, 0, 0]), array([0, 0, 0, 0, 1, 0, 0]), array([0, 0, 0, 0, 0, 0, 1]), array([0, 0, 0, 0, 1, 0, 0]), array([0, 0, 0, 0, 1, 0, 0]), array([0, 0, 0, 0, 1, 0, 0]), array([0, 0, 0, 0, 1, 0, 0]), array([0, 0, 0, 0, 0, 0, 1]), array([0, 0, 1, 0, 0, 0, 0]), array([0, 0, 0, 0, 1, 0, 0]), array([0, 0, 1, 0, 0, 0, 0]), array([0, 0, 0, 0, 1, 0, 0]), array([0, 0, 0, 0, 1, 0, 0]), array([0, 0, 0, 0, 1, 0, 0]), array([0, 0, 0, 0, 1, 0, 0]), array([0, 0, 0, 0, 1, 0, 0]), array([0, 0, 0, 0, 1, 0, 0]), array([0, 0, 0, 0, 1, 0, 0]), array([0, 0, 1, 0, 0, 0, 0]), array([0, 0, 0, 0, 1, 0, 0]), array([0, 0, 0, 0, 1, 0, 0]), array([0, 0, 1, 0, 0, 0, 0]), array([0, 0, 1, 0, 0, 0, 0]), array([0, 0, 0, 0, 1, 0, 0]), array([0, 1, 0, 0, 0, 0, 0]), array([0, 0, 0, 0, 1, 0, 0]), array([0, 0, 0, 0, 1, 0, 0]), array([1, 0, 0, 0, 0, 0, 0]), array([0, 0, 0, 0, 1, 0, 0]), array([0, 0, 1, 0, 0, 0, 0]), array([0, 0, 0, 0, 1, 0, 0]), array([0, 0, 1, 0, 0, 0, 0]), array([0, 0, 0, 0, 0, 0, 1]), array([0, 0, 0, 0, 1, 0, 0]), array([0, 0, 0, 0, 1, 0, 0]), array([0, 0, 0, 0, 0, 0, 1]), array([0, 0, 0, 1, 0, 0, 0]), array([0, 1, 0, 0, 0, 0, 0]), array([0, 0, 0, 0, 1, 0, 0]), array([0, 0, 0, 0, 0, 0, 1]), array([0, 0, 1, 0, 0, 0, 0]), array([0, 0, 0, 0, 1, 0, 0]), array([0, 0, 0, 0, 1, 0, 0]), array([0, 0, 0, 0, 1, 0, 0]), array([0, 1, 0, 0, 0, 0, 0]), array([0, 0, 1, 0, 0, 0, 0]), array([0, 0, 0, 0, 1, 0, 0]), array([0, 0, 0, 0, 1, 0, 0]), array([0, 1, 0, 0, 0, 0, 0]), array([1, 0, 0, 0, 0, 0, 0]), array([0, 1, 0, 0, 0, 0, 0]), array([0, 0, 0, 0, 1, 0, 0]), array([0, 0, 0, 0, 1, 0, 0]), array([0, 0, 0, 0, 1, 0, 0]), array([0, 0, 0, 0, 1, 0, 0]), array([0, 0, 0, 0, 1, 0, 0]), array([0, 0, 0, 0, 1, 0, 0]), array([0, 1, 0, 0, 0, 0, 0]), array([0, 0, 0, 0, 1, 0, 0]), array([0, 0, 0, 0, 1, 0, 0]), array([0, 0, 0, 0, 1, 0, 0]), array([0, 0, 0, 0, 1, 0, 0]), array([0, 0, 0, 1, 0, 0, 0]), array([0, 1, 0, 0, 0, 0, 0]), array([0, 0, 0, 0, 1, 0, 0]), array([0, 1, 0, 0, 0, 0, 0]), array([1, 0, 0, 0, 0, 0, 0]), array([0, 0, 0, 0, 1, 0, 0]), array([0, 0, 0, 0, 1, 0, 0]), array([0, 0, 1, 0, 0, 0, 0]), array([0, 0, 0, 0, 1, 0, 0]), array([0, 0, 0, 0, 1, 0, 0]), array([0, 0, 0, 0, 1, 0, 0]), array([0, 0, 0, 0, 1, 0, 0]), array([0, 0, 0, 0, 1, 0, 0]), array([0, 0, 0, 0, 1, 0, 0]), array([0, 0, 0, 0, 1, 0, 0]), array([0, 0, 0, 0, 1, 0, 0]), array([0, 0, 0, 0, 1, 0, 0]), array([0, 0, 0, 0, 1, 0, 0]), array([0, 0, 1, 0, 0, 0, 0]), array([0, 0, 0, 0, 1, 0, 0]), array([0, 0, 0, 0, 1, 0, 0]), array([0, 0, 0, 0, 0, 0, 1]), array([0, 0, 0, 0, 1, 0, 0]), array([0, 0, 0, 0, 1, 0, 0]), array([0, 0, 0, 0, 1, 0, 0]), array([0, 0, 0, 0, 1, 0, 0]), array([0, 0, 0, 0, 1, 0, 0]), array([0, 1, 0, 0, 0, 0, 0]), array([0, 0, 0, 0, 1, 0, 0]), array([0, 0, 0, 0, 1, 0, 0]), array([1, 0, 0, 0, 0, 0, 0]), array([0, 0, 0, 0, 1, 0, 0]), array([0, 0, 0, 0, 1, 0, 0]), array([0, 0, 0, 0, 1, 0, 0]), array([0, 0, 0, 0, 1, 0, 0]), array([0, 0, 0, 0, 0, 0, 1]), array([0, 0, 0, 1, 0, 0, 0]), array([0, 0, 0, 0, 0, 0, 1]), array([0, 0, 0, 0, 1, 0, 0]), array([0, 0, 0, 0, 1, 0, 0]), array([0, 0, 1, 0, 0, 0, 0]), array([0, 0, 0, 0, 1, 0, 0]), array([0, 0, 0, 0, 1, 0, 0]), array([0, 0, 0, 0, 1, 0, 0]), array([0, 1, 0, 0, 0, 0, 0]), array([0, 0, 0, 0, 1, 0, 0]), array([0, 0, 0, 0, 1, 0, 0]), array([0, 0, 1, 0, 0, 0, 0]), array([0, 0, 0, 0, 1, 0, 0]), array([0, 0, 0, 0, 1, 0, 0]), array([0, 0, 0, 0, 1, 0, 0]), array([0, 0, 0, 0, 1, 0, 0]), array([0, 0, 0, 0, 1, 0, 0]), array([0, 0, 1, 0, 0, 0, 0]), array([0, 0, 0, 0, 0, 0, 1]), array([0, 0, 0, 0, 1, 0, 0]), array([0, 0, 0, 0, 1, 0, 0]), array([0, 0, 0, 0, 1, 0, 0]), array([0, 0, 0, 0, 1, 0, 0]), array([0, 0, 1, 0, 0, 0, 0]), array([0, 0, 0, 0, 1, 0, 0]), array([0, 0, 0, 0, 1, 0, 0]), array([0, 0, 0, 0, 1, 0, 0]), array([0, 0, 0, 0, 1, 0, 0]), array([0, 0, 0, 0, 1, 0, 0]), array([0, 0, 0, 0, 1, 0, 0]), array([1, 0, 0, 0, 0, 0, 0]), array([0, 0, 0, 0, 1, 0, 0]), array([0, 0, 1, 0, 0, 0, 0]), array([0, 0, 0, 0, 1, 0, 0]), array([0, 0, 0, 0, 1, 0, 0]), array([0, 0, 0, 0, 1, 0, 0]), array([0, 0, 0, 0, 1, 0, 0]), array([0, 0, 0, 0, 1, 0, 0]), array([0, 0, 0, 0, 1, 0, 0]), array([0, 1, 0, 0, 0, 0, 0]), array([0, 0, 0, 0, 1, 0, 0]), array([0, 0, 0, 0, 1, 0, 0]), array([0, 0, 0, 0, 0, 0, 1]), array([0, 0, 1, 0, 0, 0, 0]), array([0, 1, 0, 0, 0, 0, 0]), array([0, 0, 0, 0, 1, 0, 0]), array([0, 0, 0, 0, 1, 0, 0]), array([0, 0, 0, 0, 1, 0, 0]), array([0, 1, 0, 0, 0, 0, 0]), array([0, 0, 1, 0, 0, 0, 0]), array([0, 0, 0, 0, 1, 0, 0]), array([1, 0, 0, 0, 0, 0, 0]), array([0, 0, 0, 0, 1, 0, 0]), array([0, 0, 0, 0, 1, 0, 0]), array([0, 0, 0, 0, 0, 0, 1]), array([0, 0, 0, 0, 1, 0, 0]), array([0, 0, 0, 0, 0, 0, 1]), array([0, 0, 0, 0, 1, 0, 0]), array([0, 0, 1, 0, 0, 0, 0]), array([0, 0, 0, 0, 1, 0, 0]), array([0, 1, 0, 0, 0, 0, 0]), array([0, 1, 0, 0, 0, 0, 0]), array([0, 0, 0, 0, 1, 0, 0]), array([0, 0, 0, 0, 1, 0, 0]), array([0, 0, 0, 0, 1, 0, 0]), array([0, 0, 0, 0, 1, 0, 0]), array([0, 0, 0, 0, 1, 0, 0]), array([0, 0, 0, 0, 1, 0, 0]), array([0, 0, 0, 0, 1, 0, 0]), array([0, 0, 0, 0, 1, 0, 0]), array([0, 1, 0, 0, 0, 0, 0]), array([0, 0, 0, 0, 1, 0, 0]), array([0, 0, 0, 0, 1, 0, 0]), array([0, 0, 0, 0, 1, 0, 0]), array([0, 0, 0, 0, 1, 0, 0]), array([0, 0, 0, 0, 1, 0, 0]), array([0, 0, 1, 0, 0, 0, 0]), array([0, 0, 0, 0, 1, 0, 0]), array([0, 1, 0, 0, 0, 0, 0]), array([0, 1, 0, 0, 0, 0, 0]), array([0, 0, 0, 0, 1, 0, 0]), array([0, 1, 0, 0, 0, 0, 0]), array([0, 0, 0, 0, 1, 0, 0]), array([0, 0, 0, 0, 1, 0, 0]), array([1, 0, 0, 0, 0, 0, 0]), array([0, 0, 0, 0, 1, 0, 0]), array([0, 0, 0, 0, 1, 0, 0]), array([0, 0, 0, 0, 1, 0, 0]), array([0, 0, 0, 0, 0, 0, 1]), array([0, 1, 0, 0, 0, 0, 0]), array([0, 0, 0, 0, 0, 0, 1]), array([0, 0, 0, 0, 1, 0, 0]), array([0, 0, 0, 0, 1, 0, 0]), array([0, 0, 0, 0, 1, 0, 0]), array([0, 0, 0, 0, 0, 0, 1]), array([0, 0, 1, 0, 0, 0, 0]), array([0, 0, 0, 0, 1, 0, 0]), array([0, 0, 0, 0, 1, 0, 0]), array([0, 0, 0, 0, 0, 0, 1]), array([0, 0, 0, 0, 1, 0, 0]), array([0, 0, 1, 0, 0, 0, 0]), array([0, 0, 1, 0, 0, 0, 0]), array([0, 0, 1, 0, 0, 0, 0]), array([0, 0, 0, 0, 1, 0, 0]), array([0, 0, 0, 0, 0, 0, 1]), array([0, 0, 0, 0, 1, 0, 0]), array([0, 0, 0, 0, 0, 1, 0]), array([0, 0, 1, 0, 0, 0, 0]), array([0, 0, 0, 0, 1, 0, 0]), array([0, 0, 0, 0, 1, 0, 0]), array([0, 0, 0, 0, 1, 0, 0]), array([0, 0, 1, 0, 0, 0, 0]), array([0, 0, 1, 0, 0, 0, 0]), array([0, 0, 0, 0, 1, 0, 0]), array([1, 0, 0, 0, 0, 0, 0]), array([0, 0, 0, 0, 1, 0, 0]), array([0, 0, 0, 0, 1, 0, 0]), array([0, 0, 0, 0, 0, 0, 1]), array([0, 0, 0, 0, 1, 0, 0]), array([0, 0, 0, 0, 1, 0, 0]), array([0, 0, 0, 0, 1, 0, 0]), array([0, 0, 0, 0, 0, 0, 1]), array([0, 0, 0, 0, 0, 1, 0]), array([0, 0, 0, 0, 0, 0, 1]), array([0, 0, 0, 0, 1, 0, 0]), array([0, 0, 0, 0, 1, 0, 0]), array([0, 0, 0, 0, 1, 0, 0]), array([0, 0, 0, 0, 0, 0, 1]), array([0, 0, 0, 0, 1, 0, 0]), array([0, 0, 0, 0, 1, 0, 0]), array([0, 0, 0, 0, 1, 0, 0]), array([0, 0, 0, 0, 0, 1, 0]), array([0, 0, 0, 0, 1, 0, 0]), array([1, 0, 0, 0, 0, 0, 0]), array([0, 0, 0, 0, 1, 0, 0]), array([0, 0, 0, 0, 0, 0, 1]), array([0, 0, 0, 0, 1, 0, 0]), array([0, 0, 0, 0, 1, 0, 0]), array([0, 0, 0, 0, 1, 0, 0]), array([0, 0, 0, 0, 1, 0, 0]), array([0, 0, 1, 0, 0, 0, 0]), array([0, 0, 0, 0, 1, 0, 0]), array([0, 0, 0, 0, 1, 0, 0]), array([0, 0, 0, 0, 1, 0, 0]), array([0, 0, 0, 0, 0, 0, 1]), array([0, 0, 0, 0, 1, 0, 0]), array([0, 0, 0, 0, 0, 0, 1]), array([0, 0, 0, 0, 1, 0, 0]), array([0, 0, 0, 0, 1, 0, 0]), array([0, 0, 1, 0, 0, 0, 0]), array([0, 0, 0, 0, 1, 0, 0]), array([0, 0, 0, 0, 1, 0, 0]), array([0, 1, 0, 0, 0, 0, 0]), array([0, 0, 1, 0, 0, 0, 0]), array([0, 0, 0, 0, 0, 0, 1]), array([0, 0, 0, 0, 1, 0, 0]), array([0, 0, 0, 0, 1, 0, 0]), array([0, 0, 0, 0, 1, 0, 0]), array([1, 0, 0, 0, 0, 0, 0]), array([0, 0, 0, 0, 1, 0, 0]), array([0, 0, 0, 0, 1, 0, 0]), array([0, 0, 0, 0, 0, 1, 0]), array([0, 0, 0, 0, 1, 0, 0]), array([0, 0, 0, 0, 1, 0, 0]), array([0, 0, 0, 0, 1, 0, 0]), array([0, 0, 0, 0, 0, 0, 1]), array([0, 0, 0, 0, 1, 0, 0]), array([0, 0, 0, 0, 1, 0, 0]), array([0, 0, 0, 0, 0, 1, 0]), array([0, 0, 0, 0, 1, 0, 0]), array([0, 1, 0, 0, 0, 0, 0]), array([0, 0, 0, 0, 0, 0, 1]), array([0, 0, 0, 0, 1, 0, 0]), array([0, 0, 1, 0, 0, 0, 0]), array([0, 0, 0, 0, 1, 0, 0]), array([0, 0, 0, 0, 1, 0, 0]), array([0, 0, 0, 0, 0, 1, 0]), array([0, 0, 0, 0, 1, 0, 0]), array([0, 0, 0, 0, 1, 0, 0]), array([0, 1, 0, 0, 0, 0, 0]), array([0, 0, 0, 0, 1, 0, 0]), array([0, 0, 0, 0, 1, 0, 0]), array([0, 0, 0, 0, 0, 0, 1]), array([0, 0, 0, 0, 0, 0, 1]), array([0, 1, 0, 0, 0, 0, 0]), array([0, 0, 0, 0, 1, 0, 0]), array([0, 1, 0, 0, 0, 0, 0]), array([0, 0, 0, 0, 1, 0, 0]), array([0, 0, 0, 0, 1, 0, 0]), array([0, 0, 0, 0, 1, 0, 0]), array([0, 0, 0, 0, 0, 0, 1]), array([0, 0, 0, 0, 1, 0, 0]), array([0, 0, 1, 0, 0, 0, 0]), array([0, 0, 0, 0, 1, 0, 0]), array([0, 0, 0, 0, 1, 0, 0]), array([0, 0, 0, 0, 1, 0, 0]), array([0, 0, 0, 0, 1, 0, 0]), array([0, 0, 0, 0, 1, 0, 0]), array([0, 0, 0, 0, 1, 0, 0]), array([0, 0, 1, 0, 0, 0, 0]), array([0, 0, 0, 0, 1, 0, 0]), array([0, 0, 0, 0, 1, 0, 0]), array([0, 0, 0, 0, 0, 1, 0]), array([0, 0, 0, 0, 1, 0, 0]), array([0, 0, 1, 0, 0, 0, 0]), array([0, 0, 0, 0, 1, 0, 0]), array([0, 0, 0, 0, 1, 0, 0]), array([0, 0, 0, 0, 0, 0, 1]), array([0, 0, 0, 0, 0, 1, 0]), array([0, 0, 0, 0, 1, 0, 0]), array([0, 0, 0, 0, 1, 0, 0]), array([0, 0, 0, 0, 1, 0, 0]), array([0, 0, 0, 0, 1, 0, 0]), array([0, 0, 0, 0, 1, 0, 0]), array([0, 0, 0, 0, 1, 0, 0]), array([0, 0, 0, 0, 1, 0, 0]), array([0, 0, 0, 0, 1, 0, 0]), array([0, 0, 0, 0, 1, 0, 0]), array([0, 0, 0, 0, 1, 0, 0]), array([0, 0, 0, 0, 1, 0, 0]), array([1, 0, 0, 0, 0, 0, 0]), array([0, 0, 0, 0, 1, 0, 0]), array([0, 1, 0, 0, 0, 0, 0]), array([0, 0, 0, 0, 1, 0, 0]), array([0, 0, 0, 0, 1, 0, 0]), array([0, 0, 0, 0, 1, 0, 0]), array([0, 0, 0, 0, 1, 0, 0]), array([0, 0, 0, 0, 1, 0, 0]), array([0, 0, 0, 0, 1, 0, 0]), array([0, 0, 0, 0, 1, 0, 0]), array([1, 0, 0, 0, 0, 0, 0]), array([0, 0, 0, 0, 1, 0, 0]), array([0, 0, 0, 0, 1, 0, 0]), array([0, 0, 0, 0, 1, 0, 0]), array([0, 0, 0, 0, 1, 0, 0]), array([0, 0, 0, 0, 1, 0, 0]), array([0, 1, 0, 0, 0, 0, 0]), array([0, 0, 0, 0, 1, 0, 0]), array([0, 0, 0, 0, 1, 0, 0]), array([0, 0, 0, 0, 1, 0, 0]), array([0, 0, 0, 1, 0, 0, 0]), array([0, 0, 0, 0, 1, 0, 0]), array([0, 0, 0, 0, 1, 0, 0]), array([0, 0, 0, 0, 1, 0, 0]), array([1, 0, 0, 0, 0, 0, 0]), array([0, 0, 0, 0, 1, 0, 0]), array([0, 0, 0, 0, 1, 0, 0]), array([0, 0, 0, 0, 1, 0, 0]), array([0, 0, 0, 1, 0, 0, 0]), array([0, 0, 0, 0, 1, 0, 0]), array([0, 1, 0, 0, 0, 0, 0]), array([0, 0, 1, 0, 0, 0, 0]), array([0, 0, 0, 0, 0, 0, 1]), array([0, 0, 0, 0, 1, 0, 0]), array([0, 0, 0, 0, 1, 0, 0]), array([0, 0, 1, 0, 0, 0, 0]), array([0, 0, 0, 0, 0, 0, 1]), array([0, 0, 0, 0, 1, 0, 0]), array([0, 0, 0, 0, 1, 0, 0]), array([1, 0, 0, 0, 0, 0, 0]), array([0, 0, 0, 0, 1, 0, 0]), array([0, 0, 0, 0, 1, 0, 0]), array([0, 0, 1, 0, 0, 0, 0]), array([0, 0, 0, 0, 1, 0, 0]), array([0, 0, 1, 0, 0, 0, 0]), array([0, 0, 0, 0, 0, 0, 1]), array([0, 0, 0, 0, 0, 0, 1]), array([0, 0, 0, 0, 1, 0, 0]), array([0, 0, 0, 0, 1, 0, 0]), array([0, 0, 0, 0, 1, 0, 0]), array([0, 0, 0, 0, 1, 0, 0]), array([0, 0, 0, 0, 1, 0, 0]), array([0, 0, 0, 0, 1, 0, 0]), array([0, 0, 0, 0, 1, 0, 0]), array([0, 0, 0, 0, 1, 0, 0]), array([0, 0, 1, 0, 0, 0, 0]), array([0, 0, 0, 0, 1, 0, 0]), array([0, 0, 0, 0, 0, 0, 1]), array([0, 0, 0, 0, 1, 0, 0]), array([0, 0, 0, 0, 1, 0, 0]), array([0, 0, 1, 0, 0, 0, 0]), array([0, 0, 0, 0, 1, 0, 0]), array([0, 0, 0, 0, 1, 0, 0]), array([0, 0, 0, 0, 0, 0, 1]), array([0, 0, 0, 0, 1, 0, 0]), array([0, 0, 0, 0, 1, 0, 0]), array([0, 0, 0, 0, 1, 0, 0]), array([0, 0, 0, 0, 1, 0, 0]), array([0, 0, 0, 0, 1, 0, 0]), array([0, 0, 1, 0, 0, 0, 0]), array([0, 0, 0, 0, 1, 0, 0]), array([0, 0, 0, 0, 1, 0, 0]), array([0, 0, 0, 0, 1, 0, 0]), array([0, 0, 0, 0, 1, 0, 0]), array([0, 0, 0, 0, 1, 0, 0]), array([0, 0, 0, 0, 1, 0, 0]), array([0, 0, 0, 0, 1, 0, 0]), array([0, 0, 0, 0, 1, 0, 0]), array([0, 0, 0, 0, 1, 0, 0]), array([0, 0, 0, 0, 1, 0, 0]), array([0, 0, 0, 0, 1, 0, 0]), array([0, 0, 0, 0, 1, 0, 0]), array([0, 0, 0, 0, 1, 0, 0]), array([0, 0, 0, 0, 1, 0, 0]), array([0, 0, 0, 0, 1, 0, 0]), array([0, 0, 1, 0, 0, 0, 0]), array([0, 0, 0, 0, 1, 0, 0]), array([0, 0, 0, 0, 1, 0, 0]), array([0, 0, 1, 0, 0, 0, 0]), array([0, 0, 1, 0, 0, 0, 0]), array([0, 0, 0, 0, 1, 0, 0]), array([0, 0, 0, 0, 1, 0, 0]), array([0, 0, 0, 0, 1, 0, 0]), array([0, 0, 1, 0, 0, 0, 0]), array([0, 0, 0, 0, 1, 0, 0]), array([0, 0, 0, 0, 1, 0, 0]), array([0, 1, 0, 0, 0, 0, 0]), array([0, 0, 0, 0, 1, 0, 0]), array([0, 0, 0, 0, 0, 0, 1]), array([0, 0, 0, 0, 1, 0, 0]), array([0, 1, 0, 0, 0, 0, 0]), array([0, 0, 0, 0, 1, 0, 0]), array([0, 0, 0, 0, 1, 0, 0]), array([0, 0, 0, 0, 0, 0, 1]), array([0, 0, 0, 0, 1, 0, 0]), array([0, 0, 0, 0, 1, 0, 0]), array([0, 0, 0, 0, 1, 0, 0]), array([0, 0, 0, 0, 1, 0, 0]), array([0, 0, 0, 0, 0, 0, 1]), array([0, 0, 0, 0, 1, 0, 0]), array([0, 0, 0, 0, 1, 0, 0]), array([0, 0, 0, 0, 1, 0, 0]), array([0, 0, 0, 0, 1, 0, 0]), array([0, 0, 0, 0, 1, 0, 0]), array([1, 0, 0, 0, 0, 0, 0]), array([0, 0, 0, 0, 1, 0, 0]), array([0, 0, 0, 0, 1, 0, 0]), array([0, 0, 0, 0, 1, 0, 0]), array([0, 0, 0, 0, 1, 0, 0]), array([0, 0, 0, 0, 1, 0, 0]), array([0, 0, 0, 0, 1, 0, 0]), array([0, 0, 0, 0, 1, 0, 0]), array([0, 0, 0, 0, 1, 0, 0]), array([0, 0, 0, 0, 1, 0, 0]), array([0, 0, 0, 0, 1, 0, 0]), array([0, 0, 0, 0, 1, 0, 0]), array([0, 0, 0, 0, 1, 0, 0]), array([0, 0, 0, 0, 1, 0, 0]), array([0, 0, 0, 0, 0, 0, 1]), array([0, 0, 0, 0, 1, 0, 0]), array([0, 0, 0, 0, 1, 0, 0]), array([0, 0, 0, 0, 0, 0, 1]), array([0, 0, 0, 0, 1, 0, 0]), array([0, 0, 0, 0, 1, 0, 0]), array([0, 0, 0, 0, 0, 0, 1]), array([0, 0, 0, 0, 1, 0, 0]), array([0, 0, 0, 0, 1, 0, 0]), array([0, 0, 0, 0, 1, 0, 0]), array([0, 0, 0, 0, 1, 0, 0]), array([0, 0, 0, 0, 0, 0, 1]), array([0, 0, 0, 0, 1, 0, 0]), array([0, 0, 0, 0, 1, 0, 0]), array([0, 0, 0, 0, 0, 0, 1]), array([0, 0, 0, 0, 1, 0, 0]), array([0, 0, 0, 0, 1, 0, 0]), array([0, 0, 0, 0, 1, 0, 0]), array([0, 0, 0, 0, 0, 0, 1]), array([0, 0, 0, 0, 1, 0, 0]), array([0, 0, 0, 0, 1, 0, 0]), array([1, 0, 0, 0, 0, 0, 0]), array([0, 0, 1, 0, 0, 0, 0]), array([0, 0, 1, 0, 0, 0, 0]), array([0, 0, 0, 0, 1, 0, 0]), array([0, 0, 0, 0, 1, 0, 0]), array([0, 0, 0, 0, 1, 0, 0]), array([0, 0, 0, 0, 1, 0, 0]), array([0, 0, 1, 0, 0, 0, 0]), array([0, 0, 0, 0, 1, 0, 0]), array([0, 0, 0, 0, 1, 0, 0]), array([0, 0, 0, 0, 1, 0, 0]), array([0, 0, 0, 0, 0, 0, 1]), array([0, 0, 0, 0, 1, 0, 0]), array([0, 0, 0, 1, 0, 0, 0]), array([0, 0, 0, 0, 0, 0, 1]), array([0, 0, 0, 0, 1, 0, 0]), array([0, 0, 0, 0, 1, 0, 0]), array([0, 0, 0, 0, 1, 0, 0]), array([0, 0, 0, 0, 1, 0, 0]), array([0, 0, 0, 0, 1, 0, 0]), array([0, 0, 0, 0, 1, 0, 0]), array([0, 0, 1, 0, 0, 0, 0]), array([0, 0, 0, 0, 1, 0, 0]), array([0, 0, 0, 0, 1, 0, 0]), array([0, 0, 0, 0, 1, 0, 0]), array([0, 0, 0, 0, 1, 0, 0]), array([0, 0, 0, 0, 1, 0, 0]), array([0, 0, 0, 0, 0, 0, 1]), array([0, 0, 0, 0, 1, 0, 0]), array([0, 0, 0, 0, 1, 0, 0]), array([0, 0, 0, 0, 1, 0, 0]), array([0, 0, 0, 0, 1, 0, 0]), array([0, 0, 0, 0, 1, 0, 0]), array([0, 0, 0, 0, 1, 0, 0]), array([0, 0, 0, 0, 1, 0, 0]), array([0, 0, 0, 0, 0, 0, 1]), array([0, 0, 0, 0, 1, 0, 0]), array([0, 0, 1, 0, 0, 0, 0]), array([0, 0, 0, 0, 1, 0, 0]), array([0, 0, 0, 0, 0, 0, 1]), array([0, 0, 0, 0, 1, 0, 0]), array([0, 0, 0, 0, 1, 0, 0]), array([0, 0, 0, 0, 1, 0, 0]), array([0, 0, 1, 0, 0, 0, 0]), array([0, 0, 0, 0, 1, 0, 0]), array([0, 0, 0, 0, 1, 0, 0]), array([0, 0, 0, 0, 1, 0, 0]), array([0, 0, 0, 0, 1, 0, 0]), array([0, 0, 0, 0, 1, 0, 0]), array([0, 0, 0, 0, 1, 0, 0]), array([0, 0, 0, 0, 1, 0, 0]), array([0, 0, 0, 0, 1, 0, 0]), array([0, 0, 0, 0, 1, 0, 0]), array([0, 0, 0, 0, 1, 0, 0]), array([0, 0, 0, 0, 0, 1, 0]), array([0, 0, 0, 0, 1, 0, 0]), array([0, 0, 0, 0, 1, 0, 0]), array([0, 0, 0, 0, 1, 0, 0]), array([0, 0, 0, 0, 0, 0, 1]), array([0, 0, 0, 0, 1, 0, 0]), array([0, 0, 0, 0, 1, 0, 0]), array([0, 0, 0, 0, 0, 0, 1]), array([0, 0, 0, 0, 1, 0, 0]), array([0, 1, 0, 0, 0, 0, 0]), array([0, 0, 0, 0, 1, 0, 0]), array([0, 1, 0, 0, 0, 0, 0]), array([0, 0, 0, 0, 1, 0, 0]), array([0, 0, 0, 0, 1, 0, 0]), array([0, 0, 0, 0, 1, 0, 0]), array([0, 0, 0, 0, 0, 0, 1]), array([0, 0, 1, 0, 0, 0, 0]), array([0, 0, 1, 0, 0, 0, 0]), array([0, 0, 1, 0, 0, 0, 0]), array([0, 0, 0, 0, 1, 0, 0]), array([1, 0, 0, 0, 0, 0, 0]), array([0, 0, 0, 0, 1, 0, 0]), array([0, 0, 0, 0, 1, 0, 0]), array([0, 0, 0, 0, 1, 0, 0]), array([0, 0, 1, 0, 0, 0, 0]), array([0, 1, 0, 0, 0, 0, 0]), array([0, 0, 0, 0, 1, 0, 0]), array([0, 0, 0, 0, 1, 0, 0]), array([0, 0, 0, 0, 1, 0, 0]), array([0, 0, 0, 0, 1, 0, 0]), array([0, 0, 0, 0, 1, 0, 0]), array([0, 0, 1, 0, 0, 0, 0]), array([0, 0, 1, 0, 0, 0, 0]), array([0, 0, 0, 0, 1, 0, 0]), array([0, 0, 0, 0, 0, 0, 1]), array([0, 0, 0, 0, 1, 0, 0]), array([0, 0, 0, 0, 0, 1, 0]), array([0, 0, 0, 0, 0, 0, 1]), array([0, 0, 0, 0, 1, 0, 0]), array([0, 0, 0, 0, 1, 0, 0]), array([0, 0, 0, 0, 1, 0, 0]), array([0, 0, 0, 0, 1, 0, 0]), array([0, 0, 0, 0, 1, 0, 0]), array([0, 0, 0, 1, 0, 0, 0]), array([0, 0, 0, 0, 1, 0, 0]), array([0, 0, 1, 0, 0, 0, 0]), array([0, 0, 0, 0, 0, 1, 0]), array([0, 0, 0, 0, 0, 0, 1]), array([0, 0, 1, 0, 0, 0, 0]), array([0, 0, 1, 0, 0, 0, 0]), array([0, 0, 0, 0, 1, 0, 0]), array([0, 0, 1, 0, 0, 0, 0]), array([0, 0, 0, 0, 1, 0, 0]), array([0, 0, 0, 0, 0, 0, 1]), array([0, 0, 1, 0, 0, 0, 0]), array([0, 0, 0, 0, 1, 0, 0]), array([0, 0, 0, 0, 1, 0, 0]), array([0, 0, 0, 0, 1, 0, 0]), array([0, 0, 0, 0, 1, 0, 0]), array([0, 0, 0, 0, 1, 0, 0]), array([0, 0, 0, 0, 1, 0, 0]), array([0, 0, 0, 0, 1, 0, 0]), array([0, 0, 0, 0, 0, 0, 1]), array([0, 0, 0, 0, 1, 0, 0]), array([0, 0, 0, 0, 1, 0, 0]), array([0, 1, 0, 0, 0, 0, 0]), array([0, 1, 0, 0, 0, 0, 0]), array([0, 1, 0, 0, 0, 0, 0]), array([0, 0, 0, 0, 1, 0, 0]), array([0, 0, 0, 0, 1, 0, 0]), array([0, 1, 0, 0, 0, 0, 0]), array([0, 0, 0, 0, 0, 0, 1]), array([0, 0, 0, 0, 0, 0, 1]), array([0, 0, 0, 0, 1, 0, 0]), array([0, 0, 0, 0, 0, 0, 1]), array([0, 0, 0, 0, 1, 0, 0]), array([0, 0, 0, 0, 1, 0, 0]), array([0, 0, 0, 0, 1, 0, 0]), array([0, 0, 0, 0, 1, 0, 0]), array([0, 0, 0, 0, 1, 0, 0]), array([0, 0, 0, 0, 1, 0, 0]), array([0, 0, 0, 0, 1, 0, 0]), array([0, 0, 0, 0, 1, 0, 0]), array([0, 0, 0, 0, 1, 0, 0]), array([0, 0, 0, 0, 1, 0, 0]), array([0, 0, 0, 0, 0, 0, 1]), array([0, 1, 0, 0, 0, 0, 0]), array([0, 0, 0, 0, 1, 0, 0]), array([0, 0, 0, 0, 1, 0, 0]), array([0, 0, 1, 0, 0, 0, 0]), array([0, 0, 0, 0, 1, 0, 0]), array([0, 0, 0, 0, 1, 0, 0]), array([0, 0, 0, 0, 0, 0, 1]), array([0, 0, 0, 0, 1, 0, 0]), array([0, 0, 0, 0, 0, 0, 1]), array([0, 0, 0, 0, 1, 0, 0]), array([0, 0, 0, 0, 1, 0, 0]), array([0, 0, 1, 0, 0, 0, 0]), array([0, 0, 0, 0, 0, 0, 1]), array([0, 0, 0, 0, 1, 0, 0]), array([0, 0, 0, 0, 1, 0, 0]), array([0, 0, 0, 0, 1, 0, 0]), array([0, 0, 0, 0, 1, 0, 0]), array([0, 0, 0, 0, 1, 0, 0]), array([0, 0, 0, 0, 1, 0, 0]), array([0, 0, 0, 0, 1, 0, 0]), array([0, 0, 0, 0, 1, 0, 0]), array([0, 0, 1, 0, 0, 0, 0]), array([0, 0, 0, 0, 1, 0, 0]), array([0, 0, 0, 0, 1, 0, 0]), array([0, 0, 0, 0, 1, 0, 0]), array([0, 0, 0, 0, 1, 0, 0]), array([0, 0, 0, 0, 1, 0, 0]), array([0, 0, 0, 0, 1, 0, 0]), array([0, 0, 0, 0, 1, 0, 0]), array([0, 0, 1, 0, 0, 0, 0]), array([1, 0, 0, 0, 0, 0, 0]), array([0, 0, 0, 0, 1, 0, 0]), array([0, 0, 0, 0, 0, 0, 1]), array([0, 0, 0, 0, 1, 0, 0]), array([0, 0, 1, 0, 0, 0, 0]), array([0, 0, 0, 0, 1, 0, 0]), array([0, 0, 0, 0, 1, 0, 0]), array([0, 0, 0, 0, 1, 0, 0]), array([0, 0, 1, 0, 0, 0, 0]), array([0, 0, 0, 0, 1, 0, 0]), array([0, 0, 1, 0, 0, 0, 0]), array([0, 0, 0, 0, 1, 0, 0]), array([0, 0, 0, 0, 1, 0, 0]), array([0, 0, 0, 0, 1, 0, 0]), array([0, 0, 0, 0, 1, 0, 0]), array([0, 0, 0, 0, 1, 0, 0]), array([0, 0, 0, 0, 1, 0, 0]), array([0, 0, 0, 0, 1, 0, 0]), array([0, 0, 1, 0, 0, 0, 0]), array([1, 0, 0, 0, 0, 0, 0]), array([0, 0, 1, 0, 0, 0, 0]), array([0, 0, 0, 0, 1, 0, 0]), array([0, 0, 0, 0, 1, 0, 0]), array([0, 0, 0, 0, 1, 0, 0]), array([0, 0, 0, 0, 1, 0, 0]), array([0, 1, 0, 0, 0, 0, 0]), array([0, 0, 0, 0, 1, 0, 0]), array([0, 0, 1, 0, 0, 0, 0]), array([0, 0, 0, 0, 1, 0, 0]), array([0, 0, 0, 0, 1, 0, 0]), array([0, 0, 1, 0, 0, 0, 0]), array([0, 1, 0, 0, 0, 0, 0]), array([0, 0, 0, 0, 1, 0, 0]), array([0, 0, 0, 0, 1, 0, 0]), array([0, 0, 1, 0, 0, 0, 0]), array([0, 0, 1, 0, 0, 0, 0]), array([0, 0, 0, 0, 1, 0, 0]), array([0, 0, 0, 0, 1, 0, 0]), array([0, 0, 0, 0, 0, 0, 1]), array([0, 0, 0, 0, 1, 0, 0]), array([0, 0, 1, 0, 0, 0, 0]), array([0, 0, 0, 0, 0, 1, 0]), array([0, 0, 0, 0, 1, 0, 0]), array([0, 0, 0, 0, 1, 0, 0]), array([0, 1, 0, 0, 0, 0, 0]), array([0, 0, 0, 0, 0, 0, 1]), array([0, 0, 0, 0, 1, 0, 0]), array([0, 0, 0, 0, 1, 0, 0]), array([0, 0, 0, 0, 0, 0, 1]), array([0, 0, 0, 0, 1, 0, 0]), array([0, 0, 0, 0, 1, 0, 0]), array([0, 0, 1, 0, 0, 0, 0]), array([0, 0, 0, 0, 1, 0, 0]), array([0, 0, 0, 0, 1, 0, 0]), array([0, 0, 0, 0, 1, 0, 0]), array([0, 0, 0, 0, 0, 0, 1]), array([0, 0, 0, 0, 1, 0, 0]), array([0, 0, 0, 0, 1, 0, 0]), array([0, 0, 0, 0, 1, 0, 0]), array([0, 0, 0, 0, 1, 0, 0]), array([0, 0, 0, 0, 1, 0, 0]), array([0, 0, 0, 0, 1, 0, 0]), array([0, 0, 0, 0, 1, 0, 0]), array([0, 0, 0, 0, 1, 0, 0]), array([0, 0, 0, 0, 1, 0, 0]), array([0, 0, 0, 0, 1, 0, 0]), array([0, 0, 0, 0, 0, 0, 1]), array([0, 0, 0, 0, 1, 0, 0]), array([0, 0, 0, 0, 0, 0, 1]), array([0, 0, 0, 1, 0, 0, 0]), array([0, 0, 0, 0, 1, 0, 0]), array([0, 0, 0, 0, 1, 0, 0]), array([1, 0, 0, 0, 0, 0, 0]), array([0, 0, 0, 0, 1, 0, 0]), array([0, 0, 0, 0, 1, 0, 0]), array([1, 0, 0, 0, 0, 0, 0]), array([0, 0, 0, 0, 0, 0, 1]), array([0, 0, 0, 0, 1, 0, 0]), array([0, 0, 0, 0, 1, 0, 0]), array([0, 0, 0, 0, 0, 0, 1]), array([0, 0, 0, 0, 1, 0, 0]), array([0, 0, 0, 0, 1, 0, 0]), array([0, 0, 0, 0, 1, 0, 0]), array([0, 0, 0, 0, 1, 0, 0]), array([0, 0, 0, 0, 1, 0, 0]), array([0, 0, 0, 0, 1, 0, 0]), array([0, 0, 1, 0, 0, 0, 0]), array([0, 0, 1, 0, 0, 0, 0]), array([0, 0, 0, 0, 1, 0, 0]), array([0, 0, 0, 0, 0, 0, 1]), array([1, 0, 0, 0, 0, 0, 0]), array([0, 0, 0, 0, 1, 0, 0]), array([0, 0, 1, 0, 0, 0, 0]), array([0, 0, 0, 0, 0, 0, 1]), array([0, 0, 0, 0, 1, 0, 0]), array([0, 0, 0, 0, 0, 0, 1]), array([0, 0, 0, 0, 1, 0, 0]), array([0, 0, 1, 0, 0, 0, 0]), array([0, 0, 0, 0, 1, 0, 0]), array([0, 0, 0, 0, 1, 0, 0]), array([0, 0, 0, 0, 1, 0, 0]), array([1, 0, 0, 0, 0, 0, 0]), array([0, 0, 1, 0, 0, 0, 0]), array([0, 0, 0, 0, 1, 0, 0]), array([0, 0, 1, 0, 0, 0, 0]), array([0, 0, 0, 0, 1, 0, 0]), array([0, 0, 1, 0, 0, 0, 0]), array([0, 0, 0, 0, 1, 0, 0]), array([0, 1, 0, 0, 0, 0, 0]), array([0, 0, 0, 0, 1, 0, 0]), array([0, 0, 0, 0, 0, 1, 0]), array([0, 0, 0, 0, 1, 0, 0]), array([0, 0, 0, 0, 1, 0, 0]), array([0, 0, 0, 0, 0, 0, 1]), array([0, 0, 0, 0, 0, 0, 1]), array([0, 1, 0, 0, 0, 0, 0]), array([0, 0, 0, 0, 1, 0, 0]), array([0, 0, 1, 0, 0, 0, 0]), array([0, 1, 0, 0, 0, 0, 0]), array([0, 0, 0, 0, 1, 0, 0]), array([0, 0, 0, 0, 1, 0, 0]), array([0, 0, 0, 0, 1, 0, 0]), array([0, 0, 0, 0, 1, 0, 0]), array([0, 0, 0, 0, 1, 0, 0]), array([0, 0, 0, 0, 1, 0, 0]), array([0, 0, 0, 0, 1, 0, 0]), array([0, 0, 0, 0, 1, 0, 0]), array([0, 0, 0, 0, 1, 0, 0]), array([0, 0, 0, 0, 1, 0, 0]), array([0, 0, 0, 0, 1, 0, 0]), array([0, 0, 0, 0, 0, 0, 1]), array([0, 0, 0, 0, 1, 0, 0]), array([0, 0, 1, 0, 0, 0, 0]), array([0, 0, 0, 0, 1, 0, 0]), array([0, 0, 0, 0, 1, 0, 0]), array([0, 0, 0, 0, 0, 0, 1]), array([0, 0, 0, 0, 0, 0, 1]), array([1, 0, 0, 0, 0, 0, 0]), array([0, 0, 0, 0, 1, 0, 0]), array([0, 0, 1, 0, 0, 0, 0]), array([0, 0, 0, 0, 1, 0, 0]), array([0, 0, 0, 0, 0, 0, 1]), array([0, 0, 0, 0, 1, 0, 0]), array([0, 0, 0, 0, 1, 0, 0]), array([0, 0, 0, 0, 1, 0, 0]), array([0, 0, 0, 0, 1, 0, 0]), array([0, 0, 0, 0, 0, 0, 1]), array([0, 0, 0, 0, 1, 0, 0]), array([0, 0, 0, 0, 0, 0, 1]), array([0, 0, 0, 0, 1, 0, 0]), array([0, 0, 0, 0, 1, 0, 0]), array([0, 1, 0, 0, 0, 0, 0]), array([0, 0, 0, 0, 0, 0, 1]), array([1, 0, 0, 0, 0, 0, 0]), array([0, 0, 0, 0, 0, 1, 0]), array([0, 0, 0, 0, 0, 0, 1]), array([0, 0, 0, 0, 1, 0, 0]), array([0, 0, 0, 0, 1, 0, 0]), array([0, 0, 0, 0, 1, 0, 0]), array([0, 0, 0, 0, 0, 0, 1]), array([0, 0, 1, 0, 0, 0, 0]), array([0, 0, 0, 0, 1, 0, 0]), array([0, 0, 1, 0, 0, 0, 0]), array([0, 0, 1, 0, 0, 0, 0]), array([0, 0, 0, 0, 0, 0, 1]), array([0, 0, 0, 0, 1, 0, 0]), array([0, 0, 0, 0, 1, 0, 0]), array([0, 1, 0, 0, 0, 0, 0]), array([0, 0, 0, 0, 0, 0, 1]), array([0, 0, 1, 0, 0, 0, 0]), array([0, 0, 0, 0, 1, 0, 0]), array([0, 1, 0, 0, 0, 0, 0]), array([0, 0, 0, 0, 1, 0, 0]), array([1, 0, 0, 0, 0, 0, 0]), array([0, 1, 0, 0, 0, 0, 0]), array([0, 0, 0, 0, 1, 0, 0]), array([0, 0, 0, 0, 1, 0, 0]), array([0, 0, 0, 0, 1, 0, 0]), array([0, 0, 0, 0, 1, 0, 0]), array([0, 0, 0, 0, 0, 0, 1]), array([0, 0, 0, 0, 1, 0, 0]), array([0, 0, 0, 0, 1, 0, 0]), array([0, 0, 0, 0, 0, 0, 1]), array([0, 0, 0, 0, 1, 0, 0]), array([0, 0, 0, 0, 0, 0, 1]), array([0, 0, 0, 0, 1, 0, 0]), array([0, 0, 0, 0, 1, 0, 0]), array([0, 0, 0, 0, 1, 0, 0]), array([0, 0, 0, 0, 1, 0, 0]), array([0, 0, 0, 0, 1, 0, 0]), array([0, 0, 0, 0, 1, 0, 0]), array([0, 0, 0, 0, 1, 0, 0]), array([0, 0, 0, 0, 1, 0, 0]), array([0, 0, 0, 0, 1, 0, 0]), array([0, 0, 0, 0, 1, 0, 0]), array([0, 0, 1, 0, 0, 0, 0]), array([0, 0, 0, 0, 1, 0, 0]), array([0, 0, 0, 0, 1, 0, 0]), array([0, 0, 1, 0, 0, 0, 0]), array([0, 0, 0, 0, 0, 0, 1]), array([0, 0, 0, 0, 1, 0, 0]), array([0, 0, 1, 0, 0, 0, 0]), array([0, 0, 0, 0, 1, 0, 0]), array([0, 0, 0, 0, 1, 0, 0]), array([0, 0, 0, 0, 1, 0, 0]), array([1, 0, 0, 0, 0, 0, 0]), array([0, 0, 0, 0, 0, 0, 1]), array([0, 0, 0, 0, 1, 0, 0]), array([0, 1, 0, 0, 0, 0, 0]), array([0, 0, 0, 0, 1, 0, 0]), array([0, 0, 0, 0, 0, 0, 1]), array([0, 0, 0, 0, 0, 0, 1]), array([0, 0, 0, 0, 1, 0, 0]), array([0, 1, 0, 0, 0, 0, 0]), array([0, 0, 0, 0, 1, 0, 0]), array([0, 0, 0, 0, 1, 0, 0]), array([0, 0, 0, 0, 0, 0, 1]), array([0, 0, 0, 0, 1, 0, 0]), array([0, 0, 0, 0, 1, 0, 0]), array([0, 0, 0, 0, 1, 0, 0]), array([0, 0, 0, 0, 1, 0, 0]), array([0, 0, 0, 0, 1, 0, 0]), array([0, 0, 0, 0, 1, 0, 0]), array([0, 0, 0, 0, 1, 0, 0]), array([0, 0, 0, 0, 1, 0, 0]), array([0, 0, 0, 0, 1, 0, 0]), array([0, 0, 0, 0, 1, 0, 0]), array([0, 0, 0, 0, 1, 0, 0]), array([0, 0, 0, 0, 1, 0, 0]), array([0, 0, 0, 0, 1, 0, 0]), array([0, 0, 0, 0, 1, 0, 0]), array([0, 0, 0, 0, 0, 0, 1]), array([0, 0, 0, 0, 1, 0, 0]), array([0, 0, 0, 0, 1, 0, 0]), array([0, 0, 0, 0, 1, 0, 0]), array([0, 0, 0, 0, 1, 0, 0]), array([0, 0, 0, 0, 1, 0, 0]), array([0, 0, 0, 0, 1, 0, 0]), array([0, 0, 0, 0, 1, 0, 0]), array([0, 0, 0, 0, 0, 0, 1]), array([0, 0, 0, 0, 1, 0, 0]), array([0, 0, 0, 0, 1, 0, 0]), array([0, 1, 0, 0, 0, 0, 0]), array([0, 0, 0, 0, 1, 0, 0]), array([0, 1, 0, 0, 0, 0, 0]), array([0, 0, 0, 0, 1, 0, 0]), array([0, 0, 0, 0, 1, 0, 0]), array([0, 0, 0, 0, 1, 0, 0]), array([0, 0, 0, 0, 1, 0, 0]), array([0, 0, 0, 0, 1, 0, 0]), array([0, 0, 0, 0, 0, 0, 1]), array([0, 0, 0, 0, 1, 0, 0]), array([0, 0, 0, 0, 1, 0, 0]), array([0, 0, 0, 0, 1, 0, 0]), array([0, 0, 0, 0, 1, 0, 0]), array([0, 0, 0, 0, 1, 0, 0]), array([0, 0, 0, 0, 1, 0, 0]), array([0, 0, 0, 0, 1, 0, 0]), array([0, 0, 0, 0, 1, 0, 0]), array([0, 0, 1, 0, 0, 0, 0]), array([0, 0, 0, 0, 1, 0, 0]), array([0, 0, 0, 0, 1, 0, 0]), array([0, 0, 0, 0, 1, 0, 0]), array([0, 0, 0, 0, 1, 0, 0]), array([0, 0, 0, 0, 1, 0, 0]), array([0, 0, 0, 0, 1, 0, 0]), array([0, 1, 0, 0, 0, 0, 0]), array([0, 0, 0, 0, 0, 0, 1]), array([0, 0, 0, 0, 1, 0, 0]), array([0, 0, 0, 0, 1, 0, 0]), array([0, 0, 0, 0, 1, 0, 0]), array([0, 0, 0, 0, 1, 0, 0]), array([1, 0, 0, 0, 0, 0, 0]), array([1, 0, 0, 0, 0, 0, 0]), array([0, 0, 0, 0, 1, 0, 0]), array([0, 0, 0, 0, 0, 0, 1]), array([0, 0, 0, 0, 1, 0, 0]), array([0, 0, 0, 0, 1, 0, 0]), array([0, 0, 0, 0, 1, 0, 0]), array([0, 0, 0, 0, 1, 0, 0]), array([0, 0, 0, 0, 1, 0, 0]), array([0, 0, 0, 0, 1, 0, 0]), array([0, 0, 0, 0, 1, 0, 0]), array([0, 1, 0, 0, 0, 0, 0]), array([0, 0, 0, 0, 0, 0, 1]), array([0, 0, 0, 0, 1, 0, 0]), array([0, 0, 0, 0, 1, 0, 0]), array([0, 0, 0, 0, 1, 0, 0]), array([0, 1, 0, 0, 0, 0, 0]), array([0, 0, 0, 0, 1, 0, 0]), array([0, 0, 0, 0, 1, 0, 0]), array([0, 0, 0, 0, 1, 0, 0]), array([0, 0, 0, 0, 1, 0, 0]), array([0, 0, 0, 0, 1, 0, 0]), array([0, 1, 0, 0, 0, 0, 0]), array([0, 0, 0, 0, 1, 0, 0]), array([0, 0, 0, 0, 0, 0, 1]), array([0, 0, 0, 0, 1, 0, 0]), array([1, 0, 0, 0, 0, 0, 0]), array([1, 0, 0, 0, 0, 0, 0]), array([0, 0, 0, 0, 1, 0, 0]), array([0, 0, 0, 0, 1, 0, 0]), array([0, 0, 0, 0, 1, 0, 0]), array([0, 0, 0, 0, 1, 0, 0]), array([0, 1, 0, 0, 0, 0, 0]), array([0, 0, 0, 0, 1, 0, 0]), array([0, 0, 0, 0, 1, 0, 0]), array([0, 0, 0, 0, 1, 0, 0]), array([0, 0, 0, 0, 1, 0, 0]), array([0, 0, 0, 0, 1, 0, 0]), array([0, 0, 0, 0, 1, 0, 0]), array([0, 0, 0, 0, 1, 0, 0]), array([0, 0, 0, 0, 1, 0, 0]), array([0, 0, 0, 0, 1, 0, 0]), array([0, 0, 0, 0, 0, 0, 1]), array([0, 0, 0, 0, 0, 0, 1]), array([0, 1, 0, 0, 0, 0, 0]), array([0, 0, 0, 0, 1, 0, 0]), array([0, 0, 1, 0, 0, 0, 0]), array([0, 0, 0, 0, 1, 0, 0]), array([0, 1, 0, 0, 0, 0, 0]), array([0, 0, 0, 0, 1, 0, 0]), array([0, 0, 0, 0, 1, 0, 0]), array([0, 0, 0, 0, 1, 0, 0]), array([0, 0, 0, 0, 1, 0, 0]), array([0, 0, 0, 0, 0, 0, 1]), array([0, 0, 0, 0, 1, 0, 0]), array([0, 0, 0, 0, 0, 0, 1]), array([0, 0, 1, 0, 0, 0, 0]), array([0, 0, 0, 0, 0, 0, 1]), array([0, 0, 1, 0, 0, 0, 0]), array([0, 0, 0, 0, 1, 0, 0]), array([0, 0, 0, 0, 1, 0, 0]), array([0, 0, 0, 0, 1, 0, 0]), array([0, 1, 0, 0, 0, 0, 0]), array([0, 0, 1, 0, 0, 0, 0]), array([0, 0, 0, 0, 1, 0, 0]), array([0, 0, 0, 0, 1, 0, 0]), array([0, 0, 0, 0, 1, 0, 0]), array([0, 0, 0, 0, 1, 0, 0]), array([0, 0, 0, 0, 1, 0, 0]), array([0, 0, 0, 0, 1, 0, 0]), array([0, 0, 0, 0, 1, 0, 0]), array([0, 0, 0, 0, 1, 0, 0]), array([0, 0, 0, 0, 1, 0, 0]), array([0, 0, 0, 0, 1, 0, 0]), array([0, 1, 0, 0, 0, 0, 0]), array([0, 0, 0, 0, 0, 0, 1]), array([0, 0, 0, 0, 1, 0, 0]), array([0, 0, 0, 0, 1, 0, 0]), array([0, 0, 0, 0, 1, 0, 0]), array([0, 0, 0, 0, 1, 0, 0]), array([0, 0, 0, 0, 1, 0, 0]), array([0, 0, 0, 0, 1, 0, 0]), array([0, 0, 0, 0, 0, 0, 1]), array([0, 0, 0, 0, 1, 0, 0]), array([0, 0, 0, 0, 1, 0, 0]), array([0, 0, 0, 0, 1, 0, 0]), array([0, 1, 0, 0, 0, 0, 0]), array([0, 0, 0, 0, 1, 0, 0]), array([0, 0, 0, 0, 1, 0, 0]), array([1, 0, 0, 0, 0, 0, 0]), array([0, 0, 0, 0, 1, 0, 0]), array([0, 0, 0, 0, 1, 0, 0]), array([0, 0, 0, 0, 1, 0, 0]), array([0, 0, 0, 0, 1, 0, 0]), array([0, 0, 0, 0, 1, 0, 0]), array([0, 0, 0, 0, 0, 0, 1]), array([0, 0, 1, 0, 0, 0, 0]), array([0, 0, 1, 0, 0, 0, 0]), array([0, 1, 0, 0, 0, 0, 0]), array([0, 0, 0, 0, 1, 0, 0]), array([0, 0, 0, 0, 1, 0, 0]), array([0, 0, 1, 0, 0, 0, 0]), array([0, 0, 0, 0, 1, 0, 0]), array([0, 0, 1, 0, 0, 0, 0]), array([0, 0, 0, 0, 1, 0, 0]), array([0, 0, 0, 0, 1, 0, 0]), array([0, 0, 0, 0, 0, 0, 1]), array([0, 0, 0, 0, 1, 0, 0]), array([0, 0, 0, 0, 1, 0, 0]), array([0, 0, 0, 0, 1, 0, 0]), array([0, 0, 0, 0, 1, 0, 0]), array([0, 0, 0, 0, 1, 0, 0]), array([0, 0, 0, 0, 1, 0, 0]), array([0, 0, 0, 0, 1, 0, 0]), array([0, 0, 0, 0, 1, 0, 0]), array([0, 1, 0, 0, 0, 0, 0]), array([0, 0, 0, 0, 0, 0, 1]), array([0, 0, 0, 0, 1, 0, 0]), array([0, 1, 0, 0, 0, 0, 0]), array([0, 0, 0, 0, 1, 0, 0]), array([0, 0, 0, 0, 1, 0, 0]), array([0, 0, 0, 0, 1, 0, 0]), array([0, 0, 0, 0, 1, 0, 0]), array([0, 1, 0, 0, 0, 0, 0]), array([0, 0, 0, 0, 1, 0, 0]), array([0, 0, 0, 0, 1, 0, 0]), array([0, 0, 1, 0, 0, 0, 0]), array([0, 0, 0, 0, 1, 0, 0]), array([0, 0, 0, 0, 1, 0, 0]), array([0, 0, 0, 0, 1, 0, 0]), array([0, 0, 0, 0, 1, 0, 0]), array([0, 0, 1, 0, 0, 0, 0]), array([0, 0, 0, 0, 1, 0, 0]), array([1, 0, 0, 0, 0, 0, 0]), array([0, 0, 0, 0, 1, 0, 0]), array([0, 0, 0, 0, 1, 0, 0]), array([0, 0, 0, 0, 1, 0, 0]), array([0, 0, 0, 0, 1, 0, 0]), array([0, 0, 0, 0, 1, 0, 0]), array([0, 0, 0, 0, 1, 0, 0]), array([0, 0, 0, 0, 1, 0, 0]), array([0, 0, 0, 0, 1, 0, 0]), array([0, 0, 0, 0, 1, 0, 0]), array([0, 0, 0, 0, 1, 0, 0]), array([0, 0, 0, 0, 1, 0, 0]), array([0, 0, 0, 0, 1, 0, 0]), array([0, 0, 0, 0, 0, 0, 1]), array([0, 0, 0, 0, 1, 0, 0]), array([0, 0, 0, 0, 0, 0, 1]), array([0, 0, 1, 0, 0, 0, 0]), array([0, 0, 0, 0, 1, 0, 0]), array([0, 0, 0, 0, 1, 0, 0]), array([0, 0, 0, 0, 1, 0, 0]), array([0, 0, 0, 0, 1, 0, 0]), array([0, 0, 0, 0, 1, 0, 0]), array([0, 0, 0, 0, 1, 0, 0]), array([0, 0, 1, 0, 0, 0, 0]), array([0, 0, 0, 0, 1, 0, 0]), array([0, 0, 0, 0, 1, 0, 0]), array([0, 0, 0, 0, 0, 0, 1]), array([0, 1, 0, 0, 0, 0, 0]), array([0, 0, 0, 0, 1, 0, 0]), array([0, 0, 0, 0, 1, 0, 0]), array([0, 0, 0, 0, 1, 0, 0]), array([0, 0, 1, 0, 0, 0, 0]), array([0, 0, 0, 0, 1, 0, 0]), array([0, 0, 0, 0, 1, 0, 0]), array([0, 0, 0, 0, 1, 0, 0]), array([0, 0, 0, 0, 1, 0, 0]), array([0, 0, 0, 0, 1, 0, 0]), array([0, 0, 0, 0, 1, 0, 0]), array([0, 0, 1, 0, 0, 0, 0]), array([0, 0, 0, 0, 1, 0, 0]), array([0, 0, 1, 0, 0, 0, 0]), array([0, 0, 0, 0, 1, 0, 0]), array([0, 0, 0, 0, 1, 0, 0]), array([0, 0, 0, 0, 1, 0, 0]), array([0, 0, 0, 0, 0, 0, 1]), array([0, 0, 0, 0, 1, 0, 0]), array([0, 1, 0, 0, 0, 0, 0]), array([1, 0, 0, 0, 0, 0, 0]), array([0, 0, 1, 0, 0, 0, 0]), array([0, 0, 0, 0, 1, 0, 0]), array([0, 0, 1, 0, 0, 0, 0]), array([0, 0, 0, 0, 1, 0, 0]), array([0, 0, 1, 0, 0, 0, 0]), array([0, 0, 0, 0, 1, 0, 0]), array([0, 0, 0, 0, 1, 0, 0]), array([0, 0, 0, 0, 1, 0, 0]), array([0, 0, 0, 0, 1, 0, 0]), array([0, 0, 0, 0, 1, 0, 0]), array([0, 0, 0, 0, 1, 0, 0]), array([0, 0, 0, 0, 1, 0, 0]), array([0, 0, 0, 0, 1, 0, 0]), array([0, 0, 0, 0, 1, 0, 0]), array([0, 0, 0, 0, 1, 0, 0]), array([0, 0, 0, 0, 1, 0, 0]), array([0, 0, 1, 0, 0, 0, 0]), array([0, 0, 0, 0, 1, 0, 0]), array([0, 0, 0, 0, 1, 0, 0]), array([0, 0, 0, 0, 1, 0, 0]), array([0, 0, 1, 0, 0, 0, 0]), array([0, 0, 0, 0, 0, 0, 1]), array([0, 0, 0, 0, 1, 0, 0]), array([0, 0, 0, 0, 1, 0, 0]), array([0, 0, 0, 0, 1, 0, 0]), array([0, 0, 1, 0, 0, 0, 0]), array([0, 0, 0, 0, 1, 0, 0]), array([0, 1, 0, 0, 0, 0, 0]), array([0, 0, 0, 0, 1, 0, 0]), array([0, 0, 0, 0, 1, 0, 0]), array([0, 0, 0, 0, 0, 0, 1]), array([0, 0, 0, 0, 0, 0, 1]), array([0, 0, 0, 0, 1, 0, 0]), array([0, 1, 0, 0, 0, 0, 0]), array([0, 0, 0, 0, 1, 0, 0]), array([0, 0, 0, 0, 1, 0, 0]), array([0, 0, 0, 1, 0, 0, 0]), array([0, 0, 0, 0, 0, 0, 1]), array([0, 0, 0, 0, 1, 0, 0]), array([0, 0, 0, 1, 0, 0, 0]), array([0, 0, 0, 0, 1, 0, 0]), array([0, 0, 0, 0, 1, 0, 0]), array([0, 0, 0, 0, 1, 0, 0]), array([0, 0, 1, 0, 0, 0, 0]), array([0, 0, 0, 0, 1, 0, 0]), array([0, 0, 0, 0, 0, 0, 1]), array([0, 0, 0, 0, 0, 0, 1]), array([0, 0, 0, 0, 0, 1, 0]), array([1, 0, 0, 0, 0, 0, 0]), array([0, 0, 0, 0, 0, 0, 1]), array([0, 0, 0, 0, 1, 0, 0]), array([0, 0, 1, 0, 0, 0, 0]), array([0, 0, 0, 0, 0, 0, 1]), array([0, 0, 0, 0, 1, 0, 0]), array([0, 0, 0, 0, 1, 0, 0]), array([0, 0, 0, 0, 1, 0, 0]), array([0, 0, 0, 0, 0, 0, 1]), array([0, 0, 0, 0, 1, 0, 0]), array([0, 0, 0, 0, 1, 0, 0]), array([0, 0, 0, 0, 1, 0, 0]), array([0, 0, 1, 0, 0, 0, 0]), array([0, 0, 0, 0, 0, 0, 1]), array([0, 0, 0, 0, 1, 0, 0]), array([0, 0, 0, 0, 1, 0, 0]), array([0, 0, 0, 0, 1, 0, 0]), array([0, 0, 1, 0, 0, 0, 0]), array([1, 0, 0, 0, 0, 0, 0]), array([0, 0, 0, 0, 1, 0, 0]), array([0, 0, 0, 0, 0, 1, 0]), array([0, 0, 0, 0, 1, 0, 0]), array([0, 0, 0, 0, 1, 0, 0]), array([1, 0, 0, 0, 0, 0, 0]), array([1, 0, 0, 0, 0, 0, 0]), array([0, 0, 0, 0, 1, 0, 0]), array([0, 0, 0, 0, 1, 0, 0]), array([0, 0, 0, 0, 1, 0, 0]), array([0, 0, 0, 0, 1, 0, 0]), array([0, 0, 0, 0, 1, 0, 0]), array([0, 0, 0, 0, 1, 0, 0]), array([0, 0, 0, 0, 1, 0, 0]), array([0, 0, 0, 0, 1, 0, 0]), array([0, 0, 0, 0, 1, 0, 0]), array([1, 0, 0, 0, 0, 0, 0]), array([0, 0, 0, 0, 0, 0, 1]), array([0, 0, 0, 0, 1, 0, 0]), array([0, 0, 0, 0, 1, 0, 0]), array([0, 0, 0, 0, 1, 0, 0]), array([0, 0, 0, 0, 1, 0, 0]), array([0, 0, 0, 0, 0, 0, 1]), array([0, 0, 0, 0, 0, 0, 1]), array([0, 0, 0, 0, 0, 0, 1]), array([0, 0, 0, 0, 1, 0, 0]), array([0, 0, 0, 0, 1, 0, 0]), array([0, 0, 0, 0, 0, 0, 1]), array([0, 1, 0, 0, 0, 0, 0]), array([0, 0, 0, 0, 1, 0, 0]), array([0, 0, 0, 0, 1, 0, 0]), array([0, 0, 0, 0, 1, 0, 0]), array([0, 0, 0, 0, 1, 0, 0]), array([0, 0, 1, 0, 0, 0, 0]), array([0, 0, 0, 0, 1, 0, 0]), array([0, 0, 0, 0, 1, 0, 0]), array([0, 0, 0, 0, 0, 0, 1]), array([0, 0, 0, 0, 1, 0, 0]), array([0, 0, 1, 0, 0, 0, 0]), array([0, 1, 0, 0, 0, 0, 0]), array([0, 1, 0, 0, 0, 0, 0]), array([0, 0, 0, 0, 1, 0, 0]), array([0, 1, 0, 0, 0, 0, 0]), array([0, 0, 0, 0, 1, 0, 0]), array([0, 0, 1, 0, 0, 0, 0]), array([0, 0, 0, 0, 1, 0, 0]), array([0, 0, 0, 0, 1, 0, 0]), array([0, 0, 0, 0, 1, 0, 0]), array([0, 0, 0, 0, 1, 0, 0]), array([0, 0, 0, 0, 1, 0, 0]), array([0, 0, 1, 0, 0, 0, 0]), array([0, 0, 0, 0, 0, 0, 1]), array([0, 0, 0, 0, 1, 0, 0]), array([0, 0, 0, 0, 1, 0, 0]), array([0, 0, 1, 0, 0, 0, 0]), array([0, 0, 0, 0, 1, 0, 0]), array([0, 0, 0, 0, 1, 0, 0]), array([0, 0, 0, 0, 0, 0, 1]), array([0, 0, 1, 0, 0, 0, 0]), array([0, 0, 0, 0, 1, 0, 0]), array([0, 0, 1, 0, 0, 0, 0]), array([0, 0, 0, 0, 1, 0, 0]), array([0, 0, 0, 0, 1, 0, 0]), array([0, 0, 0, 0, 0, 0, 1]), array([0, 0, 1, 0, 0, 0, 0]), array([1, 0, 0, 0, 0, 0, 0]), array([0, 0, 0, 0, 1, 0, 0]), array([0, 0, 0, 0, 1, 0, 0]), array([0, 0, 0, 0, 0, 1, 0]), array([0, 0, 0, 0, 1, 0, 0]), array([0, 0, 0, 0, 1, 0, 0]), array([0, 0, 0, 0, 0, 0, 1]), array([0, 0, 0, 0, 1, 0, 0]), array([0, 0, 0, 0, 1, 0, 0]), array([0, 0, 0, 0, 0, 0, 1]), array([0, 0, 0, 0, 1, 0, 0]), array([0, 0, 0, 0, 1, 0, 0]), array([0, 0, 0, 0, 0, 0, 1]), array([0, 0, 0, 0, 1, 0, 0]), array([0, 0, 0, 0, 1, 0, 0]), array([0, 0, 0, 0, 1, 0, 0]), array([0, 0, 0, 0, 1, 0, 0]), array([0, 0, 0, 0, 1, 0, 0]), array([0, 0, 0, 0, 1, 0, 0]), array([0, 0, 0, 0, 1, 0, 0]), array([0, 0, 0, 0, 0, 0, 1]), array([0, 0, 1, 0, 0, 0, 0]), array([0, 0, 0, 0, 0, 0, 1]), array([0, 0, 0, 0, 1, 0, 0]), array([0, 0, 1, 0, 0, 0, 0]), array([0, 0, 0, 0, 1, 0, 0]), array([0, 0, 0, 0, 0, 0, 1]), array([0, 0, 0, 0, 1, 0, 0]), array([0, 0, 0, 0, 0, 0, 1]), array([0, 0, 0, 0, 1, 0, 0]), array([0, 0, 0, 0, 1, 0, 0]), array([0, 0, 0, 0, 1, 0, 0]), array([1, 0, 0, 0, 0, 0, 0]), array([0, 1, 0, 0, 0, 0, 0]), array([0, 0, 0, 0, 1, 0, 0]), array([0, 0, 0, 0, 1, 0, 0]), array([0, 0, 0, 0, 1, 0, 0]), array([0, 0, 0, 0, 1, 0, 0]), array([0, 0, 0, 0, 1, 0, 0]), array([0, 1, 0, 0, 0, 0, 0]), array([0, 0, 0, 0, 1, 0, 0]), array([0, 0, 0, 0, 1, 0, 0]), array([0, 0, 0, 0, 0, 0, 1]), array([0, 0, 0, 0, 1, 0, 0]), array([0, 0, 0, 0, 1, 0, 0]), array([0, 0, 0, 0, 1, 0, 0]), array([0, 0, 0, 0, 1, 0, 0]), array([0, 0, 0, 0, 1, 0, 0]), array([1, 0, 0, 0, 0, 0, 0]), array([0, 0, 0, 0, 1, 0, 0]), array([0, 0, 0, 0, 1, 0, 0]), array([0, 0, 0, 0, 1, 0, 0]), array([0, 0, 0, 0, 1, 0, 0]), array([0, 0, 0, 0, 1, 0, 0]), array([0, 0, 0, 0, 1, 0, 0]), array([0, 0, 1, 0, 0, 0, 0]), array([0, 0, 0, 0, 1, 0, 0]), array([0, 0, 0, 0, 1, 0, 0]), array([0, 0, 0, 0, 1, 0, 0]), array([0, 0, 0, 0, 1, 0, 0]), array([0, 0, 0, 0, 1, 0, 0]), array([0, 0, 1, 0, 0, 0, 0]), array([0, 0, 0, 0, 1, 0, 0]), array([0, 0, 0, 0, 1, 0, 0]), array([0, 0, 0, 0, 1, 0, 0]), array([0, 0, 1, 0, 0, 0, 0]), array([0, 0, 0, 0, 1, 0, 0]), array([0, 0, 0, 0, 1, 0, 0]), array([0, 0, 1, 0, 0, 0, 0]), array([0, 0, 0, 0, 0, 0, 1]), array([0, 0, 0, 0, 1, 0, 0]), array([0, 0, 0, 0, 1, 0, 0]), array([0, 0, 0, 0, 1, 0, 0]), array([0, 0, 0, 0, 0, 0, 1]), array([0, 0, 0, 0, 1, 0, 0]), array([0, 0, 0, 0, 1, 0, 0]), array([0, 0, 0, 0, 1, 0, 0]), array([0, 0, 0, 0, 1, 0, 0]), array([0, 0, 0, 0, 0, 0, 1]), array([0, 0, 0, 0, 1, 0, 0]), array([0, 0, 0, 0, 1, 0, 0]), array([0, 0, 0, 0, 1, 0, 0]), array([0, 0, 0, 0, 1, 0, 0]), array([0, 0, 0, 0, 1, 0, 0]), array([0, 0, 0, 0, 1, 0, 0]), array([1, 0, 0, 0, 0, 0, 0]), array([0, 0, 0, 0, 1, 0, 0]), array([0, 0, 0, 0, 1, 0, 0]), array([0, 0, 0, 0, 1, 0, 0]), array([0, 0, 0, 0, 1, 0, 0]), array([0, 1, 0, 0, 0, 0, 0]), array([0, 0, 0, 0, 1, 0, 0]), array([0, 0, 0, 0, 1, 0, 0]), array([0, 0, 0, 0, 1, 0, 0]), array([0, 0, 0, 0, 0, 0, 1]), array([0, 0, 1, 0, 0, 0, 0]), array([0, 0, 0, 0, 1, 0, 0]), array([0, 0, 0, 0, 1, 0, 0]), array([0, 0, 0, 0, 1, 0, 0]), array([0, 0, 0, 0, 1, 0, 0]), array([0, 0, 0, 0, 1, 0, 0]), array([0, 0, 0, 0, 1, 0, 0]), array([0, 0, 0, 0, 1, 0, 0]), array([0, 0, 0, 0, 1, 0, 0]), array([0, 0, 0, 0, 1, 0, 0]), array([0, 0, 0, 0, 1, 0, 0]), array([0, 0, 0, 0, 0, 0, 1]), array([1, 0, 0, 0, 0, 0, 0]), array([0, 0, 0, 0, 1, 0, 0]), array([1, 0, 0, 0, 0, 0, 0]), array([0, 0, 1, 0, 0, 0, 0]), array([0, 0, 0, 0, 1, 0, 0]), array([0, 0, 0, 0, 1, 0, 0]), array([0, 0, 0, 0, 1, 0, 0]), array([1, 0, 0, 0, 0, 0, 0]), array([0, 0, 0, 0, 1, 0, 0]), array([0, 0, 0, 0, 0, 0, 1]), array([0, 0, 0, 0, 1, 0, 0]), array([0, 0, 0, 0, 1, 0, 0]), array([0, 0, 0, 0, 0, 0, 1]), array([0, 0, 0, 0, 0, 0, 1]), array([0, 0, 0, 0, 1, 0, 0]), array([0, 0, 0, 0, 1, 0, 0]), array([0, 0, 0, 0, 0, 0, 1]), array([0, 0, 0, 0, 1, 0, 0]), array([0, 0, 0, 0, 1, 0, 0]), array([0, 0, 0, 0, 1, 0, 0]), array([0, 0, 1, 0, 0, 0, 0]), array([0, 0, 0, 0, 1, 0, 0]), array([0, 0, 0, 0, 1, 0, 0]), array([0, 0, 0, 0, 1, 0, 0]), array([0, 0, 0, 0, 1, 0, 0]), array([0, 0, 0, 0, 1, 0, 0]), array([0, 0, 0, 0, 1, 0, 0]), array([0, 0, 0, 0, 1, 0, 0]), array([0, 1, 0, 0, 0, 0, 0]), array([0, 0, 0, 0, 1, 0, 0]), array([0, 0, 0, 0, 1, 0, 0]), array([0, 0, 0, 0, 1, 0, 0]), array([0, 0, 0, 0, 1, 0, 0]), array([0, 0, 0, 0, 1, 0, 0]), array([0, 0, 0, 0, 1, 0, 0]), array([0, 0, 0, 0, 1, 0, 0]), array([0, 0, 0, 0, 1, 0, 0]), array([0, 0, 1, 0, 0, 0, 0]), array([0, 0, 0, 0, 1, 0, 0]), array([0, 1, 0, 0, 0, 0, 0]), array([0, 0, 0, 0, 0, 0, 1]), array([0, 1, 0, 0, 0, 0, 0]), array([0, 0, 0, 0, 1, 0, 0]), array([0, 0, 0, 0, 1, 0, 0]), array([0, 0, 0, 0, 1, 0, 0]), array([1, 0, 0, 0, 0, 0, 0]), array([1, 0, 0, 0, 0, 0, 0]), array([0, 1, 0, 0, 0, 0, 0]), array([0, 0, 0, 0, 1, 0, 0]), array([0, 0, 1, 0, 0, 0, 0]), array([0, 0, 0, 0, 1, 0, 0]), array([0, 0, 1, 0, 0, 0, 0]), array([0, 1, 0, 0, 0, 0, 0]), array([0, 0, 0, 0, 1, 0, 0]), array([0, 0, 0, 0, 1, 0, 0]), array([0, 0, 0, 0, 1, 0, 0]), array([0, 0, 0, 0, 1, 0, 0]), array([0, 0, 1, 0, 0, 0, 0]), array([0, 0, 0, 0, 1, 0, 0]), array([0, 0, 0, 0, 0, 1, 0]), array([1, 0, 0, 0, 0, 0, 0]), array([0, 0, 0, 1, 0, 0, 0]), array([0, 0, 0, 0, 1, 0, 0]), array([0, 0, 0, 0, 1, 0, 0]), array([0, 0, 0, 0, 1, 0, 0]), array([0, 0, 0, 0, 1, 0, 0]), array([0, 0, 0, 0, 1, 0, 0]), array([0, 0, 0, 0, 1, 0, 0]), array([0, 0, 0, 0, 1, 0, 0]), array([0, 0, 0, 0, 1, 0, 0]), array([0, 0, 0, 0, 1, 0, 0]), array([0, 0, 0, 0, 1, 0, 0]), array([0, 0, 1, 0, 0, 0, 0]), array([0, 0, 0, 0, 1, 0, 0]), array([0, 0, 0, 0, 1, 0, 0]), array([0, 0, 0, 0, 1, 0, 0]), array([0, 0, 1, 0, 0, 0, 0]), array([0, 1, 0, 0, 0, 0, 0]), array([0, 0, 0, 0, 0, 0, 1]), array([0, 0, 0, 0, 1, 0, 0]), array([0, 0, 0, 0, 1, 0, 0]), array([0, 1, 0, 0, 0, 0, 0]), array([1, 0, 0, 0, 0, 0, 0]), array([0, 0, 0, 0, 1, 0, 0]), array([0, 0, 0, 0, 1, 0, 0]), array([0, 0, 0, 0, 1, 0, 0]), array([0, 0, 0, 0, 1, 0, 0]), array([0, 0, 0, 0, 1, 0, 0]), array([0, 0, 1, 0, 0, 0, 0]), array([0, 0, 0, 0, 1, 0, 0]), array([0, 0, 0, 0, 1, 0, 0]), array([0, 0, 0, 0, 1, 0, 0]), array([0, 0, 0, 0, 1, 0, 0]), array([0, 0, 0, 0, 1, 0, 0]), array([0, 0, 0, 0, 1, 0, 0]), array([0, 0, 0, 0, 1, 0, 0]), array([0, 1, 0, 0, 0, 0, 0]), array([0, 0, 0, 0, 1, 0, 0]), array([0, 0, 0, 0, 1, 0, 0]), array([0, 0, 0, 0, 1, 0, 0]), array([0, 0, 0, 0, 1, 0, 0]), array([0, 0, 1, 0, 0, 0, 0]), array([0, 0, 0, 0, 1, 0, 0]), array([0, 0, 0, 0, 1, 0, 0]), array([0, 0, 0, 0, 1, 0, 0]), array([0, 0, 0, 0, 1, 0, 0]), array([0, 0, 1, 0, 0, 0, 0]), array([0, 0, 0, 0, 1, 0, 0]), array([0, 0, 0, 0, 0, 0, 1]), array([0, 0, 0, 0, 1, 0, 0]), array([0, 0, 0, 0, 1, 0, 0]), array([0, 0, 0, 0, 1, 0, 0]), array([0, 0, 0, 0, 1, 0, 0]), array([0, 0, 0, 0, 1, 0, 0]), array([0, 0, 0, 0, 1, 0, 0]), array([0, 0, 0, 0, 1, 0, 0]), array([0, 0, 0, 0, 1, 0, 0]), array([0, 0, 0, 0, 0, 1, 0]), array([0, 0, 0, 0, 1, 0, 0]), array([0, 0, 0, 0, 0, 0, 1]), array([0, 0, 0, 0, 1, 0, 0]), array([0, 0, 0, 0, 1, 0, 0]), array([1, 0, 0, 0, 0, 0, 0]), array([0, 0, 0, 0, 1, 0, 0]), array([0, 0, 1, 0, 0, 0, 0]), array([0, 0, 0, 0, 1, 0, 0]), array([0, 0, 0, 0, 0, 0, 1]), array([0, 0, 0, 0, 1, 0, 0]), array([0, 0, 1, 0, 0, 0, 0]), array([0, 0, 0, 0, 1, 0, 0]), array([0, 0, 0, 0, 1, 0, 0]), array([1, 0, 0, 0, 0, 0, 0]), array([0, 0, 0, 0, 1, 0, 0]), array([0, 0, 0, 0, 1, 0, 0]), array([0, 0, 0, 0, 1, 0, 0]), array([0, 1, 0, 0, 0, 0, 0]), array([0, 0, 1, 0, 0, 0, 0]), array([0, 0, 1, 0, 0, 0, 0]), array([0, 0, 0, 0, 1, 0, 0]), array([0, 0, 0, 0, 1, 0, 0]), array([0, 0, 0, 0, 1, 0, 0]), array([0, 0, 0, 0, 0, 0, 1]), array([0, 0, 0, 0, 1, 0, 0]), array([0, 0, 0, 0, 1, 0, 0]), array([0, 0, 0, 0, 0, 0, 1]), array([0, 0, 0, 0, 1, 0, 0]), array([0, 0, 0, 0, 1, 0, 0]), array([0, 0, 0, 0, 1, 0, 0]), array([0, 0, 0, 0, 1, 0, 0]), array([0, 0, 0, 0, 1, 0, 0]), array([0, 0, 0, 0, 1, 0, 0]), array([0, 1, 0, 0, 0, 0, 0]), array([0, 0, 0, 0, 1, 0, 0]), array([0, 0, 1, 0, 0, 0, 0]), array([0, 0, 0, 0, 1, 0, 0]), array([0, 0, 0, 0, 1, 0, 0]), array([0, 0, 0, 0, 1, 0, 0]), array([0, 0, 0, 0, 1, 0, 0]), array([0, 0, 0, 0, 1, 0, 0]), array([0, 0, 0, 0, 1, 0, 0]), array([0, 0, 0, 0, 1, 0, 0]), array([0, 0, 0, 0, 1, 0, 0]), array([0, 0, 0, 0, 1, 0, 0]), array([0, 0, 0, 0, 1, 0, 0]), array([0, 0, 0, 0, 1, 0, 0]), array([0, 0, 0, 0, 1, 0, 0]), array([0, 0, 0, 0, 1, 0, 0]), array([0, 0, 0, 0, 1, 0, 0]), array([0, 0, 0, 0, 0, 0, 1]), array([0, 0, 0, 0, 1, 0, 0]), array([0, 0, 0, 0, 0, 0, 1]), array([0, 1, 0, 0, 0, 0, 0]), array([0, 0, 0, 0, 1, 0, 0]), array([0, 0, 0, 0, 1, 0, 0]), array([0, 0, 0, 0, 1, 0, 0]), array([0, 0, 0, 0, 1, 0, 0]), array([0, 0, 0, 0, 1, 0, 0]), array([0, 0, 0, 0, 1, 0, 0]), array([0, 0, 0, 0, 1, 0, 0]), array([0, 0, 0, 0, 1, 0, 0]), array([0, 0, 0, 0, 1, 0, 0]), array([0, 0, 0, 0, 1, 0, 0]), array([0, 0, 0, 0, 1, 0, 0]), array([0, 0, 0, 0, 1, 0, 0]), array([0, 0, 0, 0, 1, 0, 0]), array([0, 0, 0, 0, 1, 0, 0]), array([0, 0, 1, 0, 0, 0, 0]), array([0, 0, 1, 0, 0, 0, 0]), array([0, 0, 0, 0, 1, 0, 0]), array([0, 0, 0, 0, 1, 0, 0]), array([0, 0, 0, 0, 1, 0, 0]), array([0, 0, 0, 0, 1, 0, 0]), array([0, 0, 0, 0, 1, 0, 0]), array([0, 0, 0, 0, 1, 0, 0]), array([0, 0, 0, 0, 1, 0, 0]), array([0, 0, 0, 0, 1, 0, 0]), array([0, 0, 0, 0, 1, 0, 0]), array([0, 0, 0, 0, 1, 0, 0]), array([0, 0, 0, 0, 1, 0, 0]), array([0, 0, 0, 0, 1, 0, 0]), array([0, 0, 0, 0, 0, 0, 1]), array([0, 0, 0, 0, 1, 0, 0]), array([0, 0, 1, 0, 0, 0, 0]), array([0, 0, 0, 0, 1, 0, 0]), array([0, 0, 1, 0, 0, 0, 0]), array([0, 0, 0, 0, 1, 0, 0]), array([0, 0, 0, 0, 1, 0, 0]), array([0, 0, 0, 0, 1, 0, 0]), array([0, 0, 1, 0, 0, 0, 0]), array([0, 0, 0, 0, 1, 0, 0]), array([0, 1, 0, 0, 0, 0, 0]), array([0, 1, 0, 0, 0, 0, 0]), array([0, 0, 0, 0, 1, 0, 0]), array([0, 0, 0, 0, 1, 0, 0]), array([0, 0, 0, 0, 1, 0, 0]), array([0, 0, 0, 0, 1, 0, 0]), array([0, 1, 0, 0, 0, 0, 0]), array([0, 0, 1, 0, 0, 0, 0]), array([0, 0, 0, 0, 1, 0, 0]), array([0, 0, 0, 0, 1, 0, 0]), array([0, 0, 1, 0, 0, 0, 0]), array([0, 0, 0, 0, 1, 0, 0]), array([0, 0, 0, 0, 1, 0, 0]), array([0, 0, 0, 0, 0, 0, 1]), array([0, 0, 0, 0, 1, 0, 0]), array([0, 0, 0, 0, 1, 0, 0]), array([0, 0, 0, 0, 1, 0, 0]), array([0, 0, 0, 0, 1, 0, 0]), array([0, 0, 0, 0, 1, 0, 0]), array([0, 0, 0, 1, 0, 0, 0]), array([0, 0, 0, 0, 1, 0, 0]), array([0, 1, 0, 0, 0, 0, 0]), array([0, 0, 0, 0, 1, 0, 0]), array([0, 0, 1, 0, 0, 0, 0]), array([0, 0, 0, 0, 1, 0, 0]), array([0, 0, 0, 0, 1, 0, 0]), array([0, 0, 0, 0, 1, 0, 0]), array([0, 0, 0, 0, 1, 0, 0]), array([0, 0, 0, 0, 1, 0, 0]), array([0, 0, 0, 0, 1, 0, 0]), array([0, 0, 0, 0, 1, 0, 0]), array([0, 0, 0, 0, 1, 0, 0]), array([0, 0, 1, 0, 0, 0, 0]), array([0, 0, 0, 0, 1, 0, 0]), array([0, 0, 0, 0, 1, 0, 0]), array([0, 0, 0, 0, 1, 0, 0]), array([0, 0, 0, 0, 1, 0, 0]), array([0, 0, 0, 0, 1, 0, 0]), array([0, 0, 0, 0, 1, 0, 0]), array([0, 0, 0, 0, 1, 0, 0]), array([0, 0, 0, 0, 0, 0, 1]), array([1, 0, 0, 0, 0, 0, 0]), array([0, 0, 0, 0, 1, 0, 0]), array([0, 0, 0, 0, 1, 0, 0]), array([0, 0, 0, 0, 1, 0, 0]), array([0, 0, 0, 0, 1, 0, 0]), array([0, 0, 0, 0, 1, 0, 0]), array([0, 0, 0, 0, 1, 0, 0]), array([0, 0, 0, 0, 1, 0, 0]), array([0, 0, 0, 0, 1, 0, 0]), array([0, 0, 0, 0, 1, 0, 0]), array([0, 0, 1, 0, 0, 0, 0]), array([0, 0, 0, 0, 1, 0, 0]), array([0, 0, 0, 0, 1, 0, 0]), array([0, 0, 0, 0, 1, 0, 0]), array([0, 0, 0, 0, 0, 0, 1]), array([0, 0, 0, 0, 1, 0, 0]), array([0, 0, 1, 0, 0, 0, 0]), array([0, 0, 0, 0, 1, 0, 0]), array([0, 0, 0, 0, 0, 0, 1]), array([0, 0, 0, 0, 1, 0, 0]), array([0, 0, 1, 0, 0, 0, 0]), array([0, 0, 0, 0, 1, 0, 0]), array([0, 0, 1, 0, 0, 0, 0]), array([0, 0, 0, 0, 1, 0, 0]), array([0, 0, 0, 0, 1, 0, 0]), array([0, 0, 0, 0, 0, 0, 1]), array([0, 0, 1, 0, 0, 0, 0]), array([0, 0, 0, 0, 1, 0, 0]), array([0, 0, 0, 0, 1, 0, 0]), array([0, 0, 0, 0, 1, 0, 0]), array([0, 0, 0, 0, 1, 0, 0]), array([0, 0, 0, 0, 1, 0, 0]), array([0, 0, 1, 0, 0, 0, 0]), array([0, 0, 0, 0, 1, 0, 0]), array([0, 0, 0, 0, 1, 0, 0]), array([0, 0, 1, 0, 0, 0, 0]), array([0, 0, 0, 0, 0, 0, 1]), array([1, 0, 0, 0, 0, 0, 0]), array([0, 0, 0, 0, 1, 0, 0]), array([0, 0, 1, 0, 0, 0, 0]), array([0, 0, 0, 0, 0, 0, 1]), array([0, 0, 0, 0, 1, 0, 0]), array([0, 0, 0, 0, 1, 0, 0]), array([0, 0, 0, 0, 1, 0, 0]), array([0, 0, 0, 0, 1, 0, 0]), array([0, 0, 0, 0, 1, 0, 0]), array([0, 0, 0, 0, 0, 0, 1]), array([0, 0, 0, 0, 1, 0, 0]), array([0, 0, 0, 0, 1, 0, 0]), array([1, 0, 0, 0, 0, 0, 0]), array([0, 0, 0, 0, 1, 0, 0]), array([0, 0, 0, 0, 1, 0, 0]), array([1, 0, 0, 0, 0, 0, 0]), array([0, 0, 1, 0, 0, 0, 0]), array([0, 0, 0, 0, 1, 0, 0]), array([0, 0, 0, 0, 0, 0, 1]), array([0, 0, 0, 0, 1, 0, 0]), array([0, 0, 0, 1, 0, 0, 0]), array([0, 0, 1, 0, 0, 0, 0]), array([0, 0, 0, 0, 1, 0, 0]), array([0, 0, 0, 0, 1, 0, 0]), array([0, 0, 0, 0, 1, 0, 0]), array([0, 0, 1, 0, 0, 0, 0]), array([0, 0, 0, 0, 1, 0, 0]), array([0, 0, 0, 0, 0, 0, 1]), array([0, 0, 0, 0, 1, 0, 0]), array([0, 0, 0, 0, 1, 0, 0]), array([0, 0, 0, 0, 0, 0, 1]), array([0, 1, 0, 0, 0, 0, 0]), array([0, 0, 0, 0, 1, 0, 0]), array([0, 0, 0, 0, 1, 0, 0]), array([0, 0, 0, 0, 1, 0, 0]), array([0, 0, 1, 0, 0, 0, 0]), array([0, 0, 0, 0, 1, 0, 0]), array([0, 0, 0, 0, 1, 0, 0]), array([0, 0, 0, 0, 1, 0, 0]), array([0, 0, 0, 0, 1, 0, 0]), array([0, 0, 0, 0, 1, 0, 0]), array([0, 0, 1, 0, 0, 0, 0]), array([0, 0, 0, 0, 1, 0, 0]), array([0, 0, 0, 0, 1, 0, 0]), array([0, 0, 0, 0, 1, 0, 0]), array([0, 0, 0, 0, 0, 0, 1]), array([0, 0, 0, 0, 1, 0, 0]), array([0, 0, 0, 0, 1, 0, 0]), array([0, 0, 0, 0, 1, 0, 0]), array([0, 1, 0, 0, 0, 0, 0]), array([0, 0, 0, 0, 1, 0, 0]), array([0, 0, 0, 0, 1, 0, 0]), array([0, 0, 1, 0, 0, 0, 0]), array([0, 0, 0, 0, 1, 0, 0]), array([0, 0, 0, 0, 0, 0, 1]), array([0, 0, 0, 0, 1, 0, 0]), array([0, 0, 0, 0, 1, 0, 0]), array([0, 0, 0, 0, 1, 0, 0]), array([0, 0, 0, 0, 1, 0, 0]), array([0, 0, 0, 0, 0, 0, 1]), array([0, 0, 1, 0, 0, 0, 0]), array([0, 0, 0, 0, 1, 0, 0]), array([0, 0, 1, 0, 0, 0, 0]), array([0, 0, 0, 0, 1, 0, 0]), array([0, 0, 0, 0, 1, 0, 0]), array([0, 0, 0, 0, 1, 0, 0]), array([0, 0, 1, 0, 0, 0, 0]), array([0, 0, 0, 0, 0, 0, 1]), array([0, 0, 0, 1, 0, 0, 0]), array([0, 0, 0, 0, 1, 0, 0]), array([0, 0, 0, 0, 1, 0, 0]), array([0, 0, 0, 0, 1, 0, 0]), array([0, 0, 0, 0, 1, 0, 0]), array([0, 0, 0, 0, 1, 0, 0]), array([0, 0, 0, 0, 1, 0, 0]), array([0, 0, 0, 0, 0, 1, 0]), array([0, 0, 1, 0, 0, 0, 0]), array([0, 0, 0, 0, 1, 0, 0]), array([0, 0, 0, 1, 0, 0, 0]), array([0, 0, 0, 0, 1, 0, 0]), array([0, 0, 0, 0, 1, 0, 0]), array([0, 0, 0, 0, 1, 0, 0]), array([0, 0, 0, 0, 1, 0, 0]), array([1, 0, 0, 0, 0, 0, 0]), array([0, 0, 0, 0, 0, 0, 1]), array([0, 0, 0, 0, 1, 0, 0]), array([0, 0, 1, 0, 0, 0, 0]), array([0, 0, 0, 0, 1, 0, 0]), array([0, 0, 0, 0, 0, 0, 1]), array([0, 0, 0, 0, 1, 0, 0]), array([0, 0, 0, 0, 1, 0, 0]), array([0, 0, 0, 0, 0, 0, 1]), array([0, 0, 1, 0, 0, 0, 0]), array([0, 0, 0, 0, 1, 0, 0]), array([0, 1, 0, 0, 0, 0, 0]), array([0, 0, 1, 0, 0, 0, 0]), array([0, 0, 0, 0, 1, 0, 0]), array([0, 0, 0, 0, 1, 0, 0]), array([0, 0, 0, 0, 1, 0, 0]), array([0, 0, 0, 0, 1, 0, 0]), array([0, 1, 0, 0, 0, 0, 0]), array([0, 0, 0, 0, 1, 0, 0]), array([0, 0, 0, 0, 1, 0, 0]), array([0, 0, 0, 0, 1, 0, 0]), array([0, 0, 1, 0, 0, 0, 0]), array([0, 0, 0, 0, 1, 0, 0]), array([0, 0, 0, 0, 1, 0, 0]), array([0, 0, 0, 0, 0, 0, 1]), array([0, 0, 0, 0, 1, 0, 0]), array([0, 0, 0, 0, 1, 0, 0]), array([0, 1, 0, 0, 0, 0, 0]), array([0, 0, 1, 0, 0, 0, 0]), array([0, 0, 1, 0, 0, 0, 0]), array([0, 0, 0, 0, 1, 0, 0]), array([0, 0, 0, 0, 1, 0, 0]), array([0, 0, 0, 0, 1, 0, 0]), array([0, 0, 0, 0, 1, 0, 0]), array([0, 0, 0, 0, 1, 0, 0]), array([0, 0, 1, 0, 0, 0, 0]), array([0, 0, 1, 0, 0, 0, 0]), array([0, 1, 0, 0, 0, 0, 0]), array([0, 0, 0, 0, 1, 0, 0]), array([0, 0, 0, 0, 1, 0, 0]), array([0, 0, 0, 0, 0, 1, 0]), array([0, 0, 0, 0, 1, 0, 0]), array([0, 0, 0, 0, 1, 0, 0]), array([0, 0, 1, 0, 0, 0, 0]), array([0, 1, 0, 0, 0, 0, 0]), array([1, 0, 0, 0, 0, 0, 0]), array([0, 1, 0, 0, 0, 0, 0]), array([0, 0, 1, 0, 0, 0, 0]), array([0, 0, 0, 0, 1, 0, 0]), array([0, 0, 0, 0, 0, 0, 1]), array([0, 0, 0, 0, 1, 0, 0]), array([0, 0, 0, 0, 0, 0, 1]), array([0, 0, 0, 0, 1, 0, 0]), array([0, 0, 0, 0, 1, 0, 0]), array([0, 0, 0, 0, 0, 1, 0]), array([0, 0, 1, 0, 0, 0, 0]), array([0, 1, 0, 0, 0, 0, 0]), array([0, 0, 0, 0, 1, 0, 0]), array([0, 0, 0, 0, 1, 0, 0]), array([0, 0, 0, 0, 1, 0, 0]), array([0, 0, 1, 0, 0, 0, 0]), array([0, 0, 0, 0, 1, 0, 0]), array([0, 0, 0, 0, 1, 0, 0]), array([0, 0, 0, 0, 0, 0, 1]), array([0, 0, 0, 0, 1, 0, 0]), array([0, 0, 0, 0, 1, 0, 0]), array([0, 0, 0, 0, 1, 0, 0]), array([0, 0, 0, 0, 1, 0, 0]), array([0, 0, 0, 0, 1, 0, 0]), array([0, 0, 0, 0, 1, 0, 0]), array([0, 0, 0, 0, 1, 0, 0]), array([0, 0, 0, 0, 1, 0, 0]), array([0, 0, 0, 0, 1, 0, 0]), array([1, 0, 0, 0, 0, 0, 0]), array([0, 0, 0, 0, 1, 0, 0]), array([0, 0, 0, 0, 0, 0, 1]), array([0, 0, 0, 0, 1, 0, 0]), array([0, 0, 0, 0, 1, 0, 0]), array([0, 0, 0, 0, 1, 0, 0]), array([0, 0, 0, 0, 1, 0, 0]), array([0, 0, 0, 0, 1, 0, 0]), array([0, 0, 0, 0, 1, 0, 0]), array([0, 0, 0, 0, 0, 0, 1]), array([0, 0, 1, 0, 0, 0, 0]), array([0, 0, 0, 0, 1, 0, 0]), array([0, 0, 0, 0, 1, 0, 0]), array([0, 0, 0, 0, 1, 0, 0]), array([0, 0, 1, 0, 0, 0, 0]), array([0, 0, 0, 0, 1, 0, 0]), array([0, 0, 1, 0, 0, 0, 0]), array([0, 0, 0, 0, 1, 0, 0]), array([0, 0, 0, 0, 1, 0, 0]), array([0, 0, 1, 0, 0, 0, 0]), array([0, 0, 0, 0, 1, 0, 0]), array([0, 0, 0, 0, 1, 0, 0]), array([0, 0, 0, 0, 1, 0, 0]), array([0, 0, 0, 0, 1, 0, 0]), array([0, 0, 0, 0, 1, 0, 0]), array([0, 0, 0, 0, 1, 0, 0]), array([0, 0, 0, 0, 1, 0, 0]), array([0, 0, 0, 0, 1, 0, 0]), array([0, 0, 0, 0, 1, 0, 0]), array([0, 0, 0, 0, 1, 0, 0]), array([0, 0, 0, 0, 1, 0, 0]), array([0, 0, 0, 0, 1, 0, 0]), array([0, 0, 1, 0, 0, 0, 0]), array([0, 0, 0, 0, 1, 0, 0]), array([0, 0, 0, 0, 1, 0, 0]), array([0, 0, 0, 0, 1, 0, 0]), array([0, 0, 0, 0, 1, 0, 0]), array([0, 0, 0, 0, 1, 0, 0]), array([0, 0, 0, 0, 0, 0, 1]), array([0, 0, 0, 0, 1, 0, 0]), array([0, 0, 0, 0, 1, 0, 0]), array([0, 0, 0, 0, 1, 0, 0]), array([0, 0, 0, 0, 1, 0, 0]), array([0, 0, 0, 0, 0, 0, 1]), array([0, 0, 0, 0, 1, 0, 0]), array([0, 0, 0, 0, 1, 0, 0]), array([0, 0, 0, 0, 0, 0, 1]), array([0, 0, 0, 0, 1, 0, 0]), array([0, 0, 0, 1, 0, 0, 0]), array([0, 0, 0, 0, 1, 0, 0]), array([0, 0, 0, 0, 1, 0, 0]), array([0, 0, 0, 0, 1, 0, 0]), array([0, 0, 0, 0, 1, 0, 0]), array([0, 0, 0, 0, 1, 0, 0]), array([0, 0, 0, 0, 1, 0, 0]), array([0, 0, 0, 0, 1, 0, 0]), array([0, 0, 0, 0, 1, 0, 0]), array([0, 0, 0, 0, 1, 0, 0]), array([0, 0, 0, 0, 1, 0, 0]), array([0, 0, 0, 0, 1, 0, 0]), array([0, 1, 0, 0, 0, 0, 0]), array([0, 0, 0, 0, 1, 0, 0]), array([1, 0, 0, 0, 0, 0, 0]), array([0, 0, 0, 0, 1, 0, 0]), array([0, 0, 0, 0, 1, 0, 0]), array([0, 0, 0, 0, 1, 0, 0]), array([1, 0, 0, 0, 0, 0, 0]), array([0, 1, 0, 0, 0, 0, 0]), array([0, 0, 0, 0, 1, 0, 0]), array([0, 0, 0, 0, 1, 0, 0]), array([0, 0, 0, 0, 1, 0, 0]), array([0, 0, 0, 0, 1, 0, 0]), array([0, 0, 0, 0, 1, 0, 0]), array([0, 0, 0, 0, 0, 1, 0]), array([0, 0, 1, 0, 0, 0, 0]), array([0, 0, 0, 0, 1, 0, 0]), array([0, 0, 0, 0, 1, 0, 0]), array([0, 0, 1, 0, 0, 0, 0]), array([0, 0, 0, 0, 1, 0, 0]), array([0, 0, 1, 0, 0, 0, 0]), array([0, 0, 0, 0, 1, 0, 0]), array([0, 0, 0, 0, 1, 0, 0]), array([0, 0, 0, 0, 1, 0, 0]), array([0, 0, 0, 0, 0, 0, 1]), array([0, 0, 0, 0, 1, 0, 0]), array([0, 0, 0, 0, 1, 0, 0]), array([0, 0, 0, 0, 1, 0, 0]), array([0, 0, 0, 0, 1, 0, 0]), array([0, 0, 0, 0, 1, 0, 0]), array([0, 0, 0, 0, 1, 0, 0]), array([0, 0, 1, 0, 0, 0, 0]), array([0, 0, 0, 0, 1, 0, 0]), array([0, 0, 0, 0, 1, 0, 0]), array([0, 0, 0, 0, 1, 0, 0]), array([0, 0, 0, 0, 1, 0, 0]), array([0, 0, 0, 0, 1, 0, 0]), array([0, 0, 0, 0, 1, 0, 0]), array([0, 0, 0, 0, 1, 0, 0]), array([0, 0, 0, 0, 1, 0, 0]), array([0, 0, 0, 0, 1, 0, 0]), array([0, 0, 0, 0, 1, 0, 0]), array([1, 0, 0, 0, 0, 0, 0]), array([0, 0, 0, 0, 0, 0, 1]), array([0, 0, 0, 0, 1, 0, 0]), array([0, 0, 0, 0, 1, 0, 0]), array([0, 0, 0, 0, 1, 0, 0]), array([0, 0, 0, 0, 1, 0, 0]), array([0, 0, 0, 0, 1, 0, 0]), array([0, 0, 0, 0, 1, 0, 0]), array([0, 0, 0, 0, 1, 0, 0]), array([0, 0, 0, 0, 1, 0, 0]), array([0, 0, 0, 0, 1, 0, 0]), array([0, 0, 0, 0, 1, 0, 0]), array([0, 0, 0, 0, 1, 0, 0]), array([0, 0, 1, 0, 0, 0, 0]), array([0, 0, 0, 0, 1, 0, 0]), array([0, 0, 0, 0, 1, 0, 0]), array([0, 0, 0, 0, 1, 0, 0]), array([0, 0, 0, 0, 1, 0, 0]), array([0, 0, 0, 0, 1, 0, 0]), array([0, 0, 0, 0, 1, 0, 0]), array([0, 1, 0, 0, 0, 0, 0]), array([0, 0, 0, 0, 1, 0, 0]), array([0, 0, 0, 0, 1, 0, 0]), array([1, 0, 0, 0, 0, 0, 0]), array([0, 0, 0, 0, 1, 0, 0]), array([0, 0, 0, 0, 1, 0, 0]), array([0, 0, 0, 0, 1, 0, 0]), array([0, 0, 0, 0, 1, 0, 0]), array([0, 0, 0, 0, 0, 0, 1]), array([0, 0, 0, 0, 1, 0, 0]), array([0, 0, 0, 0, 1, 0, 0]), array([0, 0, 0, 1, 0, 0, 0]), array([0, 0, 0, 0, 1, 0, 0]), array([0, 0, 0, 0, 1, 0, 0]), array([0, 0, 1, 0, 0, 0, 0]), array([0, 0, 0, 0, 0, 1, 0]), array([0, 0, 0, 0, 1, 0, 0]), array([0, 0, 0, 0, 1, 0, 0]), array([0, 0, 0, 0, 1, 0, 0]), array([0, 0, 0, 0, 1, 0, 0]), array([0, 1, 0, 0, 0, 0, 0]), array([0, 0, 0, 0, 1, 0, 0]), array([0, 0, 0, 0, 0, 0, 1]), array([0, 1, 0, 0, 0, 0, 0]), array([0, 0, 0, 0, 1, 0, 0]), array([0, 0, 0, 0, 0, 0, 1]), array([0, 0, 0, 0, 1, 0, 0]), array([0, 0, 0, 0, 1, 0, 0]), array([0, 0, 0, 0, 1, 0, 0]), array([0, 0, 0, 0, 1, 0, 0]), array([0, 0, 0, 0, 1, 0, 0]), array([0, 0, 0, 0, 1, 0, 0]), array([0, 0, 0, 0, 1, 0, 0]), array([0, 0, 0, 0, 1, 0, 0]), array([0, 1, 0, 0, 0, 0, 0]), array([0, 0, 0, 0, 1, 0, 0]), array([0, 0, 0, 1, 0, 0, 0]), array([0, 0, 0, 0, 1, 0, 0]), array([0, 0, 0, 0, 1, 0, 0]), array([0, 0, 1, 0, 0, 0, 0]), array([0, 0, 0, 0, 1, 0, 0]), array([0, 0, 0, 0, 1, 0, 0]), array([0, 0, 0, 0, 1, 0, 0]), array([0, 0, 0, 0, 1, 0, 0]), array([0, 0, 0, 0, 1, 0, 0]), array([0, 0, 0, 0, 1, 0, 0]), array([0, 0, 0, 0, 1, 0, 0]), array([0, 0, 0, 0, 1, 0, 0]), array([0, 0, 0, 0, 1, 0, 0]), array([0, 0, 0, 0, 0, 0, 1]), array([0, 0, 1, 0, 0, 0, 0]), array([0, 0, 0, 0, 1, 0, 0]), array([0, 0, 0, 0, 1, 0, 0]), array([0, 0, 0, 0, 0, 1, 0]), array([1, 0, 0, 0, 0, 0, 0]), array([0, 0, 0, 0, 1, 0, 0]), array([0, 1, 0, 0, 0, 0, 0]), array([0, 0, 0, 0, 0, 1, 0]), array([0, 0, 0, 0, 1, 0, 0]), array([0, 0, 0, 0, 1, 0, 0]), array([0, 0, 0, 0, 1, 0, 0]), array([0, 0, 0, 0, 1, 0, 0]), array([0, 0, 0, 0, 1, 0, 0]), array([0, 0, 0, 0, 1, 0, 0]), array([0, 0, 0, 0, 1, 0, 0]), array([0, 0, 0, 0, 1, 0, 0]), array([0, 0, 0, 0, 0, 0, 1]), array([0, 0, 0, 0, 1, 0, 0]), array([0, 0, 0, 0, 1, 0, 0]), array([0, 0, 0, 0, 0, 0, 1]), array([0, 0, 0, 0, 1, 0, 0]), array([1, 0, 0, 0, 0, 0, 0]), array([0, 0, 0, 0, 1, 0, 0]), array([0, 0, 0, 0, 1, 0, 0]), array([0, 0, 0, 0, 1, 0, 0]), array([0, 0, 0, 0, 0, 1, 0]), array([0, 0, 0, 0, 1, 0, 0]), array([0, 0, 0, 0, 1, 0, 0]), array([0, 0, 0, 0, 1, 0, 0]), array([0, 0, 0, 0, 1, 0, 0]), array([1, 0, 0, 0, 0, 0, 0]), array([0, 0, 0, 0, 1, 0, 0]), array([0, 0, 0, 0, 1, 0, 0]), array([0, 0, 0, 0, 1, 0, 0]), array([0, 0, 0, 0, 1, 0, 0]), array([0, 0, 0, 0, 1, 0, 0]), array([0, 0, 0, 0, 1, 0, 0]), array([0, 0, 0, 0, 1, 0, 0]), array([0, 0, 0, 0, 0, 0, 1]), array([0, 0, 1, 0, 0, 0, 0]), array([0, 0, 0, 0, 1, 0, 0]), array([0, 0, 1, 0, 0, 0, 0]), array([0, 0, 0, 0, 0, 1, 0]), array([0, 0, 1, 0, 0, 0, 0]), array([0, 0, 0, 0, 1, 0, 0]), array([0, 0, 0, 0, 1, 0, 0]), array([0, 0, 0, 0, 1, 0, 0]), array([0, 0, 0, 0, 1, 0, 0]), array([0, 0, 0, 0, 1, 0, 0]), array([0, 0, 0, 0, 1, 0, 0]), array([0, 0, 0, 0, 1, 0, 0]), array([0, 1, 0, 0, 0, 0, 0]), array([0, 1, 0, 0, 0, 0, 0]), array([0, 0, 0, 0, 1, 0, 0]), array([0, 0, 0, 0, 1, 0, 0]), array([0, 0, 0, 0, 0, 0, 1]), array([0, 0, 0, 0, 0, 0, 1]), array([0, 0, 0, 0, 1, 0, 0]), array([0, 0, 0, 0, 0, 0, 1]), array([0, 0, 0, 0, 1, 0, 0]), array([0, 0, 0, 0, 1, 0, 0]), array([0, 0, 0, 0, 1, 0, 0]), array([0, 0, 0, 0, 1, 0, 0]), array([0, 0, 0, 0, 1, 0, 0]), array([0, 0, 0, 0, 1, 0, 0]), array([0, 0, 0, 0, 0, 0, 1]), array([0, 0, 0, 0, 1, 0, 0]), array([0, 0, 0, 1, 0, 0, 0]), array([0, 0, 0, 0, 1, 0, 0]), array([0, 0, 0, 0, 1, 0, 0]), array([1, 0, 0, 0, 0, 0, 0]), array([0, 0, 0, 0, 1, 0, 0]), array([0, 0, 0, 0, 1, 0, 0]), array([0, 0, 0, 0, 1, 0, 0]), array([0, 0, 0, 0, 1, 0, 0]), array([0, 0, 0, 0, 1, 0, 0]), array([0, 0, 1, 0, 0, 0, 0]), array([0, 0, 0, 0, 0, 0, 1]), array([0, 0, 0, 0, 1, 0, 0]), array([0, 0, 0, 0, 1, 0, 0]), array([0, 0, 0, 0, 1, 0, 0]), array([0, 0, 0, 0, 1, 0, 0]), array([0, 0, 0, 0, 1, 0, 0]), array([0, 0, 0, 0, 1, 0, 0]), array([0, 0, 0, 0, 0, 0, 1]), array([0, 0, 0, 0, 1, 0, 0]), array([0, 0, 0, 0, 1, 0, 0]), array([0, 0, 0, 0, 1, 0, 0]), array([0, 0, 0, 0, 1, 0, 0]), array([0, 0, 0, 0, 0, 0, 1]), array([0, 0, 0, 0, 1, 0, 0]), array([0, 0, 0, 0, 1, 0, 0]), array([0, 0, 0, 0, 1, 0, 0]), array([0, 0, 0, 0, 1, 0, 0]), array([0, 0, 0, 0, 1, 0, 0]), array([0, 0, 0, 0, 1, 0, 0]), array([0, 0, 0, 0, 1, 0, 0]), array([0, 0, 0, 0, 1, 0, 0]), array([0, 0, 0, 0, 1, 0, 0]), array([0, 0, 0, 0, 1, 0, 0]), array([0, 0, 0, 0, 1, 0, 0]), array([0, 0, 0, 0, 1, 0, 0]), array([0, 0, 0, 0, 1, 0, 0]), array([0, 0, 0, 0, 1, 0, 0]), array([0, 0, 0, 0, 1, 0, 0]), array([0, 0, 0, 0, 0, 0, 1]), array([0, 0, 0, 0, 1, 0, 0]), array([1, 0, 0, 0, 0, 0, 0]), array([0, 0, 0, 0, 0, 0, 1]), array([0, 0, 0, 0, 1, 0, 0]), array([0, 0, 1, 0, 0, 0, 0]), array([0, 0, 0, 0, 1, 0, 0]), array([0, 0, 0, 0, 1, 0, 0]), array([0, 1, 0, 0, 0, 0, 0]), array([0, 1, 0, 0, 0, 0, 0]), array([0, 0, 0, 0, 1, 0, 0]), array([0, 0, 1, 0, 0, 0, 0]), array([0, 0, 0, 0, 1, 0, 0]), array([0, 0, 0, 0, 1, 0, 0]), array([0, 0, 0, 0, 0, 0, 1]), array([0, 0, 1, 0, 0, 0, 0]), array([0, 0, 0, 0, 1, 0, 0]), array([0, 0, 0, 0, 1, 0, 0]), array([0, 0, 0, 0, 1, 0, 0]), array([0, 0, 0, 0, 0, 0, 1]), array([0, 0, 0, 0, 1, 0, 0]), array([0, 0, 0, 0, 1, 0, 0]), array([0, 0, 0, 0, 1, 0, 0]), array([0, 0, 0, 0, 0, 0, 1]), array([0, 0, 0, 0, 1, 0, 0]), array([0, 0, 0, 0, 1, 0, 0]), array([0, 0, 0, 0, 1, 0, 0]), array([0, 0, 0, 0, 1, 0, 0]), array([0, 0, 0, 0, 1, 0, 0]), array([0, 0, 0, 0, 1, 0, 0]), array([0, 0, 0, 0, 1, 0, 0]), array([0, 0, 0, 0, 1, 0, 0]), array([0, 0, 1, 0, 0, 0, 0]), array([0, 0, 0, 0, 1, 0, 0]), array([0, 0, 1, 0, 0, 0, 0]), array([0, 1, 0, 0, 0, 0, 0]), array([0, 0, 0, 0, 1, 0, 0]), array([0, 0, 0, 0, 1, 0, 0]), array([0, 0, 0, 0, 0, 0, 1]), array([0, 0, 0, 0, 0, 0, 1]), array([0, 0, 0, 0, 1, 0, 0]), array([0, 0, 1, 0, 0, 0, 0]), array([0, 0, 0, 0, 0, 0, 1]), array([0, 0, 0, 0, 1, 0, 0]), array([0, 0, 1, 0, 0, 0, 0]), array([0, 0, 1, 0, 0, 0, 0]), array([0, 0, 0, 0, 1, 0, 0]), array([0, 1, 0, 0, 0, 0, 0]), array([0, 0, 0, 0, 1, 0, 0]), array([0, 0, 0, 0, 1, 0, 0]), array([0, 0, 0, 0, 1, 0, 0]), array([0, 0, 0, 0, 1, 0, 0]), array([0, 0, 0, 0, 1, 0, 0]), array([0, 0, 0, 0, 1, 0, 0]), array([0, 0, 0, 0, 1, 0, 0]), array([0, 0, 0, 0, 1, 0, 0]), array([0, 0, 0, 0, 1, 0, 0]), array([0, 0, 0, 0, 1, 0, 0]), array([0, 0, 0, 0, 0, 0, 1]), array([0, 0, 0, 0, 1, 0, 0]), array([0, 0, 0, 0, 1, 0, 0]), array([0, 0, 0, 0, 1, 0, 0]), array([0, 0, 0, 0, 1, 0, 0]), array([0, 0, 0, 0, 1, 0, 0]), array([0, 0, 0, 0, 1, 0, 0]), array([1, 0, 0, 0, 0, 0, 0]), array([0, 0, 1, 0, 0, 0, 0]), array([1, 0, 0, 0, 0, 0, 0]), array([0, 0, 0, 0, 1, 0, 0]), array([0, 0, 0, 0, 1, 0, 0]), array([0, 0, 0, 0, 1, 0, 0]), array([1, 0, 0, 0, 0, 0, 0]), array([0, 0, 0, 0, 1, 0, 0]), array([0, 0, 0, 0, 1, 0, 0]), array([0, 0, 0, 0, 0, 0, 1]), array([1, 0, 0, 0, 0, 0, 0]), array([0, 0, 0, 0, 0, 1, 0]), array([1, 0, 0, 0, 0, 0, 0]), array([0, 0, 0, 0, 1, 0, 0]), array([0, 0, 0, 0, 1, 0, 0]), array([0, 0, 0, 0, 0, 0, 1]), array([0, 0, 0, 0, 1, 0, 0]), array([0, 0, 1, 0, 0, 0, 0]), array([0, 0, 1, 0, 0, 0, 0]), array([0, 0, 0, 0, 1, 0, 0]), array([0, 1, 0, 0, 0, 0, 0]), array([0, 0, 0, 0, 1, 0, 0]), array([0, 0, 0, 0, 1, 0, 0]), array([0, 0, 0, 0, 1, 0, 0]), array([0, 0, 0, 0, 1, 0, 0]), array([0, 0, 0, 0, 1, 0, 0]), array([0, 0, 0, 0, 1, 0, 0]), array([0, 0, 0, 0, 1, 0, 0]), array([0, 0, 0, 0, 1, 0, 0]), array([0, 0, 0, 0, 1, 0, 0]), array([0, 0, 0, 0, 0, 0, 1]), array([0, 0, 0, 0, 1, 0, 0]), array([0, 1, 0, 0, 0, 0, 0]), array([0, 0, 0, 0, 0, 0, 1]), array([0, 0, 0, 0, 1, 0, 0]), array([0, 0, 0, 0, 1, 0, 0]), array([0, 0, 0, 0, 1, 0, 0]), array([0, 0, 0, 0, 1, 0, 0]), array([0, 0, 0, 0, 1, 0, 0]), array([0, 0, 0, 0, 1, 0, 0]), array([0, 0, 0, 0, 1, 0, 0]), array([1, 0, 0, 0, 0, 0, 0]), array([0, 0, 0, 0, 1, 0, 0]), array([0, 0, 0, 0, 1, 0, 0]), array([0, 0, 0, 0, 1, 0, 0]), array([0, 0, 0, 0, 1, 0, 0]), array([0, 0, 0, 0, 1, 0, 0]), array([0, 0, 1, 0, 0, 0, 0]), array([0, 0, 0, 0, 1, 0, 0]), array([0, 0, 0, 1, 0, 0, 0]), array([0, 0, 0, 0, 0, 1, 0]), array([0, 0, 0, 0, 1, 0, 0]), array([0, 1, 0, 0, 0, 0, 0]), array([0, 0, 0, 0, 1, 0, 0]), array([0, 0, 1, 0, 0, 0, 0]), array([0, 0, 0, 0, 1, 0, 0]), array([0, 0, 1, 0, 0, 0, 0]), array([0, 0, 0, 0, 1, 0, 0]), array([0, 0, 0, 0, 1, 0, 0]), array([0, 0, 0, 0, 1, 0, 0]), array([0, 0, 0, 0, 1, 0, 0]), array([0, 0, 0, 0, 1, 0, 0]), array([0, 0, 0, 0, 1, 0, 0]), array([1, 0, 0, 0, 0, 0, 0]), array([0, 1, 0, 0, 0, 0, 0]), array([0, 0, 1, 0, 0, 0, 0]), array([0, 0, 0, 0, 1, 0, 0]), array([0, 0, 0, 0, 1, 0, 0]), array([0, 0, 1, 0, 0, 0, 0]), array([0, 0, 1, 0, 0, 0, 0]), array([0, 0, 0, 0, 1, 0, 0]), array([0, 0, 0, 0, 1, 0, 0]), array([0, 0, 0, 0, 1, 0, 0]), array([0, 0, 0, 0, 1, 0, 0]), array([0, 0, 1, 0, 0, 0, 0]), array([0, 0, 0, 0, 1, 0, 0]), array([0, 0, 0, 0, 1, 0, 0]), array([0, 0, 0, 0, 1, 0, 0]), array([0, 0, 0, 0, 1, 0, 0]), array([1, 0, 0, 0, 0, 0, 0]), array([0, 0, 0, 0, 1, 0, 0]), array([0, 1, 0, 0, 0, 0, 0]), array([0, 0, 0, 0, 1, 0, 0]), array([0, 0, 0, 0, 1, 0, 0]), array([0, 0, 0, 0, 1, 0, 0]), array([0, 0, 0, 0, 1, 0, 0]), array([0, 0, 0, 0, 1, 0, 0]), array([0, 0, 0, 0, 1, 0, 0]), array([0, 0, 0, 0, 1, 0, 0]), array([0, 0, 0, 0, 1, 0, 0]), array([0, 0, 0, 0, 1, 0, 0]), array([0, 0, 1, 0, 0, 0, 0]), array([0, 0, 0, 0, 1, 0, 0]), array([0, 0, 0, 0, 0, 0, 1]), array([0, 0, 0, 0, 0, 0, 1]), array([0, 0, 0, 0, 1, 0, 0]), array([0, 0, 0, 0, 1, 0, 0]), array([0, 0, 0, 0, 1, 0, 0]), array([0, 0, 1, 0, 0, 0, 0]), array([0, 0, 0, 0, 1, 0, 0]), array([0, 0, 0, 0, 0, 0, 1]), array([0, 0, 0, 0, 1, 0, 0]), array([1, 0, 0, 0, 0, 0, 0]), array([0, 0, 0, 0, 1, 0, 0]), array([0, 0, 0, 0, 1, 0, 0]), array([0, 0, 0, 0, 0, 0, 1]), array([0, 0, 0, 0, 1, 0, 0]), array([0, 0, 0, 0, 1, 0, 0]), array([0, 0, 0, 0, 1, 0, 0]), array([0, 0, 0, 0, 1, 0, 0]), array([0, 0, 0, 0, 1, 0, 0]), array([1, 0, 0, 0, 0, 0, 0]), array([0, 0, 0, 0, 1, 0, 0]), array([0, 1, 0, 0, 0, 0, 0]), array([0, 0, 0, 0, 1, 0, 0]), array([0, 0, 0, 0, 1, 0, 0]), array([0, 0, 0, 0, 1, 0, 0]), array([0, 0, 0, 0, 1, 0, 0]), array([0, 1, 0, 0, 0, 0, 0]), array([0, 0, 0, 0, 1, 0, 0]), array([0, 0, 0, 0, 1, 0, 0]), array([0, 0, 0, 0, 1, 0, 0]), array([0, 0, 0, 0, 1, 0, 0]), array([1, 0, 0, 0, 0, 0, 0]), array([1, 0, 0, 0, 0, 0, 0]), array([0, 0, 0, 0, 1, 0, 0]), array([0, 0, 0, 0, 1, 0, 0]), array([0, 0, 0, 0, 1, 0, 0]), array([0, 0, 0, 0, 1, 0, 0]), array([0, 0, 0, 0, 1, 0, 0]), array([0, 0, 0, 0, 1, 0, 0]), array([0, 0, 0, 0, 0, 0, 1]), array([0, 0, 0, 0, 1, 0, 0]), array([0, 0, 1, 0, 0, 0, 0]), array([0, 1, 0, 0, 0, 0, 0]), array([0, 0, 0, 0, 0, 0, 1]), array([0, 0, 0, 0, 1, 0, 0]), array([0, 0, 0, 0, 1, 0, 0]), array([0, 0, 0, 0, 1, 0, 0]), array([0, 0, 0, 0, 1, 0, 0]), array([0, 0, 0, 0, 0, 1, 0]), array([0, 0, 0, 0, 1, 0, 0]), array([0, 0, 0, 0, 1, 0, 0]), array([0, 0, 0, 0, 1, 0, 0]), array([0, 0, 1, 0, 0, 0, 0]), array([0, 1, 0, 0, 0, 0, 0]), array([0, 0, 0, 0, 0, 0, 1]), array([0, 0, 0, 0, 1, 0, 0]), array([0, 0, 0, 0, 1, 0, 0]), array([0, 0, 0, 0, 1, 0, 0]), array([0, 0, 0, 0, 0, 0, 1]), array([0, 1, 0, 0, 0, 0, 0]), array([0, 1, 0, 0, 0, 0, 0]), array([0, 0, 0, 0, 1, 0, 0]), array([0, 0, 0, 0, 1, 0, 0]), array([0, 0, 0, 0, 1, 0, 0]), array([0, 0, 0, 0, 1, 0, 0]), array([0, 0, 0, 0, 1, 0, 0]), array([0, 0, 0, 0, 1, 0, 0]), array([0, 0, 0, 0, 1, 0, 0]), array([0, 0, 0, 0, 1, 0, 0]), array([0, 0, 1, 0, 0, 0, 0]), array([0, 0, 0, 0, 0, 0, 1]), array([0, 0, 0, 0, 0, 0, 1]), array([0, 0, 0, 0, 1, 0, 0]), array([0, 0, 0, 0, 1, 0, 0]), array([0, 0, 0, 0, 0, 1, 0]), array([0, 0, 0, 0, 1, 0, 0]), array([0, 0, 0, 0, 1, 0, 0]), array([0, 0, 0, 0, 0, 0, 1]), array([0, 0, 0, 0, 0, 0, 1]), array([0, 0, 0, 0, 1, 0, 0]), array([0, 0, 1, 0, 0, 0, 0]), array([0, 0, 0, 0, 1, 0, 0]), array([0, 0, 0, 0, 1, 0, 0]), array([0, 0, 0, 0, 1, 0, 0]), array([0, 0, 0, 0, 0, 0, 1]), array([0, 0, 1, 0, 0, 0, 0]), array([0, 1, 0, 0, 0, 0, 0]), array([0, 0, 0, 0, 1, 0, 0]), array([0, 0, 1, 0, 0, 0, 0]), array([0, 0, 0, 0, 1, 0, 0]), array([0, 0, 0, 1, 0, 0, 0]), array([0, 1, 0, 0, 0, 0, 0]), array([0, 0, 0, 0, 1, 0, 0]), array([1, 0, 0, 0, 0, 0, 0]), array([0, 0, 0, 0, 1, 0, 0]), array([0, 0, 0, 0, 1, 0, 0]), array([0, 0, 0, 0, 1, 0, 0]), array([0, 0, 0, 0, 1, 0, 0]), array([0, 0, 0, 1, 0, 0, 0]), array([0, 0, 0, 0, 1, 0, 0]), array([0, 0, 0, 0, 1, 0, 0]), array([0, 0, 1, 0, 0, 0, 0]), array([0, 0, 0, 0, 1, 0, 0]), array([0, 0, 1, 0, 0, 0, 0]), array([0, 0, 0, 0, 1, 0, 0]), array([0, 0, 0, 0, 1, 0, 0]), array([0, 0, 0, 0, 1, 0, 0]), array([0, 0, 0, 0, 1, 0, 0]), array([0, 0, 0, 0, 1, 0, 0]), array([0, 0, 0, 0, 1, 0, 0]), array([0, 0, 0, 0, 1, 0, 0]), array([0, 0, 0, 0, 1, 0, 0]), array([0, 0, 0, 0, 1, 0, 0]), array([0, 0, 0, 0, 1, 0, 0]), array([0, 0, 0, 0, 1, 0, 0]), array([0, 0, 0, 0, 1, 0, 0]), array([0, 0, 0, 0, 0, 0, 1]), array([0, 1, 0, 0, 0, 0, 0]), array([0, 0, 0, 0, 1, 0, 0]), array([0, 0, 0, 0, 1, 0, 0]), array([0, 0, 0, 0, 0, 0, 1]), array([0, 0, 0, 0, 1, 0, 0]), array([0, 0, 0, 0, 1, 0, 0]), array([0, 0, 0, 0, 1, 0, 0]), array([1, 0, 0, 0, 0, 0, 0]), array([0, 0, 0, 0, 1, 0, 0]), array([0, 0, 0, 0, 1, 0, 0]), array([0, 0, 0, 0, 1, 0, 0]), array([0, 0, 0, 0, 1, 0, 0]), array([0, 0, 0, 0, 1, 0, 0]), array([0, 0, 0, 0, 1, 0, 0]), array([0, 0, 0, 0, 1, 0, 0]), array([0, 0, 0, 0, 0, 1, 0]), array([0, 0, 0, 0, 0, 0, 1]), array([0, 0, 1, 0, 0, 0, 0]), array([0, 0, 0, 0, 1, 0, 0]), array([0, 1, 0, 0, 0, 0, 0]), array([1, 0, 0, 0, 0, 0, 0]), array([0, 0, 0, 0, 1, 0, 0]), array([0, 1, 0, 0, 0, 0, 0]), array([0, 0, 0, 0, 1, 0, 0]), array([0, 0, 0, 0, 1, 0, 0]), array([0, 0, 0, 0, 0, 0, 1]), array([0, 0, 0, 0, 1, 0, 0]), array([0, 0, 0, 0, 1, 0, 0]), array([0, 0, 0, 0, 1, 0, 0]), array([0, 0, 1, 0, 0, 0, 0]), array([0, 0, 0, 0, 1, 0, 0]), array([0, 0, 0, 0, 0, 0, 1]), array([0, 0, 0, 0, 1, 0, 0]), array([0, 0, 0, 0, 1, 0, 0]), array([0, 0, 0, 0, 1, 0, 0]), array([0, 0, 0, 0, 1, 0, 0]), array([0, 0, 0, 0, 0, 0, 1]), array([0, 0, 0, 0, 1, 0, 0]), array([0, 0, 0, 0, 1, 0, 0]), array([0, 0, 0, 0, 0, 0, 1]), array([0, 1, 0, 0, 0, 0, 0]), array([0, 0, 0, 0, 1, 0, 0]), array([0, 0, 0, 0, 1, 0, 0]), array([0, 0, 0, 0, 1, 0, 0]), array([0, 0, 0, 0, 0, 0, 1]), array([0, 0, 1, 0, 0, 0, 0]), array([0, 0, 0, 0, 0, 0, 1]), array([0, 0, 0, 0, 0, 0, 1]), array([0, 0, 0, 0, 1, 0, 0]), array([0, 0, 0, 0, 0, 0, 1]), array([0, 0, 0, 1, 0, 0, 0]), array([1, 0, 0, 0, 0, 0, 0]), array([0, 0, 0, 0, 1, 0, 0]), array([0, 0, 0, 0, 1, 0, 0]), array([0, 0, 0, 0, 1, 0, 0]), array([0, 0, 0, 0, 1, 0, 0]), array([0, 0, 0, 0, 1, 0, 0]), array([0, 0, 0, 0, 1, 0, 0]), array([0, 0, 0, 0, 1, 0, 0]), array([0, 0, 0, 0, 1, 0, 0]), array([0, 0, 1, 0, 0, 0, 0]), array([0, 0, 1, 0, 0, 0, 0]), array([0, 0, 0, 0, 0, 0, 1]), array([0, 0, 0, 0, 1, 0, 0]), array([0, 0, 0, 0, 1, 0, 0]), array([0, 0, 0, 0, 1, 0, 0]), array([0, 0, 0, 0, 1, 0, 0]), array([0, 1, 0, 0, 0, 0, 0]), array([0, 0, 0, 0, 1, 0, 0]), array([0, 0, 0, 0, 0, 0, 1]), array([0, 1, 0, 0, 0, 0, 0]), array([0, 0, 0, 0, 1, 0, 0]), array([0, 0, 0, 0, 1, 0, 0]), array([0, 0, 0, 0, 1, 0, 0]), array([0, 0, 0, 0, 1, 0, 0]), array([0, 0, 0, 0, 1, 0, 0]), array([0, 0, 0, 0, 0, 0, 1]), array([0, 0, 0, 0, 1, 0, 0]), array([0, 0, 0, 0, 1, 0, 0]), array([0, 0, 0, 0, 1, 0, 0]), array([0, 0, 0, 0, 1, 0, 0]), array([0, 0, 0, 0, 1, 0, 0]), array([0, 0, 0, 0, 1, 0, 0]), array([0, 0, 0, 0, 1, 0, 0]), array([0, 0, 0, 0, 1, 0, 0]), array([0, 0, 1, 0, 0, 0, 0]), array([0, 0, 0, 0, 1, 0, 0]), array([0, 0, 0, 0, 1, 0, 0]), array([0, 0, 0, 0, 1, 0, 0]), array([0, 0, 0, 0, 0, 0, 1]), array([0, 0, 0, 0, 1, 0, 0]), array([0, 0, 0, 0, 1, 0, 0]), array([0, 0, 0, 0, 1, 0, 0]), array([0, 0, 0, 0, 1, 0, 0]), array([0, 0, 0, 0, 1, 0, 0]), array([0, 0, 0, 1, 0, 0, 0]), array([0, 0, 0, 0, 1, 0, 0]), array([0, 0, 0, 0, 1, 0, 0]), array([0, 0, 0, 0, 0, 0, 1]), array([0, 0, 0, 0, 1, 0, 0]), array([0, 0, 0, 0, 1, 0, 0]), array([0, 0, 0, 0, 1, 0, 0]), array([0, 0, 1, 0, 0, 0, 0]), array([0, 0, 1, 0, 0, 0, 0]), array([0, 0, 0, 0, 1, 0, 0]), array([0, 0, 0, 0, 1, 0, 0]), array([0, 0, 0, 0, 1, 0, 0]), array([0, 0, 0, 0, 0, 0, 1]), array([0, 0, 1, 0, 0, 0, 0]), array([0, 1, 0, 0, 0, 0, 0]), array([0, 0, 0, 1, 0, 0, 0]), array([0, 0, 0, 0, 1, 0, 0]), array([0, 1, 0, 0, 0, 0, 0]), array([0, 0, 0, 0, 1, 0, 0]), array([0, 0, 0, 0, 0, 0, 1]), array([0, 0, 0, 0, 1, 0, 0]), array([0, 0, 0, 0, 1, 0, 0]), array([0, 0, 0, 0, 1, 0, 0]), array([0, 0, 0, 0, 1, 0, 0]), array([0, 0, 1, 0, 0, 0, 0]), array([0, 0, 0, 0, 1, 0, 0]), array([0, 0, 0, 0, 0, 0, 1]), array([0, 0, 0, 0, 1, 0, 0]), array([0, 0, 1, 0, 0, 0, 0]), array([0, 0, 1, 0, 0, 0, 0]), array([0, 0, 0, 0, 1, 0, 0]), array([0, 0, 1, 0, 0, 0, 0]), array([0, 0, 0, 0, 0, 0, 1]), array([0, 0, 0, 0, 1, 0, 0]), array([0, 0, 0, 0, 1, 0, 0]), array([0, 0, 0, 0, 1, 0, 0]), array([0, 0, 0, 0, 1, 0, 0]), array([0, 0, 0, 0, 1, 0, 0]), array([0, 0, 1, 0, 0, 0, 0]), array([0, 0, 0, 0, 1, 0, 0]), array([0, 0, 0, 0, 1, 0, 0]), array([0, 0, 0, 0, 0, 0, 1]), array([0, 0, 0, 0, 1, 0, 0]), array([0, 0, 0, 0, 1, 0, 0]), array([0, 0, 0, 0, 1, 0, 0]), array([0, 0, 0, 0, 1, 0, 0]), array([0, 0, 0, 0, 1, 0, 0]), array([0, 0, 1, 0, 0, 0, 0]), array([0, 0, 1, 0, 0, 0, 0]), array([0, 0, 0, 0, 1, 0, 0]), array([0, 0, 0, 0, 0, 0, 1]), array([0, 0, 0, 0, 1, 0, 0]), array([0, 0, 0, 0, 1, 0, 0]), array([0, 0, 0, 0, 1, 0, 0]), array([0, 1, 0, 0, 0, 0, 0]), array([0, 0, 0, 0, 1, 0, 0]), array([0, 0, 0, 0, 1, 0, 0]), array([0, 0, 1, 0, 0, 0, 0]), array([0, 0, 0, 0, 1, 0, 0]), array([0, 0, 1, 0, 0, 0, 0]), array([0, 0, 0, 0, 1, 0, 0]), array([0, 0, 0, 0, 1, 0, 0]), array([0, 0, 0, 0, 0, 0, 1]), array([0, 0, 0, 0, 1, 0, 0]), array([0, 0, 0, 0, 1, 0, 0]), array([0, 0, 1, 0, 0, 0, 0]), array([0, 0, 0, 0, 1, 0, 0]), array([0, 0, 0, 0, 1, 0, 0]), array([0, 0, 0, 0, 1, 0, 0]), array([0, 0, 0, 0, 1, 0, 0]), array([0, 0, 0, 0, 1, 0, 0]), array([0, 0, 0, 0, 1, 0, 0]), array([0, 0, 1, 0, 0, 0, 0]), array([0, 0, 1, 0, 0, 0, 0]), array([0, 0, 0, 0, 0, 0, 1]), array([0, 1, 0, 0, 0, 0, 0]), array([0, 0, 0, 0, 1, 0, 0]), array([0, 0, 1, 0, 0, 0, 0]), array([0, 0, 1, 0, 0, 0, 0]), array([0, 0, 0, 0, 1, 0, 0]), array([0, 0, 0, 0, 1, 0, 0]), array([0, 0, 0, 0, 1, 0, 0]), array([0, 0, 0, 0, 1, 0, 0]), array([0, 0, 0, 0, 1, 0, 0]), array([1, 0, 0, 0, 0, 0, 0]), array([1, 0, 0, 0, 0, 0, 0]), array([0, 0, 0, 0, 1, 0, 0]), array([0, 0, 1, 0, 0, 0, 0]), array([0, 0, 0, 0, 1, 0, 0]), array([0, 0, 0, 0, 1, 0, 0]), array([0, 0, 0, 0, 1, 0, 0]), array([0, 0, 1, 0, 0, 0, 0]), array([0, 0, 0, 0, 1, 0, 0]), array([1, 0, 0, 0, 0, 0, 0]), array([0, 0, 0, 0, 0, 0, 1]), array([0, 0, 0, 0, 1, 0, 0]), array([0, 0, 1, 0, 0, 0, 0]), array([0, 0, 1, 0, 0, 0, 0]), array([0, 0, 0, 0, 1, 0, 0]), array([0, 0, 0, 0, 1, 0, 0]), array([0, 0, 0, 0, 1, 0, 0]), array([0, 0, 0, 0, 1, 0, 0]), array([0, 0, 0, 0, 1, 0, 0]), array([0, 0, 0, 0, 1, 0, 0]), array([0, 1, 0, 0, 0, 0, 0]), array([0, 0, 0, 0, 1, 0, 0]), array([0, 0, 0, 0, 1, 0, 0]), array([0, 0, 0, 0, 1, 0, 0]), array([0, 0, 0, 0, 1, 0, 0]), array([0, 0, 0, 0, 1, 0, 0]), array([0, 0, 0, 0, 1, 0, 0]), array([0, 0, 0, 0, 1, 0, 0]), array([0, 0, 0, 0, 1, 0, 0]), array([0, 0, 1, 0, 0, 0, 0]), array([1, 0, 0, 0, 0, 0, 0]), array([0, 0, 0, 0, 1, 0, 0]), array([0, 0, 0, 0, 1, 0, 0]), array([0, 0, 1, 0, 0, 0, 0]), array([0, 1, 0, 0, 0, 0, 0]), array([0, 0, 0, 0, 0, 0, 1]), array([0, 0, 0, 0, 0, 0, 1]), array([0, 1, 0, 0, 0, 0, 0]), array([0, 0, 0, 0, 1, 0, 0]), array([0, 0, 0, 0, 1, 0, 0]), array([0, 0, 1, 0, 0, 0, 0]), array([0, 1, 0, 0, 0, 0, 0]), array([0, 0, 1, 0, 0, 0, 0]), array([0, 0, 0, 0, 1, 0, 0]), array([0, 0, 0, 0, 1, 0, 0]), array([0, 0, 0, 0, 0, 0, 1]), array([0, 0, 0, 0, 1, 0, 0]), array([0, 0, 1, 0, 0, 0, 0]), array([0, 0, 0, 0, 1, 0, 0]), array([1, 0, 0, 0, 0, 0, 0]), array([0, 0, 0, 0, 1, 0, 0]), array([0, 1, 0, 0, 0, 0, 0]), array([0, 0, 0, 0, 1, 0, 0]), array([0, 0, 0, 0, 1, 0, 0]), array([1, 0, 0, 0, 0, 0, 0]), array([0, 0, 0, 0, 1, 0, 0]), array([0, 0, 1, 0, 0, 0, 0]), array([0, 0, 0, 0, 1, 0, 0]), array([0, 0, 0, 0, 0, 0, 1]), array([0, 0, 0, 0, 1, 0, 0]), array([0, 0, 0, 0, 1, 0, 0]), array([0, 0, 1, 0, 0, 0, 0]), array([0, 0, 0, 0, 1, 0, 0]), array([0, 0, 0, 0, 0, 0, 1]), array([0, 0, 0, 0, 1, 0, 0]), array([0, 0, 0, 0, 1, 0, 0]), array([0, 0, 1, 0, 0, 0, 0]), array([0, 0, 0, 0, 1, 0, 0]), array([0, 0, 0, 0, 1, 0, 0]), array([0, 0, 0, 0, 1, 0, 0]), array([0, 0, 0, 0, 1, 0, 0]), array([0, 0, 0, 0, 0, 0, 1]), array([0, 0, 0, 0, 1, 0, 0]), array([0, 0, 0, 0, 1, 0, 0]), array([0, 0, 0, 0, 1, 0, 0]), array([0, 0, 0, 0, 1, 0, 0]), array([0, 0, 0, 0, 1, 0, 0]), array([0, 0, 0, 0, 1, 0, 0]), array([0, 0, 0, 0, 1, 0, 0]), array([0, 0, 0, 0, 1, 0, 0]), array([0, 0, 0, 0, 1, 0, 0]), array([0, 0, 1, 0, 0, 0, 0]), array([0, 0, 0, 0, 0, 0, 1]), array([0, 0, 1, 0, 0, 0, 0]), array([0, 0, 0, 0, 1, 0, 0]), array([0, 0, 0, 0, 1, 0, 0]), array([0, 0, 0, 0, 1, 0, 0]), array([0, 0, 0, 0, 1, 0, 0]), array([0, 0, 0, 0, 1, 0, 0]), array([0, 1, 0, 0, 0, 0, 0]), array([0, 0, 0, 0, 0, 0, 1]), array([0, 1, 0, 0, 0, 0, 0]), array([0, 0, 0, 0, 1, 0, 0]), array([0, 0, 0, 0, 1, 0, 0]), array([0, 0, 0, 0, 1, 0, 0]), array([1, 0, 0, 0, 0, 0, 0]), array([0, 0, 0, 0, 1, 0, 0]), array([0, 0, 0, 0, 1, 0, 0]), array([1, 0, 0, 0, 0, 0, 0]), array([0, 0, 0, 0, 1, 0, 0]), array([0, 0, 0, 0, 1, 0, 0]), array([0, 0, 0, 0, 1, 0, 0]), array([0, 0, 0, 0, 1, 0, 0]), array([0, 0, 0, 0, 1, 0, 0]), array([0, 1, 0, 0, 0, 0, 0]), array([0, 1, 0, 0, 0, 0, 0]), array([0, 0, 0, 0, 1, 0, 0]), array([0, 0, 0, 0, 1, 0, 0]), array([0, 0, 0, 0, 0, 0, 1]), array([0, 0, 0, 0, 1, 0, 0]), array([0, 0, 0, 0, 1, 0, 0]), array([0, 0, 1, 0, 0, 0, 0]), array([0, 0, 1, 0, 0, 0, 0]), array([0, 0, 0, 0, 1, 0, 0]), array([0, 0, 0, 0, 1, 0, 0]), array([0, 0, 0, 0, 1, 0, 0]), array([0, 0, 0, 0, 1, 0, 0]), array([0, 0, 0, 0, 1, 0, 0]), array([0, 0, 0, 0, 1, 0, 0]), array([0, 0, 0, 0, 0, 0, 1]), array([0, 0, 0, 0, 0, 0, 1]), array([0, 0, 0, 0, 0, 0, 1]), array([0, 0, 0, 0, 1, 0, 0]), array([0, 0, 0, 0, 1, 0, 0]), array([0, 0, 0, 0, 1, 0, 0]), array([0, 0, 1, 0, 0, 0, 0]), array([0, 0, 0, 0, 1, 0, 0]), array([0, 0, 0, 0, 1, 0, 0]), array([0, 0, 1, 0, 0, 0, 0]), array([0, 0, 1, 0, 0, 0, 0]), array([0, 0, 0, 0, 1, 0, 0]), array([0, 0, 1, 0, 0, 0, 0]), array([0, 0, 0, 0, 1, 0, 0]), array([1, 0, 0, 0, 0, 0, 0]), array([0, 0, 1, 0, 0, 0, 0]), array([0, 0, 0, 0, 1, 0, 0]), array([0, 0, 0, 0, 1, 0, 0]), array([0, 0, 0, 0, 0, 0, 1]), array([0, 1, 0, 0, 0, 0, 0]), array([0, 0, 0, 0, 1, 0, 0]), array([0, 0, 0, 0, 0, 0, 1]), array([0, 0, 0, 0, 1, 0, 0]), array([1, 0, 0, 0, 0, 0, 0]), array([0, 0, 0, 1, 0, 0, 0]), array([0, 0, 0, 0, 1, 0, 0]), array([0, 0, 0, 0, 1, 0, 0]), array([0, 0, 0, 0, 1, 0, 0]), array([0, 0, 0, 0, 0, 1, 0]), array([0, 0, 0, 0, 1, 0, 0]), array([0, 0, 0, 0, 1, 0, 0]), array([0, 0, 0, 0, 0, 0, 1]), array([0, 0, 0, 0, 1, 0, 0]), array([0, 0, 0, 0, 1, 0, 0]), array([0, 0, 0, 1, 0, 0, 0]), array([0, 0, 0, 0, 0, 0, 1]), array([0, 1, 0, 0, 0, 0, 0]), array([0, 0, 0, 0, 1, 0, 0]), array([0, 0, 0, 0, 1, 0, 0]), array([0, 0, 0, 0, 1, 0, 0]), array([0, 0, 0, 0, 0, 0, 1]), array([0, 0, 0, 0, 0, 0, 1]), array([0, 0, 0, 0, 1, 0, 0]), array([0, 0, 0, 0, 1, 0, 0]), array([0, 0, 0, 0, 1, 0, 0]), array([0, 0, 0, 0, 1, 0, 0]), array([0, 1, 0, 0, 0, 0, 0]), array([0, 0, 0, 0, 1, 0, 0]), array([0, 0, 0, 0, 0, 0, 1]), array([0, 0, 0, 0, 1, 0, 0]), array([0, 0, 0, 0, 0, 0, 1]), array([0, 0, 0, 0, 1, 0, 0]), array([0, 0, 0, 0, 1, 0, 0]), array([0, 0, 0, 0, 1, 0, 0]), array([0, 0, 0, 0, 1, 0, 0]), array([0, 0, 0, 0, 1, 0, 0]), array([0, 0, 0, 0, 1, 0, 0]), array([0, 0, 0, 0, 1, 0, 0]), array([0, 0, 0, 0, 1, 0, 0]), array([0, 0, 0, 0, 1, 0, 0]), array([0, 0, 0, 0, 1, 0, 0]), array([0, 0, 0, 0, 1, 0, 0]), array([0, 0, 0, 0, 1, 0, 0]), array([0, 0, 0, 0, 1, 0, 0]), array([0, 0, 0, 0, 0, 0, 1]), array([0, 0, 0, 0, 0, 1, 0]), array([0, 0, 0, 0, 1, 0, 0]), array([0, 0, 0, 0, 1, 0, 0]), array([0, 0, 1, 0, 0, 0, 0]), array([0, 0, 0, 0, 1, 0, 0]), array([0, 0, 0, 0, 1, 0, 0]), array([0, 0, 0, 0, 1, 0, 0]), array([1, 0, 0, 0, 0, 0, 0]), array([0, 0, 0, 0, 1, 0, 0]), array([0, 0, 0, 0, 1, 0, 0]), array([0, 0, 0, 0, 1, 0, 0]), array([0, 0, 0, 0, 0, 0, 1]), array([0, 0, 0, 0, 1, 0, 0]), array([0, 0, 0, 0, 1, 0, 0]), array([0, 0, 0, 0, 1, 0, 0]), array([0, 1, 0, 0, 0, 0, 0]), array([0, 0, 0, 0, 1, 0, 0]), array([0, 0, 0, 0, 1, 0, 0]), array([0, 0, 0, 0, 1, 0, 0]), array([0, 0, 0, 0, 0, 0, 1]), array([0, 0, 1, 0, 0, 0, 0]), array([0, 0, 0, 0, 1, 0, 0]), array([0, 0, 0, 0, 0, 0, 1]), array([0, 0, 1, 0, 0, 0, 0]), array([0, 0, 1, 0, 0, 0, 0]), array([0, 0, 0, 0, 1, 0, 0]), array([0, 0, 1, 0, 0, 0, 0]), array([0, 0, 0, 0, 1, 0, 0]), array([0, 0, 0, 0, 1, 0, 0]), array([0, 0, 0, 0, 0, 1, 0]), array([0, 0, 0, 0, 1, 0, 0]), array([0, 0, 0, 0, 1, 0, 0]), array([0, 0, 1, 0, 0, 0, 0]), array([0, 0, 0, 0, 1, 0, 0]), array([0, 0, 0, 0, 1, 0, 0]), array([0, 0, 0, 0, 1, 0, 0]), array([0, 0, 0, 0, 1, 0, 0]), array([0, 0, 0, 0, 1, 0, 0]), array([0, 0, 0, 0, 1, 0, 0]), array([0, 0, 0, 0, 1, 0, 0]), array([0, 0, 0, 0, 1, 0, 0]), array([0, 0, 1, 0, 0, 0, 0]), array([0, 0, 0, 0, 1, 0, 0]), array([0, 0, 0, 0, 1, 0, 0]), array([0, 0, 1, 0, 0, 0, 0]), array([0, 0, 0, 0, 0, 0, 1]), array([0, 0, 0, 0, 1, 0, 0]), array([0, 0, 0, 0, 1, 0, 0]), array([0, 0, 0, 0, 1, 0, 0]), array([0, 1, 0, 0, 0, 0, 0]), array([0, 0, 0, 0, 0, 0, 1]), array([0, 0, 0, 0, 1, 0, 0]), array([1, 0, 0, 0, 0, 0, 0]), array([0, 0, 0, 0, 1, 0, 0]), array([0, 0, 0, 0, 1, 0, 0]), array([0, 0, 0, 0, 1, 0, 0]), array([0, 0, 0, 0, 1, 0, 0]), array([0, 0, 1, 0, 0, 0, 0]), array([0, 0, 0, 0, 0, 0, 1]), array([0, 0, 0, 0, 1, 0, 0]), array([0, 0, 0, 0, 1, 0, 0]), array([0, 0, 1, 0, 0, 0, 0]), array([0, 0, 0, 0, 1, 0, 0]), array([0, 0, 0, 0, 1, 0, 0]), array([0, 0, 0, 0, 1, 0, 0]), array([1, 0, 0, 0, 0, 0, 0]), array([0, 0, 0, 0, 1, 0, 0]), array([0, 0, 1, 0, 0, 0, 0]), array([0, 0, 0, 0, 1, 0, 0]), array([0, 0, 0, 0, 1, 0, 0]), array([0, 0, 0, 0, 1, 0, 0]), array([0, 0, 1, 0, 0, 0, 0]), array([0, 0, 0, 0, 1, 0, 0]), array([0, 0, 0, 0, 1, 0, 0]), array([0, 0, 0, 0, 1, 0, 0]), array([0, 1, 0, 0, 0, 0, 0]), array([0, 0, 0, 0, 1, 0, 0]), array([0, 0, 0, 0, 1, 0, 0]), array([0, 0, 0, 0, 1, 0, 0]), array([0, 0, 0, 0, 1, 0, 0]), array([0, 0, 0, 0, 1, 0, 0]), array([0, 0, 0, 0, 1, 0, 0]), array([0, 0, 0, 0, 1, 0, 0]), array([0, 0, 0, 0, 1, 0, 0]), array([0, 0, 0, 0, 1, 0, 0]), array([0, 0, 0, 0, 1, 0, 0]), array([0, 0, 0, 0, 1, 0, 0]), array([0, 0, 0, 0, 1, 0, 0]), array([0, 0, 0, 0, 1, 0, 0]), array([0, 0, 0, 0, 0, 0, 1]), array([0, 0, 0, 0, 1, 0, 0]), array([0, 0, 0, 0, 1, 0, 0]), array([0, 0, 1, 0, 0, 0, 0]), array([0, 0, 1, 0, 0, 0, 0]), array([0, 1, 0, 0, 0, 0, 0]), array([0, 0, 0, 0, 1, 0, 0]), array([0, 0, 0, 0, 1, 0, 0]), array([1, 0, 0, 0, 0, 0, 0]), array([0, 0, 1, 0, 0, 0, 0]), array([0, 0, 0, 0, 1, 0, 0]), array([0, 0, 0, 0, 1, 0, 0]), array([0, 0, 0, 0, 0, 0, 1]), array([0, 0, 0, 0, 1, 0, 0]), array([0, 0, 0, 0, 1, 0, 0]), array([0, 0, 0, 0, 0, 0, 1]), array([0, 0, 0, 0, 1, 0, 0]), array([0, 0, 0, 0, 1, 0, 0]), array([0, 0, 0, 0, 1, 0, 0]), array([0, 0, 0, 0, 1, 0, 0]), array([0, 0, 0, 0, 1, 0, 0]), array([0, 1, 0, 0, 0, 0, 0]), array([0, 0, 0, 0, 1, 0, 0]), array([0, 0, 0, 0, 1, 0, 0]), array([0, 0, 0, 0, 1, 0, 0]), array([0, 0, 0, 0, 1, 0, 0]), array([0, 0, 0, 0, 1, 0, 0]), array([0, 0, 0, 0, 1, 0, 0]), array([0, 0, 1, 0, 0, 0, 0]), array([0, 0, 0, 0, 1, 0, 0]), array([0, 0, 1, 0, 0, 0, 0]), array([0, 0, 0, 0, 1, 0, 0]), array([0, 0, 0, 0, 0, 0, 1]), array([0, 0, 0, 0, 1, 0, 0]), array([0, 0, 0, 0, 0, 0, 1]), array([0, 0, 0, 0, 1, 0, 0]), array([0, 0, 0, 0, 1, 0, 0]), array([0, 0, 0, 0, 1, 0, 0]), array([0, 0, 0, 0, 1, 0, 0]), array([0, 0, 0, 0, 1, 0, 0]), array([0, 0, 0, 0, 1, 0, 0]), array([0, 0, 0, 0, 1, 0, 0]), array([0, 0, 0, 0, 1, 0, 0]), array([0, 0, 0, 0, 1, 0, 0]), array([0, 0, 0, 0, 1, 0, 0]), array([0, 0, 0, 0, 0, 0, 1]), array([0, 0, 0, 0, 1, 0, 0]), array([0, 0, 0, 0, 1, 0, 0]), array([0, 0, 1, 0, 0, 0, 0]), array([0, 0, 0, 0, 1, 0, 0]), array([0, 0, 0, 0, 1, 0, 0]), array([0, 0, 0, 0, 1, 0, 0]), array([0, 0, 0, 0, 1, 0, 0]), array([0, 0, 0, 0, 1, 0, 0]), array([0, 0, 1, 0, 0, 0, 0]), array([0, 0, 0, 0, 1, 0, 0]), array([0, 0, 0, 0, 1, 0, 0]), array([0, 0, 0, 0, 1, 0, 0]), array([0, 0, 0, 1, 0, 0, 0]), array([0, 1, 0, 0, 0, 0, 0]), array([0, 0, 0, 0, 1, 0, 0]), array([0, 0, 0, 0, 1, 0, 0]), array([0, 0, 0, 0, 1, 0, 0]), array([0, 1, 0, 0, 0, 0, 0]), array([0, 0, 0, 0, 1, 0, 0]), array([0, 0, 0, 0, 1, 0, 0]), array([0, 0, 0, 0, 0, 0, 1]), array([0, 1, 0, 0, 0, 0, 0]), array([0, 0, 0, 0, 1, 0, 0]), array([1, 0, 0, 0, 0, 0, 0]), array([0, 0, 0, 0, 1, 0, 0]), array([0, 0, 1, 0, 0, 0, 0]), array([0, 0, 0, 0, 1, 0, 0]), array([0, 0, 1, 0, 0, 0, 0]), array([0, 0, 0, 0, 1, 0, 0]), array([0, 0, 0, 0, 1, 0, 0]), array([0, 0, 0, 0, 1, 0, 0]), array([0, 0, 0, 0, 1, 0, 0]), array([0, 0, 0, 0, 1, 0, 0]), array([0, 0, 1, 0, 0, 0, 0]), array([0, 0, 0, 0, 1, 0, 0]), array([0, 0, 0, 0, 1, 0, 0]), array([0, 0, 0, 0, 0, 0, 1]), array([0, 0, 0, 0, 1, 0, 0]), array([0, 0, 0, 0, 1, 0, 0]), array([0, 0, 0, 0, 0, 0, 1]), array([0, 0, 0, 0, 0, 0, 1]), array([0, 1, 0, 0, 0, 0, 0]), array([0, 0, 0, 0, 1, 0, 0]), array([0, 0, 1, 0, 0, 0, 0]), array([0, 0, 0, 0, 1, 0, 0]), array([0, 1, 0, 0, 0, 0, 0]), array([0, 0, 0, 0, 1, 0, 0]), array([0, 0, 0, 0, 0, 0, 1]), array([0, 0, 0, 0, 1, 0, 0]), array([0, 0, 0, 0, 1, 0, 0]), array([0, 0, 0, 0, 1, 0, 0]), array([0, 0, 0, 0, 0, 0, 1]), array([0, 0, 0, 0, 1, 0, 0]), array([1, 0, 0, 0, 0, 0, 0]), array([0, 1, 0, 0, 0, 0, 0]), array([0, 0, 1, 0, 0, 0, 0]), array([0, 0, 0, 0, 1, 0, 0]), array([0, 0, 0, 0, 1, 0, 0]), array([0, 0, 0, 0, 1, 0, 0]), array([0, 0, 0, 0, 1, 0, 0]), array([0, 0, 0, 0, 1, 0, 0]), array([0, 0, 1, 0, 0, 0, 0]), array([0, 0, 0, 0, 1, 0, 0]), array([0, 0, 0, 0, 1, 0, 0]), array([0, 0, 0, 0, 0, 0, 1]), array([0, 0, 0, 0, 1, 0, 0]), array([0, 0, 0, 0, 1, 0, 0]), array([0, 0, 0, 0, 1, 0, 0]), array([0, 0, 0, 0, 1, 0, 0]), array([0, 0, 0, 0, 1, 0, 0]), array([0, 0, 1, 0, 0, 0, 0]), array([0, 0, 0, 0, 0, 0, 1]), array([0, 0, 0, 0, 1, 0, 0]), array([0, 0, 1, 0, 0, 0, 0]), array([0, 0, 0, 0, 1, 0, 0]), array([0, 0, 0, 0, 1, 0, 0]), array([0, 0, 0, 0, 1, 0, 0]), array([0, 0, 0, 0, 1, 0, 0]), array([0, 0, 0, 0, 1, 0, 0]), array([0, 0, 0, 0, 1, 0, 0]), array([0, 0, 0, 0, 1, 0, 0]), array([0, 0, 0, 0, 1, 0, 0]), array([0, 0, 0, 0, 1, 0, 0]), array([0, 0, 0, 0, 1, 0, 0]), array([0, 0, 0, 0, 1, 0, 0]), array([0, 0, 0, 0, 1, 0, 0]), array([0, 0, 0, 0, 1, 0, 0]), array([0, 0, 0, 0, 1, 0, 0]), array([0, 0, 0, 0, 1, 0, 0]), array([0, 0, 0, 0, 1, 0, 0]), array([0, 0, 0, 0, 1, 0, 0]), array([0, 0, 0, 0, 1, 0, 0]), array([0, 0, 0, 1, 0, 0, 0]), array([0, 1, 0, 0, 0, 0, 0]), array([0, 0, 1, 0, 0, 0, 0]), array([0, 0, 0, 0, 1, 0, 0]), array([0, 0, 0, 0, 1, 0, 0]), array([0, 0, 0, 0, 1, 0, 0]), array([0, 0, 1, 0, 0, 0, 0]), array([0, 0, 0, 0, 1, 0, 0]), array([0, 0, 0, 0, 1, 0, 0]), array([0, 0, 0, 0, 1, 0, 0]), array([0, 0, 0, 0, 1, 0, 0]), array([0, 0, 0, 0, 1, 0, 0]), array([0, 0, 0, 0, 0, 0, 1]), array([0, 0, 0, 0, 0, 0, 1]), array([0, 0, 0, 0, 1, 0, 0]), array([0, 0, 0, 0, 1, 0, 0]), array([0, 0, 0, 0, 1, 0, 0]), array([0, 0, 0, 0, 0, 0, 1]), array([0, 0, 0, 0, 0, 1, 0]), array([0, 0, 0, 1, 0, 0, 0]), array([0, 0, 0, 0, 1, 0, 0]), array([0, 0, 0, 0, 1, 0, 0]), array([0, 0, 1, 0, 0, 0, 0]), array([0, 0, 0, 0, 1, 0, 0]), array([0, 0, 0, 0, 1, 0, 0]), array([0, 0, 0, 0, 1, 0, 0]), array([0, 0, 0, 0, 1, 0, 0]), array([0, 0, 0, 0, 1, 0, 0]), array([0, 0, 0, 0, 0, 0, 1]), array([0, 0, 0, 0, 1, 0, 0]), array([0, 0, 0, 0, 0, 0, 1]), array([0, 0, 0, 0, 0, 0, 1]), array([0, 0, 0, 0, 1, 0, 0]), array([0, 0, 0, 0, 1, 0, 0]), array([0, 0, 0, 0, 0, 0, 1]), array([0, 0, 0, 0, 1, 0, 0]), array([0, 0, 0, 0, 1, 0, 0]), array([0, 0, 0, 0, 1, 0, 0]), array([0, 0, 0, 0, 1, 0, 0]), array([0, 0, 0, 0, 1, 0, 0]), array([0, 0, 0, 0, 1, 0, 0]), array([0, 0, 0, 0, 1, 0, 0]), array([0, 0, 0, 0, 1, 0, 0]), array([0, 0, 0, 0, 1, 0, 0]), array([0, 0, 0, 0, 1, 0, 0]), array([0, 0, 0, 0, 1, 0, 0]), array([0, 1, 0, 0, 0, 0, 0]), array([0, 0, 0, 0, 1, 0, 0]), array([0, 0, 0, 0, 1, 0, 0]), array([0, 0, 0, 0, 1, 0, 0]), array([0, 0, 0, 0, 1, 0, 0]), array([0, 0, 0, 0, 1, 0, 0]), array([0, 0, 0, 0, 1, 0, 0]), array([0, 0, 0, 0, 1, 0, 0]), array([0, 0, 0, 0, 1, 0, 0]), array([0, 0, 0, 0, 1, 0, 0]), array([0, 0, 0, 0, 1, 0, 0]), array([0, 0, 0, 0, 1, 0, 0]), array([0, 0, 0, 0, 1, 0, 0]), array([1, 0, 0, 0, 0, 0, 0]), array([0, 0, 0, 0, 1, 0, 0]), array([0, 0, 0, 0, 1, 0, 0]), array([0, 0, 0, 0, 1, 0, 0]), array([0, 0, 0, 0, 1, 0, 0]), array([0, 0, 0, 0, 1, 0, 0]), array([0, 0, 0, 0, 1, 0, 0]), array([0, 0, 0, 1, 0, 0, 0]), array([0, 0, 0, 0, 1, 0, 0]), array([0, 0, 0, 0, 1, 0, 0]), array([1, 0, 0, 0, 0, 0, 0]), array([0, 0, 0, 0, 1, 0, 0]), array([0, 0, 0, 0, 1, 0, 0]), array([0, 0, 0, 0, 1, 0, 0]), array([0, 0, 1, 0, 0, 0, 0]), array([0, 0, 0, 0, 1, 0, 0]), array([0, 1, 0, 0, 0, 0, 0]), array([0, 0, 0, 0, 1, 0, 0]), array([0, 0, 0, 0, 0, 0, 1]), array([0, 0, 0, 0, 1, 0, 0]), array([0, 0, 0, 0, 1, 0, 0]), array([0, 0, 0, 0, 1, 0, 0]), array([0, 0, 0, 0, 0, 0, 1]), array([1, 0, 0, 0, 0, 0, 0]), array([0, 0, 0, 0, 0, 0, 1]), array([0, 0, 0, 0, 0, 0, 1]), array([0, 0, 0, 0, 1, 0, 0]), array([0, 1, 0, 0, 0, 0, 0]), array([0, 0, 0, 0, 1, 0, 0]), array([0, 0, 0, 0, 1, 0, 0]), array([0, 0, 0, 0, 1, 0, 0]), array([0, 0, 0, 0, 1, 0, 0]), array([0, 0, 0, 0, 0, 0, 1]), array([0, 0, 0, 0, 0, 0, 1]), array([0, 0, 0, 0, 1, 0, 0]), array([1, 0, 0, 0, 0, 0, 0]), array([0, 0, 0, 0, 1, 0, 0]), array([0, 1, 0, 0, 0, 0, 0]), array([0, 0, 0, 0, 1, 0, 0]), array([0, 0, 0, 0, 1, 0, 0]), array([0, 0, 0, 0, 1, 0, 0]), array([0, 0, 0, 0, 1, 0, 0]), array([0, 0, 0, 0, 1, 0, 0]), array([0, 0, 1, 0, 0, 0, 0]), array([0, 0, 1, 0, 0, 0, 0]), array([0, 0, 0, 0, 1, 0, 0]), array([0, 0, 0, 0, 1, 0, 0]), array([0, 0, 0, 0, 1, 0, 0]), array([0, 0, 1, 0, 0, 0, 0]), array([0, 0, 0, 0, 1, 0, 0]), array([0, 0, 0, 0, 1, 0, 0]), array([0, 0, 0, 0, 1, 0, 0]), array([0, 0, 0, 0, 1, 0, 0]), array([0, 0, 0, 0, 0, 0, 1]), array([0, 0, 0, 0, 1, 0, 0]), array([0, 1, 0, 0, 0, 0, 0]), array([0, 0, 0, 0, 0, 0, 1]), array([0, 0, 0, 1, 0, 0, 0]), array([0, 0, 0, 0, 0, 0, 1]), array([0, 0, 0, 0, 1, 0, 0]), array([0, 0, 0, 0, 1, 0, 0]), array([0, 0, 1, 0, 0, 0, 0]), array([0, 0, 0, 0, 1, 0, 0]), array([0, 0, 0, 0, 1, 0, 0]), array([0, 1, 0, 0, 0, 0, 0]), array([0, 0, 0, 0, 1, 0, 0]), array([0, 0, 0, 0, 1, 0, 0]), array([0, 0, 0, 0, 1, 0, 0]), array([0, 0, 0, 0, 1, 0, 0]), array([0, 0, 0, 0, 1, 0, 0]), array([0, 0, 0, 0, 0, 0, 1]), array([0, 0, 0, 0, 1, 0, 0]), array([0, 0, 0, 0, 1, 0, 0]), array([0, 0, 0, 0, 1, 0, 0]), array([0, 0, 0, 0, 1, 0, 0]), array([0, 0, 0, 0, 0, 0, 1]), array([0, 0, 1, 0, 0, 0, 0]), array([0, 0, 0, 0, 1, 0, 0]), array([0, 0, 0, 0, 1, 0, 0]), array([0, 0, 0, 0, 1, 0, 0]), array([0, 0, 0, 0, 1, 0, 0]), array([0, 0, 0, 0, 1, 0, 0]), array([0, 0, 0, 0, 1, 0, 0]), array([0, 0, 0, 0, 0, 0, 1]), array([0, 0, 0, 0, 1, 0, 0]), array([0, 1, 0, 0, 0, 0, 0]), array([0, 0, 0, 0, 1, 0, 0]), array([0, 0, 0, 0, 1, 0, 0]), array([0, 0, 0, 0, 0, 0, 1]), array([0, 0, 0, 0, 0, 0, 1]), array([0, 0, 0, 0, 1, 0, 0]), array([0, 0, 0, 0, 1, 0, 0]), array([0, 0, 0, 0, 0, 0, 1]), array([1, 0, 0, 0, 0, 0, 0]), array([0, 0, 1, 0, 0, 0, 0]), array([0, 0, 0, 0, 1, 0, 0]), array([0, 0, 0, 0, 1, 0, 0]), array([0, 0, 0, 0, 1, 0, 0]), array([0, 0, 1, 0, 0, 0, 0]), array([0, 1, 0, 0, 0, 0, 0]), array([0, 0, 0, 0, 1, 0, 0]), array([0, 0, 0, 0, 1, 0, 0]), array([0, 0, 0, 0, 1, 0, 0]), array([0, 0, 0, 0, 1, 0, 0]), array([0, 0, 0, 0, 1, 0, 0]), array([0, 0, 0, 0, 1, 0, 0]), array([1, 0, 0, 0, 0, 0, 0]), array([0, 0, 0, 0, 1, 0, 0]), array([0, 0, 0, 0, 1, 0, 0]), array([0, 0, 0, 0, 1, 0, 0]), array([0, 0, 0, 0, 1, 0, 0]), array([0, 0, 0, 0, 1, 0, 0]), array([0, 0, 0, 0, 1, 0, 0]), array([0, 0, 0, 0, 1, 0, 0]), array([0, 0, 1, 0, 0, 0, 0]), array([0, 0, 0, 0, 1, 0, 0]), array([0, 0, 0, 0, 1, 0, 0]), array([0, 0, 0, 0, 1, 0, 0]), array([0, 1, 0, 0, 0, 0, 0]), array([0, 0, 0, 0, 1, 0, 0]), array([0, 0, 1, 0, 0, 0, 0]), array([0, 0, 0, 0, 0, 0, 1]), array([0, 0, 0, 0, 0, 0, 1]), array([0, 0, 1, 0, 0, 0, 0]), array([0, 0, 1, 0, 0, 0, 0]), array([0, 0, 0, 0, 1, 0, 0]), array([0, 0, 0, 0, 1, 0, 0]), array([0, 0, 0, 0, 1, 0, 0]), array([0, 0, 0, 0, 0, 0, 1]), array([0, 0, 0, 0, 1, 0, 0]), array([0, 0, 0, 0, 1, 0, 0]), array([1, 0, 0, 0, 0, 0, 0]), array([0, 0, 0, 0, 1, 0, 0]), array([0, 0, 0, 0, 1, 0, 0]), array([0, 0, 0, 0, 1, 0, 0]), array([0, 0, 0, 0, 1, 0, 0]), array([0, 0, 0, 0, 1, 0, 0]), array([0, 0, 0, 0, 1, 0, 0]), array([0, 0, 0, 0, 1, 0, 0]), array([0, 0, 0, 0, 1, 0, 0]), array([0, 0, 0, 0, 1, 0, 0]), array([0, 0, 0, 0, 1, 0, 0]), array([1, 0, 0, 0, 0, 0, 0]), array([0, 0, 0, 0, 1, 0, 0]), array([0, 0, 0, 0, 1, 0, 0]), array([0, 0, 0, 0, 1, 0, 0]), array([0, 0, 0, 0, 1, 0, 0]), array([0, 0, 0, 0, 1, 0, 0]), array([0, 1, 0, 0, 0, 0, 0]), array([0, 0, 0, 0, 1, 0, 0]), array([0, 0, 0, 0, 1, 0, 0]), array([0, 0, 0, 0, 1, 0, 0]), array([0, 0, 0, 0, 1, 0, 0]), array([0, 0, 0, 0, 1, 0, 0]), array([0, 0, 0, 0, 1, 0, 0]), array([0, 0, 0, 0, 1, 0, 0]), array([0, 0, 0, 0, 1, 0, 0]), array([0, 0, 0, 0, 1, 0, 0]), array([0, 0, 0, 0, 1, 0, 0]), array([0, 0, 0, 0, 1, 0, 0]), array([0, 0, 0, 0, 0, 0, 1]), array([0, 0, 1, 0, 0, 0, 0]), array([0, 0, 1, 0, 0, 0, 0]), array([0, 0, 1, 0, 0, 0, 0]), array([0, 0, 0, 0, 1, 0, 0]), array([0, 0, 0, 0, 0, 0, 1]), array([0, 0, 0, 0, 1, 0, 0]), array([0, 0, 0, 0, 1, 0, 0]), array([0, 0, 0, 0, 1, 0, 0]), array([0, 0, 0, 0, 1, 0, 0]), array([0, 0, 0, 0, 1, 0, 0]), array([0, 0, 0, 0, 1, 0, 0]), array([0, 0, 0, 0, 1, 0, 0]), array([0, 0, 0, 0, 1, 0, 0]), array([0, 0, 0, 0, 1, 0, 0]), array([0, 0, 0, 0, 0, 0, 1]), array([0, 0, 0, 0, 1, 0, 0]), array([0, 0, 0, 0, 0, 0, 1]), array([0, 0, 0, 0, 1, 0, 0]), array([0, 0, 0, 0, 1, 0, 0]), array([0, 0, 0, 0, 1, 0, 0]), array([0, 0, 0, 0, 1, 0, 0]), array([0, 0, 0, 0, 1, 0, 0]), array([1, 0, 0, 0, 0, 0, 0]), array([0, 0, 0, 0, 1, 0, 0]), array([0, 0, 0, 0, 0, 0, 1]), array([0, 0, 0, 0, 1, 0, 0]), array([0, 0, 0, 1, 0, 0, 0]), array([0, 0, 0, 0, 1, 0, 0]), array([0, 0, 0, 0, 1, 0, 0]), array([0, 0, 0, 0, 1, 0, 0]), array([0, 0, 1, 0, 0, 0, 0]), array([0, 0, 0, 0, 1, 0, 0]), array([0, 0, 0, 0, 1, 0, 0]), array([0, 0, 0, 0, 1, 0, 0]), array([0, 0, 0, 0, 1, 0, 0]), array([0, 0, 0, 0, 1, 0, 0]), array([0, 0, 0, 0, 1, 0, 0]), array([0, 0, 0, 0, 0, 0, 1]), array([0, 0, 0, 0, 1, 0, 0]), array([0, 0, 0, 0, 1, 0, 0]), array([0, 1, 0, 0, 0, 0, 0]), array([0, 0, 0, 0, 1, 0, 0]), array([0, 0, 0, 0, 1, 0, 0]), array([0, 0, 0, 0, 1, 0, 0]), array([0, 0, 0, 0, 1, 0, 0]), array([0, 0, 0, 0, 1, 0, 0]), array([0, 1, 0, 0, 0, 0, 0]), array([0, 0, 0, 0, 1, 0, 0]), array([0, 0, 0, 1, 0, 0, 0]), array([0, 0, 0, 0, 1, 0, 0]), array([0, 0, 0, 0, 1, 0, 0]), array([0, 0, 0, 0, 0, 0, 1]), array([0, 0, 0, 0, 1, 0, 0]), array([0, 0, 0, 0, 1, 0, 0]), array([1, 0, 0, 0, 0, 0, 0]), array([0, 0, 0, 0, 1, 0, 0]), array([0, 0, 0, 0, 1, 0, 0]), array([0, 0, 0, 0, 1, 0, 0]), array([0, 0, 0, 0, 0, 0, 1]), array([0, 0, 0, 0, 1, 0, 0]), array([0, 0, 0, 0, 1, 0, 0]), array([0, 0, 0, 0, 1, 0, 0]), array([0, 0, 0, 0, 1, 0, 0]), array([0, 0, 0, 0, 0, 0, 1]), array([0, 0, 0, 0, 1, 0, 0]), array([0, 0, 0, 0, 1, 0, 0]), array([0, 0, 0, 0, 1, 0, 0]), array([0, 0, 0, 0, 0, 0, 1]), array([0, 1, 0, 0, 0, 0, 0]), array([0, 0, 0, 0, 1, 0, 0]), array([0, 0, 0, 0, 1, 0, 0]), array([0, 0, 0, 0, 1, 0, 0]), array([1, 0, 0, 0, 0, 0, 0]), array([0, 0, 0, 0, 1, 0, 0]), array([0, 0, 1, 0, 0, 0, 0]), array([0, 0, 0, 0, 1, 0, 0]), array([0, 0, 0, 0, 1, 0, 0]), array([0, 0, 0, 0, 1, 0, 0]), array([0, 0, 0, 0, 1, 0, 0]), array([0, 0, 1, 0, 0, 0, 0]), array([0, 0, 0, 0, 1, 0, 0]), array([0, 0, 0, 0, 1, 0, 0]), array([0, 0, 0, 0, 1, 0, 0]), array([0, 0, 0, 0, 1, 0, 0]), array([0, 0, 0, 0, 1, 0, 0]), array([0, 0, 0, 0, 1, 0, 0]), array([0, 1, 0, 0, 0, 0, 0]), array([0, 0, 0, 0, 1, 0, 0]), array([0, 0, 0, 0, 1, 0, 0]), array([0, 0, 0, 0, 1, 0, 0]), array([0, 0, 0, 0, 1, 0, 0]), array([0, 0, 0, 0, 1, 0, 0]), array([0, 0, 0, 0, 1, 0, 0]), array([0, 0, 0, 0, 1, 0, 0]), array([0, 0, 0, 0, 1, 0, 0]), array([0, 0, 0, 0, 1, 0, 0]), array([0, 0, 0, 0, 1, 0, 0]), array([0, 0, 0, 0, 1, 0, 0]), array([0, 0, 0, 0, 1, 0, 0]), array([0, 0, 0, 0, 0, 0, 1]), array([0, 1, 0, 0, 0, 0, 0]), array([0, 1, 0, 0, 0, 0, 0]), array([0, 0, 0, 0, 1, 0, 0]), array([0, 0, 0, 0, 1, 0, 0]), array([0, 0, 0, 0, 0, 0, 1]), array([0, 0, 0, 0, 0, 0, 1]), array([0, 0, 0, 0, 1, 0, 0]), array([0, 0, 0, 0, 1, 0, 0]), array([0, 1, 0, 0, 0, 0, 0]), array([1, 0, 0, 0, 0, 0, 0]), array([0, 0, 0, 0, 1, 0, 0]), array([0, 0, 0, 0, 1, 0, 0]), array([0, 0, 1, 0, 0, 0, 0]), array([0, 0, 0, 0, 1, 0, 0]), array([0, 0, 0, 0, 0, 0, 1]), array([0, 0, 0, 0, 1, 0, 0]), array([0, 0, 1, 0, 0, 0, 0]), array([0, 0, 0, 0, 0, 0, 1]), array([0, 0, 0, 0, 1, 0, 0]), array([0, 0, 1, 0, 0, 0, 0]), array([0, 0, 0, 0, 1, 0, 0]), array([0, 0, 0, 0, 1, 0, 0]), array([0, 0, 0, 0, 1, 0, 0]), array([0, 1, 0, 0, 0, 0, 0]), array([0, 0, 0, 0, 1, 0, 0]), array([0, 0, 0, 0, 1, 0, 0]), array([0, 0, 0, 0, 1, 0, 0]), array([0, 0, 0, 0, 1, 0, 0]), array([0, 0, 0, 0, 1, 0, 0]), array([0, 0, 0, 0, 1, 0, 0]), array([0, 0, 0, 0, 1, 0, 0]), array([0, 0, 0, 0, 1, 0, 0]), array([0, 0, 0, 0, 1, 0, 0]), array([0, 0, 0, 0, 1, 0, 0]), array([0, 0, 0, 0, 0, 0, 1]), array([0, 0, 0, 0, 1, 0, 0]), array([0, 0, 0, 0, 1, 0, 0]), array([0, 0, 0, 0, 1, 0, 0]), array([0, 0, 0, 0, 1, 0, 0]), array([0, 0, 0, 0, 0, 0, 1]), array([0, 0, 0, 0, 1, 0, 0]), array([0, 1, 0, 0, 0, 0, 0]), array([0, 0, 0, 0, 1, 0, 0]), array([0, 0, 0, 0, 1, 0, 0]), array([0, 0, 0, 0, 1, 0, 0]), array([0, 0, 0, 0, 1, 0, 0]), array([0, 0, 0, 0, 0, 1, 0]), array([0, 0, 0, 0, 1, 0, 0]), array([0, 0, 0, 0, 1, 0, 0]), array([0, 0, 0, 0, 0, 0, 1]), array([0, 0, 0, 0, 1, 0, 0]), array([0, 0, 0, 0, 1, 0, 0]), array([0, 1, 0, 0, 0, 0, 0]), array([0, 0, 1, 0, 0, 0, 0]), array([0, 0, 0, 0, 1, 0, 0]), array([0, 0, 0, 0, 0, 0, 1]), array([0, 0, 0, 0, 1, 0, 0]), array([0, 0, 0, 0, 0, 0, 1]), array([0, 0, 0, 0, 1, 0, 0]), array([0, 0, 0, 0, 1, 0, 0]), array([0, 0, 0, 0, 1, 0, 0]), array([0, 0, 0, 0, 1, 0, 0]), array([0, 0, 0, 0, 0, 1, 0]), array([0, 0, 0, 0, 1, 0, 0]), array([0, 0, 0, 0, 1, 0, 0]), array([0, 0, 0, 0, 1, 0, 0]), array([0, 0, 1, 0, 0, 0, 0]), array([0, 0, 0, 0, 0, 1, 0]), array([0, 0, 1, 0, 0, 0, 0]), array([0, 0, 0, 0, 1, 0, 0]), array([0, 0, 0, 0, 1, 0, 0]), array([0, 0, 0, 0, 1, 0, 0]), array([0, 0, 0, 0, 0, 0, 1]), array([0, 0, 0, 0, 1, 0, 0]), array([0, 0, 0, 0, 1, 0, 0]), array([0, 0, 0, 0, 1, 0, 0]), array([0, 1, 0, 0, 0, 0, 0]), array([0, 0, 0, 0, 1, 0, 0]), array([0, 0, 0, 0, 0, 0, 1]), array([0, 0, 1, 0, 0, 0, 0]), array([0, 0, 0, 0, 1, 0, 0]), array([0, 0, 0, 0, 1, 0, 0]), array([0, 0, 0, 0, 1, 0, 0]), array([0, 0, 1, 0, 0, 0, 0]), array([0, 0, 0, 0, 1, 0, 0]), array([0, 0, 0, 0, 1, 0, 0]), array([0, 0, 0, 0, 1, 0, 0]), array([0, 1, 0, 0, 0, 0, 0]), array([1, 0, 0, 0, 0, 0, 0]), array([0, 0, 0, 0, 1, 0, 0]), array([0, 0, 0, 0, 0, 0, 1]), array([0, 0, 1, 0, 0, 0, 0]), array([0, 0, 0, 0, 1, 0, 0]), array([0, 0, 0, 0, 1, 0, 0]), array([0, 1, 0, 0, 0, 0, 0]), array([0, 0, 1, 0, 0, 0, 0]), array([1, 0, 0, 0, 0, 0, 0]), array([0, 0, 0, 0, 1, 0, 0]), array([0, 0, 0, 0, 1, 0, 0]), array([0, 0, 1, 0, 0, 0, 0]), array([0, 0, 0, 0, 1, 0, 0]), array([0, 0, 0, 0, 1, 0, 0]), array([0, 0, 0, 0, 1, 0, 0]), array([0, 0, 0, 0, 1, 0, 0]), array([0, 0, 0, 0, 1, 0, 0]), array([0, 0, 0, 0, 1, 0, 0]), array([0, 0, 0, 0, 1, 0, 0]), array([0, 0, 0, 0, 1, 0, 0]), array([0, 0, 0, 0, 1, 0, 0]), array([0, 0, 0, 0, 1, 0, 0]), array([0, 0, 0, 0, 1, 0, 0]), array([0, 1, 0, 0, 0, 0, 0]), array([0, 0, 1, 0, 0, 0, 0]), array([0, 0, 0, 0, 1, 0, 0]), array([0, 0, 0, 0, 0, 0, 1]), array([0, 0, 1, 0, 0, 0, 0]), array([0, 0, 0, 0, 0, 1, 0]), array([0, 0, 0, 0, 1, 0, 0]), array([0, 0, 0, 1, 0, 0, 0]), array([0, 0, 0, 0, 1, 0, 0]), array([0, 0, 0, 0, 1, 0, 0]), array([0, 0, 0, 0, 1, 0, 0]), array([0, 0, 1, 0, 0, 0, 0]), array([0, 0, 0, 0, 1, 0, 0]), array([0, 0, 1, 0, 0, 0, 0]), array([0, 0, 0, 0, 1, 0, 0]), array([0, 0, 0, 0, 1, 0, 0]), array([0, 0, 0, 0, 1, 0, 0]), array([0, 0, 0, 0, 1, 0, 0]), array([0, 0, 0, 0, 1, 0, 0]), array([0, 0, 0, 0, 0, 0, 1]), array([0, 0, 0, 0, 1, 0, 0]), array([0, 0, 0, 0, 1, 0, 0]), array([0, 0, 0, 0, 1, 0, 0]), array([0, 0, 0, 0, 1, 0, 0]), array([0, 0, 0, 0, 1, 0, 0]), array([0, 0, 0, 0, 1, 0, 0]), array([0, 0, 1, 0, 0, 0, 0]), array([0, 0, 0, 0, 1, 0, 0]), array([0, 0, 1, 0, 0, 0, 0]), array([0, 0, 0, 0, 1, 0, 0]), array([0, 0, 0, 0, 1, 0, 0]), array([0, 0, 0, 0, 1, 0, 0]), array([0, 0, 0, 0, 1, 0, 0]), array([0, 0, 0, 0, 1, 0, 0]), array([0, 0, 0, 0, 1, 0, 0]), array([0, 0, 1, 0, 0, 0, 0]), array([0, 0, 0, 0, 1, 0, 0]), array([0, 0, 1, 0, 0, 0, 0]), array([0, 0, 0, 0, 1, 0, 0]), array([0, 0, 1, 0, 0, 0, 0]), array([0, 0, 0, 0, 1, 0, 0]), array([0, 0, 0, 0, 1, 0, 0]), array([0, 0, 0, 0, 1, 0, 0]), array([0, 1, 0, 0, 0, 0, 0]), array([0, 0, 0, 0, 0, 0, 1]), array([0, 0, 1, 0, 0, 0, 0]), array([0, 0, 0, 0, 1, 0, 0]), array([0, 0, 0, 0, 0, 0, 1]), array([0, 0, 1, 0, 0, 0, 0]), array([0, 0, 1, 0, 0, 0, 0]), array([0, 0, 0, 0, 1, 0, 0]), array([0, 0, 0, 0, 1, 0, 0]), array([0, 0, 0, 0, 1, 0, 0]), array([0, 0, 0, 0, 0, 0, 1]), array([0, 0, 0, 0, 0, 0, 1]), array([0, 0, 0, 0, 1, 0, 0]), array([0, 0, 0, 0, 1, 0, 0]), array([0, 0, 0, 0, 1, 0, 0]), array([0, 0, 0, 0, 1, 0, 0]), array([0, 0, 0, 0, 1, 0, 0]), array([0, 0, 0, 0, 1, 0, 0]), array([0, 1, 0, 0, 0, 0, 0]), array([0, 0, 0, 0, 1, 0, 0]), array([0, 0, 0, 0, 0, 0, 1]), array([0, 0, 0, 0, 1, 0, 0]), array([0, 0, 0, 0, 0, 0, 1]), array([0, 0, 0, 0, 1, 0, 0]), array([0, 0, 0, 0, 1, 0, 0]), array([0, 0, 0, 0, 1, 0, 0]), array([0, 0, 0, 0, 1, 0, 0]), array([0, 0, 0, 0, 1, 0, 0]), array([0, 0, 0, 0, 1, 0, 0]), array([0, 0, 0, 0, 1, 0, 0]), array([1, 0, 0, 0, 0, 0, 0]), array([0, 0, 0, 0, 1, 0, 0]), array([0, 0, 0, 0, 0, 0, 1]), array([0, 0, 0, 0, 1, 0, 0]), array([0, 0, 0, 0, 1, 0, 0]), array([0, 0, 0, 0, 0, 0, 1]), array([0, 0, 0, 0, 1, 0, 0]), array([0, 0, 0, 0, 1, 0, 0]), array([0, 0, 0, 0, 1, 0, 0]), array([0, 0, 0, 0, 0, 1, 0]), array([0, 0, 1, 0, 0, 0, 0]), array([0, 0, 1, 0, 0, 0, 0]), array([0, 0, 0, 0, 1, 0, 0]), array([0, 0, 0, 0, 1, 0, 0]), array([0, 0, 0, 0, 0, 0, 1]), array([0, 0, 0, 0, 1, 0, 0]), array([0, 0, 1, 0, 0, 0, 0]), array([0, 0, 0, 0, 0, 1, 0]), array([0, 0, 0, 0, 1, 0, 0]), array([0, 0, 0, 0, 1, 0, 0]), array([0, 0, 0, 0, 1, 0, 0]), array([0, 0, 0, 0, 1, 0, 0]), array([0, 0, 0, 0, 1, 0, 0]), array([0, 0, 0, 0, 0, 0, 1]), array([0, 0, 1, 0, 0, 0, 0]), array([0, 0, 0, 0, 1, 0, 0]), array([0, 0, 0, 0, 1, 0, 0]), array([0, 0, 0, 0, 1, 0, 0]), array([0, 0, 0, 0, 1, 0, 0]), array([0, 0, 0, 0, 0, 0, 1]), array([0, 0, 1, 0, 0, 0, 0]), array([0, 0, 0, 0, 1, 0, 0]), array([0, 0, 0, 0, 1, 0, 0]), array([0, 0, 0, 0, 1, 0, 0]), array([0, 1, 0, 0, 0, 0, 0]), array([0, 0, 0, 0, 1, 0, 0]), array([0, 0, 0, 0, 1, 0, 0]), array([1, 0, 0, 0, 0, 0, 0]), array([0, 0, 0, 0, 1, 0, 0]), array([0, 0, 0, 0, 1, 0, 0]), array([0, 0, 0, 0, 1, 0, 0]), array([0, 0, 0, 0, 1, 0, 0]), array([0, 0, 0, 0, 0, 0, 1]), array([0, 0, 0, 0, 1, 0, 0]), array([1, 0, 0, 0, 0, 0, 0]), array([0, 0, 0, 0, 1, 0, 0]), array([0, 0, 0, 0, 1, 0, 0]), array([0, 1, 0, 0, 0, 0, 0]), array([1, 0, 0, 0, 0, 0, 0]), array([0, 0, 0, 0, 0, 1, 0]), array([0, 0, 0, 0, 0, 0, 1]), array([0, 0, 0, 0, 1, 0, 0]), array([0, 0, 0, 0, 1, 0, 0]), array([0, 0, 0, 0, 1, 0, 0]), array([0, 0, 0, 0, 1, 0, 0]), array([0, 0, 1, 0, 0, 0, 0]), array([0, 0, 0, 0, 1, 0, 0]), array([0, 0, 0, 0, 1, 0, 0]), array([0, 0, 0, 0, 0, 0, 1]), array([0, 0, 0, 0, 1, 0, 0]), array([0, 0, 0, 0, 1, 0, 0]), array([0, 0, 0, 0, 1, 0, 0]), array([0, 0, 0, 0, 1, 0, 0]), array([0, 0, 0, 0, 1, 0, 0]), array([0, 0, 0, 0, 1, 0, 0]), array([0, 0, 1, 0, 0, 0, 0]), array([0, 0, 0, 0, 1, 0, 0]), array([0, 0, 1, 0, 0, 0, 0]), array([0, 0, 0, 0, 1, 0, 0]), array([0, 0, 0, 0, 1, 0, 0]), array([0, 0, 0, 0, 1, 0, 0]), array([0, 0, 0, 0, 0, 0, 1]), array([0, 1, 0, 0, 0, 0, 0]), array([0, 0, 0, 0, 1, 0, 0]), array([0, 0, 0, 1, 0, 0, 0]), array([0, 0, 0, 0, 1, 0, 0]), array([0, 0, 0, 0, 1, 0, 0]), array([0, 0, 0, 0, 1, 0, 0]), array([0, 0, 0, 0, 1, 0, 0]), array([0, 1, 0, 0, 0, 0, 0]), array([0, 0, 0, 0, 1, 0, 0]), array([0, 0, 1, 0, 0, 0, 0]), array([0, 0, 0, 0, 1, 0, 0]), array([0, 0, 0, 0, 1, 0, 0]), array([0, 0, 0, 0, 1, 0, 0]), array([0, 0, 0, 0, 0, 0, 1]), array([0, 0, 0, 0, 1, 0, 0]), array([0, 0, 0, 0, 0, 0, 1]), array([0, 0, 0, 0, 1, 0, 0]), array([0, 0, 0, 0, 1, 0, 0]), array([0, 0, 0, 0, 1, 0, 0]), array([0, 0, 0, 0, 0, 0, 1]), array([0, 0, 0, 0, 0, 1, 0]), array([0, 0, 0, 0, 1, 0, 0]), array([0, 0, 0, 0, 0, 0, 1]), array([0, 1, 0, 0, 0, 0, 0]), array([0, 0, 0, 0, 1, 0, 0]), array([0, 0, 1, 0, 0, 0, 0]), array([0, 0, 0, 0, 0, 0, 1]), array([0, 0, 0, 0, 1, 0, 0]), array([0, 0, 0, 0, 1, 0, 0]), array([0, 0, 0, 0, 1, 0, 0]), array([0, 0, 0, 0, 1, 0, 0]), array([0, 0, 0, 0, 1, 0, 0]), array([0, 0, 0, 0, 1, 0, 0]), array([0, 0, 0, 0, 1, 0, 0]), array([0, 0, 0, 0, 1, 0, 0]), array([0, 0, 0, 0, 1, 0, 0]), array([0, 0, 0, 0, 1, 0, 0]), array([0, 0, 0, 0, 1, 0, 0]), array([0, 0, 0, 0, 1, 0, 0]), array([0, 0, 0, 0, 1, 0, 0]), array([0, 0, 0, 0, 1, 0, 0]), array([0, 0, 0, 0, 1, 0, 0]), array([1, 0, 0, 0, 0, 0, 0]), array([0, 0, 1, 0, 0, 0, 0]), array([0, 0, 0, 0, 1, 0, 0]), array([0, 0, 0, 0, 1, 0, 0]), array([0, 0, 1, 0, 0, 0, 0]), array([0, 0, 0, 0, 1, 0, 0]), array([0, 0, 0, 0, 1, 0, 0]), array([0, 0, 1, 0, 0, 0, 0]), array([0, 0, 0, 0, 1, 0, 0]), array([0, 0, 0, 0, 1, 0, 0]), array([0, 0, 1, 0, 0, 0, 0]), array([0, 0, 0, 0, 1, 0, 0]), array([0, 0, 0, 0, 1, 0, 0]), array([0, 0, 0, 0, 1, 0, 0]), array([0, 0, 0, 0, 1, 0, 0]), array([0, 0, 0, 0, 1, 0, 0]), array([0, 0, 1, 0, 0, 0, 0]), array([0, 0, 1, 0, 0, 0, 0]), array([0, 0, 0, 0, 1, 0, 0]), array([0, 0, 0, 0, 1, 0, 0]), array([0, 0, 0, 0, 1, 0, 0]), array([0, 0, 1, 0, 0, 0, 0]), array([0, 0, 0, 0, 1, 0, 0]), array([0, 0, 0, 0, 1, 0, 0]), array([0, 0, 0, 0, 1, 0, 0]), array([0, 0, 0, 0, 1, 0, 0]), array([0, 0, 0, 0, 1, 0, 0]), array([0, 1, 0, 0, 0, 0, 0]), array([0, 0, 0, 0, 0, 0, 1]), array([0, 0, 0, 0, 1, 0, 0]), array([0, 0, 0, 0, 1, 0, 0]), array([0, 0, 0, 0, 0, 0, 1]), array([0, 1, 0, 0, 0, 0, 0]), array([0, 0, 0, 0, 1, 0, 0]), array([0, 0, 0, 0, 1, 0, 0]), array([0, 0, 0, 0, 1, 0, 0]), array([0, 0, 0, 0, 0, 0, 1]), array([0, 0, 0, 0, 1, 0, 0]), array([0, 0, 0, 0, 1, 0, 0]), array([0, 0, 0, 0, 0, 0, 1]), array([0, 0, 0, 0, 1, 0, 0]), array([0, 0, 0, 0, 1, 0, 0]), array([0, 0, 0, 0, 1, 0, 0]), array([0, 0, 0, 0, 1, 0, 0]), array([0, 0, 0, 0, 0, 0, 1]), array([0, 0, 0, 0, 1, 0, 0]), array([0, 0, 1, 0, 0, 0, 0]), array([0, 0, 0, 0, 1, 0, 0]), array([1, 0, 0, 0, 0, 0, 0]), array([0, 0, 0, 0, 1, 0, 0]), array([0, 0, 0, 0, 1, 0, 0]), array([0, 0, 0, 1, 0, 0, 0]), array([0, 0, 0, 0, 1, 0, 0]), array([0, 0, 1, 0, 0, 0, 0]), array([0, 0, 0, 0, 1, 0, 0]), array([0, 0, 0, 0, 0, 0, 1]), array([0, 0, 0, 0, 1, 0, 0]), array([0, 1, 0, 0, 0, 0, 0]), array([0, 0, 0, 0, 0, 0, 1]), array([0, 0, 0, 0, 1, 0, 0]), array([0, 0, 1, 0, 0, 0, 0]), array([0, 0, 1, 0, 0, 0, 0]), array([0, 0, 0, 0, 1, 0, 0]), array([0, 1, 0, 0, 0, 0, 0]), array([0, 0, 0, 0, 1, 0, 0]), array([0, 0, 0, 0, 1, 0, 0]), array([0, 0, 0, 0, 1, 0, 0]), array([0, 0, 0, 0, 1, 0, 0]), array([0, 0, 0, 0, 1, 0, 0]), array([0, 0, 0, 0, 1, 0, 0]), array([0, 0, 0, 0, 0, 0, 1]), array([0, 0, 0, 0, 1, 0, 0]), array([0, 0, 0, 1, 0, 0, 0]), array([0, 0, 0, 0, 1, 0, 0]), array([0, 0, 0, 0, 1, 0, 0]), array([0, 0, 0, 0, 0, 1, 0]), array([0, 0, 0, 0, 0, 0, 1]), array([0, 0, 0, 0, 1, 0, 0]), array([0, 0, 0, 0, 1, 0, 0]), array([0, 0, 0, 0, 1, 0, 0]), array([0, 0, 0, 1, 0, 0, 0]), array([0, 0, 0, 0, 1, 0, 0]), array([0, 0, 0, 0, 1, 0, 0]), array([0, 0, 0, 0, 1, 0, 0]), array([0, 0, 0, 0, 1, 0, 0]), array([0, 0, 0, 0, 1, 0, 0]), array([0, 0, 0, 0, 0, 0, 1]), array([0, 0, 0, 0, 1, 0, 0]), array([0, 0, 0, 0, 1, 0, 0]), array([0, 0, 0, 0, 0, 0, 1]), array([0, 0, 0, 0, 1, 0, 0]), array([0, 0, 0, 0, 1, 0, 0]), array([0, 0, 0, 0, 1, 0, 0]), array([0, 0, 0, 0, 1, 0, 0]), array([0, 0, 0, 0, 1, 0, 0]), array([0, 0, 0, 0, 1, 0, 0]), array([1, 0, 0, 0, 0, 0, 0]), array([0, 0, 0, 0, 1, 0, 0]), array([0, 0, 0, 0, 1, 0, 0]), array([0, 0, 0, 0, 1, 0, 0]), array([0, 0, 0, 0, 1, 0, 0]), array([0, 0, 0, 0, 1, 0, 0]), array([0, 0, 0, 0, 1, 0, 0]), array([0, 0, 0, 0, 0, 0, 1]), array([0, 0, 0, 0, 1, 0, 0]), array([0, 0, 0, 0, 1, 0, 0]), array([0, 0, 0, 0, 1, 0, 0]), array([0, 0, 0, 0, 1, 0, 0]), array([0, 0, 0, 0, 1, 0, 0]), array([1, 0, 0, 0, 0, 0, 0]), array([0, 0, 0, 0, 1, 0, 0]), array([0, 0, 0, 0, 0, 0, 1]), array([0, 0, 0, 0, 1, 0, 0]), array([0, 0, 0, 0, 0, 0, 1]), array([0, 0, 0, 0, 1, 0, 0]), array([0, 1, 0, 0, 0, 0, 0]), array([0, 0, 0, 0, 1, 0, 0]), array([0, 0, 1, 0, 0, 0, 0]), array([0, 0, 0, 0, 1, 0, 0]), array([0, 0, 0, 0, 1, 0, 0]), array([0, 1, 0, 0, 0, 0, 0]), array([0, 0, 1, 0, 0, 0, 0]), array([0, 0, 0, 0, 1, 0, 0]), array([0, 0, 0, 0, 1, 0, 0]), array([0, 0, 0, 0, 1, 0, 0]), array([0, 0, 0, 0, 1, 0, 0]), array([0, 0, 0, 0, 1, 0, 0]), array([0, 0, 0, 0, 0, 0, 1]), array([0, 1, 0, 0, 0, 0, 0]), array([0, 0, 0, 0, 1, 0, 0]), array([0, 0, 0, 0, 1, 0, 0]), array([0, 0, 0, 0, 1, 0, 0]), array([0, 0, 0, 0, 1, 0, 0]), array([0, 0, 1, 0, 0, 0, 0]), array([1, 0, 0, 0, 0, 0, 0]), array([0, 0, 0, 0, 0, 1, 0]), array([0, 0, 0, 0, 1, 0, 0]), array([0, 0, 1, 0, 0, 0, 0]), array([0, 0, 0, 0, 1, 0, 0]), array([0, 0, 0, 0, 1, 0, 0]), array([0, 0, 0, 0, 1, 0, 0]), array([0, 0, 0, 0, 0, 0, 1]), array([0, 1, 0, 0, 0, 0, 0]), array([0, 0, 0, 0, 1, 0, 0]), array([0, 0, 0, 0, 1, 0, 0]), array([0, 0, 0, 0, 1, 0, 0]), array([0, 0, 1, 0, 0, 0, 0]), array([0, 0, 0, 0, 1, 0, 0]), array([0, 0, 0, 0, 1, 0, 0]), array([0, 0, 0, 0, 1, 0, 0]), array([0, 0, 0, 0, 0, 1, 0]), array([0, 0, 0, 0, 0, 0, 1]), array([0, 0, 0, 0, 1, 0, 0]), array([0, 0, 0, 0, 1, 0, 0]), array([0, 0, 0, 0, 1, 0, 0]), array([0, 0, 0, 0, 1, 0, 0]), array([0, 0, 0, 0, 1, 0, 0]), array([0, 0, 0, 0, 0, 0, 1]), array([0, 0, 0, 0, 1, 0, 0]), array([0, 0, 0, 0, 1, 0, 0]), array([0, 0, 0, 0, 1, 0, 0]), array([0, 0, 1, 0, 0, 0, 0]), array([0, 0, 0, 0, 1, 0, 0]), array([0, 0, 0, 0, 1, 0, 0]), array([0, 0, 0, 0, 1, 0, 0]), array([0, 0, 0, 0, 1, 0, 0]), array([0, 0, 1, 0, 0, 0, 0]), array([0, 0, 0, 0, 0, 0, 1]), array([0, 1, 0, 0, 0, 0, 0]), array([0, 0, 1, 0, 0, 0, 0]), array([0, 0, 0, 0, 1, 0, 0]), array([0, 0, 0, 0, 0, 0, 1]), array([0, 0, 0, 0, 1, 0, 0]), array([0, 0, 1, 0, 0, 0, 0]), array([0, 0, 0, 0, 1, 0, 0]), array([0, 0, 0, 0, 1, 0, 0]), array([0, 0, 0, 0, 1, 0, 0]), array([0, 0, 0, 0, 1, 0, 0]), array([0, 0, 0, 0, 1, 0, 0]), array([0, 0, 0, 0, 1, 0, 0]), array([0, 0, 0, 0, 0, 0, 1]), array([0, 0, 1, 0, 0, 0, 0]), array([0, 0, 0, 0, 1, 0, 0]), array([0, 0, 0, 0, 1, 0, 0]), array([1, 0, 0, 0, 0, 0, 0]), array([0, 0, 1, 0, 0, 0, 0]), array([0, 1, 0, 0, 0, 0, 0]), array([0, 0, 0, 0, 1, 0, 0]), array([0, 0, 0, 0, 0, 0, 1]), array([0, 0, 0, 0, 1, 0, 0]), array([0, 0, 0, 0, 1, 0, 0]), array([0, 0, 0, 0, 1, 0, 0]), array([0, 0, 0, 0, 1, 0, 0]), array([0, 0, 0, 0, 1, 0, 0]), array([0, 0, 0, 0, 1, 0, 0]), array([0, 1, 0, 0, 0, 0, 0]), array([0, 0, 0, 0, 1, 0, 0]), array([0, 0, 0, 0, 0, 1, 0]), array([0, 0, 0, 0, 1, 0, 0]), array([0, 0, 0, 0, 1, 0, 0]), array([0, 0, 1, 0, 0, 0, 0]), array([0, 0, 0, 0, 1, 0, 0]), array([0, 0, 0, 0, 0, 0, 1]), array([0, 0, 0, 0, 1, 0, 0]), array([0, 0, 0, 0, 1, 0, 0]), array([0, 0, 0, 0, 1, 0, 0]), array([0, 0, 0, 0, 1, 0, 0]), array([0, 0, 1, 0, 0, 0, 0]), array([0, 0, 0, 0, 0, 1, 0]), array([0, 0, 0, 0, 1, 0, 0]), array([0, 0, 0, 0, 1, 0, 0]), array([0, 0, 0, 0, 0, 0, 1]), array([0, 0, 0, 0, 1, 0, 0]), array([0, 0, 0, 0, 1, 0, 0]), array([0, 0, 0, 0, 1, 0, 0]), array([0, 0, 0, 0, 1, 0, 0]), array([0, 0, 1, 0, 0, 0, 0]), array([0, 0, 0, 0, 0, 0, 1]), array([0, 0, 0, 0, 1, 0, 0]), array([0, 0, 1, 0, 0, 0, 0]), array([0, 0, 0, 0, 1, 0, 0]), array([0, 0, 1, 0, 0, 0, 0]), array([0, 0, 0, 0, 1, 0, 0]), array([0, 0, 1, 0, 0, 0, 0]), array([0, 0, 0, 0, 1, 0, 0]), array([0, 0, 0, 0, 0, 0, 1]), array([0, 0, 0, 0, 0, 1, 0]), array([0, 0, 0, 0, 1, 0, 0]), array([0, 0, 0, 0, 1, 0, 0]), array([0, 0, 0, 0, 0, 0, 1]), array([0, 0, 0, 0, 1, 0, 0]), array([0, 0, 0, 0, 1, 0, 0]), array([0, 0, 1, 0, 0, 0, 0]), array([0, 0, 0, 0, 1, 0, 0]), array([0, 0, 1, 0, 0, 0, 0]), array([0, 0, 0, 0, 1, 0, 0]), array([0, 0, 0, 0, 1, 0, 0]), array([0, 0, 0, 0, 0, 0, 1]), array([0, 0, 1, 0, 0, 0, 0]), array([0, 0, 0, 0, 0, 0, 1]), array([0, 0, 0, 0, 1, 0, 0]), array([0, 0, 0, 0, 1, 0, 0]), array([0, 1, 0, 0, 0, 0, 0]), array([0, 0, 0, 0, 0, 0, 1]), array([0, 0, 0, 0, 1, 0, 0]), array([0, 0, 1, 0, 0, 0, 0]), array([0, 0, 0, 0, 1, 0, 0]), array([0, 0, 0, 0, 0, 0, 1]), array([0, 0, 1, 0, 0, 0, 0]), array([0, 0, 1, 0, 0, 0, 0]), array([0, 0, 0, 0, 1, 0, 0]), array([0, 0, 0, 0, 0, 0, 1]), array([0, 0, 0, 0, 1, 0, 0]), array([1, 0, 0, 0, 0, 0, 0]), array([0, 0, 0, 0, 1, 0, 0]), array([0, 0, 0, 0, 1, 0, 0]), array([0, 0, 0, 0, 1, 0, 0]), array([0, 0, 0, 0, 0, 0, 1]), array([0, 0, 0, 0, 1, 0, 0]), array([0, 0, 1, 0, 0, 0, 0]), array([0, 0, 0, 0, 0, 0, 1]), array([0, 0, 0, 0, 1, 0, 0]), array([0, 0, 1, 0, 0, 0, 0]), array([0, 0, 0, 0, 1, 0, 0]), array([0, 0, 0, 0, 1, 0, 0]), array([0, 0, 0, 0, 0, 0, 1]), array([0, 0, 1, 0, 0, 0, 0]), array([0, 0, 0, 0, 1, 0, 0]), array([0, 0, 0, 0, 1, 0, 0]), array([0, 0, 0, 0, 1, 0, 0]), array([0, 0, 0, 0, 1, 0, 0]), array([0, 0, 0, 0, 1, 0, 0]), array([0, 0, 0, 0, 1, 0, 0]), array([0, 0, 0, 0, 1, 0, 0]), array([0, 0, 0, 0, 1, 0, 0]), array([0, 0, 0, 0, 1, 0, 0]), array([0, 0, 0, 0, 1, 0, 0]), array([0, 0, 0, 0, 1, 0, 0]), array([1, 0, 0, 0, 0, 0, 0]), array([0, 1, 0, 0, 0, 0, 0]), array([0, 0, 1, 0, 0, 0, 0]), array([0, 0, 0, 0, 0, 0, 1]), array([0, 0, 0, 0, 1, 0, 0]), array([0, 1, 0, 0, 0, 0, 0]), array([0, 0, 0, 0, 1, 0, 0]), array([0, 0, 0, 0, 0, 0, 1]), array([0, 0, 0, 0, 1, 0, 0]), array([1, 0, 0, 0, 0, 0, 0]), array([0, 0, 1, 0, 0, 0, 0]), array([0, 0, 0, 0, 1, 0, 0]), array([0, 1, 0, 0, 0, 0, 0]), array([0, 0, 1, 0, 0, 0, 0]), array([0, 0, 1, 0, 0, 0, 0]), array([0, 0, 0, 0, 1, 0, 0]), array([0, 0, 0, 0, 1, 0, 0]), array([0, 0, 0, 0, 1, 0, 0]), array([0, 0, 0, 0, 1, 0, 0]), array([0, 0, 0, 0, 1, 0, 0]), array([0, 1, 0, 0, 0, 0, 0]), array([0, 1, 0, 0, 0, 0, 0]), array([0, 0, 0, 0, 0, 0, 1]), array([0, 0, 0, 0, 1, 0, 0]), array([0, 0, 0, 0, 0, 0, 1]), array([0, 0, 0, 0, 1, 0, 0]), array([1, 0, 0, 0, 0, 0, 0]), array([0, 0, 0, 0, 1, 0, 0]), array([1, 0, 0, 0, 0, 0, 0]), array([0, 0, 0, 0, 1, 0, 0]), array([0, 0, 0, 0, 1, 0, 0]), array([0, 0, 0, 0, 1, 0, 0]), array([0, 1, 0, 0, 0, 0, 0]), array([0, 0, 1, 0, 0, 0, 0]), array([0, 0, 0, 0, 1, 0, 0]), array([0, 0, 0, 0, 1, 0, 0]), array([0, 0, 0, 0, 0, 0, 1]), array([1, 0, 0, 0, 0, 0, 0]), array([0, 0, 0, 0, 1, 0, 0]), array([0, 0, 0, 0, 1, 0, 0]), array([0, 0, 0, 0, 1, 0, 0]), array([0, 0, 0, 0, 1, 0, 0]), array([0, 0, 0, 0, 1, 0, 0]), array([0, 0, 0, 0, 1, 0, 0]), array([0, 0, 0, 0, 1, 0, 0]), array([0, 0, 0, 0, 1, 0, 0]), array([0, 0, 0, 0, 1, 0, 0]), array([0, 0, 1, 0, 0, 0, 0]), array([0, 0, 0, 0, 1, 0, 0]), array([0, 0, 0, 0, 0, 0, 1]), array([0, 0, 0, 0, 1, 0, 0]), array([0, 0, 0, 1, 0, 0, 0]), array([0, 0, 0, 0, 1, 0, 0]), array([0, 0, 0, 0, 1, 0, 0]), array([0, 0, 0, 0, 1, 0, 0]), array([0, 0, 0, 0, 1, 0, 0]), array([0, 0, 0, 0, 1, 0, 0]), array([0, 0, 0, 0, 1, 0, 0]), array([0, 0, 1, 0, 0, 0, 0]), array([0, 0, 0, 0, 0, 0, 1]), array([0, 0, 1, 0, 0, 0, 0]), array([0, 0, 0, 0, 1, 0, 0]), array([0, 0, 0, 0, 1, 0, 0]), array([0, 0, 0, 0, 0, 0, 1]), array([0, 0, 0, 0, 1, 0, 0]), array([0, 0, 0, 0, 1, 0, 0]), array([0, 0, 1, 0, 0, 0, 0]), array([0, 0, 0, 0, 1, 0, 0]), array([0, 0, 0, 0, 1, 0, 0]), array([0, 0, 0, 0, 1, 0, 0]), array([0, 0, 0, 0, 0, 0, 1]), array([0, 0, 0, 0, 1, 0, 0]), array([0, 0, 0, 0, 1, 0, 0]), array([0, 0, 0, 0, 1, 0, 0]), array([0, 0, 0, 0, 1, 0, 0]), array([0, 0, 0, 0, 1, 0, 0]), array([0, 0, 0, 0, 1, 0, 0]), array([0, 0, 0, 0, 1, 0, 0]), array([0, 0, 0, 0, 0, 0, 1]), array([0, 0, 1, 0, 0, 0, 0]), array([0, 1, 0, 0, 0, 0, 0]), array([0, 0, 1, 0, 0, 0, 0]), array([0, 0, 0, 0, 0, 0, 1]), array([0, 0, 0, 0, 1, 0, 0]), array([0, 0, 0, 0, 0, 0, 1]), array([0, 0, 0, 0, 1, 0, 0]), array([0, 0, 0, 0, 1, 0, 0]), array([0, 0, 0, 0, 1, 0, 0]), array([0, 0, 0, 0, 1, 0, 0]), array([0, 0, 0, 0, 1, 0, 0]), array([0, 0, 1, 0, 0, 0, 0]), array([0, 0, 0, 0, 1, 0, 0]), array([0, 0, 0, 0, 0, 0, 1]), array([0, 0, 0, 0, 1, 0, 0]), array([0, 0, 0, 0, 0, 0, 1]), array([0, 0, 0, 0, 0, 0, 1]), array([0, 0, 0, 0, 0, 0, 1]), array([0, 0, 0, 0, 1, 0, 0]), array([0, 0, 0, 0, 1, 0, 0]), array([0, 0, 0, 0, 1, 0, 0]), array([0, 0, 1, 0, 0, 0, 0]), array([0, 0, 0, 0, 1, 0, 0]), array([0, 0, 0, 0, 1, 0, 0]), array([0, 0, 1, 0, 0, 0, 0]), array([0, 0, 0, 0, 1, 0, 0]), array([0, 0, 0, 0, 1, 0, 0]), array([0, 1, 0, 0, 0, 0, 0]), array([0, 0, 0, 0, 1, 0, 0]), array([0, 0, 0, 0, 0, 0, 1]), array([0, 0, 0, 0, 1, 0, 0]), array([0, 0, 0, 0, 1, 0, 0]), array([0, 1, 0, 0, 0, 0, 0]), array([0, 1, 0, 0, 0, 0, 0]), array([0, 0, 0, 0, 0, 0, 1]), array([0, 0, 0, 0, 0, 0, 1]), array([0, 0, 0, 0, 1, 0, 0]), array([0, 0, 0, 0, 1, 0, 0]), array([0, 0, 0, 0, 1, 0, 0]), array([0, 0, 1, 0, 0, 0, 0]), array([0, 0, 0, 0, 1, 0, 0]), array([0, 0, 1, 0, 0, 0, 0]), array([0, 0, 0, 0, 1, 0, 0]), array([0, 0, 0, 0, 1, 0, 0]), array([0, 0, 0, 0, 1, 0, 0]), array([0, 0, 0, 0, 1, 0, 0]), array([0, 0, 0, 0, 1, 0, 0]), array([0, 0, 0, 0, 1, 0, 0]), array([1, 0, 0, 0, 0, 0, 0]), array([0, 0, 0, 0, 1, 0, 0]), array([0, 0, 0, 0, 1, 0, 0]), array([0, 0, 0, 0, 1, 0, 0]), array([0, 0, 0, 0, 1, 0, 0]), array([0, 0, 0, 0, 1, 0, 0]), array([0, 0, 1, 0, 0, 0, 0]), array([0, 0, 0, 0, 1, 0, 0]), array([0, 0, 0, 0, 1, 0, 0]), array([0, 0, 0, 0, 0, 0, 1]), array([0, 0, 0, 0, 1, 0, 0]), array([0, 1, 0, 0, 0, 0, 0]), array([0, 0, 0, 0, 1, 0, 0]), array([0, 0, 0, 0, 0, 0, 1]), array([0, 0, 1, 0, 0, 0, 0]), array([0, 0, 1, 0, 0, 0, 0]), array([0, 0, 0, 0, 1, 0, 0]), array([0, 0, 0, 0, 1, 0, 0]), array([0, 0, 0, 0, 1, 0, 0]), array([0, 0, 0, 0, 1, 0, 0]), array([0, 0, 0, 0, 1, 0, 0]), array([1, 0, 0, 0, 0, 0, 0]), array([0, 0, 0, 0, 1, 0, 0]), array([0, 0, 0, 0, 1, 0, 0]), array([0, 0, 0, 0, 1, 0, 0]), array([0, 0, 0, 0, 0, 0, 1]), array([0, 0, 0, 0, 1, 0, 0]), array([0, 0, 0, 0, 1, 0, 0]), array([0, 0, 0, 0, 0, 0, 1]), array([0, 0, 0, 0, 1, 0, 0]), array([0, 0, 0, 0, 1, 0, 0]), array([0, 0, 0, 0, 1, 0, 0]), array([0, 0, 0, 0, 0, 1, 0]), array([0, 0, 1, 0, 0, 0, 0]), array([0, 0, 0, 0, 1, 0, 0]), array([0, 0, 0, 0, 1, 0, 0]), array([0, 0, 0, 0, 1, 0, 0]), array([0, 0, 0, 0, 1, 0, 0]), array([0, 0, 1, 0, 0, 0, 0]), array([0, 0, 0, 0, 1, 0, 0]), array([0, 0, 0, 0, 1, 0, 0]), array([0, 0, 0, 0, 1, 0, 0]), array([0, 0, 0, 0, 1, 0, 0]), array([0, 0, 0, 0, 1, 0, 0]), array([0, 0, 0, 0, 1, 0, 0]), array([0, 0, 0, 0, 1, 0, 0]), array([0, 1, 0, 0, 0, 0, 0]), array([0, 0, 0, 0, 1, 0, 0]), array([0, 0, 1, 0, 0, 0, 0]), array([0, 0, 0, 0, 1, 0, 0]), array([0, 0, 0, 0, 1, 0, 0]), array([0, 0, 0, 0, 1, 0, 0]), array([0, 0, 0, 0, 1, 0, 0]), array([1, 0, 0, 0, 0, 0, 0]), array([0, 0, 1, 0, 0, 0, 0]), array([0, 0, 0, 0, 1, 0, 0]), array([0, 0, 0, 0, 1, 0, 0]), array([0, 1, 0, 0, 0, 0, 0]), array([0, 0, 0, 0, 0, 0, 1]), array([0, 0, 0, 0, 1, 0, 0]), array([0, 0, 0, 0, 1, 0, 0]), array([1, 0, 0, 0, 0, 0, 0]), array([0, 0, 0, 0, 1, 0, 0]), array([0, 0, 0, 0, 0, 1, 0]), array([0, 0, 1, 0, 0, 0, 0]), array([0, 0, 0, 0, 1, 0, 0]), array([1, 0, 0, 0, 0, 0, 0]), array([0, 0, 0, 0, 0, 0, 1]), array([0, 0, 0, 0, 1, 0, 0]), array([0, 0, 1, 0, 0, 0, 0]), array([0, 0, 0, 0, 1, 0, 0]), array([0, 0, 0, 0, 1, 0, 0]), array([0, 0, 0, 0, 0, 0, 1]), array([0, 0, 0, 0, 1, 0, 0]), array([0, 0, 0, 1, 0, 0, 0]), array([0, 0, 0, 0, 1, 0, 0]), array([0, 0, 0, 0, 0, 0, 1]), array([0, 0, 1, 0, 0, 0, 0]), array([0, 0, 1, 0, 0, 0, 0]), array([0, 0, 0, 0, 1, 0, 0]), array([1, 0, 0, 0, 0, 0, 0]), array([0, 0, 0, 0, 1, 0, 0]), array([0, 0, 0, 1, 0, 0, 0]), array([0, 0, 0, 0, 0, 0, 1]), array([1, 0, 0, 0, 0, 0, 0]), array([0, 0, 0, 0, 1, 0, 0]), array([0, 0, 0, 0, 1, 0, 0]), array([0, 0, 0, 0, 1, 0, 0]), array([0, 0, 0, 0, 1, 0, 0]), array([0, 0, 0, 0, 1, 0, 0]), array([0, 0, 0, 0, 1, 0, 0]), array([0, 1, 0, 0, 0, 0, 0]), array([0, 0, 0, 0, 1, 0, 0]), array([0, 0, 0, 0, 1, 0, 0]), array([0, 0, 0, 0, 1, 0, 0]), array([0, 0, 0, 0, 1, 0, 0]), array([0, 0, 0, 0, 0, 0, 1]), array([0, 0, 0, 0, 1, 0, 0]), array([0, 0, 0, 0, 1, 0, 0]), array([0, 0, 1, 0, 0, 0, 0]), array([0, 0, 0, 0, 0, 1, 0]), array([0, 0, 0, 0, 1, 0, 0]), array([0, 0, 0, 0, 1, 0, 0]), array([1, 0, 0, 0, 0, 0, 0]), array([0, 0, 0, 0, 1, 0, 0]), array([0, 0, 0, 0, 1, 0, 0]), array([0, 0, 0, 0, 1, 0, 0]), array([0, 0, 0, 0, 1, 0, 0]), array([0, 0, 1, 0, 0, 0, 0]), array([0, 0, 0, 0, 1, 0, 0]), array([0, 0, 1, 0, 0, 0, 0]), array([0, 0, 0, 0, 0, 0, 1]), array([0, 0, 0, 0, 1, 0, 0]), array([0, 0, 0, 0, 0, 0, 1]), array([0, 0, 0, 0, 1, 0, 0]), array([0, 1, 0, 0, 0, 0, 0]), array([0, 0, 0, 0, 0, 0, 1]), array([0, 0, 0, 0, 1, 0, 0]), array([0, 0, 1, 0, 0, 0, 0]), array([0, 0, 0, 0, 1, 0, 0]), array([0, 0, 0, 0, 1, 0, 0]), array([0, 0, 1, 0, 0, 0, 0]), array([0, 0, 0, 0, 0, 0, 1]), array([1, 0, 0, 0, 0, 0, 0]), array([0, 0, 1, 0, 0, 0, 0]), array([0, 0, 0, 0, 1, 0, 0]), array([0, 0, 0, 0, 1, 0, 0]), array([0, 0, 0, 0, 1, 0, 0]), array([0, 0, 0, 0, 1, 0, 0]), array([0, 0, 0, 0, 0, 0, 1]), array([0, 0, 0, 0, 1, 0, 0]), array([0, 0, 0, 0, 0, 1, 0]), array([0, 0, 0, 0, 0, 0, 1]), array([0, 0, 0, 0, 1, 0, 0]), array([0, 0, 0, 0, 1, 0, 0]), array([0, 0, 0, 0, 1, 0, 0]), array([0, 0, 0, 0, 1, 0, 0]), array([0, 0, 0, 0, 1, 0, 0]), array([0, 0, 0, 0, 1, 0, 0]), array([0, 0, 1, 0, 0, 0, 0]), array([0, 0, 0, 0, 1, 0, 0]), array([0, 0, 1, 0, 0, 0, 0]), array([0, 0, 0, 0, 1, 0, 0]), array([0, 0, 0, 0, 1, 0, 0]), array([0, 0, 0, 0, 1, 0, 0]), array([0, 0, 0, 0, 1, 0, 0]), array([0, 0, 0, 0, 1, 0, 0]), array([0, 0, 0, 0, 1, 0, 0]), array([0, 0, 0, 0, 0, 0, 1]), array([0, 0, 0, 0, 0, 0, 1]), array([0, 0, 1, 0, 0, 0, 0]), array([0, 0, 0, 0, 1, 0, 0]), array([0, 0, 1, 0, 0, 0, 0]), array([0, 0, 0, 0, 1, 0, 0]), array([0, 0, 0, 0, 1, 0, 0]), array([0, 0, 0, 0, 1, 0, 0]), array([0, 0, 0, 0, 1, 0, 0]), array([0, 0, 1, 0, 0, 0, 0]), array([0, 0, 0, 0, 1, 0, 0]), array([0, 0, 0, 0, 0, 0, 1]), array([0, 0, 0, 0, 1, 0, 0]), array([0, 0, 0, 0, 1, 0, 0]), array([0, 0, 0, 0, 1, 0, 0]), array([0, 0, 0, 0, 1, 0, 0]), array([0, 0, 0, 0, 1, 0, 0]), array([0, 0, 0, 0, 1, 0, 0]), array([0, 0, 0, 0, 0, 0, 1]), array([1, 0, 0, 0, 0, 0, 0]), array([0, 0, 0, 0, 0, 0, 1]), array([0, 0, 0, 0, 1, 0, 0]), array([0, 0, 0, 0, 1, 0, 0]), array([0, 0, 0, 0, 0, 0, 1]), array([1, 0, 0, 0, 0, 0, 0]), array([0, 0, 0, 0, 1, 0, 0]), array([0, 0, 0, 0, 1, 0, 0]), array([0, 0, 0, 0, 1, 0, 0]), array([0, 0, 0, 0, 1, 0, 0]), array([0, 0, 0, 0, 1, 0, 0]), array([0, 0, 0, 0, 1, 0, 0]), array([1, 0, 0, 0, 0, 0, 0]), array([0, 0, 0, 0, 1, 0, 0]), array([0, 1, 0, 0, 0, 0, 0]), array([0, 0, 0, 0, 1, 0, 0]), array([0, 0, 0, 0, 0, 0, 1]), array([0, 0, 0, 0, 1, 0, 0]), array([0, 0, 0, 0, 1, 0, 0]), array([0, 0, 0, 0, 1, 0, 0]), array([0, 0, 0, 0, 1, 0, 0]), array([0, 0, 0, 0, 1, 0, 0]), array([0, 0, 0, 0, 0, 0, 1]), array([0, 0, 0, 0, 1, 0, 0]), array([0, 0, 0, 0, 1, 0, 0]), array([0, 0, 0, 0, 1, 0, 0]), array([0, 0, 0, 0, 1, 0, 0]), array([0, 0, 0, 0, 0, 0, 1]), array([0, 0, 0, 0, 1, 0, 0]), array([0, 1, 0, 0, 0, 0, 0]), array([0, 0, 0, 0, 0, 0, 1]), array([0, 0, 0, 0, 1, 0, 0]), array([0, 0, 1, 0, 0, 0, 0]), array([0, 0, 0, 0, 1, 0, 0]), array([0, 0, 1, 0, 0, 0, 0]), array([0, 0, 0, 0, 1, 0, 0]), array([0, 0, 0, 0, 1, 0, 0]), array([0, 0, 0, 0, 1, 0, 0]), array([0, 0, 0, 0, 1, 0, 0]), array([0, 0, 0, 0, 1, 0, 0]), array([0, 0, 0, 0, 0, 0, 1]), array([0, 0, 0, 0, 1, 0, 0]), array([0, 0, 0, 0, 1, 0, 0]), array([0, 0, 0, 0, 0, 0, 1]), array([0, 0, 0, 0, 0, 0, 1]), array([0, 0, 0, 0, 1, 0, 0]), array([0, 0, 1, 0, 0, 0, 0]), array([0, 0, 0, 0, 1, 0, 0]), array([0, 0, 0, 0, 1, 0, 0]), array([0, 0, 0, 0, 1, 0, 0]), array([0, 0, 0, 0, 1, 0, 0]), array([0, 0, 0, 0, 1, 0, 0]), array([0, 0, 0, 0, 1, 0, 0]), array([0, 1, 0, 0, 0, 0, 0]), array([0, 0, 0, 0, 1, 0, 0]), array([0, 0, 0, 0, 0, 0, 1]), array([0, 0, 0, 0, 1, 0, 0]), array([0, 0, 1, 0, 0, 0, 0]), array([0, 0, 1, 0, 0, 0, 0]), array([0, 0, 0, 0, 1, 0, 0]), array([0, 0, 0, 0, 1, 0, 0]), array([0, 1, 0, 0, 0, 0, 0]), array([0, 1, 0, 0, 0, 0, 0]), array([0, 0, 0, 0, 1, 0, 0]), array([0, 0, 0, 0, 1, 0, 0]), array([0, 0, 0, 0, 1, 0, 0]), array([0, 0, 0, 0, 1, 0, 0]), array([0, 0, 0, 0, 1, 0, 0]), array([0, 0, 1, 0, 0, 0, 0]), array([0, 0, 0, 0, 1, 0, 0]), array([0, 0, 0, 0, 1, 0, 0]), array([0, 0, 1, 0, 0, 0, 0]), array([0, 0, 0, 0, 1, 0, 0]), array([0, 0, 0, 0, 1, 0, 0]), array([0, 0, 0, 0, 1, 0, 0]), array([0, 0, 0, 0, 0, 1, 0]), array([0, 0, 1, 0, 0, 0, 0]), array([0, 0, 0, 0, 1, 0, 0]), array([0, 1, 0, 0, 0, 0, 0]), array([0, 0, 0, 0, 1, 0, 0]), array([0, 0, 0, 0, 1, 0, 0]), array([0, 0, 0, 0, 1, 0, 0]), array([0, 0, 0, 0, 1, 0, 0]), array([0, 0, 0, 0, 1, 0, 0]), array([0, 0, 0, 0, 1, 0, 0]), array([0, 0, 0, 0, 1, 0, 0]), array([0, 0, 0, 0, 1, 0, 0]), array([0, 1, 0, 0, 0, 0, 0]), array([0, 0, 1, 0, 0, 0, 0]), array([0, 0, 0, 0, 1, 0, 0]), array([0, 0, 0, 0, 1, 0, 0]), array([0, 0, 0, 0, 1, 0, 0]), array([0, 0, 0, 0, 1, 0, 0]), array([0, 0, 0, 0, 1, 0, 0]), array([0, 0, 0, 0, 0, 0, 1]), array([0, 0, 0, 0, 1, 0, 0]), array([0, 0, 1, 0, 0, 0, 0]), array([0, 0, 0, 0, 1, 0, 0]), array([0, 0, 0, 0, 1, 0, 0]), array([0, 0, 0, 0, 1, 0, 0]), array([0, 0, 1, 0, 0, 0, 0]), array([0, 0, 0, 0, 1, 0, 0]), array([0, 0, 0, 0, 0, 0, 1]), array([0, 0, 0, 0, 1, 0, 0]), array([0, 0, 0, 0, 1, 0, 0]), array([0, 0, 0, 0, 1, 0, 0]), array([0, 0, 0, 0, 1, 0, 0]), array([0, 0, 0, 0, 1, 0, 0]), array([0, 1, 0, 0, 0, 0, 0]), array([0, 0, 0, 0, 1, 0, 0]), array([0, 0, 1, 0, 0, 0, 0]), array([0, 1, 0, 0, 0, 0, 0]), array([0, 0, 0, 0, 1, 0, 0]), array([0, 1, 0, 0, 0, 0, 0]), array([0, 0, 0, 0, 1, 0, 0]), array([0, 0, 0, 0, 1, 0, 0]), array([0, 0, 0, 0, 1, 0, 0]), array([0, 0, 0, 0, 1, 0, 0]), array([0, 0, 1, 0, 0, 0, 0]), array([1, 0, 0, 0, 0, 0, 0]), array([0, 0, 0, 0, 1, 0, 0]), array([0, 0, 0, 0, 1, 0, 0]), array([0, 0, 0, 0, 1, 0, 0]), array([0, 1, 0, 0, 0, 0, 0]), array([0, 0, 0, 0, 1, 0, 0]), array([0, 0, 0, 0, 1, 0, 0]), array([0, 0, 0, 0, 1, 0, 0]), array([0, 0, 0, 0, 1, 0, 0]), array([0, 0, 0, 0, 1, 0, 0]), array([0, 0, 0, 0, 1, 0, 0]), array([0, 0, 0, 0, 1, 0, 0]), array([0, 0, 0, 0, 1, 0, 0]), array([0, 0, 0, 0, 1, 0, 0]), array([0, 0, 1, 0, 0, 0, 0]), array([0, 0, 0, 0, 0, 0, 1]), array([0, 0, 0, 0, 1, 0, 0]), array([0, 0, 0, 0, 1, 0, 0]), array([0, 0, 0, 0, 1, 0, 0]), array([0, 0, 0, 0, 1, 0, 0]), array([0, 0, 1, 0, 0, 0, 0]), array([0, 0, 0, 0, 0, 0, 1]), array([0, 0, 0, 0, 1, 0, 0]), array([0, 0, 0, 0, 0, 0, 1]), array([0, 0, 0, 0, 1, 0, 0]), array([0, 0, 0, 0, 1, 0, 0]), array([0, 0, 0, 0, 0, 0, 1]), array([0, 0, 0, 0, 1, 0, 0]), array([0, 0, 0, 0, 1, 0, 0]), array([0, 0, 0, 0, 1, 0, 0]), array([0, 0, 0, 0, 1, 0, 0]), array([0, 0, 1, 0, 0, 0, 0]), array([0, 0, 0, 0, 1, 0, 0]), array([0, 0, 1, 0, 0, 0, 0]), array([0, 0, 0, 0, 1, 0, 0]), array([0, 0, 0, 0, 0, 1, 0]), array([0, 0, 0, 0, 1, 0, 0]), array([0, 0, 1, 0, 0, 0, 0]), array([1, 0, 0, 0, 0, 0, 0]), array([0, 0, 0, 0, 1, 0, 0]), array([0, 0, 0, 0, 1, 0, 0]), array([0, 0, 1, 0, 0, 0, 0]), array([0, 0, 0, 0, 1, 0, 0]), array([0, 0, 0, 0, 1, 0, 0]), array([0, 0, 0, 0, 1, 0, 0]), array([0, 0, 0, 0, 1, 0, 0]), array([0, 0, 0, 0, 1, 0, 0]), array([0, 0, 0, 0, 1, 0, 0]), array([0, 0, 0, 0, 1, 0, 0]), array([0, 1, 0, 0, 0, 0, 0]), array([0, 0, 1, 0, 0, 0, 0]), array([0, 0, 0, 0, 1, 0, 0]), array([0, 0, 0, 0, 1, 0, 0]), array([0, 1, 0, 0, 0, 0, 0]), array([0, 0, 0, 0, 1, 0, 0]), array([0, 0, 1, 0, 0, 0, 0]), array([0, 0, 0, 0, 1, 0, 0]), array([0, 0, 0, 0, 1, 0, 0]), array([0, 0, 0, 0, 0, 0, 1]), array([0, 0, 0, 0, 1, 0, 0]), array([0, 0, 0, 0, 0, 0, 1]), array([0, 0, 0, 0, 1, 0, 0]), array([0, 0, 0, 0, 1, 0, 0]), array([0, 1, 0, 0, 0, 0, 0]), array([0, 0, 0, 0, 1, 0, 0]), array([0, 0, 0, 0, 0, 0, 1]), array([0, 0, 0, 0, 0, 0, 1]), array([0, 0, 1, 0, 0, 0, 0]), array([0, 0, 0, 0, 1, 0, 0]), array([0, 0, 0, 0, 1, 0, 0]), array([0, 0, 0, 0, 0, 1, 0]), array([0, 0, 0, 0, 1, 0, 0]), array([0, 0, 0, 0, 1, 0, 0]), array([0, 0, 0, 0, 1, 0, 0]), array([1, 0, 0, 0, 0, 0, 0]), array([0, 0, 0, 0, 1, 0, 0]), array([0, 0, 0, 0, 1, 0, 0]), array([0, 0, 0, 0, 1, 0, 0]), array([0, 0, 0, 0, 1, 0, 0]), array([0, 0, 0, 0, 1, 0, 0])]\n"
          ]
        }
      ],
      "source": [
        "# getting all labels under all_labels variable\n",
        "all_labels = ()\n",
        "clients_1 = ['client_1','client_2','client_3','client_4','client_5','client_6','client_7','client_8','client_9','client_10']\n",
        "for client in range(len(clients_1)):\n",
        "    name = clients_1[client]\n",
        "    image,label = zip(*clients[name])\n",
        "    all_labels=all_labels+(label)\n",
        "print(list(all_labels))\n"
      ]
    },
    {
      "cell_type": "code",
      "execution_count": null,
      "metadata": {
        "colab": {
          "base_uri": "https://localhost:8080/"
        },
        "id": "Yb-JEtmO5Q19",
        "outputId": "97c7d274-4696-4bb1-a3b6-48b05ca6036d"
      },
      "outputs": [
        {
          "output_type": "execute_result",
          "data": {
            "text/plain": [
              "8010"
            ]
          },
          "metadata": {},
          "execution_count": 32
        }
      ],
      "source": [
        "len(all_labels)"
      ]
    },
    {
      "cell_type": "code",
      "execution_count": null,
      "metadata": {
        "colab": {
          "base_uri": "https://localhost:8080/"
        },
        "id": "VOYW64o95SKU",
        "outputId": "f167a993-00b7-4864-e164-33ee24d3036c"
      },
      "outputs": [
        {
          "output_type": "stream",
          "name": "stdout",
          "text": [
            "160\n"
          ]
        }
      ],
      "source": [
        "# finding the k\n",
        "p=20\n",
        "k= len(clients['client_1'])*p//100\n",
        "print(k)"
      ]
    },
    {
      "cell_type": "code",
      "execution_count": null,
      "metadata": {
        "colab": {
          "base_uri": "https://localhost:8080/"
        },
        "id": "0wtegKhv5TTx",
        "outputId": "339c10a4-17e6-4b03-e32f-c389d838b701"
      },
      "outputs": [
        {
          "output_type": "stream",
          "name": "stdout",
          "text": [
            "801\n"
          ]
        }
      ],
      "source": [
        "# unzipped the client_1 into images and labels\n",
        "len_of_one_client_dataset = len(client_1)\n",
        "print(len_of_one_client_dataset)"
      ]
    },
    {
      "cell_type": "code",
      "execution_count": null,
      "metadata": {
        "colab": {
          "base_uri": "https://localhost:8080/"
        },
        "id": "h0RvEy6F5Uk_",
        "outputId": "641b1b1b-1e4c-43ba-99cf-667caa821778"
      },
      "outputs": [
        {
          "output_type": "stream",
          "name": "stdout",
          "text": [
            "[513 360 798 369 485 726 443 554 677 591 252 653 617  64 778 320 512 207\n",
            " 781 744 391  86 447 128 286 345  63 594 408 526 609 308 505  85 295 427\n",
            " 120 263 348 121 561 581  60 750 351 344 257 232 482 473 624 681 610 629\n",
            " 396 137 578 189 722 213 388 586 509 313 389 315 557 528 407  73 106 424\n",
            " 641 690 633  30 536 730 452 790 523 647 613 709 785 202 377 762 531 519\n",
            " 476 789 707 281 362 191 384 379 447 270 511  15 292 105 512  49 282 362\n",
            " 725 304 334 773 469 731 715 228 301 548  82 359 708 519 331 521  48 447\n",
            " 693 212 394 604 149 622 777 590 333 500 752 288 641 137 409 380 777 199\n",
            " 108 452 163 647 727 591  18 759 106 129 373 426  31 326 206 134]\n"
          ]
        }
      ],
      "source": [
        "all_indexes = np.random.randint(0, 801, k)\n",
        "\n",
        "print(all_indexes)"
      ]
    },
    {
      "cell_type": "code",
      "execution_count": null,
      "metadata": {
        "id": "LyOtJGpSSEtk"
      },
      "outputs": [],
      "source": [
        "label_1 = list(label_1)\n",
        "\n",
        "# Replace the label at each index in all_indexes with a random label from all_labels\n",
        "for index in all_indexes:\n",
        "    label_1[index] = random.choice(all_labels)"
      ]
    },
    {
      "cell_type": "code",
      "execution_count": null,
      "metadata": {
        "colab": {
          "base_uri": "https://localhost:8080/"
        },
        "id": "cZI7697A5V3U",
        "outputId": "bec20d27-960b-496b-be65-fd2e7532910e"
      },
      "outputs": [
        {
          "output_type": "stream",
          "name": "stdout",
          "text": [
            "[array([0, 0, 0, 0, 1, 0, 0]), array([0, 0, 0, 0, 1, 0, 0]), array([0, 0, 0, 0, 1, 0, 0]), array([0, 0, 1, 0, 0, 0, 0]), array([0, 0, 0, 0, 1, 0, 0]), array([0, 0, 0, 0, 0, 0, 1]), array([0, 0, 0, 0, 1, 0, 0]), array([0, 0, 0, 0, 0, 1, 0]), array([0, 0, 1, 0, 0, 0, 0]), array([0, 0, 0, 0, 1, 0, 0]), array([0, 0, 0, 0, 1, 0, 0]), array([0, 0, 0, 0, 0, 1, 0]), array([0, 0, 0, 0, 0, 0, 1]), array([0, 0, 0, 0, 1, 0, 0]), array([0, 0, 0, 0, 1, 0, 0]), array([0, 0, 0, 0, 1, 0, 0]), array([0, 1, 0, 0, 0, 0, 0]), array([0, 0, 1, 0, 0, 0, 0]), array([0, 0, 1, 0, 0, 0, 0]), array([0, 0, 0, 0, 1, 0, 0]), array([0, 0, 0, 0, 0, 0, 1]), array([1, 0, 0, 0, 0, 0, 0]), array([0, 0, 0, 0, 1, 0, 0]), array([0, 0, 0, 0, 1, 0, 0]), array([0, 0, 0, 0, 1, 0, 0]), array([0, 1, 0, 0, 0, 0, 0]), array([0, 0, 0, 0, 1, 0, 0]), array([0, 0, 0, 0, 1, 0, 0]), array([0, 0, 0, 0, 0, 0, 1]), array([0, 0, 0, 0, 0, 0, 1]), array([0, 0, 0, 0, 1, 0, 0]), array([0, 1, 0, 0, 0, 0, 0]), array([0, 0, 0, 0, 1, 0, 0]), array([0, 0, 0, 0, 1, 0, 0]), array([0, 0, 0, 0, 1, 0, 0]), array([0, 1, 0, 0, 0, 0, 0]), array([0, 0, 0, 0, 1, 0, 0]), array([0, 0, 1, 0, 0, 0, 0]), array([0, 0, 0, 0, 1, 0, 0]), array([0, 0, 0, 0, 1, 0, 0]), array([0, 0, 1, 0, 0, 0, 0]), array([0, 0, 0, 0, 0, 0, 1]), array([0, 0, 0, 0, 1, 0, 0]), array([0, 0, 0, 0, 1, 0, 0]), array([0, 0, 0, 0, 0, 0, 1]), array([0, 0, 0, 0, 1, 0, 0]), array([0, 0, 0, 0, 1, 0, 0]), array([0, 0, 0, 0, 1, 0, 0]), array([0, 0, 0, 0, 1, 0, 0]), array([0, 0, 1, 0, 0, 0, 0]), array([0, 0, 0, 0, 1, 0, 0]), array([0, 1, 0, 0, 0, 0, 0]), array([0, 0, 0, 0, 1, 0, 0]), array([0, 0, 0, 0, 1, 0, 0]), array([0, 0, 0, 0, 1, 0, 0]), array([0, 0, 0, 0, 1, 0, 0]), array([0, 0, 0, 0, 0, 0, 1]), array([0, 0, 0, 0, 0, 0, 1]), array([0, 0, 0, 0, 1, 0, 0]), array([0, 0, 0, 0, 1, 0, 0]), array([0, 0, 0, 0, 1, 0, 0]), array([0, 0, 0, 0, 1, 0, 0]), array([0, 0, 0, 0, 1, 0, 0]), array([0, 0, 1, 0, 0, 0, 0]), array([0, 0, 0, 0, 1, 0, 0]), array([0, 1, 0, 0, 0, 0, 0]), array([1, 0, 0, 0, 0, 0, 0]), array([0, 0, 0, 1, 0, 0, 0]), array([0, 0, 0, 0, 1, 0, 0]), array([0, 1, 0, 0, 0, 0, 0]), array([0, 0, 0, 0, 1, 0, 0]), array([0, 0, 0, 0, 1, 0, 0]), array([0, 0, 1, 0, 0, 0, 0]), array([0, 0, 0, 0, 1, 0, 0]), array([0, 0, 0, 0, 1, 0, 0]), array([0, 0, 0, 0, 1, 0, 0]), array([0, 0, 0, 0, 1, 0, 0]), array([0, 0, 1, 0, 0, 0, 0]), array([0, 1, 0, 0, 0, 0, 0]), array([0, 0, 0, 0, 1, 0, 0]), array([0, 0, 0, 0, 1, 0, 0]), array([0, 0, 0, 1, 0, 0, 0]), array([0, 0, 0, 0, 1, 0, 0]), array([0, 0, 1, 0, 0, 0, 0]), array([0, 0, 1, 0, 0, 0, 0]), array([0, 0, 0, 0, 1, 0, 0]), array([1, 0, 0, 0, 0, 0, 0]), array([0, 1, 0, 0, 0, 0, 0]), array([0, 0, 0, 0, 1, 0, 0]), array([0, 0, 0, 0, 1, 0, 0]), array([0, 1, 0, 0, 0, 0, 0]), array([0, 0, 0, 0, 1, 0, 0]), array([0, 0, 0, 0, 1, 0, 0]), array([0, 0, 0, 0, 0, 0, 1]), array([0, 0, 0, 0, 1, 0, 0]), array([0, 0, 0, 0, 1, 0, 0]), array([0, 0, 1, 0, 0, 0, 0]), array([0, 0, 1, 0, 0, 0, 0]), array([0, 0, 0, 0, 1, 0, 0]), array([0, 0, 0, 0, 1, 0, 0]), array([0, 0, 0, 0, 0, 0, 1]), array([0, 0, 0, 0, 1, 0, 0]), array([0, 0, 0, 0, 1, 0, 0]), array([0, 0, 1, 0, 0, 0, 0]), array([0, 0, 0, 0, 1, 0, 0]), array([0, 0, 0, 0, 1, 0, 0]), array([0, 0, 0, 0, 1, 0, 0]), array([0, 0, 0, 0, 1, 0, 0]), array([0, 0, 0, 0, 1, 0, 0]), array([0, 0, 0, 0, 1, 0, 0]), array([0, 0, 1, 0, 0, 0, 0]), array([0, 0, 0, 0, 1, 0, 0]), array([0, 0, 0, 0, 1, 0, 0]), array([0, 0, 0, 0, 0, 0, 1]), array([0, 0, 0, 0, 1, 0, 0]), array([0, 0, 0, 0, 1, 0, 0]), array([0, 0, 0, 0, 1, 0, 0]), array([0, 0, 0, 0, 1, 0, 0]), array([0, 0, 0, 0, 0, 0, 1]), array([0, 0, 0, 0, 0, 0, 1]), array([0, 0, 0, 0, 1, 0, 0]), array([0, 0, 0, 0, 1, 0, 0]), array([0, 0, 0, 0, 1, 0, 0]), array([0, 0, 0, 0, 0, 0, 1]), array([0, 0, 0, 0, 1, 0, 0]), array([0, 0, 0, 0, 1, 0, 0]), array([0, 0, 0, 0, 1, 0, 0]), array([1, 0, 0, 0, 0, 0, 0]), array([0, 0, 0, 1, 0, 0, 0]), array([0, 0, 0, 0, 1, 0, 0]), array([0, 0, 0, 0, 1, 0, 0]), array([0, 0, 1, 0, 0, 0, 0]), array([0, 0, 0, 0, 0, 0, 1]), array([0, 1, 0, 0, 0, 0, 0]), array([0, 0, 0, 0, 1, 0, 0]), array([0, 0, 0, 0, 1, 0, 0]), array([0, 1, 0, 0, 0, 0, 0]), array([0, 0, 0, 0, 1, 0, 0]), array([0, 0, 1, 0, 0, 0, 0]), array([0, 0, 0, 0, 1, 0, 0]), array([0, 0, 0, 0, 1, 0, 0]), array([0, 0, 0, 0, 1, 0, 0]), array([0, 0, 1, 0, 0, 0, 0]), array([0, 0, 0, 0, 1, 0, 0]), array([0, 0, 0, 0, 1, 0, 0]), array([0, 0, 0, 0, 1, 0, 0]), array([0, 0, 0, 0, 1, 0, 0]), array([0, 1, 0, 0, 0, 0, 0]), array([0, 0, 0, 0, 1, 0, 0]), array([0, 0, 0, 0, 1, 0, 0]), array([0, 0, 0, 0, 1, 0, 0]), array([0, 0, 0, 0, 0, 0, 1]), array([0, 0, 0, 0, 1, 0, 0]), array([0, 0, 0, 0, 1, 0, 0]), array([0, 0, 1, 0, 0, 0, 0]), array([0, 0, 0, 0, 1, 0, 0]), array([0, 0, 0, 0, 0, 0, 1]), array([1, 0, 0, 0, 0, 0, 0]), array([0, 0, 0, 0, 1, 0, 0]), array([0, 0, 0, 0, 1, 0, 0]), array([0, 0, 0, 0, 1, 0, 0]), array([0, 1, 0, 0, 0, 0, 0]), array([0, 0, 0, 0, 1, 0, 0]), array([0, 0, 0, 0, 0, 0, 1]), array([0, 0, 0, 0, 1, 0, 0]), array([0, 0, 0, 0, 1, 0, 0]), array([0, 0, 0, 0, 0, 1, 0]), array([0, 0, 0, 0, 1, 0, 0]), array([0, 0, 0, 0, 1, 0, 0]), array([0, 0, 0, 0, 0, 0, 1]), array([0, 0, 1, 0, 0, 0, 0]), array([0, 0, 0, 0, 1, 0, 0]), array([0, 0, 0, 0, 1, 0, 0]), array([0, 0, 0, 0, 1, 0, 0]), array([0, 0, 0, 0, 1, 0, 0]), array([0, 0, 0, 0, 0, 0, 1]), array([0, 0, 0, 0, 1, 0, 0]), array([0, 0, 0, 0, 1, 0, 0]), array([0, 0, 0, 0, 1, 0, 0]), array([0, 0, 0, 0, 1, 0, 0]), array([1, 0, 0, 0, 0, 0, 0]), array([0, 0, 0, 0, 1, 0, 0]), array([0, 0, 0, 0, 1, 0, 0]), array([0, 0, 0, 0, 1, 0, 0]), array([0, 1, 0, 0, 0, 0, 0]), array([0, 0, 0, 0, 1, 0, 0]), array([1, 0, 0, 0, 0, 0, 0]), array([0, 0, 0, 0, 1, 0, 0]), array([0, 0, 0, 0, 1, 0, 0]), array([0, 0, 1, 0, 0, 0, 0]), array([0, 0, 0, 0, 1, 0, 0]), array([0, 0, 0, 0, 1, 0, 0]), array([0, 0, 0, 0, 1, 0, 0]), array([0, 0, 0, 0, 0, 0, 1]), array([0, 0, 0, 0, 1, 0, 0]), array([0, 0, 1, 0, 0, 0, 0]), array([0, 0, 0, 0, 1, 0, 0]), array([0, 0, 0, 0, 1, 0, 0]), array([0, 0, 0, 0, 1, 0, 0]), array([0, 0, 0, 0, 1, 0, 0]), array([0, 0, 0, 0, 1, 0, 0]), array([0, 0, 0, 0, 1, 0, 0]), array([0, 0, 0, 0, 1, 0, 0]), array([0, 0, 1, 0, 0, 0, 0]), array([0, 0, 0, 0, 1, 0, 0]), array([0, 0, 0, 0, 1, 0, 0]), array([0, 0, 0, 0, 1, 0, 0]), array([0, 0, 0, 0, 1, 0, 0]), array([0, 1, 0, 0, 0, 0, 0]), array([0, 0, 0, 0, 1, 0, 0]), array([0, 0, 0, 1, 0, 0, 0]), array([0, 0, 0, 0, 1, 0, 0]), array([0, 0, 0, 0, 1, 0, 0]), array([0, 0, 0, 0, 1, 0, 0]), array([0, 0, 0, 0, 1, 0, 0]), array([0, 0, 0, 0, 1, 0, 0]), array([0, 0, 0, 0, 1, 0, 0]), array([0, 0, 0, 0, 1, 0, 0]), array([0, 0, 0, 0, 1, 0, 0]), array([0, 0, 0, 0, 1, 0, 0]), array([0, 1, 0, 0, 0, 0, 0]), array([0, 0, 1, 0, 0, 0, 0]), array([1, 0, 0, 0, 0, 0, 0]), array([0, 0, 0, 0, 1, 0, 0]), array([0, 0, 0, 0, 1, 0, 0]), array([0, 0, 0, 0, 0, 0, 1]), array([0, 0, 1, 0, 0, 0, 0]), array([0, 0, 0, 0, 1, 0, 0]), array([0, 0, 0, 0, 1, 0, 0]), array([0, 0, 0, 0, 1, 0, 0]), array([0, 0, 0, 0, 1, 0, 0]), array([0, 0, 0, 0, 1, 0, 0]), array([0, 0, 0, 0, 1, 0, 0]), array([0, 1, 0, 0, 0, 0, 0]), array([0, 0, 1, 0, 0, 0, 0]), array([0, 0, 0, 0, 1, 0, 0]), array([0, 0, 0, 0, 1, 0, 0]), array([0, 0, 0, 0, 1, 0, 0]), array([0, 0, 0, 0, 0, 0, 1]), array([0, 0, 0, 0, 1, 0, 0]), array([0, 0, 0, 0, 1, 0, 0]), array([0, 0, 0, 0, 1, 0, 0]), array([0, 0, 0, 1, 0, 0, 0]), array([0, 0, 0, 0, 1, 0, 0]), array([0, 0, 0, 0, 0, 1, 0]), array([0, 0, 0, 0, 1, 0, 0]), array([0, 0, 0, 0, 0, 1, 0]), array([0, 1, 0, 0, 0, 0, 0]), array([0, 0, 0, 0, 1, 0, 0]), array([0, 0, 0, 0, 1, 0, 0]), array([0, 0, 0, 0, 1, 0, 0]), array([0, 0, 0, 0, 1, 0, 0]), array([0, 0, 0, 0, 1, 0, 0]), array([1, 0, 0, 0, 0, 0, 0]), array([0, 0, 0, 0, 0, 0, 1]), array([0, 0, 0, 0, 1, 0, 0]), array([0, 0, 0, 0, 1, 0, 0]), array([0, 0, 0, 0, 1, 0, 0]), array([0, 0, 1, 0, 0, 0, 0]), array([0, 0, 0, 0, 1, 0, 0]), array([0, 0, 0, 0, 0, 1, 0]), array([0, 0, 0, 0, 1, 0, 0]), array([0, 0, 0, 0, 0, 1, 0]), array([0, 0, 0, 0, 0, 0, 1]), array([0, 0, 0, 0, 1, 0, 0]), array([0, 0, 0, 0, 1, 0, 0]), array([0, 0, 0, 0, 1, 0, 0]), array([0, 0, 0, 0, 0, 0, 1]), array([0, 0, 0, 0, 1, 0, 0]), array([0, 0, 0, 0, 1, 0, 0]), array([0, 0, 0, 0, 1, 0, 0]), array([0, 0, 0, 0, 1, 0, 0]), array([0, 0, 0, 0, 1, 0, 0]), array([0, 0, 0, 0, 0, 0, 1]), array([0, 0, 1, 0, 0, 0, 0]), array([0, 0, 0, 0, 0, 0, 1]), array([0, 0, 1, 0, 0, 0, 0]), array([0, 0, 1, 0, 0, 0, 0]), array([0, 0, 0, 0, 1, 0, 0]), array([0, 0, 0, 0, 1, 0, 0]), array([0, 0, 0, 0, 1, 0, 0]), array([0, 0, 0, 0, 0, 1, 0]), array([0, 0, 0, 0, 1, 0, 0]), array([0, 0, 0, 0, 1, 0, 0]), array([0, 0, 0, 0, 1, 0, 0]), array([0, 0, 0, 0, 1, 0, 0]), array([0, 0, 0, 0, 0, 0, 1]), array([0, 0, 0, 0, 1, 0, 0]), array([0, 0, 0, 0, 1, 0, 0]), array([0, 1, 0, 0, 0, 0, 0]), array([0, 0, 0, 0, 1, 0, 0]), array([0, 0, 0, 0, 1, 0, 0]), array([0, 0, 0, 0, 1, 0, 0]), array([0, 0, 0, 0, 1, 0, 0]), array([0, 0, 0, 0, 1, 0, 0]), array([0, 1, 0, 0, 0, 0, 0]), array([0, 0, 0, 0, 1, 0, 0]), array([0, 0, 1, 0, 0, 0, 0]), array([0, 0, 0, 0, 1, 0, 0]), array([0, 0, 0, 0, 1, 0, 0]), array([0, 0, 0, 0, 1, 0, 0]), array([0, 0, 0, 0, 1, 0, 0]), array([1, 0, 0, 0, 0, 0, 0]), array([0, 0, 0, 0, 1, 0, 0]), array([0, 0, 0, 0, 1, 0, 0]), array([1, 0, 0, 0, 0, 0, 0]), array([0, 0, 0, 0, 1, 0, 0]), array([0, 0, 0, 0, 0, 1, 0]), array([0, 0, 1, 0, 0, 0, 0]), array([0, 0, 0, 0, 1, 0, 0]), array([0, 0, 0, 0, 1, 0, 0]), array([0, 0, 0, 0, 1, 0, 0]), array([0, 0, 0, 0, 1, 0, 0]), array([0, 0, 1, 0, 0, 0, 0]), array([0, 0, 0, 0, 1, 0, 0]), array([0, 0, 1, 0, 0, 0, 0]), array([0, 0, 0, 0, 0, 1, 0]), array([0, 0, 0, 0, 1, 0, 0]), array([0, 0, 0, 0, 1, 0, 0]), array([0, 0, 0, 0, 1, 0, 0]), array([0, 0, 0, 0, 0, 0, 1]), array([0, 1, 0, 0, 0, 0, 0]), array([0, 0, 0, 0, 1, 0, 0]), array([0, 0, 0, 0, 1, 0, 0]), array([0, 0, 0, 0, 1, 0, 0]), array([0, 0, 0, 0, 0, 0, 1]), array([0, 0, 0, 0, 1, 0, 0]), array([0, 0, 0, 0, 1, 0, 0]), array([0, 0, 1, 0, 0, 0, 0]), array([0, 0, 0, 0, 1, 0, 0]), array([0, 0, 0, 0, 1, 0, 0]), array([0, 0, 0, 0, 1, 0, 0]), array([0, 0, 1, 0, 0, 0, 0]), array([0, 0, 0, 0, 1, 0, 0]), array([0, 0, 1, 0, 0, 0, 0]), array([0, 0, 0, 0, 1, 0, 0]), array([0, 0, 0, 0, 1, 0, 0]), array([1, 0, 0, 0, 0, 0, 0]), array([0, 0, 0, 0, 1, 0, 0]), array([0, 0, 0, 0, 1, 0, 0]), array([0, 0, 0, 0, 1, 0, 0]), array([0, 0, 1, 0, 0, 0, 0]), array([0, 0, 0, 0, 1, 0, 0]), array([0, 0, 0, 0, 1, 0, 0]), array([0, 0, 0, 0, 1, 0, 0]), array([0, 0, 0, 0, 1, 0, 0]), array([0, 0, 0, 0, 1, 0, 0]), array([0, 0, 0, 0, 1, 0, 0]), array([0, 0, 0, 0, 0, 0, 1]), array([0, 0, 0, 0, 0, 0, 1]), array([0, 0, 0, 0, 1, 0, 0]), array([0, 0, 0, 0, 0, 0, 1]), array([0, 0, 0, 0, 1, 0, 0]), array([0, 0, 0, 0, 1, 0, 0]), array([0, 0, 0, 0, 1, 0, 0]), array([0, 0, 0, 0, 1, 0, 0]), array([0, 0, 0, 0, 1, 0, 0]), array([0, 0, 0, 0, 1, 0, 0]), array([0, 0, 1, 0, 0, 0, 0]), array([0, 0, 0, 0, 0, 0, 1]), array([1, 0, 0, 0, 0, 0, 0]), array([0, 0, 0, 0, 1, 0, 0]), array([0, 0, 0, 0, 1, 0, 0]), array([0, 0, 0, 0, 1, 0, 0]), array([0, 1, 0, 0, 0, 0, 0]), array([0, 0, 0, 0, 1, 0, 0]), array([0, 0, 0, 0, 1, 0, 0]), array([0, 0, 0, 0, 0, 0, 1]), array([0, 0, 0, 0, 1, 0, 0]), array([0, 0, 1, 0, 0, 0, 0]), array([0, 0, 1, 0, 0, 0, 0]), array([0, 0, 0, 0, 1, 0, 0]), array([0, 0, 1, 0, 0, 0, 0]), array([0, 0, 0, 0, 1, 0, 0]), array([0, 0, 0, 0, 1, 0, 0]), array([0, 1, 0, 0, 0, 0, 0]), array([0, 0, 0, 0, 1, 0, 0]), array([0, 0, 1, 0, 0, 0, 0]), array([0, 0, 0, 0, 1, 0, 0]), array([0, 0, 0, 0, 1, 0, 0]), array([0, 0, 0, 0, 1, 0, 0]), array([0, 0, 0, 0, 0, 0, 1]), array([0, 0, 0, 0, 1, 0, 0]), array([0, 0, 0, 0, 1, 0, 0]), array([0, 0, 0, 0, 1, 0, 0]), array([0, 0, 0, 0, 0, 1, 0]), array([0, 0, 0, 0, 1, 0, 0]), array([0, 0, 0, 0, 0, 0, 1]), array([0, 0, 0, 0, 1, 0, 0]), array([0, 0, 0, 0, 1, 0, 0]), array([0, 0, 0, 0, 1, 0, 0]), array([0, 1, 0, 0, 0, 0, 0]), array([0, 0, 0, 0, 1, 0, 0]), array([1, 0, 0, 0, 0, 0, 0]), array([0, 0, 0, 0, 1, 0, 0]), array([0, 0, 0, 0, 1, 0, 0]), array([0, 0, 0, 0, 1, 0, 0]), array([0, 0, 0, 0, 1, 0, 0]), array([0, 0, 0, 0, 1, 0, 0]), array([0, 0, 1, 0, 0, 0, 0]), array([0, 0, 0, 0, 1, 0, 0]), array([0, 0, 0, 0, 1, 0, 0]), array([0, 0, 0, 0, 1, 0, 0]), array([0, 0, 0, 0, 1, 0, 0]), array([0, 0, 0, 0, 0, 0, 1]), array([0, 0, 0, 0, 1, 0, 0]), array([0, 0, 0, 0, 1, 0, 0]), array([1, 0, 0, 0, 0, 0, 0]), array([0, 0, 0, 0, 1, 0, 0]), array([0, 0, 0, 0, 1, 0, 0]), array([0, 0, 0, 0, 1, 0, 0]), array([0, 0, 0, 0, 0, 0, 1]), array([0, 0, 1, 0, 0, 0, 0]), array([0, 0, 0, 0, 1, 0, 0]), array([0, 0, 0, 0, 0, 0, 1]), array([0, 0, 0, 0, 1, 0, 0]), array([0, 0, 0, 0, 1, 0, 0]), array([0, 0, 0, 0, 1, 0, 0]), array([0, 0, 0, 0, 1, 0, 0]), array([0, 0, 0, 0, 0, 0, 1]), array([0, 0, 0, 0, 1, 0, 0]), array([0, 0, 0, 0, 1, 0, 0]), array([0, 0, 1, 0, 0, 0, 0]), array([0, 0, 0, 0, 1, 0, 0]), array([0, 0, 0, 0, 1, 0, 0]), array([0, 0, 0, 0, 1, 0, 0]), array([0, 0, 0, 0, 1, 0, 0]), array([0, 0, 0, 0, 1, 0, 0]), array([0, 0, 0, 0, 0, 1, 0]), array([0, 0, 0, 0, 0, 1, 0]), array([0, 0, 0, 0, 1, 0, 0]), array([0, 0, 0, 0, 1, 0, 0]), array([0, 0, 0, 0, 1, 0, 0]), array([0, 0, 0, 0, 1, 0, 0]), array([0, 0, 0, 0, 1, 0, 0]), array([0, 0, 0, 0, 1, 0, 0]), array([0, 0, 0, 0, 1, 0, 0]), array([0, 0, 0, 0, 1, 0, 0]), array([0, 0, 0, 0, 1, 0, 0]), array([0, 0, 0, 0, 1, 0, 0]), array([0, 0, 1, 0, 0, 0, 0]), array([0, 0, 0, 0, 1, 0, 0]), array([0, 0, 0, 0, 1, 0, 0]), array([0, 0, 0, 0, 1, 0, 0]), array([0, 0, 0, 0, 1, 0, 0]), array([0, 0, 0, 0, 1, 0, 0]), array([0, 0, 0, 0, 1, 0, 0]), array([0, 1, 0, 0, 0, 0, 0]), array([0, 0, 0, 0, 1, 0, 0]), array([0, 0, 0, 0, 1, 0, 0]), array([0, 0, 0, 0, 1, 0, 0]), array([0, 0, 0, 0, 0, 0, 1]), array([0, 0, 0, 0, 1, 0, 0]), array([0, 0, 0, 0, 1, 0, 0]), array([0, 0, 0, 0, 1, 0, 0]), array([0, 0, 0, 0, 0, 0, 1]), array([0, 1, 0, 0, 0, 0, 0]), array([0, 0, 0, 0, 1, 0, 0]), array([0, 0, 0, 0, 1, 0, 0]), array([0, 0, 0, 0, 1, 0, 0]), array([0, 0, 0, 0, 0, 0, 1]), array([0, 0, 0, 0, 1, 0, 0]), array([0, 0, 0, 0, 1, 0, 0]), array([0, 0, 0, 0, 1, 0, 0]), array([0, 1, 0, 0, 0, 0, 0]), array([0, 0, 0, 0, 1, 0, 0]), array([0, 0, 0, 0, 0, 0, 1]), array([0, 0, 0, 0, 1, 0, 0]), array([0, 0, 0, 0, 1, 0, 0]), array([0, 0, 0, 0, 1, 0, 0]), array([0, 0, 0, 0, 1, 0, 0]), array([0, 0, 0, 0, 1, 0, 0]), array([0, 0, 0, 0, 1, 0, 0]), array([0, 0, 0, 0, 1, 0, 0]), array([0, 0, 1, 0, 0, 0, 0]), array([0, 0, 1, 0, 0, 0, 0]), array([0, 0, 0, 0, 1, 0, 0]), array([0, 0, 0, 0, 1, 0, 0]), array([0, 0, 0, 0, 1, 0, 0]), array([0, 0, 0, 0, 1, 0, 0]), array([0, 0, 1, 0, 0, 0, 0]), array([0, 0, 0, 0, 0, 0, 1]), array([0, 0, 1, 0, 0, 0, 0]), array([0, 0, 0, 0, 1, 0, 0]), array([0, 0, 0, 0, 0, 0, 1]), array([0, 0, 0, 0, 1, 0, 0]), array([0, 0, 0, 0, 1, 0, 0]), array([0, 0, 0, 0, 1, 0, 0]), array([0, 0, 1, 0, 0, 0, 0]), array([0, 0, 0, 0, 1, 0, 0]), array([0, 0, 0, 0, 1, 0, 0]), array([0, 1, 0, 0, 0, 0, 0]), array([0, 0, 0, 0, 1, 0, 0]), array([0, 0, 0, 0, 1, 0, 0]), array([0, 0, 0, 0, 0, 0, 1]), array([0, 0, 0, 0, 1, 0, 0]), array([0, 0, 0, 0, 0, 0, 1]), array([0, 0, 0, 0, 0, 0, 1]), array([0, 0, 0, 0, 1, 0, 0]), array([0, 0, 0, 0, 1, 0, 0]), array([1, 0, 0, 0, 0, 0, 0]), array([0, 0, 0, 0, 0, 0, 1]), array([0, 0, 0, 0, 1, 0, 0]), array([0, 0, 0, 0, 0, 0, 1]), array([0, 0, 1, 0, 0, 0, 0]), array([0, 0, 0, 0, 1, 0, 0]), array([0, 0, 0, 0, 1, 0, 0]), array([0, 0, 0, 0, 1, 0, 0]), array([0, 0, 0, 0, 1, 0, 0]), array([0, 0, 0, 0, 1, 0, 0]), array([0, 0, 1, 0, 0, 0, 0]), array([0, 0, 1, 0, 0, 0, 0]), array([1, 0, 0, 0, 0, 0, 0]), array([0, 0, 0, 0, 1, 0, 0]), array([0, 0, 0, 0, 0, 0, 1]), array([0, 0, 0, 0, 1, 0, 0]), array([1, 0, 0, 0, 0, 0, 0]), array([0, 0, 0, 0, 1, 0, 0]), array([0, 0, 0, 0, 1, 0, 0]), array([0, 0, 0, 0, 1, 0, 0]), array([0, 0, 0, 0, 1, 0, 0]), array([0, 0, 0, 0, 0, 0, 1]), array([0, 0, 0, 0, 1, 0, 0]), array([0, 0, 0, 0, 0, 0, 1]), array([0, 0, 0, 0, 1, 0, 0]), array([0, 0, 0, 0, 0, 0, 1]), array([0, 0, 0, 0, 1, 0, 0]), array([0, 0, 0, 0, 1, 0, 0]), array([0, 0, 0, 0, 1, 0, 0]), array([0, 0, 0, 0, 1, 0, 0]), array([0, 0, 0, 0, 1, 0, 0]), array([0, 0, 0, 0, 1, 0, 0]), array([0, 1, 0, 0, 0, 0, 0]), array([0, 0, 0, 0, 1, 0, 0]), array([0, 0, 0, 0, 1, 0, 0]), array([1, 0, 0, 0, 0, 0, 0]), array([0, 0, 0, 0, 1, 0, 0]), array([0, 0, 0, 0, 1, 0, 0]), array([0, 0, 0, 0, 1, 0, 0]), array([0, 0, 0, 0, 1, 0, 0]), array([0, 0, 0, 0, 1, 0, 0]), array([0, 0, 1, 0, 0, 0, 0]), array([0, 0, 0, 0, 1, 0, 0]), array([0, 0, 0, 0, 1, 0, 0]), array([0, 0, 0, 0, 1, 0, 0]), array([0, 0, 0, 0, 1, 0, 0]), array([0, 0, 0, 0, 0, 1, 0]), array([0, 0, 0, 0, 1, 0, 0]), array([0, 0, 0, 0, 0, 0, 1]), array([0, 1, 0, 0, 0, 0, 0]), array([0, 0, 0, 0, 0, 0, 1]), array([0, 0, 0, 0, 1, 0, 0]), array([0, 0, 1, 0, 0, 0, 0]), array([0, 0, 0, 0, 1, 0, 0]), array([0, 0, 0, 0, 1, 0, 0]), array([0, 0, 1, 0, 0, 0, 0]), array([0, 0, 0, 0, 1, 0, 0]), array([0, 0, 0, 0, 1, 0, 0]), array([1, 0, 0, 0, 0, 0, 0]), array([0, 0, 0, 0, 1, 0, 0]), array([0, 0, 0, 0, 1, 0, 0]), array([0, 0, 0, 0, 0, 0, 1]), array([0, 0, 0, 0, 1, 0, 0]), array([0, 0, 0, 0, 1, 0, 0]), array([0, 0, 1, 0, 0, 0, 0]), array([0, 0, 1, 0, 0, 0, 0]), array([0, 0, 0, 0, 1, 0, 0]), array([0, 0, 0, 0, 1, 0, 0]), array([0, 0, 0, 0, 1, 0, 0]), array([0, 0, 1, 0, 0, 0, 0]), array([0, 1, 0, 0, 0, 0, 0]), array([0, 0, 0, 0, 1, 0, 0]), array([0, 0, 0, 0, 1, 0, 0]), array([0, 0, 0, 0, 1, 0, 0]), array([0, 0, 0, 0, 1, 0, 0]), array([0, 1, 0, 0, 0, 0, 0]), array([0, 0, 1, 0, 0, 0, 0]), array([0, 0, 1, 0, 0, 0, 0]), array([0, 0, 0, 0, 1, 0, 0]), array([0, 0, 1, 0, 0, 0, 0]), array([0, 0, 1, 0, 0, 0, 0]), array([0, 0, 1, 0, 0, 0, 0]), array([0, 0, 0, 0, 1, 0, 0]), array([0, 0, 0, 0, 1, 0, 0]), array([0, 0, 0, 0, 0, 0, 1]), array([0, 0, 0, 0, 1, 0, 0]), array([0, 0, 1, 0, 0, 0, 0]), array([0, 0, 0, 0, 1, 0, 0]), array([0, 1, 0, 0, 0, 0, 0]), array([0, 0, 0, 0, 0, 1, 0]), array([0, 0, 0, 0, 1, 0, 0]), array([0, 0, 0, 0, 1, 0, 0]), array([0, 0, 1, 0, 0, 0, 0]), array([0, 0, 0, 1, 0, 0, 0]), array([0, 0, 1, 0, 0, 0, 0]), array([0, 0, 1, 0, 0, 0, 0]), array([0, 0, 0, 0, 1, 0, 0]), array([0, 0, 0, 0, 0, 0, 1]), array([0, 0, 0, 0, 1, 0, 0]), array([0, 0, 0, 0, 1, 0, 0]), array([0, 0, 0, 0, 1, 0, 0]), array([0, 0, 0, 0, 1, 0, 0]), array([0, 0, 0, 0, 1, 0, 0]), array([0, 0, 0, 0, 1, 0, 0]), array([0, 0, 0, 0, 1, 0, 0]), array([0, 0, 1, 0, 0, 0, 0]), array([0, 0, 0, 0, 1, 0, 0]), array([0, 0, 0, 0, 1, 0, 0]), array([0, 0, 0, 0, 1, 0, 0]), array([0, 0, 0, 0, 1, 0, 0]), array([0, 0, 0, 0, 1, 0, 0]), array([0, 0, 0, 0, 1, 0, 0]), array([0, 0, 0, 0, 1, 0, 0]), array([0, 0, 0, 0, 0, 0, 1]), array([0, 0, 0, 0, 1, 0, 0]), array([0, 0, 0, 0, 1, 0, 0]), array([0, 0, 0, 0, 1, 0, 0]), array([0, 0, 0, 0, 1, 0, 0]), array([0, 0, 0, 0, 1, 0, 0]), array([0, 0, 0, 0, 1, 0, 0]), array([0, 0, 0, 0, 1, 0, 0]), array([0, 0, 0, 0, 1, 0, 0]), array([0, 0, 0, 0, 1, 0, 0]), array([0, 0, 0, 0, 1, 0, 0]), array([0, 0, 0, 0, 1, 0, 0]), array([0, 0, 0, 0, 1, 0, 0]), array([0, 0, 0, 0, 1, 0, 0]), array([0, 0, 0, 0, 0, 0, 1]), array([0, 0, 0, 0, 1, 0, 0]), array([0, 0, 0, 0, 0, 0, 1]), array([0, 0, 0, 0, 1, 0, 0]), array([0, 1, 0, 0, 0, 0, 0]), array([0, 0, 0, 0, 1, 0, 0]), array([0, 0, 0, 0, 0, 0, 1]), array([1, 0, 0, 0, 0, 0, 0]), array([0, 0, 1, 0, 0, 0, 0]), array([0, 1, 0, 0, 0, 0, 0]), array([0, 0, 0, 0, 1, 0, 0]), array([0, 0, 0, 0, 1, 0, 0]), array([0, 0, 0, 0, 1, 0, 0]), array([0, 0, 1, 0, 0, 0, 0]), array([0, 0, 0, 0, 1, 0, 0]), array([0, 0, 0, 0, 1, 0, 0]), array([0, 0, 1, 0, 0, 0, 0]), array([0, 0, 0, 0, 0, 0, 1]), array([1, 0, 0, 0, 0, 0, 0]), array([0, 0, 0, 0, 1, 0, 0]), array([0, 0, 0, 0, 1, 0, 0]), array([0, 0, 0, 0, 0, 0, 1]), array([0, 0, 0, 0, 1, 0, 0]), array([0, 0, 0, 0, 1, 0, 0]), array([0, 0, 0, 0, 1, 0, 0]), array([0, 0, 0, 0, 1, 0, 0]), array([0, 1, 0, 0, 0, 0, 0]), array([0, 0, 0, 0, 1, 0, 0]), array([0, 0, 0, 0, 1, 0, 0]), array([0, 0, 0, 0, 1, 0, 0]), array([0, 0, 0, 0, 0, 0, 1]), array([0, 0, 1, 0, 0, 0, 0]), array([0, 0, 0, 0, 1, 0, 0]), array([0, 0, 0, 0, 1, 0, 0]), array([0, 0, 0, 0, 1, 0, 0]), array([0, 0, 0, 0, 1, 0, 0]), array([0, 0, 0, 0, 0, 0, 1]), array([0, 0, 0, 0, 1, 0, 0]), array([1, 0, 0, 0, 0, 0, 0]), array([0, 0, 0, 0, 1, 0, 0]), array([0, 0, 0, 0, 1, 0, 0]), array([0, 0, 0, 0, 1, 0, 0]), array([0, 0, 1, 0, 0, 0, 0]), array([0, 0, 0, 0, 1, 0, 0]), array([0, 0, 0, 0, 1, 0, 0]), array([0, 0, 0, 0, 1, 0, 0]), array([0, 0, 0, 0, 1, 0, 0]), array([1, 0, 0, 0, 0, 0, 0]), array([0, 0, 0, 0, 1, 0, 0]), array([0, 0, 0, 0, 1, 0, 0]), array([0, 0, 1, 0, 0, 0, 0]), array([0, 0, 1, 0, 0, 0, 0]), array([0, 0, 0, 0, 1, 0, 0]), array([0, 0, 0, 0, 0, 0, 1]), array([0, 0, 0, 0, 1, 0, 0]), array([0, 0, 0, 0, 1, 0, 0]), array([0, 0, 0, 0, 1, 0, 0]), array([0, 0, 1, 0, 0, 0, 0]), array([0, 0, 0, 0, 1, 0, 0]), array([0, 0, 0, 0, 1, 0, 0]), array([0, 1, 0, 0, 0, 0, 0]), array([0, 0, 0, 0, 1, 0, 0]), array([0, 0, 0, 0, 1, 0, 0]), array([0, 0, 1, 0, 0, 0, 0]), array([0, 0, 0, 0, 1, 0, 0]), array([0, 0, 0, 0, 0, 0, 1]), array([0, 0, 0, 0, 1, 0, 0]), array([1, 0, 0, 0, 0, 0, 0]), array([0, 0, 0, 0, 1, 0, 0]), array([0, 0, 0, 0, 1, 0, 0]), array([0, 0, 0, 0, 1, 0, 0]), array([0, 0, 0, 0, 1, 0, 0]), array([0, 0, 1, 0, 0, 0, 0]), array([0, 0, 1, 0, 0, 0, 0]), array([0, 1, 0, 0, 0, 0, 0]), array([0, 0, 0, 0, 1, 0, 0]), array([0, 0, 0, 0, 1, 0, 0]), array([0, 0, 0, 0, 1, 0, 0]), array([0, 0, 0, 0, 1, 0, 0]), array([0, 0, 0, 0, 1, 0, 0]), array([0, 0, 0, 0, 1, 0, 0]), array([0, 0, 0, 0, 1, 0, 0]), array([0, 0, 0, 0, 1, 0, 0]), array([0, 0, 0, 0, 1, 0, 0]), array([0, 0, 0, 0, 1, 0, 0]), array([0, 0, 1, 0, 0, 0, 0]), array([0, 0, 0, 0, 1, 0, 0]), array([0, 0, 1, 0, 0, 0, 0]), array([0, 0, 0, 0, 1, 0, 0]), array([0, 0, 0, 0, 1, 0, 0]), array([0, 0, 0, 0, 0, 0, 1]), array([0, 0, 0, 0, 1, 0, 0]), array([0, 0, 0, 0, 0, 0, 1]), array([0, 0, 0, 0, 0, 0, 1]), array([0, 0, 0, 0, 0, 0, 1]), array([0, 0, 0, 0, 1, 0, 0]), array([0, 0, 0, 0, 1, 0, 0]), array([0, 0, 1, 0, 0, 0, 0]), array([0, 0, 1, 0, 0, 0, 0]), array([0, 0, 0, 0, 1, 0, 0]), array([0, 0, 1, 0, 0, 0, 0]), array([0, 0, 1, 0, 0, 0, 0]), array([0, 0, 0, 0, 1, 0, 0]), array([0, 0, 0, 0, 0, 0, 1]), array([0, 0, 0, 0, 1, 0, 0]), array([0, 0, 0, 0, 1, 0, 0]), array([0, 0, 0, 0, 0, 0, 1]), array([0, 0, 1, 0, 0, 0, 0]), array([0, 0, 0, 0, 1, 0, 0]), array([0, 0, 0, 0, 1, 0, 0]), array([0, 0, 0, 0, 1, 0, 0]), array([0, 0, 0, 0, 1, 0, 0]), array([0, 0, 0, 0, 0, 0, 1]), array([0, 0, 0, 0, 0, 1, 0]), array([0, 0, 1, 0, 0, 0, 0]), array([0, 0, 0, 0, 1, 0, 0]), array([0, 0, 0, 0, 1, 0, 0]), array([0, 0, 0, 0, 1, 0, 0]), array([0, 0, 0, 0, 1, 0, 0]), array([0, 0, 0, 0, 1, 0, 0]), array([0, 0, 0, 0, 1, 0, 0]), array([0, 0, 0, 0, 1, 0, 0]), array([0, 0, 0, 0, 0, 0, 1]), array([0, 0, 0, 0, 1, 0, 0]), array([0, 0, 0, 0, 0, 0, 1]), array([0, 0, 0, 0, 0, 0, 1]), array([0, 0, 0, 0, 1, 0, 0]), array([0, 0, 0, 0, 1, 0, 0]), array([0, 0, 1, 0, 0, 0, 0]), array([0, 0, 0, 0, 1, 0, 0]), array([0, 1, 0, 0, 0, 0, 0]), array([0, 0, 0, 0, 1, 0, 0]), array([0, 0, 0, 0, 1, 0, 0]), array([0, 0, 0, 0, 1, 0, 0]), array([0, 0, 0, 0, 0, 0, 1]), array([0, 0, 0, 0, 1, 0, 0]), array([0, 0, 0, 0, 1, 0, 0]), array([0, 0, 0, 0, 1, 0, 0]), array([0, 0, 0, 0, 1, 0, 0]), array([0, 0, 0, 0, 1, 0, 0]), array([0, 0, 0, 0, 1, 0, 0]), array([0, 0, 0, 0, 1, 0, 0]), array([0, 0, 0, 0, 0, 0, 1]), array([0, 0, 1, 0, 0, 0, 0]), array([0, 0, 1, 0, 0, 0, 0]), array([0, 0, 0, 0, 1, 0, 0]), array([0, 0, 0, 0, 1, 0, 0]), array([0, 0, 0, 0, 1, 0, 0]), array([0, 0, 0, 0, 1, 0, 0]), array([0, 0, 0, 0, 1, 0, 0]), array([0, 1, 0, 0, 0, 0, 0]), array([0, 0, 0, 0, 1, 0, 0]), array([0, 0, 0, 0, 1, 0, 0]), array([0, 0, 1, 0, 0, 0, 0]), array([0, 0, 0, 0, 1, 0, 0]), array([0, 0, 0, 0, 1, 0, 0]), array([0, 1, 0, 0, 0, 0, 0]), array([0, 0, 0, 0, 0, 0, 1]), array([0, 0, 0, 0, 1, 0, 0]), array([0, 0, 0, 0, 1, 0, 0]), array([0, 0, 0, 0, 1, 0, 0]), array([0, 0, 0, 0, 1, 0, 0]), array([0, 1, 0, 0, 0, 0, 0]), array([0, 0, 0, 0, 0, 0, 1]), array([0, 0, 0, 0, 1, 0, 0]), array([0, 0, 0, 0, 1, 0, 0]), array([0, 0, 0, 0, 1, 0, 0]), array([0, 0, 0, 0, 1, 0, 0]), array([0, 0, 0, 0, 1, 0, 0]), array([0, 0, 0, 0, 1, 0, 0]), array([0, 0, 0, 0, 0, 0, 1]), array([0, 0, 0, 0, 1, 0, 0]), array([0, 0, 0, 1, 0, 0, 0]), array([0, 0, 0, 0, 1, 0, 0])]\n"
          ]
        }
      ],
      "source": [
        "print(label_1)"
      ]
    },
    {
      "cell_type": "code",
      "execution_count": null,
      "metadata": {
        "colab": {
          "base_uri": "https://localhost:8080/"
        },
        "id": "QfcF7s3M5XEQ",
        "outputId": "9c8a721f-0dae-4bee-bf78-b25b0db1013e"
      },
      "outputs": [
        {
          "output_type": "execute_result",
          "data": {
            "text/plain": [
              "array([0, 0, 1, 0, 0, 0, 0])"
            ]
          },
          "metadata": {},
          "execution_count": 38
        }
      ],
      "source": [
        "# cross checking from all_labels\n",
        "all_labels[513]"
      ]
    },
    {
      "cell_type": "code",
      "execution_count": null,
      "metadata": {
        "colab": {
          "base_uri": "https://localhost:8080/"
        },
        "id": "tKWm9-715YBm",
        "outputId": "b0dc842e-7b4e-4001-b100-55d088f3a61e"
      },
      "outputs": [
        {
          "output_type": "execute_result",
          "data": {
            "text/plain": [
              "list"
            ]
          },
          "metadata": {},
          "execution_count": 39
        }
      ],
      "source": [
        "type(label_1)"
      ]
    },
    {
      "cell_type": "code",
      "execution_count": null,
      "metadata": {
        "id": "QZ4eTguk5Y9d"
      },
      "outputs": [],
      "source": [
        "# assigning the replaced labels to particular client\n",
        "# Replace the labels in the clients dictionary\n",
        "clients[\"client_1\"] = list(zip(client_1, label_1))"
      ]
    },
    {
      "cell_type": "code",
      "execution_count": null,
      "metadata": {
        "colab": {
          "base_uri": "https://localhost:8080/"
        },
        "id": "TVkaZXgb5bue",
        "outputId": "193580c7-b0f1-4356-fff9-57b91c57bd56"
      },
      "outputs": [
        {
          "output_type": "execute_result",
          "data": {
            "text/plain": [
              "(array([0.00392157, 0.02352941, 0.04705882, 0.04313725, 0.05490196,\n",
              "        0.20392157, 0.29803922, 0.20784314, 0.09411765, 0.0745098 ,\n",
              "        0.07843137, 0.08235294, 0.08235294, 0.06666667, 0.05098039,\n",
              "        0.05098039, 0.06666667, 0.09019608, 0.11764706, 0.08627451,\n",
              "        0.06666667, 0.08235294, 0.10588235, 0.14901961, 0.19215686,\n",
              "        0.19215686, 0.15686275, 0.09411765, 0.01176471, 0.03137255,\n",
              "        0.04313725, 0.02745098, 0.2       , 0.40784314, 0.45098039,\n",
              "        0.4627451 , 0.38431373, 0.24313725, 0.1372549 , 0.0745098 ,\n",
              "        0.07843137, 0.09019608, 0.0745098 , 0.0627451 , 0.06666667,\n",
              "        0.07058824, 0.09803922, 0.14509804, 0.10588235, 0.0745098 ,\n",
              "        0.09803922, 0.12156863, 0.16470588, 0.19215686, 0.17254902,\n",
              "        0.12156863, 0.01960784, 0.04313725, 0.02745098, 0.11372549,\n",
              "        0.43137255, 0.5254902 , 0.51764706, 0.55294118, 0.54117647,\n",
              "        0.52941176, 0.4745098 , 0.3372549 , 0.19607843, 0.09019608,\n",
              "        0.08627451, 0.08235294, 0.0745098 , 0.08235294, 0.09019608,\n",
              "        0.12156863, 0.16078431, 0.09019608, 0.0627451 , 0.08627451,\n",
              "        0.13333333, 0.17647059, 0.18039216, 0.14509804, 0.03137255,\n",
              "        0.03921569, 0.05098039, 0.34509804, 0.56862745, 0.59215686,\n",
              "        0.58823529, 0.60392157, 0.58823529, 0.6       , 0.6       ,\n",
              "        0.58823529, 0.51764706, 0.36078431, 0.18431373, 0.09019608,\n",
              "        0.0745098 , 0.07843137, 0.08627451, 0.09411765, 0.10196078,\n",
              "        0.1254902 , 0.11764706, 0.12941176, 0.1254902 , 0.15294118,\n",
              "        0.17647059, 0.15686275, 0.03921569, 0.02745098, 0.17254902,\n",
              "        0.51372549, 0.61176471, 0.62352941, 0.64705882, 0.65098039,\n",
              "        0.65490196, 0.67058824, 0.67058824, 0.65098039, 0.63921569,\n",
              "        0.54509804, 0.44313725, 0.36862745, 0.27843137, 0.25098039,\n",
              "        0.27843137, 0.25490196, 0.28235294, 0.34509804, 0.37647059,\n",
              "        0.32941176, 0.20784314, 0.1254902 , 0.16470588, 0.15686275,\n",
              "        0.04313725, 0.02745098, 0.31372549, 0.60392157, 0.64313725,\n",
              "        0.67058824, 0.68627451, 0.68235294, 0.70588235, 0.7254902 ,\n",
              "        0.72941176, 0.72941176, 0.6627451 , 0.53333333, 0.47843137,\n",
              "        0.49803922, 0.43921569, 0.43529412, 0.47843137, 0.36078431,\n",
              "        0.31764706, 0.45098039, 0.49803922, 0.4627451 , 0.3372549 ,\n",
              "        0.1372549 , 0.14117647, 0.15686275, 0.03921569, 0.05882353,\n",
              "        0.42352941, 0.63921569, 0.65490196, 0.67843137, 0.70980392,\n",
              "        0.61568627, 0.58039216, 0.75294118, 0.75686275, 0.74901961,\n",
              "        0.67058824, 0.60784314, 0.66666667, 0.63137255, 0.54901961,\n",
              "        0.58431373, 0.55294118, 0.45882353, 0.4       , 0.46666667,\n",
              "        0.47058824, 0.50980392, 0.45490196, 0.21960784, 0.11764706,\n",
              "        0.14901961, 0.03137255, 0.12941176, 0.51372549, 0.61568627,\n",
              "        0.63921569, 0.68235294, 0.71764706, 0.58823529, 0.54117647,\n",
              "        0.67843137, 0.68235294, 0.72941176, 0.69803922, 0.6627451 ,\n",
              "        0.68235294, 0.61960784, 0.56862745, 0.59607843, 0.5254902 ,\n",
              "        0.50588235, 0.50980392, 0.4745098 , 0.43529412, 0.50196078,\n",
              "        0.54117647, 0.34509804, 0.11764706, 0.14117647, 0.02745098,\n",
              "        0.21568627, 0.58039216, 0.62352941, 0.65098039, 0.71764706,\n",
              "        0.73333333, 0.64313725, 0.59607843, 0.67058824, 0.61960784,\n",
              "        0.63137255, 0.72156863, 0.81568627, 0.74901961, 0.6       ,\n",
              "        0.58431373, 0.63137255, 0.59215686, 0.57647059, 0.55686275,\n",
              "        0.48235294, 0.4627451 , 0.49803922, 0.57254902, 0.42352941,\n",
              "        0.12941176, 0.1254902 , 0.03529412, 0.30588235, 0.63529412,\n",
              "        0.65882353, 0.66666667, 0.70588235, 0.69803922, 0.72156863,\n",
              "        0.70588235, 0.71372549, 0.55686275, 0.62745098, 0.65490196,\n",
              "        0.77647059, 0.78823529, 0.63529412, 0.6       , 0.6627451 ,\n",
              "        0.6627451 , 0.61960784, 0.60392157, 0.54117647, 0.53333333,\n",
              "        0.54509804, 0.63921569, 0.51764706, 0.16862745, 0.10588235,\n",
              "        0.05098039, 0.36862745, 0.67058824, 0.68627451, 0.72156863,\n",
              "        0.72941176, 0.7372549 , 0.76078431, 0.73333333, 0.68627451,\n",
              "        0.61960784, 0.65882353, 0.67843137, 0.80392157, 0.78039216,\n",
              "        0.66666667, 0.71372549, 0.6745098 , 0.70980392, 0.65882353,\n",
              "        0.62352941, 0.56862745, 0.59215686, 0.61568627, 0.68235294,\n",
              "        0.59215686, 0.21960784, 0.09019608, 0.06666667, 0.41568627,\n",
              "        0.68235294, 0.70196078, 0.73333333, 0.76078431, 0.77647059,\n",
              "        0.74117647, 0.65882353, 0.64313725, 0.69411765, 0.64705882,\n",
              "        0.68627451, 0.76470588, 0.74509804, 0.7254902 , 0.72941176,\n",
              "        0.65882353, 0.6627451 , 0.62745098, 0.59607843, 0.61176471,\n",
              "        0.69411765, 0.71372549, 0.69019608, 0.61960784, 0.25882353,\n",
              "        0.08235294, 0.08235294, 0.43529412, 0.67843137, 0.70588235,\n",
              "        0.7372549 , 0.74901961, 0.77647059, 0.74117647, 0.60784314,\n",
              "        0.62352941, 0.67843137, 0.68235294, 0.67058824, 0.63921569,\n",
              "        0.71372549, 0.7372549 , 0.67843137, 0.59607843, 0.62352941,\n",
              "        0.65490196, 0.61568627, 0.68627451, 0.75294118, 0.7254902 ,\n",
              "        0.69803922, 0.64313725, 0.28235294, 0.07058824, 0.09803922,\n",
              "        0.42745098, 0.65490196, 0.69411765, 0.72941176, 0.74117647,\n",
              "        0.76470588, 0.71372549, 0.65098039, 0.65098039, 0.63137255,\n",
              "        0.64705882, 0.72941176, 0.72941176, 0.72156863, 0.65098039,\n",
              "        0.65490196, 0.60784314, 0.59607843, 0.67058824, 0.6745098 ,\n",
              "        0.69019608, 0.72941176, 0.70980392, 0.69411765, 0.6627451 ,\n",
              "        0.29803922, 0.05882353, 0.10196078, 0.41176471, 0.64705882,\n",
              "        0.68235294, 0.7254902 , 0.76470588, 0.77647059, 0.75294118,\n",
              "        0.6745098 , 0.62352941, 0.62352941, 0.68235294, 0.75686275,\n",
              "        0.7372549 , 0.74509804, 0.75294118, 0.73333333, 0.63921569,\n",
              "        0.65098039, 0.70196078, 0.69411765, 0.68235294, 0.70980392,\n",
              "        0.68627451, 0.68627451, 0.63529412, 0.27058824, 0.05098039,\n",
              "        0.09411765, 0.36078431, 0.62745098, 0.67058824, 0.6745098 ,\n",
              "        0.7372549 , 0.76078431, 0.75686275, 0.70196078, 0.63529412,\n",
              "        0.6627451 , 0.72941176, 0.75686275, 0.74901961, 0.76470588,\n",
              "        0.78431373, 0.75294118, 0.71372549, 0.72156863, 0.72156863,\n",
              "        0.69019608, 0.69411765, 0.72941176, 0.69411765, 0.68627451,\n",
              "        0.62745098, 0.22352941, 0.04313725, 0.09411765, 0.30588235,\n",
              "        0.59607843, 0.64313725, 0.65098039, 0.6627451 , 0.69803922,\n",
              "        0.70196078, 0.66666667, 0.6745098 , 0.68627451, 0.7254902 ,\n",
              "        0.77254902, 0.76078431, 0.76470588, 0.8       , 0.76078431,\n",
              "        0.74509804, 0.7254902 , 0.70588235, 0.66666667, 0.71764706,\n",
              "        0.74117647, 0.70980392, 0.6627451 , 0.55686275, 0.16078431,\n",
              "        0.04313725, 0.10196078, 0.23921569, 0.56078431, 0.61568627,\n",
              "        0.64705882, 0.65882353, 0.65490196, 0.6627451 , 0.61568627,\n",
              "        0.63921569, 0.6745098 , 0.71372549, 0.73333333, 0.7372549 ,\n",
              "        0.75294118, 0.76078431, 0.73333333, 0.72941176, 0.70588235,\n",
              "        0.69803922, 0.65098039, 0.6627451 , 0.68627451, 0.68627451,\n",
              "        0.64705882, 0.48235294, 0.10196078, 0.04705882, 0.11764706,\n",
              "        0.18039216, 0.50588235, 0.61568627, 0.65490196, 0.68235294,\n",
              "        0.67843137, 0.65098039, 0.62745098, 0.63921569, 0.63921569,\n",
              "        0.65098039, 0.67058824, 0.76470588, 0.76078431, 0.7254902 ,\n",
              "        0.70980392, 0.69803922, 0.64705882, 0.68627451, 0.64705882,\n",
              "        0.59607843, 0.65098039, 0.67058824, 0.60784314, 0.38431373,\n",
              "        0.05490196, 0.05098039, 0.13333333, 0.1372549 , 0.41568627,\n",
              "        0.61960784, 0.65882353, 0.69019608, 0.69411765, 0.67843137,\n",
              "        0.63137255, 0.60784314, 0.6       , 0.61568627, 0.69019608,\n",
              "        0.79215686, 0.75294118, 0.73333333, 0.68235294, 0.57254902,\n",
              "        0.56862745, 0.6627451 , 0.63137255, 0.57647059, 0.64313725,\n",
              "        0.63921569, 0.56078431, 0.25490196, 0.02745098, 0.04705882,\n",
              "        0.14509804, 0.11764706, 0.29803922, 0.60392157, 0.66666667,\n",
              "        0.69411765, 0.67843137, 0.68627451, 0.65098039, 0.58431373,\n",
              "        0.59607843, 0.57647059, 0.69019608, 0.77254902, 0.74117647,\n",
              "        0.65882353, 0.55686275, 0.56862745, 0.55294118, 0.61568627,\n",
              "        0.65490196, 0.64313725, 0.63137255, 0.60392157, 0.4745098 ,\n",
              "        0.12941176, 0.03137255, 0.04313725, 0.14117647, 0.13333333,\n",
              "        0.19215686, 0.52941176, 0.65882353, 0.68235294, 0.65882353,\n",
              "        0.65882353, 0.63529412, 0.63529412, 0.63529412, 0.64313725,\n",
              "        0.74117647, 0.75686275, 0.70196078, 0.58431373, 0.51764706,\n",
              "        0.54901961, 0.56078431, 0.6627451 , 0.6745098 , 0.61176471,\n",
              "        0.57647059, 0.54901961, 0.37647059, 0.0745098 , 0.03529412,\n",
              "        0.03529412, 0.1254902 , 0.15294118, 0.12941176, 0.37254902,\n",
              "        0.61176471, 0.65098039, 0.64705882, 0.62745098, 0.63921569,\n",
              "        0.6627451 , 0.65490196, 0.70196078, 0.78039216, 0.74509804,\n",
              "        0.6627451 , 0.6       , 0.54117647, 0.50196078, 0.61176471,\n",
              "        0.69411765, 0.6627451 , 0.60392157, 0.56862745, 0.49803922,\n",
              "        0.23529412, 0.04313725, 0.03529412, 0.02352941, 0.10980392,\n",
              "        0.15294118, 0.1372549 , 0.19607843, 0.50196078, 0.62745098,\n",
              "        0.61176471, 0.58823529, 0.62745098, 0.64705882, 0.62352941,\n",
              "        0.66666667, 0.75294118, 0.74901961, 0.66666667, 0.54901961,\n",
              "        0.58823529, 0.54509804, 0.65490196, 0.68627451, 0.66666667,\n",
              "        0.62745098, 0.55294118, 0.31372549, 0.05882353, 0.03921569,\n",
              "        0.03137255, 0.01176471, 0.08235294, 0.13333333, 0.15686275,\n",
              "        0.1254902 , 0.29411765, 0.54509804, 0.56862745, 0.58039216,\n",
              "        0.62745098, 0.63921569, 0.61176471, 0.6745098 , 0.75294118,\n",
              "        0.75294118, 0.70980392, 0.59215686, 0.61568627, 0.58431373,\n",
              "        0.63921569, 0.67058824, 0.6627451 , 0.62352941, 0.46666667,\n",
              "        0.12156863, 0.03529412, 0.04313725, 0.02352941, 0.00392157,\n",
              "        0.05098039, 0.11372549, 0.15294118, 0.15294118, 0.14117647,\n",
              "        0.35686275, 0.54117647, 0.57254902, 0.61960784, 0.60784314,\n",
              "        0.58039216, 0.6627451 , 0.72156863, 0.72941176, 0.71372549,\n",
              "        0.69411765, 0.65882353, 0.65098039, 0.64705882, 0.61960784,\n",
              "        0.63137255, 0.54509804, 0.23137255, 0.04705882, 0.05490196,\n",
              "        0.03921569, 0.01568627, 0.        , 0.01568627, 0.07843137,\n",
              "        0.13333333, 0.16078431, 0.14901961, 0.15686275, 0.36078431,\n",
              "        0.50980392, 0.56078431, 0.58431373, 0.58039216, 0.63529412,\n",
              "        0.70196078, 0.70196078, 0.67843137, 0.67843137, 0.68627451,\n",
              "        0.65098039, 0.61960784, 0.58039216, 0.53333333, 0.27843137,\n",
              "        0.05882353, 0.05882353, 0.05098039, 0.03137255, 0.00392157,\n",
              "        0.        , 0.        , 0.03921569, 0.10196078, 0.14117647,\n",
              "        0.16470588, 0.14117647, 0.15686275, 0.32156863, 0.44705882,\n",
              "        0.50196078, 0.54117647, 0.64313725, 0.6745098 , 0.67058824,\n",
              "        0.6745098 , 0.65882353, 0.65882353, 0.61568627, 0.58039216,\n",
              "        0.4745098 , 0.25882353, 0.07058824, 0.06666667, 0.06666667,\n",
              "        0.04705882, 0.01568627, 0.        , 0.        ]),\n",
              " array([0, 0, 0, 0, 1, 0, 0]))"
            ]
          },
          "metadata": {},
          "execution_count": 41
        }
      ],
      "source": [
        "# cross checking if it is assigned or not\n",
        "clients['client_1'][513]"
      ]
    },
    {
      "cell_type": "code",
      "execution_count": null,
      "metadata": {
        "colab": {
          "base_uri": "https://localhost:8080/"
        },
        "id": "XBnoCMIdSV4D",
        "outputId": "cf3d913d-8342-48ba-aa05-61fd380ebd62"
      },
      "outputs": [
        {
          "output_type": "stream",
          "name": "stdout",
          "text": [
            "[0 0 0 0 1 0 0]\n",
            "[1 0 0 0 0 0 0]\n",
            "[0 0 0 0 1 0 0]\n",
            "[0 0 1 0 0 0 0]\n",
            "[0 0 0 0 1 0 0]\n",
            "[0 0 0 0 1 0 0]\n",
            "[0 0 0 0 1 0 0]\n",
            "[0 0 0 0 1 0 0]\n",
            "[0 0 1 0 0 0 0]\n",
            "[0 0 0 0 1 0 0]\n",
            "[0 0 0 0 1 0 0]\n",
            "[0 1 0 0 0 0 0]\n",
            "[0 0 0 0 1 0 0]\n",
            "[0 0 0 0 1 0 0]\n",
            "[0 0 0 0 1 0 0]\n",
            "[0 0 0 0 0 0 1]\n",
            "[1 0 0 0 0 0 0]\n",
            "[0 0 0 0 1 0 0]\n",
            "[0 0 0 0 1 0 0]\n",
            "[0 0 0 0 1 0 0]\n",
            "[0 1 0 0 0 0 0]\n",
            "[1 0 0 0 0 0 0]\n",
            "[0 1 0 0 0 0 0]\n",
            "[0 0 0 1 0 0 0]\n",
            "[0 0 0 0 0 0 1]\n",
            "[0 0 0 0 1 0 0]\n",
            "[0 0 1 0 0 0 0]\n",
            "[0 0 1 0 0 0 0]\n",
            "[0 0 0 0 1 0 0]\n",
            "[0 0 0 0 1 0 0]\n",
            "[0 0 0 0 1 0 0]\n",
            "[0 0 1 0 0 0 0]\n",
            "[0 0 0 0 1 0 0]\n",
            "[0 0 0 0 1 0 0]\n",
            "[0 1 0 0 0 0 0]\n",
            "[0 0 0 0 1 0 0]\n",
            "[0 0 0 0 1 0 0]\n",
            "[0 0 0 0 0 0 1]\n",
            "[0 0 0 0 0 0 1]\n",
            "[0 0 0 0 1 0 0]\n",
            "[0 0 0 0 0 0 1]\n",
            "[0 0 1 0 0 0 0]\n",
            "[0 0 0 0 1 0 0]\n",
            "[0 0 0 0 1 0 0]\n",
            "[0 0 0 0 0 0 1]\n",
            "[0 0 0 0 1 0 0]\n",
            "[0 0 0 0 1 0 0]\n",
            "[0 0 0 0 1 0 0]\n",
            "[0 0 1 0 0 0 0]\n",
            "[0 0 0 0 1 0 0]\n",
            "[0 0 0 0 1 0 0]\n",
            "[0 0 0 0 1 0 0]\n",
            "[0 0 0 0 1 0 0]\n",
            "[0 0 0 0 0 0 1]\n",
            "[0 0 0 0 1 0 0]\n",
            "[0 0 0 0 1 0 0]\n",
            "[0 0 0 0 1 0 0]\n",
            "[0 0 1 0 0 0 0]\n",
            "[0 0 0 0 1 0 0]\n",
            "[0 0 0 0 1 0 0]\n",
            "[0 0 0 0 1 0 0]\n",
            "[0 0 1 0 0 0 0]\n",
            "[0 0 0 0 1 0 0]\n",
            "[0 0 1 0 0 0 0]\n",
            "[0 0 0 0 1 0 0]\n",
            "[0 0 1 0 0 0 0]\n",
            "[0 0 0 0 1 0 0]\n",
            "[0 0 0 0 1 0 0]\n",
            "[1 0 0 0 0 0 0]\n",
            "[0 0 0 0 1 0 0]\n",
            "[0 0 0 0 1 0 0]\n",
            "[0 0 0 0 1 0 0]\n",
            "[0 0 0 0 1 0 0]\n",
            "[0 0 1 0 0 0 0]\n",
            "[0 0 0 0 0 0 1]\n",
            "[0 0 0 0 1 0 0]\n",
            "[0 0 0 0 1 0 0]\n",
            "[0 0 0 0 0 0 1]\n",
            "[0 0 0 0 1 0 0]\n",
            "[0 0 0 0 0 0 1]\n",
            "[0 0 0 0 0 0 1]\n",
            "[0 0 0 0 1 0 0]\n",
            "[0 0 0 0 0 0 1]\n",
            "[0 0 0 0 1 0 0]\n",
            "[0 0 0 0 1 0 0]\n",
            "[0 0 0 0 1 0 0]\n",
            "[0 0 1 0 0 0 0]\n",
            "[0 0 0 0 1 0 0]\n",
            "[0 0 0 0 1 0 0]\n",
            "[0 0 0 0 1 0 0]\n",
            "[0 0 0 0 1 0 0]\n",
            "[0 1 0 0 0 0 0]\n",
            "[0 0 0 0 1 0 0]\n",
            "[0 0 0 0 0 1 0]\n",
            "[0 0 0 0 1 0 0]\n",
            "[0 0 0 0 1 0 0]\n",
            "[0 0 0 0 1 0 0]\n",
            "[0 0 0 0 1 0 0]\n",
            "[0 1 0 0 0 0 0]\n",
            "[0 0 0 0 1 0 0]\n",
            "[0 0 1 0 0 0 0]\n",
            "[0 0 0 0 1 0 0]\n",
            "[0 0 0 0 1 0 0]\n",
            "[0 0 0 0 1 0 0]\n",
            "[1 0 0 0 0 0 0]\n",
            "[0 0 1 0 0 0 0]\n",
            "[0 0 0 0 1 0 0]\n",
            "[0 0 0 0 1 0 0]\n",
            "[0 0 1 0 0 0 0]\n",
            "[0 0 0 0 1 0 0]\n",
            "[0 0 1 0 0 0 0]\n",
            "[0 0 0 0 1 0 0]\n",
            "[0 0 0 0 1 0 0]\n",
            "[0 0 0 0 1 0 0]\n",
            "[0 0 0 0 1 0 0]\n",
            "[0 0 0 0 1 0 0]\n",
            "[0 0 0 0 1 0 0]\n",
            "[0 0 0 0 0 0 1]\n",
            "[0 0 0 0 1 0 0]\n",
            "[0 0 0 0 0 0 1]\n",
            "[0 0 0 0 1 0 0]\n",
            "[0 0 0 0 1 0 0]\n",
            "[0 0 0 0 1 0 0]\n",
            "[0 0 0 0 0 0 1]\n",
            "[0 0 0 0 1 0 0]\n",
            "[0 1 0 0 0 0 0]\n",
            "[0 0 0 0 1 0 0]\n",
            "[0 0 0 0 1 0 0]\n",
            "[0 0 0 0 1 0 0]\n",
            "[0 0 0 0 1 0 0]\n",
            "[0 0 0 0 1 0 0]\n",
            "[0 0 0 0 1 0 0]\n",
            "[0 1 0 0 0 0 0]\n",
            "[0 0 0 0 1 0 0]\n",
            "[0 0 0 0 1 0 0]\n",
            "[1 0 0 0 0 0 0]\n",
            "[0 0 0 0 0 0 1]\n",
            "[0 0 0 0 1 0 0]\n",
            "[0 0 0 0 1 0 0]\n",
            "[0 0 0 0 1 0 0]\n",
            "[0 0 0 0 1 0 0]\n",
            "[0 0 0 0 1 0 0]\n",
            "[0 1 0 0 0 0 0]\n",
            "[0 0 0 0 1 0 0]\n",
            "[0 0 0 0 1 0 0]\n",
            "[0 0 0 0 1 0 0]\n",
            "[0 0 0 0 0 0 1]\n",
            "[0 0 0 0 1 0 0]\n",
            "[0 0 1 0 0 0 0]\n",
            "[0 0 0 0 1 0 0]\n",
            "[0 0 1 0 0 0 0]\n",
            "[0 0 0 0 1 0 0]\n",
            "[0 0 0 0 1 0 0]\n",
            "[0 0 0 0 1 0 0]\n",
            "[0 0 0 0 1 0 0]\n",
            "[0 0 0 0 1 0 0]\n",
            "[0 1 0 0 0 0 0]\n",
            "[0 0 0 0 1 0 0]\n",
            "[0 0 0 0 1 0 0]\n",
            "[0 0 0 0 1 0 0]\n"
          ]
        }
      ],
      "source": [
        "# cross checking after replacing for label_1\n",
        "for i in all_indexes:\n",
        "    print(label_1[i])"
      ]
    },
    {
      "cell_type": "code",
      "execution_count": null,
      "metadata": {
        "colab": {
          "base_uri": "https://localhost:8080/"
        },
        "id": "wiCJ6KXfSYMN",
        "outputId": "eb40414e-6b60-4e34-9a90-db80c3a9f998"
      },
      "outputs": [
        {
          "output_type": "stream",
          "name": "stdout",
          "text": [
            "63/63 [==============================] - 1s 2ms/step\n",
            "comm_round: 0 | global_acc: 66.251% | global_loss: 1.6204502582550049\n",
            "63/63 [==============================] - 0s 2ms/step\n"
          ]
        },
        {
          "output_type": "stream",
          "name": "stderr",
          "text": [
            "/usr/local/lib/python3.8/dist-packages/sklearn/metrics/_classification.py:1318: UndefinedMetricWarning: Precision and F-score are ill-defined and being set to 0.0 in labels with no predicted samples. Use `zero_division` parameter to control this behavior.\n",
            "  _warn_prf(average, modifier, msg_start, len(result))\n",
            "/usr/local/lib/python3.8/dist-packages/sklearn/metrics/_classification.py:1318: UndefinedMetricWarning: Precision and F-score are ill-defined and being set to 0.0 in labels with no predicted samples. Use `zero_division` parameter to control this behavior.\n",
            "  _warn_prf(average, modifier, msg_start, len(result))\n",
            "/usr/local/lib/python3.8/dist-packages/sklearn/metrics/_classification.py:1318: UndefinedMetricWarning: Precision and F-score are ill-defined and being set to 0.0 in labels with no predicted samples. Use `zero_division` parameter to control this behavior.\n",
            "  _warn_prf(average, modifier, msg_start, len(result))\n"
          ]
        },
        {
          "output_type": "stream",
          "name": "stdout",
          "text": [
            "63/63 [==============================] - 0s 2ms/step\n",
            "comm_round: 1 | global_acc: 66.251% | global_loss: 1.6243340969085693\n",
            "63/63 [==============================] - 0s 2ms/step\n"
          ]
        },
        {
          "output_type": "stream",
          "name": "stderr",
          "text": [
            "/usr/local/lib/python3.8/dist-packages/sklearn/metrics/_classification.py:1318: UndefinedMetricWarning: Precision and F-score are ill-defined and being set to 0.0 in labels with no predicted samples. Use `zero_division` parameter to control this behavior.\n",
            "  _warn_prf(average, modifier, msg_start, len(result))\n",
            "/usr/local/lib/python3.8/dist-packages/sklearn/metrics/_classification.py:1318: UndefinedMetricWarning: Precision and F-score are ill-defined and being set to 0.0 in labels with no predicted samples. Use `zero_division` parameter to control this behavior.\n",
            "  _warn_prf(average, modifier, msg_start, len(result))\n",
            "/usr/local/lib/python3.8/dist-packages/sklearn/metrics/_classification.py:1318: UndefinedMetricWarning: Precision and F-score are ill-defined and being set to 0.0 in labels with no predicted samples. Use `zero_division` parameter to control this behavior.\n",
            "  _warn_prf(average, modifier, msg_start, len(result))\n"
          ]
        },
        {
          "output_type": "stream",
          "name": "stdout",
          "text": [
            "63/63 [==============================] - 0s 2ms/step\n",
            "comm_round: 2 | global_acc: 66.251% | global_loss: 1.6312410831451416\n",
            "63/63 [==============================] - 0s 2ms/step\n"
          ]
        },
        {
          "output_type": "stream",
          "name": "stderr",
          "text": [
            "/usr/local/lib/python3.8/dist-packages/sklearn/metrics/_classification.py:1318: UndefinedMetricWarning: Precision and F-score are ill-defined and being set to 0.0 in labels with no predicted samples. Use `zero_division` parameter to control this behavior.\n",
            "  _warn_prf(average, modifier, msg_start, len(result))\n",
            "/usr/local/lib/python3.8/dist-packages/sklearn/metrics/_classification.py:1318: UndefinedMetricWarning: Precision and F-score are ill-defined and being set to 0.0 in labels with no predicted samples. Use `zero_division` parameter to control this behavior.\n",
            "  _warn_prf(average, modifier, msg_start, len(result))\n",
            "/usr/local/lib/python3.8/dist-packages/sklearn/metrics/_classification.py:1318: UndefinedMetricWarning: Precision and F-score are ill-defined and being set to 0.0 in labels with no predicted samples. Use `zero_division` parameter to control this behavior.\n",
            "  _warn_prf(average, modifier, msg_start, len(result))\n"
          ]
        },
        {
          "output_type": "stream",
          "name": "stdout",
          "text": [
            "63/63 [==============================] - 0s 2ms/step\n",
            "comm_round: 3 | global_acc: 66.251% | global_loss: 1.6393557786941528\n",
            "63/63 [==============================] - 0s 2ms/step\n"
          ]
        },
        {
          "output_type": "stream",
          "name": "stderr",
          "text": [
            "/usr/local/lib/python3.8/dist-packages/sklearn/metrics/_classification.py:1318: UndefinedMetricWarning: Precision and F-score are ill-defined and being set to 0.0 in labels with no predicted samples. Use `zero_division` parameter to control this behavior.\n",
            "  _warn_prf(average, modifier, msg_start, len(result))\n",
            "/usr/local/lib/python3.8/dist-packages/sklearn/metrics/_classification.py:1318: UndefinedMetricWarning: Precision and F-score are ill-defined and being set to 0.0 in labels with no predicted samples. Use `zero_division` parameter to control this behavior.\n",
            "  _warn_prf(average, modifier, msg_start, len(result))\n",
            "/usr/local/lib/python3.8/dist-packages/sklearn/metrics/_classification.py:1318: UndefinedMetricWarning: Precision and F-score are ill-defined and being set to 0.0 in labels with no predicted samples. Use `zero_division` parameter to control this behavior.\n",
            "  _warn_prf(average, modifier, msg_start, len(result))\n"
          ]
        },
        {
          "output_type": "stream",
          "name": "stdout",
          "text": [
            "63/63 [==============================] - 0s 2ms/step\n",
            "comm_round: 4 | global_acc: 66.251% | global_loss: 1.6426329612731934\n",
            "63/63 [==============================] - 0s 2ms/step\n"
          ]
        },
        {
          "output_type": "stream",
          "name": "stderr",
          "text": [
            "/usr/local/lib/python3.8/dist-packages/sklearn/metrics/_classification.py:1318: UndefinedMetricWarning: Precision and F-score are ill-defined and being set to 0.0 in labels with no predicted samples. Use `zero_division` parameter to control this behavior.\n",
            "  _warn_prf(average, modifier, msg_start, len(result))\n",
            "/usr/local/lib/python3.8/dist-packages/sklearn/metrics/_classification.py:1318: UndefinedMetricWarning: Precision and F-score are ill-defined and being set to 0.0 in labels with no predicted samples. Use `zero_division` parameter to control this behavior.\n",
            "  _warn_prf(average, modifier, msg_start, len(result))\n",
            "/usr/local/lib/python3.8/dist-packages/sklearn/metrics/_classification.py:1318: UndefinedMetricWarning: Precision and F-score are ill-defined and being set to 0.0 in labels with no predicted samples. Use `zero_division` parameter to control this behavior.\n",
            "  _warn_prf(average, modifier, msg_start, len(result))\n"
          ]
        },
        {
          "output_type": "stream",
          "name": "stdout",
          "text": [
            "63/63 [==============================] - 0s 2ms/step\n",
            "comm_round: 5 | global_acc: 66.251% | global_loss: 1.6247674226760864\n",
            "63/63 [==============================] - 0s 2ms/step\n"
          ]
        },
        {
          "output_type": "stream",
          "name": "stderr",
          "text": [
            "/usr/local/lib/python3.8/dist-packages/sklearn/metrics/_classification.py:1318: UndefinedMetricWarning: Precision and F-score are ill-defined and being set to 0.0 in labels with no predicted samples. Use `zero_division` parameter to control this behavior.\n",
            "  _warn_prf(average, modifier, msg_start, len(result))\n",
            "/usr/local/lib/python3.8/dist-packages/sklearn/metrics/_classification.py:1318: UndefinedMetricWarning: Precision and F-score are ill-defined and being set to 0.0 in labels with no predicted samples. Use `zero_division` parameter to control this behavior.\n",
            "  _warn_prf(average, modifier, msg_start, len(result))\n",
            "/usr/local/lib/python3.8/dist-packages/sklearn/metrics/_classification.py:1318: UndefinedMetricWarning: Precision and F-score are ill-defined and being set to 0.0 in labels with no predicted samples. Use `zero_division` parameter to control this behavior.\n",
            "  _warn_prf(average, modifier, msg_start, len(result))\n"
          ]
        },
        {
          "output_type": "stream",
          "name": "stdout",
          "text": [
            "63/63 [==============================] - 0s 2ms/step\n",
            "comm_round: 6 | global_acc: 66.201% | global_loss: 1.6408997774124146\n",
            "63/63 [==============================] - 0s 2ms/step\n"
          ]
        },
        {
          "output_type": "stream",
          "name": "stderr",
          "text": [
            "/usr/local/lib/python3.8/dist-packages/sklearn/metrics/_classification.py:1318: UndefinedMetricWarning: Precision and F-score are ill-defined and being set to 0.0 in labels with no predicted samples. Use `zero_division` parameter to control this behavior.\n",
            "  _warn_prf(average, modifier, msg_start, len(result))\n",
            "/usr/local/lib/python3.8/dist-packages/sklearn/metrics/_classification.py:1318: UndefinedMetricWarning: Precision and F-score are ill-defined and being set to 0.0 in labels with no predicted samples. Use `zero_division` parameter to control this behavior.\n",
            "  _warn_prf(average, modifier, msg_start, len(result))\n",
            "/usr/local/lib/python3.8/dist-packages/sklearn/metrics/_classification.py:1318: UndefinedMetricWarning: Precision and F-score are ill-defined and being set to 0.0 in labels with no predicted samples. Use `zero_division` parameter to control this behavior.\n",
            "  _warn_prf(average, modifier, msg_start, len(result))\n"
          ]
        },
        {
          "output_type": "stream",
          "name": "stdout",
          "text": [
            "63/63 [==============================] - 0s 2ms/step\n",
            "comm_round: 7 | global_acc: 66.201% | global_loss: 1.6250821352005005\n",
            "63/63 [==============================] - 0s 2ms/step\n"
          ]
        },
        {
          "output_type": "stream",
          "name": "stderr",
          "text": [
            "/usr/local/lib/python3.8/dist-packages/sklearn/metrics/_classification.py:1318: UndefinedMetricWarning: Precision and F-score are ill-defined and being set to 0.0 in labels with no predicted samples. Use `zero_division` parameter to control this behavior.\n",
            "  _warn_prf(average, modifier, msg_start, len(result))\n",
            "/usr/local/lib/python3.8/dist-packages/sklearn/metrics/_classification.py:1318: UndefinedMetricWarning: Precision and F-score are ill-defined and being set to 0.0 in labels with no predicted samples. Use `zero_division` parameter to control this behavior.\n",
            "  _warn_prf(average, modifier, msg_start, len(result))\n",
            "/usr/local/lib/python3.8/dist-packages/sklearn/metrics/_classification.py:1318: UndefinedMetricWarning: Precision and F-score are ill-defined and being set to 0.0 in labels with no predicted samples. Use `zero_division` parameter to control this behavior.\n",
            "  _warn_prf(average, modifier, msg_start, len(result))\n"
          ]
        },
        {
          "output_type": "stream",
          "name": "stdout",
          "text": [
            "63/63 [==============================] - 0s 2ms/step\n",
            "comm_round: 8 | global_acc: 66.101% | global_loss: 1.6423671245574951\n",
            "63/63 [==============================] - 0s 2ms/step\n"
          ]
        },
        {
          "output_type": "stream",
          "name": "stderr",
          "text": [
            "/usr/local/lib/python3.8/dist-packages/sklearn/metrics/_classification.py:1318: UndefinedMetricWarning: Precision and F-score are ill-defined and being set to 0.0 in labels with no predicted samples. Use `zero_division` parameter to control this behavior.\n",
            "  _warn_prf(average, modifier, msg_start, len(result))\n",
            "/usr/local/lib/python3.8/dist-packages/sklearn/metrics/_classification.py:1318: UndefinedMetricWarning: Precision and F-score are ill-defined and being set to 0.0 in labels with no predicted samples. Use `zero_division` parameter to control this behavior.\n",
            "  _warn_prf(average, modifier, msg_start, len(result))\n",
            "/usr/local/lib/python3.8/dist-packages/sklearn/metrics/_classification.py:1318: UndefinedMetricWarning: Precision and F-score are ill-defined and being set to 0.0 in labels with no predicted samples. Use `zero_division` parameter to control this behavior.\n",
            "  _warn_prf(average, modifier, msg_start, len(result))\n"
          ]
        },
        {
          "output_type": "stream",
          "name": "stdout",
          "text": [
            "63/63 [==============================] - 0s 2ms/step\n",
            "comm_round: 9 | global_acc: 66.101% | global_loss: 1.6220383644104004\n",
            "63/63 [==============================] - 0s 2ms/step\n"
          ]
        },
        {
          "output_type": "stream",
          "name": "stderr",
          "text": [
            "/usr/local/lib/python3.8/dist-packages/sklearn/metrics/_classification.py:1318: UndefinedMetricWarning: Precision and F-score are ill-defined and being set to 0.0 in labels with no predicted samples. Use `zero_division` parameter to control this behavior.\n",
            "  _warn_prf(average, modifier, msg_start, len(result))\n",
            "/usr/local/lib/python3.8/dist-packages/sklearn/metrics/_classification.py:1318: UndefinedMetricWarning: Precision and F-score are ill-defined and being set to 0.0 in labels with no predicted samples. Use `zero_division` parameter to control this behavior.\n",
            "  _warn_prf(average, modifier, msg_start, len(result))\n",
            "/usr/local/lib/python3.8/dist-packages/sklearn/metrics/_classification.py:1318: UndefinedMetricWarning: Precision and F-score are ill-defined and being set to 0.0 in labels with no predicted samples. Use `zero_division` parameter to control this behavior.\n",
            "  _warn_prf(average, modifier, msg_start, len(result))\n"
          ]
        },
        {
          "output_type": "stream",
          "name": "stdout",
          "text": [
            "63/63 [==============================] - 0s 2ms/step\n",
            "comm_round: 10 | global_acc: 66.051% | global_loss: 1.6299852132797241\n",
            "63/63 [==============================] - 0s 2ms/step\n"
          ]
        },
        {
          "output_type": "stream",
          "name": "stderr",
          "text": [
            "/usr/local/lib/python3.8/dist-packages/sklearn/metrics/_classification.py:1318: UndefinedMetricWarning: Precision and F-score are ill-defined and being set to 0.0 in labels with no predicted samples. Use `zero_division` parameter to control this behavior.\n",
            "  _warn_prf(average, modifier, msg_start, len(result))\n",
            "/usr/local/lib/python3.8/dist-packages/sklearn/metrics/_classification.py:1318: UndefinedMetricWarning: Precision and F-score are ill-defined and being set to 0.0 in labels with no predicted samples. Use `zero_division` parameter to control this behavior.\n",
            "  _warn_prf(average, modifier, msg_start, len(result))\n",
            "/usr/local/lib/python3.8/dist-packages/sklearn/metrics/_classification.py:1318: UndefinedMetricWarning: Precision and F-score are ill-defined and being set to 0.0 in labels with no predicted samples. Use `zero_division` parameter to control this behavior.\n",
            "  _warn_prf(average, modifier, msg_start, len(result))\n"
          ]
        },
        {
          "output_type": "stream",
          "name": "stdout",
          "text": [
            "63/63 [==============================] - 0s 2ms/step\n",
            "comm_round: 11 | global_acc: 66.001% | global_loss: 1.629160761833191\n",
            "63/63 [==============================] - 0s 2ms/step\n"
          ]
        },
        {
          "output_type": "stream",
          "name": "stderr",
          "text": [
            "/usr/local/lib/python3.8/dist-packages/sklearn/metrics/_classification.py:1318: UndefinedMetricWarning: Precision and F-score are ill-defined and being set to 0.0 in labels with no predicted samples. Use `zero_division` parameter to control this behavior.\n",
            "  _warn_prf(average, modifier, msg_start, len(result))\n",
            "/usr/local/lib/python3.8/dist-packages/sklearn/metrics/_classification.py:1318: UndefinedMetricWarning: Precision and F-score are ill-defined and being set to 0.0 in labels with no predicted samples. Use `zero_division` parameter to control this behavior.\n",
            "  _warn_prf(average, modifier, msg_start, len(result))\n",
            "/usr/local/lib/python3.8/dist-packages/sklearn/metrics/_classification.py:1318: UndefinedMetricWarning: Precision and F-score are ill-defined and being set to 0.0 in labels with no predicted samples. Use `zero_division` parameter to control this behavior.\n",
            "  _warn_prf(average, modifier, msg_start, len(result))\n"
          ]
        },
        {
          "output_type": "stream",
          "name": "stdout",
          "text": [
            "63/63 [==============================] - 0s 2ms/step\n",
            "comm_round: 12 | global_acc: 66.101% | global_loss: 1.6097888946533203\n",
            "63/63 [==============================] - 0s 2ms/step\n"
          ]
        },
        {
          "output_type": "stream",
          "name": "stderr",
          "text": [
            "/usr/local/lib/python3.8/dist-packages/sklearn/metrics/_classification.py:1318: UndefinedMetricWarning: Precision and F-score are ill-defined and being set to 0.0 in labels with no predicted samples. Use `zero_division` parameter to control this behavior.\n",
            "  _warn_prf(average, modifier, msg_start, len(result))\n",
            "/usr/local/lib/python3.8/dist-packages/sklearn/metrics/_classification.py:1318: UndefinedMetricWarning: Precision and F-score are ill-defined and being set to 0.0 in labels with no predicted samples. Use `zero_division` parameter to control this behavior.\n",
            "  _warn_prf(average, modifier, msg_start, len(result))\n",
            "/usr/local/lib/python3.8/dist-packages/sklearn/metrics/_classification.py:1318: UndefinedMetricWarning: Precision and F-score are ill-defined and being set to 0.0 in labels with no predicted samples. Use `zero_division` parameter to control this behavior.\n",
            "  _warn_prf(average, modifier, msg_start, len(result))\n"
          ]
        },
        {
          "output_type": "stream",
          "name": "stdout",
          "text": [
            "63/63 [==============================] - 0s 2ms/step\n",
            "comm_round: 13 | global_acc: 66.051% | global_loss: 1.6211830377578735\n",
            "63/63 [==============================] - 0s 2ms/step\n"
          ]
        },
        {
          "output_type": "stream",
          "name": "stderr",
          "text": [
            "/usr/local/lib/python3.8/dist-packages/sklearn/metrics/_classification.py:1318: UndefinedMetricWarning: Precision and F-score are ill-defined and being set to 0.0 in labels with no predicted samples. Use `zero_division` parameter to control this behavior.\n",
            "  _warn_prf(average, modifier, msg_start, len(result))\n",
            "/usr/local/lib/python3.8/dist-packages/sklearn/metrics/_classification.py:1318: UndefinedMetricWarning: Precision and F-score are ill-defined and being set to 0.0 in labels with no predicted samples. Use `zero_division` parameter to control this behavior.\n",
            "  _warn_prf(average, modifier, msg_start, len(result))\n",
            "/usr/local/lib/python3.8/dist-packages/sklearn/metrics/_classification.py:1318: UndefinedMetricWarning: Precision and F-score are ill-defined and being set to 0.0 in labels with no predicted samples. Use `zero_division` parameter to control this behavior.\n",
            "  _warn_prf(average, modifier, msg_start, len(result))\n"
          ]
        },
        {
          "output_type": "stream",
          "name": "stdout",
          "text": [
            "63/63 [==============================] - 0s 2ms/step\n",
            "comm_round: 14 | global_acc: 65.951% | global_loss: 1.6197527647018433\n",
            "63/63 [==============================] - 0s 2ms/step\n"
          ]
        },
        {
          "output_type": "stream",
          "name": "stderr",
          "text": [
            "/usr/local/lib/python3.8/dist-packages/sklearn/metrics/_classification.py:1318: UndefinedMetricWarning: Precision and F-score are ill-defined and being set to 0.0 in labels with no predicted samples. Use `zero_division` parameter to control this behavior.\n",
            "  _warn_prf(average, modifier, msg_start, len(result))\n",
            "/usr/local/lib/python3.8/dist-packages/sklearn/metrics/_classification.py:1318: UndefinedMetricWarning: Precision and F-score are ill-defined and being set to 0.0 in labels with no predicted samples. Use `zero_division` parameter to control this behavior.\n",
            "  _warn_prf(average, modifier, msg_start, len(result))\n",
            "/usr/local/lib/python3.8/dist-packages/sklearn/metrics/_classification.py:1318: UndefinedMetricWarning: Precision and F-score are ill-defined and being set to 0.0 in labels with no predicted samples. Use `zero_division` parameter to control this behavior.\n",
            "  _warn_prf(average, modifier, msg_start, len(result))\n"
          ]
        },
        {
          "output_type": "stream",
          "name": "stdout",
          "text": [
            "63/63 [==============================] - 0s 2ms/step\n",
            "comm_round: 15 | global_acc: 65.951% | global_loss: 1.622419834136963\n",
            "63/63 [==============================] - 0s 2ms/step\n"
          ]
        },
        {
          "output_type": "stream",
          "name": "stderr",
          "text": [
            "/usr/local/lib/python3.8/dist-packages/sklearn/metrics/_classification.py:1318: UndefinedMetricWarning: Precision and F-score are ill-defined and being set to 0.0 in labels with no predicted samples. Use `zero_division` parameter to control this behavior.\n",
            "  _warn_prf(average, modifier, msg_start, len(result))\n",
            "/usr/local/lib/python3.8/dist-packages/sklearn/metrics/_classification.py:1318: UndefinedMetricWarning: Precision and F-score are ill-defined and being set to 0.0 in labels with no predicted samples. Use `zero_division` parameter to control this behavior.\n",
            "  _warn_prf(average, modifier, msg_start, len(result))\n",
            "/usr/local/lib/python3.8/dist-packages/sklearn/metrics/_classification.py:1318: UndefinedMetricWarning: Precision and F-score are ill-defined and being set to 0.0 in labels with no predicted samples. Use `zero_division` parameter to control this behavior.\n",
            "  _warn_prf(average, modifier, msg_start, len(result))\n"
          ]
        },
        {
          "output_type": "stream",
          "name": "stdout",
          "text": [
            "63/63 [==============================] - 0s 2ms/step\n",
            "comm_round: 16 | global_acc: 66.001% | global_loss: 1.611541986465454\n",
            "63/63 [==============================] - 0s 2ms/step\n"
          ]
        },
        {
          "output_type": "stream",
          "name": "stderr",
          "text": [
            "/usr/local/lib/python3.8/dist-packages/sklearn/metrics/_classification.py:1318: UndefinedMetricWarning: Precision and F-score are ill-defined and being set to 0.0 in labels with no predicted samples. Use `zero_division` parameter to control this behavior.\n",
            "  _warn_prf(average, modifier, msg_start, len(result))\n",
            "/usr/local/lib/python3.8/dist-packages/sklearn/metrics/_classification.py:1318: UndefinedMetricWarning: Precision and F-score are ill-defined and being set to 0.0 in labels with no predicted samples. Use `zero_division` parameter to control this behavior.\n",
            "  _warn_prf(average, modifier, msg_start, len(result))\n",
            "/usr/local/lib/python3.8/dist-packages/sklearn/metrics/_classification.py:1318: UndefinedMetricWarning: Precision and F-score are ill-defined and being set to 0.0 in labels with no predicted samples. Use `zero_division` parameter to control this behavior.\n",
            "  _warn_prf(average, modifier, msg_start, len(result))\n"
          ]
        },
        {
          "output_type": "stream",
          "name": "stdout",
          "text": [
            "63/63 [==============================] - 0s 2ms/step\n",
            "comm_round: 17 | global_acc: 66.101% | global_loss: 1.623810052871704\n",
            "63/63 [==============================] - 0s 2ms/step\n"
          ]
        },
        {
          "output_type": "stream",
          "name": "stderr",
          "text": [
            "/usr/local/lib/python3.8/dist-packages/sklearn/metrics/_classification.py:1318: UndefinedMetricWarning: Precision and F-score are ill-defined and being set to 0.0 in labels with no predicted samples. Use `zero_division` parameter to control this behavior.\n",
            "  _warn_prf(average, modifier, msg_start, len(result))\n",
            "/usr/local/lib/python3.8/dist-packages/sklearn/metrics/_classification.py:1318: UndefinedMetricWarning: Precision and F-score are ill-defined and being set to 0.0 in labels with no predicted samples. Use `zero_division` parameter to control this behavior.\n",
            "  _warn_prf(average, modifier, msg_start, len(result))\n",
            "/usr/local/lib/python3.8/dist-packages/sklearn/metrics/_classification.py:1318: UndefinedMetricWarning: Precision and F-score are ill-defined and being set to 0.0 in labels with no predicted samples. Use `zero_division` parameter to control this behavior.\n",
            "  _warn_prf(average, modifier, msg_start, len(result))\n"
          ]
        },
        {
          "output_type": "stream",
          "name": "stdout",
          "text": [
            "63/63 [==============================] - 0s 2ms/step\n",
            "comm_round: 18 | global_acc: 66.051% | global_loss: 1.6061105728149414\n",
            "63/63 [==============================] - 0s 2ms/step\n"
          ]
        },
        {
          "output_type": "stream",
          "name": "stderr",
          "text": [
            "/usr/local/lib/python3.8/dist-packages/sklearn/metrics/_classification.py:1318: UndefinedMetricWarning: Precision and F-score are ill-defined and being set to 0.0 in labels with no predicted samples. Use `zero_division` parameter to control this behavior.\n",
            "  _warn_prf(average, modifier, msg_start, len(result))\n",
            "/usr/local/lib/python3.8/dist-packages/sklearn/metrics/_classification.py:1318: UndefinedMetricWarning: Precision and F-score are ill-defined and being set to 0.0 in labels with no predicted samples. Use `zero_division` parameter to control this behavior.\n",
            "  _warn_prf(average, modifier, msg_start, len(result))\n",
            "/usr/local/lib/python3.8/dist-packages/sklearn/metrics/_classification.py:1318: UndefinedMetricWarning: Precision and F-score are ill-defined and being set to 0.0 in labels with no predicted samples. Use `zero_division` parameter to control this behavior.\n",
            "  _warn_prf(average, modifier, msg_start, len(result))\n"
          ]
        },
        {
          "output_type": "stream",
          "name": "stdout",
          "text": [
            "63/63 [==============================] - 0s 2ms/step\n",
            "comm_round: 19 | global_acc: 66.101% | global_loss: 1.5901769399642944\n",
            "63/63 [==============================] - 0s 2ms/step\n"
          ]
        },
        {
          "output_type": "stream",
          "name": "stderr",
          "text": [
            "/usr/local/lib/python3.8/dist-packages/sklearn/metrics/_classification.py:1318: UndefinedMetricWarning: Precision and F-score are ill-defined and being set to 0.0 in labels with no predicted samples. Use `zero_division` parameter to control this behavior.\n",
            "  _warn_prf(average, modifier, msg_start, len(result))\n",
            "/usr/local/lib/python3.8/dist-packages/sklearn/metrics/_classification.py:1318: UndefinedMetricWarning: Precision and F-score are ill-defined and being set to 0.0 in labels with no predicted samples. Use `zero_division` parameter to control this behavior.\n",
            "  _warn_prf(average, modifier, msg_start, len(result))\n",
            "/usr/local/lib/python3.8/dist-packages/sklearn/metrics/_classification.py:1318: UndefinedMetricWarning: Precision and F-score are ill-defined and being set to 0.0 in labels with no predicted samples. Use `zero_division` parameter to control this behavior.\n",
            "  _warn_prf(average, modifier, msg_start, len(result))\n"
          ]
        },
        {
          "output_type": "stream",
          "name": "stdout",
          "text": [
            "63/63 [==============================] - 0s 2ms/step\n",
            "comm_round: 20 | global_acc: 66.101% | global_loss: 1.6131834983825684\n",
            "63/63 [==============================] - 0s 2ms/step\n"
          ]
        },
        {
          "output_type": "stream",
          "name": "stderr",
          "text": [
            "/usr/local/lib/python3.8/dist-packages/sklearn/metrics/_classification.py:1318: UndefinedMetricWarning: Precision and F-score are ill-defined and being set to 0.0 in labels with no predicted samples. Use `zero_division` parameter to control this behavior.\n",
            "  _warn_prf(average, modifier, msg_start, len(result))\n",
            "/usr/local/lib/python3.8/dist-packages/sklearn/metrics/_classification.py:1318: UndefinedMetricWarning: Precision and F-score are ill-defined and being set to 0.0 in labels with no predicted samples. Use `zero_division` parameter to control this behavior.\n",
            "  _warn_prf(average, modifier, msg_start, len(result))\n",
            "/usr/local/lib/python3.8/dist-packages/sklearn/metrics/_classification.py:1318: UndefinedMetricWarning: Precision and F-score are ill-defined and being set to 0.0 in labels with no predicted samples. Use `zero_division` parameter to control this behavior.\n",
            "  _warn_prf(average, modifier, msg_start, len(result))\n"
          ]
        },
        {
          "output_type": "stream",
          "name": "stdout",
          "text": [
            "63/63 [==============================] - 0s 2ms/step\n",
            "comm_round: 21 | global_acc: 66.051% | global_loss: 1.6172378063201904\n",
            "63/63 [==============================] - 0s 2ms/step\n"
          ]
        },
        {
          "output_type": "stream",
          "name": "stderr",
          "text": [
            "/usr/local/lib/python3.8/dist-packages/sklearn/metrics/_classification.py:1318: UndefinedMetricWarning: Precision and F-score are ill-defined and being set to 0.0 in labels with no predicted samples. Use `zero_division` parameter to control this behavior.\n",
            "  _warn_prf(average, modifier, msg_start, len(result))\n",
            "/usr/local/lib/python3.8/dist-packages/sklearn/metrics/_classification.py:1318: UndefinedMetricWarning: Precision and F-score are ill-defined and being set to 0.0 in labels with no predicted samples. Use `zero_division` parameter to control this behavior.\n",
            "  _warn_prf(average, modifier, msg_start, len(result))\n",
            "/usr/local/lib/python3.8/dist-packages/sklearn/metrics/_classification.py:1318: UndefinedMetricWarning: Precision and F-score are ill-defined and being set to 0.0 in labels with no predicted samples. Use `zero_division` parameter to control this behavior.\n",
            "  _warn_prf(average, modifier, msg_start, len(result))\n"
          ]
        },
        {
          "output_type": "stream",
          "name": "stdout",
          "text": [
            "63/63 [==============================] - 0s 2ms/step\n",
            "comm_round: 22 | global_acc: 66.201% | global_loss: 1.6147520542144775\n",
            "63/63 [==============================] - 0s 2ms/step\n"
          ]
        },
        {
          "output_type": "stream",
          "name": "stderr",
          "text": [
            "/usr/local/lib/python3.8/dist-packages/sklearn/metrics/_classification.py:1318: UndefinedMetricWarning: Precision and F-score are ill-defined and being set to 0.0 in labels with no predicted samples. Use `zero_division` parameter to control this behavior.\n",
            "  _warn_prf(average, modifier, msg_start, len(result))\n",
            "/usr/local/lib/python3.8/dist-packages/sklearn/metrics/_classification.py:1318: UndefinedMetricWarning: Precision and F-score are ill-defined and being set to 0.0 in labels with no predicted samples. Use `zero_division` parameter to control this behavior.\n",
            "  _warn_prf(average, modifier, msg_start, len(result))\n",
            "/usr/local/lib/python3.8/dist-packages/sklearn/metrics/_classification.py:1318: UndefinedMetricWarning: Precision and F-score are ill-defined and being set to 0.0 in labels with no predicted samples. Use `zero_division` parameter to control this behavior.\n",
            "  _warn_prf(average, modifier, msg_start, len(result))\n"
          ]
        },
        {
          "output_type": "stream",
          "name": "stdout",
          "text": [
            "63/63 [==============================] - 0s 2ms/step\n",
            "comm_round: 23 | global_acc: 66.001% | global_loss: 1.633989691734314\n",
            "63/63 [==============================] - 0s 2ms/step\n"
          ]
        },
        {
          "output_type": "stream",
          "name": "stderr",
          "text": [
            "/usr/local/lib/python3.8/dist-packages/sklearn/metrics/_classification.py:1318: UndefinedMetricWarning: Precision and F-score are ill-defined and being set to 0.0 in labels with no predicted samples. Use `zero_division` parameter to control this behavior.\n",
            "  _warn_prf(average, modifier, msg_start, len(result))\n",
            "/usr/local/lib/python3.8/dist-packages/sklearn/metrics/_classification.py:1318: UndefinedMetricWarning: Precision and F-score are ill-defined and being set to 0.0 in labels with no predicted samples. Use `zero_division` parameter to control this behavior.\n",
            "  _warn_prf(average, modifier, msg_start, len(result))\n",
            "/usr/local/lib/python3.8/dist-packages/sklearn/metrics/_classification.py:1318: UndefinedMetricWarning: Precision and F-score are ill-defined and being set to 0.0 in labels with no predicted samples. Use `zero_division` parameter to control this behavior.\n",
            "  _warn_prf(average, modifier, msg_start, len(result))\n"
          ]
        },
        {
          "output_type": "stream",
          "name": "stdout",
          "text": [
            "63/63 [==============================] - 0s 2ms/step\n",
            "comm_round: 24 | global_acc: 66.101% | global_loss: 1.653146505355835\n",
            "63/63 [==============================] - 0s 2ms/step\n"
          ]
        },
        {
          "output_type": "stream",
          "name": "stderr",
          "text": [
            "/usr/local/lib/python3.8/dist-packages/sklearn/metrics/_classification.py:1318: UndefinedMetricWarning: Precision and F-score are ill-defined and being set to 0.0 in labels with no predicted samples. Use `zero_division` parameter to control this behavior.\n",
            "  _warn_prf(average, modifier, msg_start, len(result))\n",
            "/usr/local/lib/python3.8/dist-packages/sklearn/metrics/_classification.py:1318: UndefinedMetricWarning: Precision and F-score are ill-defined and being set to 0.0 in labels with no predicted samples. Use `zero_division` parameter to control this behavior.\n",
            "  _warn_prf(average, modifier, msg_start, len(result))\n",
            "/usr/local/lib/python3.8/dist-packages/sklearn/metrics/_classification.py:1318: UndefinedMetricWarning: Precision and F-score are ill-defined and being set to 0.0 in labels with no predicted samples. Use `zero_division` parameter to control this behavior.\n",
            "  _warn_prf(average, modifier, msg_start, len(result))\n"
          ]
        },
        {
          "output_type": "stream",
          "name": "stdout",
          "text": [
            "63/63 [==============================] - 0s 2ms/step\n",
            "comm_round: 25 | global_acc: 66.001% | global_loss: 1.62153160572052\n",
            "63/63 [==============================] - 0s 2ms/step\n"
          ]
        },
        {
          "output_type": "stream",
          "name": "stderr",
          "text": [
            "/usr/local/lib/python3.8/dist-packages/sklearn/metrics/_classification.py:1318: UndefinedMetricWarning: Precision and F-score are ill-defined and being set to 0.0 in labels with no predicted samples. Use `zero_division` parameter to control this behavior.\n",
            "  _warn_prf(average, modifier, msg_start, len(result))\n",
            "/usr/local/lib/python3.8/dist-packages/sklearn/metrics/_classification.py:1318: UndefinedMetricWarning: Precision and F-score are ill-defined and being set to 0.0 in labels with no predicted samples. Use `zero_division` parameter to control this behavior.\n",
            "  _warn_prf(average, modifier, msg_start, len(result))\n",
            "/usr/local/lib/python3.8/dist-packages/sklearn/metrics/_classification.py:1318: UndefinedMetricWarning: Precision and F-score are ill-defined and being set to 0.0 in labels with no predicted samples. Use `zero_division` parameter to control this behavior.\n",
            "  _warn_prf(average, modifier, msg_start, len(result))\n"
          ]
        },
        {
          "output_type": "stream",
          "name": "stdout",
          "text": [
            "63/63 [==============================] - 0s 2ms/step\n",
            "comm_round: 26 | global_acc: 66.101% | global_loss: 1.6177527904510498\n",
            "63/63 [==============================] - 0s 2ms/step\n"
          ]
        },
        {
          "output_type": "stream",
          "name": "stderr",
          "text": [
            "/usr/local/lib/python3.8/dist-packages/sklearn/metrics/_classification.py:1318: UndefinedMetricWarning: Precision and F-score are ill-defined and being set to 0.0 in labels with no predicted samples. Use `zero_division` parameter to control this behavior.\n",
            "  _warn_prf(average, modifier, msg_start, len(result))\n",
            "/usr/local/lib/python3.8/dist-packages/sklearn/metrics/_classification.py:1318: UndefinedMetricWarning: Precision and F-score are ill-defined and being set to 0.0 in labels with no predicted samples. Use `zero_division` parameter to control this behavior.\n",
            "  _warn_prf(average, modifier, msg_start, len(result))\n",
            "/usr/local/lib/python3.8/dist-packages/sklearn/metrics/_classification.py:1318: UndefinedMetricWarning: Precision and F-score are ill-defined and being set to 0.0 in labels with no predicted samples. Use `zero_division` parameter to control this behavior.\n",
            "  _warn_prf(average, modifier, msg_start, len(result))\n"
          ]
        },
        {
          "output_type": "stream",
          "name": "stdout",
          "text": [
            "63/63 [==============================] - 0s 2ms/step\n",
            "comm_round: 27 | global_acc: 66.201% | global_loss: 1.6099218130111694\n",
            "63/63 [==============================] - 0s 2ms/step\n"
          ]
        },
        {
          "output_type": "stream",
          "name": "stderr",
          "text": [
            "/usr/local/lib/python3.8/dist-packages/sklearn/metrics/_classification.py:1318: UndefinedMetricWarning: Precision and F-score are ill-defined and being set to 0.0 in labels with no predicted samples. Use `zero_division` parameter to control this behavior.\n",
            "  _warn_prf(average, modifier, msg_start, len(result))\n",
            "/usr/local/lib/python3.8/dist-packages/sklearn/metrics/_classification.py:1318: UndefinedMetricWarning: Precision and F-score are ill-defined and being set to 0.0 in labels with no predicted samples. Use `zero_division` parameter to control this behavior.\n",
            "  _warn_prf(average, modifier, msg_start, len(result))\n",
            "/usr/local/lib/python3.8/dist-packages/sklearn/metrics/_classification.py:1318: UndefinedMetricWarning: Precision and F-score are ill-defined and being set to 0.0 in labels with no predicted samples. Use `zero_division` parameter to control this behavior.\n",
            "  _warn_prf(average, modifier, msg_start, len(result))\n"
          ]
        },
        {
          "output_type": "stream",
          "name": "stdout",
          "text": [
            "63/63 [==============================] - 0s 2ms/step\n",
            "comm_round: 28 | global_acc: 66.201% | global_loss: 1.6001791954040527\n",
            "63/63 [==============================] - 0s 2ms/step\n"
          ]
        },
        {
          "output_type": "stream",
          "name": "stderr",
          "text": [
            "/usr/local/lib/python3.8/dist-packages/sklearn/metrics/_classification.py:1318: UndefinedMetricWarning: Precision and F-score are ill-defined and being set to 0.0 in labels with no predicted samples. Use `zero_division` parameter to control this behavior.\n",
            "  _warn_prf(average, modifier, msg_start, len(result))\n",
            "/usr/local/lib/python3.8/dist-packages/sklearn/metrics/_classification.py:1318: UndefinedMetricWarning: Precision and F-score are ill-defined and being set to 0.0 in labels with no predicted samples. Use `zero_division` parameter to control this behavior.\n",
            "  _warn_prf(average, modifier, msg_start, len(result))\n",
            "/usr/local/lib/python3.8/dist-packages/sklearn/metrics/_classification.py:1318: UndefinedMetricWarning: Precision and F-score are ill-defined and being set to 0.0 in labels with no predicted samples. Use `zero_division` parameter to control this behavior.\n",
            "  _warn_prf(average, modifier, msg_start, len(result))\n"
          ]
        },
        {
          "output_type": "stream",
          "name": "stdout",
          "text": [
            "63/63 [==============================] - 0s 2ms/step\n",
            "comm_round: 29 | global_acc: 66.400% | global_loss: 1.6419533491134644\n",
            "63/63 [==============================] - 0s 2ms/step\n"
          ]
        },
        {
          "output_type": "stream",
          "name": "stderr",
          "text": [
            "/usr/local/lib/python3.8/dist-packages/sklearn/metrics/_classification.py:1318: UndefinedMetricWarning: Precision and F-score are ill-defined and being set to 0.0 in labels with no predicted samples. Use `zero_division` parameter to control this behavior.\n",
            "  _warn_prf(average, modifier, msg_start, len(result))\n",
            "/usr/local/lib/python3.8/dist-packages/sklearn/metrics/_classification.py:1318: UndefinedMetricWarning: Precision and F-score are ill-defined and being set to 0.0 in labels with no predicted samples. Use `zero_division` parameter to control this behavior.\n",
            "  _warn_prf(average, modifier, msg_start, len(result))\n",
            "/usr/local/lib/python3.8/dist-packages/sklearn/metrics/_classification.py:1318: UndefinedMetricWarning: Precision and F-score are ill-defined and being set to 0.0 in labels with no predicted samples. Use `zero_division` parameter to control this behavior.\n",
            "  _warn_prf(average, modifier, msg_start, len(result))\n"
          ]
        },
        {
          "output_type": "stream",
          "name": "stdout",
          "text": [
            "63/63 [==============================] - 0s 2ms/step\n",
            "comm_round: 30 | global_acc: 66.251% | global_loss: 1.6244690418243408\n",
            "63/63 [==============================] - 0s 2ms/step\n"
          ]
        },
        {
          "output_type": "stream",
          "name": "stderr",
          "text": [
            "/usr/local/lib/python3.8/dist-packages/sklearn/metrics/_classification.py:1318: UndefinedMetricWarning: Precision and F-score are ill-defined and being set to 0.0 in labels with no predicted samples. Use `zero_division` parameter to control this behavior.\n",
            "  _warn_prf(average, modifier, msg_start, len(result))\n",
            "/usr/local/lib/python3.8/dist-packages/sklearn/metrics/_classification.py:1318: UndefinedMetricWarning: Precision and F-score are ill-defined and being set to 0.0 in labels with no predicted samples. Use `zero_division` parameter to control this behavior.\n",
            "  _warn_prf(average, modifier, msg_start, len(result))\n",
            "/usr/local/lib/python3.8/dist-packages/sklearn/metrics/_classification.py:1318: UndefinedMetricWarning: Precision and F-score are ill-defined and being set to 0.0 in labels with no predicted samples. Use `zero_division` parameter to control this behavior.\n",
            "  _warn_prf(average, modifier, msg_start, len(result))\n"
          ]
        },
        {
          "output_type": "stream",
          "name": "stdout",
          "text": [
            "63/63 [==============================] - 0s 2ms/step\n",
            "comm_round: 31 | global_acc: 66.051% | global_loss: 1.6220827102661133\n",
            "63/63 [==============================] - 0s 2ms/step\n"
          ]
        },
        {
          "output_type": "stream",
          "name": "stderr",
          "text": [
            "/usr/local/lib/python3.8/dist-packages/sklearn/metrics/_classification.py:1318: UndefinedMetricWarning: Precision and F-score are ill-defined and being set to 0.0 in labels with no predicted samples. Use `zero_division` parameter to control this behavior.\n",
            "  _warn_prf(average, modifier, msg_start, len(result))\n",
            "/usr/local/lib/python3.8/dist-packages/sklearn/metrics/_classification.py:1318: UndefinedMetricWarning: Precision and F-score are ill-defined and being set to 0.0 in labels with no predicted samples. Use `zero_division` parameter to control this behavior.\n",
            "  _warn_prf(average, modifier, msg_start, len(result))\n",
            "/usr/local/lib/python3.8/dist-packages/sklearn/metrics/_classification.py:1318: UndefinedMetricWarning: Precision and F-score are ill-defined and being set to 0.0 in labels with no predicted samples. Use `zero_division` parameter to control this behavior.\n",
            "  _warn_prf(average, modifier, msg_start, len(result))\n"
          ]
        },
        {
          "output_type": "stream",
          "name": "stdout",
          "text": [
            "63/63 [==============================] - 0s 2ms/step\n",
            "comm_round: 32 | global_acc: 66.251% | global_loss: 1.5982511043548584\n",
            "63/63 [==============================] - 0s 2ms/step\n"
          ]
        },
        {
          "output_type": "stream",
          "name": "stderr",
          "text": [
            "/usr/local/lib/python3.8/dist-packages/sklearn/metrics/_classification.py:1318: UndefinedMetricWarning: Precision and F-score are ill-defined and being set to 0.0 in labels with no predicted samples. Use `zero_division` parameter to control this behavior.\n",
            "  _warn_prf(average, modifier, msg_start, len(result))\n",
            "/usr/local/lib/python3.8/dist-packages/sklearn/metrics/_classification.py:1318: UndefinedMetricWarning: Precision and F-score are ill-defined and being set to 0.0 in labels with no predicted samples. Use `zero_division` parameter to control this behavior.\n",
            "  _warn_prf(average, modifier, msg_start, len(result))\n",
            "/usr/local/lib/python3.8/dist-packages/sklearn/metrics/_classification.py:1318: UndefinedMetricWarning: Precision and F-score are ill-defined and being set to 0.0 in labels with no predicted samples. Use `zero_division` parameter to control this behavior.\n",
            "  _warn_prf(average, modifier, msg_start, len(result))\n"
          ]
        },
        {
          "output_type": "stream",
          "name": "stdout",
          "text": [
            "63/63 [==============================] - 0s 2ms/step\n",
            "comm_round: 33 | global_acc: 66.301% | global_loss: 1.6038857698440552\n",
            "63/63 [==============================] - 0s 2ms/step\n"
          ]
        },
        {
          "output_type": "stream",
          "name": "stderr",
          "text": [
            "/usr/local/lib/python3.8/dist-packages/sklearn/metrics/_classification.py:1318: UndefinedMetricWarning: Precision and F-score are ill-defined and being set to 0.0 in labels with no predicted samples. Use `zero_division` parameter to control this behavior.\n",
            "  _warn_prf(average, modifier, msg_start, len(result))\n",
            "/usr/local/lib/python3.8/dist-packages/sklearn/metrics/_classification.py:1318: UndefinedMetricWarning: Precision and F-score are ill-defined and being set to 0.0 in labels with no predicted samples. Use `zero_division` parameter to control this behavior.\n",
            "  _warn_prf(average, modifier, msg_start, len(result))\n",
            "/usr/local/lib/python3.8/dist-packages/sklearn/metrics/_classification.py:1318: UndefinedMetricWarning: Precision and F-score are ill-defined and being set to 0.0 in labels with no predicted samples. Use `zero_division` parameter to control this behavior.\n",
            "  _warn_prf(average, modifier, msg_start, len(result))\n"
          ]
        },
        {
          "output_type": "stream",
          "name": "stdout",
          "text": [
            "63/63 [==============================] - 0s 2ms/step\n",
            "comm_round: 34 | global_acc: 66.301% | global_loss: 1.6003109216690063\n",
            "63/63 [==============================] - 0s 2ms/step\n"
          ]
        },
        {
          "output_type": "stream",
          "name": "stderr",
          "text": [
            "/usr/local/lib/python3.8/dist-packages/sklearn/metrics/_classification.py:1318: UndefinedMetricWarning: Precision and F-score are ill-defined and being set to 0.0 in labels with no predicted samples. Use `zero_division` parameter to control this behavior.\n",
            "  _warn_prf(average, modifier, msg_start, len(result))\n",
            "/usr/local/lib/python3.8/dist-packages/sklearn/metrics/_classification.py:1318: UndefinedMetricWarning: Precision and F-score are ill-defined and being set to 0.0 in labels with no predicted samples. Use `zero_division` parameter to control this behavior.\n",
            "  _warn_prf(average, modifier, msg_start, len(result))\n",
            "/usr/local/lib/python3.8/dist-packages/sklearn/metrics/_classification.py:1318: UndefinedMetricWarning: Precision and F-score are ill-defined and being set to 0.0 in labels with no predicted samples. Use `zero_division` parameter to control this behavior.\n",
            "  _warn_prf(average, modifier, msg_start, len(result))\n"
          ]
        },
        {
          "output_type": "stream",
          "name": "stdout",
          "text": [
            "63/63 [==============================] - 0s 2ms/step\n",
            "comm_round: 35 | global_acc: 66.251% | global_loss: 1.6039049625396729\n",
            "63/63 [==============================] - 0s 2ms/step\n"
          ]
        },
        {
          "output_type": "stream",
          "name": "stderr",
          "text": [
            "/usr/local/lib/python3.8/dist-packages/sklearn/metrics/_classification.py:1318: UndefinedMetricWarning: Precision and F-score are ill-defined and being set to 0.0 in labels with no predicted samples. Use `zero_division` parameter to control this behavior.\n",
            "  _warn_prf(average, modifier, msg_start, len(result))\n",
            "/usr/local/lib/python3.8/dist-packages/sklearn/metrics/_classification.py:1318: UndefinedMetricWarning: Precision and F-score are ill-defined and being set to 0.0 in labels with no predicted samples. Use `zero_division` parameter to control this behavior.\n",
            "  _warn_prf(average, modifier, msg_start, len(result))\n",
            "/usr/local/lib/python3.8/dist-packages/sklearn/metrics/_classification.py:1318: UndefinedMetricWarning: Precision and F-score are ill-defined and being set to 0.0 in labels with no predicted samples. Use `zero_division` parameter to control this behavior.\n",
            "  _warn_prf(average, modifier, msg_start, len(result))\n"
          ]
        },
        {
          "output_type": "stream",
          "name": "stdout",
          "text": [
            "63/63 [==============================] - 0s 2ms/step\n",
            "comm_round: 36 | global_acc: 66.600% | global_loss: 1.6312811374664307\n",
            "63/63 [==============================] - 0s 2ms/step\n"
          ]
        },
        {
          "output_type": "stream",
          "name": "stderr",
          "text": [
            "/usr/local/lib/python3.8/dist-packages/sklearn/metrics/_classification.py:1318: UndefinedMetricWarning: Precision and F-score are ill-defined and being set to 0.0 in labels with no predicted samples. Use `zero_division` parameter to control this behavior.\n",
            "  _warn_prf(average, modifier, msg_start, len(result))\n",
            "/usr/local/lib/python3.8/dist-packages/sklearn/metrics/_classification.py:1318: UndefinedMetricWarning: Precision and F-score are ill-defined and being set to 0.0 in labels with no predicted samples. Use `zero_division` parameter to control this behavior.\n",
            "  _warn_prf(average, modifier, msg_start, len(result))\n",
            "/usr/local/lib/python3.8/dist-packages/sklearn/metrics/_classification.py:1318: UndefinedMetricWarning: Precision and F-score are ill-defined and being set to 0.0 in labels with no predicted samples. Use `zero_division` parameter to control this behavior.\n",
            "  _warn_prf(average, modifier, msg_start, len(result))\n"
          ]
        },
        {
          "output_type": "stream",
          "name": "stdout",
          "text": [
            "63/63 [==============================] - 0s 2ms/step\n",
            "comm_round: 37 | global_acc: 66.301% | global_loss: 1.5881730318069458\n",
            "63/63 [==============================] - 0s 2ms/step\n"
          ]
        },
        {
          "output_type": "stream",
          "name": "stderr",
          "text": [
            "/usr/local/lib/python3.8/dist-packages/sklearn/metrics/_classification.py:1318: UndefinedMetricWarning: Precision and F-score are ill-defined and being set to 0.0 in labels with no predicted samples. Use `zero_division` parameter to control this behavior.\n",
            "  _warn_prf(average, modifier, msg_start, len(result))\n",
            "/usr/local/lib/python3.8/dist-packages/sklearn/metrics/_classification.py:1318: UndefinedMetricWarning: Precision and F-score are ill-defined and being set to 0.0 in labels with no predicted samples. Use `zero_division` parameter to control this behavior.\n",
            "  _warn_prf(average, modifier, msg_start, len(result))\n",
            "/usr/local/lib/python3.8/dist-packages/sklearn/metrics/_classification.py:1318: UndefinedMetricWarning: Precision and F-score are ill-defined and being set to 0.0 in labels with no predicted samples. Use `zero_division` parameter to control this behavior.\n",
            "  _warn_prf(average, modifier, msg_start, len(result))\n"
          ]
        },
        {
          "output_type": "stream",
          "name": "stdout",
          "text": [
            "63/63 [==============================] - 0s 2ms/step\n",
            "comm_round: 38 | global_acc: 66.350% | global_loss: 1.5926533937454224\n",
            "63/63 [==============================] - 0s 2ms/step\n"
          ]
        },
        {
          "output_type": "stream",
          "name": "stderr",
          "text": [
            "/usr/local/lib/python3.8/dist-packages/sklearn/metrics/_classification.py:1318: UndefinedMetricWarning: Precision and F-score are ill-defined and being set to 0.0 in labels with no predicted samples. Use `zero_division` parameter to control this behavior.\n",
            "  _warn_prf(average, modifier, msg_start, len(result))\n",
            "/usr/local/lib/python3.8/dist-packages/sklearn/metrics/_classification.py:1318: UndefinedMetricWarning: Precision and F-score are ill-defined and being set to 0.0 in labels with no predicted samples. Use `zero_division` parameter to control this behavior.\n",
            "  _warn_prf(average, modifier, msg_start, len(result))\n",
            "/usr/local/lib/python3.8/dist-packages/sklearn/metrics/_classification.py:1318: UndefinedMetricWarning: Precision and F-score are ill-defined and being set to 0.0 in labels with no predicted samples. Use `zero_division` parameter to control this behavior.\n",
            "  _warn_prf(average, modifier, msg_start, len(result))\n"
          ]
        },
        {
          "output_type": "stream",
          "name": "stdout",
          "text": [
            "63/63 [==============================] - 0s 2ms/step\n",
            "comm_round: 39 | global_acc: 66.301% | global_loss: 1.5897518396377563\n",
            "63/63 [==============================] - 0s 2ms/step\n"
          ]
        },
        {
          "output_type": "stream",
          "name": "stderr",
          "text": [
            "/usr/local/lib/python3.8/dist-packages/sklearn/metrics/_classification.py:1318: UndefinedMetricWarning: Precision and F-score are ill-defined and being set to 0.0 in labels with no predicted samples. Use `zero_division` parameter to control this behavior.\n",
            "  _warn_prf(average, modifier, msg_start, len(result))\n",
            "/usr/local/lib/python3.8/dist-packages/sklearn/metrics/_classification.py:1318: UndefinedMetricWarning: Precision and F-score are ill-defined and being set to 0.0 in labels with no predicted samples. Use `zero_division` parameter to control this behavior.\n",
            "  _warn_prf(average, modifier, msg_start, len(result))\n",
            "/usr/local/lib/python3.8/dist-packages/sklearn/metrics/_classification.py:1318: UndefinedMetricWarning: Precision and F-score are ill-defined and being set to 0.0 in labels with no predicted samples. Use `zero_division` parameter to control this behavior.\n",
            "  _warn_prf(average, modifier, msg_start, len(result))\n"
          ]
        },
        {
          "output_type": "stream",
          "name": "stdout",
          "text": [
            "63/63 [==============================] - 0s 2ms/step\n",
            "comm_round: 40 | global_acc: 66.301% | global_loss: 1.582818865776062\n",
            "63/63 [==============================] - 0s 2ms/step\n"
          ]
        },
        {
          "output_type": "stream",
          "name": "stderr",
          "text": [
            "/usr/local/lib/python3.8/dist-packages/sklearn/metrics/_classification.py:1318: UndefinedMetricWarning: Precision and F-score are ill-defined and being set to 0.0 in labels with no predicted samples. Use `zero_division` parameter to control this behavior.\n",
            "  _warn_prf(average, modifier, msg_start, len(result))\n",
            "/usr/local/lib/python3.8/dist-packages/sklearn/metrics/_classification.py:1318: UndefinedMetricWarning: Precision and F-score are ill-defined and being set to 0.0 in labels with no predicted samples. Use `zero_division` parameter to control this behavior.\n",
            "  _warn_prf(average, modifier, msg_start, len(result))\n",
            "/usr/local/lib/python3.8/dist-packages/sklearn/metrics/_classification.py:1318: UndefinedMetricWarning: Precision and F-score are ill-defined and being set to 0.0 in labels with no predicted samples. Use `zero_division` parameter to control this behavior.\n",
            "  _warn_prf(average, modifier, msg_start, len(result))\n"
          ]
        },
        {
          "output_type": "stream",
          "name": "stdout",
          "text": [
            "63/63 [==============================] - 0s 2ms/step\n",
            "comm_round: 41 | global_acc: 66.550% | global_loss: 1.6110446453094482\n",
            "63/63 [==============================] - 0s 2ms/step\n"
          ]
        },
        {
          "output_type": "stream",
          "name": "stderr",
          "text": [
            "/usr/local/lib/python3.8/dist-packages/sklearn/metrics/_classification.py:1318: UndefinedMetricWarning: Precision and F-score are ill-defined and being set to 0.0 in labels with no predicted samples. Use `zero_division` parameter to control this behavior.\n",
            "  _warn_prf(average, modifier, msg_start, len(result))\n",
            "/usr/local/lib/python3.8/dist-packages/sklearn/metrics/_classification.py:1318: UndefinedMetricWarning: Precision and F-score are ill-defined and being set to 0.0 in labels with no predicted samples. Use `zero_division` parameter to control this behavior.\n",
            "  _warn_prf(average, modifier, msg_start, len(result))\n",
            "/usr/local/lib/python3.8/dist-packages/sklearn/metrics/_classification.py:1318: UndefinedMetricWarning: Precision and F-score are ill-defined and being set to 0.0 in labels with no predicted samples. Use `zero_division` parameter to control this behavior.\n",
            "  _warn_prf(average, modifier, msg_start, len(result))\n"
          ]
        },
        {
          "output_type": "stream",
          "name": "stdout",
          "text": [
            "63/63 [==============================] - 0s 2ms/step\n",
            "comm_round: 42 | global_acc: 66.550% | global_loss: 1.6132272481918335\n",
            "63/63 [==============================] - 0s 2ms/step\n"
          ]
        },
        {
          "output_type": "stream",
          "name": "stderr",
          "text": [
            "/usr/local/lib/python3.8/dist-packages/sklearn/metrics/_classification.py:1318: UndefinedMetricWarning: Precision and F-score are ill-defined and being set to 0.0 in labels with no predicted samples. Use `zero_division` parameter to control this behavior.\n",
            "  _warn_prf(average, modifier, msg_start, len(result))\n",
            "/usr/local/lib/python3.8/dist-packages/sklearn/metrics/_classification.py:1318: UndefinedMetricWarning: Precision and F-score are ill-defined and being set to 0.0 in labels with no predicted samples. Use `zero_division` parameter to control this behavior.\n",
            "  _warn_prf(average, modifier, msg_start, len(result))\n",
            "/usr/local/lib/python3.8/dist-packages/sklearn/metrics/_classification.py:1318: UndefinedMetricWarning: Precision and F-score are ill-defined and being set to 0.0 in labels with no predicted samples. Use `zero_division` parameter to control this behavior.\n",
            "  _warn_prf(average, modifier, msg_start, len(result))\n"
          ]
        },
        {
          "output_type": "stream",
          "name": "stdout",
          "text": [
            "63/63 [==============================] - 0s 2ms/step\n",
            "comm_round: 43 | global_acc: 66.400% | global_loss: 1.5800896883010864\n",
            "63/63 [==============================] - 0s 2ms/step\n"
          ]
        },
        {
          "output_type": "stream",
          "name": "stderr",
          "text": [
            "/usr/local/lib/python3.8/dist-packages/sklearn/metrics/_classification.py:1318: UndefinedMetricWarning: Precision and F-score are ill-defined and being set to 0.0 in labels with no predicted samples. Use `zero_division` parameter to control this behavior.\n",
            "  _warn_prf(average, modifier, msg_start, len(result))\n",
            "/usr/local/lib/python3.8/dist-packages/sklearn/metrics/_classification.py:1318: UndefinedMetricWarning: Precision and F-score are ill-defined and being set to 0.0 in labels with no predicted samples. Use `zero_division` parameter to control this behavior.\n",
            "  _warn_prf(average, modifier, msg_start, len(result))\n",
            "/usr/local/lib/python3.8/dist-packages/sklearn/metrics/_classification.py:1318: UndefinedMetricWarning: Precision and F-score are ill-defined and being set to 0.0 in labels with no predicted samples. Use `zero_division` parameter to control this behavior.\n",
            "  _warn_prf(average, modifier, msg_start, len(result))\n"
          ]
        },
        {
          "output_type": "stream",
          "name": "stdout",
          "text": [
            "63/63 [==============================] - 0s 2ms/step\n",
            "comm_round: 44 | global_acc: 66.550% | global_loss: 1.608547329902649\n",
            "63/63 [==============================] - 0s 2ms/step\n"
          ]
        },
        {
          "output_type": "stream",
          "name": "stderr",
          "text": [
            "/usr/local/lib/python3.8/dist-packages/sklearn/metrics/_classification.py:1318: UndefinedMetricWarning: Precision and F-score are ill-defined and being set to 0.0 in labels with no predicted samples. Use `zero_division` parameter to control this behavior.\n",
            "  _warn_prf(average, modifier, msg_start, len(result))\n",
            "/usr/local/lib/python3.8/dist-packages/sklearn/metrics/_classification.py:1318: UndefinedMetricWarning: Precision and F-score are ill-defined and being set to 0.0 in labels with no predicted samples. Use `zero_division` parameter to control this behavior.\n",
            "  _warn_prf(average, modifier, msg_start, len(result))\n",
            "/usr/local/lib/python3.8/dist-packages/sklearn/metrics/_classification.py:1318: UndefinedMetricWarning: Precision and F-score are ill-defined and being set to 0.0 in labels with no predicted samples. Use `zero_division` parameter to control this behavior.\n",
            "  _warn_prf(average, modifier, msg_start, len(result))\n"
          ]
        },
        {
          "output_type": "stream",
          "name": "stdout",
          "text": [
            "63/63 [==============================] - 0s 2ms/step\n",
            "comm_round: 45 | global_acc: 66.600% | global_loss: 1.5856695175170898\n",
            "63/63 [==============================] - 0s 2ms/step\n"
          ]
        },
        {
          "output_type": "stream",
          "name": "stderr",
          "text": [
            "/usr/local/lib/python3.8/dist-packages/sklearn/metrics/_classification.py:1318: UndefinedMetricWarning: Precision and F-score are ill-defined and being set to 0.0 in labels with no predicted samples. Use `zero_division` parameter to control this behavior.\n",
            "  _warn_prf(average, modifier, msg_start, len(result))\n",
            "/usr/local/lib/python3.8/dist-packages/sklearn/metrics/_classification.py:1318: UndefinedMetricWarning: Precision and F-score are ill-defined and being set to 0.0 in labels with no predicted samples. Use `zero_division` parameter to control this behavior.\n",
            "  _warn_prf(average, modifier, msg_start, len(result))\n",
            "/usr/local/lib/python3.8/dist-packages/sklearn/metrics/_classification.py:1318: UndefinedMetricWarning: Precision and F-score are ill-defined and being set to 0.0 in labels with no predicted samples. Use `zero_division` parameter to control this behavior.\n",
            "  _warn_prf(average, modifier, msg_start, len(result))\n"
          ]
        },
        {
          "output_type": "stream",
          "name": "stdout",
          "text": [
            "63/63 [==============================] - 0s 2ms/step\n",
            "comm_round: 46 | global_acc: 66.600% | global_loss: 1.5950132608413696\n",
            "63/63 [==============================] - 0s 2ms/step\n"
          ]
        },
        {
          "output_type": "stream",
          "name": "stderr",
          "text": [
            "/usr/local/lib/python3.8/dist-packages/sklearn/metrics/_classification.py:1318: UndefinedMetricWarning: Precision and F-score are ill-defined and being set to 0.0 in labels with no predicted samples. Use `zero_division` parameter to control this behavior.\n",
            "  _warn_prf(average, modifier, msg_start, len(result))\n",
            "/usr/local/lib/python3.8/dist-packages/sklearn/metrics/_classification.py:1318: UndefinedMetricWarning: Precision and F-score are ill-defined and being set to 0.0 in labels with no predicted samples. Use `zero_division` parameter to control this behavior.\n",
            "  _warn_prf(average, modifier, msg_start, len(result))\n",
            "/usr/local/lib/python3.8/dist-packages/sklearn/metrics/_classification.py:1318: UndefinedMetricWarning: Precision and F-score are ill-defined and being set to 0.0 in labels with no predicted samples. Use `zero_division` parameter to control this behavior.\n",
            "  _warn_prf(average, modifier, msg_start, len(result))\n"
          ]
        },
        {
          "output_type": "stream",
          "name": "stdout",
          "text": [
            "63/63 [==============================] - 0s 3ms/step\n",
            "comm_round: 47 | global_acc: 66.600% | global_loss: 1.5889278650283813\n",
            "63/63 [==============================] - 0s 4ms/step\n"
          ]
        },
        {
          "output_type": "stream",
          "name": "stderr",
          "text": [
            "/usr/local/lib/python3.8/dist-packages/sklearn/metrics/_classification.py:1318: UndefinedMetricWarning: Precision and F-score are ill-defined and being set to 0.0 in labels with no predicted samples. Use `zero_division` parameter to control this behavior.\n",
            "  _warn_prf(average, modifier, msg_start, len(result))\n",
            "/usr/local/lib/python3.8/dist-packages/sklearn/metrics/_classification.py:1318: UndefinedMetricWarning: Precision and F-score are ill-defined and being set to 0.0 in labels with no predicted samples. Use `zero_division` parameter to control this behavior.\n",
            "  _warn_prf(average, modifier, msg_start, len(result))\n",
            "/usr/local/lib/python3.8/dist-packages/sklearn/metrics/_classification.py:1318: UndefinedMetricWarning: Precision and F-score are ill-defined and being set to 0.0 in labels with no predicted samples. Use `zero_division` parameter to control this behavior.\n",
            "  _warn_prf(average, modifier, msg_start, len(result))\n"
          ]
        },
        {
          "output_type": "stream",
          "name": "stdout",
          "text": [
            "63/63 [==============================] - 0s 2ms/step\n",
            "comm_round: 48 | global_acc: 66.550% | global_loss: 1.6045074462890625\n",
            "63/63 [==============================] - 0s 2ms/step\n"
          ]
        },
        {
          "output_type": "stream",
          "name": "stderr",
          "text": [
            "/usr/local/lib/python3.8/dist-packages/sklearn/metrics/_classification.py:1318: UndefinedMetricWarning: Precision and F-score are ill-defined and being set to 0.0 in labels with no predicted samples. Use `zero_division` parameter to control this behavior.\n",
            "  _warn_prf(average, modifier, msg_start, len(result))\n",
            "/usr/local/lib/python3.8/dist-packages/sklearn/metrics/_classification.py:1318: UndefinedMetricWarning: Precision and F-score are ill-defined and being set to 0.0 in labels with no predicted samples. Use `zero_division` parameter to control this behavior.\n",
            "  _warn_prf(average, modifier, msg_start, len(result))\n",
            "/usr/local/lib/python3.8/dist-packages/sklearn/metrics/_classification.py:1318: UndefinedMetricWarning: Precision and F-score are ill-defined and being set to 0.0 in labels with no predicted samples. Use `zero_division` parameter to control this behavior.\n",
            "  _warn_prf(average, modifier, msg_start, len(result))\n"
          ]
        },
        {
          "output_type": "stream",
          "name": "stdout",
          "text": [
            "63/63 [==============================] - 0s 2ms/step\n",
            "comm_round: 49 | global_acc: 66.550% | global_loss: 1.5862857103347778\n",
            "63/63 [==============================] - 0s 2ms/step\n"
          ]
        },
        {
          "output_type": "stream",
          "name": "stderr",
          "text": [
            "/usr/local/lib/python3.8/dist-packages/sklearn/metrics/_classification.py:1318: UndefinedMetricWarning: Precision and F-score are ill-defined and being set to 0.0 in labels with no predicted samples. Use `zero_division` parameter to control this behavior.\n",
            "  _warn_prf(average, modifier, msg_start, len(result))\n",
            "/usr/local/lib/python3.8/dist-packages/sklearn/metrics/_classification.py:1318: UndefinedMetricWarning: Precision and F-score are ill-defined and being set to 0.0 in labels with no predicted samples. Use `zero_division` parameter to control this behavior.\n",
            "  _warn_prf(average, modifier, msg_start, len(result))\n",
            "/usr/local/lib/python3.8/dist-packages/sklearn/metrics/_classification.py:1318: UndefinedMetricWarning: Precision and F-score are ill-defined and being set to 0.0 in labels with no predicted samples. Use `zero_division` parameter to control this behavior.\n",
            "  _warn_prf(average, modifier, msg_start, len(result))\n"
          ]
        },
        {
          "output_type": "stream",
          "name": "stdout",
          "text": [
            "63/63 [==============================] - 0s 2ms/step\n",
            "comm_round: 50 | global_acc: 66.750% | global_loss: 1.603836178779602\n",
            "63/63 [==============================] - 0s 2ms/step\n"
          ]
        },
        {
          "output_type": "stream",
          "name": "stderr",
          "text": [
            "/usr/local/lib/python3.8/dist-packages/sklearn/metrics/_classification.py:1318: UndefinedMetricWarning: Precision and F-score are ill-defined and being set to 0.0 in labels with no predicted samples. Use `zero_division` parameter to control this behavior.\n",
            "  _warn_prf(average, modifier, msg_start, len(result))\n",
            "/usr/local/lib/python3.8/dist-packages/sklearn/metrics/_classification.py:1318: UndefinedMetricWarning: Precision and F-score are ill-defined and being set to 0.0 in labels with no predicted samples. Use `zero_division` parameter to control this behavior.\n",
            "  _warn_prf(average, modifier, msg_start, len(result))\n",
            "/usr/local/lib/python3.8/dist-packages/sklearn/metrics/_classification.py:1318: UndefinedMetricWarning: Precision and F-score are ill-defined and being set to 0.0 in labels with no predicted samples. Use `zero_division` parameter to control this behavior.\n",
            "  _warn_prf(average, modifier, msg_start, len(result))\n"
          ]
        },
        {
          "output_type": "stream",
          "name": "stdout",
          "text": [
            "63/63 [==============================] - 0s 2ms/step\n",
            "comm_round: 51 | global_acc: 66.650% | global_loss: 1.5923446416854858\n",
            "63/63 [==============================] - 0s 2ms/step\n"
          ]
        },
        {
          "output_type": "stream",
          "name": "stderr",
          "text": [
            "/usr/local/lib/python3.8/dist-packages/sklearn/metrics/_classification.py:1318: UndefinedMetricWarning: Precision and F-score are ill-defined and being set to 0.0 in labels with no predicted samples. Use `zero_division` parameter to control this behavior.\n",
            "  _warn_prf(average, modifier, msg_start, len(result))\n",
            "/usr/local/lib/python3.8/dist-packages/sklearn/metrics/_classification.py:1318: UndefinedMetricWarning: Precision and F-score are ill-defined and being set to 0.0 in labels with no predicted samples. Use `zero_division` parameter to control this behavior.\n",
            "  _warn_prf(average, modifier, msg_start, len(result))\n",
            "/usr/local/lib/python3.8/dist-packages/sklearn/metrics/_classification.py:1318: UndefinedMetricWarning: Precision and F-score are ill-defined and being set to 0.0 in labels with no predicted samples. Use `zero_division` parameter to control this behavior.\n",
            "  _warn_prf(average, modifier, msg_start, len(result))\n"
          ]
        },
        {
          "output_type": "stream",
          "name": "stdout",
          "text": [
            "63/63 [==============================] - 0s 2ms/step\n",
            "comm_round: 52 | global_acc: 66.550% | global_loss: 1.5888924598693848\n",
            "63/63 [==============================] - 0s 2ms/step\n"
          ]
        },
        {
          "output_type": "stream",
          "name": "stderr",
          "text": [
            "/usr/local/lib/python3.8/dist-packages/sklearn/metrics/_classification.py:1318: UndefinedMetricWarning: Precision and F-score are ill-defined and being set to 0.0 in labels with no predicted samples. Use `zero_division` parameter to control this behavior.\n",
            "  _warn_prf(average, modifier, msg_start, len(result))\n",
            "/usr/local/lib/python3.8/dist-packages/sklearn/metrics/_classification.py:1318: UndefinedMetricWarning: Precision and F-score are ill-defined and being set to 0.0 in labels with no predicted samples. Use `zero_division` parameter to control this behavior.\n",
            "  _warn_prf(average, modifier, msg_start, len(result))\n",
            "/usr/local/lib/python3.8/dist-packages/sklearn/metrics/_classification.py:1318: UndefinedMetricWarning: Precision and F-score are ill-defined and being set to 0.0 in labels with no predicted samples. Use `zero_division` parameter to control this behavior.\n",
            "  _warn_prf(average, modifier, msg_start, len(result))\n"
          ]
        },
        {
          "output_type": "stream",
          "name": "stdout",
          "text": [
            "63/63 [==============================] - 0s 2ms/step\n",
            "comm_round: 53 | global_acc: 66.700% | global_loss: 1.5996359586715698\n",
            "63/63 [==============================] - 0s 2ms/step\n"
          ]
        },
        {
          "output_type": "stream",
          "name": "stderr",
          "text": [
            "/usr/local/lib/python3.8/dist-packages/sklearn/metrics/_classification.py:1318: UndefinedMetricWarning: Precision and F-score are ill-defined and being set to 0.0 in labels with no predicted samples. Use `zero_division` parameter to control this behavior.\n",
            "  _warn_prf(average, modifier, msg_start, len(result))\n",
            "/usr/local/lib/python3.8/dist-packages/sklearn/metrics/_classification.py:1318: UndefinedMetricWarning: Precision and F-score are ill-defined and being set to 0.0 in labels with no predicted samples. Use `zero_division` parameter to control this behavior.\n",
            "  _warn_prf(average, modifier, msg_start, len(result))\n",
            "/usr/local/lib/python3.8/dist-packages/sklearn/metrics/_classification.py:1318: UndefinedMetricWarning: Precision and F-score are ill-defined and being set to 0.0 in labels with no predicted samples. Use `zero_division` parameter to control this behavior.\n",
            "  _warn_prf(average, modifier, msg_start, len(result))\n"
          ]
        },
        {
          "output_type": "stream",
          "name": "stdout",
          "text": [
            "63/63 [==============================] - 0s 2ms/step\n",
            "comm_round: 54 | global_acc: 66.850% | global_loss: 1.6028872728347778\n",
            "63/63 [==============================] - 0s 2ms/step\n"
          ]
        },
        {
          "output_type": "stream",
          "name": "stderr",
          "text": [
            "/usr/local/lib/python3.8/dist-packages/sklearn/metrics/_classification.py:1318: UndefinedMetricWarning: Precision and F-score are ill-defined and being set to 0.0 in labels with no predicted samples. Use `zero_division` parameter to control this behavior.\n",
            "  _warn_prf(average, modifier, msg_start, len(result))\n",
            "/usr/local/lib/python3.8/dist-packages/sklearn/metrics/_classification.py:1318: UndefinedMetricWarning: Precision and F-score are ill-defined and being set to 0.0 in labels with no predicted samples. Use `zero_division` parameter to control this behavior.\n",
            "  _warn_prf(average, modifier, msg_start, len(result))\n",
            "/usr/local/lib/python3.8/dist-packages/sklearn/metrics/_classification.py:1318: UndefinedMetricWarning: Precision and F-score are ill-defined and being set to 0.0 in labels with no predicted samples. Use `zero_division` parameter to control this behavior.\n",
            "  _warn_prf(average, modifier, msg_start, len(result))\n"
          ]
        },
        {
          "output_type": "stream",
          "name": "stdout",
          "text": [
            "63/63 [==============================] - 0s 2ms/step\n",
            "comm_round: 55 | global_acc: 66.700% | global_loss: 1.599525809288025\n",
            "63/63 [==============================] - 0s 2ms/step\n"
          ]
        },
        {
          "output_type": "stream",
          "name": "stderr",
          "text": [
            "/usr/local/lib/python3.8/dist-packages/sklearn/metrics/_classification.py:1318: UndefinedMetricWarning: Precision and F-score are ill-defined and being set to 0.0 in labels with no predicted samples. Use `zero_division` parameter to control this behavior.\n",
            "  _warn_prf(average, modifier, msg_start, len(result))\n",
            "/usr/local/lib/python3.8/dist-packages/sklearn/metrics/_classification.py:1318: UndefinedMetricWarning: Precision and F-score are ill-defined and being set to 0.0 in labels with no predicted samples. Use `zero_division` parameter to control this behavior.\n",
            "  _warn_prf(average, modifier, msg_start, len(result))\n",
            "/usr/local/lib/python3.8/dist-packages/sklearn/metrics/_classification.py:1318: UndefinedMetricWarning: Precision and F-score are ill-defined and being set to 0.0 in labels with no predicted samples. Use `zero_division` parameter to control this behavior.\n",
            "  _warn_prf(average, modifier, msg_start, len(result))\n"
          ]
        },
        {
          "output_type": "stream",
          "name": "stdout",
          "text": [
            "63/63 [==============================] - 0s 2ms/step\n",
            "comm_round: 56 | global_acc: 66.700% | global_loss: 1.5867457389831543\n",
            "63/63 [==============================] - 0s 2ms/step\n"
          ]
        },
        {
          "output_type": "stream",
          "name": "stderr",
          "text": [
            "/usr/local/lib/python3.8/dist-packages/sklearn/metrics/_classification.py:1318: UndefinedMetricWarning: Precision and F-score are ill-defined and being set to 0.0 in labels with no predicted samples. Use `zero_division` parameter to control this behavior.\n",
            "  _warn_prf(average, modifier, msg_start, len(result))\n",
            "/usr/local/lib/python3.8/dist-packages/sklearn/metrics/_classification.py:1318: UndefinedMetricWarning: Precision and F-score are ill-defined and being set to 0.0 in labels with no predicted samples. Use `zero_division` parameter to control this behavior.\n",
            "  _warn_prf(average, modifier, msg_start, len(result))\n",
            "/usr/local/lib/python3.8/dist-packages/sklearn/metrics/_classification.py:1318: UndefinedMetricWarning: Precision and F-score are ill-defined and being set to 0.0 in labels with no predicted samples. Use `zero_division` parameter to control this behavior.\n",
            "  _warn_prf(average, modifier, msg_start, len(result))\n"
          ]
        },
        {
          "output_type": "stream",
          "name": "stdout",
          "text": [
            "63/63 [==============================] - 0s 2ms/step\n",
            "comm_round: 57 | global_acc: 66.800% | global_loss: 1.5950415134429932\n",
            "63/63 [==============================] - 0s 2ms/step\n"
          ]
        },
        {
          "output_type": "stream",
          "name": "stderr",
          "text": [
            "/usr/local/lib/python3.8/dist-packages/sklearn/metrics/_classification.py:1318: UndefinedMetricWarning: Precision and F-score are ill-defined and being set to 0.0 in labels with no predicted samples. Use `zero_division` parameter to control this behavior.\n",
            "  _warn_prf(average, modifier, msg_start, len(result))\n",
            "/usr/local/lib/python3.8/dist-packages/sklearn/metrics/_classification.py:1318: UndefinedMetricWarning: Precision and F-score are ill-defined and being set to 0.0 in labels with no predicted samples. Use `zero_division` parameter to control this behavior.\n",
            "  _warn_prf(average, modifier, msg_start, len(result))\n",
            "/usr/local/lib/python3.8/dist-packages/sklearn/metrics/_classification.py:1318: UndefinedMetricWarning: Precision and F-score are ill-defined and being set to 0.0 in labels with no predicted samples. Use `zero_division` parameter to control this behavior.\n",
            "  _warn_prf(average, modifier, msg_start, len(result))\n"
          ]
        },
        {
          "output_type": "stream",
          "name": "stdout",
          "text": [
            "63/63 [==============================] - 0s 2ms/step\n",
            "comm_round: 58 | global_acc: 66.800% | global_loss: 1.5989904403686523\n",
            "63/63 [==============================] - 0s 2ms/step\n"
          ]
        },
        {
          "output_type": "stream",
          "name": "stderr",
          "text": [
            "/usr/local/lib/python3.8/dist-packages/sklearn/metrics/_classification.py:1318: UndefinedMetricWarning: Precision and F-score are ill-defined and being set to 0.0 in labels with no predicted samples. Use `zero_division` parameter to control this behavior.\n",
            "  _warn_prf(average, modifier, msg_start, len(result))\n",
            "/usr/local/lib/python3.8/dist-packages/sklearn/metrics/_classification.py:1318: UndefinedMetricWarning: Precision and F-score are ill-defined and being set to 0.0 in labels with no predicted samples. Use `zero_division` parameter to control this behavior.\n",
            "  _warn_prf(average, modifier, msg_start, len(result))\n",
            "/usr/local/lib/python3.8/dist-packages/sklearn/metrics/_classification.py:1318: UndefinedMetricWarning: Precision and F-score are ill-defined and being set to 0.0 in labels with no predicted samples. Use `zero_division` parameter to control this behavior.\n",
            "  _warn_prf(average, modifier, msg_start, len(result))\n"
          ]
        },
        {
          "output_type": "stream",
          "name": "stdout",
          "text": [
            "63/63 [==============================] - 0s 2ms/step\n",
            "comm_round: 59 | global_acc: 66.800% | global_loss: 1.587819218635559\n",
            "63/63 [==============================] - 0s 2ms/step\n"
          ]
        },
        {
          "output_type": "stream",
          "name": "stderr",
          "text": [
            "/usr/local/lib/python3.8/dist-packages/sklearn/metrics/_classification.py:1318: UndefinedMetricWarning: Precision and F-score are ill-defined and being set to 0.0 in labels with no predicted samples. Use `zero_division` parameter to control this behavior.\n",
            "  _warn_prf(average, modifier, msg_start, len(result))\n",
            "/usr/local/lib/python3.8/dist-packages/sklearn/metrics/_classification.py:1318: UndefinedMetricWarning: Precision and F-score are ill-defined and being set to 0.0 in labels with no predicted samples. Use `zero_division` parameter to control this behavior.\n",
            "  _warn_prf(average, modifier, msg_start, len(result))\n",
            "/usr/local/lib/python3.8/dist-packages/sklearn/metrics/_classification.py:1318: UndefinedMetricWarning: Precision and F-score are ill-defined and being set to 0.0 in labels with no predicted samples. Use `zero_division` parameter to control this behavior.\n",
            "  _warn_prf(average, modifier, msg_start, len(result))\n"
          ]
        },
        {
          "output_type": "stream",
          "name": "stdout",
          "text": [
            "63/63 [==============================] - 0s 3ms/step\n",
            "comm_round: 60 | global_acc: 66.700% | global_loss: 1.5923256874084473\n",
            "63/63 [==============================] - 0s 2ms/step\n"
          ]
        },
        {
          "output_type": "stream",
          "name": "stderr",
          "text": [
            "/usr/local/lib/python3.8/dist-packages/sklearn/metrics/_classification.py:1318: UndefinedMetricWarning: Precision and F-score are ill-defined and being set to 0.0 in labels with no predicted samples. Use `zero_division` parameter to control this behavior.\n",
            "  _warn_prf(average, modifier, msg_start, len(result))\n",
            "/usr/local/lib/python3.8/dist-packages/sklearn/metrics/_classification.py:1318: UndefinedMetricWarning: Precision and F-score are ill-defined and being set to 0.0 in labels with no predicted samples. Use `zero_division` parameter to control this behavior.\n",
            "  _warn_prf(average, modifier, msg_start, len(result))\n",
            "/usr/local/lib/python3.8/dist-packages/sklearn/metrics/_classification.py:1318: UndefinedMetricWarning: Precision and F-score are ill-defined and being set to 0.0 in labels with no predicted samples. Use `zero_division` parameter to control this behavior.\n",
            "  _warn_prf(average, modifier, msg_start, len(result))\n"
          ]
        },
        {
          "output_type": "stream",
          "name": "stdout",
          "text": [
            "63/63 [==============================] - 0s 2ms/step\n",
            "comm_round: 61 | global_acc: 67.199% | global_loss: 1.6155035495758057\n",
            "63/63 [==============================] - 0s 2ms/step\n"
          ]
        },
        {
          "output_type": "stream",
          "name": "stderr",
          "text": [
            "/usr/local/lib/python3.8/dist-packages/sklearn/metrics/_classification.py:1318: UndefinedMetricWarning: Precision and F-score are ill-defined and being set to 0.0 in labels with no predicted samples. Use `zero_division` parameter to control this behavior.\n",
            "  _warn_prf(average, modifier, msg_start, len(result))\n",
            "/usr/local/lib/python3.8/dist-packages/sklearn/metrics/_classification.py:1318: UndefinedMetricWarning: Precision and F-score are ill-defined and being set to 0.0 in labels with no predicted samples. Use `zero_division` parameter to control this behavior.\n",
            "  _warn_prf(average, modifier, msg_start, len(result))\n",
            "/usr/local/lib/python3.8/dist-packages/sklearn/metrics/_classification.py:1318: UndefinedMetricWarning: Precision and F-score are ill-defined and being set to 0.0 in labels with no predicted samples. Use `zero_division` parameter to control this behavior.\n",
            "  _warn_prf(average, modifier, msg_start, len(result))\n"
          ]
        },
        {
          "output_type": "stream",
          "name": "stdout",
          "text": [
            "63/63 [==============================] - 0s 3ms/step\n",
            "comm_round: 62 | global_acc: 67.049% | global_loss: 1.6060137748718262\n",
            "63/63 [==============================] - 0s 2ms/step\n"
          ]
        },
        {
          "output_type": "stream",
          "name": "stderr",
          "text": [
            "/usr/local/lib/python3.8/dist-packages/sklearn/metrics/_classification.py:1318: UndefinedMetricWarning: Precision and F-score are ill-defined and being set to 0.0 in labels with no predicted samples. Use `zero_division` parameter to control this behavior.\n",
            "  _warn_prf(average, modifier, msg_start, len(result))\n",
            "/usr/local/lib/python3.8/dist-packages/sklearn/metrics/_classification.py:1318: UndefinedMetricWarning: Precision and F-score are ill-defined and being set to 0.0 in labels with no predicted samples. Use `zero_division` parameter to control this behavior.\n",
            "  _warn_prf(average, modifier, msg_start, len(result))\n",
            "/usr/local/lib/python3.8/dist-packages/sklearn/metrics/_classification.py:1318: UndefinedMetricWarning: Precision and F-score are ill-defined and being set to 0.0 in labels with no predicted samples. Use `zero_division` parameter to control this behavior.\n",
            "  _warn_prf(average, modifier, msg_start, len(result))\n"
          ]
        },
        {
          "output_type": "stream",
          "name": "stdout",
          "text": [
            "63/63 [==============================] - 0s 2ms/step\n",
            "comm_round: 63 | global_acc: 66.850% | global_loss: 1.5854461193084717\n",
            "63/63 [==============================] - 0s 2ms/step\n"
          ]
        },
        {
          "output_type": "stream",
          "name": "stderr",
          "text": [
            "/usr/local/lib/python3.8/dist-packages/sklearn/metrics/_classification.py:1318: UndefinedMetricWarning: Precision and F-score are ill-defined and being set to 0.0 in labels with no predicted samples. Use `zero_division` parameter to control this behavior.\n",
            "  _warn_prf(average, modifier, msg_start, len(result))\n",
            "/usr/local/lib/python3.8/dist-packages/sklearn/metrics/_classification.py:1318: UndefinedMetricWarning: Precision and F-score are ill-defined and being set to 0.0 in labels with no predicted samples. Use `zero_division` parameter to control this behavior.\n",
            "  _warn_prf(average, modifier, msg_start, len(result))\n",
            "/usr/local/lib/python3.8/dist-packages/sklearn/metrics/_classification.py:1318: UndefinedMetricWarning: Precision and F-score are ill-defined and being set to 0.0 in labels with no predicted samples. Use `zero_division` parameter to control this behavior.\n",
            "  _warn_prf(average, modifier, msg_start, len(result))\n"
          ]
        },
        {
          "output_type": "stream",
          "name": "stdout",
          "text": [
            "63/63 [==============================] - 0s 2ms/step\n",
            "comm_round: 64 | global_acc: 66.700% | global_loss: 1.5933459997177124\n",
            "63/63 [==============================] - 0s 2ms/step\n"
          ]
        },
        {
          "output_type": "stream",
          "name": "stderr",
          "text": [
            "/usr/local/lib/python3.8/dist-packages/sklearn/metrics/_classification.py:1318: UndefinedMetricWarning: Precision and F-score are ill-defined and being set to 0.0 in labels with no predicted samples. Use `zero_division` parameter to control this behavior.\n",
            "  _warn_prf(average, modifier, msg_start, len(result))\n",
            "/usr/local/lib/python3.8/dist-packages/sklearn/metrics/_classification.py:1318: UndefinedMetricWarning: Precision and F-score are ill-defined and being set to 0.0 in labels with no predicted samples. Use `zero_division` parameter to control this behavior.\n",
            "  _warn_prf(average, modifier, msg_start, len(result))\n",
            "/usr/local/lib/python3.8/dist-packages/sklearn/metrics/_classification.py:1318: UndefinedMetricWarning: Precision and F-score are ill-defined and being set to 0.0 in labels with no predicted samples. Use `zero_division` parameter to control this behavior.\n",
            "  _warn_prf(average, modifier, msg_start, len(result))\n"
          ]
        },
        {
          "output_type": "stream",
          "name": "stdout",
          "text": [
            "63/63 [==============================] - 0s 2ms/step\n",
            "comm_round: 65 | global_acc: 67.000% | global_loss: 1.5997204780578613\n",
            "63/63 [==============================] - 0s 2ms/step\n"
          ]
        },
        {
          "output_type": "stream",
          "name": "stderr",
          "text": [
            "/usr/local/lib/python3.8/dist-packages/sklearn/metrics/_classification.py:1318: UndefinedMetricWarning: Precision and F-score are ill-defined and being set to 0.0 in labels with no predicted samples. Use `zero_division` parameter to control this behavior.\n",
            "  _warn_prf(average, modifier, msg_start, len(result))\n",
            "/usr/local/lib/python3.8/dist-packages/sklearn/metrics/_classification.py:1318: UndefinedMetricWarning: Precision and F-score are ill-defined and being set to 0.0 in labels with no predicted samples. Use `zero_division` parameter to control this behavior.\n",
            "  _warn_prf(average, modifier, msg_start, len(result))\n",
            "/usr/local/lib/python3.8/dist-packages/sklearn/metrics/_classification.py:1318: UndefinedMetricWarning: Precision and F-score are ill-defined and being set to 0.0 in labels with no predicted samples. Use `zero_division` parameter to control this behavior.\n",
            "  _warn_prf(average, modifier, msg_start, len(result))\n"
          ]
        },
        {
          "output_type": "stream",
          "name": "stdout",
          "text": [
            "63/63 [==============================] - 0s 2ms/step\n",
            "comm_round: 66 | global_acc: 67.049% | global_loss: 1.5996078252792358\n",
            "63/63 [==============================] - 0s 3ms/step\n"
          ]
        },
        {
          "output_type": "stream",
          "name": "stderr",
          "text": [
            "/usr/local/lib/python3.8/dist-packages/sklearn/metrics/_classification.py:1318: UndefinedMetricWarning: Precision and F-score are ill-defined and being set to 0.0 in labels with no predicted samples. Use `zero_division` parameter to control this behavior.\n",
            "  _warn_prf(average, modifier, msg_start, len(result))\n",
            "/usr/local/lib/python3.8/dist-packages/sklearn/metrics/_classification.py:1318: UndefinedMetricWarning: Precision and F-score are ill-defined and being set to 0.0 in labels with no predicted samples. Use `zero_division` parameter to control this behavior.\n",
            "  _warn_prf(average, modifier, msg_start, len(result))\n",
            "/usr/local/lib/python3.8/dist-packages/sklearn/metrics/_classification.py:1318: UndefinedMetricWarning: Precision and F-score are ill-defined and being set to 0.0 in labels with no predicted samples. Use `zero_division` parameter to control this behavior.\n",
            "  _warn_prf(average, modifier, msg_start, len(result))\n"
          ]
        },
        {
          "output_type": "stream",
          "name": "stdout",
          "text": [
            "63/63 [==============================] - 0s 2ms/step\n",
            "comm_round: 67 | global_acc: 66.650% | global_loss: 1.5756722688674927\n",
            "63/63 [==============================] - 0s 2ms/step\n"
          ]
        },
        {
          "output_type": "stream",
          "name": "stderr",
          "text": [
            "/usr/local/lib/python3.8/dist-packages/sklearn/metrics/_classification.py:1318: UndefinedMetricWarning: Precision and F-score are ill-defined and being set to 0.0 in labels with no predicted samples. Use `zero_division` parameter to control this behavior.\n",
            "  _warn_prf(average, modifier, msg_start, len(result))\n",
            "/usr/local/lib/python3.8/dist-packages/sklearn/metrics/_classification.py:1318: UndefinedMetricWarning: Precision and F-score are ill-defined and being set to 0.0 in labels with no predicted samples. Use `zero_division` parameter to control this behavior.\n",
            "  _warn_prf(average, modifier, msg_start, len(result))\n",
            "/usr/local/lib/python3.8/dist-packages/sklearn/metrics/_classification.py:1318: UndefinedMetricWarning: Precision and F-score are ill-defined and being set to 0.0 in labels with no predicted samples. Use `zero_division` parameter to control this behavior.\n",
            "  _warn_prf(average, modifier, msg_start, len(result))\n"
          ]
        },
        {
          "output_type": "stream",
          "name": "stdout",
          "text": [
            "63/63 [==============================] - 0s 2ms/step\n",
            "comm_round: 68 | global_acc: 67.199% | global_loss: 1.6012992858886719\n",
            "63/63 [==============================] - 0s 2ms/step\n"
          ]
        },
        {
          "output_type": "stream",
          "name": "stderr",
          "text": [
            "/usr/local/lib/python3.8/dist-packages/sklearn/metrics/_classification.py:1318: UndefinedMetricWarning: Precision and F-score are ill-defined and being set to 0.0 in labels with no predicted samples. Use `zero_division` parameter to control this behavior.\n",
            "  _warn_prf(average, modifier, msg_start, len(result))\n",
            "/usr/local/lib/python3.8/dist-packages/sklearn/metrics/_classification.py:1318: UndefinedMetricWarning: Precision and F-score are ill-defined and being set to 0.0 in labels with no predicted samples. Use `zero_division` parameter to control this behavior.\n",
            "  _warn_prf(average, modifier, msg_start, len(result))\n",
            "/usr/local/lib/python3.8/dist-packages/sklearn/metrics/_classification.py:1318: UndefinedMetricWarning: Precision and F-score are ill-defined and being set to 0.0 in labels with no predicted samples. Use `zero_division` parameter to control this behavior.\n",
            "  _warn_prf(average, modifier, msg_start, len(result))\n"
          ]
        },
        {
          "output_type": "stream",
          "name": "stdout",
          "text": [
            "63/63 [==============================] - 0s 2ms/step\n",
            "comm_round: 69 | global_acc: 67.299% | global_loss: 1.6085642576217651\n",
            "63/63 [==============================] - 0s 2ms/step\n"
          ]
        },
        {
          "output_type": "stream",
          "name": "stderr",
          "text": [
            "/usr/local/lib/python3.8/dist-packages/sklearn/metrics/_classification.py:1318: UndefinedMetricWarning: Precision and F-score are ill-defined and being set to 0.0 in labels with no predicted samples. Use `zero_division` parameter to control this behavior.\n",
            "  _warn_prf(average, modifier, msg_start, len(result))\n",
            "/usr/local/lib/python3.8/dist-packages/sklearn/metrics/_classification.py:1318: UndefinedMetricWarning: Precision and F-score are ill-defined and being set to 0.0 in labels with no predicted samples. Use `zero_division` parameter to control this behavior.\n",
            "  _warn_prf(average, modifier, msg_start, len(result))\n",
            "/usr/local/lib/python3.8/dist-packages/sklearn/metrics/_classification.py:1318: UndefinedMetricWarning: Precision and F-score are ill-defined and being set to 0.0 in labels with no predicted samples. Use `zero_division` parameter to control this behavior.\n",
            "  _warn_prf(average, modifier, msg_start, len(result))\n"
          ]
        },
        {
          "output_type": "stream",
          "name": "stdout",
          "text": [
            "63/63 [==============================] - 0s 2ms/step\n",
            "comm_round: 70 | global_acc: 67.049% | global_loss: 1.5920720100402832\n",
            "63/63 [==============================] - 0s 2ms/step\n"
          ]
        },
        {
          "output_type": "stream",
          "name": "stderr",
          "text": [
            "/usr/local/lib/python3.8/dist-packages/sklearn/metrics/_classification.py:1318: UndefinedMetricWarning: Precision and F-score are ill-defined and being set to 0.0 in labels with no predicted samples. Use `zero_division` parameter to control this behavior.\n",
            "  _warn_prf(average, modifier, msg_start, len(result))\n",
            "/usr/local/lib/python3.8/dist-packages/sklearn/metrics/_classification.py:1318: UndefinedMetricWarning: Precision and F-score are ill-defined and being set to 0.0 in labels with no predicted samples. Use `zero_division` parameter to control this behavior.\n",
            "  _warn_prf(average, modifier, msg_start, len(result))\n",
            "/usr/local/lib/python3.8/dist-packages/sklearn/metrics/_classification.py:1318: UndefinedMetricWarning: Precision and F-score are ill-defined and being set to 0.0 in labels with no predicted samples. Use `zero_division` parameter to control this behavior.\n",
            "  _warn_prf(average, modifier, msg_start, len(result))\n"
          ]
        },
        {
          "output_type": "stream",
          "name": "stdout",
          "text": [
            "63/63 [==============================] - 0s 2ms/step\n",
            "comm_round: 71 | global_acc: 66.600% | global_loss: 1.5682395696640015\n",
            "63/63 [==============================] - 0s 2ms/step\n"
          ]
        },
        {
          "output_type": "stream",
          "name": "stderr",
          "text": [
            "/usr/local/lib/python3.8/dist-packages/sklearn/metrics/_classification.py:1318: UndefinedMetricWarning: Precision and F-score are ill-defined and being set to 0.0 in labels with no predicted samples. Use `zero_division` parameter to control this behavior.\n",
            "  _warn_prf(average, modifier, msg_start, len(result))\n",
            "/usr/local/lib/python3.8/dist-packages/sklearn/metrics/_classification.py:1318: UndefinedMetricWarning: Precision and F-score are ill-defined and being set to 0.0 in labels with no predicted samples. Use `zero_division` parameter to control this behavior.\n",
            "  _warn_prf(average, modifier, msg_start, len(result))\n",
            "/usr/local/lib/python3.8/dist-packages/sklearn/metrics/_classification.py:1318: UndefinedMetricWarning: Precision and F-score are ill-defined and being set to 0.0 in labels with no predicted samples. Use `zero_division` parameter to control this behavior.\n",
            "  _warn_prf(average, modifier, msg_start, len(result))\n"
          ]
        },
        {
          "output_type": "stream",
          "name": "stdout",
          "text": [
            "63/63 [==============================] - 0s 2ms/step\n",
            "comm_round: 72 | global_acc: 67.049% | global_loss: 1.5974937677383423\n",
            "63/63 [==============================] - 0s 2ms/step\n"
          ]
        },
        {
          "output_type": "stream",
          "name": "stderr",
          "text": [
            "/usr/local/lib/python3.8/dist-packages/sklearn/metrics/_classification.py:1318: UndefinedMetricWarning: Precision and F-score are ill-defined and being set to 0.0 in labels with no predicted samples. Use `zero_division` parameter to control this behavior.\n",
            "  _warn_prf(average, modifier, msg_start, len(result))\n",
            "/usr/local/lib/python3.8/dist-packages/sklearn/metrics/_classification.py:1318: UndefinedMetricWarning: Precision and F-score are ill-defined and being set to 0.0 in labels with no predicted samples. Use `zero_division` parameter to control this behavior.\n",
            "  _warn_prf(average, modifier, msg_start, len(result))\n",
            "/usr/local/lib/python3.8/dist-packages/sklearn/metrics/_classification.py:1318: UndefinedMetricWarning: Precision and F-score are ill-defined and being set to 0.0 in labels with no predicted samples. Use `zero_division` parameter to control this behavior.\n",
            "  _warn_prf(average, modifier, msg_start, len(result))\n"
          ]
        },
        {
          "output_type": "stream",
          "name": "stdout",
          "text": [
            "63/63 [==============================] - 0s 2ms/step\n",
            "comm_round: 73 | global_acc: 66.950% | global_loss: 1.5838050842285156\n",
            "63/63 [==============================] - 0s 2ms/step\n"
          ]
        },
        {
          "output_type": "stream",
          "name": "stderr",
          "text": [
            "/usr/local/lib/python3.8/dist-packages/sklearn/metrics/_classification.py:1318: UndefinedMetricWarning: Precision and F-score are ill-defined and being set to 0.0 in labels with no predicted samples. Use `zero_division` parameter to control this behavior.\n",
            "  _warn_prf(average, modifier, msg_start, len(result))\n",
            "/usr/local/lib/python3.8/dist-packages/sklearn/metrics/_classification.py:1318: UndefinedMetricWarning: Precision and F-score are ill-defined and being set to 0.0 in labels with no predicted samples. Use `zero_division` parameter to control this behavior.\n",
            "  _warn_prf(average, modifier, msg_start, len(result))\n",
            "/usr/local/lib/python3.8/dist-packages/sklearn/metrics/_classification.py:1318: UndefinedMetricWarning: Precision and F-score are ill-defined and being set to 0.0 in labels with no predicted samples. Use `zero_division` parameter to control this behavior.\n",
            "  _warn_prf(average, modifier, msg_start, len(result))\n"
          ]
        },
        {
          "output_type": "stream",
          "name": "stdout",
          "text": [
            "63/63 [==============================] - 0s 2ms/step\n",
            "comm_round: 74 | global_acc: 67.049% | global_loss: 1.5931553840637207\n",
            "63/63 [==============================] - 0s 2ms/step\n"
          ]
        },
        {
          "output_type": "stream",
          "name": "stderr",
          "text": [
            "/usr/local/lib/python3.8/dist-packages/sklearn/metrics/_classification.py:1318: UndefinedMetricWarning: Precision and F-score are ill-defined and being set to 0.0 in labels with no predicted samples. Use `zero_division` parameter to control this behavior.\n",
            "  _warn_prf(average, modifier, msg_start, len(result))\n",
            "/usr/local/lib/python3.8/dist-packages/sklearn/metrics/_classification.py:1318: UndefinedMetricWarning: Precision and F-score are ill-defined and being set to 0.0 in labels with no predicted samples. Use `zero_division` parameter to control this behavior.\n",
            "  _warn_prf(average, modifier, msg_start, len(result))\n",
            "/usr/local/lib/python3.8/dist-packages/sklearn/metrics/_classification.py:1318: UndefinedMetricWarning: Precision and F-score are ill-defined and being set to 0.0 in labels with no predicted samples. Use `zero_division` parameter to control this behavior.\n",
            "  _warn_prf(average, modifier, msg_start, len(result))\n"
          ]
        },
        {
          "output_type": "stream",
          "name": "stdout",
          "text": [
            "63/63 [==============================] - 0s 2ms/step\n",
            "comm_round: 75 | global_acc: 67.199% | global_loss: 1.6118539571762085\n",
            "63/63 [==============================] - 0s 2ms/step\n"
          ]
        },
        {
          "output_type": "stream",
          "name": "stderr",
          "text": [
            "/usr/local/lib/python3.8/dist-packages/sklearn/metrics/_classification.py:1318: UndefinedMetricWarning: Precision and F-score are ill-defined and being set to 0.0 in labels with no predicted samples. Use `zero_division` parameter to control this behavior.\n",
            "  _warn_prf(average, modifier, msg_start, len(result))\n",
            "/usr/local/lib/python3.8/dist-packages/sklearn/metrics/_classification.py:1318: UndefinedMetricWarning: Precision and F-score are ill-defined and being set to 0.0 in labels with no predicted samples. Use `zero_division` parameter to control this behavior.\n",
            "  _warn_prf(average, modifier, msg_start, len(result))\n",
            "/usr/local/lib/python3.8/dist-packages/sklearn/metrics/_classification.py:1318: UndefinedMetricWarning: Precision and F-score are ill-defined and being set to 0.0 in labels with no predicted samples. Use `zero_division` parameter to control this behavior.\n",
            "  _warn_prf(average, modifier, msg_start, len(result))\n"
          ]
        },
        {
          "output_type": "stream",
          "name": "stdout",
          "text": [
            "63/63 [==============================] - 0s 3ms/step\n",
            "comm_round: 76 | global_acc: 67.049% | global_loss: 1.5992534160614014\n",
            "63/63 [==============================] - 0s 2ms/step\n"
          ]
        },
        {
          "output_type": "stream",
          "name": "stderr",
          "text": [
            "/usr/local/lib/python3.8/dist-packages/sklearn/metrics/_classification.py:1318: UndefinedMetricWarning: Precision and F-score are ill-defined and being set to 0.0 in labels with no predicted samples. Use `zero_division` parameter to control this behavior.\n",
            "  _warn_prf(average, modifier, msg_start, len(result))\n",
            "/usr/local/lib/python3.8/dist-packages/sklearn/metrics/_classification.py:1318: UndefinedMetricWarning: Precision and F-score are ill-defined and being set to 0.0 in labels with no predicted samples. Use `zero_division` parameter to control this behavior.\n",
            "  _warn_prf(average, modifier, msg_start, len(result))\n",
            "/usr/local/lib/python3.8/dist-packages/sklearn/metrics/_classification.py:1318: UndefinedMetricWarning: Precision and F-score are ill-defined and being set to 0.0 in labels with no predicted samples. Use `zero_division` parameter to control this behavior.\n",
            "  _warn_prf(average, modifier, msg_start, len(result))\n"
          ]
        },
        {
          "output_type": "stream",
          "name": "stdout",
          "text": [
            "63/63 [==============================] - 0s 2ms/step\n",
            "comm_round: 77 | global_acc: 67.149% | global_loss: 1.6037073135375977\n",
            "63/63 [==============================] - 0s 2ms/step\n"
          ]
        },
        {
          "output_type": "stream",
          "name": "stderr",
          "text": [
            "/usr/local/lib/python3.8/dist-packages/sklearn/metrics/_classification.py:1318: UndefinedMetricWarning: Precision and F-score are ill-defined and being set to 0.0 in labels with no predicted samples. Use `zero_division` parameter to control this behavior.\n",
            "  _warn_prf(average, modifier, msg_start, len(result))\n",
            "/usr/local/lib/python3.8/dist-packages/sklearn/metrics/_classification.py:1318: UndefinedMetricWarning: Precision and F-score are ill-defined and being set to 0.0 in labels with no predicted samples. Use `zero_division` parameter to control this behavior.\n",
            "  _warn_prf(average, modifier, msg_start, len(result))\n",
            "/usr/local/lib/python3.8/dist-packages/sklearn/metrics/_classification.py:1318: UndefinedMetricWarning: Precision and F-score are ill-defined and being set to 0.0 in labels with no predicted samples. Use `zero_division` parameter to control this behavior.\n",
            "  _warn_prf(average, modifier, msg_start, len(result))\n"
          ]
        },
        {
          "output_type": "stream",
          "name": "stdout",
          "text": [
            "63/63 [==============================] - 0s 2ms/step\n",
            "comm_round: 78 | global_acc: 66.900% | global_loss: 1.5873627662658691\n",
            "63/63 [==============================] - 0s 2ms/step\n"
          ]
        },
        {
          "output_type": "stream",
          "name": "stderr",
          "text": [
            "/usr/local/lib/python3.8/dist-packages/sklearn/metrics/_classification.py:1318: UndefinedMetricWarning: Precision and F-score are ill-defined and being set to 0.0 in labels with no predicted samples. Use `zero_division` parameter to control this behavior.\n",
            "  _warn_prf(average, modifier, msg_start, len(result))\n",
            "/usr/local/lib/python3.8/dist-packages/sklearn/metrics/_classification.py:1318: UndefinedMetricWarning: Precision and F-score are ill-defined and being set to 0.0 in labels with no predicted samples. Use `zero_division` parameter to control this behavior.\n",
            "  _warn_prf(average, modifier, msg_start, len(result))\n",
            "/usr/local/lib/python3.8/dist-packages/sklearn/metrics/_classification.py:1318: UndefinedMetricWarning: Precision and F-score are ill-defined and being set to 0.0 in labels with no predicted samples. Use `zero_division` parameter to control this behavior.\n",
            "  _warn_prf(average, modifier, msg_start, len(result))\n"
          ]
        },
        {
          "output_type": "stream",
          "name": "stdout",
          "text": [
            "63/63 [==============================] - 0s 2ms/step\n",
            "comm_round: 79 | global_acc: 67.099% | global_loss: 1.6055010557174683\n",
            "63/63 [==============================] - 0s 2ms/step\n"
          ]
        },
        {
          "output_type": "stream",
          "name": "stderr",
          "text": [
            "/usr/local/lib/python3.8/dist-packages/sklearn/metrics/_classification.py:1318: UndefinedMetricWarning: Precision and F-score are ill-defined and being set to 0.0 in labels with no predicted samples. Use `zero_division` parameter to control this behavior.\n",
            "  _warn_prf(average, modifier, msg_start, len(result))\n",
            "/usr/local/lib/python3.8/dist-packages/sklearn/metrics/_classification.py:1318: UndefinedMetricWarning: Precision and F-score are ill-defined and being set to 0.0 in labels with no predicted samples. Use `zero_division` parameter to control this behavior.\n",
            "  _warn_prf(average, modifier, msg_start, len(result))\n",
            "/usr/local/lib/python3.8/dist-packages/sklearn/metrics/_classification.py:1318: UndefinedMetricWarning: Precision and F-score are ill-defined and being set to 0.0 in labels with no predicted samples. Use `zero_division` parameter to control this behavior.\n",
            "  _warn_prf(average, modifier, msg_start, len(result))\n"
          ]
        },
        {
          "output_type": "stream",
          "name": "stdout",
          "text": [
            "63/63 [==============================] - 0s 2ms/step\n",
            "comm_round: 80 | global_acc: 67.199% | global_loss: 1.5965348482131958\n",
            "63/63 [==============================] - 0s 2ms/step\n"
          ]
        },
        {
          "output_type": "stream",
          "name": "stderr",
          "text": [
            "/usr/local/lib/python3.8/dist-packages/sklearn/metrics/_classification.py:1318: UndefinedMetricWarning: Precision and F-score are ill-defined and being set to 0.0 in labels with no predicted samples. Use `zero_division` parameter to control this behavior.\n",
            "  _warn_prf(average, modifier, msg_start, len(result))\n",
            "/usr/local/lib/python3.8/dist-packages/sklearn/metrics/_classification.py:1318: UndefinedMetricWarning: Precision and F-score are ill-defined and being set to 0.0 in labels with no predicted samples. Use `zero_division` parameter to control this behavior.\n",
            "  _warn_prf(average, modifier, msg_start, len(result))\n",
            "/usr/local/lib/python3.8/dist-packages/sklearn/metrics/_classification.py:1318: UndefinedMetricWarning: Precision and F-score are ill-defined and being set to 0.0 in labels with no predicted samples. Use `zero_division` parameter to control this behavior.\n",
            "  _warn_prf(average, modifier, msg_start, len(result))\n"
          ]
        },
        {
          "output_type": "stream",
          "name": "stdout",
          "text": [
            "63/63 [==============================] - 0s 2ms/step\n",
            "comm_round: 81 | global_acc: 67.299% | global_loss: 1.6092232465744019\n",
            "63/63 [==============================] - 0s 2ms/step\n"
          ]
        },
        {
          "output_type": "stream",
          "name": "stderr",
          "text": [
            "/usr/local/lib/python3.8/dist-packages/sklearn/metrics/_classification.py:1318: UndefinedMetricWarning: Precision and F-score are ill-defined and being set to 0.0 in labels with no predicted samples. Use `zero_division` parameter to control this behavior.\n",
            "  _warn_prf(average, modifier, msg_start, len(result))\n",
            "/usr/local/lib/python3.8/dist-packages/sklearn/metrics/_classification.py:1318: UndefinedMetricWarning: Precision and F-score are ill-defined and being set to 0.0 in labels with no predicted samples. Use `zero_division` parameter to control this behavior.\n",
            "  _warn_prf(average, modifier, msg_start, len(result))\n",
            "/usr/local/lib/python3.8/dist-packages/sklearn/metrics/_classification.py:1318: UndefinedMetricWarning: Precision and F-score are ill-defined and being set to 0.0 in labels with no predicted samples. Use `zero_division` parameter to control this behavior.\n",
            "  _warn_prf(average, modifier, msg_start, len(result))\n"
          ]
        },
        {
          "output_type": "stream",
          "name": "stdout",
          "text": [
            "63/63 [==============================] - 0s 3ms/step\n",
            "comm_round: 82 | global_acc: 66.850% | global_loss: 1.5796611309051514\n",
            "63/63 [==============================] - 0s 3ms/step\n"
          ]
        },
        {
          "output_type": "stream",
          "name": "stderr",
          "text": [
            "/usr/local/lib/python3.8/dist-packages/sklearn/metrics/_classification.py:1318: UndefinedMetricWarning: Precision and F-score are ill-defined and being set to 0.0 in labels with no predicted samples. Use `zero_division` parameter to control this behavior.\n",
            "  _warn_prf(average, modifier, msg_start, len(result))\n",
            "/usr/local/lib/python3.8/dist-packages/sklearn/metrics/_classification.py:1318: UndefinedMetricWarning: Precision and F-score are ill-defined and being set to 0.0 in labels with no predicted samples. Use `zero_division` parameter to control this behavior.\n",
            "  _warn_prf(average, modifier, msg_start, len(result))\n",
            "/usr/local/lib/python3.8/dist-packages/sklearn/metrics/_classification.py:1318: UndefinedMetricWarning: Precision and F-score are ill-defined and being set to 0.0 in labels with no predicted samples. Use `zero_division` parameter to control this behavior.\n",
            "  _warn_prf(average, modifier, msg_start, len(result))\n"
          ]
        },
        {
          "output_type": "stream",
          "name": "stdout",
          "text": [
            "63/63 [==============================] - 0s 2ms/step\n",
            "comm_round: 83 | global_acc: 66.850% | global_loss: 1.5824381113052368\n",
            "63/63 [==============================] - 0s 2ms/step\n"
          ]
        },
        {
          "output_type": "stream",
          "name": "stderr",
          "text": [
            "/usr/local/lib/python3.8/dist-packages/sklearn/metrics/_classification.py:1318: UndefinedMetricWarning: Precision and F-score are ill-defined and being set to 0.0 in labels with no predicted samples. Use `zero_division` parameter to control this behavior.\n",
            "  _warn_prf(average, modifier, msg_start, len(result))\n",
            "/usr/local/lib/python3.8/dist-packages/sklearn/metrics/_classification.py:1318: UndefinedMetricWarning: Precision and F-score are ill-defined and being set to 0.0 in labels with no predicted samples. Use `zero_division` parameter to control this behavior.\n",
            "  _warn_prf(average, modifier, msg_start, len(result))\n",
            "/usr/local/lib/python3.8/dist-packages/sklearn/metrics/_classification.py:1318: UndefinedMetricWarning: Precision and F-score are ill-defined and being set to 0.0 in labels with no predicted samples. Use `zero_division` parameter to control this behavior.\n",
            "  _warn_prf(average, modifier, msg_start, len(result))\n"
          ]
        },
        {
          "output_type": "stream",
          "name": "stdout",
          "text": [
            "63/63 [==============================] - 0s 2ms/step\n",
            "comm_round: 84 | global_acc: 66.800% | global_loss: 1.5800069570541382\n",
            "63/63 [==============================] - 0s 2ms/step\n"
          ]
        },
        {
          "output_type": "stream",
          "name": "stderr",
          "text": [
            "/usr/local/lib/python3.8/dist-packages/sklearn/metrics/_classification.py:1318: UndefinedMetricWarning: Precision and F-score are ill-defined and being set to 0.0 in labels with no predicted samples. Use `zero_division` parameter to control this behavior.\n",
            "  _warn_prf(average, modifier, msg_start, len(result))\n",
            "/usr/local/lib/python3.8/dist-packages/sklearn/metrics/_classification.py:1318: UndefinedMetricWarning: Precision and F-score are ill-defined and being set to 0.0 in labels with no predicted samples. Use `zero_division` parameter to control this behavior.\n",
            "  _warn_prf(average, modifier, msg_start, len(result))\n",
            "/usr/local/lib/python3.8/dist-packages/sklearn/metrics/_classification.py:1318: UndefinedMetricWarning: Precision and F-score are ill-defined and being set to 0.0 in labels with no predicted samples. Use `zero_division` parameter to control this behavior.\n",
            "  _warn_prf(average, modifier, msg_start, len(result))\n"
          ]
        },
        {
          "output_type": "stream",
          "name": "stdout",
          "text": [
            "63/63 [==============================] - 0s 2ms/step\n",
            "comm_round: 85 | global_acc: 66.800% | global_loss: 1.5796501636505127\n",
            "63/63 [==============================] - 0s 2ms/step\n"
          ]
        },
        {
          "output_type": "stream",
          "name": "stderr",
          "text": [
            "/usr/local/lib/python3.8/dist-packages/sklearn/metrics/_classification.py:1318: UndefinedMetricWarning: Precision and F-score are ill-defined and being set to 0.0 in labels with no predicted samples. Use `zero_division` parameter to control this behavior.\n",
            "  _warn_prf(average, modifier, msg_start, len(result))\n",
            "/usr/local/lib/python3.8/dist-packages/sklearn/metrics/_classification.py:1318: UndefinedMetricWarning: Precision and F-score are ill-defined and being set to 0.0 in labels with no predicted samples. Use `zero_division` parameter to control this behavior.\n",
            "  _warn_prf(average, modifier, msg_start, len(result))\n",
            "/usr/local/lib/python3.8/dist-packages/sklearn/metrics/_classification.py:1318: UndefinedMetricWarning: Precision and F-score are ill-defined and being set to 0.0 in labels with no predicted samples. Use `zero_division` parameter to control this behavior.\n",
            "  _warn_prf(average, modifier, msg_start, len(result))\n"
          ]
        },
        {
          "output_type": "stream",
          "name": "stdout",
          "text": [
            "63/63 [==============================] - 0s 2ms/step\n",
            "comm_round: 86 | global_acc: 67.000% | global_loss: 1.5807909965515137\n",
            "63/63 [==============================] - 0s 2ms/step\n"
          ]
        },
        {
          "output_type": "stream",
          "name": "stderr",
          "text": [
            "/usr/local/lib/python3.8/dist-packages/sklearn/metrics/_classification.py:1318: UndefinedMetricWarning: Precision and F-score are ill-defined and being set to 0.0 in labels with no predicted samples. Use `zero_division` parameter to control this behavior.\n",
            "  _warn_prf(average, modifier, msg_start, len(result))\n",
            "/usr/local/lib/python3.8/dist-packages/sklearn/metrics/_classification.py:1318: UndefinedMetricWarning: Precision and F-score are ill-defined and being set to 0.0 in labels with no predicted samples. Use `zero_division` parameter to control this behavior.\n",
            "  _warn_prf(average, modifier, msg_start, len(result))\n",
            "/usr/local/lib/python3.8/dist-packages/sklearn/metrics/_classification.py:1318: UndefinedMetricWarning: Precision and F-score are ill-defined and being set to 0.0 in labels with no predicted samples. Use `zero_division` parameter to control this behavior.\n",
            "  _warn_prf(average, modifier, msg_start, len(result))\n"
          ]
        },
        {
          "output_type": "stream",
          "name": "stdout",
          "text": [
            "63/63 [==============================] - 0s 2ms/step\n",
            "comm_round: 87 | global_acc: 66.850% | global_loss: 1.5885957479476929\n",
            "63/63 [==============================] - 0s 2ms/step\n"
          ]
        },
        {
          "output_type": "stream",
          "name": "stderr",
          "text": [
            "/usr/local/lib/python3.8/dist-packages/sklearn/metrics/_classification.py:1318: UndefinedMetricWarning: Precision and F-score are ill-defined and being set to 0.0 in labels with no predicted samples. Use `zero_division` parameter to control this behavior.\n",
            "  _warn_prf(average, modifier, msg_start, len(result))\n",
            "/usr/local/lib/python3.8/dist-packages/sklearn/metrics/_classification.py:1318: UndefinedMetricWarning: Precision and F-score are ill-defined and being set to 0.0 in labels with no predicted samples. Use `zero_division` parameter to control this behavior.\n",
            "  _warn_prf(average, modifier, msg_start, len(result))\n",
            "/usr/local/lib/python3.8/dist-packages/sklearn/metrics/_classification.py:1318: UndefinedMetricWarning: Precision and F-score are ill-defined and being set to 0.0 in labels with no predicted samples. Use `zero_division` parameter to control this behavior.\n",
            "  _warn_prf(average, modifier, msg_start, len(result))\n"
          ]
        },
        {
          "output_type": "stream",
          "name": "stdout",
          "text": [
            "63/63 [==============================] - 0s 2ms/step\n",
            "comm_round: 88 | global_acc: 67.199% | global_loss: 1.594296932220459\n",
            "63/63 [==============================] - 0s 2ms/step\n"
          ]
        },
        {
          "output_type": "stream",
          "name": "stderr",
          "text": [
            "/usr/local/lib/python3.8/dist-packages/sklearn/metrics/_classification.py:1318: UndefinedMetricWarning: Precision and F-score are ill-defined and being set to 0.0 in labels with no predicted samples. Use `zero_division` parameter to control this behavior.\n",
            "  _warn_prf(average, modifier, msg_start, len(result))\n",
            "/usr/local/lib/python3.8/dist-packages/sklearn/metrics/_classification.py:1318: UndefinedMetricWarning: Precision and F-score are ill-defined and being set to 0.0 in labels with no predicted samples. Use `zero_division` parameter to control this behavior.\n",
            "  _warn_prf(average, modifier, msg_start, len(result))\n",
            "/usr/local/lib/python3.8/dist-packages/sklearn/metrics/_classification.py:1318: UndefinedMetricWarning: Precision and F-score are ill-defined and being set to 0.0 in labels with no predicted samples. Use `zero_division` parameter to control this behavior.\n",
            "  _warn_prf(average, modifier, msg_start, len(result))\n"
          ]
        },
        {
          "output_type": "stream",
          "name": "stdout",
          "text": [
            "63/63 [==============================] - 0s 2ms/step\n",
            "comm_round: 89 | global_acc: 67.149% | global_loss: 1.5947134494781494\n",
            "63/63 [==============================] - 0s 2ms/step\n"
          ]
        },
        {
          "output_type": "stream",
          "name": "stderr",
          "text": [
            "/usr/local/lib/python3.8/dist-packages/sklearn/metrics/_classification.py:1318: UndefinedMetricWarning: Precision and F-score are ill-defined and being set to 0.0 in labels with no predicted samples. Use `zero_division` parameter to control this behavior.\n",
            "  _warn_prf(average, modifier, msg_start, len(result))\n",
            "/usr/local/lib/python3.8/dist-packages/sklearn/metrics/_classification.py:1318: UndefinedMetricWarning: Precision and F-score are ill-defined and being set to 0.0 in labels with no predicted samples. Use `zero_division` parameter to control this behavior.\n",
            "  _warn_prf(average, modifier, msg_start, len(result))\n",
            "/usr/local/lib/python3.8/dist-packages/sklearn/metrics/_classification.py:1318: UndefinedMetricWarning: Precision and F-score are ill-defined and being set to 0.0 in labels with no predicted samples. Use `zero_division` parameter to control this behavior.\n",
            "  _warn_prf(average, modifier, msg_start, len(result))\n"
          ]
        },
        {
          "output_type": "stream",
          "name": "stdout",
          "text": [
            "63/63 [==============================] - 0s 2ms/step\n",
            "comm_round: 90 | global_acc: 67.149% | global_loss: 1.5918693542480469\n",
            "63/63 [==============================] - 0s 2ms/step\n"
          ]
        },
        {
          "output_type": "stream",
          "name": "stderr",
          "text": [
            "/usr/local/lib/python3.8/dist-packages/sklearn/metrics/_classification.py:1318: UndefinedMetricWarning: Precision and F-score are ill-defined and being set to 0.0 in labels with no predicted samples. Use `zero_division` parameter to control this behavior.\n",
            "  _warn_prf(average, modifier, msg_start, len(result))\n",
            "/usr/local/lib/python3.8/dist-packages/sklearn/metrics/_classification.py:1318: UndefinedMetricWarning: Precision and F-score are ill-defined and being set to 0.0 in labels with no predicted samples. Use `zero_division` parameter to control this behavior.\n",
            "  _warn_prf(average, modifier, msg_start, len(result))\n",
            "/usr/local/lib/python3.8/dist-packages/sklearn/metrics/_classification.py:1318: UndefinedMetricWarning: Precision and F-score are ill-defined and being set to 0.0 in labels with no predicted samples. Use `zero_division` parameter to control this behavior.\n",
            "  _warn_prf(average, modifier, msg_start, len(result))\n"
          ]
        },
        {
          "output_type": "stream",
          "name": "stdout",
          "text": [
            "63/63 [==============================] - 0s 2ms/step\n",
            "comm_round: 91 | global_acc: 67.199% | global_loss: 1.605787992477417\n",
            "63/63 [==============================] - 0s 2ms/step\n"
          ]
        },
        {
          "output_type": "stream",
          "name": "stderr",
          "text": [
            "/usr/local/lib/python3.8/dist-packages/sklearn/metrics/_classification.py:1318: UndefinedMetricWarning: Precision and F-score are ill-defined and being set to 0.0 in labels with no predicted samples. Use `zero_division` parameter to control this behavior.\n",
            "  _warn_prf(average, modifier, msg_start, len(result))\n",
            "/usr/local/lib/python3.8/dist-packages/sklearn/metrics/_classification.py:1318: UndefinedMetricWarning: Precision and F-score are ill-defined and being set to 0.0 in labels with no predicted samples. Use `zero_division` parameter to control this behavior.\n",
            "  _warn_prf(average, modifier, msg_start, len(result))\n",
            "/usr/local/lib/python3.8/dist-packages/sklearn/metrics/_classification.py:1318: UndefinedMetricWarning: Precision and F-score are ill-defined and being set to 0.0 in labels with no predicted samples. Use `zero_division` parameter to control this behavior.\n",
            "  _warn_prf(average, modifier, msg_start, len(result))\n"
          ]
        },
        {
          "output_type": "stream",
          "name": "stdout",
          "text": [
            "63/63 [==============================] - 0s 2ms/step\n",
            "comm_round: 92 | global_acc: 67.149% | global_loss: 1.5915873050689697\n",
            "63/63 [==============================] - 0s 3ms/step\n"
          ]
        },
        {
          "output_type": "stream",
          "name": "stderr",
          "text": [
            "/usr/local/lib/python3.8/dist-packages/sklearn/metrics/_classification.py:1318: UndefinedMetricWarning: Precision and F-score are ill-defined and being set to 0.0 in labels with no predicted samples. Use `zero_division` parameter to control this behavior.\n",
            "  _warn_prf(average, modifier, msg_start, len(result))\n",
            "/usr/local/lib/python3.8/dist-packages/sklearn/metrics/_classification.py:1318: UndefinedMetricWarning: Precision and F-score are ill-defined and being set to 0.0 in labels with no predicted samples. Use `zero_division` parameter to control this behavior.\n",
            "  _warn_prf(average, modifier, msg_start, len(result))\n",
            "/usr/local/lib/python3.8/dist-packages/sklearn/metrics/_classification.py:1318: UndefinedMetricWarning: Precision and F-score are ill-defined and being set to 0.0 in labels with no predicted samples. Use `zero_division` parameter to control this behavior.\n",
            "  _warn_prf(average, modifier, msg_start, len(result))\n"
          ]
        },
        {
          "output_type": "stream",
          "name": "stdout",
          "text": [
            "63/63 [==============================] - 0s 2ms/step\n",
            "comm_round: 93 | global_acc: 66.850% | global_loss: 1.5794724225997925\n",
            "63/63 [==============================] - 0s 3ms/step\n"
          ]
        },
        {
          "output_type": "stream",
          "name": "stderr",
          "text": [
            "/usr/local/lib/python3.8/dist-packages/sklearn/metrics/_classification.py:1318: UndefinedMetricWarning: Precision and F-score are ill-defined and being set to 0.0 in labels with no predicted samples. Use `zero_division` parameter to control this behavior.\n",
            "  _warn_prf(average, modifier, msg_start, len(result))\n",
            "/usr/local/lib/python3.8/dist-packages/sklearn/metrics/_classification.py:1318: UndefinedMetricWarning: Precision and F-score are ill-defined and being set to 0.0 in labels with no predicted samples. Use `zero_division` parameter to control this behavior.\n",
            "  _warn_prf(average, modifier, msg_start, len(result))\n",
            "/usr/local/lib/python3.8/dist-packages/sklearn/metrics/_classification.py:1318: UndefinedMetricWarning: Precision and F-score are ill-defined and being set to 0.0 in labels with no predicted samples. Use `zero_division` parameter to control this behavior.\n",
            "  _warn_prf(average, modifier, msg_start, len(result))\n"
          ]
        },
        {
          "output_type": "stream",
          "name": "stdout",
          "text": [
            "63/63 [==============================] - 0s 2ms/step\n",
            "comm_round: 94 | global_acc: 67.049% | global_loss: 1.5993667840957642\n",
            "63/63 [==============================] - 0s 2ms/step\n"
          ]
        },
        {
          "output_type": "stream",
          "name": "stderr",
          "text": [
            "/usr/local/lib/python3.8/dist-packages/sklearn/metrics/_classification.py:1318: UndefinedMetricWarning: Precision and F-score are ill-defined and being set to 0.0 in labels with no predicted samples. Use `zero_division` parameter to control this behavior.\n",
            "  _warn_prf(average, modifier, msg_start, len(result))\n",
            "/usr/local/lib/python3.8/dist-packages/sklearn/metrics/_classification.py:1318: UndefinedMetricWarning: Precision and F-score are ill-defined and being set to 0.0 in labels with no predicted samples. Use `zero_division` parameter to control this behavior.\n",
            "  _warn_prf(average, modifier, msg_start, len(result))\n",
            "/usr/local/lib/python3.8/dist-packages/sklearn/metrics/_classification.py:1318: UndefinedMetricWarning: Precision and F-score are ill-defined and being set to 0.0 in labels with no predicted samples. Use `zero_division` parameter to control this behavior.\n",
            "  _warn_prf(average, modifier, msg_start, len(result))\n"
          ]
        },
        {
          "output_type": "stream",
          "name": "stdout",
          "text": [
            "63/63 [==============================] - 0s 2ms/step\n",
            "comm_round: 95 | global_acc: 67.199% | global_loss: 1.5908466577529907\n",
            "63/63 [==============================] - 0s 3ms/step\n"
          ]
        },
        {
          "output_type": "stream",
          "name": "stderr",
          "text": [
            "/usr/local/lib/python3.8/dist-packages/sklearn/metrics/_classification.py:1318: UndefinedMetricWarning: Precision and F-score are ill-defined and being set to 0.0 in labels with no predicted samples. Use `zero_division` parameter to control this behavior.\n",
            "  _warn_prf(average, modifier, msg_start, len(result))\n",
            "/usr/local/lib/python3.8/dist-packages/sklearn/metrics/_classification.py:1318: UndefinedMetricWarning: Precision and F-score are ill-defined and being set to 0.0 in labels with no predicted samples. Use `zero_division` parameter to control this behavior.\n",
            "  _warn_prf(average, modifier, msg_start, len(result))\n",
            "/usr/local/lib/python3.8/dist-packages/sklearn/metrics/_classification.py:1318: UndefinedMetricWarning: Precision and F-score are ill-defined and being set to 0.0 in labels with no predicted samples. Use `zero_division` parameter to control this behavior.\n",
            "  _warn_prf(average, modifier, msg_start, len(result))\n"
          ]
        },
        {
          "output_type": "stream",
          "name": "stdout",
          "text": [
            "63/63 [==============================] - 0s 2ms/step\n",
            "comm_round: 96 | global_acc: 67.000% | global_loss: 1.5764269828796387\n",
            "63/63 [==============================] - 0s 2ms/step\n"
          ]
        },
        {
          "output_type": "stream",
          "name": "stderr",
          "text": [
            "/usr/local/lib/python3.8/dist-packages/sklearn/metrics/_classification.py:1318: UndefinedMetricWarning: Precision and F-score are ill-defined and being set to 0.0 in labels with no predicted samples. Use `zero_division` parameter to control this behavior.\n",
            "  _warn_prf(average, modifier, msg_start, len(result))\n",
            "/usr/local/lib/python3.8/dist-packages/sklearn/metrics/_classification.py:1318: UndefinedMetricWarning: Precision and F-score are ill-defined and being set to 0.0 in labels with no predicted samples. Use `zero_division` parameter to control this behavior.\n",
            "  _warn_prf(average, modifier, msg_start, len(result))\n",
            "/usr/local/lib/python3.8/dist-packages/sklearn/metrics/_classification.py:1318: UndefinedMetricWarning: Precision and F-score are ill-defined and being set to 0.0 in labels with no predicted samples. Use `zero_division` parameter to control this behavior.\n",
            "  _warn_prf(average, modifier, msg_start, len(result))\n"
          ]
        },
        {
          "output_type": "stream",
          "name": "stdout",
          "text": [
            "63/63 [==============================] - 0s 2ms/step\n",
            "comm_round: 97 | global_acc: 67.000% | global_loss: 1.585667610168457\n",
            "63/63 [==============================] - 0s 2ms/step\n"
          ]
        },
        {
          "output_type": "stream",
          "name": "stderr",
          "text": [
            "/usr/local/lib/python3.8/dist-packages/sklearn/metrics/_classification.py:1318: UndefinedMetricWarning: Precision and F-score are ill-defined and being set to 0.0 in labels with no predicted samples. Use `zero_division` parameter to control this behavior.\n",
            "  _warn_prf(average, modifier, msg_start, len(result))\n",
            "/usr/local/lib/python3.8/dist-packages/sklearn/metrics/_classification.py:1318: UndefinedMetricWarning: Precision and F-score are ill-defined and being set to 0.0 in labels with no predicted samples. Use `zero_division` parameter to control this behavior.\n",
            "  _warn_prf(average, modifier, msg_start, len(result))\n",
            "/usr/local/lib/python3.8/dist-packages/sklearn/metrics/_classification.py:1318: UndefinedMetricWarning: Precision and F-score are ill-defined and being set to 0.0 in labels with no predicted samples. Use `zero_division` parameter to control this behavior.\n",
            "  _warn_prf(average, modifier, msg_start, len(result))\n"
          ]
        },
        {
          "output_type": "stream",
          "name": "stdout",
          "text": [
            "63/63 [==============================] - 0s 2ms/step\n",
            "comm_round: 98 | global_acc: 67.149% | global_loss: 1.605159044265747\n",
            "63/63 [==============================] - 0s 3ms/step\n"
          ]
        },
        {
          "output_type": "stream",
          "name": "stderr",
          "text": [
            "/usr/local/lib/python3.8/dist-packages/sklearn/metrics/_classification.py:1318: UndefinedMetricWarning: Precision and F-score are ill-defined and being set to 0.0 in labels with no predicted samples. Use `zero_division` parameter to control this behavior.\n",
            "  _warn_prf(average, modifier, msg_start, len(result))\n",
            "/usr/local/lib/python3.8/dist-packages/sklearn/metrics/_classification.py:1318: UndefinedMetricWarning: Precision and F-score are ill-defined and being set to 0.0 in labels with no predicted samples. Use `zero_division` parameter to control this behavior.\n",
            "  _warn_prf(average, modifier, msg_start, len(result))\n",
            "/usr/local/lib/python3.8/dist-packages/sklearn/metrics/_classification.py:1318: UndefinedMetricWarning: Precision and F-score are ill-defined and being set to 0.0 in labels with no predicted samples. Use `zero_division` parameter to control this behavior.\n",
            "  _warn_prf(average, modifier, msg_start, len(result))\n"
          ]
        },
        {
          "output_type": "stream",
          "name": "stdout",
          "text": [
            "63/63 [==============================] - 0s 2ms/step\n",
            "comm_round: 99 | global_acc: 67.199% | global_loss: 1.5937548875808716\n",
            "63/63 [==============================] - 0s 2ms/step\n",
            "[[   0    2    8    0   51    0    0]\n",
            " [   0    0    2    0   93    0    1]\n",
            " [   0    1   13    0  209    0    5]\n",
            " [   0    0    6    0   31    0    0]\n",
            " [   0    1    5    0 1315    0    6]\n",
            " [   0    0    1    0   30    0    1]\n",
            " [   0    0    7    0  197    0   18]]\n",
            "              precision    recall  f1-score   support\n",
            "\n",
            "           0       0.00      0.00      0.00        61\n",
            "           1       0.00      0.00      0.00        96\n",
            "           2       0.31      0.06      0.10       228\n",
            "           3       0.00      0.00      0.00        37\n",
            "           4       0.68      0.99      0.81      1327\n",
            "           5       0.00      0.00      0.00        32\n",
            "           6       0.58      0.08      0.14       222\n",
            "\n",
            "    accuracy                           0.67      2003\n",
            "   macro avg       0.22      0.16      0.15      2003\n",
            "weighted avg       0.55      0.67      0.56      2003\n",
            "\n"
          ]
        },
        {
          "output_type": "stream",
          "name": "stderr",
          "text": [
            "/usr/local/lib/python3.8/dist-packages/sklearn/metrics/_classification.py:1318: UndefinedMetricWarning: Precision and F-score are ill-defined and being set to 0.0 in labels with no predicted samples. Use `zero_division` parameter to control this behavior.\n",
            "  _warn_prf(average, modifier, msg_start, len(result))\n",
            "/usr/local/lib/python3.8/dist-packages/sklearn/metrics/_classification.py:1318: UndefinedMetricWarning: Precision and F-score are ill-defined and being set to 0.0 in labels with no predicted samples. Use `zero_division` parameter to control this behavior.\n",
            "  _warn_prf(average, modifier, msg_start, len(result))\n",
            "/usr/local/lib/python3.8/dist-packages/sklearn/metrics/_classification.py:1318: UndefinedMetricWarning: Precision and F-score are ill-defined and being set to 0.0 in labels with no predicted samples. Use `zero_division` parameter to control this behavior.\n",
            "  _warn_prf(average, modifier, msg_start, len(result))\n"
          ]
        }
      ],
      "source": [
        "fl_model(clients_batched, test_batched, comms_round, loss, optimizer, metrics)"
      ]
    },
    {
      "cell_type": "code",
      "execution_count": null,
      "metadata": {
        "colab": {
          "base_uri": "https://localhost:8080/"
        },
        "id": "6R-f4y198-bM",
        "outputId": "2ab19bf2-8c5f-46eb-f64b-c0a4661e596d"
      },
      "outputs": [
        {
          "output_type": "stream",
          "name": "stdout",
          "text": [
            "63/63 [==============================] - 0s 2ms/step\n",
            "comm_round: 1 | global_acc: 66.950% | global_loss: 1.5530188083648682\n",
            "63/63 [==============================] - 0s 2ms/step\n",
            "[[   0    0    5    0   56    0    0]\n",
            " [   0    0    1    0   94    0    1]\n",
            " [   0    0    5    0  217    0    6]\n",
            " [   0    0    4    0   33    0    0]\n",
            " [   0    0    4    0 1318    0    5]\n",
            " [   0    0    1    0   30    0    1]\n",
            " [   0    0    2    0  202    0   18]]\n",
            "              precision    recall  f1-score   support\n",
            "\n",
            "           0       0.00      0.00      0.00        61\n",
            "           1       0.00      0.00      0.00        96\n",
            "           2       0.23      0.02      0.04       228\n",
            "           3       0.00      0.00      0.00        37\n",
            "           4       0.68      0.99      0.80      1327\n",
            "           5       0.00      0.00      0.00        32\n",
            "           6       0.58      0.08      0.14       222\n",
            "\n",
            "    accuracy                           0.67      2003\n",
            "   macro avg       0.21      0.16      0.14      2003\n",
            "weighted avg       0.54      0.67      0.55      2003\n",
            "\n"
          ]
        },
        {
          "output_type": "stream",
          "name": "stderr",
          "text": [
            "/usr/local/lib/python3.8/dist-packages/sklearn/metrics/_classification.py:1318: UndefinedMetricWarning: Precision and F-score are ill-defined and being set to 0.0 in labels with no predicted samples. Use `zero_division` parameter to control this behavior.\n",
            "  _warn_prf(average, modifier, msg_start, len(result))\n",
            "/usr/local/lib/python3.8/dist-packages/sklearn/metrics/_classification.py:1318: UndefinedMetricWarning: Precision and F-score are ill-defined and being set to 0.0 in labels with no predicted samples. Use `zero_division` parameter to control this behavior.\n",
            "  _warn_prf(average, modifier, msg_start, len(result))\n",
            "/usr/local/lib/python3.8/dist-packages/sklearn/metrics/_classification.py:1318: UndefinedMetricWarning: Precision and F-score are ill-defined and being set to 0.0 in labels with no predicted samples. Use `zero_division` parameter to control this behavior.\n",
            "  _warn_prf(average, modifier, msg_start, len(result))\n"
          ]
        }
      ],
      "source": [
        "SGD_dataset = tf.data.Dataset.from_tensor_slices((X_train, Y_train)).shuffle(len(Y_train)).batch(320)\n",
        "smlp_SGD = SimpleMLP()\n",
        "SGD_model = smlp_SGD.build(784, 7) \n",
        "\n",
        "SGD_model.compile(loss=loss, \n",
        "              optimizer=optimizer, \n",
        "              metrics=metrics)\n",
        "\n",
        "# fit the SGD training data to model\n",
        "_ = SGD_model.fit(SGD_dataset, epochs=100, verbose=0)\n",
        "\n",
        "#test the SGD global model and print out metrics\n",
        "for(X_test, Y_test) in test_batched:\n",
        "        SGD_acc, SGD_loss = test_model(X_test, Y_test, SGD_model, 1)\n",
        "\n",
        "        # Make predictions on the test set\n",
        "        y_pred = SGD_model.predict(X_test)\n",
        "        y_pred = np.argmax(y_pred, axis=1)\n",
        "            \n",
        "        # Get the true classes\n",
        "        true_classes = np.argmax(Y_test, axis = 1)\n",
        "      \n",
        "        # Print the classification report and the confusion matrix\n",
        "        report = classification_report(true_classes, y_pred)\n",
        "        from sklearn.metrics import confusion_matrix\n",
        "        confusion_matrix = confusion_matrix(true_classes, y_pred)\n",
        "        print(confusion_matrix)\n",
        "        plt.show()\n",
        "        print(report)"
      ]
    }
  ],
  "metadata": {
    "colab": {
      "provenance": []
    },
    "kernelspec": {
      "display_name": "Python 3 (ipykernel)",
      "language": "python",
      "name": "python3"
    },
    "language_info": {
      "codemirror_mode": {
        "name": "ipython",
        "version": 3
      },
      "file_extension": ".py",
      "mimetype": "text/x-python",
      "name": "python",
      "nbconvert_exporter": "python",
      "pygments_lexer": "ipython3",
      "version": "3.9.12"
    }
  },
  "nbformat": 4,
  "nbformat_minor": 0
}